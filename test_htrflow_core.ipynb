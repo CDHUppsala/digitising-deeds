{
 "cells": [
  {
   "cell_type": "code",
   "execution_count": 3,
   "id": "0933c87c-c3fe-4a49-8356-9425522f0de9",
   "metadata": {},
   "outputs": [
    {
     "name": "stdout",
     "output_type": "stream",
     "text": [
      "Collecting torch==2.0.1 (from -r requirements.txt (line 1))\n",
      "  Downloading torch-2.0.1-cp311-cp311-manylinux1_x86_64.whl.metadata (24 kB)\n",
      "Collecting torchvision==0.15.2 (from -r requirements.txt (line 2))\n",
      "  Downloading torchvision-0.15.2-cp311-cp311-manylinux1_x86_64.whl.metadata (11 kB)\n",
      "Collecting openmim==0.3.9 (from -r requirements.txt (line 3))\n",
      "  Using cached openmim-0.3.9-py2.py3-none-any.whl.metadata (16 kB)\n",
      "Collecting gradio==3.41.0 (from -r requirements.txt (line 4))\n",
      "  Using cached gradio-3.41.0-py3-none-any.whl.metadata (17 kB)\n",
      "Collecting pandas==2.0.3 (from -r requirements.txt (line 5))\n",
      "  Downloading pandas-2.0.3-cp311-cp311-manylinux_2_17_x86_64.manylinux2014_x86_64.whl.metadata (18 kB)\n",
      "Collecting numpy==1.25.0 (from -r requirements.txt (line 6))\n",
      "  Downloading numpy-1.25.0-cp311-cp311-manylinux_2_17_x86_64.manylinux2014_x86_64.whl.metadata (5.6 kB)\n",
      "Collecting opencv-python-headless==4.7.0.72 (from -r requirements.txt (line 7))\n",
      "  Downloading opencv_python_headless-4.7.0.72-cp37-abi3-manylinux_2_17_x86_64.manylinux2014_x86_64.whl.metadata (18 kB)\n",
      "Collecting Jinja2==3.1.2 (from -r requirements.txt (line 8))\n",
      "  Using cached Jinja2-3.1.2-py3-none-any.whl (133 kB)\n",
      "Collecting transformers==4.30.2 (from -r requirements.txt (line 9))\n",
      "  Downloading transformers-4.30.2-py3-none-any.whl.metadata (113 kB)\n",
      "\u001b[2K     \u001b[90m━━━━━━━━━━━━━━━━━━━━━━━━━━━━━━━━━━━━━━\u001b[0m \u001b[32m113.6/113.6 kB\u001b[0m \u001b[31m17.0 MB/s\u001b[0m eta \u001b[36m0:00:00\u001b[0m\n",
      "\u001b[?25hCollecting huggingface-hub==0.15.1 (from -r requirements.txt (line 10))\n",
      "  Downloading huggingface_hub-0.15.1-py3-none-any.whl.metadata (8.0 kB)\n",
      "Collecting datasets==2.14.5 (from -r requirements.txt (line 11))\n",
      "  Downloading datasets-2.14.5-py3-none-any.whl.metadata (19 kB)\n",
      "Requirement already satisfied: requests==2.31.0 in /home/sush/miniconda3/envs/htrflow/lib/python3.11/site-packages (from -r requirements.txt (line 12)) (2.31.0)\n",
      "Collecting apscheduler (from -r requirements.txt (line 13))\n",
      "  Downloading APScheduler-3.10.4-py3-none-any.whl.metadata (5.7 kB)\n",
      "Requirement already satisfied: pytz in /home/sush/miniconda3/envs/htrflow/lib/python3.11/site-packages (from -r requirements.txt (line 14)) (2023.3.post1)\n",
      "Collecting jiwer (from -r requirements.txt (line 15))\n",
      "  Downloading jiwer-3.0.3-py3-none-any.whl.metadata (2.6 kB)\n",
      "Collecting evaluate (from -r requirements.txt (line 16))\n",
      "  Downloading evaluate-0.4.1-py3-none-any.whl.metadata (9.4 kB)\n",
      "Collecting mmengine==0.7.4 (from -r requirements.txt (line 19))\n",
      "  Downloading mmengine-0.7.4-py3-none-any.whl.metadata (18 kB)\n",
      "Collecting mmcv==2.0.1 (from -r requirements.txt (line 20))\n",
      "  Using cached mmcv-2.0.1.tar.gz (469 kB)\n",
      "  Preparing metadata (setup.py) ... \u001b[?25ldone\n",
      "\u001b[?25hCollecting mmdet==3.0.0 (from -r requirements.txt (line 21))\n",
      "  Downloading mmdet-3.0.0-py3-none-any.whl.metadata (26 kB)\n",
      "Collecting mmocr==1.0.0 (from -r requirements.txt (line 22))\n",
      "  Downloading mmocr-1.0.0-py2.py3-none-any.whl.metadata (17 kB)\n",
      "Collecting filelock (from torch==2.0.1->-r requirements.txt (line 1))\n",
      "  Using cached filelock-3.13.1-py3-none-any.whl.metadata (2.8 kB)\n",
      "Requirement already satisfied: typing-extensions in /home/sush/miniconda3/envs/htrflow/lib/python3.11/site-packages (from torch==2.0.1->-r requirements.txt (line 1)) (4.9.0)\n",
      "Collecting sympy (from torch==2.0.1->-r requirements.txt (line 1))\n",
      "  Downloading sympy-1.12-py3-none-any.whl.metadata (12 kB)\n",
      "Collecting networkx (from torch==2.0.1->-r requirements.txt (line 1))\n",
      "  Using cached networkx-3.2.1-py3-none-any.whl.metadata (5.2 kB)\n",
      "Collecting nvidia-cuda-nvrtc-cu11==11.7.99 (from torch==2.0.1->-r requirements.txt (line 1))\n",
      "  Downloading nvidia_cuda_nvrtc_cu11-11.7.99-2-py3-none-manylinux1_x86_64.whl.metadata (1.5 kB)\n",
      "Collecting nvidia-cuda-runtime-cu11==11.7.99 (from torch==2.0.1->-r requirements.txt (line 1))\n",
      "  Using cached nvidia_cuda_runtime_cu11-11.7.99-py3-none-manylinux1_x86_64.whl (849 kB)\n",
      "Collecting nvidia-cuda-cupti-cu11==11.7.101 (from torch==2.0.1->-r requirements.txt (line 1))\n",
      "  Using cached nvidia_cuda_cupti_cu11-11.7.101-py3-none-manylinux1_x86_64.whl (11.8 MB)\n",
      "Collecting nvidia-cudnn-cu11==8.5.0.96 (from torch==2.0.1->-r requirements.txt (line 1))\n",
      "  Downloading nvidia_cudnn_cu11-8.5.0.96-2-py3-none-manylinux1_x86_64.whl.metadata (1.6 kB)\n",
      "Collecting nvidia-cublas-cu11==11.10.3.66 (from torch==2.0.1->-r requirements.txt (line 1))\n",
      "  Using cached nvidia_cublas_cu11-11.10.3.66-py3-none-manylinux1_x86_64.whl (317.1 MB)\n",
      "Collecting nvidia-cufft-cu11==10.9.0.58 (from torch==2.0.1->-r requirements.txt (line 1))\n",
      "  Downloading nvidia_cufft_cu11-10.9.0.58-py3-none-manylinux1_x86_64.whl.metadata (1.5 kB)\n",
      "Collecting nvidia-curand-cu11==10.2.10.91 (from torch==2.0.1->-r requirements.txt (line 1))\n",
      "  Using cached nvidia_curand_cu11-10.2.10.91-py3-none-manylinux1_x86_64.whl (54.6 MB)\n",
      "Collecting nvidia-cusolver-cu11==11.4.0.1 (from torch==2.0.1->-r requirements.txt (line 1))\n",
      "  Downloading nvidia_cusolver_cu11-11.4.0.1-2-py3-none-manylinux1_x86_64.whl.metadata (1.6 kB)\n",
      "Collecting nvidia-cusparse-cu11==11.7.4.91 (from torch==2.0.1->-r requirements.txt (line 1))\n",
      "  Using cached nvidia_cusparse_cu11-11.7.4.91-py3-none-manylinux1_x86_64.whl (173.2 MB)\n",
      "Collecting nvidia-nccl-cu11==2.14.3 (from torch==2.0.1->-r requirements.txt (line 1))\n",
      "  Downloading nvidia_nccl_cu11-2.14.3-py3-none-manylinux1_x86_64.whl.metadata (1.8 kB)\n",
      "Collecting nvidia-nvtx-cu11==11.7.91 (from torch==2.0.1->-r requirements.txt (line 1))\n",
      "  Using cached nvidia_nvtx_cu11-11.7.91-py3-none-manylinux1_x86_64.whl (98 kB)\n",
      "Collecting triton==2.0.0 (from torch==2.0.1->-r requirements.txt (line 1))\n",
      "  Downloading triton-2.0.0-1-cp311-cp311-manylinux2014_x86_64.manylinux_2_17_x86_64.whl.metadata (1.0 kB)\n",
      "Collecting pillow!=8.3.*,>=5.3.0 (from torchvision==0.15.2->-r requirements.txt (line 2))\n",
      "  Downloading pillow-10.2.0-cp311-cp311-manylinux_2_28_x86_64.whl.metadata (9.7 kB)\n",
      "Collecting Click (from openmim==0.3.9->-r requirements.txt (line 3))\n",
      "  Using cached click-8.1.7-py3-none-any.whl.metadata (3.0 kB)\n",
      "Collecting colorama (from openmim==0.3.9->-r requirements.txt (line 3))\n",
      "  Using cached colorama-0.4.6-py2.py3-none-any.whl.metadata (17 kB)\n",
      "Collecting model-index (from openmim==0.3.9->-r requirements.txt (line 3))\n",
      "  Using cached model_index-0.1.11-py3-none-any.whl (34 kB)\n",
      "Collecting opendatalab (from openmim==0.3.9->-r requirements.txt (line 3))\n",
      "  Using cached opendatalab-0.0.10-py3-none-any.whl.metadata (6.4 kB)\n",
      "Requirement already satisfied: pip>=19.3 in /home/sush/miniconda3/envs/htrflow/lib/python3.11/site-packages (from openmim==0.3.9->-r requirements.txt (line 3)) (23.3.1)\n",
      "Collecting rich (from openmim==0.3.9->-r requirements.txt (line 3))\n",
      "  Using cached rich-13.7.0-py3-none-any.whl.metadata (18 kB)\n",
      "Collecting tabulate (from openmim==0.3.9->-r requirements.txt (line 3))\n",
      "  Downloading tabulate-0.9.0-py3-none-any.whl.metadata (34 kB)\n",
      "Collecting aiofiles<24.0,>=22.0 (from gradio==3.41.0->-r requirements.txt (line 4))\n",
      "  Using cached aiofiles-23.2.1-py3-none-any.whl.metadata (9.7 kB)\n",
      "Collecting altair<6.0,>=4.2.0 (from gradio==3.41.0->-r requirements.txt (line 4))\n",
      "  Using cached altair-5.2.0-py3-none-any.whl.metadata (8.7 kB)\n",
      "Collecting fastapi (from gradio==3.41.0->-r requirements.txt (line 4))\n",
      "  Using cached fastapi-0.109.2-py3-none-any.whl.metadata (25 kB)\n",
      "Collecting ffmpy (from gradio==3.41.0->-r requirements.txt (line 4))\n",
      "  Using cached ffmpy-0.3.2-py3-none-any.whl\n",
      "Collecting gradio-client==0.5.0 (from gradio==3.41.0->-r requirements.txt (line 4))\n",
      "  Downloading gradio_client-0.5.0-py3-none-any.whl.metadata (7.1 kB)\n",
      "Collecting httpx (from gradio==3.41.0->-r requirements.txt (line 4))\n",
      "  Using cached httpx-0.26.0-py3-none-any.whl.metadata (7.6 kB)\n",
      "Collecting importlib-resources<7.0,>=1.3 (from gradio==3.41.0->-r requirements.txt (line 4))\n",
      "  Using cached importlib_resources-6.1.1-py3-none-any.whl.metadata (4.1 kB)\n",
      "Requirement already satisfied: markupsafe~=2.0 in /home/sush/miniconda3/envs/htrflow/lib/python3.11/site-packages (from gradio==3.41.0->-r requirements.txt (line 4)) (2.1.3)\n",
      "Collecting matplotlib~=3.0 (from gradio==3.41.0->-r requirements.txt (line 4))\n",
      "  Downloading matplotlib-3.8.3-cp311-cp311-manylinux_2_17_x86_64.manylinux2014_x86_64.whl.metadata (5.8 kB)\n",
      "Collecting orjson~=3.0 (from gradio==3.41.0->-r requirements.txt (line 4))\n",
      "  Downloading orjson-3.9.14-cp311-cp311-manylinux_2_17_x86_64.manylinux2014_x86_64.whl.metadata (49 kB)\n",
      "\u001b[2K     \u001b[90m━━━━━━━━━━━━━━━━━━━━━━━━━━━━━━━━━━━━━━━━\u001b[0m \u001b[32m49.4/49.4 kB\u001b[0m \u001b[31m13.2 MB/s\u001b[0m eta \u001b[36m0:00:00\u001b[0m\n",
      "\u001b[?25hRequirement already satisfied: packaging in /home/sush/miniconda3/envs/htrflow/lib/python3.11/site-packages (from gradio==3.41.0->-r requirements.txt (line 4)) (23.1)\n",
      "Collecting pydantic!=1.8,!=1.8.1,!=2.0.0,!=2.0.1,<3.0.0,>=1.7.4 (from gradio==3.41.0->-r requirements.txt (line 4))\n",
      "  Using cached pydantic-2.6.1-py3-none-any.whl.metadata (83 kB)\n",
      "Collecting pydub (from gradio==3.41.0->-r requirements.txt (line 4))\n",
      "  Using cached pydub-0.25.1-py2.py3-none-any.whl (32 kB)\n",
      "Collecting python-multipart (from gradio==3.41.0->-r requirements.txt (line 4))\n",
      "  Using cached python_multipart-0.0.9-py3-none-any.whl.metadata (2.5 kB)\n",
      "Requirement already satisfied: pyyaml<7.0,>=5.0 in /home/sush/miniconda3/envs/htrflow/lib/python3.11/site-packages (from gradio==3.41.0->-r requirements.txt (line 4)) (6.0.1)\n",
      "Collecting semantic-version~=2.0 (from gradio==3.41.0->-r requirements.txt (line 4))\n",
      "  Using cached semantic_version-2.10.0-py2.py3-none-any.whl (15 kB)\n",
      "Collecting uvicorn>=0.14.0 (from gradio==3.41.0->-r requirements.txt (line 4))\n",
      "  Using cached uvicorn-0.27.1-py3-none-any.whl.metadata (6.3 kB)\n",
      "Collecting websockets<12.0,>=10.0 (from gradio==3.41.0->-r requirements.txt (line 4))\n",
      "  Downloading websockets-11.0.3-cp311-cp311-manylinux_2_5_x86_64.manylinux1_x86_64.manylinux_2_17_x86_64.manylinux2014_x86_64.whl.metadata (6.6 kB)\n",
      "Requirement already satisfied: python-dateutil>=2.8.2 in /home/sush/miniconda3/envs/htrflow/lib/python3.11/site-packages (from pandas==2.0.3->-r requirements.txt (line 5)) (2.8.2)\n",
      "Collecting tzdata>=2022.1 (from pandas==2.0.3->-r requirements.txt (line 5))\n",
      "  Using cached tzdata-2024.1-py2.py3-none-any.whl.metadata (1.4 kB)\n",
      "Collecting regex!=2019.12.17 (from transformers==4.30.2->-r requirements.txt (line 9))\n",
      "  Downloading regex-2023.12.25-cp311-cp311-manylinux_2_17_x86_64.manylinux2014_x86_64.whl.metadata (40 kB)\n",
      "\u001b[2K     \u001b[90m━━━━━━━━━━━━━━━━━━━━━━━━━━━━━━━━━━━━━━━━\u001b[0m \u001b[32m40.9/40.9 kB\u001b[0m \u001b[31m3.3 MB/s\u001b[0m eta \u001b[36m0:00:00\u001b[0m\n",
      "\u001b[?25hCollecting tokenizers!=0.11.3,<0.14,>=0.11.1 (from transformers==4.30.2->-r requirements.txt (line 9))\n",
      "  Downloading tokenizers-0.13.3-cp311-cp311-manylinux_2_17_x86_64.manylinux2014_x86_64.whl.metadata (6.7 kB)\n",
      "Collecting safetensors>=0.3.1 (from transformers==4.30.2->-r requirements.txt (line 9))\n",
      "  Downloading safetensors-0.4.2-cp311-cp311-manylinux_2_17_x86_64.manylinux2014_x86_64.whl.metadata (3.8 kB)\n",
      "Collecting tqdm>=4.27 (from transformers==4.30.2->-r requirements.txt (line 9))\n",
      "  Using cached tqdm-4.66.2-py3-none-any.whl.metadata (57 kB)\n",
      "Collecting fsspec (from huggingface-hub==0.15.1->-r requirements.txt (line 10))\n",
      "  Using cached fsspec-2024.2.0-py3-none-any.whl.metadata (6.8 kB)\n",
      "Collecting pyarrow>=8.0.0 (from datasets==2.14.5->-r requirements.txt (line 11))\n",
      "  Downloading pyarrow-15.0.0-cp311-cp311-manylinux_2_28_x86_64.whl.metadata (3.0 kB)\n",
      "Collecting dill<0.3.8,>=0.3.0 (from datasets==2.14.5->-r requirements.txt (line 11))\n",
      "  Using cached dill-0.3.7-py3-none-any.whl.metadata (9.9 kB)\n",
      "Collecting xxhash (from datasets==2.14.5->-r requirements.txt (line 11))\n",
      "  Downloading xxhash-3.4.1-cp311-cp311-manylinux_2_17_x86_64.manylinux2014_x86_64.whl.metadata (12 kB)\n",
      "Collecting multiprocess (from datasets==2.14.5->-r requirements.txt (line 11))\n",
      "  Downloading multiprocess-0.70.16-py311-none-any.whl.metadata (7.2 kB)\n",
      "Collecting fsspec (from huggingface-hub==0.15.1->-r requirements.txt (line 10))\n",
      "  Downloading fsspec-2023.6.0-py3-none-any.whl.metadata (6.7 kB)\n",
      "Collecting aiohttp (from datasets==2.14.5->-r requirements.txt (line 11))\n",
      "  Downloading aiohttp-3.9.3-cp311-cp311-manylinux_2_17_x86_64.manylinux2014_x86_64.whl.metadata (7.4 kB)\n",
      "Requirement already satisfied: charset-normalizer<4,>=2 in /home/sush/miniconda3/envs/htrflow/lib/python3.11/site-packages (from requests==2.31.0->-r requirements.txt (line 12)) (2.0.4)\n",
      "Requirement already satisfied: idna<4,>=2.5 in /home/sush/miniconda3/envs/htrflow/lib/python3.11/site-packages (from requests==2.31.0->-r requirements.txt (line 12)) (3.4)\n",
      "Requirement already satisfied: urllib3<3,>=1.21.1 in /home/sush/miniconda3/envs/htrflow/lib/python3.11/site-packages (from requests==2.31.0->-r requirements.txt (line 12)) (2.1.0)\n",
      "Requirement already satisfied: certifi>=2017.4.17 in /home/sush/miniconda3/envs/htrflow/lib/python3.11/site-packages (from requests==2.31.0->-r requirements.txt (line 12)) (2024.2.2)\n",
      "Collecting addict (from mmengine==0.7.4->-r requirements.txt (line 19))\n",
      "  Using cached addict-2.4.0-py3-none-any.whl (3.8 kB)\n",
      "Collecting termcolor (from mmengine==0.7.4->-r requirements.txt (line 19))\n",
      "  Using cached termcolor-2.4.0-py3-none-any.whl.metadata (6.1 kB)\n",
      "Collecting yapf (from mmengine==0.7.4->-r requirements.txt (line 19))\n",
      "  Using cached yapf-0.40.2-py3-none-any.whl.metadata (45 kB)\n",
      "Collecting opencv-python>=3 (from mmengine==0.7.4->-r requirements.txt (line 19))\n",
      "  Using cached opencv_python-4.9.0.80-cp37-abi3-manylinux_2_17_x86_64.manylinux2014_x86_64.whl.metadata (20 kB)\n",
      "Collecting pycocotools (from mmdet==3.0.0->-r requirements.txt (line 21))\n",
      "  Downloading pycocotools-2.0.7-cp311-cp311-manylinux_2_17_x86_64.manylinux2014_x86_64.whl.metadata (1.1 kB)\n",
      "Collecting scipy (from mmdet==3.0.0->-r requirements.txt (line 21))\n",
      "  Downloading scipy-1.12.0-cp311-cp311-manylinux_2_17_x86_64.manylinux2014_x86_64.whl.metadata (60 kB)\n",
      "\u001b[2K     \u001b[90m━━━━━━━━━━━━━━━━━━━━━━━━━━━━━━━━━━━━━━━━\u001b[0m \u001b[32m60.4/60.4 kB\u001b[0m \u001b[31m16.9 MB/s\u001b[0m eta \u001b[36m0:00:00\u001b[0m\n",
      "\u001b[?25hCollecting shapely (from mmdet==3.0.0->-r requirements.txt (line 21))\n",
      "  Downloading shapely-2.0.3-cp311-cp311-manylinux_2_17_x86_64.manylinux2014_x86_64.whl.metadata (7.0 kB)\n",
      "Requirement already satisfied: six in /home/sush/miniconda3/envs/htrflow/lib/python3.11/site-packages (from mmdet==3.0.0->-r requirements.txt (line 21)) (1.16.0)\n",
      "Collecting terminaltables (from mmdet==3.0.0->-r requirements.txt (line 21))\n",
      "  Using cached terminaltables-3.1.10-py2.py3-none-any.whl (15 kB)\n",
      "Collecting imgaug (from mmocr==1.0.0->-r requirements.txt (line 22))\n",
      "  Using cached imgaug-0.4.0-py2.py3-none-any.whl (948 kB)\n",
      "Collecting lmdb (from mmocr==1.0.0->-r requirements.txt (line 22))\n",
      "  Downloading lmdb-1.4.1-cp311-cp311-manylinux_2_17_x86_64.manylinux2014_x86_64.whl.metadata (1.2 kB)\n",
      "Collecting pyclipper (from mmocr==1.0.0->-r requirements.txt (line 22))\n",
      "  Downloading pyclipper-1.3.0.post5-cp311-cp311-manylinux_2_17_x86_64.manylinux2014_x86_64.whl.metadata (9.0 kB)\n",
      "Collecting rapidfuzz>=2.0.0 (from mmocr==1.0.0->-r requirements.txt (line 22))\n",
      "  Downloading rapidfuzz-3.6.1-cp311-cp311-manylinux_2_17_x86_64.manylinux2014_x86_64.whl.metadata (11 kB)\n",
      "Collecting scikit-image (from mmocr==1.0.0->-r requirements.txt (line 22))\n",
      "  Downloading scikit_image-0.22.0-cp311-cp311-manylinux_2_17_x86_64.manylinux2014_x86_64.whl.metadata (13 kB)\n",
      "Requirement already satisfied: setuptools in /home/sush/miniconda3/envs/htrflow/lib/python3.11/site-packages (from nvidia-cublas-cu11==11.10.3.66->torch==2.0.1->-r requirements.txt (line 1)) (68.2.2)\n",
      "Requirement already satisfied: wheel in /home/sush/miniconda3/envs/htrflow/lib/python3.11/site-packages (from nvidia-cublas-cu11==11.10.3.66->torch==2.0.1->-r requirements.txt (line 1)) (0.41.2)\n",
      "Collecting cmake (from triton==2.0.0->torch==2.0.1->-r requirements.txt (line 1))\n",
      "  Using cached cmake-3.28.3-py2.py3-none-manylinux2014_x86_64.manylinux_2_17_x86_64.whl.metadata (6.3 kB)\n",
      "Collecting lit (from triton==2.0.0->torch==2.0.1->-r requirements.txt (line 1))\n",
      "  Using cached lit-17.0.6.tar.gz (153 kB)\n",
      "  Installing build dependencies ... \u001b[?25ldone\n",
      "\u001b[?25h  Getting requirements to build wheel ... \u001b[?25ldone\n",
      "\u001b[?25h  Installing backend dependencies ... \u001b[?25ldone\n",
      "\u001b[?25h  Preparing metadata (pyproject.toml) ... \u001b[?25ldone\n",
      "\u001b[?25hCollecting tzlocal!=3.*,>=2.0 (from apscheduler->-r requirements.txt (line 13))\n",
      "  Downloading tzlocal-5.2-py3-none-any.whl.metadata (7.8 kB)\n",
      "Collecting responses<0.19 (from evaluate->-r requirements.txt (line 16))\n",
      "  Downloading responses-0.18.0-py3-none-any.whl (38 kB)\n",
      "Requirement already satisfied: jsonschema>=3.0 in /home/sush/miniconda3/envs/htrflow/lib/python3.11/site-packages (from altair<6.0,>=4.2.0->gradio==3.41.0->-r requirements.txt (line 4)) (4.19.2)\n",
      "Collecting toolz (from altair<6.0,>=4.2.0->gradio==3.41.0->-r requirements.txt (line 4))\n",
      "  Using cached toolz-0.12.1-py3-none-any.whl.metadata (5.1 kB)\n",
      "Collecting aiosignal>=1.1.2 (from aiohttp->datasets==2.14.5->-r requirements.txt (line 11))\n",
      "  Downloading aiosignal-1.3.1-py3-none-any.whl.metadata (4.0 kB)\n",
      "Requirement already satisfied: attrs>=17.3.0 in /home/sush/miniconda3/envs/htrflow/lib/python3.11/site-packages (from aiohttp->datasets==2.14.5->-r requirements.txt (line 11)) (23.1.0)\n",
      "Collecting frozenlist>=1.1.1 (from aiohttp->datasets==2.14.5->-r requirements.txt (line 11))\n",
      "  Downloading frozenlist-1.4.1-cp311-cp311-manylinux_2_5_x86_64.manylinux1_x86_64.manylinux_2_17_x86_64.manylinux2014_x86_64.whl.metadata (12 kB)\n",
      "Collecting multidict<7.0,>=4.5 (from aiohttp->datasets==2.14.5->-r requirements.txt (line 11))\n",
      "  Downloading multidict-6.0.5-cp311-cp311-manylinux_2_17_x86_64.manylinux2014_x86_64.whl.metadata (4.2 kB)\n",
      "Collecting yarl<2.0,>=1.0 (from aiohttp->datasets==2.14.5->-r requirements.txt (line 11))\n",
      "  Downloading yarl-1.9.4-cp311-cp311-manylinux_2_17_x86_64.manylinux2014_x86_64.whl.metadata (31 kB)\n",
      "Collecting contourpy>=1.0.1 (from matplotlib~=3.0->gradio==3.41.0->-r requirements.txt (line 4))\n",
      "  Downloading contourpy-1.2.0-cp311-cp311-manylinux_2_17_x86_64.manylinux2014_x86_64.whl.metadata (5.8 kB)\n",
      "Collecting cycler>=0.10 (from matplotlib~=3.0->gradio==3.41.0->-r requirements.txt (line 4))\n",
      "  Using cached cycler-0.12.1-py3-none-any.whl.metadata (3.8 kB)\n",
      "Collecting fonttools>=4.22.0 (from matplotlib~=3.0->gradio==3.41.0->-r requirements.txt (line 4))\n",
      "  Downloading fonttools-4.49.0-cp311-cp311-manylinux_2_17_x86_64.manylinux2014_x86_64.whl.metadata (159 kB)\n",
      "\u001b[2K     \u001b[90m━━━━━━━━━━━━━━━━━━━━━━━━━━━━━━━━━━━━━━\u001b[0m \u001b[32m159.1/159.1 kB\u001b[0m \u001b[31m25.1 MB/s\u001b[0m eta \u001b[36m0:00:00\u001b[0m\n",
      "\u001b[?25hCollecting kiwisolver>=1.3.1 (from matplotlib~=3.0->gradio==3.41.0->-r requirements.txt (line 4))\n",
      "  Downloading kiwisolver-1.4.5-cp311-cp311-manylinux_2_17_x86_64.manylinux2014_x86_64.whl.metadata (6.4 kB)\n",
      "Collecting pyparsing>=2.3.1 (from matplotlib~=3.0->gradio==3.41.0->-r requirements.txt (line 4))\n",
      "  Using cached pyparsing-3.1.1-py3-none-any.whl.metadata (5.1 kB)\n",
      "Collecting annotated-types>=0.4.0 (from pydantic!=1.8,!=1.8.1,!=2.0.0,!=2.0.1,<3.0.0,>=1.7.4->gradio==3.41.0->-r requirements.txt (line 4))\n",
      "  Using cached annotated_types-0.6.0-py3-none-any.whl.metadata (12 kB)\n",
      "Collecting pydantic-core==2.16.2 (from pydantic!=1.8,!=1.8.1,!=2.0.0,!=2.0.1,<3.0.0,>=1.7.4->gradio==3.41.0->-r requirements.txt (line 4))\n",
      "  Downloading pydantic_core-2.16.2-cp311-cp311-manylinux_2_17_x86_64.manylinux2014_x86_64.whl.metadata (6.5 kB)\n",
      "Collecting h11>=0.8 (from uvicorn>=0.14.0->gradio==3.41.0->-r requirements.txt (line 4))\n",
      "  Using cached h11-0.14.0-py3-none-any.whl.metadata (8.2 kB)\n",
      "Collecting starlette<0.37.0,>=0.36.3 (from fastapi->gradio==3.41.0->-r requirements.txt (line 4))\n",
      "  Using cached starlette-0.36.3-py3-none-any.whl.metadata (5.9 kB)\n",
      "Requirement already satisfied: anyio in /home/sush/miniconda3/envs/htrflow/lib/python3.11/site-packages (from httpx->gradio==3.41.0->-r requirements.txt (line 4)) (4.2.0)\n",
      "Collecting httpcore==1.* (from httpx->gradio==3.41.0->-r requirements.txt (line 4))\n",
      "  Using cached httpcore-1.0.3-py3-none-any.whl.metadata (20 kB)\n",
      "Requirement already satisfied: sniffio in /home/sush/miniconda3/envs/htrflow/lib/python3.11/site-packages (from httpx->gradio==3.41.0->-r requirements.txt (line 4)) (1.3.0)\n",
      "Collecting imageio (from imgaug->mmocr==1.0.0->-r requirements.txt (line 22))\n",
      "  Using cached imageio-2.34.0-py3-none-any.whl.metadata (4.9 kB)\n",
      "Collecting tifffile>=2022.8.12 (from scikit-image->mmocr==1.0.0->-r requirements.txt (line 22))\n",
      "  Downloading tifffile-2024.2.12-py3-none-any.whl.metadata (31 kB)\n",
      "Collecting lazy_loader>=0.3 (from scikit-image->mmocr==1.0.0->-r requirements.txt (line 22))\n",
      "  Using cached lazy_loader-0.3-py3-none-any.whl.metadata (4.3 kB)\n",
      "Collecting markdown (from model-index->openmim==0.3.9->-r requirements.txt (line 3))\n",
      "  Using cached Markdown-3.5.2-py3-none-any.whl.metadata (7.0 kB)\n",
      "Collecting ordered-set (from model-index->openmim==0.3.9->-r requirements.txt (line 3))\n",
      "  Using cached ordered_set-4.1.0-py3-none-any.whl (7.6 kB)\n",
      "INFO: pip is looking at multiple versions of multiprocess to determine which version is compatible with other requirements. This could take a while.\n",
      "Collecting multiprocess (from datasets==2.14.5->-r requirements.txt (line 11))\n",
      "  Downloading multiprocess-0.70.15-py311-none-any.whl.metadata (7.2 kB)\n",
      "Collecting pycryptodome (from opendatalab->openmim==0.3.9->-r requirements.txt (line 3))\n",
      "  Using cached pycryptodome-3.20.0-cp35-abi3-manylinux_2_17_x86_64.manylinux2014_x86_64.whl.metadata (3.4 kB)\n",
      "Collecting openxlab (from opendatalab->openmim==0.3.9->-r requirements.txt (line 3))\n",
      "  Using cached openxlab-0.0.34-py3-none-any.whl.metadata (3.8 kB)\n",
      "Collecting markdown-it-py>=2.2.0 (from rich->openmim==0.3.9->-r requirements.txt (line 3))\n",
      "  Using cached markdown_it_py-3.0.0-py3-none-any.whl.metadata (6.9 kB)\n",
      "Requirement already satisfied: pygments<3.0.0,>=2.13.0 in /home/sush/miniconda3/envs/htrflow/lib/python3.11/site-packages (from rich->openmim==0.3.9->-r requirements.txt (line 3)) (2.15.1)\n",
      "Collecting mpmath>=0.19 (from sympy->torch==2.0.1->-r requirements.txt (line 1))\n",
      "  Downloading mpmath-1.3.0-py3-none-any.whl.metadata (8.6 kB)\n",
      "Collecting importlib-metadata>=6.6.0 (from yapf->mmengine==0.7.4->-r requirements.txt (line 19))\n",
      "  Using cached importlib_metadata-7.0.1-py3-none-any.whl.metadata (4.9 kB)\n",
      "Requirement already satisfied: platformdirs>=3.5.1 in /home/sush/miniconda3/envs/htrflow/lib/python3.11/site-packages (from yapf->mmengine==0.7.4->-r requirements.txt (line 19)) (3.10.0)\n",
      "Collecting tomli>=2.0.1 (from yapf->mmengine==0.7.4->-r requirements.txt (line 19))\n",
      "  Using cached tomli-2.0.1-py3-none-any.whl (12 kB)\n",
      "Collecting zipp>=0.5 (from importlib-metadata>=6.6.0->yapf->mmengine==0.7.4->-r requirements.txt (line 19))\n",
      "  Using cached zipp-3.17.0-py3-none-any.whl.metadata (3.7 kB)\n",
      "Requirement already satisfied: jsonschema-specifications>=2023.03.6 in /home/sush/miniconda3/envs/htrflow/lib/python3.11/site-packages (from jsonschema>=3.0->altair<6.0,>=4.2.0->gradio==3.41.0->-r requirements.txt (line 4)) (2023.7.1)\n",
      "Requirement already satisfied: referencing>=0.28.4 in /home/sush/miniconda3/envs/htrflow/lib/python3.11/site-packages (from jsonschema>=3.0->altair<6.0,>=4.2.0->gradio==3.41.0->-r requirements.txt (line 4)) (0.30.2)\n",
      "Requirement already satisfied: rpds-py>=0.7.1 in /home/sush/miniconda3/envs/htrflow/lib/python3.11/site-packages (from jsonschema>=3.0->altair<6.0,>=4.2.0->gradio==3.41.0->-r requirements.txt (line 4)) (0.10.6)\n",
      "Collecting mdurl~=0.1 (from markdown-it-py>=2.2.0->rich->openmim==0.3.9->-r requirements.txt (line 3))\n",
      "  Using cached mdurl-0.1.2-py3-none-any.whl (10.0 kB)\n",
      "Collecting oss2~=2.17.0 (from openxlab->opendatalab->openmim==0.3.9->-r requirements.txt (line 3))\n",
      "  Using cached oss2-2.17.0.tar.gz (259 kB)\n",
      "  Preparing metadata (setup.py) ... \u001b[?25ldone\n",
      "\u001b[?25hINFO: pip is looking at multiple versions of openxlab to determine which version is compatible with other requirements. This could take a while.\n",
      "Collecting openxlab (from opendatalab->openmim==0.3.9->-r requirements.txt (line 3))\n",
      "  Downloading openxlab-0.0.33-py3-none-any.whl.metadata (3.8 kB)\n",
      "  Downloading openxlab-0.0.32-py3-none-any.whl.metadata (3.8 kB)\n",
      "  Downloading openxlab-0.0.31-py3-none-any.whl.metadata (3.8 kB)\n",
      "  Downloading openxlab-0.0.30-py3-none-any.whl.metadata (3.8 kB)\n",
      "  Downloading openxlab-0.0.29-py3-none-any.whl.metadata (3.8 kB)\n",
      "  Downloading openxlab-0.0.28-py3-none-any.whl.metadata (3.7 kB)\n",
      "  Downloading openxlab-0.0.27-py3-none-any.whl.metadata (3.7 kB)\n",
      "INFO: pip is still looking at multiple versions of openxlab to determine which version is compatible with other requirements. This could take a while.\n",
      "  Downloading openxlab-0.0.26-py3-none-any.whl.metadata (3.7 kB)\n",
      "  Downloading openxlab-0.0.25-py3-none-any.whl.metadata (3.7 kB)\n",
      "  Downloading openxlab-0.0.24-py3-none-any.whl.metadata (3.7 kB)\n",
      "  Downloading openxlab-0.0.23-py3-none-any.whl.metadata (3.7 kB)\n",
      "  Downloading openxlab-0.0.22-py3-none-any.whl.metadata (3.7 kB)\n",
      "INFO: This is taking longer than usual. You might need to provide the dependency resolver with stricter constraints to reduce runtime. See https://pip.pypa.io/warnings/backtracking for guidance. If you want to abort this run, press Ctrl + C.\n",
      "  Downloading openxlab-0.0.21-py3-none-any.whl.metadata (3.7 kB)\n",
      "  Downloading openxlab-0.0.20-py3-none-any.whl.metadata (3.7 kB)\n",
      "  Downloading openxlab-0.0.19-py3-none-any.whl.metadata (3.7 kB)\n",
      "  Downloading openxlab-0.0.18-py3-none-any.whl.metadata (3.7 kB)\n",
      "  Downloading openxlab-0.0.17-py3-none-any.whl.metadata (3.7 kB)\n",
      "  Downloading openxlab-0.0.16-py3-none-any.whl.metadata (3.8 kB)\n",
      "  Downloading openxlab-0.0.15-py3-none-any.whl.metadata (3.8 kB)\n",
      "  Downloading openxlab-0.0.14-py3-none-any.whl.metadata (3.8 kB)\n",
      "  Downloading openxlab-0.0.13-py3-none-any.whl.metadata (4.5 kB)\n",
      "  Downloading openxlab-0.0.12-py3-none-any.whl.metadata (4.5 kB)\n",
      "  Downloading openxlab-0.0.11-py3-none-any.whl.metadata (4.3 kB)\n",
      "Downloading torch-2.0.1-cp311-cp311-manylinux1_x86_64.whl (619.9 MB)\n",
      "\u001b[2K   \u001b[90m━━━━━━━━━━━━━━━━━━━━━━━━━━━━━━━━━━━━━━━━\u001b[0m \u001b[32m619.9/619.9 MB\u001b[0m \u001b[31m10.7 MB/s\u001b[0m eta \u001b[36m0:00:00\u001b[0m00:01\u001b[0m00:01\u001b[0m\n",
      "\u001b[?25hDownloading torchvision-0.15.2-cp311-cp311-manylinux1_x86_64.whl (6.0 MB)\n",
      "\u001b[2K   \u001b[90m━━━━━━━━━━━━━━━━━━━━━━━━━━━━━━━━━━━━━━━━\u001b[0m \u001b[32m6.0/6.0 MB\u001b[0m \u001b[31m71.0 MB/s\u001b[0m eta \u001b[36m0:00:00\u001b[0m:00:01\u001b[0m00:01\u001b[0m\n",
      "\u001b[?25hUsing cached openmim-0.3.9-py2.py3-none-any.whl (52 kB)\n",
      "Downloading gradio-3.41.0-py3-none-any.whl (20.1 MB)\n",
      "\u001b[2K   \u001b[90m━━━━━━━━━━━━━━━━━━━━━━━━━━━━━━━━━━━━━━━━\u001b[0m \u001b[32m20.1/20.1 MB\u001b[0m \u001b[31m71.6 MB/s\u001b[0m eta \u001b[36m0:00:00\u001b[0m:00:01\u001b[0m00:01\u001b[0m\n",
      "\u001b[?25hDownloading pandas-2.0.3-cp311-cp311-manylinux_2_17_x86_64.manylinux2014_x86_64.whl (12.2 MB)\n",
      "\u001b[2K   \u001b[90m━━━━━━━━━━━━━━━━━━━━━━━━━━━━━━━━━━━━━━━━\u001b[0m \u001b[32m12.2/12.2 MB\u001b[0m \u001b[31m74.9 MB/s\u001b[0m eta \u001b[36m0:00:00\u001b[0m:00:01\u001b[0m0:01\u001b[0m\n",
      "\u001b[?25hDownloading numpy-1.25.0-cp311-cp311-manylinux_2_17_x86_64.manylinux2014_x86_64.whl (17.6 MB)\n",
      "\u001b[2K   \u001b[90m━━━━━━━━━━━━━━━━━━━━━━━━━━━━━━━━━━━━━━━━\u001b[0m \u001b[32m17.6/17.6 MB\u001b[0m \u001b[31m81.2 MB/s\u001b[0m eta \u001b[36m0:00:00\u001b[0m:00:01\u001b[0m00:01\u001b[0m\n",
      "\u001b[?25hDownloading opencv_python_headless-4.7.0.72-cp37-abi3-manylinux_2_17_x86_64.manylinux2014_x86_64.whl (49.2 MB)\n",
      "\u001b[2K   \u001b[90m━━━━━━━━━━━━━━━━━━━━━━━━━━━━━━━━━━━━━━━━\u001b[0m \u001b[32m49.2/49.2 MB\u001b[0m \u001b[31m56.2 MB/s\u001b[0m eta \u001b[36m0:00:00\u001b[0m:00:01\u001b[0m00:01\u001b[0m\n",
      "\u001b[?25hDownloading transformers-4.30.2-py3-none-any.whl (7.2 MB)\n",
      "\u001b[2K   \u001b[90m━━━━━━━━━━━━━━━━━━━━━━━━━━━━━━━━━━━━━━━━\u001b[0m \u001b[32m7.2/7.2 MB\u001b[0m \u001b[31m87.1 MB/s\u001b[0m eta \u001b[36m0:00:00\u001b[0m:00:01\u001b[0m00:01\u001b[0m\n",
      "\u001b[?25hDownloading huggingface_hub-0.15.1-py3-none-any.whl (236 kB)\n",
      "\u001b[2K   \u001b[90m━━━━━━━━━━━━━━━━━━━━━━━━━━━━━━━━━━━━━━━━\u001b[0m \u001b[32m236.8/236.8 kB\u001b[0m \u001b[31m46.2 MB/s\u001b[0m eta \u001b[36m0:00:00\u001b[0m\n",
      "\u001b[?25hDownloading datasets-2.14.5-py3-none-any.whl (519 kB)\n",
      "\u001b[2K   \u001b[90m━━━━━━━━━━━━━━━━━━━━━━━━━━━━━━━━━━━━━━━━\u001b[0m \u001b[32m519.6/519.6 kB\u001b[0m \u001b[31m67.9 MB/s\u001b[0m eta \u001b[36m0:00:00\u001b[0m\n",
      "\u001b[?25hDownloading mmengine-0.7.4-py3-none-any.whl (374 kB)\n",
      "\u001b[2K   \u001b[90m━━━━━━━━━━━━━━━━━━━━━━━━━━━━━━━━━━━━━━━━\u001b[0m \u001b[32m374.3/374.3 kB\u001b[0m \u001b[31m64.3 MB/s\u001b[0m eta \u001b[36m0:00:00\u001b[0m\n",
      "\u001b[?25hDownloading mmdet-3.0.0-py3-none-any.whl (1.7 MB)\n",
      "\u001b[2K   \u001b[90m━━━━━━━━━━━━━━━━━━━━━━━━━━━━━━━━━━━━━━━━\u001b[0m \u001b[32m1.7/1.7 MB\u001b[0m \u001b[31m94.5 MB/s\u001b[0m eta \u001b[36m0:00:00\u001b[0m\n",
      "\u001b[?25hDownloading mmocr-1.0.0-py2.py3-none-any.whl (618 kB)\n",
      "\u001b[2K   \u001b[90m━━━━━━━━━━━━━━━━━━━━━━━━━━━━━━━━━━━━━━━━\u001b[0m \u001b[32m618.1/618.1 kB\u001b[0m \u001b[31m78.9 MB/s\u001b[0m eta \u001b[36m0:00:00\u001b[0m\n",
      "\u001b[?25hDownloading gradio_client-0.5.0-py3-none-any.whl (298 kB)\n",
      "\u001b[2K   \u001b[90m━━━━━━━━━━━━━━━━━━━━━━━━━━━━━━━━━━━━━━━━\u001b[0m \u001b[32m298.2/298.2 kB\u001b[0m \u001b[31m57.4 MB/s\u001b[0m eta \u001b[36m0:00:00\u001b[0m\n",
      "\u001b[?25hUsing cached nvidia_cuda_nvrtc_cu11-11.7.99-2-py3-none-manylinux1_x86_64.whl (21.0 MB)\n",
      "Using cached nvidia_cudnn_cu11-8.5.0.96-2-py3-none-manylinux1_x86_64.whl (557.1 MB)\n",
      "Using cached nvidia_cufft_cu11-10.9.0.58-py3-none-manylinux1_x86_64.whl (168.4 MB)\n",
      "Using cached nvidia_cusolver_cu11-11.4.0.1-2-py3-none-manylinux1_x86_64.whl (102.6 MB)\n",
      "Using cached nvidia_nccl_cu11-2.14.3-py3-none-manylinux1_x86_64.whl (177.1 MB)\n",
      "Downloading triton-2.0.0-1-cp311-cp311-manylinux2014_x86_64.manylinux_2_17_x86_64.whl (63.3 MB)\n",
      "\u001b[2K   \u001b[90m━━━━━━━━━━━━━━━━━━━━━━━━━━━━━━━━━━━━━━━━\u001b[0m \u001b[32m63.3/63.3 MB\u001b[0m \u001b[31m51.5 MB/s\u001b[0m eta \u001b[36m0:00:00\u001b[0m:00:01\u001b[0m00:01\u001b[0m\n",
      "\u001b[?25hDownloading APScheduler-3.10.4-py3-none-any.whl (59 kB)\n",
      "\u001b[2K   \u001b[90m━━━━━━━━━━━━━━━━━━━━━━━━━━━━━━━━━━━━━━━━\u001b[0m \u001b[32m59.3/59.3 kB\u001b[0m \u001b[31m18.9 MB/s\u001b[0m eta \u001b[36m0:00:00\u001b[0m\n",
      "\u001b[?25hDownloading jiwer-3.0.3-py3-none-any.whl (21 kB)\n",
      "Downloading evaluate-0.4.1-py3-none-any.whl (84 kB)\n",
      "\u001b[2K   \u001b[90m━━━━━━━━━━━━━━━━━━━━━━━━━━━━━━━━━━━━━━━━\u001b[0m \u001b[32m84.1/84.1 kB\u001b[0m \u001b[31m24.4 MB/s\u001b[0m eta \u001b[36m0:00:00\u001b[0m\n",
      "\u001b[?25hUsing cached aiofiles-23.2.1-py3-none-any.whl (15 kB)\n",
      "Using cached altair-5.2.0-py3-none-any.whl (996 kB)\n",
      "Using cached click-8.1.7-py3-none-any.whl (97 kB)\n",
      "Using cached dill-0.3.7-py3-none-any.whl (115 kB)\n",
      "Downloading fsspec-2023.6.0-py3-none-any.whl (163 kB)\n",
      "\u001b[2K   \u001b[90m━━━━━━━━━━━━━━━━━━━━━━━━━━━━━━━━━━━━━━━━\u001b[0m \u001b[32m163.8/163.8 kB\u001b[0m \u001b[31m41.7 MB/s\u001b[0m eta \u001b[36m0:00:00\u001b[0m\n",
      "\u001b[?25hDownloading aiohttp-3.9.3-cp311-cp311-manylinux_2_17_x86_64.manylinux2014_x86_64.whl (1.3 MB)\n",
      "\u001b[2K   \u001b[90m━━━━━━━━━━━━━━━━━━━━━━━━━━━━━━━━━━━━━━━━\u001b[0m \u001b[32m1.3/1.3 MB\u001b[0m \u001b[31m99.6 MB/s\u001b[0m eta \u001b[36m0:00:00\u001b[0m\n",
      "\u001b[?25hUsing cached importlib_resources-6.1.1-py3-none-any.whl (33 kB)\n",
      "Downloading matplotlib-3.8.3-cp311-cp311-manylinux_2_17_x86_64.manylinux2014_x86_64.whl (11.6 MB)\n",
      "\u001b[2K   \u001b[90m━━━━━━━━━━━━━━━━━━━━━━━━━━━━━━━━━━━━━━━━\u001b[0m \u001b[32m11.6/11.6 MB\u001b[0m \u001b[31m87.5 MB/s\u001b[0m eta \u001b[36m0:00:00\u001b[0m:00:01\u001b[0m0:01\u001b[0m\n",
      "\u001b[?25hUsing cached opencv_python-4.9.0.80-cp37-abi3-manylinux_2_17_x86_64.manylinux2014_x86_64.whl (62.2 MB)\n",
      "Downloading orjson-3.9.14-cp311-cp311-manylinux_2_17_x86_64.manylinux2014_x86_64.whl (138 kB)\n",
      "\u001b[2K   \u001b[90m━━━━━━━━━━━━━━━━━━━━━━━━━━━━━━━━━━━━━━━━\u001b[0m \u001b[32m139.0/139.0 kB\u001b[0m \u001b[31m34.9 MB/s\u001b[0m eta \u001b[36m0:00:00\u001b[0m\n",
      "\u001b[?25hDownloading pillow-10.2.0-cp311-cp311-manylinux_2_28_x86_64.whl (4.5 MB)\n",
      "\u001b[2K   \u001b[90m━━━━━━━━━━━━━━━━━━━━━━━━━━━━━━━━━━━━━━━━\u001b[0m \u001b[32m4.5/4.5 MB\u001b[0m \u001b[31m94.9 MB/s\u001b[0m eta \u001b[36m0:00:00\u001b[0mta \u001b[36m0:00:01\u001b[0m\n",
      "\u001b[?25hDownloading pyarrow-15.0.0-cp311-cp311-manylinux_2_28_x86_64.whl (38.3 MB)\n",
      "\u001b[2K   \u001b[90m━━━━━━━━━━━━━━━━━━━━━━━━━━━━━━━━━━━━━━━━\u001b[0m \u001b[32m38.3/38.3 MB\u001b[0m \u001b[31m61.2 MB/s\u001b[0m eta \u001b[36m0:00:00\u001b[0m:00:01\u001b[0m00:01\u001b[0m\n",
      "\u001b[?25hUsing cached pydantic-2.6.1-py3-none-any.whl (394 kB)\n",
      "Downloading pydantic_core-2.16.2-cp311-cp311-manylinux_2_17_x86_64.manylinux2014_x86_64.whl (2.2 MB)\n",
      "\u001b[2K   \u001b[90m━━━━━━━━━━━━━━━━━━━━━━━━━━━━━━━━━━━━━━━━\u001b[0m \u001b[32m2.2/2.2 MB\u001b[0m \u001b[31m75.2 MB/s\u001b[0m eta \u001b[36m0:00:00\u001b[0m\n",
      "\u001b[?25hDownloading rapidfuzz-3.6.1-cp311-cp311-manylinux_2_17_x86_64.manylinux2014_x86_64.whl (3.4 MB)\n",
      "\u001b[2K   \u001b[90m━━━━━━━━━━━━━━━━━━━━━━━━━━━━━━━━━━━━━━━━\u001b[0m \u001b[32m3.4/3.4 MB\u001b[0m \u001b[31m89.2 MB/s\u001b[0m eta \u001b[36m0:00:00\u001b[0m:00:01\u001b[0m\n",
      "\u001b[?25hDownloading regex-2023.12.25-cp311-cp311-manylinux_2_17_x86_64.manylinux2014_x86_64.whl (785 kB)\n",
      "\u001b[2K   \u001b[90m━━━━━━━━━━━━━━━━━━━━━━━━━━━━━━━━━━━━━━━━\u001b[0m \u001b[32m785.1/785.1 kB\u001b[0m \u001b[31m59.0 MB/s\u001b[0m eta \u001b[36m0:00:00\u001b[0m\n",
      "\u001b[?25hDownloading safetensors-0.4.2-cp311-cp311-manylinux_2_17_x86_64.manylinux2014_x86_64.whl (1.3 MB)\n",
      "\u001b[2K   \u001b[90m━━━━━━━━━━━━━━━━━━━━━━━━━━━━━━━━━━━━━━━━\u001b[0m \u001b[32m1.3/1.3 MB\u001b[0m \u001b[31m84.4 MB/s\u001b[0m eta \u001b[36m0:00:00\u001b[0m\n",
      "\u001b[?25hDownloading tokenizers-0.13.3-cp311-cp311-manylinux_2_17_x86_64.manylinux2014_x86_64.whl (7.8 MB)\n",
      "\u001b[2K   \u001b[90m━━━━━━━━━━━━━━━━━━━━━━━━━━━━━━━━━━━━━━━━\u001b[0m \u001b[32m7.8/7.8 MB\u001b[0m \u001b[31m97.1 MB/s\u001b[0m eta \u001b[36m0:00:00\u001b[0m:00:01\u001b[0m00:01\u001b[0m\n",
      "\u001b[?25hDownloading tqdm-4.66.2-py3-none-any.whl (78 kB)\n",
      "\u001b[2K   \u001b[90m━━━━━━━━━━━━━━━━━━━━━━━━━━━━━━━━━━━━━━━━\u001b[0m \u001b[32m78.3/78.3 kB\u001b[0m \u001b[31m23.3 MB/s\u001b[0m eta \u001b[36m0:00:00\u001b[0m\n",
      "\u001b[?25hUsing cached tzdata-2024.1-py2.py3-none-any.whl (345 kB)\n",
      "Downloading tzlocal-5.2-py3-none-any.whl (17 kB)\n",
      "Using cached uvicorn-0.27.1-py3-none-any.whl (60 kB)\n",
      "Downloading websockets-11.0.3-cp311-cp311-manylinux_2_5_x86_64.manylinux1_x86_64.manylinux_2_17_x86_64.manylinux2014_x86_64.whl (130 kB)\n",
      "\u001b[2K   \u001b[90m━━━━━━━━━━━━━━━━━━━━━━━━━━━━━━━━━━━━━━━━\u001b[0m \u001b[32m130.6/130.6 kB\u001b[0m \u001b[31m35.8 MB/s\u001b[0m eta \u001b[36m0:00:00\u001b[0m\n",
      "\u001b[?25hUsing cached colorama-0.4.6-py2.py3-none-any.whl (25 kB)\n",
      "Using cached fastapi-0.109.2-py3-none-any.whl (92 kB)\n",
      "Using cached filelock-3.13.1-py3-none-any.whl (11 kB)\n",
      "Using cached httpx-0.26.0-py3-none-any.whl (75 kB)\n",
      "Using cached httpcore-1.0.3-py3-none-any.whl (77 kB)\n",
      "Downloading scikit_image-0.22.0-cp311-cp311-manylinux_2_17_x86_64.manylinux2014_x86_64.whl (14.7 MB)\n",
      "\u001b[2K   \u001b[90m━━━━━━━━━━━━━━━━━━━━━━━━━━━━━━━━━━━━━━━━\u001b[0m \u001b[32m14.7/14.7 MB\u001b[0m \u001b[31m90.3 MB/s\u001b[0m eta \u001b[36m0:00:00\u001b[0m:00:01\u001b[0m00:01\u001b[0m\n",
      "\u001b[?25hUsing cached networkx-3.2.1-py3-none-any.whl (1.6 MB)\n",
      "Downloading scipy-1.12.0-cp311-cp311-manylinux_2_17_x86_64.manylinux2014_x86_64.whl (38.4 MB)\n",
      "\u001b[2K   \u001b[90m━━━━━━━━━━━━━━━━━━━━━━━━━━━━━━━━━━━━━━━━\u001b[0m \u001b[32m38.4/38.4 MB\u001b[0m \u001b[31m64.1 MB/s\u001b[0m eta \u001b[36m0:00:00\u001b[0m:00:01\u001b[0m00:01\u001b[0m\n",
      "\u001b[?25hDownloading lmdb-1.4.1-cp311-cp311-manylinux_2_17_x86_64.manylinux2014_x86_64.whl (302 kB)\n",
      "\u001b[2K   \u001b[90m━━━━━━━━━━━━━━━━━━━━━━━━━━━━━━━━━━━━━━━━\u001b[0m \u001b[32m302.6/302.6 kB\u001b[0m \u001b[31m69.3 MB/s\u001b[0m eta \u001b[36m0:00:00\u001b[0m\n",
      "\u001b[?25hDownloading multiprocess-0.70.15-py311-none-any.whl (135 kB)\n",
      "\u001b[2K   \u001b[90m━━━━━━━━━━━━━━━━━━━━━━━━━━━━━━━━━━━━━━━━\u001b[0m \u001b[32m135.4/135.4 kB\u001b[0m \u001b[31m18.2 MB/s\u001b[0m eta \u001b[36m0:00:00\u001b[0m\n",
      "\u001b[?25hUsing cached opendatalab-0.0.10-py3-none-any.whl (29 kB)\n",
      "Downloading pyclipper-1.3.0.post5-cp311-cp311-manylinux_2_17_x86_64.manylinux2014_x86_64.whl (971 kB)\n",
      "\u001b[2K   \u001b[90m━━━━━━━━━━━━━━━━━━━━━━━━━━━━━━━━━━━━━━━━\u001b[0m \u001b[32m971.5/971.5 kB\u001b[0m \u001b[31m63.2 MB/s\u001b[0m eta \u001b[36m0:00:00\u001b[0m\n",
      "\u001b[?25hDownloading pycocotools-2.0.7-cp311-cp311-manylinux_2_17_x86_64.manylinux2014_x86_64.whl (463 kB)\n",
      "\u001b[2K   \u001b[90m━━━━━━━━━━━━━━━━━━━━━━━━━━━━━━━━━━━━━━━━\u001b[0m \u001b[32m463.7/463.7 kB\u001b[0m \u001b[31m65.8 MB/s\u001b[0m eta \u001b[36m0:00:00\u001b[0m\n",
      "\u001b[?25hUsing cached python_multipart-0.0.9-py3-none-any.whl (22 kB)\n",
      "Downloading rich-13.7.0-py3-none-any.whl (240 kB)\n",
      "\u001b[2K   \u001b[90m━━━━━━━━━━━━━━━━━━━━━━━━━━━━━━━━━━━━━━━━\u001b[0m \u001b[32m240.6/240.6 kB\u001b[0m \u001b[31m50.5 MB/s\u001b[0m eta \u001b[36m0:00:00\u001b[0m\n",
      "\u001b[?25hDownloading shapely-2.0.3-cp311-cp311-manylinux_2_17_x86_64.manylinux2014_x86_64.whl (2.5 MB)\n",
      "\u001b[2K   \u001b[90m━━━━━━━━━━━━━━━━━━━━━━━━━━━━━━━━━━━━━━━━\u001b[0m \u001b[32m2.5/2.5 MB\u001b[0m \u001b[31m97.6 MB/s\u001b[0m eta \u001b[36m0:00:00\u001b[0m\n",
      "\u001b[?25hUsing cached sympy-1.12-py3-none-any.whl (5.7 MB)\n",
      "Using cached tabulate-0.9.0-py3-none-any.whl (35 kB)\n",
      "Using cached termcolor-2.4.0-py3-none-any.whl (7.7 kB)\n",
      "Downloading xxhash-3.4.1-cp311-cp311-manylinux_2_17_x86_64.manylinux2014_x86_64.whl (194 kB)\n",
      "\u001b[2K   \u001b[90m━━━━━━━━━━━━━━━━━━━━━━━━━━━━━━━━━━━━━━━━\u001b[0m \u001b[32m194.8/194.8 kB\u001b[0m \u001b[31m53.9 MB/s\u001b[0m eta \u001b[36m0:00:00\u001b[0m\n",
      "\u001b[?25hUsing cached yapf-0.40.2-py3-none-any.whl (254 kB)\n",
      "Using cached aiosignal-1.3.1-py3-none-any.whl (7.6 kB)\n",
      "Using cached annotated_types-0.6.0-py3-none-any.whl (12 kB)\n",
      "Downloading contourpy-1.2.0-cp311-cp311-manylinux_2_17_x86_64.manylinux2014_x86_64.whl (313 kB)\n",
      "\u001b[2K   \u001b[90m━━━━━━━━━━━━━━━━━━━━━━━━━━━━━━━━━━━━━━━━\u001b[0m \u001b[32m313.4/313.4 kB\u001b[0m \u001b[31m71.4 MB/s\u001b[0m eta \u001b[36m0:00:00\u001b[0m\n",
      "\u001b[?25hUsing cached cycler-0.12.1-py3-none-any.whl (8.3 kB)\n",
      "Downloading fonttools-4.49.0-cp311-cp311-manylinux_2_17_x86_64.manylinux2014_x86_64.whl (4.9 MB)\n",
      "\u001b[2K   \u001b[90m━━━━━━━━━━━━━━━━━━━━━━━━━━━━━━━━━━━━━━━━\u001b[0m \u001b[32m4.9/4.9 MB\u001b[0m \u001b[31m77.4 MB/s\u001b[0m eta \u001b[36m0:00:00\u001b[0mta \u001b[36m0:00:01\u001b[0m\n",
      "\u001b[?25hDownloading frozenlist-1.4.1-cp311-cp311-manylinux_2_5_x86_64.manylinux1_x86_64.manylinux_2_17_x86_64.manylinux2014_x86_64.whl (272 kB)\n",
      "\u001b[2K   \u001b[90m━━━━━━━━━━━━━━━━━━━━━━━━━━━━━━━━━━━━━━━━\u001b[0m \u001b[32m272.3/272.3 kB\u001b[0m \u001b[31m38.9 MB/s\u001b[0m eta \u001b[36m0:00:00\u001b[0m\n",
      "\u001b[?25hUsing cached h11-0.14.0-py3-none-any.whl (58 kB)\n",
      "Using cached imageio-2.34.0-py3-none-any.whl (313 kB)\n",
      "Using cached importlib_metadata-7.0.1-py3-none-any.whl (23 kB)\n",
      "Downloading kiwisolver-1.4.5-cp311-cp311-manylinux_2_17_x86_64.manylinux2014_x86_64.whl (1.4 MB)\n",
      "\u001b[2K   \u001b[90m━━━━━━━━━━━━━━━━━━━━━━━━━━━━━━━━━━━━━━━━\u001b[0m \u001b[32m1.4/1.4 MB\u001b[0m \u001b[31m91.0 MB/s\u001b[0m eta \u001b[36m0:00:00\u001b[0m\n",
      "\u001b[?25hUsing cached lazy_loader-0.3-py3-none-any.whl (9.1 kB)\n",
      "Using cached markdown_it_py-3.0.0-py3-none-any.whl (87 kB)\n",
      "Using cached mpmath-1.3.0-py3-none-any.whl (536 kB)\n",
      "Downloading multidict-6.0.5-cp311-cp311-manylinux_2_17_x86_64.manylinux2014_x86_64.whl (128 kB)\n",
      "\u001b[2K   \u001b[90m━━━━━━━━━━━━━━━━━━━━━━━━━━━━━━━━━━━━━━━━\u001b[0m \u001b[32m128.7/128.7 kB\u001b[0m \u001b[31m35.6 MB/s\u001b[0m eta \u001b[36m0:00:00\u001b[0m\n",
      "\u001b[?25hUsing cached pyparsing-3.1.1-py3-none-any.whl (103 kB)\n",
      "Using cached starlette-0.36.3-py3-none-any.whl (71 kB)\n",
      "Downloading tifffile-2024.2.12-py3-none-any.whl (224 kB)\n",
      "\u001b[2K   \u001b[90m━━━━━━━━━━━━━━━━━━━━━━━━━━━━━━━━━━━━━━━━\u001b[0m \u001b[32m224.5/224.5 kB\u001b[0m \u001b[31m59.3 MB/s\u001b[0m eta \u001b[36m0:00:00\u001b[0m\n",
      "\u001b[?25hDownloading yarl-1.9.4-cp311-cp311-manylinux_2_17_x86_64.manylinux2014_x86_64.whl (328 kB)\n",
      "\u001b[2K   \u001b[90m━━━━━━━━━━━━━━━━━━━━━━━━━━━━━━━━━━━━━━━━\u001b[0m \u001b[32m328.1/328.1 kB\u001b[0m \u001b[31m73.1 MB/s\u001b[0m eta \u001b[36m0:00:00\u001b[0m\n",
      "\u001b[?25hUsing cached cmake-3.28.3-py2.py3-none-manylinux2014_x86_64.manylinux_2_17_x86_64.whl (26.3 MB)\n",
      "Using cached Markdown-3.5.2-py3-none-any.whl (103 kB)\n",
      "Downloading openxlab-0.0.11-py3-none-any.whl (55 kB)\n",
      "\u001b[2K   \u001b[90m━━━━━━━━━━━━━━━━━━━━━━━━━━━━━━━━━━━━━━━━\u001b[0m \u001b[32m55.3/55.3 kB\u001b[0m \u001b[31m17.7 MB/s\u001b[0m eta \u001b[36m0:00:00\u001b[0m\n",
      "\u001b[?25hUsing cached pycryptodome-3.20.0-cp35-abi3-manylinux_2_17_x86_64.manylinux2014_x86_64.whl (2.1 MB)\n",
      "Using cached toolz-0.12.1-py3-none-any.whl (56 kB)\n",
      "Using cached zipp-3.17.0-py3-none-any.whl (7.4 kB)\n",
      "Building wheels for collected packages: mmcv, lit\n",
      "  Building wheel for mmcv (setup.py) ... \u001b[?25ldone\n",
      "\u001b[?25h  Created wheel for mmcv: filename=mmcv-2.0.1-py2.py3-none-any.whl size=714786 sha256=79923f1fd320d539649350eb8909ea14a38f801d2fd13fc619f8e658572ab424\n",
      "  Stored in directory: /home/sush/.cache/pip/wheels/de/1b/82/14404666d888e5f693ae9b5f48aad6c797c41df106bc99b5e2\n",
      "  Building wheel for lit (pyproject.toml) ... \u001b[?25ldone\n",
      "\u001b[?25h  Created wheel for lit: filename=lit-17.0.6-py3-none-any.whl size=93255 sha256=25f46ec2c9f13655a1c6a1a275c7ff668e4e88b00025cff3fbbef7b3420c5bda\n",
      "  Stored in directory: /home/sush/.cache/pip/wheels/9a/d2/44/b343df3455b5eb41d21ba323a8194b0db53295fd324747f179\n",
      "Successfully built mmcv lit\n",
      "Installing collected packages: tokenizers, pydub, pyclipper, mpmath, lmdb, lit, ffmpy, cmake, addict, zipp, xxhash, websockets, tzlocal, tzdata, tqdm, toolz, tomli, terminaltables, termcolor, tabulate, sympy, semantic-version, safetensors, regex, rapidfuzz, python-multipart, pyparsing, pydantic-core, pycryptodome, pillow, orjson, ordered-set, openxlab, nvidia-nvtx-cu11, nvidia-nccl-cu11, nvidia-cusparse-cu11, nvidia-curand-cu11, nvidia-cufft-cu11, nvidia-cuda-runtime-cu11, nvidia-cuda-nvrtc-cu11, nvidia-cuda-cupti-cu11, nvidia-cublas-cu11, numpy, networkx, multidict, mdurl, markdown, lazy_loader, kiwisolver, Jinja2, importlib-resources, h11, fsspec, frozenlist, fonttools, filelock, dill, cycler, colorama, Click, annotated-types, aiofiles, yarl, uvicorn, tifffile, starlette, shapely, scipy, responses, pydantic, pyarrow, pandas, opencv-python-headless, opencv-python, nvidia-cusolver-cu11, nvidia-cudnn-cu11, multiprocess, model-index, markdown-it-py, jiwer, importlib-metadata, imageio, huggingface-hub, httpcore, contourpy, apscheduler, aiosignal, yapf, transformers, scikit-image, rich, matplotlib, httpx, fastapi, aiohttp, pycocotools, opendatalab, mmengine, imgaug, gradio-client, altair, openmim, mmocr, mmdet, mmcv, gradio, datasets, evaluate, triton, torch, torchvision\n",
      "  Attempting uninstall: Jinja2\n",
      "    Found existing installation: Jinja2 3.1.3\n",
      "    Uninstalling Jinja2-3.1.3:\n",
      "      Successfully uninstalled Jinja2-3.1.3\n",
      "Successfully installed Click-8.1.7 Jinja2-3.1.2 addict-2.4.0 aiofiles-23.2.1 aiohttp-3.9.3 aiosignal-1.3.1 altair-5.2.0 annotated-types-0.6.0 apscheduler-3.10.4 cmake-3.28.3 colorama-0.4.6 contourpy-1.2.0 cycler-0.12.1 datasets-2.14.5 dill-0.3.7 evaluate-0.4.1 fastapi-0.109.2 ffmpy-0.3.2 filelock-3.13.1 fonttools-4.49.0 frozenlist-1.4.1 fsspec-2023.6.0 gradio-3.41.0 gradio-client-0.5.0 h11-0.14.0 httpcore-1.0.3 httpx-0.26.0 huggingface-hub-0.15.1 imageio-2.34.0 imgaug-0.4.0 importlib-metadata-7.0.1 importlib-resources-6.1.1 jiwer-3.0.3 kiwisolver-1.4.5 lazy_loader-0.3 lit-17.0.6 lmdb-1.4.1 markdown-3.5.2 markdown-it-py-3.0.0 matplotlib-3.8.3 mdurl-0.1.2 mmcv-2.0.1 mmdet-3.0.0 mmengine-0.7.4 mmocr-1.0.0 model-index-0.1.11 mpmath-1.3.0 multidict-6.0.5 multiprocess-0.70.15 networkx-3.2.1 numpy-1.25.0 nvidia-cublas-cu11-11.10.3.66 nvidia-cuda-cupti-cu11-11.7.101 nvidia-cuda-nvrtc-cu11-11.7.99 nvidia-cuda-runtime-cu11-11.7.99 nvidia-cudnn-cu11-8.5.0.96 nvidia-cufft-cu11-10.9.0.58 nvidia-curand-cu11-10.2.10.91 nvidia-cusolver-cu11-11.4.0.1 nvidia-cusparse-cu11-11.7.4.91 nvidia-nccl-cu11-2.14.3 nvidia-nvtx-cu11-11.7.91 opencv-python-4.9.0.80 opencv-python-headless-4.7.0.72 opendatalab-0.0.10 openmim-0.3.9 openxlab-0.0.11 ordered-set-4.1.0 orjson-3.9.14 pandas-2.0.3 pillow-10.2.0 pyarrow-15.0.0 pyclipper-1.3.0.post5 pycocotools-2.0.7 pycryptodome-3.20.0 pydantic-2.6.1 pydantic-core-2.16.2 pydub-0.25.1 pyparsing-3.1.1 python-multipart-0.0.9 rapidfuzz-3.6.1 regex-2023.12.25 responses-0.18.0 rich-13.7.0 safetensors-0.4.2 scikit-image-0.22.0 scipy-1.12.0 semantic-version-2.10.0 shapely-2.0.3 starlette-0.36.3 sympy-1.12 tabulate-0.9.0 termcolor-2.4.0 terminaltables-3.1.10 tifffile-2024.2.12 tokenizers-0.13.3 tomli-2.0.1 toolz-0.12.1 torch-2.0.1 torchvision-0.15.2 tqdm-4.66.2 transformers-4.30.2 triton-2.0.0 tzdata-2024.1 tzlocal-5.2 uvicorn-0.27.1 websockets-11.0.3 xxhash-3.4.1 yapf-0.40.2 yarl-1.9.4 zipp-3.17.0\n"
     ]
    }
   ],
   "source": [
    "#conda activate htrflow\n",
    "!pip install -r requirements.txt"
   ]
  },
  {
   "cell_type": "code",
   "execution_count": 8,
   "id": "ab7ed1e9-843c-4740-9d0a-c758f406065d",
   "metadata": {},
   "outputs": [
    {
     "name": "stdout",
     "output_type": "stream",
     "text": [
      "Found existing installation: mmengine 0.7.4\n",
      "Uninstalling mmengine-0.7.4:\n",
      "  Successfully uninstalled mmengine-0.7.4\n",
      "Found existing installation: mmcv 2.0.1\n",
      "Uninstalling mmcv-2.0.1:\n",
      "  Successfully uninstalled mmcv-2.0.1\n",
      "Found existing installation: mmdet 3.0.0\n",
      "Uninstalling mmdet-3.0.0:\n",
      "  Successfully uninstalled mmdet-3.0.0\n",
      "Found existing installation: mmocr 1.0.0\n",
      "Uninstalling mmocr-1.0.0:\n",
      "  Successfully uninstalled mmocr-1.0.0\n"
     ]
    }
   ],
   "source": [
    "!mim uninstall mmengine --y\n",
    "!mim uninstall mmcv --y\n",
    "!mim uninstall mmdet --y\n",
    "!mim uninstall mmocr --y\n"
   ]
  },
  {
   "cell_type": "code",
   "execution_count": 9,
   "id": "df4ca839-8fa8-42c9-98c5-8b924506104d",
   "metadata": {
    "scrolled": true
   },
   "outputs": [
    {
     "name": "stdout",
     "output_type": "stream",
     "text": [
      "Requirement already satisfied: openmim in /home/sush/miniconda3/envs/htrflow/lib/python3.11/site-packages (0.3.9)\n",
      "Requirement already satisfied: Click in /home/sush/miniconda3/envs/htrflow/lib/python3.11/site-packages (from openmim) (8.1.7)\n",
      "Requirement already satisfied: colorama in /home/sush/miniconda3/envs/htrflow/lib/python3.11/site-packages (from openmim) (0.4.6)\n",
      "Requirement already satisfied: model-index in /home/sush/miniconda3/envs/htrflow/lib/python3.11/site-packages (from openmim) (0.1.11)\n",
      "Requirement already satisfied: opendatalab in /home/sush/miniconda3/envs/htrflow/lib/python3.11/site-packages (from openmim) (0.0.10)\n",
      "Requirement already satisfied: pandas in /home/sush/miniconda3/envs/htrflow/lib/python3.11/site-packages (from openmim) (2.0.3)\n",
      "Requirement already satisfied: pip>=19.3 in /home/sush/miniconda3/envs/htrflow/lib/python3.11/site-packages (from openmim) (23.3.1)\n",
      "Requirement already satisfied: requests in /home/sush/miniconda3/envs/htrflow/lib/python3.11/site-packages (from openmim) (2.31.0)\n",
      "Requirement already satisfied: rich in /home/sush/miniconda3/envs/htrflow/lib/python3.11/site-packages (from openmim) (13.7.0)\n",
      "Requirement already satisfied: tabulate in /home/sush/miniconda3/envs/htrflow/lib/python3.11/site-packages (from openmim) (0.9.0)\n",
      "Requirement already satisfied: pyyaml in /home/sush/miniconda3/envs/htrflow/lib/python3.11/site-packages (from model-index->openmim) (6.0.1)\n",
      "Requirement already satisfied: markdown in /home/sush/miniconda3/envs/htrflow/lib/python3.11/site-packages (from model-index->openmim) (3.5.2)\n",
      "Requirement already satisfied: ordered-set in /home/sush/miniconda3/envs/htrflow/lib/python3.11/site-packages (from model-index->openmim) (4.1.0)\n",
      "Requirement already satisfied: pycryptodome in /home/sush/miniconda3/envs/htrflow/lib/python3.11/site-packages (from opendatalab->openmim) (3.20.0)\n",
      "Requirement already satisfied: tqdm in /home/sush/miniconda3/envs/htrflow/lib/python3.11/site-packages (from opendatalab->openmim) (4.66.2)\n",
      "Requirement already satisfied: openxlab in /home/sush/miniconda3/envs/htrflow/lib/python3.11/site-packages (from opendatalab->openmim) (0.0.11)\n",
      "Requirement already satisfied: charset-normalizer<4,>=2 in /home/sush/miniconda3/envs/htrflow/lib/python3.11/site-packages (from requests->openmim) (2.0.4)\n",
      "Requirement already satisfied: idna<4,>=2.5 in /home/sush/miniconda3/envs/htrflow/lib/python3.11/site-packages (from requests->openmim) (3.4)\n",
      "Requirement already satisfied: urllib3<3,>=1.21.1 in /home/sush/miniconda3/envs/htrflow/lib/python3.11/site-packages (from requests->openmim) (2.1.0)\n",
      "Requirement already satisfied: certifi>=2017.4.17 in /home/sush/miniconda3/envs/htrflow/lib/python3.11/site-packages (from requests->openmim) (2024.2.2)\n",
      "Requirement already satisfied: python-dateutil>=2.8.2 in /home/sush/miniconda3/envs/htrflow/lib/python3.11/site-packages (from pandas->openmim) (2.8.2)\n",
      "Requirement already satisfied: pytz>=2020.1 in /home/sush/miniconda3/envs/htrflow/lib/python3.11/site-packages (from pandas->openmim) (2023.3.post1)\n",
      "Requirement already satisfied: tzdata>=2022.1 in /home/sush/miniconda3/envs/htrflow/lib/python3.11/site-packages (from pandas->openmim) (2024.1)\n",
      "Requirement already satisfied: numpy>=1.21.0 in /home/sush/miniconda3/envs/htrflow/lib/python3.11/site-packages (from pandas->openmim) (1.25.0)\n",
      "Requirement already satisfied: markdown-it-py>=2.2.0 in /home/sush/miniconda3/envs/htrflow/lib/python3.11/site-packages (from rich->openmim) (3.0.0)\n",
      "Requirement already satisfied: pygments<3.0.0,>=2.13.0 in /home/sush/miniconda3/envs/htrflow/lib/python3.11/site-packages (from rich->openmim) (2.15.1)\n",
      "Requirement already satisfied: mdurl~=0.1 in /home/sush/miniconda3/envs/htrflow/lib/python3.11/site-packages (from markdown-it-py>=2.2.0->rich->openmim) (0.1.2)\n",
      "Requirement already satisfied: six>=1.5 in /home/sush/miniconda3/envs/htrflow/lib/python3.11/site-packages (from python-dateutil>=2.8.2->pandas->openmim) (1.16.0)\n",
      "Looking in links: https://download.openmmlab.com/mmcv/dist/cu117/torch2.0.0/index.html\n",
      "Collecting mmengine<1.1.0,>=0.7.1\n",
      "  Using cached mmengine-0.10.3-py3-none-any.whl.metadata (20 kB)\n",
      "Requirement already satisfied: addict in /home/sush/miniconda3/envs/htrflow/lib/python3.11/site-packages (from mmengine<1.1.0,>=0.7.1) (2.4.0)\n",
      "Requirement already satisfied: matplotlib in /home/sush/miniconda3/envs/htrflow/lib/python3.11/site-packages (from mmengine<1.1.0,>=0.7.1) (3.8.3)\n",
      "Requirement already satisfied: numpy in /home/sush/miniconda3/envs/htrflow/lib/python3.11/site-packages (from mmengine<1.1.0,>=0.7.1) (1.25.0)\n",
      "Requirement already satisfied: pyyaml in /home/sush/miniconda3/envs/htrflow/lib/python3.11/site-packages (from mmengine<1.1.0,>=0.7.1) (6.0.1)\n",
      "Requirement already satisfied: rich in /home/sush/miniconda3/envs/htrflow/lib/python3.11/site-packages (from mmengine<1.1.0,>=0.7.1) (13.7.0)\n",
      "Requirement already satisfied: termcolor in /home/sush/miniconda3/envs/htrflow/lib/python3.11/site-packages (from mmengine<1.1.0,>=0.7.1) (2.4.0)\n",
      "Requirement already satisfied: yapf in /home/sush/miniconda3/envs/htrflow/lib/python3.11/site-packages (from mmengine<1.1.0,>=0.7.1) (0.40.2)\n",
      "Requirement already satisfied: opencv-python>=3 in /home/sush/miniconda3/envs/htrflow/lib/python3.11/site-packages (from mmengine<1.1.0,>=0.7.1) (4.9.0.80)\n",
      "Requirement already satisfied: contourpy>=1.0.1 in /home/sush/miniconda3/envs/htrflow/lib/python3.11/site-packages (from matplotlib->mmengine<1.1.0,>=0.7.1) (1.2.0)\n",
      "Requirement already satisfied: cycler>=0.10 in /home/sush/miniconda3/envs/htrflow/lib/python3.11/site-packages (from matplotlib->mmengine<1.1.0,>=0.7.1) (0.12.1)\n",
      "Requirement already satisfied: fonttools>=4.22.0 in /home/sush/miniconda3/envs/htrflow/lib/python3.11/site-packages (from matplotlib->mmengine<1.1.0,>=0.7.1) (4.49.0)\n",
      "Requirement already satisfied: kiwisolver>=1.3.1 in /home/sush/miniconda3/envs/htrflow/lib/python3.11/site-packages (from matplotlib->mmengine<1.1.0,>=0.7.1) (1.4.5)\n",
      "Requirement already satisfied: packaging>=20.0 in /home/sush/miniconda3/envs/htrflow/lib/python3.11/site-packages (from matplotlib->mmengine<1.1.0,>=0.7.1) (23.1)\n",
      "Requirement already satisfied: pillow>=8 in /home/sush/miniconda3/envs/htrflow/lib/python3.11/site-packages (from matplotlib->mmengine<1.1.0,>=0.7.1) (10.2.0)\n",
      "Requirement already satisfied: pyparsing>=2.3.1 in /home/sush/miniconda3/envs/htrflow/lib/python3.11/site-packages (from matplotlib->mmengine<1.1.0,>=0.7.1) (3.1.1)\n",
      "Requirement already satisfied: python-dateutil>=2.7 in /home/sush/miniconda3/envs/htrflow/lib/python3.11/site-packages (from matplotlib->mmengine<1.1.0,>=0.7.1) (2.8.2)\n",
      "Requirement already satisfied: markdown-it-py>=2.2.0 in /home/sush/miniconda3/envs/htrflow/lib/python3.11/site-packages (from rich->mmengine<1.1.0,>=0.7.1) (3.0.0)\n",
      "Requirement already satisfied: pygments<3.0.0,>=2.13.0 in /home/sush/miniconda3/envs/htrflow/lib/python3.11/site-packages (from rich->mmengine<1.1.0,>=0.7.1) (2.15.1)\n",
      "Requirement already satisfied: importlib-metadata>=6.6.0 in /home/sush/miniconda3/envs/htrflow/lib/python3.11/site-packages (from yapf->mmengine<1.1.0,>=0.7.1) (7.0.1)\n",
      "Requirement already satisfied: platformdirs>=3.5.1 in /home/sush/miniconda3/envs/htrflow/lib/python3.11/site-packages (from yapf->mmengine<1.1.0,>=0.7.1) (3.10.0)\n",
      "Requirement already satisfied: tomli>=2.0.1 in /home/sush/miniconda3/envs/htrflow/lib/python3.11/site-packages (from yapf->mmengine<1.1.0,>=0.7.1) (2.0.1)\n",
      "Requirement already satisfied: zipp>=0.5 in /home/sush/miniconda3/envs/htrflow/lib/python3.11/site-packages (from importlib-metadata>=6.6.0->yapf->mmengine<1.1.0,>=0.7.1) (3.17.0)\n",
      "Requirement already satisfied: mdurl~=0.1 in /home/sush/miniconda3/envs/htrflow/lib/python3.11/site-packages (from markdown-it-py>=2.2.0->rich->mmengine<1.1.0,>=0.7.1) (0.1.2)\n",
      "Requirement already satisfied: six>=1.5 in /home/sush/miniconda3/envs/htrflow/lib/python3.11/site-packages (from python-dateutil>=2.7->matplotlib->mmengine<1.1.0,>=0.7.1) (1.16.0)\n",
      "Using cached mmengine-0.10.3-py3-none-any.whl (451 kB)\n",
      "Installing collected packages: mmengine\n",
      "Successfully installed mmengine-0.10.3\n",
      "Looking in links: https://download.openmmlab.com/mmcv/dist/cu117/torch2.0.0/index.html\n",
      "Collecting mmcv<2.1.0,>=2.0.0rc4\n",
      "  Downloading https://download.openmmlab.com/mmcv/dist/cu117/torch2.0.0/mmcv-2.0.1-cp311-cp311-manylinux1_x86_64.whl (74.3 MB)\n",
      "\u001b[2K     \u001b[90m━━━━━━━━━━━━━━━━━━━━━━━━━━━━━━━━━━━━━━━━\u001b[0m \u001b[32m74.3/74.3 MB\u001b[0m \u001b[31m22.6 MB/s\u001b[0m eta \u001b[36m0:00:00\u001b[0m00:01\u001b[0m00:01\u001b[0m\n",
      "\u001b[?25hRequirement already satisfied: addict in /home/sush/miniconda3/envs/htrflow/lib/python3.11/site-packages (from mmcv<2.1.0,>=2.0.0rc4) (2.4.0)\n",
      "Requirement already satisfied: mmengine>=0.3.0 in /home/sush/miniconda3/envs/htrflow/lib/python3.11/site-packages (from mmcv<2.1.0,>=2.0.0rc4) (0.10.3)\n",
      "Requirement already satisfied: numpy in /home/sush/miniconda3/envs/htrflow/lib/python3.11/site-packages (from mmcv<2.1.0,>=2.0.0rc4) (1.25.0)\n",
      "Requirement already satisfied: packaging in /home/sush/miniconda3/envs/htrflow/lib/python3.11/site-packages (from mmcv<2.1.0,>=2.0.0rc4) (23.1)\n",
      "Requirement already satisfied: Pillow in /home/sush/miniconda3/envs/htrflow/lib/python3.11/site-packages (from mmcv<2.1.0,>=2.0.0rc4) (10.2.0)\n",
      "Requirement already satisfied: pyyaml in /home/sush/miniconda3/envs/htrflow/lib/python3.11/site-packages (from mmcv<2.1.0,>=2.0.0rc4) (6.0.1)\n",
      "Requirement already satisfied: yapf in /home/sush/miniconda3/envs/htrflow/lib/python3.11/site-packages (from mmcv<2.1.0,>=2.0.0rc4) (0.40.2)\n",
      "Requirement already satisfied: opencv-python>=3 in /home/sush/miniconda3/envs/htrflow/lib/python3.11/site-packages (from mmcv<2.1.0,>=2.0.0rc4) (4.9.0.80)\n",
      "Requirement already satisfied: matplotlib in /home/sush/miniconda3/envs/htrflow/lib/python3.11/site-packages (from mmengine>=0.3.0->mmcv<2.1.0,>=2.0.0rc4) (3.8.3)\n",
      "Requirement already satisfied: rich in /home/sush/miniconda3/envs/htrflow/lib/python3.11/site-packages (from mmengine>=0.3.0->mmcv<2.1.0,>=2.0.0rc4) (13.7.0)\n",
      "Requirement already satisfied: termcolor in /home/sush/miniconda3/envs/htrflow/lib/python3.11/site-packages (from mmengine>=0.3.0->mmcv<2.1.0,>=2.0.0rc4) (2.4.0)\n",
      "Requirement already satisfied: importlib-metadata>=6.6.0 in /home/sush/miniconda3/envs/htrflow/lib/python3.11/site-packages (from yapf->mmcv<2.1.0,>=2.0.0rc4) (7.0.1)\n",
      "Requirement already satisfied: platformdirs>=3.5.1 in /home/sush/miniconda3/envs/htrflow/lib/python3.11/site-packages (from yapf->mmcv<2.1.0,>=2.0.0rc4) (3.10.0)\n",
      "Requirement already satisfied: tomli>=2.0.1 in /home/sush/miniconda3/envs/htrflow/lib/python3.11/site-packages (from yapf->mmcv<2.1.0,>=2.0.0rc4) (2.0.1)\n",
      "Requirement already satisfied: zipp>=0.5 in /home/sush/miniconda3/envs/htrflow/lib/python3.11/site-packages (from importlib-metadata>=6.6.0->yapf->mmcv<2.1.0,>=2.0.0rc4) (3.17.0)\n",
      "Requirement already satisfied: contourpy>=1.0.1 in /home/sush/miniconda3/envs/htrflow/lib/python3.11/site-packages (from matplotlib->mmengine>=0.3.0->mmcv<2.1.0,>=2.0.0rc4) (1.2.0)\n",
      "Requirement already satisfied: cycler>=0.10 in /home/sush/miniconda3/envs/htrflow/lib/python3.11/site-packages (from matplotlib->mmengine>=0.3.0->mmcv<2.1.0,>=2.0.0rc4) (0.12.1)\n",
      "Requirement already satisfied: fonttools>=4.22.0 in /home/sush/miniconda3/envs/htrflow/lib/python3.11/site-packages (from matplotlib->mmengine>=0.3.0->mmcv<2.1.0,>=2.0.0rc4) (4.49.0)\n",
      "Requirement already satisfied: kiwisolver>=1.3.1 in /home/sush/miniconda3/envs/htrflow/lib/python3.11/site-packages (from matplotlib->mmengine>=0.3.0->mmcv<2.1.0,>=2.0.0rc4) (1.4.5)\n",
      "Requirement already satisfied: pyparsing>=2.3.1 in /home/sush/miniconda3/envs/htrflow/lib/python3.11/site-packages (from matplotlib->mmengine>=0.3.0->mmcv<2.1.0,>=2.0.0rc4) (3.1.1)\n",
      "Requirement already satisfied: python-dateutil>=2.7 in /home/sush/miniconda3/envs/htrflow/lib/python3.11/site-packages (from matplotlib->mmengine>=0.3.0->mmcv<2.1.0,>=2.0.0rc4) (2.8.2)\n",
      "Requirement already satisfied: markdown-it-py>=2.2.0 in /home/sush/miniconda3/envs/htrflow/lib/python3.11/site-packages (from rich->mmengine>=0.3.0->mmcv<2.1.0,>=2.0.0rc4) (3.0.0)\n",
      "Requirement already satisfied: pygments<3.0.0,>=2.13.0 in /home/sush/miniconda3/envs/htrflow/lib/python3.11/site-packages (from rich->mmengine>=0.3.0->mmcv<2.1.0,>=2.0.0rc4) (2.15.1)\n",
      "Requirement already satisfied: mdurl~=0.1 in /home/sush/miniconda3/envs/htrflow/lib/python3.11/site-packages (from markdown-it-py>=2.2.0->rich->mmengine>=0.3.0->mmcv<2.1.0,>=2.0.0rc4) (0.1.2)\n",
      "Requirement already satisfied: six>=1.5 in /home/sush/miniconda3/envs/htrflow/lib/python3.11/site-packages (from python-dateutil>=2.7->matplotlib->mmengine>=0.3.0->mmcv<2.1.0,>=2.0.0rc4) (1.16.0)\n",
      "Installing collected packages: mmcv\n",
      "Successfully installed mmcv-2.0.1\n",
      "Looking in links: https://download.openmmlab.com/mmcv/dist/cu117/torch2.0.0/index.html\n",
      "Collecting mmdet<3.2.0,>=3.0.0rc5\n",
      "  Using cached mmdet-3.1.0-py3-none-any.whl.metadata (28 kB)\n",
      "Requirement already satisfied: matplotlib in /home/sush/miniconda3/envs/htrflow/lib/python3.11/site-packages (from mmdet<3.2.0,>=3.0.0rc5) (3.8.3)\n",
      "Requirement already satisfied: numpy in /home/sush/miniconda3/envs/htrflow/lib/python3.11/site-packages (from mmdet<3.2.0,>=3.0.0rc5) (1.25.0)\n",
      "Requirement already satisfied: pycocotools in /home/sush/miniconda3/envs/htrflow/lib/python3.11/site-packages (from mmdet<3.2.0,>=3.0.0rc5) (2.0.7)\n",
      "Requirement already satisfied: scipy in /home/sush/miniconda3/envs/htrflow/lib/python3.11/site-packages (from mmdet<3.2.0,>=3.0.0rc5) (1.12.0)\n",
      "Requirement already satisfied: shapely in /home/sush/miniconda3/envs/htrflow/lib/python3.11/site-packages (from mmdet<3.2.0,>=3.0.0rc5) (2.0.3)\n",
      "Requirement already satisfied: six in /home/sush/miniconda3/envs/htrflow/lib/python3.11/site-packages (from mmdet<3.2.0,>=3.0.0rc5) (1.16.0)\n",
      "Requirement already satisfied: terminaltables in /home/sush/miniconda3/envs/htrflow/lib/python3.11/site-packages (from mmdet<3.2.0,>=3.0.0rc5) (3.1.10)\n",
      "Requirement already satisfied: mmcv<2.1.0,>=2.0.0rc4 in /home/sush/miniconda3/envs/htrflow/lib/python3.11/site-packages (from mmdet<3.2.0,>=3.0.0rc5) (2.0.1)\n",
      "Requirement already satisfied: mmengine<1.0.0,>=0.7.1 in /home/sush/miniconda3/envs/htrflow/lib/python3.11/site-packages (from mmdet<3.2.0,>=3.0.0rc5) (0.10.3)\n",
      "Requirement already satisfied: addict in /home/sush/miniconda3/envs/htrflow/lib/python3.11/site-packages (from mmcv<2.1.0,>=2.0.0rc4->mmdet<3.2.0,>=3.0.0rc5) (2.4.0)\n",
      "Requirement already satisfied: packaging in /home/sush/miniconda3/envs/htrflow/lib/python3.11/site-packages (from mmcv<2.1.0,>=2.0.0rc4->mmdet<3.2.0,>=3.0.0rc5) (23.1)\n",
      "Requirement already satisfied: Pillow in /home/sush/miniconda3/envs/htrflow/lib/python3.11/site-packages (from mmcv<2.1.0,>=2.0.0rc4->mmdet<3.2.0,>=3.0.0rc5) (10.2.0)\n",
      "Requirement already satisfied: pyyaml in /home/sush/miniconda3/envs/htrflow/lib/python3.11/site-packages (from mmcv<2.1.0,>=2.0.0rc4->mmdet<3.2.0,>=3.0.0rc5) (6.0.1)\n",
      "Requirement already satisfied: yapf in /home/sush/miniconda3/envs/htrflow/lib/python3.11/site-packages (from mmcv<2.1.0,>=2.0.0rc4->mmdet<3.2.0,>=3.0.0rc5) (0.40.2)\n",
      "Requirement already satisfied: opencv-python>=3 in /home/sush/miniconda3/envs/htrflow/lib/python3.11/site-packages (from mmcv<2.1.0,>=2.0.0rc4->mmdet<3.2.0,>=3.0.0rc5) (4.9.0.80)\n",
      "Requirement already satisfied: rich in /home/sush/miniconda3/envs/htrflow/lib/python3.11/site-packages (from mmengine<1.0.0,>=0.7.1->mmdet<3.2.0,>=3.0.0rc5) (13.7.0)\n",
      "Requirement already satisfied: termcolor in /home/sush/miniconda3/envs/htrflow/lib/python3.11/site-packages (from mmengine<1.0.0,>=0.7.1->mmdet<3.2.0,>=3.0.0rc5) (2.4.0)\n",
      "Requirement already satisfied: contourpy>=1.0.1 in /home/sush/miniconda3/envs/htrflow/lib/python3.11/site-packages (from matplotlib->mmdet<3.2.0,>=3.0.0rc5) (1.2.0)\n",
      "Requirement already satisfied: cycler>=0.10 in /home/sush/miniconda3/envs/htrflow/lib/python3.11/site-packages (from matplotlib->mmdet<3.2.0,>=3.0.0rc5) (0.12.1)\n",
      "Requirement already satisfied: fonttools>=4.22.0 in /home/sush/miniconda3/envs/htrflow/lib/python3.11/site-packages (from matplotlib->mmdet<3.2.0,>=3.0.0rc5) (4.49.0)\n",
      "Requirement already satisfied: kiwisolver>=1.3.1 in /home/sush/miniconda3/envs/htrflow/lib/python3.11/site-packages (from matplotlib->mmdet<3.2.0,>=3.0.0rc5) (1.4.5)\n",
      "Requirement already satisfied: pyparsing>=2.3.1 in /home/sush/miniconda3/envs/htrflow/lib/python3.11/site-packages (from matplotlib->mmdet<3.2.0,>=3.0.0rc5) (3.1.1)\n",
      "Requirement already satisfied: python-dateutil>=2.7 in /home/sush/miniconda3/envs/htrflow/lib/python3.11/site-packages (from matplotlib->mmdet<3.2.0,>=3.0.0rc5) (2.8.2)\n",
      "Requirement already satisfied: markdown-it-py>=2.2.0 in /home/sush/miniconda3/envs/htrflow/lib/python3.11/site-packages (from rich->mmengine<1.0.0,>=0.7.1->mmdet<3.2.0,>=3.0.0rc5) (3.0.0)\n",
      "Requirement already satisfied: pygments<3.0.0,>=2.13.0 in /home/sush/miniconda3/envs/htrflow/lib/python3.11/site-packages (from rich->mmengine<1.0.0,>=0.7.1->mmdet<3.2.0,>=3.0.0rc5) (2.15.1)\n",
      "Requirement already satisfied: importlib-metadata>=6.6.0 in /home/sush/miniconda3/envs/htrflow/lib/python3.11/site-packages (from yapf->mmcv<2.1.0,>=2.0.0rc4->mmdet<3.2.0,>=3.0.0rc5) (7.0.1)\n",
      "Requirement already satisfied: platformdirs>=3.5.1 in /home/sush/miniconda3/envs/htrflow/lib/python3.11/site-packages (from yapf->mmcv<2.1.0,>=2.0.0rc4->mmdet<3.2.0,>=3.0.0rc5) (3.10.0)\n",
      "Requirement already satisfied: tomli>=2.0.1 in /home/sush/miniconda3/envs/htrflow/lib/python3.11/site-packages (from yapf->mmcv<2.1.0,>=2.0.0rc4->mmdet<3.2.0,>=3.0.0rc5) (2.0.1)\n",
      "Requirement already satisfied: zipp>=0.5 in /home/sush/miniconda3/envs/htrflow/lib/python3.11/site-packages (from importlib-metadata>=6.6.0->yapf->mmcv<2.1.0,>=2.0.0rc4->mmdet<3.2.0,>=3.0.0rc5) (3.17.0)\n",
      "Requirement already satisfied: mdurl~=0.1 in /home/sush/miniconda3/envs/htrflow/lib/python3.11/site-packages (from markdown-it-py>=2.2.0->rich->mmengine<1.0.0,>=0.7.1->mmdet<3.2.0,>=3.0.0rc5) (0.1.2)\n",
      "Using cached mmdet-3.1.0-py3-none-any.whl (2.0 MB)\n",
      "Installing collected packages: mmdet\n",
      "Successfully installed mmdet-3.1.0\n",
      "Looking in links: https://download.openmmlab.com/mmcv/dist/cu117/torch2.0.0/index.html\n",
      "Collecting mmocr\n",
      "  Downloading mmocr-1.0.1-py2.py3-none-any.whl.metadata (17 kB)\n",
      "Requirement already satisfied: imgaug in /home/sush/miniconda3/envs/htrflow/lib/python3.11/site-packages (from mmocr) (0.4.0)\n",
      "Requirement already satisfied: lmdb in /home/sush/miniconda3/envs/htrflow/lib/python3.11/site-packages (from mmocr) (1.4.1)\n",
      "Requirement already satisfied: matplotlib in /home/sush/miniconda3/envs/htrflow/lib/python3.11/site-packages (from mmocr) (3.8.3)\n",
      "Requirement already satisfied: numpy in /home/sush/miniconda3/envs/htrflow/lib/python3.11/site-packages (from mmocr) (1.25.0)\n",
      "Requirement already satisfied: opencv-python!=4.5.5.*,>=4.2.0.32 in /home/sush/miniconda3/envs/htrflow/lib/python3.11/site-packages (from mmocr) (4.9.0.80)\n",
      "Requirement already satisfied: pyclipper in /home/sush/miniconda3/envs/htrflow/lib/python3.11/site-packages (from mmocr) (1.3.0.post5)\n",
      "Requirement already satisfied: pycocotools in /home/sush/miniconda3/envs/htrflow/lib/python3.11/site-packages (from mmocr) (2.0.7)\n",
      "Requirement already satisfied: rapidfuzz>=2.0.0 in /home/sush/miniconda3/envs/htrflow/lib/python3.11/site-packages (from mmocr) (3.6.1)\n",
      "Requirement already satisfied: scikit-image in /home/sush/miniconda3/envs/htrflow/lib/python3.11/site-packages (from mmocr) (0.22.0)\n",
      "Requirement already satisfied: mmcv<2.2.0,>=2.0.0rc4 in /home/sush/miniconda3/envs/htrflow/lib/python3.11/site-packages (from mmocr) (2.0.1)\n",
      "Requirement already satisfied: mmdet<3.2.0,>=3.0.0rc5 in /home/sush/miniconda3/envs/htrflow/lib/python3.11/site-packages (from mmocr) (3.1.0)\n",
      "Requirement already satisfied: mmengine<1.1.0,>=0.7.0 in /home/sush/miniconda3/envs/htrflow/lib/python3.11/site-packages (from mmocr) (0.10.3)\n",
      "Requirement already satisfied: addict in /home/sush/miniconda3/envs/htrflow/lib/python3.11/site-packages (from mmcv<2.2.0,>=2.0.0rc4->mmocr) (2.4.0)\n",
      "Requirement already satisfied: packaging in /home/sush/miniconda3/envs/htrflow/lib/python3.11/site-packages (from mmcv<2.2.0,>=2.0.0rc4->mmocr) (23.1)\n",
      "Requirement already satisfied: Pillow in /home/sush/miniconda3/envs/htrflow/lib/python3.11/site-packages (from mmcv<2.2.0,>=2.0.0rc4->mmocr) (10.2.0)\n",
      "Requirement already satisfied: pyyaml in /home/sush/miniconda3/envs/htrflow/lib/python3.11/site-packages (from mmcv<2.2.0,>=2.0.0rc4->mmocr) (6.0.1)\n",
      "Requirement already satisfied: yapf in /home/sush/miniconda3/envs/htrflow/lib/python3.11/site-packages (from mmcv<2.2.0,>=2.0.0rc4->mmocr) (0.40.2)\n",
      "Requirement already satisfied: scipy in /home/sush/miniconda3/envs/htrflow/lib/python3.11/site-packages (from mmdet<3.2.0,>=3.0.0rc5->mmocr) (1.12.0)\n",
      "Requirement already satisfied: shapely in /home/sush/miniconda3/envs/htrflow/lib/python3.11/site-packages (from mmdet<3.2.0,>=3.0.0rc5->mmocr) (2.0.3)\n",
      "Requirement already satisfied: six in /home/sush/miniconda3/envs/htrflow/lib/python3.11/site-packages (from mmdet<3.2.0,>=3.0.0rc5->mmocr) (1.16.0)\n",
      "Requirement already satisfied: terminaltables in /home/sush/miniconda3/envs/htrflow/lib/python3.11/site-packages (from mmdet<3.2.0,>=3.0.0rc5->mmocr) (3.1.10)\n",
      "Requirement already satisfied: rich in /home/sush/miniconda3/envs/htrflow/lib/python3.11/site-packages (from mmengine<1.1.0,>=0.7.0->mmocr) (13.7.0)\n",
      "Requirement already satisfied: termcolor in /home/sush/miniconda3/envs/htrflow/lib/python3.11/site-packages (from mmengine<1.1.0,>=0.7.0->mmocr) (2.4.0)\n",
      "Requirement already satisfied: imageio in /home/sush/miniconda3/envs/htrflow/lib/python3.11/site-packages (from imgaug->mmocr) (2.34.0)\n",
      "Requirement already satisfied: networkx>=2.8 in /home/sush/miniconda3/envs/htrflow/lib/python3.11/site-packages (from scikit-image->mmocr) (3.2.1)\n",
      "Requirement already satisfied: tifffile>=2022.8.12 in /home/sush/miniconda3/envs/htrflow/lib/python3.11/site-packages (from scikit-image->mmocr) (2024.2.12)\n",
      "Requirement already satisfied: lazy_loader>=0.3 in /home/sush/miniconda3/envs/htrflow/lib/python3.11/site-packages (from scikit-image->mmocr) (0.3)\n",
      "Requirement already satisfied: contourpy>=1.0.1 in /home/sush/miniconda3/envs/htrflow/lib/python3.11/site-packages (from matplotlib->mmocr) (1.2.0)\n",
      "Requirement already satisfied: cycler>=0.10 in /home/sush/miniconda3/envs/htrflow/lib/python3.11/site-packages (from matplotlib->mmocr) (0.12.1)\n",
      "Requirement already satisfied: fonttools>=4.22.0 in /home/sush/miniconda3/envs/htrflow/lib/python3.11/site-packages (from matplotlib->mmocr) (4.49.0)\n",
      "Requirement already satisfied: kiwisolver>=1.3.1 in /home/sush/miniconda3/envs/htrflow/lib/python3.11/site-packages (from matplotlib->mmocr) (1.4.5)\n",
      "Requirement already satisfied: pyparsing>=2.3.1 in /home/sush/miniconda3/envs/htrflow/lib/python3.11/site-packages (from matplotlib->mmocr) (3.1.1)\n",
      "Requirement already satisfied: python-dateutil>=2.7 in /home/sush/miniconda3/envs/htrflow/lib/python3.11/site-packages (from matplotlib->mmocr) (2.8.2)\n",
      "Requirement already satisfied: markdown-it-py>=2.2.0 in /home/sush/miniconda3/envs/htrflow/lib/python3.11/site-packages (from rich->mmengine<1.1.0,>=0.7.0->mmocr) (3.0.0)\n",
      "Requirement already satisfied: pygments<3.0.0,>=2.13.0 in /home/sush/miniconda3/envs/htrflow/lib/python3.11/site-packages (from rich->mmengine<1.1.0,>=0.7.0->mmocr) (2.15.1)\n",
      "Requirement already satisfied: importlib-metadata>=6.6.0 in /home/sush/miniconda3/envs/htrflow/lib/python3.11/site-packages (from yapf->mmcv<2.2.0,>=2.0.0rc4->mmocr) (7.0.1)\n",
      "Requirement already satisfied: platformdirs>=3.5.1 in /home/sush/miniconda3/envs/htrflow/lib/python3.11/site-packages (from yapf->mmcv<2.2.0,>=2.0.0rc4->mmocr) (3.10.0)\n",
      "Requirement already satisfied: tomli>=2.0.1 in /home/sush/miniconda3/envs/htrflow/lib/python3.11/site-packages (from yapf->mmcv<2.2.0,>=2.0.0rc4->mmocr) (2.0.1)\n",
      "Requirement already satisfied: zipp>=0.5 in /home/sush/miniconda3/envs/htrflow/lib/python3.11/site-packages (from importlib-metadata>=6.6.0->yapf->mmcv<2.2.0,>=2.0.0rc4->mmocr) (3.17.0)\n",
      "Requirement already satisfied: mdurl~=0.1 in /home/sush/miniconda3/envs/htrflow/lib/python3.11/site-packages (from markdown-it-py>=2.2.0->rich->mmengine<1.1.0,>=0.7.0->mmocr) (0.1.2)\n",
      "Downloading mmocr-1.0.1-py2.py3-none-any.whl (627 kB)\n",
      "\u001b[2K   \u001b[90m━━━━━━━━━━━━━━━━━━━━━━━━━━━━━━━━━━━━━━━━\u001b[0m \u001b[32m627.6/627.6 kB\u001b[0m \u001b[31m25.5 MB/s\u001b[0m eta \u001b[36m0:00:00\u001b[0m\n",
      "\u001b[?25hInstalling collected packages: mmocr\n",
      "Successfully installed mmocr-1.0.1\n"
     ]
    }
   ],
   "source": [
    "!pip install -U openmim\n",
    "!mim install \"mmengine>=0.7.1,<1.1.0\"\n",
    "!mim install \"mmcv>=2.0.0rc4,<2.1.0\"\n",
    "!mim install \"mmdet>=3.0.0rc5,<3.2.0\"\n",
    "!mim install mmocr"
   ]
  },
  {
   "cell_type": "code",
   "execution_count": 1,
   "id": "7d3216da-a1bb-4613-a21d-b469a14e2e14",
   "metadata": {},
   "outputs": [
    {
     "name": "stdout",
     "output_type": "stream",
     "text": [
      "/home/sush/mmocr/htrflow_app/htrflow_app\n"
     ]
    },
    {
     "name": "stderr",
     "output_type": "stream",
     "text": [
      "/home/sush/miniconda3/envs/htrflow/lib/python3.11/site-packages/IPython/core/magics/osm.py:417: UserWarning: using dhist requires you to install the `pickleshare` library.\n",
      "  self.shell.db['dhist'] = compress_dhist(dhist)[-100:]\n"
     ]
    }
   ],
   "source": [
    "#%cd htrflow_app"
   ]
  },
  {
   "cell_type": "code",
   "execution_count": 6,
   "id": "ede22118-a698-462f-a78e-18354d5bb2e7",
   "metadata": {},
   "outputs": [
    {
     "data": {
      "application/vnd.jupyter.widget-view+json": {
       "model_id": "919ff08a1bc54debab948963a79c5d72",
       "version_major": 2,
       "version_minor": 0
      },
      "text/plain": [
       "Fetching 3 files:   0%|          | 0/3 [00:00<?, ?it/s]"
      ]
     },
     "metadata": {},
     "output_type": "display_data"
    },
    {
     "name": "stdout",
     "output_type": "stream",
     "text": [
      "02/21 11:40:18 - mmengine - \u001b[5m\u001b[4m\u001b[33mWARNING\u001b[0m - The current default scope \"mmocr\" is not \"mmdet\", `init_default_scope` will force set the currentdefault scope to \"mmdet\".\n",
      "Loads checkpoint by local backend from path: ./models--Riksarkivet--HTR_pipeline_models/snapshots/c908370b6352799451e261a8aef1ad05e1df7b96/RmtDet_regions/epoch_12.pth\n",
      "Loads checkpoint by local backend from path: ./models--Riksarkivet--HTR_pipeline_models/snapshots/c908370b6352799451e261a8aef1ad05e1df7b96/RmtDet_lines/epoch_12.pth\n",
      "02/21 11:40:20 - mmengine - \u001b[5m\u001b[4m\u001b[33mWARNING\u001b[0m - The current default scope \"mmdet\" is not \"mmocr\", `init_default_scope` will force set the currentdefault scope to \"mmocr\".\n",
      "Loads checkpoint by local backend from path: ./models--Riksarkivet--HTR_pipeline_models/snapshots/c908370b6352799451e261a8aef1ad05e1df7b96/SATRN/epoch_5.pth\n"
     ]
    }
   ],
   "source": [
    "from src.htr_pipeline.inferencer import Inferencer\n",
    "from src.htr_pipeline.pipeline import Pipeline\n",
    "\n",
    "# Assuming the Inferencer and Pipeline classes are designed to be initialized like this\n",
    "inferencer = Inferencer(local_run=True)  # Adjust parameters as needed\n",
    "pipeline = Pipeline(inferencer)\n"
   ]
  },
  {
   "cell_type": "code",
   "execution_count": 7,
   "id": "ea6cd62e-9dc7-40b3-bdd9-4c2e181eb87d",
   "metadata": {},
   "outputs": [
    {
     "data": {
      "application/vnd.jupyter.widget-view+json": {
       "model_id": "2ebd49b4dde84a95b2bae32483dc9fcb",
       "version_major": 2,
       "version_minor": 0
      },
      "text/plain": [
       "Output()"
      ]
     },
     "metadata": {},
     "output_type": "display_data"
    },
    {
     "data": {
      "text/html": [
       "<pre style=\"white-space:pre;overflow-x:auto;line-height:normal;font-family:Menlo,'DejaVu Sans Mono',consolas,'Courier New',monospace\">/home/sush/miniconda3/envs/htrflow/lib/python3.11/site-packages/torch/functional.py:504: UserWarning: \n",
       "torch.meshgrid: in an upcoming release, it will be required to pass the indexing argument. (Triggered internally at\n",
       "../aten/src/ATen/native/TensorShape.cpp:3483.)\n",
       "  return _VF.meshgrid(tensors, **kwargs)  # type: ignore[attr-defined]\n",
       "</pre>\n"
      ],
      "text/plain": [
       "/home/sush/miniconda3/envs/htrflow/lib/python3.11/site-packages/torch/functional.py:504: UserWarning: \n",
       "torch.meshgrid: in an upcoming release, it will be required to pass the indexing argument. (Triggered internally at\n",
       "../aten/src/ATen/native/TensorShape.cpp:3483.)\n",
       "  return _VF.meshgrid(tensors, **kwargs)  # type: ignore[attr-defined]\n"
      ]
     },
     "metadata": {},
     "output_type": "display_data"
    },
    {
     "data": {
      "text/html": [
       "<pre style=\"white-space:pre;overflow-x:auto;line-height:normal;font-family:Menlo,'DejaVu Sans Mono',consolas,'Courier New',monospace\"></pre>\n"
      ],
      "text/plain": []
     },
     "metadata": {},
     "output_type": "display_data"
    },
    {
     "data": {
      "text/html": [
       "<pre style=\"white-space:pre;overflow-x:auto;line-height:normal;font-family:Menlo,'DejaVu Sans Mono',consolas,'Courier New',monospace\">\n",
       "</pre>\n"
      ],
      "text/plain": [
       "\n"
      ]
     },
     "metadata": {},
     "output_type": "display_data"
    },
    {
     "name": "stdout",
     "output_type": "stream",
     "text": [
      "Function 'predict_regions' executed in 1.4384s\n",
      "Found 5 Regions to parse\n"
     ]
    },
    {
     "name": "stderr",
     "output_type": "stream",
     "text": [
      "0it [00:00, ?it/s]"
     ]
    },
    {
     "data": {
      "application/vnd.jupyter.widget-view+json": {
       "model_id": "2af0f161d8ad4493ad5a60bd768f5e3f",
       "version_major": 2,
       "version_minor": 0
      },
      "text/plain": [
       "Output()"
      ]
     },
     "metadata": {},
     "output_type": "display_data"
    },
    {
     "data": {
      "text/html": [
       "<pre style=\"white-space:pre;overflow-x:auto;line-height:normal;font-family:Menlo,'DejaVu Sans Mono',consolas,'Courier New',monospace\"></pre>\n"
      ],
      "text/plain": []
     },
     "metadata": {},
     "output_type": "display_data"
    },
    {
     "data": {
      "text/html": [
       "<pre style=\"white-space:pre;overflow-x:auto;line-height:normal;font-family:Menlo,'DejaVu Sans Mono',consolas,'Courier New',monospace\">\n",
       "</pre>\n"
      ],
      "text/plain": [
       "\n"
      ]
     },
     "metadata": {},
     "output_type": "display_data"
    },
    {
     "data": {
      "application/vnd.jupyter.widget-view+json": {
       "model_id": "79a1ba351aa44ff8aeafdf4983fc9fea",
       "version_major": 2,
       "version_minor": 0
      },
      "text/plain": [
       "Output()"
      ]
     },
     "metadata": {},
     "output_type": "display_data"
    },
    {
     "name": "stdout",
     "output_type": "stream",
     "text": [
      "Function 'predict_lines' executed in 0.0437s\n",
      " Region 0, found 1 lines to parse and transcribe.\n"
     ]
    },
    {
     "data": {
      "text/html": [
       "<pre style=\"white-space:pre;overflow-x:auto;line-height:normal;font-family:Menlo,'DejaVu Sans Mono',consolas,'Courier New',monospace\"></pre>\n"
      ],
      "text/plain": []
     },
     "metadata": {},
     "output_type": "display_data"
    },
    {
     "data": {
      "text/html": [
       "<pre style=\"white-space:pre;overflow-x:auto;line-height:normal;font-family:Menlo,'DejaVu Sans Mono',consolas,'Courier New',monospace\">\n",
       "</pre>\n"
      ],
      "text/plain": [
       "\n"
      ]
     },
     "metadata": {},
     "output_type": "display_data"
    },
    {
     "name": "stderr",
     "output_type": "stream",
     "text": [
      "1it [00:00,  1.44it/s]"
     ]
    },
    {
     "data": {
      "application/vnd.jupyter.widget-view+json": {
       "model_id": "5dcef99c521d4c30a17503597b208c41",
       "version_major": 2,
       "version_minor": 0
      },
      "text/plain": [
       "Output()"
      ]
     },
     "metadata": {},
     "output_type": "display_data"
    },
    {
     "name": "stdout",
     "output_type": "stream",
     "text": [
      "Function 'transcribe' executed in 0.6487s\n"
     ]
    },
    {
     "data": {
      "text/html": [
       "<pre style=\"white-space:pre;overflow-x:auto;line-height:normal;font-family:Menlo,'DejaVu Sans Mono',consolas,'Courier New',monospace\"></pre>\n"
      ],
      "text/plain": []
     },
     "metadata": {},
     "output_type": "display_data"
    },
    {
     "data": {
      "text/html": [
       "<pre style=\"white-space:pre;overflow-x:auto;line-height:normal;font-family:Menlo,'DejaVu Sans Mono',consolas,'Courier New',monospace\">\n",
       "</pre>\n"
      ],
      "text/plain": [
       "\n"
      ]
     },
     "metadata": {},
     "output_type": "display_data"
    },
    {
     "data": {
      "application/vnd.jupyter.widget-view+json": {
       "model_id": "fc841ba9e438488b892f3685a015cf82",
       "version_major": 2,
       "version_minor": 0
      },
      "text/plain": [
       "Output()"
      ]
     },
     "metadata": {},
     "output_type": "display_data"
    },
    {
     "name": "stdout",
     "output_type": "stream",
     "text": [
      "Function 'predict_lines' executed in 0.8730s\n",
      " Region 1, found 34 lines to parse and transcribe.\n"
     ]
    },
    {
     "data": {
      "text/html": [
       "<pre style=\"white-space:pre;overflow-x:auto;line-height:normal;font-family:Menlo,'DejaVu Sans Mono',consolas,'Courier New',monospace\"></pre>\n"
      ],
      "text/plain": []
     },
     "metadata": {},
     "output_type": "display_data"
    },
    {
     "data": {
      "text/html": [
       "<pre style=\"white-space:pre;overflow-x:auto;line-height:normal;font-family:Menlo,'DejaVu Sans Mono',consolas,'Courier New',monospace\">\n",
       "</pre>\n"
      ],
      "text/plain": [
       "\n"
      ]
     },
     "metadata": {},
     "output_type": "display_data"
    },
    {
     "data": {
      "application/vnd.jupyter.widget-view+json": {
       "model_id": "c0f7cb085a96407dabf1cfbee2178d7a",
       "version_major": 2,
       "version_minor": 0
      },
      "text/plain": [
       "Output()"
      ]
     },
     "metadata": {},
     "output_type": "display_data"
    },
    {
     "name": "stdout",
     "output_type": "stream",
     "text": [
      "Function 'transcribe' executed in 0.6475s\n"
     ]
    },
    {
     "data": {
      "text/html": [
       "<pre style=\"white-space:pre;overflow-x:auto;line-height:normal;font-family:Menlo,'DejaVu Sans Mono',consolas,'Courier New',monospace\"></pre>\n"
      ],
      "text/plain": []
     },
     "metadata": {},
     "output_type": "display_data"
    },
    {
     "data": {
      "text/html": [
       "<pre style=\"white-space:pre;overflow-x:auto;line-height:normal;font-family:Menlo,'DejaVu Sans Mono',consolas,'Courier New',monospace\">\n",
       "</pre>\n"
      ],
      "text/plain": [
       "\n"
      ]
     },
     "metadata": {},
     "output_type": "display_data"
    },
    {
     "data": {
      "application/vnd.jupyter.widget-view+json": {
       "model_id": "b78b7893b8454581bc38b797a87242c9",
       "version_major": 2,
       "version_minor": 0
      },
      "text/plain": [
       "Output()"
      ]
     },
     "metadata": {},
     "output_type": "display_data"
    },
    {
     "name": "stdout",
     "output_type": "stream",
     "text": [
      "Function 'transcribe' executed in 0.6518s\n"
     ]
    },
    {
     "data": {
      "text/html": [
       "<pre style=\"white-space:pre;overflow-x:auto;line-height:normal;font-family:Menlo,'DejaVu Sans Mono',consolas,'Courier New',monospace\"></pre>\n"
      ],
      "text/plain": []
     },
     "metadata": {},
     "output_type": "display_data"
    },
    {
     "data": {
      "text/html": [
       "<pre style=\"white-space:pre;overflow-x:auto;line-height:normal;font-family:Menlo,'DejaVu Sans Mono',consolas,'Courier New',monospace\">\n",
       "</pre>\n"
      ],
      "text/plain": [
       "\n"
      ]
     },
     "metadata": {},
     "output_type": "display_data"
    },
    {
     "data": {
      "application/vnd.jupyter.widget-view+json": {
       "model_id": "2406a11e513249c2927e77989730927f",
       "version_major": 2,
       "version_minor": 0
      },
      "text/plain": [
       "Output()"
      ]
     },
     "metadata": {},
     "output_type": "display_data"
    },
    {
     "name": "stdout",
     "output_type": "stream",
     "text": [
      "Function 'transcribe' executed in 0.6300s\n"
     ]
    },
    {
     "data": {
      "text/html": [
       "<pre style=\"white-space:pre;overflow-x:auto;line-height:normal;font-family:Menlo,'DejaVu Sans Mono',consolas,'Courier New',monospace\"></pre>\n"
      ],
      "text/plain": []
     },
     "metadata": {},
     "output_type": "display_data"
    },
    {
     "data": {
      "text/html": [
       "<pre style=\"white-space:pre;overflow-x:auto;line-height:normal;font-family:Menlo,'DejaVu Sans Mono',consolas,'Courier New',monospace\">\n",
       "</pre>\n"
      ],
      "text/plain": [
       "\n"
      ]
     },
     "metadata": {},
     "output_type": "display_data"
    },
    {
     "data": {
      "application/vnd.jupyter.widget-view+json": {
       "model_id": "c01eed7117b6454399a7a366bef2b416",
       "version_major": 2,
       "version_minor": 0
      },
      "text/plain": [
       "Output()"
      ]
     },
     "metadata": {},
     "output_type": "display_data"
    },
    {
     "name": "stdout",
     "output_type": "stream",
     "text": [
      "Function 'transcribe' executed in 0.6479s\n"
     ]
    },
    {
     "data": {
      "text/html": [
       "<pre style=\"white-space:pre;overflow-x:auto;line-height:normal;font-family:Menlo,'DejaVu Sans Mono',consolas,'Courier New',monospace\"></pre>\n"
      ],
      "text/plain": []
     },
     "metadata": {},
     "output_type": "display_data"
    },
    {
     "data": {
      "text/html": [
       "<pre style=\"white-space:pre;overflow-x:auto;line-height:normal;font-family:Menlo,'DejaVu Sans Mono',consolas,'Courier New',monospace\">\n",
       "</pre>\n"
      ],
      "text/plain": [
       "\n"
      ]
     },
     "metadata": {},
     "output_type": "display_data"
    },
    {
     "data": {
      "application/vnd.jupyter.widget-view+json": {
       "model_id": "b53a3f6f8d644e77ae59fc2a0c8c2562",
       "version_major": 2,
       "version_minor": 0
      },
      "text/plain": [
       "Output()"
      ]
     },
     "metadata": {},
     "output_type": "display_data"
    },
    {
     "name": "stdout",
     "output_type": "stream",
     "text": [
      "Function 'transcribe' executed in 0.6267s\n"
     ]
    },
    {
     "data": {
      "text/html": [
       "<pre style=\"white-space:pre;overflow-x:auto;line-height:normal;font-family:Menlo,'DejaVu Sans Mono',consolas,'Courier New',monospace\"></pre>\n"
      ],
      "text/plain": []
     },
     "metadata": {},
     "output_type": "display_data"
    },
    {
     "data": {
      "text/html": [
       "<pre style=\"white-space:pre;overflow-x:auto;line-height:normal;font-family:Menlo,'DejaVu Sans Mono',consolas,'Courier New',monospace\">\n",
       "</pre>\n"
      ],
      "text/plain": [
       "\n"
      ]
     },
     "metadata": {},
     "output_type": "display_data"
    },
    {
     "data": {
      "application/vnd.jupyter.widget-view+json": {
       "model_id": "a87a9737d90147058c83c529c55ad2f1",
       "version_major": 2,
       "version_minor": 0
      },
      "text/plain": [
       "Output()"
      ]
     },
     "metadata": {},
     "output_type": "display_data"
    },
    {
     "name": "stdout",
     "output_type": "stream",
     "text": [
      "Function 'transcribe' executed in 0.6908s\n"
     ]
    },
    {
     "data": {
      "text/html": [
       "<pre style=\"white-space:pre;overflow-x:auto;line-height:normal;font-family:Menlo,'DejaVu Sans Mono',consolas,'Courier New',monospace\"></pre>\n"
      ],
      "text/plain": []
     },
     "metadata": {},
     "output_type": "display_data"
    },
    {
     "data": {
      "text/html": [
       "<pre style=\"white-space:pre;overflow-x:auto;line-height:normal;font-family:Menlo,'DejaVu Sans Mono',consolas,'Courier New',monospace\">\n",
       "</pre>\n"
      ],
      "text/plain": [
       "\n"
      ]
     },
     "metadata": {},
     "output_type": "display_data"
    },
    {
     "data": {
      "application/vnd.jupyter.widget-view+json": {
       "model_id": "83889d8ab3be431e9d90c466d811a49a",
       "version_major": 2,
       "version_minor": 0
      },
      "text/plain": [
       "Output()"
      ]
     },
     "metadata": {},
     "output_type": "display_data"
    },
    {
     "name": "stdout",
     "output_type": "stream",
     "text": [
      "Function 'transcribe' executed in 0.6435s\n"
     ]
    },
    {
     "data": {
      "text/html": [
       "<pre style=\"white-space:pre;overflow-x:auto;line-height:normal;font-family:Menlo,'DejaVu Sans Mono',consolas,'Courier New',monospace\"></pre>\n"
      ],
      "text/plain": []
     },
     "metadata": {},
     "output_type": "display_data"
    },
    {
     "data": {
      "text/html": [
       "<pre style=\"white-space:pre;overflow-x:auto;line-height:normal;font-family:Menlo,'DejaVu Sans Mono',consolas,'Courier New',monospace\">\n",
       "</pre>\n"
      ],
      "text/plain": [
       "\n"
      ]
     },
     "metadata": {},
     "output_type": "display_data"
    },
    {
     "data": {
      "application/vnd.jupyter.widget-view+json": {
       "model_id": "bfec933834b14881b0bff307fdfbcbe0",
       "version_major": 2,
       "version_minor": 0
      },
      "text/plain": [
       "Output()"
      ]
     },
     "metadata": {},
     "output_type": "display_data"
    },
    {
     "name": "stdout",
     "output_type": "stream",
     "text": [
      "Function 'transcribe' executed in 0.6311s\n"
     ]
    },
    {
     "data": {
      "text/html": [
       "<pre style=\"white-space:pre;overflow-x:auto;line-height:normal;font-family:Menlo,'DejaVu Sans Mono',consolas,'Courier New',monospace\"></pre>\n"
      ],
      "text/plain": []
     },
     "metadata": {},
     "output_type": "display_data"
    },
    {
     "data": {
      "text/html": [
       "<pre style=\"white-space:pre;overflow-x:auto;line-height:normal;font-family:Menlo,'DejaVu Sans Mono',consolas,'Courier New',monospace\">\n",
       "</pre>\n"
      ],
      "text/plain": [
       "\n"
      ]
     },
     "metadata": {},
     "output_type": "display_data"
    },
    {
     "data": {
      "application/vnd.jupyter.widget-view+json": {
       "model_id": "05c69dc5f28545d5b44829df48f3bfc2",
       "version_major": 2,
       "version_minor": 0
      },
      "text/plain": [
       "Output()"
      ]
     },
     "metadata": {},
     "output_type": "display_data"
    },
    {
     "name": "stdout",
     "output_type": "stream",
     "text": [
      "Function 'transcribe' executed in 0.6581s\n"
     ]
    },
    {
     "data": {
      "text/html": [
       "<pre style=\"white-space:pre;overflow-x:auto;line-height:normal;font-family:Menlo,'DejaVu Sans Mono',consolas,'Courier New',monospace\"></pre>\n"
      ],
      "text/plain": []
     },
     "metadata": {},
     "output_type": "display_data"
    },
    {
     "data": {
      "text/html": [
       "<pre style=\"white-space:pre;overflow-x:auto;line-height:normal;font-family:Menlo,'DejaVu Sans Mono',consolas,'Courier New',monospace\">\n",
       "</pre>\n"
      ],
      "text/plain": [
       "\n"
      ]
     },
     "metadata": {},
     "output_type": "display_data"
    },
    {
     "data": {
      "application/vnd.jupyter.widget-view+json": {
       "model_id": "719b9d9f91804681885878c573c08c36",
       "version_major": 2,
       "version_minor": 0
      },
      "text/plain": [
       "Output()"
      ]
     },
     "metadata": {},
     "output_type": "display_data"
    },
    {
     "name": "stdout",
     "output_type": "stream",
     "text": [
      "Function 'transcribe' executed in 0.6206s\n",
      "Region 1, parsed 10 lines. Still 24 lines left to transcribe.\n"
     ]
    },
    {
     "data": {
      "text/html": [
       "<pre style=\"white-space:pre;overflow-x:auto;line-height:normal;font-family:Menlo,'DejaVu Sans Mono',consolas,'Courier New',monospace\"></pre>\n"
      ],
      "text/plain": []
     },
     "metadata": {},
     "output_type": "display_data"
    },
    {
     "data": {
      "text/html": [
       "<pre style=\"white-space:pre;overflow-x:auto;line-height:normal;font-family:Menlo,'DejaVu Sans Mono',consolas,'Courier New',monospace\">\n",
       "</pre>\n"
      ],
      "text/plain": [
       "\n"
      ]
     },
     "metadata": {},
     "output_type": "display_data"
    },
    {
     "data": {
      "application/vnd.jupyter.widget-view+json": {
       "model_id": "93d20825e41d4cedbe5d7d938b4b55ac",
       "version_major": 2,
       "version_minor": 0
      },
      "text/plain": [
       "Output()"
      ]
     },
     "metadata": {},
     "output_type": "display_data"
    },
    {
     "name": "stdout",
     "output_type": "stream",
     "text": [
      "Function 'transcribe' executed in 0.6274s\n"
     ]
    },
    {
     "data": {
      "text/html": [
       "<pre style=\"white-space:pre;overflow-x:auto;line-height:normal;font-family:Menlo,'DejaVu Sans Mono',consolas,'Courier New',monospace\"></pre>\n"
      ],
      "text/plain": []
     },
     "metadata": {},
     "output_type": "display_data"
    },
    {
     "data": {
      "text/html": [
       "<pre style=\"white-space:pre;overflow-x:auto;line-height:normal;font-family:Menlo,'DejaVu Sans Mono',consolas,'Courier New',monospace\">\n",
       "</pre>\n"
      ],
      "text/plain": [
       "\n"
      ]
     },
     "metadata": {},
     "output_type": "display_data"
    },
    {
     "data": {
      "application/vnd.jupyter.widget-view+json": {
       "model_id": "0d497d983f48457d97e329f3aa3bae50",
       "version_major": 2,
       "version_minor": 0
      },
      "text/plain": [
       "Output()"
      ]
     },
     "metadata": {},
     "output_type": "display_data"
    },
    {
     "name": "stdout",
     "output_type": "stream",
     "text": [
      "Function 'transcribe' executed in 0.6431s\n"
     ]
    },
    {
     "data": {
      "text/html": [
       "<pre style=\"white-space:pre;overflow-x:auto;line-height:normal;font-family:Menlo,'DejaVu Sans Mono',consolas,'Courier New',monospace\"></pre>\n"
      ],
      "text/plain": []
     },
     "metadata": {},
     "output_type": "display_data"
    },
    {
     "data": {
      "text/html": [
       "<pre style=\"white-space:pre;overflow-x:auto;line-height:normal;font-family:Menlo,'DejaVu Sans Mono',consolas,'Courier New',monospace\">\n",
       "</pre>\n"
      ],
      "text/plain": [
       "\n"
      ]
     },
     "metadata": {},
     "output_type": "display_data"
    },
    {
     "data": {
      "application/vnd.jupyter.widget-view+json": {
       "model_id": "f836b044e04140b4b74dd101fa8f7002",
       "version_major": 2,
       "version_minor": 0
      },
      "text/plain": [
       "Output()"
      ]
     },
     "metadata": {},
     "output_type": "display_data"
    },
    {
     "name": "stdout",
     "output_type": "stream",
     "text": [
      "Function 'transcribe' executed in 0.6232s\n"
     ]
    },
    {
     "data": {
      "text/html": [
       "<pre style=\"white-space:pre;overflow-x:auto;line-height:normal;font-family:Menlo,'DejaVu Sans Mono',consolas,'Courier New',monospace\"></pre>\n"
      ],
      "text/plain": []
     },
     "metadata": {},
     "output_type": "display_data"
    },
    {
     "data": {
      "text/html": [
       "<pre style=\"white-space:pre;overflow-x:auto;line-height:normal;font-family:Menlo,'DejaVu Sans Mono',consolas,'Courier New',monospace\">\n",
       "</pre>\n"
      ],
      "text/plain": [
       "\n"
      ]
     },
     "metadata": {},
     "output_type": "display_data"
    },
    {
     "data": {
      "application/vnd.jupyter.widget-view+json": {
       "model_id": "19d6e82082ea4371b9e2b8fdf9f322f7",
       "version_major": 2,
       "version_minor": 0
      },
      "text/plain": [
       "Output()"
      ]
     },
     "metadata": {},
     "output_type": "display_data"
    },
    {
     "name": "stdout",
     "output_type": "stream",
     "text": [
      "Function 'transcribe' executed in 0.6250s\n"
     ]
    },
    {
     "data": {
      "text/html": [
       "<pre style=\"white-space:pre;overflow-x:auto;line-height:normal;font-family:Menlo,'DejaVu Sans Mono',consolas,'Courier New',monospace\"></pre>\n"
      ],
      "text/plain": []
     },
     "metadata": {},
     "output_type": "display_data"
    },
    {
     "data": {
      "text/html": [
       "<pre style=\"white-space:pre;overflow-x:auto;line-height:normal;font-family:Menlo,'DejaVu Sans Mono',consolas,'Courier New',monospace\">\n",
       "</pre>\n"
      ],
      "text/plain": [
       "\n"
      ]
     },
     "metadata": {},
     "output_type": "display_data"
    },
    {
     "data": {
      "application/vnd.jupyter.widget-view+json": {
       "model_id": "e90b0c7e96b842d4b51973f9845fad48",
       "version_major": 2,
       "version_minor": 0
      },
      "text/plain": [
       "Output()"
      ]
     },
     "metadata": {},
     "output_type": "display_data"
    },
    {
     "name": "stdout",
     "output_type": "stream",
     "text": [
      "Function 'transcribe' executed in 0.6474s\n"
     ]
    },
    {
     "data": {
      "text/html": [
       "<pre style=\"white-space:pre;overflow-x:auto;line-height:normal;font-family:Menlo,'DejaVu Sans Mono',consolas,'Courier New',monospace\"></pre>\n"
      ],
      "text/plain": []
     },
     "metadata": {},
     "output_type": "display_data"
    },
    {
     "data": {
      "text/html": [
       "<pre style=\"white-space:pre;overflow-x:auto;line-height:normal;font-family:Menlo,'DejaVu Sans Mono',consolas,'Courier New',monospace\">\n",
       "</pre>\n"
      ],
      "text/plain": [
       "\n"
      ]
     },
     "metadata": {},
     "output_type": "display_data"
    },
    {
     "data": {
      "application/vnd.jupyter.widget-view+json": {
       "model_id": "fd9587e6d22c400c8d12514e43acb255",
       "version_major": 2,
       "version_minor": 0
      },
      "text/plain": [
       "Output()"
      ]
     },
     "metadata": {},
     "output_type": "display_data"
    },
    {
     "name": "stdout",
     "output_type": "stream",
     "text": [
      "Function 'transcribe' executed in 0.6287s\n"
     ]
    },
    {
     "data": {
      "text/html": [
       "<pre style=\"white-space:pre;overflow-x:auto;line-height:normal;font-family:Menlo,'DejaVu Sans Mono',consolas,'Courier New',monospace\"></pre>\n"
      ],
      "text/plain": []
     },
     "metadata": {},
     "output_type": "display_data"
    },
    {
     "data": {
      "text/html": [
       "<pre style=\"white-space:pre;overflow-x:auto;line-height:normal;font-family:Menlo,'DejaVu Sans Mono',consolas,'Courier New',monospace\">\n",
       "</pre>\n"
      ],
      "text/plain": [
       "\n"
      ]
     },
     "metadata": {},
     "output_type": "display_data"
    },
    {
     "data": {
      "application/vnd.jupyter.widget-view+json": {
       "model_id": "464638da9bf347309ba8cd9be3a04476",
       "version_major": 2,
       "version_minor": 0
      },
      "text/plain": [
       "Output()"
      ]
     },
     "metadata": {},
     "output_type": "display_data"
    },
    {
     "name": "stdout",
     "output_type": "stream",
     "text": [
      "Function 'transcribe' executed in 0.6501s\n"
     ]
    },
    {
     "data": {
      "text/html": [
       "<pre style=\"white-space:pre;overflow-x:auto;line-height:normal;font-family:Menlo,'DejaVu Sans Mono',consolas,'Courier New',monospace\"></pre>\n"
      ],
      "text/plain": []
     },
     "metadata": {},
     "output_type": "display_data"
    },
    {
     "data": {
      "text/html": [
       "<pre style=\"white-space:pre;overflow-x:auto;line-height:normal;font-family:Menlo,'DejaVu Sans Mono',consolas,'Courier New',monospace\">\n",
       "</pre>\n"
      ],
      "text/plain": [
       "\n"
      ]
     },
     "metadata": {},
     "output_type": "display_data"
    },
    {
     "data": {
      "application/vnd.jupyter.widget-view+json": {
       "model_id": "83a67cb4f93745e7840a604939ecd3f5",
       "version_major": 2,
       "version_minor": 0
      },
      "text/plain": [
       "Output()"
      ]
     },
     "metadata": {},
     "output_type": "display_data"
    },
    {
     "name": "stdout",
     "output_type": "stream",
     "text": [
      "Function 'transcribe' executed in 0.6469s\n"
     ]
    },
    {
     "data": {
      "text/html": [
       "<pre style=\"white-space:pre;overflow-x:auto;line-height:normal;font-family:Menlo,'DejaVu Sans Mono',consolas,'Courier New',monospace\"></pre>\n"
      ],
      "text/plain": []
     },
     "metadata": {},
     "output_type": "display_data"
    },
    {
     "data": {
      "text/html": [
       "<pre style=\"white-space:pre;overflow-x:auto;line-height:normal;font-family:Menlo,'DejaVu Sans Mono',consolas,'Courier New',monospace\">\n",
       "</pre>\n"
      ],
      "text/plain": [
       "\n"
      ]
     },
     "metadata": {},
     "output_type": "display_data"
    },
    {
     "data": {
      "application/vnd.jupyter.widget-view+json": {
       "model_id": "cad6d9c175554b9bb779f513e556cc6c",
       "version_major": 2,
       "version_minor": 0
      },
      "text/plain": [
       "Output()"
      ]
     },
     "metadata": {},
     "output_type": "display_data"
    },
    {
     "name": "stdout",
     "output_type": "stream",
     "text": [
      "Function 'transcribe' executed in 0.6374s\n"
     ]
    },
    {
     "data": {
      "text/html": [
       "<pre style=\"white-space:pre;overflow-x:auto;line-height:normal;font-family:Menlo,'DejaVu Sans Mono',consolas,'Courier New',monospace\"></pre>\n"
      ],
      "text/plain": []
     },
     "metadata": {},
     "output_type": "display_data"
    },
    {
     "data": {
      "text/html": [
       "<pre style=\"white-space:pre;overflow-x:auto;line-height:normal;font-family:Menlo,'DejaVu Sans Mono',consolas,'Courier New',monospace\">\n",
       "</pre>\n"
      ],
      "text/plain": [
       "\n"
      ]
     },
     "metadata": {},
     "output_type": "display_data"
    },
    {
     "data": {
      "application/vnd.jupyter.widget-view+json": {
       "model_id": "807c481cdf464e34a6fe4c1e11807f46",
       "version_major": 2,
       "version_minor": 0
      },
      "text/plain": [
       "Output()"
      ]
     },
     "metadata": {},
     "output_type": "display_data"
    },
    {
     "name": "stdout",
     "output_type": "stream",
     "text": [
      "Function 'transcribe' executed in 0.6469s\n",
      "Region 1, parsed 20 lines. Still 14 lines left to transcribe.\n"
     ]
    },
    {
     "data": {
      "text/html": [
       "<pre style=\"white-space:pre;overflow-x:auto;line-height:normal;font-family:Menlo,'DejaVu Sans Mono',consolas,'Courier New',monospace\"></pre>\n"
      ],
      "text/plain": []
     },
     "metadata": {},
     "output_type": "display_data"
    },
    {
     "data": {
      "text/html": [
       "<pre style=\"white-space:pre;overflow-x:auto;line-height:normal;font-family:Menlo,'DejaVu Sans Mono',consolas,'Courier New',monospace\">\n",
       "</pre>\n"
      ],
      "text/plain": [
       "\n"
      ]
     },
     "metadata": {},
     "output_type": "display_data"
    },
    {
     "data": {
      "application/vnd.jupyter.widget-view+json": {
       "model_id": "73eaddfb2b9140a9983f4504de68f9de",
       "version_major": 2,
       "version_minor": 0
      },
      "text/plain": [
       "Output()"
      ]
     },
     "metadata": {},
     "output_type": "display_data"
    },
    {
     "name": "stdout",
     "output_type": "stream",
     "text": [
      "Function 'transcribe' executed in 0.6399s\n"
     ]
    },
    {
     "data": {
      "text/html": [
       "<pre style=\"white-space:pre;overflow-x:auto;line-height:normal;font-family:Menlo,'DejaVu Sans Mono',consolas,'Courier New',monospace\"></pre>\n"
      ],
      "text/plain": []
     },
     "metadata": {},
     "output_type": "display_data"
    },
    {
     "data": {
      "text/html": [
       "<pre style=\"white-space:pre;overflow-x:auto;line-height:normal;font-family:Menlo,'DejaVu Sans Mono',consolas,'Courier New',monospace\">\n",
       "</pre>\n"
      ],
      "text/plain": [
       "\n"
      ]
     },
     "metadata": {},
     "output_type": "display_data"
    },
    {
     "data": {
      "application/vnd.jupyter.widget-view+json": {
       "model_id": "2a683fd6c3e8406491f8631ccab20145",
       "version_major": 2,
       "version_minor": 0
      },
      "text/plain": [
       "Output()"
      ]
     },
     "metadata": {},
     "output_type": "display_data"
    },
    {
     "name": "stdout",
     "output_type": "stream",
     "text": [
      "Function 'transcribe' executed in 0.6451s\n"
     ]
    },
    {
     "data": {
      "text/html": [
       "<pre style=\"white-space:pre;overflow-x:auto;line-height:normal;font-family:Menlo,'DejaVu Sans Mono',consolas,'Courier New',monospace\"></pre>\n"
      ],
      "text/plain": []
     },
     "metadata": {},
     "output_type": "display_data"
    },
    {
     "data": {
      "text/html": [
       "<pre style=\"white-space:pre;overflow-x:auto;line-height:normal;font-family:Menlo,'DejaVu Sans Mono',consolas,'Courier New',monospace\">\n",
       "</pre>\n"
      ],
      "text/plain": [
       "\n"
      ]
     },
     "metadata": {},
     "output_type": "display_data"
    },
    {
     "data": {
      "application/vnd.jupyter.widget-view+json": {
       "model_id": "3deef19bbfc34014b109b3b4ee35275e",
       "version_major": 2,
       "version_minor": 0
      },
      "text/plain": [
       "Output()"
      ]
     },
     "metadata": {},
     "output_type": "display_data"
    },
    {
     "name": "stdout",
     "output_type": "stream",
     "text": [
      "Function 'transcribe' executed in 0.6396s\n"
     ]
    },
    {
     "data": {
      "text/html": [
       "<pre style=\"white-space:pre;overflow-x:auto;line-height:normal;font-family:Menlo,'DejaVu Sans Mono',consolas,'Courier New',monospace\"></pre>\n"
      ],
      "text/plain": []
     },
     "metadata": {},
     "output_type": "display_data"
    },
    {
     "data": {
      "text/html": [
       "<pre style=\"white-space:pre;overflow-x:auto;line-height:normal;font-family:Menlo,'DejaVu Sans Mono',consolas,'Courier New',monospace\">\n",
       "</pre>\n"
      ],
      "text/plain": [
       "\n"
      ]
     },
     "metadata": {},
     "output_type": "display_data"
    },
    {
     "data": {
      "application/vnd.jupyter.widget-view+json": {
       "model_id": "5f4b1f1870944422b0bbf2eb19958fa0",
       "version_major": 2,
       "version_minor": 0
      },
      "text/plain": [
       "Output()"
      ]
     },
     "metadata": {},
     "output_type": "display_data"
    },
    {
     "name": "stdout",
     "output_type": "stream",
     "text": [
      "Function 'transcribe' executed in 0.6661s\n"
     ]
    },
    {
     "data": {
      "text/html": [
       "<pre style=\"white-space:pre;overflow-x:auto;line-height:normal;font-family:Menlo,'DejaVu Sans Mono',consolas,'Courier New',monospace\"></pre>\n"
      ],
      "text/plain": []
     },
     "metadata": {},
     "output_type": "display_data"
    },
    {
     "data": {
      "text/html": [
       "<pre style=\"white-space:pre;overflow-x:auto;line-height:normal;font-family:Menlo,'DejaVu Sans Mono',consolas,'Courier New',monospace\">\n",
       "</pre>\n"
      ],
      "text/plain": [
       "\n"
      ]
     },
     "metadata": {},
     "output_type": "display_data"
    },
    {
     "data": {
      "application/vnd.jupyter.widget-view+json": {
       "model_id": "89d183486d894596921ad402fd8a0b99",
       "version_major": 2,
       "version_minor": 0
      },
      "text/plain": [
       "Output()"
      ]
     },
     "metadata": {},
     "output_type": "display_data"
    },
    {
     "name": "stdout",
     "output_type": "stream",
     "text": [
      "Function 'transcribe' executed in 0.6405s\n"
     ]
    },
    {
     "data": {
      "text/html": [
       "<pre style=\"white-space:pre;overflow-x:auto;line-height:normal;font-family:Menlo,'DejaVu Sans Mono',consolas,'Courier New',monospace\"></pre>\n"
      ],
      "text/plain": []
     },
     "metadata": {},
     "output_type": "display_data"
    },
    {
     "data": {
      "text/html": [
       "<pre style=\"white-space:pre;overflow-x:auto;line-height:normal;font-family:Menlo,'DejaVu Sans Mono',consolas,'Courier New',monospace\">\n",
       "</pre>\n"
      ],
      "text/plain": [
       "\n"
      ]
     },
     "metadata": {},
     "output_type": "display_data"
    },
    {
     "data": {
      "application/vnd.jupyter.widget-view+json": {
       "model_id": "6eba1b4f3be54441837473a4127ae6e6",
       "version_major": 2,
       "version_minor": 0
      },
      "text/plain": [
       "Output()"
      ]
     },
     "metadata": {},
     "output_type": "display_data"
    },
    {
     "name": "stdout",
     "output_type": "stream",
     "text": [
      "Function 'transcribe' executed in 0.6655s\n"
     ]
    },
    {
     "data": {
      "text/html": [
       "<pre style=\"white-space:pre;overflow-x:auto;line-height:normal;font-family:Menlo,'DejaVu Sans Mono',consolas,'Courier New',monospace\"></pre>\n"
      ],
      "text/plain": []
     },
     "metadata": {},
     "output_type": "display_data"
    },
    {
     "data": {
      "text/html": [
       "<pre style=\"white-space:pre;overflow-x:auto;line-height:normal;font-family:Menlo,'DejaVu Sans Mono',consolas,'Courier New',monospace\">\n",
       "</pre>\n"
      ],
      "text/plain": [
       "\n"
      ]
     },
     "metadata": {},
     "output_type": "display_data"
    },
    {
     "data": {
      "application/vnd.jupyter.widget-view+json": {
       "model_id": "5ebf26416c584e5aa987673fd9502032",
       "version_major": 2,
       "version_minor": 0
      },
      "text/plain": [
       "Output()"
      ]
     },
     "metadata": {},
     "output_type": "display_data"
    },
    {
     "name": "stdout",
     "output_type": "stream",
     "text": [
      "Function 'transcribe' executed in 0.6731s\n"
     ]
    },
    {
     "data": {
      "text/html": [
       "<pre style=\"white-space:pre;overflow-x:auto;line-height:normal;font-family:Menlo,'DejaVu Sans Mono',consolas,'Courier New',monospace\"></pre>\n"
      ],
      "text/plain": []
     },
     "metadata": {},
     "output_type": "display_data"
    },
    {
     "data": {
      "text/html": [
       "<pre style=\"white-space:pre;overflow-x:auto;line-height:normal;font-family:Menlo,'DejaVu Sans Mono',consolas,'Courier New',monospace\">\n",
       "</pre>\n"
      ],
      "text/plain": [
       "\n"
      ]
     },
     "metadata": {},
     "output_type": "display_data"
    },
    {
     "data": {
      "application/vnd.jupyter.widget-view+json": {
       "model_id": "a67fd82a05d5485680dc6cf2d64a8e43",
       "version_major": 2,
       "version_minor": 0
      },
      "text/plain": [
       "Output()"
      ]
     },
     "metadata": {},
     "output_type": "display_data"
    },
    {
     "name": "stdout",
     "output_type": "stream",
     "text": [
      "Function 'transcribe' executed in 0.6283s\n"
     ]
    },
    {
     "data": {
      "text/html": [
       "<pre style=\"white-space:pre;overflow-x:auto;line-height:normal;font-family:Menlo,'DejaVu Sans Mono',consolas,'Courier New',monospace\"></pre>\n"
      ],
      "text/plain": []
     },
     "metadata": {},
     "output_type": "display_data"
    },
    {
     "data": {
      "text/html": [
       "<pre style=\"white-space:pre;overflow-x:auto;line-height:normal;font-family:Menlo,'DejaVu Sans Mono',consolas,'Courier New',monospace\">\n",
       "</pre>\n"
      ],
      "text/plain": [
       "\n"
      ]
     },
     "metadata": {},
     "output_type": "display_data"
    },
    {
     "data": {
      "application/vnd.jupyter.widget-view+json": {
       "model_id": "1764a0c8fe674033a4eb4b16be0b0ffa",
       "version_major": 2,
       "version_minor": 0
      },
      "text/plain": [
       "Output()"
      ]
     },
     "metadata": {},
     "output_type": "display_data"
    },
    {
     "name": "stdout",
     "output_type": "stream",
     "text": [
      "Function 'transcribe' executed in 0.6385s\n"
     ]
    },
    {
     "data": {
      "text/html": [
       "<pre style=\"white-space:pre;overflow-x:auto;line-height:normal;font-family:Menlo,'DejaVu Sans Mono',consolas,'Courier New',monospace\"></pre>\n"
      ],
      "text/plain": []
     },
     "metadata": {},
     "output_type": "display_data"
    },
    {
     "data": {
      "text/html": [
       "<pre style=\"white-space:pre;overflow-x:auto;line-height:normal;font-family:Menlo,'DejaVu Sans Mono',consolas,'Courier New',monospace\">\n",
       "</pre>\n"
      ],
      "text/plain": [
       "\n"
      ]
     },
     "metadata": {},
     "output_type": "display_data"
    },
    {
     "data": {
      "application/vnd.jupyter.widget-view+json": {
       "model_id": "a4aae9807b3c405098e4172882539758",
       "version_major": 2,
       "version_minor": 0
      },
      "text/plain": [
       "Output()"
      ]
     },
     "metadata": {},
     "output_type": "display_data"
    },
    {
     "name": "stdout",
     "output_type": "stream",
     "text": [
      "Function 'transcribe' executed in 0.6275s\n"
     ]
    },
    {
     "data": {
      "text/html": [
       "<pre style=\"white-space:pre;overflow-x:auto;line-height:normal;font-family:Menlo,'DejaVu Sans Mono',consolas,'Courier New',monospace\"></pre>\n"
      ],
      "text/plain": []
     },
     "metadata": {},
     "output_type": "display_data"
    },
    {
     "data": {
      "text/html": [
       "<pre style=\"white-space:pre;overflow-x:auto;line-height:normal;font-family:Menlo,'DejaVu Sans Mono',consolas,'Courier New',monospace\">\n",
       "</pre>\n"
      ],
      "text/plain": [
       "\n"
      ]
     },
     "metadata": {},
     "output_type": "display_data"
    },
    {
     "data": {
      "application/vnd.jupyter.widget-view+json": {
       "model_id": "9524d7b1559843e193c3c4bf4efb15f3",
       "version_major": 2,
       "version_minor": 0
      },
      "text/plain": [
       "Output()"
      ]
     },
     "metadata": {},
     "output_type": "display_data"
    },
    {
     "name": "stdout",
     "output_type": "stream",
     "text": [
      "Function 'transcribe' executed in 0.6384s\n"
     ]
    },
    {
     "data": {
      "text/html": [
       "<pre style=\"white-space:pre;overflow-x:auto;line-height:normal;font-family:Menlo,'DejaVu Sans Mono',consolas,'Courier New',monospace\"></pre>\n"
      ],
      "text/plain": []
     },
     "metadata": {},
     "output_type": "display_data"
    },
    {
     "data": {
      "text/html": [
       "<pre style=\"white-space:pre;overflow-x:auto;line-height:normal;font-family:Menlo,'DejaVu Sans Mono',consolas,'Courier New',monospace\">\n",
       "</pre>\n"
      ],
      "text/plain": [
       "\n"
      ]
     },
     "metadata": {},
     "output_type": "display_data"
    },
    {
     "data": {
      "application/vnd.jupyter.widget-view+json": {
       "model_id": "1472986f5af14c7fa389859965dc914e",
       "version_major": 2,
       "version_minor": 0
      },
      "text/plain": [
       "Output()"
      ]
     },
     "metadata": {},
     "output_type": "display_data"
    },
    {
     "name": "stdout",
     "output_type": "stream",
     "text": [
      "Function 'transcribe' executed in 0.6302s\n"
     ]
    },
    {
     "data": {
      "text/html": [
       "<pre style=\"white-space:pre;overflow-x:auto;line-height:normal;font-family:Menlo,'DejaVu Sans Mono',consolas,'Courier New',monospace\"></pre>\n"
      ],
      "text/plain": []
     },
     "metadata": {},
     "output_type": "display_data"
    },
    {
     "data": {
      "text/html": [
       "<pre style=\"white-space:pre;overflow-x:auto;line-height:normal;font-family:Menlo,'DejaVu Sans Mono',consolas,'Courier New',monospace\">\n",
       "</pre>\n"
      ],
      "text/plain": [
       "\n"
      ]
     },
     "metadata": {},
     "output_type": "display_data"
    },
    {
     "data": {
      "application/vnd.jupyter.widget-view+json": {
       "model_id": "839ce193b8d94c90ae629e196ab2d0d3",
       "version_major": 2,
       "version_minor": 0
      },
      "text/plain": [
       "Output()"
      ]
     },
     "metadata": {},
     "output_type": "display_data"
    },
    {
     "name": "stdout",
     "output_type": "stream",
     "text": [
      "Function 'transcribe' executed in 0.6291s\n"
     ]
    },
    {
     "data": {
      "text/html": [
       "<pre style=\"white-space:pre;overflow-x:auto;line-height:normal;font-family:Menlo,'DejaVu Sans Mono',consolas,'Courier New',monospace\"></pre>\n"
      ],
      "text/plain": []
     },
     "metadata": {},
     "output_type": "display_data"
    },
    {
     "data": {
      "text/html": [
       "<pre style=\"white-space:pre;overflow-x:auto;line-height:normal;font-family:Menlo,'DejaVu Sans Mono',consolas,'Courier New',monospace\">\n",
       "</pre>\n"
      ],
      "text/plain": [
       "\n"
      ]
     },
     "metadata": {},
     "output_type": "display_data"
    },
    {
     "name": "stderr",
     "output_type": "stream",
     "text": [
      "2it [00:23, 13.64s/it]"
     ]
    },
    {
     "data": {
      "application/vnd.jupyter.widget-view+json": {
       "model_id": "eafb50f6d31d456a97de48880a47f0cb",
       "version_major": 2,
       "version_minor": 0
      },
      "text/plain": [
       "Output()"
      ]
     },
     "metadata": {},
     "output_type": "display_data"
    },
    {
     "name": "stdout",
     "output_type": "stream",
     "text": [
      "Function 'transcribe' executed in 0.6302s\n"
     ]
    },
    {
     "data": {
      "text/html": [
       "<pre style=\"white-space:pre;overflow-x:auto;line-height:normal;font-family:Menlo,'DejaVu Sans Mono',consolas,'Courier New',monospace\"></pre>\n"
      ],
      "text/plain": []
     },
     "metadata": {},
     "output_type": "display_data"
    },
    {
     "data": {
      "text/html": [
       "<pre style=\"white-space:pre;overflow-x:auto;line-height:normal;font-family:Menlo,'DejaVu Sans Mono',consolas,'Courier New',monospace\">\n",
       "</pre>\n"
      ],
      "text/plain": [
       "\n"
      ]
     },
     "metadata": {},
     "output_type": "display_data"
    },
    {
     "data": {
      "application/vnd.jupyter.widget-view+json": {
       "model_id": "3a43248d0d6c41df9e31bcc13867e61b",
       "version_major": 2,
       "version_minor": 0
      },
      "text/plain": [
       "Output()"
      ]
     },
     "metadata": {},
     "output_type": "display_data"
    },
    {
     "name": "stdout",
     "output_type": "stream",
     "text": [
      "Function 'predict_lines' executed in 0.8826s\n",
      " Region 2, found 45 lines to parse and transcribe.\n"
     ]
    },
    {
     "data": {
      "text/html": [
       "<pre style=\"white-space:pre;overflow-x:auto;line-height:normal;font-family:Menlo,'DejaVu Sans Mono',consolas,'Courier New',monospace\"></pre>\n"
      ],
      "text/plain": []
     },
     "metadata": {},
     "output_type": "display_data"
    },
    {
     "data": {
      "text/html": [
       "<pre style=\"white-space:pre;overflow-x:auto;line-height:normal;font-family:Menlo,'DejaVu Sans Mono',consolas,'Courier New',monospace\">\n",
       "</pre>\n"
      ],
      "text/plain": [
       "\n"
      ]
     },
     "metadata": {},
     "output_type": "display_data"
    },
    {
     "data": {
      "application/vnd.jupyter.widget-view+json": {
       "model_id": "83524b79bb7a44e8b4bed1fe55195775",
       "version_major": 2,
       "version_minor": 0
      },
      "text/plain": [
       "Output()"
      ]
     },
     "metadata": {},
     "output_type": "display_data"
    },
    {
     "name": "stdout",
     "output_type": "stream",
     "text": [
      "Function 'transcribe' executed in 0.6376s\n"
     ]
    },
    {
     "data": {
      "text/html": [
       "<pre style=\"white-space:pre;overflow-x:auto;line-height:normal;font-family:Menlo,'DejaVu Sans Mono',consolas,'Courier New',monospace\"></pre>\n"
      ],
      "text/plain": []
     },
     "metadata": {},
     "output_type": "display_data"
    },
    {
     "data": {
      "text/html": [
       "<pre style=\"white-space:pre;overflow-x:auto;line-height:normal;font-family:Menlo,'DejaVu Sans Mono',consolas,'Courier New',monospace\">\n",
       "</pre>\n"
      ],
      "text/plain": [
       "\n"
      ]
     },
     "metadata": {},
     "output_type": "display_data"
    },
    {
     "data": {
      "application/vnd.jupyter.widget-view+json": {
       "model_id": "64c340d3c18e44518fef8779621270dd",
       "version_major": 2,
       "version_minor": 0
      },
      "text/plain": [
       "Output()"
      ]
     },
     "metadata": {},
     "output_type": "display_data"
    },
    {
     "name": "stdout",
     "output_type": "stream",
     "text": [
      "Function 'transcribe' executed in 0.6375s\n"
     ]
    },
    {
     "data": {
      "text/html": [
       "<pre style=\"white-space:pre;overflow-x:auto;line-height:normal;font-family:Menlo,'DejaVu Sans Mono',consolas,'Courier New',monospace\"></pre>\n"
      ],
      "text/plain": []
     },
     "metadata": {},
     "output_type": "display_data"
    },
    {
     "data": {
      "text/html": [
       "<pre style=\"white-space:pre;overflow-x:auto;line-height:normal;font-family:Menlo,'DejaVu Sans Mono',consolas,'Courier New',monospace\">\n",
       "</pre>\n"
      ],
      "text/plain": [
       "\n"
      ]
     },
     "metadata": {},
     "output_type": "display_data"
    },
    {
     "data": {
      "application/vnd.jupyter.widget-view+json": {
       "model_id": "f5e23cec280942ecbe9c42de522195d1",
       "version_major": 2,
       "version_minor": 0
      },
      "text/plain": [
       "Output()"
      ]
     },
     "metadata": {},
     "output_type": "display_data"
    },
    {
     "name": "stdout",
     "output_type": "stream",
     "text": [
      "Function 'transcribe' executed in 0.6435s\n"
     ]
    },
    {
     "data": {
      "text/html": [
       "<pre style=\"white-space:pre;overflow-x:auto;line-height:normal;font-family:Menlo,'DejaVu Sans Mono',consolas,'Courier New',monospace\"></pre>\n"
      ],
      "text/plain": []
     },
     "metadata": {},
     "output_type": "display_data"
    },
    {
     "data": {
      "text/html": [
       "<pre style=\"white-space:pre;overflow-x:auto;line-height:normal;font-family:Menlo,'DejaVu Sans Mono',consolas,'Courier New',monospace\">\n",
       "</pre>\n"
      ],
      "text/plain": [
       "\n"
      ]
     },
     "metadata": {},
     "output_type": "display_data"
    },
    {
     "data": {
      "application/vnd.jupyter.widget-view+json": {
       "model_id": "01466f03447e4eaaaaf0abd855db0f2a",
       "version_major": 2,
       "version_minor": 0
      },
      "text/plain": [
       "Output()"
      ]
     },
     "metadata": {},
     "output_type": "display_data"
    },
    {
     "name": "stdout",
     "output_type": "stream",
     "text": [
      "Function 'transcribe' executed in 0.6356s\n"
     ]
    },
    {
     "data": {
      "text/html": [
       "<pre style=\"white-space:pre;overflow-x:auto;line-height:normal;font-family:Menlo,'DejaVu Sans Mono',consolas,'Courier New',monospace\"></pre>\n"
      ],
      "text/plain": []
     },
     "metadata": {},
     "output_type": "display_data"
    },
    {
     "data": {
      "text/html": [
       "<pre style=\"white-space:pre;overflow-x:auto;line-height:normal;font-family:Menlo,'DejaVu Sans Mono',consolas,'Courier New',monospace\">\n",
       "</pre>\n"
      ],
      "text/plain": [
       "\n"
      ]
     },
     "metadata": {},
     "output_type": "display_data"
    },
    {
     "data": {
      "application/vnd.jupyter.widget-view+json": {
       "model_id": "6dfe7fcb1f73453abd9a26d304f54c1d",
       "version_major": 2,
       "version_minor": 0
      },
      "text/plain": [
       "Output()"
      ]
     },
     "metadata": {},
     "output_type": "display_data"
    },
    {
     "name": "stdout",
     "output_type": "stream",
     "text": [
      "Function 'transcribe' executed in 0.6320s\n"
     ]
    },
    {
     "data": {
      "text/html": [
       "<pre style=\"white-space:pre;overflow-x:auto;line-height:normal;font-family:Menlo,'DejaVu Sans Mono',consolas,'Courier New',monospace\"></pre>\n"
      ],
      "text/plain": []
     },
     "metadata": {},
     "output_type": "display_data"
    },
    {
     "data": {
      "text/html": [
       "<pre style=\"white-space:pre;overflow-x:auto;line-height:normal;font-family:Menlo,'DejaVu Sans Mono',consolas,'Courier New',monospace\">\n",
       "</pre>\n"
      ],
      "text/plain": [
       "\n"
      ]
     },
     "metadata": {},
     "output_type": "display_data"
    },
    {
     "data": {
      "application/vnd.jupyter.widget-view+json": {
       "model_id": "5d1343bc73e04eeba64e9feff971606f",
       "version_major": 2,
       "version_minor": 0
      },
      "text/plain": [
       "Output()"
      ]
     },
     "metadata": {},
     "output_type": "display_data"
    },
    {
     "name": "stdout",
     "output_type": "stream",
     "text": [
      "Function 'transcribe' executed in 0.6387s\n"
     ]
    },
    {
     "data": {
      "text/html": [
       "<pre style=\"white-space:pre;overflow-x:auto;line-height:normal;font-family:Menlo,'DejaVu Sans Mono',consolas,'Courier New',monospace\"></pre>\n"
      ],
      "text/plain": []
     },
     "metadata": {},
     "output_type": "display_data"
    },
    {
     "data": {
      "text/html": [
       "<pre style=\"white-space:pre;overflow-x:auto;line-height:normal;font-family:Menlo,'DejaVu Sans Mono',consolas,'Courier New',monospace\">\n",
       "</pre>\n"
      ],
      "text/plain": [
       "\n"
      ]
     },
     "metadata": {},
     "output_type": "display_data"
    },
    {
     "data": {
      "application/vnd.jupyter.widget-view+json": {
       "model_id": "9285a9a2efb344d8b3f3f084047ba313",
       "version_major": 2,
       "version_minor": 0
      },
      "text/plain": [
       "Output()"
      ]
     },
     "metadata": {},
     "output_type": "display_data"
    },
    {
     "name": "stdout",
     "output_type": "stream",
     "text": [
      "Function 'transcribe' executed in 0.6338s\n"
     ]
    },
    {
     "data": {
      "text/html": [
       "<pre style=\"white-space:pre;overflow-x:auto;line-height:normal;font-family:Menlo,'DejaVu Sans Mono',consolas,'Courier New',monospace\"></pre>\n"
      ],
      "text/plain": []
     },
     "metadata": {},
     "output_type": "display_data"
    },
    {
     "data": {
      "text/html": [
       "<pre style=\"white-space:pre;overflow-x:auto;line-height:normal;font-family:Menlo,'DejaVu Sans Mono',consolas,'Courier New',monospace\">\n",
       "</pre>\n"
      ],
      "text/plain": [
       "\n"
      ]
     },
     "metadata": {},
     "output_type": "display_data"
    },
    {
     "data": {
      "application/vnd.jupyter.widget-view+json": {
       "model_id": "f4148cb4d8b042c38a0495023faa14b1",
       "version_major": 2,
       "version_minor": 0
      },
      "text/plain": [
       "Output()"
      ]
     },
     "metadata": {},
     "output_type": "display_data"
    },
    {
     "name": "stdout",
     "output_type": "stream",
     "text": [
      "Function 'transcribe' executed in 0.6591s\n"
     ]
    },
    {
     "data": {
      "text/html": [
       "<pre style=\"white-space:pre;overflow-x:auto;line-height:normal;font-family:Menlo,'DejaVu Sans Mono',consolas,'Courier New',monospace\"></pre>\n"
      ],
      "text/plain": []
     },
     "metadata": {},
     "output_type": "display_data"
    },
    {
     "data": {
      "text/html": [
       "<pre style=\"white-space:pre;overflow-x:auto;line-height:normal;font-family:Menlo,'DejaVu Sans Mono',consolas,'Courier New',monospace\">\n",
       "</pre>\n"
      ],
      "text/plain": [
       "\n"
      ]
     },
     "metadata": {},
     "output_type": "display_data"
    },
    {
     "data": {
      "application/vnd.jupyter.widget-view+json": {
       "model_id": "625d5fc5208143bd8516a34beae3de4c",
       "version_major": 2,
       "version_minor": 0
      },
      "text/plain": [
       "Output()"
      ]
     },
     "metadata": {},
     "output_type": "display_data"
    },
    {
     "name": "stdout",
     "output_type": "stream",
     "text": [
      "Function 'transcribe' executed in 0.6388s\n"
     ]
    },
    {
     "data": {
      "text/html": [
       "<pre style=\"white-space:pre;overflow-x:auto;line-height:normal;font-family:Menlo,'DejaVu Sans Mono',consolas,'Courier New',monospace\"></pre>\n"
      ],
      "text/plain": []
     },
     "metadata": {},
     "output_type": "display_data"
    },
    {
     "data": {
      "text/html": [
       "<pre style=\"white-space:pre;overflow-x:auto;line-height:normal;font-family:Menlo,'DejaVu Sans Mono',consolas,'Courier New',monospace\">\n",
       "</pre>\n"
      ],
      "text/plain": [
       "\n"
      ]
     },
     "metadata": {},
     "output_type": "display_data"
    },
    {
     "data": {
      "application/vnd.jupyter.widget-view+json": {
       "model_id": "3dc529abed7240d38623e49b38c1c2b5",
       "version_major": 2,
       "version_minor": 0
      },
      "text/plain": [
       "Output()"
      ]
     },
     "metadata": {},
     "output_type": "display_data"
    },
    {
     "name": "stdout",
     "output_type": "stream",
     "text": [
      "Function 'transcribe' executed in 0.6381s\n",
      "Region 2, parsed 10 lines. Still 35 lines left to transcribe.\n"
     ]
    },
    {
     "data": {
      "text/html": [
       "<pre style=\"white-space:pre;overflow-x:auto;line-height:normal;font-family:Menlo,'DejaVu Sans Mono',consolas,'Courier New',monospace\"></pre>\n"
      ],
      "text/plain": []
     },
     "metadata": {},
     "output_type": "display_data"
    },
    {
     "data": {
      "text/html": [
       "<pre style=\"white-space:pre;overflow-x:auto;line-height:normal;font-family:Menlo,'DejaVu Sans Mono',consolas,'Courier New',monospace\">\n",
       "</pre>\n"
      ],
      "text/plain": [
       "\n"
      ]
     },
     "metadata": {},
     "output_type": "display_data"
    },
    {
     "data": {
      "application/vnd.jupyter.widget-view+json": {
       "model_id": "005e89fdb4454411bcfe8bd43a847edf",
       "version_major": 2,
       "version_minor": 0
      },
      "text/plain": [
       "Output()"
      ]
     },
     "metadata": {},
     "output_type": "display_data"
    },
    {
     "name": "stdout",
     "output_type": "stream",
     "text": [
      "Function 'transcribe' executed in 0.6399s\n"
     ]
    },
    {
     "data": {
      "text/html": [
       "<pre style=\"white-space:pre;overflow-x:auto;line-height:normal;font-family:Menlo,'DejaVu Sans Mono',consolas,'Courier New',monospace\"></pre>\n"
      ],
      "text/plain": []
     },
     "metadata": {},
     "output_type": "display_data"
    },
    {
     "data": {
      "text/html": [
       "<pre style=\"white-space:pre;overflow-x:auto;line-height:normal;font-family:Menlo,'DejaVu Sans Mono',consolas,'Courier New',monospace\">\n",
       "</pre>\n"
      ],
      "text/plain": [
       "\n"
      ]
     },
     "metadata": {},
     "output_type": "display_data"
    },
    {
     "data": {
      "application/vnd.jupyter.widget-view+json": {
       "model_id": "10b3f5f7ff714265a35d35256d9c91da",
       "version_major": 2,
       "version_minor": 0
      },
      "text/plain": [
       "Output()"
      ]
     },
     "metadata": {},
     "output_type": "display_data"
    },
    {
     "name": "stdout",
     "output_type": "stream",
     "text": [
      "Function 'transcribe' executed in 0.6309s\n"
     ]
    },
    {
     "data": {
      "text/html": [
       "<pre style=\"white-space:pre;overflow-x:auto;line-height:normal;font-family:Menlo,'DejaVu Sans Mono',consolas,'Courier New',monospace\"></pre>\n"
      ],
      "text/plain": []
     },
     "metadata": {},
     "output_type": "display_data"
    },
    {
     "data": {
      "text/html": [
       "<pre style=\"white-space:pre;overflow-x:auto;line-height:normal;font-family:Menlo,'DejaVu Sans Mono',consolas,'Courier New',monospace\">\n",
       "</pre>\n"
      ],
      "text/plain": [
       "\n"
      ]
     },
     "metadata": {},
     "output_type": "display_data"
    },
    {
     "data": {
      "application/vnd.jupyter.widget-view+json": {
       "model_id": "a259a5c093374a488939e7523685b21a",
       "version_major": 2,
       "version_minor": 0
      },
      "text/plain": [
       "Output()"
      ]
     },
     "metadata": {},
     "output_type": "display_data"
    },
    {
     "name": "stdout",
     "output_type": "stream",
     "text": [
      "Function 'transcribe' executed in 0.6283s\n"
     ]
    },
    {
     "data": {
      "text/html": [
       "<pre style=\"white-space:pre;overflow-x:auto;line-height:normal;font-family:Menlo,'DejaVu Sans Mono',consolas,'Courier New',monospace\"></pre>\n"
      ],
      "text/plain": []
     },
     "metadata": {},
     "output_type": "display_data"
    },
    {
     "data": {
      "text/html": [
       "<pre style=\"white-space:pre;overflow-x:auto;line-height:normal;font-family:Menlo,'DejaVu Sans Mono',consolas,'Courier New',monospace\">\n",
       "</pre>\n"
      ],
      "text/plain": [
       "\n"
      ]
     },
     "metadata": {},
     "output_type": "display_data"
    },
    {
     "data": {
      "application/vnd.jupyter.widget-view+json": {
       "model_id": "c41f0971dedc46bab85a45c07fb43b1e",
       "version_major": 2,
       "version_minor": 0
      },
      "text/plain": [
       "Output()"
      ]
     },
     "metadata": {},
     "output_type": "display_data"
    },
    {
     "name": "stdout",
     "output_type": "stream",
     "text": [
      "Function 'transcribe' executed in 0.6369s\n"
     ]
    },
    {
     "data": {
      "text/html": [
       "<pre style=\"white-space:pre;overflow-x:auto;line-height:normal;font-family:Menlo,'DejaVu Sans Mono',consolas,'Courier New',monospace\"></pre>\n"
      ],
      "text/plain": []
     },
     "metadata": {},
     "output_type": "display_data"
    },
    {
     "data": {
      "text/html": [
       "<pre style=\"white-space:pre;overflow-x:auto;line-height:normal;font-family:Menlo,'DejaVu Sans Mono',consolas,'Courier New',monospace\">\n",
       "</pre>\n"
      ],
      "text/plain": [
       "\n"
      ]
     },
     "metadata": {},
     "output_type": "display_data"
    },
    {
     "data": {
      "application/vnd.jupyter.widget-view+json": {
       "model_id": "ca616b99f272491488a446e7c9aa107f",
       "version_major": 2,
       "version_minor": 0
      },
      "text/plain": [
       "Output()"
      ]
     },
     "metadata": {},
     "output_type": "display_data"
    },
    {
     "name": "stdout",
     "output_type": "stream",
     "text": [
      "Function 'transcribe' executed in 0.6321s\n"
     ]
    },
    {
     "data": {
      "text/html": [
       "<pre style=\"white-space:pre;overflow-x:auto;line-height:normal;font-family:Menlo,'DejaVu Sans Mono',consolas,'Courier New',monospace\"></pre>\n"
      ],
      "text/plain": []
     },
     "metadata": {},
     "output_type": "display_data"
    },
    {
     "data": {
      "text/html": [
       "<pre style=\"white-space:pre;overflow-x:auto;line-height:normal;font-family:Menlo,'DejaVu Sans Mono',consolas,'Courier New',monospace\">\n",
       "</pre>\n"
      ],
      "text/plain": [
       "\n"
      ]
     },
     "metadata": {},
     "output_type": "display_data"
    },
    {
     "data": {
      "application/vnd.jupyter.widget-view+json": {
       "model_id": "bf4219c5115f468daabe5a50f9f9143d",
       "version_major": 2,
       "version_minor": 0
      },
      "text/plain": [
       "Output()"
      ]
     },
     "metadata": {},
     "output_type": "display_data"
    },
    {
     "name": "stdout",
     "output_type": "stream",
     "text": [
      "Function 'transcribe' executed in 0.6395s\n"
     ]
    },
    {
     "data": {
      "text/html": [
       "<pre style=\"white-space:pre;overflow-x:auto;line-height:normal;font-family:Menlo,'DejaVu Sans Mono',consolas,'Courier New',monospace\"></pre>\n"
      ],
      "text/plain": []
     },
     "metadata": {},
     "output_type": "display_data"
    },
    {
     "data": {
      "text/html": [
       "<pre style=\"white-space:pre;overflow-x:auto;line-height:normal;font-family:Menlo,'DejaVu Sans Mono',consolas,'Courier New',monospace\">\n",
       "</pre>\n"
      ],
      "text/plain": [
       "\n"
      ]
     },
     "metadata": {},
     "output_type": "display_data"
    },
    {
     "data": {
      "application/vnd.jupyter.widget-view+json": {
       "model_id": "e0f6a3b6da2d40dbbb856d5b71ac455a",
       "version_major": 2,
       "version_minor": 0
      },
      "text/plain": [
       "Output()"
      ]
     },
     "metadata": {},
     "output_type": "display_data"
    },
    {
     "name": "stdout",
     "output_type": "stream",
     "text": [
      "Function 'transcribe' executed in 0.6280s\n"
     ]
    },
    {
     "data": {
      "text/html": [
       "<pre style=\"white-space:pre;overflow-x:auto;line-height:normal;font-family:Menlo,'DejaVu Sans Mono',consolas,'Courier New',monospace\"></pre>\n"
      ],
      "text/plain": []
     },
     "metadata": {},
     "output_type": "display_data"
    },
    {
     "data": {
      "text/html": [
       "<pre style=\"white-space:pre;overflow-x:auto;line-height:normal;font-family:Menlo,'DejaVu Sans Mono',consolas,'Courier New',monospace\">\n",
       "</pre>\n"
      ],
      "text/plain": [
       "\n"
      ]
     },
     "metadata": {},
     "output_type": "display_data"
    },
    {
     "data": {
      "application/vnd.jupyter.widget-view+json": {
       "model_id": "3af63686e321489c9132799e7ff9b3c6",
       "version_major": 2,
       "version_minor": 0
      },
      "text/plain": [
       "Output()"
      ]
     },
     "metadata": {},
     "output_type": "display_data"
    },
    {
     "name": "stdout",
     "output_type": "stream",
     "text": [
      "Function 'transcribe' executed in 0.6291s\n"
     ]
    },
    {
     "data": {
      "text/html": [
       "<pre style=\"white-space:pre;overflow-x:auto;line-height:normal;font-family:Menlo,'DejaVu Sans Mono',consolas,'Courier New',monospace\"></pre>\n"
      ],
      "text/plain": []
     },
     "metadata": {},
     "output_type": "display_data"
    },
    {
     "data": {
      "text/html": [
       "<pre style=\"white-space:pre;overflow-x:auto;line-height:normal;font-family:Menlo,'DejaVu Sans Mono',consolas,'Courier New',monospace\">\n",
       "</pre>\n"
      ],
      "text/plain": [
       "\n"
      ]
     },
     "metadata": {},
     "output_type": "display_data"
    },
    {
     "data": {
      "application/vnd.jupyter.widget-view+json": {
       "model_id": "cb027043bca14f19a468fbcc369650a6",
       "version_major": 2,
       "version_minor": 0
      },
      "text/plain": [
       "Output()"
      ]
     },
     "metadata": {},
     "output_type": "display_data"
    },
    {
     "name": "stdout",
     "output_type": "stream",
     "text": [
      "Function 'transcribe' executed in 0.6361s\n"
     ]
    },
    {
     "data": {
      "text/html": [
       "<pre style=\"white-space:pre;overflow-x:auto;line-height:normal;font-family:Menlo,'DejaVu Sans Mono',consolas,'Courier New',monospace\"></pre>\n"
      ],
      "text/plain": []
     },
     "metadata": {},
     "output_type": "display_data"
    },
    {
     "data": {
      "text/html": [
       "<pre style=\"white-space:pre;overflow-x:auto;line-height:normal;font-family:Menlo,'DejaVu Sans Mono',consolas,'Courier New',monospace\">\n",
       "</pre>\n"
      ],
      "text/plain": [
       "\n"
      ]
     },
     "metadata": {},
     "output_type": "display_data"
    },
    {
     "data": {
      "application/vnd.jupyter.widget-view+json": {
       "model_id": "81c258384b6141d2a942fa857da860b2",
       "version_major": 2,
       "version_minor": 0
      },
      "text/plain": [
       "Output()"
      ]
     },
     "metadata": {},
     "output_type": "display_data"
    },
    {
     "name": "stdout",
     "output_type": "stream",
     "text": [
      "Function 'transcribe' executed in 0.6290s\n",
      "Region 2, parsed 20 lines. Still 25 lines left to transcribe.\n"
     ]
    },
    {
     "data": {
      "text/html": [
       "<pre style=\"white-space:pre;overflow-x:auto;line-height:normal;font-family:Menlo,'DejaVu Sans Mono',consolas,'Courier New',monospace\"></pre>\n"
      ],
      "text/plain": []
     },
     "metadata": {},
     "output_type": "display_data"
    },
    {
     "data": {
      "text/html": [
       "<pre style=\"white-space:pre;overflow-x:auto;line-height:normal;font-family:Menlo,'DejaVu Sans Mono',consolas,'Courier New',monospace\">\n",
       "</pre>\n"
      ],
      "text/plain": [
       "\n"
      ]
     },
     "metadata": {},
     "output_type": "display_data"
    },
    {
     "data": {
      "application/vnd.jupyter.widget-view+json": {
       "model_id": "86b3b989fdd54fa6917c1ccbcc96c110",
       "version_major": 2,
       "version_minor": 0
      },
      "text/plain": [
       "Output()"
      ]
     },
     "metadata": {},
     "output_type": "display_data"
    },
    {
     "name": "stdout",
     "output_type": "stream",
     "text": [
      "Function 'transcribe' executed in 0.6307s\n"
     ]
    },
    {
     "data": {
      "text/html": [
       "<pre style=\"white-space:pre;overflow-x:auto;line-height:normal;font-family:Menlo,'DejaVu Sans Mono',consolas,'Courier New',monospace\"></pre>\n"
      ],
      "text/plain": []
     },
     "metadata": {},
     "output_type": "display_data"
    },
    {
     "data": {
      "text/html": [
       "<pre style=\"white-space:pre;overflow-x:auto;line-height:normal;font-family:Menlo,'DejaVu Sans Mono',consolas,'Courier New',monospace\">\n",
       "</pre>\n"
      ],
      "text/plain": [
       "\n"
      ]
     },
     "metadata": {},
     "output_type": "display_data"
    },
    {
     "data": {
      "application/vnd.jupyter.widget-view+json": {
       "model_id": "17aae47269d3418f9ffbdde49f76ac13",
       "version_major": 2,
       "version_minor": 0
      },
      "text/plain": [
       "Output()"
      ]
     },
     "metadata": {},
     "output_type": "display_data"
    },
    {
     "name": "stdout",
     "output_type": "stream",
     "text": [
      "Function 'transcribe' executed in 0.6304s\n"
     ]
    },
    {
     "data": {
      "text/html": [
       "<pre style=\"white-space:pre;overflow-x:auto;line-height:normal;font-family:Menlo,'DejaVu Sans Mono',consolas,'Courier New',monospace\"></pre>\n"
      ],
      "text/plain": []
     },
     "metadata": {},
     "output_type": "display_data"
    },
    {
     "data": {
      "text/html": [
       "<pre style=\"white-space:pre;overflow-x:auto;line-height:normal;font-family:Menlo,'DejaVu Sans Mono',consolas,'Courier New',monospace\">\n",
       "</pre>\n"
      ],
      "text/plain": [
       "\n"
      ]
     },
     "metadata": {},
     "output_type": "display_data"
    },
    {
     "data": {
      "application/vnd.jupyter.widget-view+json": {
       "model_id": "ff4b60c4e4904e87bbf9e17df5978897",
       "version_major": 2,
       "version_minor": 0
      },
      "text/plain": [
       "Output()"
      ]
     },
     "metadata": {},
     "output_type": "display_data"
    },
    {
     "name": "stdout",
     "output_type": "stream",
     "text": [
      "Function 'transcribe' executed in 0.6301s\n"
     ]
    },
    {
     "data": {
      "text/html": [
       "<pre style=\"white-space:pre;overflow-x:auto;line-height:normal;font-family:Menlo,'DejaVu Sans Mono',consolas,'Courier New',monospace\"></pre>\n"
      ],
      "text/plain": []
     },
     "metadata": {},
     "output_type": "display_data"
    },
    {
     "data": {
      "text/html": [
       "<pre style=\"white-space:pre;overflow-x:auto;line-height:normal;font-family:Menlo,'DejaVu Sans Mono',consolas,'Courier New',monospace\">\n",
       "</pre>\n"
      ],
      "text/plain": [
       "\n"
      ]
     },
     "metadata": {},
     "output_type": "display_data"
    },
    {
     "data": {
      "application/vnd.jupyter.widget-view+json": {
       "model_id": "f116fb52b91a4fa8aeb635a2059a86e8",
       "version_major": 2,
       "version_minor": 0
      },
      "text/plain": [
       "Output()"
      ]
     },
     "metadata": {},
     "output_type": "display_data"
    },
    {
     "name": "stdout",
     "output_type": "stream",
     "text": [
      "Function 'transcribe' executed in 0.6842s\n"
     ]
    },
    {
     "data": {
      "text/html": [
       "<pre style=\"white-space:pre;overflow-x:auto;line-height:normal;font-family:Menlo,'DejaVu Sans Mono',consolas,'Courier New',monospace\"></pre>\n"
      ],
      "text/plain": []
     },
     "metadata": {},
     "output_type": "display_data"
    },
    {
     "data": {
      "text/html": [
       "<pre style=\"white-space:pre;overflow-x:auto;line-height:normal;font-family:Menlo,'DejaVu Sans Mono',consolas,'Courier New',monospace\">\n",
       "</pre>\n"
      ],
      "text/plain": [
       "\n"
      ]
     },
     "metadata": {},
     "output_type": "display_data"
    },
    {
     "data": {
      "application/vnd.jupyter.widget-view+json": {
       "model_id": "0b59375a8206462a9e4f608c0c99ad71",
       "version_major": 2,
       "version_minor": 0
      },
      "text/plain": [
       "Output()"
      ]
     },
     "metadata": {},
     "output_type": "display_data"
    },
    {
     "name": "stdout",
     "output_type": "stream",
     "text": [
      "Function 'transcribe' executed in 0.6386s\n"
     ]
    },
    {
     "data": {
      "text/html": [
       "<pre style=\"white-space:pre;overflow-x:auto;line-height:normal;font-family:Menlo,'DejaVu Sans Mono',consolas,'Courier New',monospace\"></pre>\n"
      ],
      "text/plain": []
     },
     "metadata": {},
     "output_type": "display_data"
    },
    {
     "data": {
      "text/html": [
       "<pre style=\"white-space:pre;overflow-x:auto;line-height:normal;font-family:Menlo,'DejaVu Sans Mono',consolas,'Courier New',monospace\">\n",
       "</pre>\n"
      ],
      "text/plain": [
       "\n"
      ]
     },
     "metadata": {},
     "output_type": "display_data"
    },
    {
     "data": {
      "application/vnd.jupyter.widget-view+json": {
       "model_id": "b9d9edb54b094c1e87cd15b8727ca872",
       "version_major": 2,
       "version_minor": 0
      },
      "text/plain": [
       "Output()"
      ]
     },
     "metadata": {},
     "output_type": "display_data"
    },
    {
     "name": "stdout",
     "output_type": "stream",
     "text": [
      "Function 'transcribe' executed in 0.6472s\n"
     ]
    },
    {
     "data": {
      "text/html": [
       "<pre style=\"white-space:pre;overflow-x:auto;line-height:normal;font-family:Menlo,'DejaVu Sans Mono',consolas,'Courier New',monospace\"></pre>\n"
      ],
      "text/plain": []
     },
     "metadata": {},
     "output_type": "display_data"
    },
    {
     "data": {
      "text/html": [
       "<pre style=\"white-space:pre;overflow-x:auto;line-height:normal;font-family:Menlo,'DejaVu Sans Mono',consolas,'Courier New',monospace\">\n",
       "</pre>\n"
      ],
      "text/plain": [
       "\n"
      ]
     },
     "metadata": {},
     "output_type": "display_data"
    },
    {
     "data": {
      "application/vnd.jupyter.widget-view+json": {
       "model_id": "310e46942df14f8a8624155b6aa41af0",
       "version_major": 2,
       "version_minor": 0
      },
      "text/plain": [
       "Output()"
      ]
     },
     "metadata": {},
     "output_type": "display_data"
    },
    {
     "name": "stdout",
     "output_type": "stream",
     "text": [
      "Function 'transcribe' executed in 0.6543s\n"
     ]
    },
    {
     "data": {
      "text/html": [
       "<pre style=\"white-space:pre;overflow-x:auto;line-height:normal;font-family:Menlo,'DejaVu Sans Mono',consolas,'Courier New',monospace\"></pre>\n"
      ],
      "text/plain": []
     },
     "metadata": {},
     "output_type": "display_data"
    },
    {
     "data": {
      "text/html": [
       "<pre style=\"white-space:pre;overflow-x:auto;line-height:normal;font-family:Menlo,'DejaVu Sans Mono',consolas,'Courier New',monospace\">\n",
       "</pre>\n"
      ],
      "text/plain": [
       "\n"
      ]
     },
     "metadata": {},
     "output_type": "display_data"
    },
    {
     "data": {
      "application/vnd.jupyter.widget-view+json": {
       "model_id": "a01071b2694c455abd7d9a91d41b58ae",
       "version_major": 2,
       "version_minor": 0
      },
      "text/plain": [
       "Output()"
      ]
     },
     "metadata": {},
     "output_type": "display_data"
    },
    {
     "name": "stdout",
     "output_type": "stream",
     "text": [
      "Function 'transcribe' executed in 0.6929s\n"
     ]
    },
    {
     "data": {
      "text/html": [
       "<pre style=\"white-space:pre;overflow-x:auto;line-height:normal;font-family:Menlo,'DejaVu Sans Mono',consolas,'Courier New',monospace\"></pre>\n"
      ],
      "text/plain": []
     },
     "metadata": {},
     "output_type": "display_data"
    },
    {
     "data": {
      "text/html": [
       "<pre style=\"white-space:pre;overflow-x:auto;line-height:normal;font-family:Menlo,'DejaVu Sans Mono',consolas,'Courier New',monospace\">\n",
       "</pre>\n"
      ],
      "text/plain": [
       "\n"
      ]
     },
     "metadata": {},
     "output_type": "display_data"
    },
    {
     "data": {
      "application/vnd.jupyter.widget-view+json": {
       "model_id": "f7687f983661462b9d7e816363b9f210",
       "version_major": 2,
       "version_minor": 0
      },
      "text/plain": [
       "Output()"
      ]
     },
     "metadata": {},
     "output_type": "display_data"
    },
    {
     "name": "stdout",
     "output_type": "stream",
     "text": [
      "Function 'transcribe' executed in 0.6849s\n"
     ]
    },
    {
     "data": {
      "text/html": [
       "<pre style=\"white-space:pre;overflow-x:auto;line-height:normal;font-family:Menlo,'DejaVu Sans Mono',consolas,'Courier New',monospace\"></pre>\n"
      ],
      "text/plain": []
     },
     "metadata": {},
     "output_type": "display_data"
    },
    {
     "data": {
      "text/html": [
       "<pre style=\"white-space:pre;overflow-x:auto;line-height:normal;font-family:Menlo,'DejaVu Sans Mono',consolas,'Courier New',monospace\">\n",
       "</pre>\n"
      ],
      "text/plain": [
       "\n"
      ]
     },
     "metadata": {},
     "output_type": "display_data"
    },
    {
     "data": {
      "application/vnd.jupyter.widget-view+json": {
       "model_id": "1bf9923295f64154886603c3c3b892c6",
       "version_major": 2,
       "version_minor": 0
      },
      "text/plain": [
       "Output()"
      ]
     },
     "metadata": {},
     "output_type": "display_data"
    },
    {
     "name": "stdout",
     "output_type": "stream",
     "text": [
      "Function 'transcribe' executed in 0.6454s\n",
      "Region 2, parsed 30 lines. Still 15 lines left to transcribe.\n"
     ]
    },
    {
     "data": {
      "text/html": [
       "<pre style=\"white-space:pre;overflow-x:auto;line-height:normal;font-family:Menlo,'DejaVu Sans Mono',consolas,'Courier New',monospace\"></pre>\n"
      ],
      "text/plain": []
     },
     "metadata": {},
     "output_type": "display_data"
    },
    {
     "data": {
      "text/html": [
       "<pre style=\"white-space:pre;overflow-x:auto;line-height:normal;font-family:Menlo,'DejaVu Sans Mono',consolas,'Courier New',monospace\">\n",
       "</pre>\n"
      ],
      "text/plain": [
       "\n"
      ]
     },
     "metadata": {},
     "output_type": "display_data"
    },
    {
     "data": {
      "application/vnd.jupyter.widget-view+json": {
       "model_id": "6d20ece5bfbe4bfb88b38fff708d5830",
       "version_major": 2,
       "version_minor": 0
      },
      "text/plain": [
       "Output()"
      ]
     },
     "metadata": {},
     "output_type": "display_data"
    },
    {
     "name": "stdout",
     "output_type": "stream",
     "text": [
      "Function 'transcribe' executed in 0.8211s\n"
     ]
    },
    {
     "data": {
      "text/html": [
       "<pre style=\"white-space:pre;overflow-x:auto;line-height:normal;font-family:Menlo,'DejaVu Sans Mono',consolas,'Courier New',monospace\"></pre>\n"
      ],
      "text/plain": []
     },
     "metadata": {},
     "output_type": "display_data"
    },
    {
     "data": {
      "text/html": [
       "<pre style=\"white-space:pre;overflow-x:auto;line-height:normal;font-family:Menlo,'DejaVu Sans Mono',consolas,'Courier New',monospace\">\n",
       "</pre>\n"
      ],
      "text/plain": [
       "\n"
      ]
     },
     "metadata": {},
     "output_type": "display_data"
    },
    {
     "data": {
      "application/vnd.jupyter.widget-view+json": {
       "model_id": "c4afdf8b69974e168840c9741547d0b3",
       "version_major": 2,
       "version_minor": 0
      },
      "text/plain": [
       "Output()"
      ]
     },
     "metadata": {},
     "output_type": "display_data"
    },
    {
     "name": "stdout",
     "output_type": "stream",
     "text": [
      "Function 'transcribe' executed in 0.8023s\n"
     ]
    },
    {
     "data": {
      "text/html": [
       "<pre style=\"white-space:pre;overflow-x:auto;line-height:normal;font-family:Menlo,'DejaVu Sans Mono',consolas,'Courier New',monospace\"></pre>\n"
      ],
      "text/plain": []
     },
     "metadata": {},
     "output_type": "display_data"
    },
    {
     "data": {
      "text/html": [
       "<pre style=\"white-space:pre;overflow-x:auto;line-height:normal;font-family:Menlo,'DejaVu Sans Mono',consolas,'Courier New',monospace\">\n",
       "</pre>\n"
      ],
      "text/plain": [
       "\n"
      ]
     },
     "metadata": {},
     "output_type": "display_data"
    },
    {
     "data": {
      "application/vnd.jupyter.widget-view+json": {
       "model_id": "b5dc055f1f404989a2fb71d43aaa272a",
       "version_major": 2,
       "version_minor": 0
      },
      "text/plain": [
       "Output()"
      ]
     },
     "metadata": {},
     "output_type": "display_data"
    },
    {
     "name": "stdout",
     "output_type": "stream",
     "text": [
      "Function 'transcribe' executed in 0.7853s\n"
     ]
    },
    {
     "data": {
      "text/html": [
       "<pre style=\"white-space:pre;overflow-x:auto;line-height:normal;font-family:Menlo,'DejaVu Sans Mono',consolas,'Courier New',monospace\"></pre>\n"
      ],
      "text/plain": []
     },
     "metadata": {},
     "output_type": "display_data"
    },
    {
     "data": {
      "text/html": [
       "<pre style=\"white-space:pre;overflow-x:auto;line-height:normal;font-family:Menlo,'DejaVu Sans Mono',consolas,'Courier New',monospace\">\n",
       "</pre>\n"
      ],
      "text/plain": [
       "\n"
      ]
     },
     "metadata": {},
     "output_type": "display_data"
    },
    {
     "data": {
      "application/vnd.jupyter.widget-view+json": {
       "model_id": "f4a26acdc6354b8ca2cf9643cc227bfa",
       "version_major": 2,
       "version_minor": 0
      },
      "text/plain": [
       "Output()"
      ]
     },
     "metadata": {},
     "output_type": "display_data"
    },
    {
     "name": "stdout",
     "output_type": "stream",
     "text": [
      "Function 'transcribe' executed in 0.7908s\n"
     ]
    },
    {
     "data": {
      "text/html": [
       "<pre style=\"white-space:pre;overflow-x:auto;line-height:normal;font-family:Menlo,'DejaVu Sans Mono',consolas,'Courier New',monospace\"></pre>\n"
      ],
      "text/plain": []
     },
     "metadata": {},
     "output_type": "display_data"
    },
    {
     "data": {
      "text/html": [
       "<pre style=\"white-space:pre;overflow-x:auto;line-height:normal;font-family:Menlo,'DejaVu Sans Mono',consolas,'Courier New',monospace\">\n",
       "</pre>\n"
      ],
      "text/plain": [
       "\n"
      ]
     },
     "metadata": {},
     "output_type": "display_data"
    },
    {
     "data": {
      "application/vnd.jupyter.widget-view+json": {
       "model_id": "aa666a4671fd429599d7a36bc97942b3",
       "version_major": 2,
       "version_minor": 0
      },
      "text/plain": [
       "Output()"
      ]
     },
     "metadata": {},
     "output_type": "display_data"
    },
    {
     "name": "stdout",
     "output_type": "stream",
     "text": [
      "Function 'transcribe' executed in 0.7853s\n"
     ]
    },
    {
     "data": {
      "text/html": [
       "<pre style=\"white-space:pre;overflow-x:auto;line-height:normal;font-family:Menlo,'DejaVu Sans Mono',consolas,'Courier New',monospace\"></pre>\n"
      ],
      "text/plain": []
     },
     "metadata": {},
     "output_type": "display_data"
    },
    {
     "data": {
      "text/html": [
       "<pre style=\"white-space:pre;overflow-x:auto;line-height:normal;font-family:Menlo,'DejaVu Sans Mono',consolas,'Courier New',monospace\">\n",
       "</pre>\n"
      ],
      "text/plain": [
       "\n"
      ]
     },
     "metadata": {},
     "output_type": "display_data"
    },
    {
     "data": {
      "application/vnd.jupyter.widget-view+json": {
       "model_id": "e54f236362ff4359bfe323ff76c96197",
       "version_major": 2,
       "version_minor": 0
      },
      "text/plain": [
       "Output()"
      ]
     },
     "metadata": {},
     "output_type": "display_data"
    },
    {
     "name": "stdout",
     "output_type": "stream",
     "text": [
      "Function 'transcribe' executed in 0.7873s\n"
     ]
    },
    {
     "data": {
      "text/html": [
       "<pre style=\"white-space:pre;overflow-x:auto;line-height:normal;font-family:Menlo,'DejaVu Sans Mono',consolas,'Courier New',monospace\"></pre>\n"
      ],
      "text/plain": []
     },
     "metadata": {},
     "output_type": "display_data"
    },
    {
     "data": {
      "text/html": [
       "<pre style=\"white-space:pre;overflow-x:auto;line-height:normal;font-family:Menlo,'DejaVu Sans Mono',consolas,'Courier New',monospace\">\n",
       "</pre>\n"
      ],
      "text/plain": [
       "\n"
      ]
     },
     "metadata": {},
     "output_type": "display_data"
    },
    {
     "data": {
      "application/vnd.jupyter.widget-view+json": {
       "model_id": "8c896ea536fb4582aba3b8a496eb2f88",
       "version_major": 2,
       "version_minor": 0
      },
      "text/plain": [
       "Output()"
      ]
     },
     "metadata": {},
     "output_type": "display_data"
    },
    {
     "name": "stdout",
     "output_type": "stream",
     "text": [
      "Function 'transcribe' executed in 0.7965s\n"
     ]
    },
    {
     "data": {
      "text/html": [
       "<pre style=\"white-space:pre;overflow-x:auto;line-height:normal;font-family:Menlo,'DejaVu Sans Mono',consolas,'Courier New',monospace\"></pre>\n"
      ],
      "text/plain": []
     },
     "metadata": {},
     "output_type": "display_data"
    },
    {
     "data": {
      "text/html": [
       "<pre style=\"white-space:pre;overflow-x:auto;line-height:normal;font-family:Menlo,'DejaVu Sans Mono',consolas,'Courier New',monospace\">\n",
       "</pre>\n"
      ],
      "text/plain": [
       "\n"
      ]
     },
     "metadata": {},
     "output_type": "display_data"
    },
    {
     "data": {
      "application/vnd.jupyter.widget-view+json": {
       "model_id": "37f160bfb46e48feb6505963b8a3972f",
       "version_major": 2,
       "version_minor": 0
      },
      "text/plain": [
       "Output()"
      ]
     },
     "metadata": {},
     "output_type": "display_data"
    },
    {
     "name": "stdout",
     "output_type": "stream",
     "text": [
      "Function 'transcribe' executed in 0.8038s\n"
     ]
    },
    {
     "data": {
      "text/html": [
       "<pre style=\"white-space:pre;overflow-x:auto;line-height:normal;font-family:Menlo,'DejaVu Sans Mono',consolas,'Courier New',monospace\"></pre>\n"
      ],
      "text/plain": []
     },
     "metadata": {},
     "output_type": "display_data"
    },
    {
     "data": {
      "text/html": [
       "<pre style=\"white-space:pre;overflow-x:auto;line-height:normal;font-family:Menlo,'DejaVu Sans Mono',consolas,'Courier New',monospace\">\n",
       "</pre>\n"
      ],
      "text/plain": [
       "\n"
      ]
     },
     "metadata": {},
     "output_type": "display_data"
    },
    {
     "data": {
      "application/vnd.jupyter.widget-view+json": {
       "model_id": "953167c8b6e4439884e3a47516e92eaf",
       "version_major": 2,
       "version_minor": 0
      },
      "text/plain": [
       "Output()"
      ]
     },
     "metadata": {},
     "output_type": "display_data"
    },
    {
     "name": "stdout",
     "output_type": "stream",
     "text": [
      "Function 'transcribe' executed in 0.7865s\n"
     ]
    },
    {
     "data": {
      "text/html": [
       "<pre style=\"white-space:pre;overflow-x:auto;line-height:normal;font-family:Menlo,'DejaVu Sans Mono',consolas,'Courier New',monospace\"></pre>\n"
      ],
      "text/plain": []
     },
     "metadata": {},
     "output_type": "display_data"
    },
    {
     "data": {
      "text/html": [
       "<pre style=\"white-space:pre;overflow-x:auto;line-height:normal;font-family:Menlo,'DejaVu Sans Mono',consolas,'Courier New',monospace\">\n",
       "</pre>\n"
      ],
      "text/plain": [
       "\n"
      ]
     },
     "metadata": {},
     "output_type": "display_data"
    },
    {
     "data": {
      "application/vnd.jupyter.widget-view+json": {
       "model_id": "4ec947030a654bd7a999e4dd3e76976e",
       "version_major": 2,
       "version_minor": 0
      },
      "text/plain": [
       "Output()"
      ]
     },
     "metadata": {},
     "output_type": "display_data"
    },
    {
     "name": "stdout",
     "output_type": "stream",
     "text": [
      "Function 'transcribe' executed in 0.7852s\n"
     ]
    },
    {
     "data": {
      "text/html": [
       "<pre style=\"white-space:pre;overflow-x:auto;line-height:normal;font-family:Menlo,'DejaVu Sans Mono',consolas,'Courier New',monospace\"></pre>\n"
      ],
      "text/plain": []
     },
     "metadata": {},
     "output_type": "display_data"
    },
    {
     "data": {
      "text/html": [
       "<pre style=\"white-space:pre;overflow-x:auto;line-height:normal;font-family:Menlo,'DejaVu Sans Mono',consolas,'Courier New',monospace\">\n",
       "</pre>\n"
      ],
      "text/plain": [
       "\n"
      ]
     },
     "metadata": {},
     "output_type": "display_data"
    },
    {
     "data": {
      "application/vnd.jupyter.widget-view+json": {
       "model_id": "af7ff3fc398a40e8ac0d7e2011a4a78e",
       "version_major": 2,
       "version_minor": 0
      },
      "text/plain": [
       "Output()"
      ]
     },
     "metadata": {},
     "output_type": "display_data"
    },
    {
     "name": "stdout",
     "output_type": "stream",
     "text": [
      "Function 'transcribe' executed in 0.7880s\n"
     ]
    },
    {
     "data": {
      "text/html": [
       "<pre style=\"white-space:pre;overflow-x:auto;line-height:normal;font-family:Menlo,'DejaVu Sans Mono',consolas,'Courier New',monospace\"></pre>\n"
      ],
      "text/plain": []
     },
     "metadata": {},
     "output_type": "display_data"
    },
    {
     "data": {
      "text/html": [
       "<pre style=\"white-space:pre;overflow-x:auto;line-height:normal;font-family:Menlo,'DejaVu Sans Mono',consolas,'Courier New',monospace\">\n",
       "</pre>\n"
      ],
      "text/plain": [
       "\n"
      ]
     },
     "metadata": {},
     "output_type": "display_data"
    },
    {
     "data": {
      "application/vnd.jupyter.widget-view+json": {
       "model_id": "d9360a7a873b41639075a553f06b3f9d",
       "version_major": 2,
       "version_minor": 0
      },
      "text/plain": [
       "Output()"
      ]
     },
     "metadata": {},
     "output_type": "display_data"
    },
    {
     "name": "stdout",
     "output_type": "stream",
     "text": [
      "Function 'transcribe' executed in 0.7967s\n"
     ]
    },
    {
     "data": {
      "text/html": [
       "<pre style=\"white-space:pre;overflow-x:auto;line-height:normal;font-family:Menlo,'DejaVu Sans Mono',consolas,'Courier New',monospace\"></pre>\n"
      ],
      "text/plain": []
     },
     "metadata": {},
     "output_type": "display_data"
    },
    {
     "data": {
      "text/html": [
       "<pre style=\"white-space:pre;overflow-x:auto;line-height:normal;font-family:Menlo,'DejaVu Sans Mono',consolas,'Courier New',monospace\">\n",
       "</pre>\n"
      ],
      "text/plain": [
       "\n"
      ]
     },
     "metadata": {},
     "output_type": "display_data"
    },
    {
     "data": {
      "application/vnd.jupyter.widget-view+json": {
       "model_id": "16c9d7a63e354df0abb0c069bb4045b3",
       "version_major": 2,
       "version_minor": 0
      },
      "text/plain": [
       "Output()"
      ]
     },
     "metadata": {},
     "output_type": "display_data"
    },
    {
     "name": "stdout",
     "output_type": "stream",
     "text": [
      "Function 'transcribe' executed in 0.7866s\n"
     ]
    },
    {
     "data": {
      "text/html": [
       "<pre style=\"white-space:pre;overflow-x:auto;line-height:normal;font-family:Menlo,'DejaVu Sans Mono',consolas,'Courier New',monospace\"></pre>\n"
      ],
      "text/plain": []
     },
     "metadata": {},
     "output_type": "display_data"
    },
    {
     "data": {
      "text/html": [
       "<pre style=\"white-space:pre;overflow-x:auto;line-height:normal;font-family:Menlo,'DejaVu Sans Mono',consolas,'Courier New',monospace\">\n",
       "</pre>\n"
      ],
      "text/plain": [
       "\n"
      ]
     },
     "metadata": {},
     "output_type": "display_data"
    },
    {
     "data": {
      "application/vnd.jupyter.widget-view+json": {
       "model_id": "9f7fc29e0da5433ab39a26601a85c6b9",
       "version_major": 2,
       "version_minor": 0
      },
      "text/plain": [
       "Output()"
      ]
     },
     "metadata": {},
     "output_type": "display_data"
    },
    {
     "name": "stdout",
     "output_type": "stream",
     "text": [
      "Function 'transcribe' executed in 0.7819s\n"
     ]
    },
    {
     "data": {
      "text/html": [
       "<pre style=\"white-space:pre;overflow-x:auto;line-height:normal;font-family:Menlo,'DejaVu Sans Mono',consolas,'Courier New',monospace\"></pre>\n"
      ],
      "text/plain": []
     },
     "metadata": {},
     "output_type": "display_data"
    },
    {
     "data": {
      "text/html": [
       "<pre style=\"white-space:pre;overflow-x:auto;line-height:normal;font-family:Menlo,'DejaVu Sans Mono',consolas,'Courier New',monospace\">\n",
       "</pre>\n"
      ],
      "text/plain": [
       "\n"
      ]
     },
     "metadata": {},
     "output_type": "display_data"
    },
    {
     "name": "stderr",
     "output_type": "stream",
     "text": [
      "3it [00:55, 22.04s/it]"
     ]
    },
    {
     "data": {
      "application/vnd.jupyter.widget-view+json": {
       "model_id": "a354648ebff5469c8a168e6b183c7a99",
       "version_major": 2,
       "version_minor": 0
      },
      "text/plain": [
       "Output()"
      ]
     },
     "metadata": {},
     "output_type": "display_data"
    },
    {
     "name": "stdout",
     "output_type": "stream",
     "text": [
      "Function 'transcribe' executed in 0.7992s\n"
     ]
    },
    {
     "data": {
      "text/html": [
       "<pre style=\"white-space:pre;overflow-x:auto;line-height:normal;font-family:Menlo,'DejaVu Sans Mono',consolas,'Courier New',monospace\"></pre>\n"
      ],
      "text/plain": []
     },
     "metadata": {},
     "output_type": "display_data"
    },
    {
     "data": {
      "text/html": [
       "<pre style=\"white-space:pre;overflow-x:auto;line-height:normal;font-family:Menlo,'DejaVu Sans Mono',consolas,'Courier New',monospace\">\n",
       "</pre>\n"
      ],
      "text/plain": [
       "\n"
      ]
     },
     "metadata": {},
     "output_type": "display_data"
    },
    {
     "data": {
      "application/vnd.jupyter.widget-view+json": {
       "model_id": "76fbe8ff660b4140861d246c7a9c981d",
       "version_major": 2,
       "version_minor": 0
      },
      "text/plain": [
       "Output()"
      ]
     },
     "metadata": {},
     "output_type": "display_data"
    },
    {
     "name": "stdout",
     "output_type": "stream",
     "text": [
      "Function 'predict_lines' executed in 0.0434s\n",
      " Region 3, found 1 lines to parse and transcribe.\n"
     ]
    },
    {
     "data": {
      "text/html": [
       "<pre style=\"white-space:pre;overflow-x:auto;line-height:normal;font-family:Menlo,'DejaVu Sans Mono',consolas,'Courier New',monospace\"></pre>\n"
      ],
      "text/plain": []
     },
     "metadata": {},
     "output_type": "display_data"
    },
    {
     "data": {
      "text/html": [
       "<pre style=\"white-space:pre;overflow-x:auto;line-height:normal;font-family:Menlo,'DejaVu Sans Mono',consolas,'Courier New',monospace\">\n",
       "</pre>\n"
      ],
      "text/plain": [
       "\n"
      ]
     },
     "metadata": {},
     "output_type": "display_data"
    },
    {
     "name": "stderr",
     "output_type": "stream",
     "text": [
      "4it [00:56, 13.67s/it]"
     ]
    },
    {
     "data": {
      "application/vnd.jupyter.widget-view+json": {
       "model_id": "1e0287d2fe3a40f28ff9e81b1a8d8231",
       "version_major": 2,
       "version_minor": 0
      },
      "text/plain": [
       "Output()"
      ]
     },
     "metadata": {},
     "output_type": "display_data"
    },
    {
     "name": "stdout",
     "output_type": "stream",
     "text": [
      "Function 'transcribe' executed in 0.7942s\n"
     ]
    },
    {
     "data": {
      "text/html": [
       "<pre style=\"white-space:pre;overflow-x:auto;line-height:normal;font-family:Menlo,'DejaVu Sans Mono',consolas,'Courier New',monospace\"></pre>\n"
      ],
      "text/plain": []
     },
     "metadata": {},
     "output_type": "display_data"
    },
    {
     "data": {
      "text/html": [
       "<pre style=\"white-space:pre;overflow-x:auto;line-height:normal;font-family:Menlo,'DejaVu Sans Mono',consolas,'Courier New',monospace\">\n",
       "</pre>\n"
      ],
      "text/plain": [
       "\n"
      ]
     },
     "metadata": {},
     "output_type": "display_data"
    },
    {
     "data": {
      "application/vnd.jupyter.widget-view+json": {
       "model_id": "2e16277deddc4176ad495aeffc01a7b0",
       "version_major": 2,
       "version_minor": 0
      },
      "text/plain": [
       "Output()"
      ]
     },
     "metadata": {},
     "output_type": "display_data"
    },
    {
     "name": "stdout",
     "output_type": "stream",
     "text": [
      "Function 'predict_lines' executed in 0.0727s\n",
      " Region 4, found 7 lines to parse and transcribe.\n"
     ]
    },
    {
     "data": {
      "text/html": [
       "<pre style=\"white-space:pre;overflow-x:auto;line-height:normal;font-family:Menlo,'DejaVu Sans Mono',consolas,'Courier New',monospace\"></pre>\n"
      ],
      "text/plain": []
     },
     "metadata": {},
     "output_type": "display_data"
    },
    {
     "data": {
      "text/html": [
       "<pre style=\"white-space:pre;overflow-x:auto;line-height:normal;font-family:Menlo,'DejaVu Sans Mono',consolas,'Courier New',monospace\">\n",
       "</pre>\n"
      ],
      "text/plain": [
       "\n"
      ]
     },
     "metadata": {},
     "output_type": "display_data"
    },
    {
     "data": {
      "application/vnd.jupyter.widget-view+json": {
       "model_id": "873695164fcd44f696b57b696f8a2345",
       "version_major": 2,
       "version_minor": 0
      },
      "text/plain": [
       "Output()"
      ]
     },
     "metadata": {},
     "output_type": "display_data"
    },
    {
     "name": "stdout",
     "output_type": "stream",
     "text": [
      "Function 'transcribe' executed in 0.7609s\n"
     ]
    },
    {
     "data": {
      "text/html": [
       "<pre style=\"white-space:pre;overflow-x:auto;line-height:normal;font-family:Menlo,'DejaVu Sans Mono',consolas,'Courier New',monospace\"></pre>\n"
      ],
      "text/plain": []
     },
     "metadata": {},
     "output_type": "display_data"
    },
    {
     "data": {
      "text/html": [
       "<pre style=\"white-space:pre;overflow-x:auto;line-height:normal;font-family:Menlo,'DejaVu Sans Mono',consolas,'Courier New',monospace\">\n",
       "</pre>\n"
      ],
      "text/plain": [
       "\n"
      ]
     },
     "metadata": {},
     "output_type": "display_data"
    },
    {
     "data": {
      "application/vnd.jupyter.widget-view+json": {
       "model_id": "72eefb2e0de246d1aaf3879fa87b97f0",
       "version_major": 2,
       "version_minor": 0
      },
      "text/plain": [
       "Output()"
      ]
     },
     "metadata": {},
     "output_type": "display_data"
    },
    {
     "name": "stdout",
     "output_type": "stream",
     "text": [
      "Function 'transcribe' executed in 0.7913s\n"
     ]
    },
    {
     "data": {
      "text/html": [
       "<pre style=\"white-space:pre;overflow-x:auto;line-height:normal;font-family:Menlo,'DejaVu Sans Mono',consolas,'Courier New',monospace\"></pre>\n"
      ],
      "text/plain": []
     },
     "metadata": {},
     "output_type": "display_data"
    },
    {
     "data": {
      "text/html": [
       "<pre style=\"white-space:pre;overflow-x:auto;line-height:normal;font-family:Menlo,'DejaVu Sans Mono',consolas,'Courier New',monospace\">\n",
       "</pre>\n"
      ],
      "text/plain": [
       "\n"
      ]
     },
     "metadata": {},
     "output_type": "display_data"
    },
    {
     "data": {
      "application/vnd.jupyter.widget-view+json": {
       "model_id": "4697b0efde8e4b9b8a51a9c40b05fde0",
       "version_major": 2,
       "version_minor": 0
      },
      "text/plain": [
       "Output()"
      ]
     },
     "metadata": {},
     "output_type": "display_data"
    },
    {
     "name": "stdout",
     "output_type": "stream",
     "text": [
      "Function 'transcribe' executed in 0.7919s\n"
     ]
    },
    {
     "data": {
      "text/html": [
       "<pre style=\"white-space:pre;overflow-x:auto;line-height:normal;font-family:Menlo,'DejaVu Sans Mono',consolas,'Courier New',monospace\"></pre>\n"
      ],
      "text/plain": []
     },
     "metadata": {},
     "output_type": "display_data"
    },
    {
     "data": {
      "text/html": [
       "<pre style=\"white-space:pre;overflow-x:auto;line-height:normal;font-family:Menlo,'DejaVu Sans Mono',consolas,'Courier New',monospace\">\n",
       "</pre>\n"
      ],
      "text/plain": [
       "\n"
      ]
     },
     "metadata": {},
     "output_type": "display_data"
    },
    {
     "data": {
      "application/vnd.jupyter.widget-view+json": {
       "model_id": "e8100506c3b84c319acc018313cb920b",
       "version_major": 2,
       "version_minor": 0
      },
      "text/plain": [
       "Output()"
      ]
     },
     "metadata": {},
     "output_type": "display_data"
    },
    {
     "name": "stdout",
     "output_type": "stream",
     "text": [
      "Function 'transcribe' executed in 0.7870s\n"
     ]
    },
    {
     "data": {
      "text/html": [
       "<pre style=\"white-space:pre;overflow-x:auto;line-height:normal;font-family:Menlo,'DejaVu Sans Mono',consolas,'Courier New',monospace\"></pre>\n"
      ],
      "text/plain": []
     },
     "metadata": {},
     "output_type": "display_data"
    },
    {
     "data": {
      "text/html": [
       "<pre style=\"white-space:pre;overflow-x:auto;line-height:normal;font-family:Menlo,'DejaVu Sans Mono',consolas,'Courier New',monospace\">\n",
       "</pre>\n"
      ],
      "text/plain": [
       "\n"
      ]
     },
     "metadata": {},
     "output_type": "display_data"
    },
    {
     "data": {
      "application/vnd.jupyter.widget-view+json": {
       "model_id": "09139151ac2e429a8c190798eb39ea35",
       "version_major": 2,
       "version_minor": 0
      },
      "text/plain": [
       "Output()"
      ]
     },
     "metadata": {},
     "output_type": "display_data"
    },
    {
     "name": "stdout",
     "output_type": "stream",
     "text": [
      "Function 'transcribe' executed in 0.7989s\n"
     ]
    },
    {
     "data": {
      "text/html": [
       "<pre style=\"white-space:pre;overflow-x:auto;line-height:normal;font-family:Menlo,'DejaVu Sans Mono',consolas,'Courier New',monospace\"></pre>\n"
      ],
      "text/plain": []
     },
     "metadata": {},
     "output_type": "display_data"
    },
    {
     "data": {
      "text/html": [
       "<pre style=\"white-space:pre;overflow-x:auto;line-height:normal;font-family:Menlo,'DejaVu Sans Mono',consolas,'Courier New',monospace\">\n",
       "</pre>\n"
      ],
      "text/plain": [
       "\n"
      ]
     },
     "metadata": {},
     "output_type": "display_data"
    },
    {
     "data": {
      "application/vnd.jupyter.widget-view+json": {
       "model_id": "9b618aa2eeb24f98b8b887b479d75243",
       "version_major": 2,
       "version_minor": 0
      },
      "text/plain": [
       "Output()"
      ]
     },
     "metadata": {},
     "output_type": "display_data"
    },
    {
     "name": "stdout",
     "output_type": "stream",
     "text": [
      "Function 'transcribe' executed in 0.7921s\n"
     ]
    },
    {
     "data": {
      "text/html": [
       "<pre style=\"white-space:pre;overflow-x:auto;line-height:normal;font-family:Menlo,'DejaVu Sans Mono',consolas,'Courier New',monospace\"></pre>\n"
      ],
      "text/plain": []
     },
     "metadata": {},
     "output_type": "display_data"
    },
    {
     "data": {
      "text/html": [
       "<pre style=\"white-space:pre;overflow-x:auto;line-height:normal;font-family:Menlo,'DejaVu Sans Mono',consolas,'Courier New',monospace\">\n",
       "</pre>\n"
      ],
      "text/plain": [
       "\n"
      ]
     },
     "metadata": {},
     "output_type": "display_data"
    },
    {
     "name": "stderr",
     "output_type": "stream",
     "text": [
      "5it [01:01, 12.37s/it]"
     ]
    },
    {
     "name": "stdout",
     "output_type": "stream",
     "text": [
      "Function 'transcribe' executed in 0.7894s\n",
      "Function 'running_htr_pipeline' executed in 63.7357s\n"
     ]
    },
    {
     "name": "stderr",
     "output_type": "stream",
     "text": [
      "\n"
     ]
    }
   ],
   "source": [
    "import cv2\n",
    "\n",
    "# Load an image from file\n",
    "image_path = '/home/sush/mmocr/test_heby/image_-020.png'\n",
    "image = cv2.imread(image_path)\n",
    "model = \"Riksarkivet/satrn_htr\"  # Adjust based on your specific model\n",
    "\n",
    "# If using functionality similar to FastTrack's segment_to_xml_api\n",
    "rendered_xml = pipeline.running_htr_pipeline(image, model)\n",
    "\n",
    "# If you need to convert the XML to text or perform other operations, follow similar steps\n"
   ]
  },
  {
   "cell_type": "code",
   "execution_count": 9,
   "id": "3850c041-2f4c-48e5-9303-ff1f63107183",
   "metadata": {
    "scrolled": true
   },
   "outputs": [
    {
     "data": {
      "text/plain": [
       "'<?xml version=\"1.0\" encoding=\"UTF-8\"?>\\n<PcGts xmlns=\"http://schema.primaresearch.org/PAGE/gts/pagecontent/2013-07-15\" xmlns:xsi=\"http://www.w3.org/2001/XMLSchema-instance\" xsi:schemaLocation=\"http://schema.primaresearch.org/PAGE/gts/pagecontent/2013-07-15 http://schema.primaresearch.org/PAGE/gts/pagecontent/2013-07-15/pagecontent.xsd\">\\n    <Metadata>\\n        <Creator>Swedish National Archives</Creator>\\n        <Created>2024-02-21, 11:52:16</Created>\\n    </Metadata>\\n    <Page imageFilename=\"page_xml.xml\" imageWidth=\"2834\" imageHeight=\"2096\">\\n    <TextRegion id=\"region_0\" custom=\"readingOrder {index:0;}\">\\n        <Coords points=\"696,49 718,56 997,57 1013,55 1017,50 1008,16 979,21 927,16 926,0 706,0 706,19\"/>\\n    <TextLine id=\"line_region_0_0\" custom=\"readingOrder {index:0;}\">\\n                <Coords points=\"698,41 702,50 711,50 718,54 1004,55 1011,46 1013,28 1001,19 955,17 930,11 928,6 923,9 918,5 851,7 829,0 804,4 729,3 708,8 701,14\"/>\\n                                <TextEquiv>\\n            <Unicode>1851. den 29. Januari</Unicode>\\n        </TextEquiv>\\n                        <PredScore pred_score=\"0.9918\"/>\\n            </TextLine>\\n    </TextRegion>\\n    <TextRegion id=\"region_1\" custom=\"readingOrder {index:1;}\">\\n        <Coords points=\"1255,78 1044,59 1008,30 951,56 388,54 327,943 331,1182 389,1255 329,1290 330,1863 937,1902 1096,1937 1241,1930 1284,982 1285,135\"/>\\n    <TextLine id=\"line_region_1_0\" custom=\"readingOrder {index:0;}\">\\n                <Coords points=\"409,71 410,92 437,103 580,100 748,113 1074,118 1160,135 1281,119 1280,108 1222,83 1095,79 1066,64 981,69 876,57 421,56\"/>\\n                                <TextEquiv>\\n            <Unicode>15 pgl. uti berörde Uplanda. samt sönerne Olof och</Unicode>\\n        </TextEquiv>\\n                        <PredScore pred_score=\"0.9739\"/>\\n            </TextLine>\\n    <TextLine id=\"line_region_1_1\" custom=\"readingOrder {index:1;}\">\\n                <Coords points=\"400,132 404,149 417,154 645,152 707,164 782,161 849,176 894,166 1238,178 1259,162 1252,146 1236,138 1124,136 1069,118 1011,127 897,115 803,126 689,110 617,115 540,102 407,118\"/>\\n                                <TextEquiv>\\n            <Unicode>dels tillhopa 15 sigl. i omförmälde hemman Stock</Unicode>\\n        </TextEquiv>\\n                        <PredScore pred_score=\"0.979\"/>\\n            </TextLine>\\n    <TextLine id=\"line_region_1_2\" custom=\"readingOrder {index:2;}\">\\n                <Coords points=\"398,219 444,211 526,218 736,209 1140,226 1185,234 1221,232 1230,216 1213,185 1162,190 1092,172 852,179 784,164 537,166 496,155 407,169 395,181\"/>\\n                                <TextEquiv>\\n            <Unicode>grund af serskildt derom uprättadt tidamente,</Unicode>\\n        </TextEquiv>\\n                        <PredScore pred_score=\"0.9374\"/>\\n            </TextLine>\\n    <TextLine id=\"line_region_1_3\" custom=\"readingOrder {index:3;}\">\\n                <Coords points=\"395,242 397,264 419,272 708,267 778,288 828,274 908,270 972,274 1017,288 1117,282 1215,290 1242,282 1247,269 1244,255 1190,237 1109,241 1064,225 924,236 852,220 732,226 681,218 514,224 462,217 414,224\"/>\\n                                <TextEquiv>\\n            <Unicode>dels jemte systrarne Greta och Capa, hvar</Unicode>\\n        </TextEquiv>\\n                        <PredScore pred_score=\"0.9792\"/>\\n            </TextLine>\\n    <TextLine id=\"line_region_1_4\" custom=\"readingOrder {index:4;}\">\\n                <Coords points=\"398,301 407,325 487,333 619,320 906,324 986,336 1193,340 1242,327 1236,303 1168,282 1063,292 924,280 779,289 682,277 602,288 463,277 409,285\"/>\\n                                <TextEquiv>\\n            <Unicode>3 5/4 pgl. i Uplanda och 3 3/4 pgl. i Sterta i</Unicode>\\n        </TextEquiv>\\n                        <PredScore pred_score=\"0.9292\"/>\\n            </TextLine>\\n    <TextLine id=\"line_region_1_6\" custom=\"readingOrder {index:5;}\">\\n                <Coords points=\"395,354 399,380 522,382 564,390 694,381 1238,399 1237,379 1221,357 1191,344 1114,354 969,352 901,335 827,343 741,332 423,340 402,344\"/>\\n                                <TextEquiv>\\n            <Unicode>manen, 7o Ett den 27. i denna månad af Erik</Unicode>\\n        </TextEquiv>\\n                        <PredScore pred_score=\"0.9393\"/>\\n            </TextLine>\\n    <TextLine id=\"line_region_1_7\" custom=\"readingOrder {index:6;}\">\\n                <Coords points=\"396,412 399,433 411,439 498,439 562,451 611,442 918,443 1222,465 1260,450 1247,433 1117,403 1014,407 972,396 889,407 757,403 664,390 593,399 498,390 404,396\"/>\\n                                <TextEquiv>\\n            <Unicode>ten förmån för ofvanbemälde hans 4. barn, gjordt</Unicode>\\n        </TextEquiv>\\n                        <PredScore pred_score=\"0.9715\"/>\\n            </TextLine>\\n    <TextLine id=\"line_region_1_8\" custom=\"readingOrder {index:7;}\">\\n                <Coords points=\"388,471 399,495 531,491 737,500 819,512 923,512 971,526 1054,512 1211,527 1224,518 1226,504 1209,476 1068,457 1008,462 798,454 688,461 461,445 400,452\"/>\\n                                <TextEquiv>\\n            <Unicode>att varnens närvaro underskrifvet förordnande,</Unicode>\\n        </TextEquiv>\\n                        <PredScore pred_score=\"0.9137\"/>\\n            </TextLine>\\n    <TextLine id=\"line_region_1_9\" custom=\"readingOrder {index:8;}\">\\n                <Coords points=\"387,540 397,559 456,549 601,548 888,562 971,576 1189,580 1250,569 1187,536 1135,537 1047,519 971,533 923,519 798,523 734,509 570,501 399,510\"/>\\n                                <TextEquiv>\\n            <Unicode>igenom han till barnen uplåtit öfverbesagda, ho¬</Unicode>\\n        </TextEquiv>\\n                        <PredScore pred_score=\"0.9433\"/>\\n            </TextLine>\\n    <TextLine id=\"line_region_1_10\" custom=\"readingOrder {index:9;}\">\\n                <Coords points=\"389,581 397,615 589,606 763,613 852,626 976,621 1014,633 1237,629 1247,618 1236,608 1187,604 1139,583 959,585 557,560 397,565\"/>\\n                                <TextEquiv>\\n            <Unicode>tillskiftade tillhopa 1 öres - 5 sigs i Uplanda, emot</Unicode>\\n        </TextEquiv>\\n                        <PredScore pred_score=\"0.954\"/>\\n            </TextLine>\\n    <TextLine id=\"line_region_1_11\" custom=\"readingOrder {index:10;}\">\\n                <Coords points=\"383,637 385,659 397,671 502,671 590,685 762,677 1201,704 1259,702 1267,690 1261,668 1244,658 1163,660 1091,645 899,645 813,633 571,621 403,622\"/>\\n                                <TextEquiv>\\n            <Unicode>tingad lifstidsfördel, hvadan ock enligt nu före</Unicode>\\n        </TextEquiv>\\n                        <PredScore pred_score=\"0.9703\"/>\\n            </TextLine>\\n    <TextLine id=\"line_region_1_12\" custom=\"readingOrder {index:11;}\">\\n                <Coords points=\"384,705 387,729 397,738 465,727 701,732 823,749 978,749 1020,762 1101,753 1259,762 1264,752 1256,726 1124,705 974,710 892,695 684,694 531,677 397,687\"/>\\n                                <TextEquiv>\\n            <Unicode>visadt 8o instrument af samma dag hvardera</Unicode>\\n        </TextEquiv>\\n                        <PredScore pred_score=\"0.9665\"/>\\n            </TextLine>\\n    <TextLine id=\"line_region_1_13\" custom=\"readingOrder {index:12;}\">\\n                <Coords points=\"380,773 381,786 395,796 591,791 898,814 987,811 1068,825 1257,824 1271,810 1259,778 1065,765 995,773 881,760 753,761 665,743 591,750 444,743 397,750\"/>\\n                                <TextEquiv>\\n            <Unicode>af barnen bekommit 7 1/4. sigl uti oftaberörde</Unicode>\\n        </TextEquiv>\\n                        <PredScore pred_score=\"0.9507\"/>\\n            </TextLine>\\n    <TextLine id=\"line_region_1_14\" custom=\"readingOrder {index:13;}\">\\n                <Coords points=\"375,826 376,851 823,866 921,878 992,873 1156,889 1246,890 1269,880 1256,851 1073,834 953,836 883,821 750,823 595,808 389,810\"/>\\n                                <TextEquiv>\\n            <Unicode>hemman Uplanda med Ettenga utjord; varande</Unicode>\\n        </TextEquiv>\\n                        <PredScore pred_score=\"0.9433\"/>\\n            </TextLine>\\n    <TextLine id=\"line_region_1_15\" custom=\"readingOrder {index:14;}\">\\n                <Coords points=\"361,898 373,925 481,915 825,932 902,950 1005,941 1258,951 1268,933 1258,903 1161,909 1021,888 764,885 590,871 376,875\"/>\\n                                <TextEquiv>\\n            <Unicode>jemväl detta instrument, uti skiftesmans och vitt¬</Unicode>\\n        </TextEquiv>\\n                        <PredScore pred_score=\"0.9743\"/>\\n            </TextLine>\\n    <TextLine id=\"line_region_1_16\" custom=\"readingOrder {index:15;}\">\\n                <Coords points=\"360,951 374,976 561,982 659,995 973,1003 1045,1019 1240,1014 1261,1020 1268,1001 1258,970 1141,958 971,967 688,938 393,935\"/>\\n                                <TextEquiv>\\n            <Unicode>na närvaro, utaf vederbörande underskrifvet och</Unicode>\\n        </TextEquiv>\\n                        <PredScore pred_score=\"0.9693\"/>\\n            </TextLine>\\n    <TextLine id=\"line_region_1_17\" custom=\"readingOrder {index:16;}\">\\n                <Coords points=\"579,998 567,989 541,987 515,990 477,983 468,983 447,990 401,998 373,999 362,1003 356,1009 348,1045 351,1054 374,1053 401,1043 465,1038 566,1046 574,1042 581,1031 583,1022\"/>\\n                                <TextEquiv>\\n            <Unicode>godkändt.</Unicode>\\n        </TextEquiv>\\n                        <PredScore pred_score=\"0.9582\"/>\\n            </TextLine>\\n    <TextLine id=\"line_region_1_18\" custom=\"readingOrder {index:17;}\">\\n                <Coords points=\"426,1058 428,1089 443,1098 523,1097 707,1121 789,1110 1059,1134 1257,1140 1263,1120 1261,1091 1236,1078 1162,1091 1041,1070 971,1077 899,1062 829,1071 805,1054 738,1062 663,1052 580,1060 480,1044 433,1047\"/>\\n                                <TextEquiv>\\n            <Unicode>Enär gen dessa öfver antydde handlingar behöri¬</Unicode>\\n        </TextEquiv>\\n                        <PredScore pred_score=\"0.944\"/>\\n            </TextLine>\\n    <TextLine id=\"line_region_1_19\" custom=\"readingOrder {index:18;}\">\\n                <Coords points=\"348,1162 398,1153 722,1158 1107,1187 1185,1203 1262,1189 1257,1151 1148,1150 1094,1136 1034,1143 804,1122 682,1125 531,1101 370,1108 352,1119\"/>\\n                                <TextEquiv>\\n            <Unicode>gen visats säljaren åtkomst till omförmälde, för</Unicode>\\n        </TextEquiv>\\n                        <PredScore pred_score=\"0.9674\"/>\\n            </TextLine>\\n    <TextLine id=\"line_region_1_20\" custom=\"readingOrder {index:19;}\">\\n                <Coords points=\"357,1188 370,1206 401,1210 443,1227 546,1213 808,1220 1023,1241 1059,1214 1046,1189 973,1201 925,1181 807,1167 682,1174 567,1171 520,1160 474,1167 373,1166\"/>\\n                                <TextEquiv>\\n            <Unicode>sälde fastigheter, beslöt Hdiks och</Unicode>\\n        </TextEquiv>\\n                        <PredScore pred_score=\"0.9086\"/>\\n            </TextLine>\\n    <TextLine id=\"line_region_1_21\" custom=\"readingOrder {index:20;}\">\\n                <Coords points=\"854,1239 851,1235 833,1230 824,1230 804,1235 783,1226 763,1229 708,1231 688,1240 670,1243 663,1248 659,1259 659,1284 663,1288 687,1297 735,1294 763,1288 810,1288 851,1285 854,1283 855,1274\"/>\\n                                <TextEquiv>\\n            <Unicode>Afsade</Unicode>\\n        </TextEquiv>\\n                        <PredScore pred_score=\"0.9801\"/>\\n            </TextLine>\\n    <TextLine id=\"line_region_1_22\" custom=\"readingOrder {index:21;}\">\\n                <Coords points=\"348,1287 351,1311 421,1309 445,1322 546,1325 610,1338 839,1338 1228,1365 1254,1358 1246,1333 1235,1326 1189,1329 1165,1312 1044,1313 928,1297 904,1286 708,1297 558,1276 470,1275 432,1283 421,1304 400,1293\"/>\\n                                <TextEquiv>\\n            <Unicode>- A dels 11. sig. i Kr St. hem. No 2. Uplanda med</Unicode>\\n        </TextEquiv>\\n                        <PredScore pred_score=\"0.9285\"/>\\n            </TextLine>\\n    <TextLine id=\"line_region_1_23\" custom=\"readingOrder {index:22;}\">\\n                <Coords points=\"361,1331 363,1355 375,1362 683,1375 850,1402 959,1394 1147,1412 1210,1407 1217,1394 1212,1377 1156,1365 1021,1358 960,1363 733,1339 566,1340 520,1328 384,1320\"/>\\n                                <TextEquiv>\\n            <Unicode>tillhörande andel i Ettenga utgörs och 3 3/4. sigl. i</Unicode>\\n        </TextEquiv>\\n                        <PredScore pred_score=\"0.9125\"/>\\n            </TextLine>\\n    <TextLine id=\"line_region_1_24\" custom=\"readingOrder {index:23;}\">\\n                <Coords points=\"353,1381 356,1408 374,1419 1092,1461 1210,1482 1241,1476 1252,1454 1237,1421 1208,1428 1167,1417 1065,1416 1021,1405 971,1413 950,1401 892,1410 711,1386 545,1387 476,1373 372,1369\"/>\\n                                <TextEquiv>\\n            <Unicode>Kr st. hem. No 3. Storta, Wähla sn, som Bonden Af</Unicode>\\n        </TextEquiv>\\n                        <PredScore pred_score=\"0.9145\"/>\\n            </TextLine>\\n    <TextLine id=\"line_region_1_25\" custom=\"readingOrder {index:24;}\">\\n                <Coords points=\"360,1442 362,1469 373,1478 763,1493 996,1515 1102,1515 1160,1526 1235,1527 1242,1511 1237,1491 1188,1486 1162,1471 994,1469 928,1457 874,1463 784,1450 719,1455 596,1434 445,1441 397,1426 368,1427\"/>\\n                                <TextEquiv>\\n            <Unicode>Ersson Pehr Carlsson och hans hustru Greta Ersdotter</Unicode>\\n        </TextEquiv>\\n                        <PredScore pred_score=\"0.9695\"/>\\n            </TextLine>\\n    <TextLine id=\"line_region_1_26\" custom=\"readingOrder {index:25;}\">\\n                <Coords points=\"338,1523 348,1540 436,1529 657,1538 995,1570 1233,1581 1247,1572 1236,1539 1211,1546 1189,1533 1139,1524 1085,1528 838,1505 693,1507 588,1490 379,1486 349,1496\"/>\\n                                <TextEquiv>\\n            <Unicode>för 533 rd 16 skl och utfärt fördel, sålt till Bonden</Unicode>\\n        </TextEquiv>\\n                        <PredScore pred_score=\"0.9509\"/>\\n            </TextLine>\\n    <TextLine id=\"line_region_1_27\" custom=\"readingOrder {index:26;}\">\\n                <Coords points=\"330,1549 333,1575 350,1587 444,1594 591,1590 1162,1632 1212,1631 1225,1620 1224,1594 1201,1583 1066,1587 948,1569 852,1570 740,1555 540,1554 472,1540\"/>\\n                                <TextEquiv>\\n            <Unicode>Olof Ersson och hans hustru Lisa Pehrsdotter, och dels</Unicode>\\n        </TextEquiv>\\n                        <PredScore pred_score=\"0.9815\"/>\\n            </TextLine>\\n    <TextLine id=\"line_region_1_28\" custom=\"readingOrder {index:27;}\">\\n                <Coords points=\"349,1604 352,1626 371,1635 493,1637 926,1678 1056,1679 1169,1693 1208,1690 1222,1670 1200,1651 1115,1637 754,1623 687,1606 588,1601 491,1606 354,1595\"/>\\n                                <TextEquiv>\\n            <Unicode>11 sigl i berörde hemman Uplanda samt 3 1/4. sif. i</Unicode>\\n        </TextEquiv>\\n                        <PredScore pred_score=\"0.9481\"/>\\n            </TextLine>\\n    <TextLine id=\"line_region_1_29\" custom=\"readingOrder {index:28;}\">\\n                <Coords points=\"340,1665 351,1690 570,1701 660,1717 851,1729 973,1726 1080,1743 1213,1748 1227,1740 1230,1719 1217,1695 1141,1704 1116,1691 902,1691 843,1679 752,1678 619,1653 352,1644\"/>\\n                                <TextEquiv>\\n            <Unicode>Sterte, som Erik Ersson i Mångsbo och hans hus¬</Unicode>\\n        </TextEquiv>\\n                        <PredScore pred_score=\"0.9606\"/>\\n            </TextLine>\\n    <TextLine id=\"line_region_1_30\" custom=\"readingOrder {index:29;}\">\\n                <Coords points=\"334,1713 342,1743 406,1763 500,1753 634,1770 897,1781 1016,1793 1044,1807 1198,1797 1213,1790 1217,1771 1210,1754 1190,1748 1113,1760 952,1740 895,1744 711,1724 636,1727 431,1699 351,1699\"/>\\n                                <TextEquiv>\\n            <Unicode>tre lagda Endttus, för enahanda köpeskilling, salt</Unicode>\\n        </TextEquiv>\\n                        <PredScore pred_score=\"0.9262\"/>\\n            </TextLine>\\n    <TextLine id=\"line_region_1_31\" custom=\"readingOrder {index:30;}\">\\n                <Coords points=\"331,1765 339,1802 395,1813 494,1812 656,1833 948,1850 1092,1851 1204,1863 1237,1857 1235,1808 1039,1814 878,1789 749,1794 672,1772 532,1773 468,1761 410,1766 353,1757\"/>\\n                                <TextEquiv>\\n            <Unicode>till samma Olof Ersson och hans hustru, meddelas be¬</Unicode>\\n        </TextEquiv>\\n                        <PredScore pred_score=\"0.994\"/>\\n            </TextLine>\\n    <TextLine id=\"line_region_1_32\" custom=\"readingOrder {index:31;}\">\\n                <Coords points=\"334,1832 337,1853 347,1861 446,1863 853,1899 869,1884 858,1864 803,1851 721,1840 576,1838 540,1830 496,1811 433,1819 346,1819\"/>\\n                                <TextEquiv>\\n            <Unicode>spille Köpare Upbud tillhanda un¬</Unicode>\\n        </TextEquiv>\\n                        <PredScore pred_score=\"0.8962\"/>\\n            </TextLine>\\n    <TextLine id=\"line_region_1_33\" custom=\"readingOrder {index:32;}\">\\n                <Coords points=\"1004,1882 1004,1908 1010,1916 1019,1921 1044,1920 1072,1913 1093,1913 1153,1924 1210,1925 1231,1920 1238,1909 1235,1890 1229,1885 1190,1877 1165,1878 1144,1866 1093,1852 1068,1852 1051,1849 1035,1851 1017,1864\"/>\\n                                <TextEquiv>\\n            <Unicode>Första gången</Unicode>\\n        </TextEquiv>\\n                        <PredScore pred_score=\"0.9963\"/>\\n            </TextLine>\\n    </TextRegion>\\n    <TextRegion id=\"region_2\" custom=\"readingOrder {index:2;}\">\\n        <Coords points=\"1308,109 1252,1937 2182,1983 2227,1930 2257,1681 2219,193 2254,118 2119,126 2206,182 2185,201 2027,196 2002,170 1820,197 1805,178 1866,157 1789,150 1787,193 1645,203 1568,156 1745,122\"/>\\n    <TextLine id=\"line_region_2_0\" custom=\"readingOrder {index:0;}\">\\n                <Coords points=\"1297,135 1299,148 1307,159 1352,148 1430,150 1452,155 1507,145 1736,145 1756,139 1753,124 1731,116 1730,105 1473,105 1471,116 1401,118 1393,115 1393,105 1307,105 1307,115\"/>\\n                                <TextEquiv>\\n            <Unicode>C: B: huset till kolla¬</Unicode>\\n        </TextEquiv>\\n                        <PredScore pred_score=\"0.7679\"/>\\n            </TextLine>\\n    <TextLine id=\"line_region_2_1\" custom=\"readingOrder {index:1;}\">\\n                <Coords points=\"1918,133 1918,143 1922,150 1929,153 1941,154 1942,155 1947,155 1948,154 1996,155 2004,153 2009,150 2014,141 2014,133 2013,132 2012,124 2009,121 2005,120 1973,120 1972,121 1963,121 1962,120 1954,120 1953,119 1946,119 1945,118 1931,119 1923,122 1920,125\"/>\\n                                <TextEquiv>\\n            <Unicode>har</Unicode>\\n        </TextEquiv>\\n                        <PredScore pred_score=\"0.6472\"/>\\n            </TextLine>\\n    <TextLine id=\"line_region_2_2\" custom=\"readingOrder {index:2;}\">\\n                <Coords points=\"2120,137 2121,143 2129,152 2138,155 2158,158 2178,166 2193,161 2235,154 2241,151 2246,146 2248,141 2246,105 2180,105 2180,114 2178,116 2153,116 2149,114 2149,105 2130,105 2130,114 2123,126\"/>\\n                                <TextEquiv>\\n            <Unicode>derför</Unicode>\\n        </TextEquiv>\\n                        <PredScore pred_score=\"0.752\"/>\\n            </TextLine>\\n    <TextLine id=\"line_region_2_3\" custom=\"readingOrder {index:3;}\">\\n                <Coords points=\"1302,210 1308,217 1339,212 1355,205 1371,202 1466,197 1475,194 1479,189 1479,182 1476,173 1471,166 1423,161 1402,167 1378,167 1364,158 1352,156 1319,168 1305,178 1302,185\"/>\\n                                <TextEquiv>\\n            <Unicode>lysade.</Unicode>\\n        </TextEquiv>\\n                        <PredScore pred_score=\"0.8766\"/>\\n            </TextLine>\\n    <TextLine id=\"line_region_2_4\" custom=\"readingOrder {index:4;}\">\\n                <Coords points=\"1354,257 1556,249 2064,257 2185,249 2206,232 2199,214 2106,211 2082,202 1957,202 1899,212 1800,203 1723,214 1638,211 1565,198 1363,212\"/>\\n                                <TextEquiv>\\n            <Unicode>Undertecknad auctionsförrätten samt fingudan</Unicode>\\n        </TextEquiv>\\n                        <PredScore pred_score=\"0.9198\"/>\\n            </TextLine>\\n    <TextLine id=\"line_region_2_5\" custom=\"readingOrder {index:5;}\">\\n                <Coords points=\"2207,256 2199,248 1951,259 1586,255 1516,264 1321,267 1303,278 1301,304 1311,312 1454,300 1985,298 2198,284\"/>\\n                                <TextEquiv>\\n            <Unicode>sin vitterhet att sedan Wikto Pall af Härads Rätt</Unicode>\\n        </TextEquiv>\\n                        <PredScore pred_score=\"0.8836\"/>\\n            </TextLine>\\n    <TextLine id=\"line_region_2_6\" custom=\"readingOrder {index:6;}\">\\n                <Coords points=\"2226,303 2173,291 2027,299 1949,313 1874,304 1719,312 1470,305 1320,318 1297,330 1308,354 1439,348 1498,358 1661,343 1752,353 1839,345 1904,353 2202,331 2220,324\"/>\\n                                <TextEquiv>\\n            <Unicode>medelst Utslag af den 19 sist. Maji, på vederbörande</Unicode>\\n        </TextEquiv>\\n                        <PredScore pred_score=\"0.9737\"/>\\n            </TextLine>\\n    <TextLine id=\"line_region_2_7\" custom=\"readingOrder {index:7;}\">\\n                <Coords points=\"2209,353 2199,342 2162,340 2132,346 2025,340 1812,356 1656,347 1306,360 1296,377 1306,397 1525,387 2037,392 2083,380 2198,376\"/>\\n                                <TextEquiv>\\n            <Unicode>förmyndare ansökning och hafva anmälte från ders</Unicode>\\n        </TextEquiv>\\n                        <PredScore pred_score=\"0.8477\"/>\\n            </TextLine>\\n    <TextLine id=\"line_region_2_8\" custom=\"readingOrder {index:8;}\">\\n                <Coords points=\"2223,397 2201,379 2061,397 2016,388 1353,396 1305,410 1296,425 1313,438 1377,435 1404,405 1494,443 1635,431 1950,437 2191,423 2216,415\"/>\\n                                <TextEquiv>\\n            <Unicode>tillstyrkan, samtybt till försäljning af Ströms Skatte</Unicode>\\n        </TextEquiv>\\n                        <PredScore pred_score=\"0.9081\"/>\\n            </TextLine>\\n    <TextLine id=\"line_region_2_9\" custom=\"readingOrder {index:9;}\">\\n                <Coords points=\"2220,443 2202,430 2084,439 1353,439 1297,444 1286,470 1306,484 1394,475 2132,475 2206,461\"/>\\n                                <TextEquiv>\\n            <Unicode>kanmäki 1 No 1 20 åstandels 18/8 dels mantl om¬</Unicode>\\n        </TextEquiv>\\n                        <PredScore pred_score=\"0.7869\"/>\\n            </TextLine>\\n    <TextLine id=\"line_region_2_10\" custom=\"readingOrder {index:10;}\">\\n                <Coords points=\"2215,518 2204,512 2082,513 1969,525 1705,525 1592,541 1669,556 2067,551 2204,543 2215,538\"/>\\n                                <TextEquiv>\\n            <Unicode>domst. Måras och Westerlan¬</Unicode>\\n        </TextEquiv>\\n                        <PredScore pred_score=\"0.829\"/>\\n            </TextLine>\\n    <TextLine id=\"line_region_2_11\" custom=\"readingOrder {index:11;}\">\\n                <Coords points=\"2236,561 2221,553 1835,570 1681,570 1611,588 1741,599 2189,588 2226,583\"/>\\n                                <TextEquiv>\\n            <Unicode>till ege förklarade förre Bonden</Unicode>\\n        </TextEquiv>\\n                        <PredScore pred_score=\"0.8853\"/>\\n            </TextLine>\\n    <TextLine id=\"line_region_2_12\" custom=\"readingOrder {index:12;}\">\\n                <Coords points=\"2215,607 2199,593 1923,606 1703,606 1630,612 1614,620 1606,632 1676,640 2024,636 2098,625 2200,624\"/>\\n                                <TextEquiv>\\n            <Unicode>och dess hustru Hinla Erodotter</Unicode>\\n        </TextEquiv>\\n                        <PredScore pred_score=\"0.9167\"/>\\n            </TextLine>\\n    <TextLine id=\"line_region_2_13\" custom=\"readingOrder {index:13;}\">\\n                <Coords points=\"2208,655 2196,635 2167,632 2007,644 1720,645 1630,654 1615,662 1621,672 1645,679 1701,682 1799,671 2037,672 2201,663\"/>\\n                                <TextEquiv>\\n            <Unicode>är oftenfir i gången utlysning</Unicode>\\n        </TextEquiv>\\n                        <PredScore pred_score=\"0.8633\"/>\\n            </TextLine>\\n    <TextLine id=\"line_region_2_14\" custom=\"readingOrder {index:14;}\">\\n                <Coords points=\"2213,679 2203,667 2022,679 1859,676 1615,690 1597,704 1612,712 1767,720 1872,713 2038,723 2088,709 2201,707 2211,702\"/>\\n                                <TextEquiv>\\n            <Unicode>ba 1. 2 st i ställes egde stemman</Unicode>\\n        </TextEquiv>\\n                        <PredScore pred_score=\"0.7093\"/>\\n            </TextLine>\\n    <TextLine id=\"line_region_2_15\" custom=\"readingOrder {index:15;}\">\\n                <Coords points=\"2212,726 2204,716 2186,712 2055,725 1666,722 1629,729 1603,750 1659,766 1850,756 2159,755 2200,748\"/>\\n                                <TextEquiv>\\n            <Unicode>29 sistlidne Juni genom upsted</Unicode>\\n        </TextEquiv>\\n                        <PredScore pred_score=\"0.9179\"/>\\n            </TextLine>\\n    <TextLine id=\"line_region_2_16\" custom=\"readingOrder {index:16;}\">\\n                <Coords points=\"2213,769 2202,746 2061,762 1993,757 1934,762 1850,759 1809,769 1611,773 1606,776 1605,796 1705,803 1750,798 1853,801 2018,789 2199,786\"/>\\n                                <TextEquiv>\\n            <Unicode>ustgören och Garfvaren Herr</Unicode>\\n        </TextEquiv>\\n                        <PredScore pred_score=\"0.8814\"/>\\n            </TextLine>\\n    <TextLine id=\"line_region_2_17\" custom=\"readingOrder {index:17;}\">\\n                <Coords points=\"2218,844 2212,827 2199,822 2155,838 2109,841 1966,836 1714,846 1662,870 1709,881 1790,886 1987,874 2089,875 2202,867 2211,861\"/>\\n                                <TextEquiv>\\n            <Unicode>rades /1100/. Riksdaler Banco jemte</Unicode>\\n        </TextEquiv>\\n                        <PredScore pred_score=\"0.9301\"/>\\n            </TextLine>\\n    <TextLine id=\"line_region_2_18\" custom=\"readingOrder {index:18;}\">\\n                <Coords points=\"2185,887 2182,871 2172,869 2084,883 2019,887 1831,886 1780,896 1726,891 1679,914 1727,929 2102,919 2174,907\"/>\\n                                <TextEquiv>\\n            <Unicode>Assessori Jordels Contract ett</Unicode>\\n        </TextEquiv>\\n                        <PredScore pred_score=\"0.8054\"/>\\n            </TextLine>\\n    <TextLine id=\"line_region_2_19\" custom=\"readingOrder {index:19;}\">\\n                <Coords points=\"1280,961 1304,966 1754,965 1804,961 1805,941 1762,936 1307,935 1282,938\"/>\\n                                <TextEquiv>\\n            <Unicode>och och och bonde Potatis ett ett</Unicode>\\n        </TextEquiv>\\n                        <PredScore pred_score=\"0.6642\"/>\\n            </TextLine>\\n    <TextLine id=\"line_region_2_20\" custom=\"readingOrder {index:20;}\">\\n                <Coords points=\"2203,917 2151,913 2110,922 2055,921 1921,934 1790,933 1705,941 1732,963 1915,966 1981,955 2179,944 2194,937\"/>\\n                                <TextEquiv>\\n            <Unicode>att närmare omförmäler</Unicode>\\n        </TextEquiv>\\n                        <PredScore pred_score=\"0.9265\"/>\\n            </TextLine>\\n    <TextLine id=\"line_region_2_21\" custom=\"readingOrder {index:21;}\">\\n                <Coords points=\"1279,991 1282,1007 1290,1009 1411,1001 1732,1001 1778,996 1806,985 1771,977 1593,976 1565,972 1389,976 1329,972 1287,977\"/>\\n                                <TextEquiv>\\n            <Unicode>Och medan denna inropas</Unicode>\\n        </TextEquiv>\\n                        <PredScore pred_score=\"0.8801\"/>\\n            </TextLine>\\n    <TextLine id=\"line_region_2_22\" custom=\"readingOrder {index:22;}\">\\n                <Coords points=\"2184,961 2176,950 2132,958 2035,957 1989,967 1886,973 1775,971 1731,975 1715,988 1721,997 1736,1003 1840,999 2000,1001 2080,991 2167,988 2179,981\"/>\\n                                <TextEquiv>\\n            <Unicode>kopssumma /1100/ R. B onde</Unicode>\\n        </TextEquiv>\\n                        <PredScore pred_score=\"0.7871\"/>\\n            </TextLine>\\n    <TextLine id=\"line_region_2_23\" custom=\"readingOrder {index:23;}\">\\n                <Coords points=\"2184,1011 2146,1001 1827,1018 1283,1025 1279,1037 1293,1049 2082,1036 2167,1030\"/>\\n                                <TextEquiv>\\n            <Unicode>af kejteren blifvit till oförstäld fem kommit</Unicode>\\n        </TextEquiv>\\n                        <PredScore pred_score=\"0.8325\"/>\\n            </TextLine>\\n    <TextLine id=\"line_region_2_24\" custom=\"readingOrder {index:24;}\">\\n                <Coords points=\"2207,1058 2199,1048 2149,1035 1873,1051 1310,1058 1286,1067 1282,1082 1286,1092 1350,1083 1884,1083 2006,1072 2200,1068\"/>\\n                                <TextEquiv>\\n            <Unicode>qvitta uti Sy förklaras Skolstapben Hållqvist</Unicode>\\n        </TextEquiv>\\n                        <PredScore pred_score=\"0.8399\"/>\\n            </TextLine>\\n    <TextLine id=\"line_region_2_25\" custom=\"readingOrder {index:25;}\">\\n                <Coords points=\"2169,1082 2155,1074 1646,1096 1395,1095 1287,1103 1285,1127 1302,1116 1372,1129 1971,1118 2157,1106\"/>\\n                                <TextEquiv>\\n            <Unicode>ägo hustru Darn och arfvingen för dött o¬</Unicode>\\n        </TextEquiv>\\n                        <PredScore pred_score=\"0.8934\"/>\\n            </TextLine>\\n    <TextLine id=\"line_region_2_26\" custom=\"readingOrder {index:26;}\">\\n                <Coords points=\"2209,1127 2125,1113 1618,1137 1303,1137 1284,1143 1282,1161 1288,1171 2065,1153 2172,1142\"/>\\n                                <TextEquiv>\\n            <Unicode>egare af 1/8 dels ett Herr af Jord berörde Rörja</Unicode>\\n        </TextEquiv>\\n                        <PredScore pred_score=\"0.8243\"/>\\n            </TextLine>\\n    <TextLine id=\"line_region_2_27\" custom=\"readingOrder {index:27;}\">\\n                <Coords points=\"2203,1173 2186,1160 2147,1153 1874,1167 1286,1176 1276,1198 1283,1204 1918,1202 1993,1191 2107,1190\"/>\\n                                <TextEquiv>\\n            <Unicode>med att hvad dertill höra eller hädanefter</Unicode>\\n        </TextEquiv>\\n                        <PredScore pred_score=\"0.9057\"/>\\n            </TextLine>\\n    <TextLine id=\"line_region_2_28\" custom=\"readingOrder {index:28;}\">\\n                <Coords points=\"2183,1199 1286,1210 1275,1224 1286,1237 1898,1233 2122,1223\"/>\\n                                <TextEquiv>\\n            <Unicode>lagligen tillvinnaskan, att genast der af var</Unicode>\\n        </TextEquiv>\\n                        <PredScore pred_score=\"0.9006\"/>\\n            </TextLine>\\n    <TextLine id=\"line_region_2_29\" custom=\"readingOrder {index:29;}\">\\n                <Coords points=\"2187,1246 2155,1232 1922,1241 1395,1243 1286,1251 1277,1268 1283,1275 1959,1271 2151,1262\"/>\\n                                <TextEquiv>\\n            <Unicode>styra och råda såsom dess brifingna egendom</Unicode>\\n        </TextEquiv>\\n                        <PredScore pred_score=\"0.9323\"/>\\n            </TextLine>\\n    <TextLine id=\"line_region_2_30\" custom=\"readingOrder {index:30;}\">\\n                <Coords points=\"2190,1289 2184,1270 1962,1278 1306,1281 1276,1293 1286,1304 1824,1306\"/>\\n                                <TextEquiv>\\n            <Unicode>Mudlange socken och Madje den 25 Januarii 186.</Unicode>\\n        </TextEquiv>\\n                        <PredScore pred_score=\"0.8692\"/>\\n            </TextLine>\\n    <TextLine id=\"line_region_2_31\" custom=\"readingOrder {index:31;}\">\\n                <Coords points=\"2195,1336 2187,1318 2025,1308 1283,1317 1280,1338 1305,1344 1753,1344\"/>\\n                                <TextEquiv>\\n            <Unicode>Eric Olsson i Etkin varfogsåsom omkring förrätta Tillion</Unicode>\\n        </TextEquiv>\\n                        <PredScore pred_score=\"0.834\"/>\\n            </TextLine>\\n    <TextLine id=\"line_region_2_32\" custom=\"readingOrder {index:32;}\">\\n                <Coords points=\"2198,1337 2179,1328 1293,1341 1275,1361 1284,1367 1956,1366 2150,1356 2186,1349\"/>\\n                                <TextEquiv>\\n            <Unicode>sätts uti densam och alofl samt Persson lägger Rädje dotter</Unicode>\\n        </TextEquiv>\\n                        <PredScore pred_score=\"0.8396\"/>\\n            </TextLine>\\n    <TextLine id=\"line_region_2_33\" custom=\"readingOrder {index:33;}\">\\n                <Coords points=\"2167,1384 2160,1364 2146,1359 2023,1357 1855,1368 1284,1374 1271,1390 1283,1401 1453,1408 2152,1391\"/>\\n                                <TextEquiv>\\n            <Unicode>Bevittnat af Is, Johansson i Ned 1/3 i Edbolande</Unicode>\\n        </TextEquiv>\\n                        <PredScore pred_score=\"0.7663\"/>\\n            </TextLine>\\n    <TextLine id=\"line_region_2_34\" custom=\"readingOrder {index:34;}\">\\n                <Coords points=\"2221,1406 2216,1388 2202,1381 1926,1398 1279,1409 1269,1435 1282,1448 1464,1440 1616,1447 1693,1438 2204,1431\"/>\\n                                <TextEquiv>\\n            <Unicode>hvilket upbörde; Och som till styrke för Anders Olssons</Unicode>\\n        </TextEquiv>\\n                        <PredScore pred_score=\"0.9518\"/>\\n            </TextLine>\\n    <TextLine id=\"line_region_2_35\" custom=\"readingOrder {index:35;}\">\\n                <Coords points=\"2218,1475 2197,1449 2033,1447 1284,1463 1272,1482 1290,1500 2066,1481 2204,1487\"/>\\n                                <TextEquiv>\\n            <Unicode>och hans hustru ågånderätt till försålde fastigheten företeddes</Unicode>\\n        </TextEquiv>\\n                        <PredScore pred_score=\"0.9732\"/>\\n            </TextLine>\\n    <TextLine id=\"line_region_2_36\" custom=\"readingOrder {index:36;}\">\\n                <Coords points=\"2214,1525 2211,1505 2200,1499 1285,1516 1268,1530 1271,1549 1281,1554 2050,1539\"/>\\n                                <TextEquiv>\\n            <Unicode>en den 6. Nov. 1833 uprättad boupteckning efter af¬</Unicode>\\n        </TextEquiv>\\n                        <PredScore pred_score=\"0.9552\"/>\\n            </TextLine>\\n    <TextLine id=\"line_region_2_37\" custom=\"readingOrder {index:37;}\">\\n                <Coords points=\"2201,1568 2192,1552 1281,1573 1267,1597 1281,1611 1925,1598 2196,1582\"/>\\n                                <TextEquiv>\\n            <Unicode>Nämndemannen Olof Erssons i Rädje jemväl aflidna</Unicode>\\n        </TextEquiv>\\n                        <PredScore pred_score=\"0.9801\"/>\\n            </TextLine>\\n    <TextLine id=\"line_region_2_38\" custom=\"readingOrder {index:38;}\">\\n                <Coords points=\"2233,1621 2212,1613 1281,1630 1268,1651 1271,1666 1283,1671 2225,1647\"/>\\n                                <TextEquiv>\\n            <Unicode>hustru Brita Andersdotter, uptagande Oland tillgångnen</Unicode>\\n        </TextEquiv>\\n                        <PredScore pred_score=\"0.9918\"/>\\n            </TextLine>\\n    <TextLine id=\"line_region_2_39\" custom=\"readingOrder {index:39;}\">\\n                <Coords points=\"2232,1690 2214,1674 1284,1684 1269,1692 1269,1715 1966,1717 2213,1708\"/>\\n                                <TextEquiv>\\n            <Unicode>i bodt 1/4 del mantal om 1. örer - 13 pgr. i ofvan omförmälte</Unicode>\\n        </TextEquiv>\\n                        <PredScore pred_score=\"0.9064\"/>\\n            </TextLine>\\n    <TextLine id=\"line_region_2_40\" custom=\"readingOrder {index:40;}\">\\n                <Coords points=\"2198,1740 2189,1725 2157,1717 1898,1731 1796,1720 1674,1732 1565,1728 1502,1738 1283,1732 1264,1739 1263,1761 1280,1779 1498,1777 1568,1786 1663,1776 1734,1785 1821,1773 1948,1773 2022,1787 2066,1773 2189,1761\"/>\\n                                <TextEquiv>\\n            <Unicode>Kr. Sk. hemman Rödje, och såsom arfvingar je ofvan.</Unicode>\\n        </TextEquiv>\\n                        <PredScore pred_score=\"0.9472\"/>\\n            </TextLine>\\n    <TextLine id=\"line_region_2_41\" custom=\"readingOrder {index:41;}\">\\n                <Coords points=\"2215,1786 2200,1772 2140,1770 2038,1785 1955,1774 1736,1791 1639,1785 1284,1792 1250,1808 1250,1822 1269,1833 1347,1839 2205,1818 2215,1808\"/>\\n                                <TextEquiv>\\n            <Unicode>nämde son Anders Olsson och aflidne sonen Olof Ols¬</Unicode>\\n        </TextEquiv>\\n                        <PredScore pred_score=\"0.989\"/>\\n            </TextLine>\\n    <TextLine id=\"line_region_2_42\" custom=\"readingOrder {index:42;}\">\\n                <Coords points=\"2223,1833 2206,1824 2074,1834 2008,1826 1956,1838 1700,1835 1640,1846 1553,1840 1414,1851 1281,1842 1250,1853 1250,1890 1428,1901 1647,1884 1879,1882 1944,1891 2029,1875 2201,1883 2220,1856\"/>\\n                                <TextEquiv>\\n            <Unicode>sons omyndiga barn, hvadan på den förres lätt så¬</Unicode>\\n        </TextEquiv>\\n                        <PredScore pred_score=\"0.9632\"/>\\n            </TextLine>\\n    <TextLine id=\"line_region_2_43\" custom=\"readingOrder {index:43;}\">\\n                <Coords points=\"2204,1903 2186,1891 2133,1882 1817,1896 1697,1891 1482,1911 1292,1902 1250,1915 1250,1952 1644,1957 1782,1947 1872,1959 1937,1942 2198,1930\"/>\\n                                <TextEquiv>\\n            <Unicode>ledes komme att af fastigheten sig belöpa 1/8 man¬</Unicode>\\n        </TextEquiv>\\n                        <PredScore pred_score=\"0.9809\"/>\\n            </TextLine>\\n    </TextRegion>\\n    <TextRegion id=\"region_3\" custom=\"readingOrder {index:3;}\">\\n        <Coords points=\"1600,57 1599,85 1614,94 1887,96 1932,91 1936,86 1938,59 1934,49 1925,47 1744,46 1612,40 1603,48\"/>\\n    <TextLine id=\"line_region_3_0\" custom=\"readingOrder {index:0;}\">\\n                <Coords points=\"1604,63 1604,90 1612,95 1904,95 1915,91 1920,85 1922,52 1920,46 1839,44 1798,49 1776,43 1750,47 1719,40 1717,43 1700,46 1635,45 1611,53\"/>\\n                                <TextEquiv>\\n            <Unicode>1851. den 29. Januari</Unicode>\\n        </TextEquiv>\\n                        <PredScore pred_score=\"0.9724\"/>\\n            </TextLine>\\n    </TextRegion>\\n    <TextRegion id=\"region_4\" custom=\"readingOrder {index:4;}\">\\n        <Coords points=\"2393,99 2331,107 2315,117 2311,125 2313,159 2304,185 2272,216 2263,237 2240,266 2232,293 2243,370 2243,443 2254,455 2288,457 2308,467 2316,478 2318,511 2324,515 2404,499 2427,471 2478,451 2493,432 2498,410 2491,291 2466,201 2457,189 2428,181 2414,170 2409,158 2417,119 2408,105\"/>\\n    <TextLine id=\"line_region_4_0\" custom=\"readingOrder {index:0;}\">\\n                <Coords points=\"2411,117 2408,114 2401,112 2391,104 2379,103 2377,101 2377,99 2360,99 2358,102 2352,104 2348,109 2343,112 2333,115 2322,121 2319,121 2312,130 2310,144 2311,161 2313,163 2329,163 2340,161 2400,160 2403,157 2407,148 2407,143 2410,134 2409,122\"/>\\n                                <TextEquiv>\\n            <Unicode>SS: 31.</Unicode>\\n        </TextEquiv>\\n                        <PredScore pred_score=\"0.9652\"/>\\n            </TextLine>\\n    <TextLine id=\"line_region_4_1\" custom=\"readingOrder {index:1;}\">\\n                <Coords points=\"2270,220 2269,235 2274,247 2295,251 2305,257 2319,258 2328,262 2341,261 2344,263 2344,267 2360,265 2364,269 2375,268 2386,264 2425,257 2448,255 2458,247 2454,237 2454,210 2447,200 2425,191 2401,189 2373,179 2354,180 2312,190 2304,195 2291,210 2275,214\"/>\\n                                <TextEquiv>\\n            <Unicode>Rödje.</Unicode>\\n        </TextEquiv>\\n                        <PredScore pred_score=\"0.9485\"/>\\n            </TextLine>\\n    <TextLine id=\"line_region_4_2\" custom=\"readingOrder {index:2;}\">\\n                <Coords points=\"2235,276 2236,309 2244,315 2276,310 2305,312 2332,309 2367,313 2465,313 2472,310 2475,305 2475,277 2471,273 2459,270 2427,270 2408,276 2391,277 2370,268 2364,260 2343,260 2326,265 2307,266 2292,264 2276,258 2265,263 2239,267\"/>\\n                                <TextEquiv>\\n            <Unicode>Kopl den 1100.</Unicode>\\n        </TextEquiv>\\n                        <PredScore pred_score=\"0.7764\"/>\\n            </TextLine>\\n    <TextLine id=\"line_region_4_3\" custom=\"readingOrder {index:3;}\">\\n                <Coords points=\"2238,325 2240,345 2248,355 2313,356 2343,350 2353,352 2401,351 2411,354 2474,354 2484,351 2483,320 2479,318 2451,318 2437,314 2394,325 2369,326 2335,319 2298,317 2277,312 2260,316 2250,315 2240,319\"/>\\n                                <TextEquiv>\\n            <Unicode>Eklid 6:12</Unicode>\\n        </TextEquiv>\\n                        <PredScore pred_score=\"0.8439\"/>\\n            </TextLine>\\n    <TextLine id=\"line_region_4_4\" custom=\"readingOrder {index:4;}\">\\n                <Coords points=\"2324,362 2331,377 2323,396 2323,403 2327,407 2362,406 2421,409 2457,418 2495,414 2497,409 2494,365 2475,364 2450,374 2412,373 2407,368 2399,368 2396,377 2390,379 2385,377 2393,370 2394,362 2386,355 2379,355 2373,358 2370,363 2380,367 2375,369 2375,375 2385,377 2363,380 2355,379 2346,371 2329,362\"/>\\n                                <TextEquiv>\\n            <Unicode>värdes bön¬</Unicode>\\n        </TextEquiv>\\n                        <PredScore pred_score=\"0.774\"/>\\n            </TextLine>\\n    <TextLine id=\"line_region_4_5\" custom=\"readingOrder {index:5;}\">\\n                <Coords points=\"2450,419 2419,412 2401,416 2389,416 2355,405 2328,419 2322,418 2312,422 2305,422 2302,419 2303,413 2297,414 2300,418 2297,421 2292,418 2289,420 2282,418 2253,420 2249,425 2247,440 2250,449 2257,453 2300,450 2340,455 2361,452 2392,452 2417,459 2434,459 2440,456 2445,449 2446,436 2442,429\"/>\\n                                <TextEquiv>\\n            <Unicode>en kipek.</Unicode>\\n        </TextEquiv>\\n                        <PredScore pred_score=\"0.6569\"/>\\n            </TextLine>\\n    <TextLine id=\"line_region_4_6\" custom=\"readingOrder {index:6;}\">\\n                <Coords points=\"2408,461 2393,454 2385,453 2376,456 2370,456 2362,458 2359,461 2348,466 2334,466 2329,468 2325,478 2324,500 2322,506 2323,515 2340,515 2342,512 2348,510 2362,509 2373,505 2394,504 2405,502 2411,491 2410,477 2409,476 2410,465\"/>\\n                                <TextEquiv>\\n            <Unicode>44.</Unicode>\\n        </TextEquiv>\\n                        <PredScore pred_score=\"0.8031\"/>\\n            </TextLine>\\n    </TextRegion>\\n    </Page>\\n</PcGts>\\n'"
      ]
     },
     "execution_count": 9,
     "metadata": {},
     "output_type": "execute_result"
    }
   ],
   "source": [
    "rendered_xml"
   ]
  },
  {
   "cell_type": "code",
   "execution_count": 10,
   "id": "a94922e0-b43f-4003-b4fc-5804d9ee1fd0",
   "metadata": {},
   "outputs": [],
   "source": [
    "# Assuming `rendered_xml` contains your XML content as a string\n",
    "\n",
    "# Define the file path\n",
    "file_path = 'page_xml.xml'\n",
    "\n",
    "# Open the file in write mode ('w') and write the XML string to it\n",
    "with open(file_path, 'w', encoding='utf-8') as file:\n",
    "    file.write(rendered_xml)\n",
    "\n"
   ]
  },
  {
   "cell_type": "code",
   "execution_count": 11,
   "id": "e75a378e-d1e9-4d2a-a57a-77f54cd0a718",
   "metadata": {},
   "outputs": [
    {
     "name": "stdout",
     "output_type": "stream",
     "text": [
      "Function 'visualize_xml' executed in 0.4230s\n"
     ]
    },
    {
     "data": {
      "image/png": "[encoded data removed]",
      "text/plain": [
       "<Figure size 640x480 with 1 Axes>"
      ]
     },
     "metadata": {},
     "output_type": "display_data"
    },
    {
     "name": "stdout",
     "output_type": "stream",
     "text": [
      "<?xml version=\"1.0\" encoding=\"UTF-8\"?>\n",
      "<PcGts xmlns=\"http://schema.primaresearch.org/PAGE/gts/pagecontent/2013-07-15\" xmlns:xsi=\"http://www.w3.org/2001/XMLSchema-instance\" xsi:schemaLocation=\"http://schema.primaresearch.org/PAGE/gts/pagecontent/2013-07-15 http://schema.primaresearch.org/PAGE/gts/pagecontent/2013-07-15/pagecontent.xsd\">\n",
      "    <Metadata>\n",
      "        <Creator>Swedish National Archives</Creator>\n",
      "        <Created>2024-02-21, 11:52:16</Created>\n",
      "    </Metadata>\n",
      "    <Page imageFilename=\"page_xml.xml\" imageWidth=\"2834\" imageHeight=\"2096\">\n",
      "    <TextRegion id=\"region_0\" custom=\"readingOrder {index:0;}\">\n",
      "        <Coords points=\"696,49 718,56 997,57 1013,55 1017,50 1008,16 979,21 927,16 926,0 706,0 706,19\"/>\n",
      "    <TextLine id=\"line_region_0_0\" custom=\"readingOrder {index:0;}\">\n",
      "                <Coords points=\"698,41 702,50 711,50 718,54 1004,55 1011,46 1013,28 1001,19 955,17 930,11 928,6 923,9 918,5 851,7 829,0 804,4 729,3 708,8 701,14\"/>\n",
      "                                <TextEquiv>\n",
      "            <Unicode>1851. den 29. Januari</Unicode>\n",
      "        </TextEquiv>\n",
      "                        <PredScore pred_score=\"0.9918\"/>\n",
      "            </TextLine>\n",
      "    </TextRegion>\n",
      "    <TextRegion id=\"region_1\" custom=\"readingOrder {index:1;}\">\n",
      "        <Coords points=\"1255,78 1044,59 1008,30 951,56 388,54 327,943 331,1182 389,1255 329,1290 330,1863 937,1902 1096,1937 1241,1930 1284,982 1285,135\"/>\n",
      "    <TextLine id=\"line_region_1_0\" custom=\"readingOrder {index:0;}\">\n",
      "                <Coords points=\"409,71 410,92 437,103 580,100 748,113 1074,118 1160,135 1281,119 1280,108 1222,83 1095,79 1066,64 981,69 876,57 421,56\"/>\n",
      "                                <TextEquiv>\n",
      "            <Unicode>15 pgl. uti berörde Uplanda. samt sönerne Olof och</Unicode>\n",
      "        </TextEquiv>\n",
      "                        <PredScore pred_score=\"0.9739\"/>\n",
      "            </TextLine>\n",
      "    <TextLine id=\"line_region_1_1\" custom=\"readingOrder {index:1;}\">\n",
      "                <Coords points=\"400,132 404,149 417,154 645,152 707,164 782,161 849,176 894,166 1238,178 1259,162 1252,146 1236,138 1124,136 1069,118 1011,127 897,115 803,126 689,110 617,115 540,102 407,118\"/>\n",
      "                                <TextEquiv>\n",
      "            <Unicode>dels tillhopa 15 sigl. i omförmälde hemman Stock</Unicode>\n",
      "        </TextEquiv>\n",
      "                        <PredScore pred_score=\"0.979\"/>\n",
      "            </TextLine>\n",
      "    <TextLine id=\"line_region_1_2\" custom=\"readingOrder {index:2;}\">\n",
      "                <Coords points=\"398,219 444,211 526,218 736,209 1140,226 1185,234 1221,232 1230,216 1213,185 1162,190 1092,172 852,179 784,164 537,166 496,155 407,169 395,181\"/>\n",
      "                                <TextEquiv>\n",
      "            <Unicode>grund af serskildt derom uprättadt tidamente,</Unicode>\n",
      "        </TextEquiv>\n",
      "                        <PredScore pred_score=\"0.9374\"/>\n",
      "            </TextLine>\n",
      "    <TextLine id=\"line_region_1_3\" custom=\"readingOrder {index:3;}\">\n",
      "                <Coords points=\"395,242 397,264 419,272 708,267 778,288 828,274 908,270 972,274 1017,288 1117,282 1215,290 1242,282 1247,269 1244,255 1190,237 1109,241 1064,225 924,236 852,220 732,226 681,218 514,224 462,217 414,224\"/>\n",
      "                                <TextEquiv>\n",
      "            <Unicode>dels jemte systrarne Greta och Capa, hvar</Unicode>\n",
      "        </TextEquiv>\n",
      "                        <PredScore pred_score=\"0.9792\"/>\n",
      "            </TextLine>\n",
      "    <TextLine id=\"line_region_1_4\" custom=\"readingOrder {index:4;}\">\n",
      "                <Coords points=\"398,301 407,325 487,333 619,320 906,324 986,336 1193,340 1242,327 1236,303 1168,282 1063,292 924,280 779,289 682,277 602,288 463,277 409,285\"/>\n",
      "                                <TextEquiv>\n",
      "            <Unicode>3 5/4 pgl. i Uplanda och 3 3/4 pgl. i Sterta i</Unicode>\n",
      "        </TextEquiv>\n",
      "                        <PredScore pred_score=\"0.9292\"/>\n",
      "            </TextLine>\n",
      "    <TextLine id=\"line_region_1_6\" custom=\"readingOrder {index:5;}\">\n",
      "                <Coords points=\"395,354 399,380 522,382 564,390 694,381 1238,399 1237,379 1221,357 1191,344 1114,354 969,352 901,335 827,343 741,332 423,340 402,344\"/>\n",
      "                                <TextEquiv>\n",
      "            <Unicode>manen, 7o Ett den 27. i denna månad af Erik</Unicode>\n",
      "        </TextEquiv>\n",
      "                        <PredScore pred_score=\"0.9393\"/>\n",
      "            </TextLine>\n",
      "    <TextLine id=\"line_region_1_7\" custom=\"readingOrder {index:6;}\">\n",
      "                <Coords points=\"396,412 399,433 411,439 498,439 562,451 611,442 918,443 1222,465 1260,450 1247,433 1117,403 1014,407 972,396 889,407 757,403 664,390 593,399 498,390 404,396\"/>\n",
      "                                <TextEquiv>\n",
      "            <Unicode>ten förmån för ofvanbemälde hans 4. barn, gjordt</Unicode>\n",
      "        </TextEquiv>\n",
      "                        <PredScore pred_score=\"0.9715\"/>\n",
      "            </TextLine>\n",
      "    <TextLine id=\"line_region_1_8\" custom=\"readingOrder {index:7;}\">\n",
      "                <Coords points=\"388,471 399,495 531,491 737,500 819,512 923,512 971,526 1054,512 1211,527 1224,518 1226,504 1209,476 1068,457 1008,462 798,454 688,461 461,445 400,452\"/>\n",
      "                                <TextEquiv>\n",
      "            <Unicode>att varnens närvaro underskrifvet förordnande,</Unicode>\n",
      "        </TextEquiv>\n",
      "                        <PredScore pred_score=\"0.9137\"/>\n",
      "            </TextLine>\n",
      "    <TextLine id=\"line_region_1_9\" custom=\"readingOrder {index:8;}\">\n",
      "                <Coords points=\"387,540 397,559 456,549 601,548 888,562 971,576 1189,580 1250,569 1187,536 1135,537 1047,519 971,533 923,519 798,523 734,509 570,501 399,510\"/>\n",
      "                                <TextEquiv>\n",
      "            <Unicode>igenom han till barnen uplåtit öfverbesagda, ho¬</Unicode>\n",
      "        </TextEquiv>\n",
      "                        <PredScore pred_score=\"0.9433\"/>\n",
      "            </TextLine>\n",
      "    <TextLine id=\"line_region_1_10\" custom=\"readingOrder {index:9;}\">\n",
      "                <Coords points=\"389,581 397,615 589,606 763,613 852,626 976,621 1014,633 1237,629 1247,618 1236,608 1187,604 1139,583 959,585 557,560 397,565\"/>\n",
      "                                <TextEquiv>\n",
      "            <Unicode>tillskiftade tillhopa 1 öres - 5 sigs i Uplanda, emot</Unicode>\n",
      "        </TextEquiv>\n",
      "                        <PredScore pred_score=\"0.954\"/>\n",
      "            </TextLine>\n",
      "    <TextLine id=\"line_region_1_11\" custom=\"readingOrder {index:10;}\">\n",
      "                <Coords points=\"383,637 385,659 397,671 502,671 590,685 762,677 1201,704 1259,702 1267,690 1261,668 1244,658 1163,660 1091,645 899,645 813,633 571,621 403,622\"/>\n",
      "                                <TextEquiv>\n",
      "            <Unicode>tingad lifstidsfördel, hvadan ock enligt nu före</Unicode>\n",
      "        </TextEquiv>\n",
      "                        <PredScore pred_score=\"0.9703\"/>\n",
      "            </TextLine>\n",
      "    <TextLine id=\"line_region_1_12\" custom=\"readingOrder {index:11;}\">\n",
      "                <Coords points=\"384,705 387,729 397,738 465,727 701,732 823,749 978,749 1020,762 1101,753 1259,762 1264,752 1256,726 1124,705 974,710 892,695 684,694 531,677 397,687\"/>\n",
      "                                <TextEquiv>\n",
      "            <Unicode>visadt 8o instrument af samma dag hvardera</Unicode>\n",
      "        </TextEquiv>\n",
      "                        <PredScore pred_score=\"0.9665\"/>\n",
      "            </TextLine>\n",
      "    <TextLine id=\"line_region_1_13\" custom=\"readingOrder {index:12;}\">\n",
      "                <Coords points=\"380,773 381,786 395,796 591,791 898,814 987,811 1068,825 1257,824 1271,810 1259,778 1065,765 995,773 881,760 753,761 665,743 591,750 444,743 397,750\"/>\n",
      "                                <TextEquiv>\n",
      "            <Unicode>af barnen bekommit 7 1/4. sigl uti oftaberörde</Unicode>\n",
      "        </TextEquiv>\n",
      "                        <PredScore pred_score=\"0.9507\"/>\n",
      "            </TextLine>\n",
      "    <TextLine id=\"line_region_1_14\" custom=\"readingOrder {index:13;}\">\n",
      "                <Coords points=\"375,826 376,851 823,866 921,878 992,873 1156,889 1246,890 1269,880 1256,851 1073,834 953,836 883,821 750,823 595,808 389,810\"/>\n",
      "                                <TextEquiv>\n",
      "            <Unicode>hemman Uplanda med Ettenga utjord; varande</Unicode>\n",
      "        </TextEquiv>\n",
      "                        <PredScore pred_score=\"0.9433\"/>\n",
      "            </TextLine>\n",
      "    <TextLine id=\"line_region_1_15\" custom=\"readingOrder {index:14;}\">\n",
      "                <Coords points=\"361,898 373,925 481,915 825,932 902,950 1005,941 1258,951 1268,933 1258,903 1161,909 1021,888 764,885 590,871 376,875\"/>\n",
      "                                <TextEquiv>\n",
      "            <Unicode>jemväl detta instrument, uti skiftesmans och vitt¬</Unicode>\n",
      "        </TextEquiv>\n",
      "                        <PredScore pred_score=\"0.9743\"/>\n",
      "            </TextLine>\n",
      "    <TextLine id=\"line_region_1_16\" custom=\"readingOrder {index:15;}\">\n",
      "                <Coords points=\"360,951 374,976 561,982 659,995 973,1003 1045,1019 1240,1014 1261,1020 1268,1001 1258,970 1141,958 971,967 688,938 393,935\"/>\n",
      "                                <TextEquiv>\n",
      "            <Unicode>na närvaro, utaf vederbörande underskrifvet och</Unicode>\n",
      "        </TextEquiv>\n",
      "                        <PredScore pred_score=\"0.9693\"/>\n",
      "            </TextLine>\n",
      "    <TextLine id=\"line_region_1_17\" custom=\"readingOrder {index:16;}\">\n",
      "                <Coords points=\"579,998 567,989 541,987 515,990 477,983 468,983 447,990 401,998 373,999 362,1003 356,1009 348,1045 351,1054 374,1053 401,1043 465,1038 566,1046 574,1042 581,1031 583,1022\"/>\n",
      "                                <TextEquiv>\n",
      "            <Unicode>godkändt.</Unicode>\n",
      "        </TextEquiv>\n",
      "                        <PredScore pred_score=\"0.9582\"/>\n",
      "            </TextLine>\n",
      "    <TextLine id=\"line_region_1_18\" custom=\"readingOrder {index:17;}\">\n",
      "                <Coords points=\"426,1058 428,1089 443,1098 523,1097 707,1121 789,1110 1059,1134 1257,1140 1263,1120 1261,1091 1236,1078 1162,1091 1041,1070 971,1077 899,1062 829,1071 805,1054 738,1062 663,1052 580,1060 480,1044 433,1047\"/>\n",
      "                                <TextEquiv>\n",
      "            <Unicode>Enär gen dessa öfver antydde handlingar behöri¬</Unicode>\n",
      "        </TextEquiv>\n",
      "                        <PredScore pred_score=\"0.944\"/>\n",
      "            </TextLine>\n",
      "    <TextLine id=\"line_region_1_19\" custom=\"readingOrder {index:18;}\">\n",
      "                <Coords points=\"348,1162 398,1153 722,1158 1107,1187 1185,1203 1262,1189 1257,1151 1148,1150 1094,1136 1034,1143 804,1122 682,1125 531,1101 370,1108 352,1119\"/>\n",
      "                                <TextEquiv>\n",
      "            <Unicode>gen visats säljaren åtkomst till omförmälde, för</Unicode>\n",
      "        </TextEquiv>\n",
      "                        <PredScore pred_score=\"0.9674\"/>\n",
      "            </TextLine>\n",
      "    <TextLine id=\"line_region_1_20\" custom=\"readingOrder {index:19;}\">\n",
      "                <Coords points=\"357,1188 370,1206 401,1210 443,1227 546,1213 808,1220 1023,1241 1059,1214 1046,1189 973,1201 925,1181 807,1167 682,1174 567,1171 520,1160 474,1167 373,1166\"/>\n",
      "                                <TextEquiv>\n",
      "            <Unicode>sälde fastigheter, beslöt Hdiks och</Unicode>\n",
      "        </TextEquiv>\n",
      "                        <PredScore pred_score=\"0.9086\"/>\n",
      "            </TextLine>\n",
      "    <TextLine id=\"line_region_1_21\" custom=\"readingOrder {index:20;}\">\n",
      "                <Coords points=\"854,1239 851,1235 833,1230 824,1230 804,1235 783,1226 763,1229 708,1231 688,1240 670,1243 663,1248 659,1259 659,1284 663,1288 687,1297 735,1294 763,1288 810,1288 851,1285 854,1283 855,1274\"/>\n",
      "                                <TextEquiv>\n",
      "            <Unicode>Afsade</Unicode>\n",
      "        </TextEquiv>\n",
      "                        <PredScore pred_score=\"0.9801\"/>\n",
      "            </TextLine>\n",
      "    <TextLine id=\"line_region_1_22\" custom=\"readingOrder {index:21;}\">\n",
      "                <Coords points=\"348,1287 351,1311 421,1309 445,1322 546,1325 610,1338 839,1338 1228,1365 1254,1358 1246,1333 1235,1326 1189,1329 1165,1312 1044,1313 928,1297 904,1286 708,1297 558,1276 470,1275 432,1283 421,1304 400,1293\"/>\n",
      "                                <TextEquiv>\n",
      "            <Unicode>- A dels 11. sig. i Kr St. hem. No 2. Uplanda med</Unicode>\n",
      "        </TextEquiv>\n",
      "                        <PredScore pred_score=\"0.9285\"/>\n",
      "            </TextLine>\n",
      "    <TextLine id=\"line_region_1_23\" custom=\"readingOrder {index:22;}\">\n",
      "                <Coords points=\"361,1331 363,1355 375,1362 683,1375 850,1402 959,1394 1147,1412 1210,1407 1217,1394 1212,1377 1156,1365 1021,1358 960,1363 733,1339 566,1340 520,1328 384,1320\"/>\n",
      "                                <TextEquiv>\n",
      "            <Unicode>tillhörande andel i Ettenga utgörs och 3 3/4. sigl. i</Unicode>\n",
      "        </TextEquiv>\n",
      "                        <PredScore pred_score=\"0.9125\"/>\n",
      "            </TextLine>\n",
      "    <TextLine id=\"line_region_1_24\" custom=\"readingOrder {index:23;}\">\n",
      "                <Coords points=\"353,1381 356,1408 374,1419 1092,1461 1210,1482 1241,1476 1252,1454 1237,1421 1208,1428 1167,1417 1065,1416 1021,1405 971,1413 950,1401 892,1410 711,1386 545,1387 476,1373 372,1369\"/>\n",
      "                                <TextEquiv>\n",
      "            <Unicode>Kr st. hem. No 3. Storta, Wähla sn, som Bonden Af</Unicode>\n",
      "        </TextEquiv>\n",
      "                        <PredScore pred_score=\"0.9145\"/>\n",
      "            </TextLine>\n",
      "    <TextLine id=\"line_region_1_25\" custom=\"readingOrder {index:24;}\">\n",
      "                <Coords points=\"360,1442 362,1469 373,1478 763,1493 996,1515 1102,1515 1160,1526 1235,1527 1242,1511 1237,1491 1188,1486 1162,1471 994,1469 928,1457 874,1463 784,1450 719,1455 596,1434 445,1441 397,1426 368,1427\"/>\n",
      "                                <TextEquiv>\n",
      "            <Unicode>Ersson Pehr Carlsson och hans hustru Greta Ersdotter</Unicode>\n",
      "        </TextEquiv>\n",
      "                        <PredScore pred_score=\"0.9695\"/>\n",
      "            </TextLine>\n",
      "    <TextLine id=\"line_region_1_26\" custom=\"readingOrder {index:25;}\">\n",
      "                <Coords points=\"338,1523 348,1540 436,1529 657,1538 995,1570 1233,1581 1247,1572 1236,1539 1211,1546 1189,1533 1139,1524 1085,1528 838,1505 693,1507 588,1490 379,1486 349,1496\"/>\n",
      "                                <TextEquiv>\n",
      "            <Unicode>för 533 rd 16 skl och utfärt fördel, sålt till Bonden</Unicode>\n",
      "        </TextEquiv>\n",
      "                        <PredScore pred_score=\"0.9509\"/>\n",
      "            </TextLine>\n",
      "    <TextLine id=\"line_region_1_27\" custom=\"readingOrder {index:26;}\">\n",
      "                <Coords points=\"330,1549 333,1575 350,1587 444,1594 591,1590 1162,1632 1212,1631 1225,1620 1224,1594 1201,1583 1066,1587 948,1569 852,1570 740,1555 540,1554 472,1540\"/>\n",
      "                                <TextEquiv>\n",
      "            <Unicode>Olof Ersson och hans hustru Lisa Pehrsdotter, och dels</Unicode>\n",
      "        </TextEquiv>\n",
      "                        <PredScore pred_score=\"0.9815\"/>\n",
      "            </TextLine>\n",
      "    <TextLine id=\"line_region_1_28\" custom=\"readingOrder {index:27;}\">\n",
      "                <Coords points=\"349,1604 352,1626 371,1635 493,1637 926,1678 1056,1679 1169,1693 1208,1690 1222,1670 1200,1651 1115,1637 754,1623 687,1606 588,1601 491,1606 354,1595\"/>\n",
      "                                <TextEquiv>\n",
      "            <Unicode>11 sigl i berörde hemman Uplanda samt 3 1/4. sif. i</Unicode>\n",
      "        </TextEquiv>\n",
      "                        <PredScore pred_score=\"0.9481\"/>\n",
      "            </TextLine>\n",
      "    <TextLine id=\"line_region_1_29\" custom=\"readingOrder {index:28;}\">\n",
      "                <Coords points=\"340,1665 351,1690 570,1701 660,1717 851,1729 973,1726 1080,1743 1213,1748 1227,1740 1230,1719 1217,1695 1141,1704 1116,1691 902,1691 843,1679 752,1678 619,1653 352,1644\"/>\n",
      "                                <TextEquiv>\n",
      "            <Unicode>Sterte, som Erik Ersson i Mångsbo och hans hus¬</Unicode>\n",
      "        </TextEquiv>\n",
      "                        <PredScore pred_score=\"0.9606\"/>\n",
      "            </TextLine>\n",
      "    <TextLine id=\"line_region_1_30\" custom=\"readingOrder {index:29;}\">\n",
      "                <Coords points=\"334,1713 342,1743 406,1763 500,1753 634,1770 897,1781 1016,1793 1044,1807 1198,1797 1213,1790 1217,1771 1210,1754 1190,1748 1113,1760 952,1740 895,1744 711,1724 636,1727 431,1699 351,1699\"/>\n",
      "                                <TextEquiv>\n",
      "            <Unicode>tre lagda Endttus, för enahanda köpeskilling, salt</Unicode>\n",
      "        </TextEquiv>\n",
      "                        <PredScore pred_score=\"0.9262\"/>\n",
      "            </TextLine>\n",
      "    <TextLine id=\"line_region_1_31\" custom=\"readingOrder {index:30;}\">\n",
      "                <Coords points=\"331,1765 339,1802 395,1813 494,1812 656,1833 948,1850 1092,1851 1204,1863 1237,1857 1235,1808 1039,1814 878,1789 749,1794 672,1772 532,1773 468,1761 410,1766 353,1757\"/>\n",
      "                                <TextEquiv>\n",
      "            <Unicode>till samma Olof Ersson och hans hustru, meddelas be¬</Unicode>\n",
      "        </TextEquiv>\n",
      "                        <PredScore pred_score=\"0.994\"/>\n",
      "            </TextLine>\n",
      "    <TextLine id=\"line_region_1_32\" custom=\"readingOrder {index:31;}\">\n",
      "                <Coords points=\"334,1832 337,1853 347,1861 446,1863 853,1899 869,1884 858,1864 803,1851 721,1840 576,1838 540,1830 496,1811 433,1819 346,1819\"/>\n",
      "                                <TextEquiv>\n",
      "            <Unicode>spille Köpare Upbud tillhanda un¬</Unicode>\n",
      "        </TextEquiv>\n",
      "                        <PredScore pred_score=\"0.8962\"/>\n",
      "            </TextLine>\n",
      "    <TextLine id=\"line_region_1_33\" custom=\"readingOrder {index:32;}\">\n",
      "                <Coords points=\"1004,1882 1004,1908 1010,1916 1019,1921 1044,1920 1072,1913 1093,1913 1153,1924 1210,1925 1231,1920 1238,1909 1235,1890 1229,1885 1190,1877 1165,1878 1144,1866 1093,1852 1068,1852 1051,1849 1035,1851 1017,1864\"/>\n",
      "                                <TextEquiv>\n",
      "            <Unicode>Första gången</Unicode>\n",
      "        </TextEquiv>\n",
      "                        <PredScore pred_score=\"0.9963\"/>\n",
      "            </TextLine>\n",
      "    </TextRegion>\n",
      "    <TextRegion id=\"region_2\" custom=\"readingOrder {index:2;}\">\n",
      "        <Coords points=\"1308,109 1252,1937 2182,1983 2227,1930 2257,1681 2219,193 2254,118 2119,126 2206,182 2185,201 2027,196 2002,170 1820,197 1805,178 1866,157 1789,150 1787,193 1645,203 1568,156 1745,122\"/>\n",
      "    <TextLine id=\"line_region_2_0\" custom=\"readingOrder {index:0;}\">\n",
      "                <Coords points=\"1297,135 1299,148 1307,159 1352,148 1430,150 1452,155 1507,145 1736,145 1756,139 1753,124 1731,116 1730,105 1473,105 1471,116 1401,118 1393,115 1393,105 1307,105 1307,115\"/>\n",
      "                                <TextEquiv>\n",
      "            <Unicode>C: B: huset till kolla¬</Unicode>\n",
      "        </TextEquiv>\n",
      "                        <PredScore pred_score=\"0.7679\"/>\n",
      "            </TextLine>\n",
      "    <TextLine id=\"line_region_2_1\" custom=\"readingOrder {index:1;}\">\n",
      "                <Coords points=\"1918,133 1918,143 1922,150 1929,153 1941,154 1942,155 1947,155 1948,154 1996,155 2004,153 2009,150 2014,141 2014,133 2013,132 2012,124 2009,121 2005,120 1973,120 1972,121 1963,121 1962,120 1954,120 1953,119 1946,119 1945,118 1931,119 1923,122 1920,125\"/>\n",
      "                                <TextEquiv>\n",
      "            <Unicode>har</Unicode>\n",
      "        </TextEquiv>\n",
      "                        <PredScore pred_score=\"0.6472\"/>\n",
      "            </TextLine>\n",
      "    <TextLine id=\"line_region_2_2\" custom=\"readingOrder {index:2;}\">\n",
      "                <Coords points=\"2120,137 2121,143 2129,152 2138,155 2158,158 2178,166 2193,161 2235,154 2241,151 2246,146 2248,141 2246,105 2180,105 2180,114 2178,116 2153,116 2149,114 2149,105 2130,105 2130,114 2123,126\"/>\n",
      "                                <TextEquiv>\n",
      "            <Unicode>derför</Unicode>\n",
      "        </TextEquiv>\n",
      "                        <PredScore pred_score=\"0.752\"/>\n",
      "            </TextLine>\n",
      "    <TextLine id=\"line_region_2_3\" custom=\"readingOrder {index:3;}\">\n",
      "                <Coords points=\"1302,210 1308,217 1339,212 1355,205 1371,202 1466,197 1475,194 1479,189 1479,182 1476,173 1471,166 1423,161 1402,167 1378,167 1364,158 1352,156 1319,168 1305,178 1302,185\"/>\n",
      "                                <TextEquiv>\n",
      "            <Unicode>lysade.</Unicode>\n",
      "        </TextEquiv>\n",
      "                        <PredScore pred_score=\"0.8766\"/>\n",
      "            </TextLine>\n",
      "    <TextLine id=\"line_region_2_4\" custom=\"readingOrder {index:4;}\">\n",
      "                <Coords points=\"1354,257 1556,249 2064,257 2185,249 2206,232 2199,214 2106,211 2082,202 1957,202 1899,212 1800,203 1723,214 1638,211 1565,198 1363,212\"/>\n",
      "                                <TextEquiv>\n",
      "            <Unicode>Undertecknad auctionsförrätten samt fingudan</Unicode>\n",
      "        </TextEquiv>\n",
      "                        <PredScore pred_score=\"0.9198\"/>\n",
      "            </TextLine>\n",
      "    <TextLine id=\"line_region_2_5\" custom=\"readingOrder {index:5;}\">\n",
      "                <Coords points=\"2207,256 2199,248 1951,259 1586,255 1516,264 1321,267 1303,278 1301,304 1311,312 1454,300 1985,298 2198,284\"/>\n",
      "                                <TextEquiv>\n",
      "            <Unicode>sin vitterhet att sedan Wikto Pall af Härads Rätt</Unicode>\n",
      "        </TextEquiv>\n",
      "                        <PredScore pred_score=\"0.8836\"/>\n",
      "            </TextLine>\n",
      "    <TextLine id=\"line_region_2_6\" custom=\"readingOrder {index:6;}\">\n",
      "                <Coords points=\"2226,303 2173,291 2027,299 1949,313 1874,304 1719,312 1470,305 1320,318 1297,330 1308,354 1439,348 1498,358 1661,343 1752,353 1839,345 1904,353 2202,331 2220,324\"/>\n",
      "                                <TextEquiv>\n",
      "            <Unicode>medelst Utslag af den 19 sist. Maji, på vederbörande</Unicode>\n",
      "        </TextEquiv>\n",
      "                        <PredScore pred_score=\"0.9737\"/>\n",
      "            </TextLine>\n",
      "    <TextLine id=\"line_region_2_7\" custom=\"readingOrder {index:7;}\">\n",
      "                <Coords points=\"2209,353 2199,342 2162,340 2132,346 2025,340 1812,356 1656,347 1306,360 1296,377 1306,397 1525,387 2037,392 2083,380 2198,376\"/>\n",
      "                                <TextEquiv>\n",
      "            <Unicode>förmyndare ansökning och hafva anmälte från ders</Unicode>\n",
      "        </TextEquiv>\n",
      "                        <PredScore pred_score=\"0.8477\"/>\n",
      "            </TextLine>\n",
      "    <TextLine id=\"line_region_2_8\" custom=\"readingOrder {index:8;}\">\n",
      "                <Coords points=\"2223,397 2201,379 2061,397 2016,388 1353,396 1305,410 1296,425 1313,438 1377,435 1404,405 1494,443 1635,431 1950,437 2191,423 2216,415\"/>\n",
      "                                <TextEquiv>\n",
      "            <Unicode>tillstyrkan, samtybt till försäljning af Ströms Skatte</Unicode>\n",
      "        </TextEquiv>\n",
      "                        <PredScore pred_score=\"0.9081\"/>\n",
      "            </TextLine>\n",
      "    <TextLine id=\"line_region_2_9\" custom=\"readingOrder {index:9;}\">\n",
      "                <Coords points=\"2220,443 2202,430 2084,439 1353,439 1297,444 1286,470 1306,484 1394,475 2132,475 2206,461\"/>\n",
      "                                <TextEquiv>\n",
      "            <Unicode>kanmäki 1 No 1 20 åstandels 18/8 dels mantl om¬</Unicode>\n",
      "        </TextEquiv>\n",
      "                        <PredScore pred_score=\"0.7869\"/>\n",
      "            </TextLine>\n",
      "    <TextLine id=\"line_region_2_10\" custom=\"readingOrder {index:10;}\">\n",
      "                <Coords points=\"2215,518 2204,512 2082,513 1969,525 1705,525 1592,541 1669,556 2067,551 2204,543 2215,538\"/>\n",
      "                                <TextEquiv>\n",
      "            <Unicode>domst. Måras och Westerlan¬</Unicode>\n",
      "        </TextEquiv>\n",
      "                        <PredScore pred_score=\"0.829\"/>\n",
      "            </TextLine>\n",
      "    <TextLine id=\"line_region_2_11\" custom=\"readingOrder {index:11;}\">\n",
      "                <Coords points=\"2236,561 2221,553 1835,570 1681,570 1611,588 1741,599 2189,588 2226,583\"/>\n",
      "                                <TextEquiv>\n",
      "            <Unicode>till ege förklarade förre Bonden</Unicode>\n",
      "        </TextEquiv>\n",
      "                        <PredScore pred_score=\"0.8853\"/>\n",
      "            </TextLine>\n",
      "    <TextLine id=\"line_region_2_12\" custom=\"readingOrder {index:12;}\">\n",
      "                <Coords points=\"2215,607 2199,593 1923,606 1703,606 1630,612 1614,620 1606,632 1676,640 2024,636 2098,625 2200,624\"/>\n",
      "                                <TextEquiv>\n",
      "            <Unicode>och dess hustru Hinla Erodotter</Unicode>\n",
      "        </TextEquiv>\n",
      "                        <PredScore pred_score=\"0.9167\"/>\n",
      "            </TextLine>\n",
      "    <TextLine id=\"line_region_2_13\" custom=\"readingOrder {index:13;}\">\n",
      "                <Coords points=\"2208,655 2196,635 2167,632 2007,644 1720,645 1630,654 1615,662 1621,672 1645,679 1701,682 1799,671 2037,672 2201,663\"/>\n",
      "                                <TextEquiv>\n",
      "            <Unicode>är oftenfir i gången utlysning</Unicode>\n",
      "        </TextEquiv>\n",
      "                        <PredScore pred_score=\"0.8633\"/>\n",
      "            </TextLine>\n",
      "    <TextLine id=\"line_region_2_14\" custom=\"readingOrder {index:14;}\">\n",
      "                <Coords points=\"2213,679 2203,667 2022,679 1859,676 1615,690 1597,704 1612,712 1767,720 1872,713 2038,723 2088,709 2201,707 2211,702\"/>\n",
      "                                <TextEquiv>\n",
      "            <Unicode>ba 1. 2 st i ställes egde stemman</Unicode>\n",
      "        </TextEquiv>\n",
      "                        <PredScore pred_score=\"0.7093\"/>\n",
      "            </TextLine>\n",
      "    <TextLine id=\"line_region_2_15\" custom=\"readingOrder {index:15;}\">\n",
      "                <Coords points=\"2212,726 2204,716 2186,712 2055,725 1666,722 1629,729 1603,750 1659,766 1850,756 2159,755 2200,748\"/>\n",
      "                                <TextEquiv>\n",
      "            <Unicode>29 sistlidne Juni genom upsted</Unicode>\n",
      "        </TextEquiv>\n",
      "                        <PredScore pred_score=\"0.9179\"/>\n",
      "            </TextLine>\n",
      "    <TextLine id=\"line_region_2_16\" custom=\"readingOrder {index:16;}\">\n",
      "                <Coords points=\"2213,769 2202,746 2061,762 1993,757 1934,762 1850,759 1809,769 1611,773 1606,776 1605,796 1705,803 1750,798 1853,801 2018,789 2199,786\"/>\n",
      "                                <TextEquiv>\n",
      "            <Unicode>ustgören och Garfvaren Herr</Unicode>\n",
      "        </TextEquiv>\n",
      "                        <PredScore pred_score=\"0.8814\"/>\n",
      "            </TextLine>\n",
      "    <TextLine id=\"line_region_2_17\" custom=\"readingOrder {index:17;}\">\n",
      "                <Coords points=\"2218,844 2212,827 2199,822 2155,838 2109,841 1966,836 1714,846 1662,870 1709,881 1790,886 1987,874 2089,875 2202,867 2211,861\"/>\n",
      "                                <TextEquiv>\n",
      "            <Unicode>rades /1100/. Riksdaler Banco jemte</Unicode>\n",
      "        </TextEquiv>\n",
      "                        <PredScore pred_score=\"0.9301\"/>\n",
      "            </TextLine>\n",
      "    <TextLine id=\"line_region_2_18\" custom=\"readingOrder {index:18;}\">\n",
      "                <Coords points=\"2185,887 2182,871 2172,869 2084,883 2019,887 1831,886 1780,896 1726,891 1679,914 1727,929 2102,919 2174,907\"/>\n",
      "                                <TextEquiv>\n",
      "            <Unicode>Assessori Jordels Contract ett</Unicode>\n",
      "        </TextEquiv>\n",
      "                        <PredScore pred_score=\"0.8054\"/>\n",
      "            </TextLine>\n",
      "    <TextLine id=\"line_region_2_19\" custom=\"readingOrder {index:19;}\">\n",
      "                <Coords points=\"1280,961 1304,966 1754,965 1804,961 1805,941 1762,936 1307,935 1282,938\"/>\n",
      "                                <TextEquiv>\n",
      "            <Unicode>och och och bonde Potatis ett ett</Unicode>\n",
      "        </TextEquiv>\n",
      "                        <PredScore pred_score=\"0.6642\"/>\n",
      "            </TextLine>\n",
      "    <TextLine id=\"line_region_2_20\" custom=\"readingOrder {index:20;}\">\n",
      "                <Coords points=\"2203,917 2151,913 2110,922 2055,921 1921,934 1790,933 1705,941 1732,963 1915,966 1981,955 2179,944 2194,937\"/>\n",
      "                                <TextEquiv>\n",
      "            <Unicode>att närmare omförmäler</Unicode>\n",
      "        </TextEquiv>\n",
      "                        <PredScore pred_score=\"0.9265\"/>\n",
      "            </TextLine>\n",
      "    <TextLine id=\"line_region_2_21\" custom=\"readingOrder {index:21;}\">\n",
      "                <Coords points=\"1279,991 1282,1007 1290,1009 1411,1001 1732,1001 1778,996 1806,985 1771,977 1593,976 1565,972 1389,976 1329,972 1287,977\"/>\n",
      "                                <TextEquiv>\n",
      "            <Unicode>Och medan denna inropas</Unicode>\n",
      "        </TextEquiv>\n",
      "                        <PredScore pred_score=\"0.8801\"/>\n",
      "            </TextLine>\n",
      "    <TextLine id=\"line_region_2_22\" custom=\"readingOrder {index:22;}\">\n",
      "                <Coords points=\"2184,961 2176,950 2132,958 2035,957 1989,967 1886,973 1775,971 1731,975 1715,988 1721,997 1736,1003 1840,999 2000,1001 2080,991 2167,988 2179,981\"/>\n",
      "                                <TextEquiv>\n",
      "            <Unicode>kopssumma /1100/ R. B onde</Unicode>\n",
      "        </TextEquiv>\n",
      "                        <PredScore pred_score=\"0.7871\"/>\n",
      "            </TextLine>\n",
      "    <TextLine id=\"line_region_2_23\" custom=\"readingOrder {index:23;}\">\n",
      "                <Coords points=\"2184,1011 2146,1001 1827,1018 1283,1025 1279,1037 1293,1049 2082,1036 2167,1030\"/>\n",
      "                                <TextEquiv>\n",
      "            <Unicode>af kejteren blifvit till oförstäld fem kommit</Unicode>\n",
      "        </TextEquiv>\n",
      "                        <PredScore pred_score=\"0.8325\"/>\n",
      "            </TextLine>\n",
      "    <TextLine id=\"line_region_2_24\" custom=\"readingOrder {index:24;}\">\n",
      "                <Coords points=\"2207,1058 2199,1048 2149,1035 1873,1051 1310,1058 1286,1067 1282,1082 1286,1092 1350,1083 1884,1083 2006,1072 2200,1068\"/>\n",
      "                                <TextEquiv>\n",
      "            <Unicode>qvitta uti Sy förklaras Skolstapben Hållqvist</Unicode>\n",
      "        </TextEquiv>\n",
      "                        <PredScore pred_score=\"0.8399\"/>\n",
      "            </TextLine>\n",
      "    <TextLine id=\"line_region_2_25\" custom=\"readingOrder {index:25;}\">\n",
      "                <Coords points=\"2169,1082 2155,1074 1646,1096 1395,1095 1287,1103 1285,1127 1302,1116 1372,1129 1971,1118 2157,1106\"/>\n",
      "                                <TextEquiv>\n",
      "            <Unicode>ägo hustru Darn och arfvingen för dött o¬</Unicode>\n",
      "        </TextEquiv>\n",
      "                        <PredScore pred_score=\"0.8934\"/>\n",
      "            </TextLine>\n",
      "    <TextLine id=\"line_region_2_26\" custom=\"readingOrder {index:26;}\">\n",
      "                <Coords points=\"2209,1127 2125,1113 1618,1137 1303,1137 1284,1143 1282,1161 1288,1171 2065,1153 2172,1142\"/>\n",
      "                                <TextEquiv>\n",
      "            <Unicode>egare af 1/8 dels ett Herr af Jord berörde Rörja</Unicode>\n",
      "        </TextEquiv>\n",
      "                        <PredScore pred_score=\"0.8243\"/>\n",
      "            </TextLine>\n",
      "    <TextLine id=\"line_region_2_27\" custom=\"readingOrder {index:27;}\">\n",
      "                <Coords points=\"2203,1173 2186,1160 2147,1153 1874,1167 1286,1176 1276,1198 1283,1204 1918,1202 1993,1191 2107,1190\"/>\n",
      "                                <TextEquiv>\n",
      "            <Unicode>med att hvad dertill höra eller hädanefter</Unicode>\n",
      "        </TextEquiv>\n",
      "                        <PredScore pred_score=\"0.9057\"/>\n",
      "            </TextLine>\n",
      "    <TextLine id=\"line_region_2_28\" custom=\"readingOrder {index:28;}\">\n",
      "                <Coords points=\"2183,1199 1286,1210 1275,1224 1286,1237 1898,1233 2122,1223\"/>\n",
      "                                <TextEquiv>\n",
      "            <Unicode>lagligen tillvinnaskan, att genast der af var</Unicode>\n",
      "        </TextEquiv>\n",
      "                        <PredScore pred_score=\"0.9006\"/>\n",
      "            </TextLine>\n",
      "    <TextLine id=\"line_region_2_29\" custom=\"readingOrder {index:29;}\">\n",
      "                <Coords points=\"2187,1246 2155,1232 1922,1241 1395,1243 1286,1251 1277,1268 1283,1275 1959,1271 2151,1262\"/>\n",
      "                                <TextEquiv>\n",
      "            <Unicode>styra och råda såsom dess brifingna egendom</Unicode>\n",
      "        </TextEquiv>\n",
      "                        <PredScore pred_score=\"0.9323\"/>\n",
      "            </TextLine>\n",
      "    <TextLine id=\"line_region_2_30\" custom=\"readingOrder {index:30;}\">\n",
      "                <Coords points=\"2190,1289 2184,1270 1962,1278 1306,1281 1276,1293 1286,1304 1824,1306\"/>\n",
      "                                <TextEquiv>\n",
      "            <Unicode>Mudlange socken och Madje den 25 Januarii 186.</Unicode>\n",
      "        </TextEquiv>\n",
      "                        <PredScore pred_score=\"0.8692\"/>\n",
      "            </TextLine>\n",
      "    <TextLine id=\"line_region_2_31\" custom=\"readingOrder {index:31;}\">\n",
      "                <Coords points=\"2195,1336 2187,1318 2025,1308 1283,1317 1280,1338 1305,1344 1753,1344\"/>\n",
      "                                <TextEquiv>\n",
      "            <Unicode>Eric Olsson i Etkin varfogsåsom omkring förrätta Tillion</Unicode>\n",
      "        </TextEquiv>\n",
      "                        <PredScore pred_score=\"0.834\"/>\n",
      "            </TextLine>\n",
      "    <TextLine id=\"line_region_2_32\" custom=\"readingOrder {index:32;}\">\n",
      "                <Coords points=\"2198,1337 2179,1328 1293,1341 1275,1361 1284,1367 1956,1366 2150,1356 2186,1349\"/>\n",
      "                                <TextEquiv>\n",
      "            <Unicode>sätts uti densam och alofl samt Persson lägger Rädje dotter</Unicode>\n",
      "        </TextEquiv>\n",
      "                        <PredScore pred_score=\"0.8396\"/>\n",
      "            </TextLine>\n",
      "    <TextLine id=\"line_region_2_33\" custom=\"readingOrder {index:33;}\">\n",
      "                <Coords points=\"2167,1384 2160,1364 2146,1359 2023,1357 1855,1368 1284,1374 1271,1390 1283,1401 1453,1408 2152,1391\"/>\n",
      "                                <TextEquiv>\n",
      "            <Unicode>Bevittnat af Is, Johansson i Ned 1/3 i Edbolande</Unicode>\n",
      "        </TextEquiv>\n",
      "                        <PredScore pred_score=\"0.7663\"/>\n",
      "            </TextLine>\n",
      "    <TextLine id=\"line_region_2_34\" custom=\"readingOrder {index:34;}\">\n",
      "                <Coords points=\"2221,1406 2216,1388 2202,1381 1926,1398 1279,1409 1269,1435 1282,1448 1464,1440 1616,1447 1693,1438 2204,1431\"/>\n",
      "                                <TextEquiv>\n",
      "            <Unicode>hvilket upbörde; Och som till styrke för Anders Olssons</Unicode>\n",
      "        </TextEquiv>\n",
      "                        <PredScore pred_score=\"0.9518\"/>\n",
      "            </TextLine>\n",
      "    <TextLine id=\"line_region_2_35\" custom=\"readingOrder {index:35;}\">\n",
      "                <Coords points=\"2218,1475 2197,1449 2033,1447 1284,1463 1272,1482 1290,1500 2066,1481 2204,1487\"/>\n",
      "                                <TextEquiv>\n",
      "            <Unicode>och hans hustru ågånderätt till försålde fastigheten företeddes</Unicode>\n",
      "        </TextEquiv>\n",
      "                        <PredScore pred_score=\"0.9732\"/>\n",
      "            </TextLine>\n",
      "    <TextLine id=\"line_region_2_36\" custom=\"readingOrder {index:36;}\">\n",
      "                <Coords points=\"2214,1525 2211,1505 2200,1499 1285,1516 1268,1530 1271,1549 1281,1554 2050,1539\"/>\n",
      "                                <TextEquiv>\n",
      "            <Unicode>en den 6. Nov. 1833 uprättad boupteckning efter af¬</Unicode>\n",
      "        </TextEquiv>\n",
      "                        <PredScore pred_score=\"0.9552\"/>\n",
      "            </TextLine>\n",
      "    <TextLine id=\"line_region_2_37\" custom=\"readingOrder {index:37;}\">\n",
      "                <Coords points=\"2201,1568 2192,1552 1281,1573 1267,1597 1281,1611 1925,1598 2196,1582\"/>\n",
      "                                <TextEquiv>\n",
      "            <Unicode>Nämndemannen Olof Erssons i Rädje jemväl aflidna</Unicode>\n",
      "        </TextEquiv>\n",
      "                        <PredScore pred_score=\"0.9801\"/>\n",
      "            </TextLine>\n",
      "    <TextLine id=\"line_region_2_38\" custom=\"readingOrder {index:38;}\">\n",
      "                <Coords points=\"2233,1621 2212,1613 1281,1630 1268,1651 1271,1666 1283,1671 2225,1647\"/>\n",
      "                                <TextEquiv>\n",
      "            <Unicode>hustru Brita Andersdotter, uptagande Oland tillgångnen</Unicode>\n",
      "        </TextEquiv>\n",
      "                        <PredScore pred_score=\"0.9918\"/>\n",
      "            </TextLine>\n",
      "    <TextLine id=\"line_region_2_39\" custom=\"readingOrder {index:39;}\">\n",
      "                <Coords points=\"2232,1690 2214,1674 1284,1684 1269,1692 1269,1715 1966,1717 2213,1708\"/>\n",
      "                                <TextEquiv>\n",
      "            <Unicode>i bodt 1/4 del mantal om 1. örer - 13 pgr. i ofvan omförmälte</Unicode>\n",
      "        </TextEquiv>\n",
      "                        <PredScore pred_score=\"0.9064\"/>\n",
      "            </TextLine>\n",
      "    <TextLine id=\"line_region_2_40\" custom=\"readingOrder {index:40;}\">\n",
      "                <Coords points=\"2198,1740 2189,1725 2157,1717 1898,1731 1796,1720 1674,1732 1565,1728 1502,1738 1283,1732 1264,1739 1263,1761 1280,1779 1498,1777 1568,1786 1663,1776 1734,1785 1821,1773 1948,1773 2022,1787 2066,1773 2189,1761\"/>\n",
      "                                <TextEquiv>\n",
      "            <Unicode>Kr. Sk. hemman Rödje, och såsom arfvingar je ofvan.</Unicode>\n",
      "        </TextEquiv>\n",
      "                        <PredScore pred_score=\"0.9472\"/>\n",
      "            </TextLine>\n",
      "    <TextLine id=\"line_region_2_41\" custom=\"readingOrder {index:41;}\">\n",
      "                <Coords points=\"2215,1786 2200,1772 2140,1770 2038,1785 1955,1774 1736,1791 1639,1785 1284,1792 1250,1808 1250,1822 1269,1833 1347,1839 2205,1818 2215,1808\"/>\n",
      "                                <TextEquiv>\n",
      "            <Unicode>nämde son Anders Olsson och aflidne sonen Olof Ols¬</Unicode>\n",
      "        </TextEquiv>\n",
      "                        <PredScore pred_score=\"0.989\"/>\n",
      "            </TextLine>\n",
      "    <TextLine id=\"line_region_2_42\" custom=\"readingOrder {index:42;}\">\n",
      "                <Coords points=\"2223,1833 2206,1824 2074,1834 2008,1826 1956,1838 1700,1835 1640,1846 1553,1840 1414,1851 1281,1842 1250,1853 1250,1890 1428,1901 1647,1884 1879,1882 1944,1891 2029,1875 2201,1883 2220,1856\"/>\n",
      "                                <TextEquiv>\n",
      "            <Unicode>sons omyndiga barn, hvadan på den förres lätt så¬</Unicode>\n",
      "        </TextEquiv>\n",
      "                        <PredScore pred_score=\"0.9632\"/>\n",
      "            </TextLine>\n",
      "    <TextLine id=\"line_region_2_43\" custom=\"readingOrder {index:43;}\">\n",
      "                <Coords points=\"2204,1903 2186,1891 2133,1882 1817,1896 1697,1891 1482,1911 1292,1902 1250,1915 1250,1952 1644,1957 1782,1947 1872,1959 1937,1942 2198,1930\"/>\n",
      "                                <TextEquiv>\n",
      "            <Unicode>ledes komme att af fastigheten sig belöpa 1/8 man¬</Unicode>\n",
      "        </TextEquiv>\n",
      "                        <PredScore pred_score=\"0.9809\"/>\n",
      "            </TextLine>\n",
      "    </TextRegion>\n",
      "    <TextRegion id=\"region_3\" custom=\"readingOrder {index:3;}\">\n",
      "        <Coords points=\"1600,57 1599,85 1614,94 1887,96 1932,91 1936,86 1938,59 1934,49 1925,47 1744,46 1612,40 1603,48\"/>\n",
      "    <TextLine id=\"line_region_3_0\" custom=\"readingOrder {index:0;}\">\n",
      "                <Coords points=\"1604,63 1604,90 1612,95 1904,95 1915,91 1920,85 1922,52 1920,46 1839,44 1798,49 1776,43 1750,47 1719,40 1717,43 1700,46 1635,45 1611,53\"/>\n",
      "                                <TextEquiv>\n",
      "            <Unicode>1851. den 29. Januari</Unicode>\n",
      "        </TextEquiv>\n",
      "                        <PredScore pred_score=\"0.9724\"/>\n",
      "            </TextLine>\n",
      "    </TextRegion>\n",
      "    <TextRegion id=\"region_4\" custom=\"readingOrder {index:4;}\">\n",
      "        <Coords points=\"2393,99 2331,107 2315,117 2311,125 2313,159 2304,185 2272,216 2263,237 2240,266 2232,293 2243,370 2243,443 2254,455 2288,457 2308,467 2316,478 2318,511 2324,515 2404,499 2427,471 2478,451 2493,432 2498,410 2491,291 2466,201 2457,189 2428,181 2414,170 2409,158 2417,119 2408,105\"/>\n",
      "    <TextLine id=\"line_region_4_0\" custom=\"readingOrder {index:0;}\">\n",
      "                <Coords points=\"2411,117 2408,114 2401,112 2391,104 2379,103 2377,101 2377,99 2360,99 2358,102 2352,104 2348,109 2343,112 2333,115 2322,121 2319,121 2312,130 2310,144 2311,161 2313,163 2329,163 2340,161 2400,160 2403,157 2407,148 2407,143 2410,134 2409,122\"/>\n",
      "                                <TextEquiv>\n",
      "            <Unicode>SS: 31.</Unicode>\n",
      "        </TextEquiv>\n",
      "                        <PredScore pred_score=\"0.9652\"/>\n",
      "            </TextLine>\n",
      "    <TextLine id=\"line_region_4_1\" custom=\"readingOrder {index:1;}\">\n",
      "                <Coords points=\"2270,220 2269,235 2274,247 2295,251 2305,257 2319,258 2328,262 2341,261 2344,263 2344,267 2360,265 2364,269 2375,268 2386,264 2425,257 2448,255 2458,247 2454,237 2454,210 2447,200 2425,191 2401,189 2373,179 2354,180 2312,190 2304,195 2291,210 2275,214\"/>\n",
      "                                <TextEquiv>\n",
      "            <Unicode>Rödje.</Unicode>\n",
      "        </TextEquiv>\n",
      "                        <PredScore pred_score=\"0.9485\"/>\n",
      "            </TextLine>\n",
      "    <TextLine id=\"line_region_4_2\" custom=\"readingOrder {index:2;}\">\n",
      "                <Coords points=\"2235,276 2236,309 2244,315 2276,310 2305,312 2332,309 2367,313 2465,313 2472,310 2475,305 2475,277 2471,273 2459,270 2427,270 2408,276 2391,277 2370,268 2364,260 2343,260 2326,265 2307,266 2292,264 2276,258 2265,263 2239,267\"/>\n",
      "                                <TextEquiv>\n",
      "            <Unicode>Kopl den 1100.</Unicode>\n",
      "        </TextEquiv>\n",
      "                        <PredScore pred_score=\"0.7764\"/>\n",
      "            </TextLine>\n",
      "    <TextLine id=\"line_region_4_3\" custom=\"readingOrder {index:3;}\">\n",
      "                <Coords points=\"2238,325 2240,345 2248,355 2313,356 2343,350 2353,352 2401,351 2411,354 2474,354 2484,351 2483,320 2479,318 2451,318 2437,314 2394,325 2369,326 2335,319 2298,317 2277,312 2260,316 2250,315 2240,319\"/>\n",
      "                                <TextEquiv>\n",
      "            <Unicode>Eklid 6:12</Unicode>\n",
      "        </TextEquiv>\n",
      "                        <PredScore pred_score=\"0.8439\"/>\n",
      "            </TextLine>\n",
      "    <TextLine id=\"line_region_4_4\" custom=\"readingOrder {index:4;}\">\n",
      "                <Coords points=\"2324,362 2331,377 2323,396 2323,403 2327,407 2362,406 2421,409 2457,418 2495,414 2497,409 2494,365 2475,364 2450,374 2412,373 2407,368 2399,368 2396,377 2390,379 2385,377 2393,370 2394,362 2386,355 2379,355 2373,358 2370,363 2380,367 2375,369 2375,375 2385,377 2363,380 2355,379 2346,371 2329,362\"/>\n",
      "                                <TextEquiv>\n",
      "            <Unicode>värdes bön¬</Unicode>\n",
      "        </TextEquiv>\n",
      "                        <PredScore pred_score=\"0.774\"/>\n",
      "            </TextLine>\n",
      "    <TextLine id=\"line_region_4_5\" custom=\"readingOrder {index:5;}\">\n",
      "                <Coords points=\"2450,419 2419,412 2401,416 2389,416 2355,405 2328,419 2322,418 2312,422 2305,422 2302,419 2303,413 2297,414 2300,418 2297,421 2292,418 2289,420 2282,418 2253,420 2249,425 2247,440 2250,449 2257,453 2300,450 2340,455 2361,452 2392,452 2417,459 2434,459 2440,456 2445,449 2446,436 2442,429\"/>\n",
      "                                <TextEquiv>\n",
      "            <Unicode>en kipek.</Unicode>\n",
      "        </TextEquiv>\n",
      "                        <PredScore pred_score=\"0.6569\"/>\n",
      "            </TextLine>\n",
      "    <TextLine id=\"line_region_4_6\" custom=\"readingOrder {index:6;}\">\n",
      "                <Coords points=\"2408,461 2393,454 2385,453 2376,456 2370,456 2362,458 2359,461 2348,466 2334,466 2329,468 2325,478 2324,500 2322,506 2323,515 2340,515 2342,512 2348,510 2362,509 2373,505 2394,504 2405,502 2411,491 2410,477 2409,476 2410,465\"/>\n",
      "                                <TextEquiv>\n",
      "            <Unicode>44.</Unicode>\n",
      "        </TextEquiv>\n",
      "                        <PredScore pred_score=\"0.8031\"/>\n",
      "            </TextLine>\n",
      "    </TextRegion>\n",
      "    </Page>\n",
      "</PcGts>\n",
      "\n"
     ]
    },
    {
     "ename": "NameError",
     "evalue": "name 'df_trans_explore' is not defined",
     "output_type": "error",
     "traceback": [
      "\u001b[0;31m---------------------------------------------------------------------------\u001b[0m",
      "\u001b[0;31mNameError\u001b[0m                                 Traceback (most recent call last)",
      "Cell \u001b[0;32mIn[11], line 11\u001b[0m\n\u001b[1;32m      9\u001b[0m \u001b[38;5;28mprint\u001b[39m(rendered_xml)  \u001b[38;5;66;03m# For text\u001b[39;00m\n\u001b[1;32m     10\u001b[0m \u001b[38;5;66;03m# or\u001b[39;00m\n\u001b[0;32m---> 11\u001b[0m df_trans_explore\n",
      "\u001b[0;31mNameError\u001b[0m: name 'df_trans_explore' is not defined"
     ]
    }
   ],
   "source": [
    "import matplotlib.pyplot as plt\n",
    "\n",
    "# Assuming `visualize_image_viewer` method returns an image\n",
    "xml_img, text_polygon_dict = pipeline.visualize_xml(image)\n",
    "plt.imshow(xml_img)\n",
    "plt.show()\n",
    "\n",
    "# For displaying dataframes or text\n",
    "print(rendered_xml)  # For text\n",
    "# or\n",
    "df_trans_explore  # Assuming this is a pandas DataFrame, it will be rendered in the output cell\n"
   ]
  },
  {
   "cell_type": "code",
   "execution_count": 13,
   "id": "7f3b957a-bc28-45ae-a66b-a7db5ddc9594",
   "metadata": {},
   "outputs": [
    {
     "name": "stdout",
     "output_type": "stream",
     "text": [
      "   RegionID           LineID  \\\n",
      "0  region_0  line_region_0_0   \n",
      "1  region_1  line_region_1_0   \n",
      "2  region_1  line_region_1_1   \n",
      "3  region_1  line_region_1_2   \n",
      "4  region_1  line_region_1_3   \n",
      "\n",
      "                                         Coordinates  \\\n",
      "0  698,41 702,50 711,50 718,54 1004,55 1011,46 10...   \n",
      "1  409,71 410,92 437,103 580,100 748,113 1074,118...   \n",
      "2  400,132 404,149 417,154 645,152 707,164 782,16...   \n",
      "3  398,219 444,211 526,218 736,209 1140,226 1185,...   \n",
      "4  395,242 397,264 419,272 708,267 778,288 828,27...   \n",
      "\n",
      "                                                Text PredictionScore  \n",
      "0                              1851. den 29. Januari          0.9918  \n",
      "1  15 pgl. uti berörde Uplanda. samt sönerne Olof...          0.9739  \n",
      "2   dels tillhopa 15 sigl. i omförmälde hemman Stock           0.979  \n",
      "3      grund af serskildt derom uprättadt tidamente,          0.9374  \n",
      "4          dels jemte systrarne Greta och Capa, hvar          0.9792  \n"
     ]
    }
   ],
   "source": [
    "import xml.etree.ElementTree as ET\n",
    "import pandas as pd\n",
    "\n",
    "\n",
    "\n",
    "# Parse the XML\n",
    "root = ET.fromstring(rendered_xml)\n",
    "\n",
    "# Namespace required for finding elements\n",
    "ns = {'ns': 'http://schema.primaresearch.org/PAGE/gts/pagecontent/2013-07-15'}\n",
    "\n",
    "# Initialize an empty list to collect data\n",
    "data = []\n",
    "\n",
    "# Iterate through each TextRegion in the XML\n",
    "for text_region in root.findall('.//ns:TextRegion', ns):\n",
    "    region_id = text_region.get('id')\n",
    "    for text_line in text_region.findall('.//ns:TextLine', ns):\n",
    "        line_id = text_line.get('id')\n",
    "        coords = text_line.find('.//ns:Coords', ns).get('points')\n",
    "        unicode_text = text_line.find('.//ns:TextEquiv/ns:Unicode', ns).text\n",
    "        pred_score = text_line.find('.//ns:PredScore', ns).get('pred_score')\n",
    "        \n",
    "        # Append each line's data as a dictionary to the data list\n",
    "        data.append({\n",
    "            'RegionID': region_id,\n",
    "            'LineID': line_id,\n",
    "            'Coordinates': coords,\n",
    "            'Text': unicode_text,\n",
    "            'PredictionScore': pred_score\n",
    "        })\n",
    "\n",
    "# Convert the list of dictionaries into a DataFrame\n",
    "df_trans_explore = pd.DataFrame(data)\n",
    "\n",
    "# Display the DataFrame\n",
    "print(df_trans_explore.head())\n"
   ]
  },
  {
   "cell_type": "code",
   "execution_count": 14,
   "id": "508edb04-05e0-4f5f-bef5-06e70263c551",
   "metadata": {},
   "outputs": [
    {
     "data": {
      "text/html": [
       "<div>\n",
       "<style scoped>\n",
       "    .dataframe tbody tr th:only-of-type {\n",
       "        vertical-align: middle;\n",
       "    }\n",
       "\n",
       "    .dataframe tbody tr th {\n",
       "        vertical-align: top;\n",
       "    }\n",
       "\n",
       "    .dataframe thead th {\n",
       "        text-align: right;\n",
       "    }\n",
       "</style>\n",
       "<table border=\"1\" class=\"dataframe\">\n",
       "  <thead>\n",
       "    <tr style=\"text-align: right;\">\n",
       "      <th></th>\n",
       "      <th>RegionID</th>\n",
       "      <th>LineID</th>\n",
       "      <th>Coordinates</th>\n",
       "      <th>Text</th>\n",
       "      <th>PredictionScore</th>\n",
       "    </tr>\n",
       "  </thead>\n",
       "  <tbody>\n",
       "    <tr>\n",
       "      <th>0</th>\n",
       "      <td>region_0</td>\n",
       "      <td>line_region_0_0</td>\n",
       "      <td>698,41 702,50 711,50 718,54 1004,55 1011,46 10...</td>\n",
       "      <td>1851. den 29. Januari</td>\n",
       "      <td>0.9918</td>\n",
       "    </tr>\n",
       "    <tr>\n",
       "      <th>1</th>\n",
       "      <td>region_1</td>\n",
       "      <td>line_region_1_0</td>\n",
       "      <td>409,71 410,92 437,103 580,100 748,113 1074,118...</td>\n",
       "      <td>15 pgl. uti berörde Uplanda. samt sönerne Olof...</td>\n",
       "      <td>0.9739</td>\n",
       "    </tr>\n",
       "    <tr>\n",
       "      <th>2</th>\n",
       "      <td>region_1</td>\n",
       "      <td>line_region_1_1</td>\n",
       "      <td>400,132 404,149 417,154 645,152 707,164 782,16...</td>\n",
       "      <td>dels tillhopa 15 sigl. i omförmälde hemman Stock</td>\n",
       "      <td>0.979</td>\n",
       "    </tr>\n",
       "    <tr>\n",
       "      <th>3</th>\n",
       "      <td>region_1</td>\n",
       "      <td>line_region_1_2</td>\n",
       "      <td>398,219 444,211 526,218 736,209 1140,226 1185,...</td>\n",
       "      <td>grund af serskildt derom uprättadt tidamente,</td>\n",
       "      <td>0.9374</td>\n",
       "    </tr>\n",
       "    <tr>\n",
       "      <th>4</th>\n",
       "      <td>region_1</td>\n",
       "      <td>line_region_1_3</td>\n",
       "      <td>395,242 397,264 419,272 708,267 778,288 828,27...</td>\n",
       "      <td>dels jemte systrarne Greta och Capa, hvar</td>\n",
       "      <td>0.9792</td>\n",
       "    </tr>\n",
       "  </tbody>\n",
       "</table>\n",
       "</div>"
      ],
      "text/plain": [
       "   RegionID           LineID  \\\n",
       "0  region_0  line_region_0_0   \n",
       "1  region_1  line_region_1_0   \n",
       "2  region_1  line_region_1_1   \n",
       "3  region_1  line_region_1_2   \n",
       "4  region_1  line_region_1_3   \n",
       "\n",
       "                                         Coordinates  \\\n",
       "0  698,41 702,50 711,50 718,54 1004,55 1011,46 10...   \n",
       "1  409,71 410,92 437,103 580,100 748,113 1074,118...   \n",
       "2  400,132 404,149 417,154 645,152 707,164 782,16...   \n",
       "3  398,219 444,211 526,218 736,209 1140,226 1185,...   \n",
       "4  395,242 397,264 419,272 708,267 778,288 828,27...   \n",
       "\n",
       "                                                Text PredictionScore  \n",
       "0                              1851. den 29. Januari          0.9918  \n",
       "1  15 pgl. uti berörde Uplanda. samt sönerne Olof...          0.9739  \n",
       "2   dels tillhopa 15 sigl. i omförmälde hemman Stock           0.979  \n",
       "3      grund af serskildt derom uprättadt tidamente,          0.9374  \n",
       "4          dels jemte systrarne Greta och Capa, hvar          0.9792  "
      ]
     },
     "execution_count": 14,
     "metadata": {},
     "output_type": "execute_result"
    }
   ],
   "source": [
    "df_trans_explore.head()"
   ]
  },
  {
   "cell_type": "code",
   "execution_count": 16,
   "id": "fcc6a14f-07e9-4058-8668-9b6d6e623bd0",
   "metadata": {},
   "outputs": [
    {
     "name": "stdout",
     "output_type": "stream",
     "text": [
      "1851. den 29. Januari 15 pgl. uti berörde Uplanda. samt sönerne Olof och dels tillhopa 15 sigl. i omförmälde hemman Stock grund af serskildt derom uprättadt tidamente, dels jemte systrarne Greta och Capa, hvar 3 5/4 pgl. i Uplanda och 3 3/4 pgl. i Sterta i manen, 7o Ett den 27. i denna månad af Erik ten förmån för ofvanbemälde hans 4. barn, gjordt att varnens närvaro underskrifvet förordnande, igenom han till barnen uplåtit öfverbesagda, ho¬ tillskiftade tillhopa 1 öres - 5 sigs i Uplanda, emot tingad lifstidsfördel, hvadan ock enligt nu före visadt 8o instrument af samma dag hvardera af barnen bekommit 7 1/4. sigl uti oftaberörde hemman Uplanda med Ettenga utjord; varande jemväl detta instrument, uti skiftesmans och vitt¬ na närvaro, utaf vederbörande underskrifvet och godkändt. Enär gen dessa öfver antydde handlingar behöri¬ gen visats säljaren åtkomst till omförmälde, för sälde fastigheter, beslöt Hdiks och Afsade - A dels 11. sig. i Kr St. hem. No 2. Uplanda med tillhörande andel i Ettenga utgörs och 3 3/4. sigl. i Kr st. hem. No 3. Storta, Wähla sn, som Bonden Af Ersson Pehr Carlsson och hans hustru Greta Ersdotter för 533 rd 16 skl och utfärt fördel, sålt till Bonden Olof Ersson och hans hustru Lisa Pehrsdotter, och dels 11 sigl i berörde hemman Uplanda samt 3 1/4. sif. i Sterte, som Erik Ersson i Mångsbo och hans hus¬ tre lagda Endttus, för enahanda köpeskilling, salt till samma Olof Ersson och hans hustru, meddelas be¬ spille Köpare Upbud tillhanda un¬ Första gången C: B: huset till kolla¬ har derför lysade. Undertecknad auctionsförrätten samt fingudan sin vitterhet att sedan Wikto Pall af Härads Rätt medelst Utslag af den 19 sist. Maji, på vederbörande förmyndare ansökning och hafva anmälte från ders tillstyrkan, samtybt till försäljning af Ströms Skatte kanmäki 1 No 1 20 åstandels 18/8 dels mantl om¬ domst. Måras och Westerlan¬ till ege förklarade förre Bonden och dess hustru Hinla Erodotter är oftenfir i gången utlysning ba 1. 2 st i ställes egde stemman 29 sistlidne Juni genom upsted ustgören och Garfvaren Herr rades /1100/. Riksdaler Banco jemte Assessori Jordels Contract ett och och och bonde Potatis ett ett att närmare omförmäler Och medan denna inropas kopssumma /1100/ R. B onde af kejteren blifvit till oförstäld fem kommit qvitta uti Sy förklaras Skolstapben Hållqvist ägo hustru Darn och arfvingen för dött o¬ egare af 1/8 dels ett Herr af Jord berörde Rörja med att hvad dertill höra eller hädanefter lagligen tillvinnaskan, att genast der af var styra och råda såsom dess brifingna egendom Mudlange socken och Madje den 25 Januarii 186. Eric Olsson i Etkin varfogsåsom omkring förrätta Tillion sätts uti densam och alofl samt Persson lägger Rädje dotter Bevittnat af Is, Johansson i Ned 1/3 i Edbolande hvilket upbörde; Och som till styrke för Anders Olssons och hans hustru ågånderätt till försålde fastigheten företeddes en den 6. Nov. 1833 uprättad boupteckning efter af¬ Nämndemannen Olof Erssons i Rädje jemväl aflidna hustru Brita Andersdotter, uptagande Oland tillgångnen i bodt 1/4 del mantal om 1. örer - 13 pgr. i ofvan omförmälte Kr. Sk. hemman Rödje, och såsom arfvingar je ofvan. nämde son Anders Olsson och aflidne sonen Olof Ols¬ sons omyndiga barn, hvadan på den förres lätt så¬ ledes komme att af fastigheten sig belöpa 1/8 man¬ 1851. den 29. Januari SS: 31. Rödje. Kopl den 1100. Eklid 6:12 värdes bön¬ en kipek. 44.\n"
     ]
    }
   ],
   "source": [
    "# Concatenating all the text in the 'Text' column\n",
    "concatenated_text = ' '.join(df_trans_explore['Text'])\n",
    "\n",
    "# Displaying the concatenated text\n",
    "print(concatenated_text)\n"
   ]
  },
  {
   "cell_type": "code",
   "execution_count": 17,
   "id": "207b7f39-6496-4876-aab1-1406055d6baa",
   "metadata": {},
   "outputs": [
    {
     "name": "stdout",
     "output_type": "stream",
     "text": [
      "   RegionID RegionOrder           LineID LineOrder  \\\n",
      "0  region_0           0  line_region_0_0         0   \n",
      "1  region_1           1  line_region_1_0         0   \n",
      "2  region_1           1  line_region_1_1         1   \n",
      "3  region_1           1  line_region_1_2         2   \n",
      "4  region_1           1  line_region_1_3         3   \n",
      "\n",
      "                                         Coordinates  \\\n",
      "0  698,41 702,50 711,50 718,54 1004,55 1011,46 10...   \n",
      "1  409,71 410,92 437,103 580,100 748,113 1074,118...   \n",
      "2  400,132 404,149 417,154 645,152 707,164 782,16...   \n",
      "3  398,219 444,211 526,218 736,209 1140,226 1185,...   \n",
      "4  395,242 397,264 419,272 708,267 778,288 828,27...   \n",
      "\n",
      "                                                Text PredScore  \n",
      "0                              1851. den 29. Januari    0.9918  \n",
      "1  15 pgl. uti berörde Uplanda. samt sönerne Olof...    0.9739  \n",
      "2   dels tillhopa 15 sigl. i omförmälde hemman Stock     0.979  \n",
      "3      grund af serskildt derom uprättadt tidamente,    0.9374  \n",
      "4          dels jemte systrarne Greta och Capa, hvar    0.9792  \n"
     ]
    }
   ],
   "source": [
    "import pandas as pd\n",
    "import xml.etree.ElementTree as ET\n",
    "from io import StringIO\n",
    "\n",
    "# Your XML data\n",
    "\n",
    "\n",
    "# Parse the XML\n",
    "# Adjust namespace if needed based on your XML's xmlns\n",
    "namespaces = {'ns': 'http://schema.primaresearch.org/PAGE/gts/pagecontent/2013-07-15'}\n",
    "root = ET.parse(StringIO(rendered_xml)).getroot()\n",
    "\n",
    "# List to hold extracted data\n",
    "data = []\n",
    "\n",
    "# Iterate through each TextRegion and TextLine\n",
    "for text_region in root.findall('.//ns:TextRegion', namespaces):\n",
    "    region_id = text_region.get('id')\n",
    "    region_order = text_region.get('custom', '').split('{index:')[-1].rstrip(';}')\n",
    "    for text_line in text_region.findall('.//ns:TextLine', namespaces):\n",
    "        line_id = text_line.get('id')\n",
    "        line_order = text_line.get('custom', '').split('{index:')[-1].rstrip(';}')\n",
    "        coords = text_line.find('.//ns:Coords', namespaces).get('points')\n",
    "        unicode_text = text_line.find('.//ns:TextEquiv/ns:Unicode', namespaces).text\n",
    "        pred_score = text_line.find('.//ns:PredScore', namespaces).get('pred_score') if text_line.find('.//ns:PredScore', namespaces) is not None else None\n",
    "\n",
    "        # Append data\n",
    "        data.append([region_id, region_order, line_id, line_order, coords, unicode_text, pred_score])\n",
    "\n",
    "# Create DataFrame\n",
    "columns = ['RegionID', 'RegionOrder', 'LineID', 'LineOrder', 'Coordinates', 'Text', 'PredScore']\n",
    "df = pd.DataFrame(data, columns=columns)\n",
    "\n",
    "# Show the DataFrame\n",
    "print(df.head())  # or use df to work with the full DataFrame\n"
   ]
  },
  {
   "cell_type": "code",
   "execution_count": 18,
   "id": "aaf90661-fb52-4485-b41d-28efbd5fdc2d",
   "metadata": {},
   "outputs": [
    {
     "data": {
      "text/html": [
       "<div>\n",
       "<style scoped>\n",
       "    .dataframe tbody tr th:only-of-type {\n",
       "        vertical-align: middle;\n",
       "    }\n",
       "\n",
       "    .dataframe tbody tr th {\n",
       "        vertical-align: top;\n",
       "    }\n",
       "\n",
       "    .dataframe thead th {\n",
       "        text-align: right;\n",
       "    }\n",
       "</style>\n",
       "<table border=\"1\" class=\"dataframe\">\n",
       "  <thead>\n",
       "    <tr style=\"text-align: right;\">\n",
       "      <th></th>\n",
       "      <th>RegionID</th>\n",
       "      <th>RegionOrder</th>\n",
       "      <th>LineID</th>\n",
       "      <th>LineOrder</th>\n",
       "      <th>Coordinates</th>\n",
       "      <th>Text</th>\n",
       "      <th>PredScore</th>\n",
       "    </tr>\n",
       "  </thead>\n",
       "  <tbody>\n",
       "    <tr>\n",
       "      <th>0</th>\n",
       "      <td>region_0</td>\n",
       "      <td>0</td>\n",
       "      <td>line_region_0_0</td>\n",
       "      <td>0</td>\n",
       "      <td>698,41 702,50 711,50 718,54 1004,55 1011,46 10...</td>\n",
       "      <td>1851. den 29. Januari</td>\n",
       "      <td>0.9918</td>\n",
       "    </tr>\n",
       "    <tr>\n",
       "      <th>1</th>\n",
       "      <td>region_1</td>\n",
       "      <td>1</td>\n",
       "      <td>line_region_1_0</td>\n",
       "      <td>0</td>\n",
       "      <td>409,71 410,92 437,103 580,100 748,113 1074,118...</td>\n",
       "      <td>15 pgl. uti berörde Uplanda. samt sönerne Olof...</td>\n",
       "      <td>0.9739</td>\n",
       "    </tr>\n",
       "    <tr>\n",
       "      <th>2</th>\n",
       "      <td>region_1</td>\n",
       "      <td>1</td>\n",
       "      <td>line_region_1_1</td>\n",
       "      <td>1</td>\n",
       "      <td>400,132 404,149 417,154 645,152 707,164 782,16...</td>\n",
       "      <td>dels tillhopa 15 sigl. i omförmälde hemman Stock</td>\n",
       "      <td>0.979</td>\n",
       "    </tr>\n",
       "    <tr>\n",
       "      <th>3</th>\n",
       "      <td>region_1</td>\n",
       "      <td>1</td>\n",
       "      <td>line_region_1_2</td>\n",
       "      <td>2</td>\n",
       "      <td>398,219 444,211 526,218 736,209 1140,226 1185,...</td>\n",
       "      <td>grund af serskildt derom uprättadt tidamente,</td>\n",
       "      <td>0.9374</td>\n",
       "    </tr>\n",
       "    <tr>\n",
       "      <th>4</th>\n",
       "      <td>region_1</td>\n",
       "      <td>1</td>\n",
       "      <td>line_region_1_3</td>\n",
       "      <td>3</td>\n",
       "      <td>395,242 397,264 419,272 708,267 778,288 828,27...</td>\n",
       "      <td>dels jemte systrarne Greta och Capa, hvar</td>\n",
       "      <td>0.9792</td>\n",
       "    </tr>\n",
       "  </tbody>\n",
       "</table>\n",
       "</div>"
      ],
      "text/plain": [
       "   RegionID RegionOrder           LineID LineOrder  \\\n",
       "0  region_0           0  line_region_0_0         0   \n",
       "1  region_1           1  line_region_1_0         0   \n",
       "2  region_1           1  line_region_1_1         1   \n",
       "3  region_1           1  line_region_1_2         2   \n",
       "4  region_1           1  line_region_1_3         3   \n",
       "\n",
       "                                         Coordinates  \\\n",
       "0  698,41 702,50 711,50 718,54 1004,55 1011,46 10...   \n",
       "1  409,71 410,92 437,103 580,100 748,113 1074,118...   \n",
       "2  400,132 404,149 417,154 645,152 707,164 782,16...   \n",
       "3  398,219 444,211 526,218 736,209 1140,226 1185,...   \n",
       "4  395,242 397,264 419,272 708,267 778,288 828,27...   \n",
       "\n",
       "                                                Text PredScore  \n",
       "0                              1851. den 29. Januari    0.9918  \n",
       "1  15 pgl. uti berörde Uplanda. samt sönerne Olof...    0.9739  \n",
       "2   dels tillhopa 15 sigl. i omförmälde hemman Stock     0.979  \n",
       "3      grund af serskildt derom uprättadt tidamente,    0.9374  \n",
       "4          dels jemte systrarne Greta och Capa, hvar    0.9792  "
      ]
     },
     "execution_count": 18,
     "metadata": {},
     "output_type": "execute_result"
    }
   ],
   "source": [
    "df.head()"
   ]
  },
  {
   "cell_type": "code",
   "execution_count": 19,
   "id": "437b4ad5-5873-49ce-95ca-f3699f2b5b72",
   "metadata": {},
   "outputs": [
    {
     "data": {
      "text/plain": [
       "0     0\n",
       "1     0\n",
       "2     1\n",
       "3     2\n",
       "4     3\n",
       "     ..\n",
       "81    2\n",
       "82    3\n",
       "83    4\n",
       "84    5\n",
       "85    6\n",
       "Name: LineOrder, Length: 86, dtype: object"
      ]
     },
     "execution_count": 19,
     "metadata": {},
     "output_type": "execute_result"
    }
   ],
   "source": [
    "df['LineOrder']"
   ]
  },
  {
   "cell_type": "code",
   "execution_count": null,
   "id": "d2455671-a4e6-401a-86f0-b944ba7296ad",
   "metadata": {},
   "outputs": [],
   "source": []
  }
 ],
 "metadata": {
  "kernelspec": {
   "display_name": "Python 3 (ipykernel)",
   "language": "python",
   "name": "python3"
  },
  "language_info": {
   "codemirror_mode": {
    "name": "ipython",
    "version": 3
   },
   "file_extension": ".py",
   "mimetype": "text/x-python",
   "name": "python",
   "nbconvert_exporter": "python",
   "pygments_lexer": "ipython3",
   "version": "3.8.18"
  }
 },
 "nbformat": 4,
 "nbformat_minor": 5
}
