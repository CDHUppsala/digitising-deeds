{
 "cells": [
  {
   "cell_type": "code",
   "execution_count": 1,
   "id": "67267dd0",
   "metadata": {},
   "outputs": [],
   "source": [
    "import transformers\n",
    "import accelerate\n",
    "import torch\n",
    "import flash_attn"
   ]
  },
  {
   "cell_type": "code",
   "execution_count": 2,
   "id": "16d3e119",
   "metadata": {},
   "outputs": [],
   "source": [
    "import pandas as pd\n",
    "import numpy as np\n",
    "import json"
   ]
  },
  {
   "cell_type": "code",
   "execution_count": 3,
   "id": "4f2ff332",
   "metadata": {},
   "outputs": [
    {
     "name": "stderr",
     "output_type": "stream",
     "text": [
      "The model was loaded with use_flash_attention_2=True, which is deprecated and may be removed in a future release. Please use `attn_implementation=\"flash_attention_2\"` instead.\n"
     ]
    },
    {
     "data": {
      "application/vnd.jupyter.widget-view+json": {
       "model_id": "bc33c6dceb6f4bfbb239b7e6ce931905",
       "version_major": 2,
       "version_minor": 0
      },
      "text/plain": [
       "Loading checkpoint shards:   0%|          | 0/19 [00:00<?, ?it/s]"
      ]
     },
     "metadata": {},
     "output_type": "display_data"
    }
   ],
   "source": [
    "tokenizer = transformers.AutoTokenizer.from_pretrained(\"mistralai/Mixtral-8x7B-Instruct-v0.1\", padding_side=\"left\")\n",
    "model = transformers.AutoModelForCausalLM.from_pretrained(\"mistralai/Mixtral-8x7B-Instruct-v0.1\", device_map=\"auto\",\n",
    "            load_in_4bit=True,\n",
    "            bnb_4bit_compute_dtype=torch.float16,\n",
    "            torch_dtype=torch.bfloat16,\n",
    "            # NOTE: FlashAttention 2 for Mistral has been enabled in the latest transformers-release\n",
    "            use_flash_attention_2=True)\n"
   ]
  },
  {
   "cell_type": "code",
   "execution_count": 4,
   "id": "97e0e752",
   "metadata": {},
   "outputs": [],
   "source": [
    "def generate_response(prompt, temp, top_p):\n",
    "    input_ids = tokenizer(prompt, return_tensors=\"pt\").input_ids.to('cuda')\n",
    "    outputs = model.generate(\n",
    "        input_ids,\n",
    "        max_length=30000,\n",
    "        pad_token_id=tokenizer.pad_token_id,\n",
    "        eos_token_id=tokenizer.eos_token_id,\n",
    "        temperature = temp,\n",
    "        top_p = top_p,\n",
    "        do_sample = True,\n",
    "    )\n",
    "    response_ids = outputs[0]\n",
    "    response_text = tokenizer.decode(response_ids, skip_special_tokens=True)\n",
    "    return response_text\n"
   ]
  },
  {
   "cell_type": "code",
   "execution_count": 25,
   "id": "bb506176",
   "metadata": {},
   "outputs": [],
   "source": [
    "system_prompt=\"\"\"Hej, jag behöver din hjälp för att extrahera specifik information från en svensk text. Ditt arbete är mycket viktigt för min karriär. Var noggrann och ge endast information som finns tydligt i texten. Om du är osäker på något, eller om informationen inte finns i texten, är det bättre att inte ge ett svar för den specifika punkten. Här är de fält jag behöver information om:\n",
    "År-månad-dag: Identifiera datumet i formatet år-månad-dag.\n",
    "Län: Namnet på länet.\n",
    "Härad: Namnet på häradet.\n",
    "Socken: Namnet på socknen.\n",
    "By: Namnet på byn.\n",
    "Jordnatur: Typ av jord eller mark.\n",
    "Mantal: Information om mantal.\n",
    "Örestal: Antal öre.\n",
    "Penningland: Information om penningland.\n",
    "Riksdaler: Antal riksdaler.\n",
    "Öre: Antal öre.\n",
    "Skilling: Antal skilling.\n",
    "Runstycken: Information om runstycken.\n",
    "Valuta: Typ av valuta som används.\n",
    "Säljare-manlig: Namn på manliga säljare.\n",
    "Säljare-kvinnlig: Namn på kvinnliga säljare.\n",
    "Köpare-manlig: Namn på manliga köpare.\n",
    "Köpare-kvinnlig: Namn på kvinnliga köpare.\n",
    "Köpare-yrke: Yrke hos köparen.\n",
    "Relation mellan säljare och köpare: Beskriv relationen om den nämns.\n",
    "Köpare från: Ursprungsort eller plats för köparen.\n",
    "Fördel: Information om någon fördel eller specifik detalj.\n",
    "Auktion: Information om auktion om det nämns.\n",
    "\n",
    "Extrahera informationen för varje fält och presentera den tydligt i JSON-format och alla ord som motsvarar siffror ska omvandlas till siffror.\"\"\"\n",
    "\n",
    "user_prompt = \"\"\"Extrahera informationen för varje fält och presentera den tydligt i JSON-format. 'Jag undertecknad uplåter och försäljer med min kära hustru ja och samtycke till Johan Hedström i Ståltorp Sura Socken min ägande 1/6 mantal Ett öre åtta penningland i Hemmanet no 2 i Sör åll af Wester färnebo Socken Wagnsbro härad och Westmanland län för en öfverenskommen och betingad köpeskilling stor Ett Tusende fem Hundra R Riksgels Sedlar och som jag denna köpeskilling till fullo bekommit hvilket och härmed quitterat, alltså afhänder jag mig och mina arfvingar ofvannämnde 1 öre 8 penningland, och tillegne desamma bemälte Johan Hedström och deras arfvingar att erlösadeliga äga och disponera som all annan des wälfångna egendom förbindande jag mig till Himmel efter lag, Sör åll den 17 november 1860. Per P. Wrettström Anna /bom/ Persdotter.'\n",
    "Att Per Wrettström och hustru egenhändigt undertek sina bomärken intygas på en gång närvarande vittnen P. Pehrsson Sör Gerdsbo Lars Grönlund på Sunnett.'\"\"\""
   ]
  },
  {
   "cell_type": "code",
   "execution_count": 5,
   "id": "902a494f",
   "metadata": {},
   "outputs": [],
   "source": [
    "system_prompt=\"\"\"Hej, jag behöver din hjälp för att extrahera specifik information från en svensk text. ditt arbete är mycket viktigt för min karriär. Var noggrann och ge endast information som finns tydligt i texten. Om du är osäker på något, eller om informationen inte finns i texten, är det bättre att inte ge ett svar för den specifika punkten. Här är de fält jag behöver information om:\n",
    "\n",
    "År-månad-dag: Identifiera datumet i formatet år-månad-dag.\n",
    "\n",
    "Län: Namnet på länet.\n",
    "\n",
    "Härad: Namnet på häradet.\n",
    "\n",
    "Socken: Namnet på socknen den församling där transaktionsjorden är bosatt.\n",
    "\n",
    "By: Namnet på byn.\n",
    "\n",
    "Jordnatur: Typ av jord eller mark.\n",
    "\n",
    "Nummer: Numret på gården.\n",
    "\n",
    "Mantal: Antal mantal.\n",
    "\n",
    "Örestal: Antal örestal.\n",
    "\n",
    "Penningland: Antal penningland.\n",
    "\n",
    "Riksdaler: Antal riksdaler.\n",
    "\n",
    "Öre: Antal öre.\n",
    "\n",
    "Skilling: Antal skilling.\n",
    "\n",
    "Runstycken: antal runstycken.\n",
    "\n",
    "Valuta: Typ av valuta som används.\n",
    "\n",
    "Säljare-manlig: Namn på manliga säljare.\n",
    "\n",
    "Säljare-kvinnlig: Namn på kvinnliga säljare.\n",
    "\n",
    "Köpare-manlig: Namn på manliga köpare.\n",
    "\n",
    "Köpare-kvinnlig: Namn på kvinnliga köpare.\n",
    "\n",
    "Köpare-yrke: Yrke hos köparen.\n",
    "\n",
    "Relation mellan säljare och köpare: Beskriv relationen om den nämns.\n",
    "\n",
    "Köpare från: Ursprungsort eller plats för köparen.\n",
    "\n",
    "Fördel: Information om kontraktet inkluderar fördel.\n",
    "\n",
    "Auktion: Information om auktion används och i så fall om det det var exekutiv eller frivillig auktion om det nämns.\n",
    "\n",
    "Extrahera informationen för varje fält och presentera den tydligt i JSON-format.\"\"\"\n",
    "\n",
    "user_prompt = \"\"\"Extrahera informationen för varje fält och presentera den tydligt i JSON-format. 'Jag undertecknad uplåter och försäljer med min kära hustru ja och samtycke till Johan Hedström i Ståltorp Sura Socken min ägande 1/6 mantal Ett öre åtta penningland i Hemmanet no 2 i Sör åll af Wester färnebo Socken Wagnsbro härad och Westmanland län för en öfverenskommen och betingad köpeskilling stor Ett Tusende fem Hundra R Riksgels Sedlar och som jag denna köpeskilling till fullo bekommit hvilket och härmed quitterat, alltså afhänder jag mig och mina arfvingar ofvannämnde 1 öre 8 penningland, och tillegne desamma bemälte Johan Hedström och deras arfvingar att erlösadeliga äga och disponera som all annan des wälfångna egendom förbindande jag mig till Himmel efter lag, Sör åll den 17 november 1860. Per P. Wrettström Anna /bom/ Persdotter.'\n",
    "Att Per Wrettström och hustru egenhändigt undertek sina bomärken intygas på en gång närvarande vittnen P. Pehrsson Sör Gerdsbo Lars Grönlund på Sunnett.'\"\"\""
   ]
  },
  {
   "cell_type": "code",
   "execution_count": 17,
   "id": "c547cf27",
   "metadata": {},
   "outputs": [],
   "source": [
    "system_prompt = \"You are an expert at extracting information from ocr-ed swedish land deeds sales data. You read and understand Swedish text given to you. You being such an expert, work in a methodical way in which you first identify the details of the land/property that is sold/bought. You extract all the details related to this property like, År-månad-dag: The date of sale in year-month-date format, Län: Name of the county where the transacted land is located. Härad: The precinct in which the transacted land is located, Nummer: The number(in the address) of the land that is transacted, By: The village in which the transacted land is located, Socken: The Parish in which the transacted land is located, Jordnatur: The type of the land that is transacted, Mantal: The number of Mantals of the land that is transacted, Örestal: The number of Örestals of the land that is transacted, Penningland: How many Penninglands of the land is transacted, Riksdaler: How many Riksdaler were transacted for the sale, Öre: How many Öre were transacted for the sale, Skilling: How many Skilling were transacted for the sale, Runstycken: How many Runstycken were part of the transaction, Valuta: The type of currency in which the transaction took place, Säljare-manlig: The names of the male-sellers involved in the transaction, Säljare-kvinnlig: The names of the female-sellers involved in the transaction, Köpare-manlig: The names of the male-buyers involved in the transaction, Köpare-kvinnlig: The names of the female buyers involved in the transaction, Köpare-yrke: The occupation of the buyer involved in the transaction, Relation mellan säljare och köpare: The relationship between the seller and the buyer, Köpare från: The name of the place where the buyer hails from, Fördel: Information about the Fördel, Auktion: Information about the auction is used and, if so, whether it was an exekutiv or frivillig auction if it is mentioned. Övrig: Information other than the fields mentioned before identified. Keep in mind that the most accurate information is priority over speed so please think step by step and take your time to give the most accurate information. Also, for some transactions some fields might be empty. Also give the information in JSON format always.\""
   ]
  },
  {
   "cell_type": "code",
   "execution_count": 18,
   "id": "46f2e35f",
   "metadata": {},
   "outputs": [],
   "source": [
    "sys_response1 = \"Hi! I extract various information from Swedish land sales deeds. How may I help you today?\""
   ]
  },
  {
   "cell_type": "code",
   "execution_count": 19,
   "id": "43f8e124",
   "metadata": {},
   "outputs": [],
   "source": [
    "pre_prompt = \"Extract all the information from the following text, Your work is very important to my career. Make sure the information is precise and accurate. Text: \"\n"
   ]
  },
  {
   "cell_type": "code",
   "execution_count": null,
   "id": "9799a17c",
   "metadata": {},
   "outputs": [],
   "source": [
    "'''messages = [\n",
    "    {\"role\": \"user\", \"content\": \"You are an expert at extracting information from ocr-ed swedish land deeds sales data. You read and understand Swedish text given to you. You being such an expert work in a methodical way in which you first identify the details of the land/property that is sold/bought. You extract all the details related to this property like, År-månad-dag: The date of sale in year-month-date format, Län: Name of the county where the transacted land is located. Härad: The precinct in which the transacted land is located, Socken: The Parish in which the transacted land is located, By: The village/town/area or place in which the transacted land is located, Jordnatur: The type of the land that is transacted, Nummer: The number(which is found in the address) pertaining the land that is transacted, Mantal: The number of Mantals of the land that is transacted, Örestal: The number of Örestals of the land that is transacted, Penningland: How many Penninglands of the land is transacted, Riksdaler: How many Riksdaler were transacted for the sale, Öre: How many Öre were transacted for the sale, Skilling: How many Skilling were transacted for the sale, Runstycken: How many Runstycken were part of the transaction, Valuta: The type of currency in which the transaction took place, Säljare-manlig: The names of the male-sellers involved in the transaction, Säljare-kvinnlig: The names of the female-sellers involved in the transaction, Köpare-manlig: The names of the male-buyers involved in the transaction, Köpare-kvinnlig: The names of the female buyers involved in the transaction, Köpare-yrke: The occupation of the buyer involved in the transaction, Relation mellan säljare och köpare: The relationship between the seller and the buyer, Köpare från: The name of the place where the buyer hails from, Fördel: Information about the Fördel, Auktion: Information about the auction is used and, if so, whether it was an exekutiv or frivillig auction if it is mentioned. Övrig: Information other than the fields mentioned before identified. Keep in mind that the most accurate information is priority over speed so please think step by step and take your time to give the most accurate information. Also, for some transactions some fields might be empty. Also give the information in JSON format always.\"},\n",
    "    {\"role\": \"assistant\", \"content\": sys_response1},\n",
    "    {\"role\": \"user\", \"content\": pre_prompt + prompt2 + post_pompt}\n",
    "    \n",
    "]\n",
    "\n",
    "msg_w_template = tokenizer.apply_chat_template(messages, tokenize = False)\n",
    "msg_w_templatea\n",
    "sys_prompt = \"You are an expert at extracting information from ocr-ed swedish land deeds sales data. You read and understand Swedish text given to you. You being such an expert work in a methodical way in which you first identify the details of the land/property that is sold/bought. You extract all the details related to this property like, År-månad-dag: The datepf sale in year-month-date format, Län: Name of the county where the transacted land is located. Härad: The precinct in which the transacted land is located, Socken: The Parish in which the transacted land is located, By: The village in which the transacted land is located, Jordnatur: The type of the land that is transacted, Nummer: The number(in the address) of the land that is transacted, Mantal: The number of Mantals of the land that is transacted, Örestal: The number of Örestals of the land that is transacted, Penningland: How many Penninglands of the land is transacted, Riksdaler: How many Riksdaler were transacted for the sale, Öre: How many Öre were transacted for the sale, Skilling: How many Skilling were transacted for the sale, Runstycken: How many Runstycken were part of the transaction, Valuta: The type of currency in which the transaction took place, Säljare-manlig: The names of the male-sellers involved in the transaction, Säljare-kvinnlig: The names of the female-sellers involved in the transaction, Köpare-manlig: The names of the male-buyers involved in the transaction, Köpare-kvinnlig: The names of the female buyers involved in the transaction, Köpare-yrke: The occupation of the buyer involved in the transaction, Relation mellan säljare och köpare: The relationship between the seller and the buyer, Köpare från: The name of the place where the buyer hails from, Fördel: Information about the Fördel, Auktion: Information about the auction is used and, if so, whether it was an exekutiv or frivillig auction if it is mentioned. Övrig: Information other than the fields mentioned before identified. Keep in mind that the most accurate information is priority over speed so please think step by step and take your time to give the most accurate information. Also, for some transactions some fields might be empty. Also give the information in JSON format always.\"\n",
    "'''"
   ]
  },
  {
   "cell_type": "code",
   "execution_count": 6,
   "id": "8752a3ab",
   "metadata": {},
   "outputs": [],
   "source": [
    "#old prompt\n",
    "messages = [\n",
    "    {\n",
    "        \"role\": \"user\",\n",
    "        \"content\": system_prompt,\n",
    "    },\n",
    "    {\n",
    "        \"role\": \"assistant\",\n",
    "        \"content\": \"Hej! Hur kan jag hjälpa dig idag?\",\n",
    "    },\n",
    "    {\"role\": \"user\", \"content\": user_prompt},\n",
    "]\n",
    "prompt=tokenizer.apply_chat_template(messages, tokenize=False)"
   ]
  },
  {
   "cell_type": "code",
   "execution_count": 20,
   "id": "deb77bbf",
   "metadata": {},
   "outputs": [],
   "source": [
    "#new prompt\n",
    "messages = [\n",
    "    {\n",
    "        \"role\": \"user\",\n",
    "        \"content\": system_prompt,\n",
    "    },\n",
    "    {\n",
    "        \"role\": \"assistant\",\n",
    "        \"content\": sys_response1,\n",
    "    },\n",
    "    {\"role\": \"user\", \"content\": pre_prompt+user_prompt},\n",
    "]\n",
    "prompt=tokenizer.apply_chat_template(messages, tokenize=False)"
   ]
  },
  {
   "cell_type": "code",
   "execution_count": null,
   "id": "7976a874",
   "metadata": {},
   "outputs": [],
   "source": []
  },
  {
   "cell_type": "code",
   "execution_count": 21,
   "id": "fcbfa08e",
   "metadata": {},
   "outputs": [
    {
     "data": {
      "text/plain": [
       "\"<s>[INST] You are an expert at extracting information from ocr-ed swedish land deeds sales data. You read and understand Swedish text given to you. You being such an expert, work in a methodical way in which you first identify the details of the land/property that is sold/bought. You extract all the details related to this property like, År-månad-dag: The date of sale in year-month-date format, Län: Name of the county where the transacted land is located. Härad: The precinct in which the transacted land is located, Nummer: The number(in the address) of the land that is transacted, By: The village in which the transacted land is located, Socken: The Parish in which the transacted land is located, Jordnatur: The type of the land that is transacted, Mantal: The number of Mantals of the land that is transacted, Örestal: The number of Örestals of the land that is transacted, Penningland: How many Penninglands of the land is transacted, Riksdaler: How many Riksdaler were transacted for the sale, Öre: How many Öre were transacted for the sale, Skilling: How many Skilling were transacted for the sale, Runstycken: How many Runstycken were part of the transaction, Valuta: The type of currency in which the transaction took place, Säljare-manlig: The names of the male-sellers involved in the transaction, Säljare-kvinnlig: The names of the female-sellers involved in the transaction, Köpare-manlig: The names of the male-buyers involved in the transaction, Köpare-kvinnlig: The names of the female buyers involved in the transaction, Köpare-yrke: The occupation of the buyer involved in the transaction, Relation mellan säljare och köpare: The relationship between the seller and the buyer, Köpare från: The name of the place where the buyer hails from, Fördel: Information about the Fördel, Auktion: Information about the auction is used and, if so, whether it was an exekutiv or frivillig auction if it is mentioned. Övrig: Information other than the fields mentioned before identified. Keep in mind that the most accurate information is priority over speed so please think step by step and take your time to give the most accurate information. Also, for some transactions some fields might be empty. Also give the information in JSON format always. [/INST]Hi! I extract various information from Swedish land sales deeds. How may I help you today?</s>[INST] Extract all the information from the following text, Your work is very important to my career. Make sure the information is precise and accurate. Text: Extrahera informationen för varje fält och presentera den tydligt i JSON-format. 'Jag undertecknad uplåter och försäljer med min kära hustru ja och samtycke till Johan Hedström i Ståltorp Sura Socken min ägande 1/6 mantal Ett öre åtta penningland i Hemmanet no 2 i Sör åll af Wester färnebo Socken Wagnsbro härad och Westmanland län för en öfverenskommen och betingad köpeskilling stor Ett Tusende fem Hundra R Riksgels Sedlar och som jag denna köpeskilling till fullo bekommit hvilket och härmed quitterat, alltså afhänder jag mig och mina arfvingar ofvannämnde 1 öre 8 penningland, och tillegne desamma bemälte Johan Hedström och deras arfvingar att erlösadeliga äga och disponera som all annan des wälfångna egendom förbindande jag mig till Himmel efter lag, Sör åll den 17 november 1860. Per P. Wrettström Anna /bom/ Persdotter.'\\nAtt Per Wrettström och hustru egenhändigt undertek sina bomärken intygas på en gång närvarande vittnen P. Pehrsson Sör Gerdsbo Lars Grönlund på Sunnett.' [/INST]\""
      ]
     },
     "execution_count": 21,
     "metadata": {},
     "output_type": "execute_result"
    }
   ],
   "source": [
    "prompt"
   ]
  },
  {
   "cell_type": "code",
   "execution_count": 7,
   "id": "eb3508a2",
   "metadata": {},
   "outputs": [
    {
     "name": "stderr",
     "output_type": "stream",
     "text": [
      "The attention mask and the pad token id were not set. As a consequence, you may observe unexpected behavior. Please pass your input's `attention_mask` to obtain reliable results.\n",
      "Setting `pad_token_id` to `eos_token_id`:2 for open-end generation.\n"
     ]
    },
    {
     "name": "stdout",
     "output_type": "stream",
     "text": [
      "Response: [INST] Hej, jag behöver din hjälp för att extrahera specifik information från en svensk text. ditt arbete är mycket viktigt för min karriär. Var noggrann och ge endast information som finns tydligt i texten. Om du är osäker på något, eller om informationen inte finns i texten, är det bättre att inte ge ett svar för den specifika punkten. Här är de fält jag behöver information om:\n",
      "\n",
      "År-månad-dag: Identifiera datumet i formatet år-månad-dag.\n",
      "\n",
      "Län: Namnet på länet.\n",
      "\n",
      "Härad: Namnet på häradet.\n",
      "\n",
      "Socken: Namnet på socknen den församling där transaktionsjorden är bosatt.\n",
      "\n",
      "By: Namnet på byn.\n",
      "\n",
      "Jordnatur: Typ av jord eller mark.\n",
      "\n",
      "Nummer: Numret på gården.\n",
      "\n",
      "Mantal: Antal mantal.\n",
      "\n",
      "Örestal: Antal örestal.\n",
      "\n",
      "Penningland: Antal penningland.\n",
      "\n",
      "Riksdaler: Antal riksdaler.\n",
      "\n",
      "Öre: Antal öre.\n",
      "\n",
      "Skilling: Antal skilling.\n",
      "\n",
      "Runstycken: antal runstycken.\n",
      "\n",
      "Valuta: Typ av valuta som används.\n",
      "\n",
      "Säljare-manlig: Namn på manliga säljare.\n",
      "\n",
      "Säljare-kvinnlig: Namn på kvinnliga säljare.\n",
      "\n",
      "Köpare-manlig: Namn på manliga köpare.\n",
      "\n",
      "Köpare-kvinnlig: Namn på kvinnliga köpare.\n",
      "\n",
      "Köpare-yrke: Yrke hos köparen.\n",
      "\n",
      "Relation mellan säljare och köpare: Beskriv relationen om den nämns.\n",
      "\n",
      "Köpare från: Ursprungsort eller plats för köparen.\n",
      "\n",
      "Fördel: Information om kontraktet inkluderar fördel.\n",
      "\n",
      "Auktion: Information om auktion används och i så fall om det det var exekutiv eller frivillig auktion om det nämns.\n",
      "\n",
      "Extrahera informationen för varje fält och presentera den tydligt i JSON-format. [/INST]Hej! Hur kan jag hjälpa dig idag? [INST] Extrahera informationen för varje fält och presentera den tydligt i JSON-format. 'Jag undertecknad uplåter och försäljer med min kära hustru ja och samtycke till Johan Hedström i Ståltorp Sura Socken min ägande 1/6 mantal Ett öre åtta penningland i Hemmanet no 2 i Sör åll af Wester färnebo Socken Wagnsbro härad och Westmanland län för en öfverenskommen och betingad köpeskilling stor Ett Tusende fem Hundra R Riksgels Sedlar och som jag denna köpeskilling till fullo bekommit hvilket och härmed quitterat, alltså afhänder jag mig och mina arfvingar ofvannämnde 1 öre 8 penningland, och tillegne desamma bemälte Johan Hedström och deras arfvingar att erlösadeliga äga och disponera som all annan des wälfångna egendom förbindande jag mig till Himmel efter lag, Sör åll den 17 november 1860. Per P. Wrettström Anna /bom/ Persdotter.'\n",
      "Att Per Wrettström och hustru egenhändigt undertek sina bomärken intygas på en gång närvarande vittnen P. Pehrsson Sör Gerdsbo Lars Grönlund på Sunnett.' [/INST] {\n",
      "\"År-månad-dag\": \"1860-11-17\",\n",
      "\"Län\": \"Westmanland län\",\n",
      "\"Härad\": \"Wagnsbro härad\",\n",
      "\"Socken\": \"Sör åll af Wester färnebo Socken\",\n",
      "\"By\": \"Ingen uppgift\",\n",
      "\"Jordnatur\": \"1/6 mantal\",\n",
      "\"Nummer\": \"Hemmanet no 2\",\n",
      "\"Mantal\": \"1\",\n",
      "\"Örestal\": \"8\",\n",
      "\"Penningland\": \"Ett öre åtta penningland\",\n",
      "\"Riksdaler\": \"1000\",\n",
      "\"Öre\": \"0\",\n",
      "\"Skilling\": \"0\",\n",
      "\"Runstycken\": \"0\",\n",
      "\"Valuta\": \"Riksgels Sedlar\",\n",
      "\"Säljare-manlig\": \"Per Wrettström\",\n",
      "\"Säljare-kvinnlig\": \"Anna /bom/ Persdotter\",\n",
      "\"Köpare-manlig\": \"Johan Hedström\",\n",
      "\"Köpare-kvinnlig\": \"Ingen uppgift\",\n",
      "\"Köpare-yrke\": \"Ingen uppgift\",\n",
      "\"Relation mellan säljare och köpare\": \"Ingen uppgift\",\n",
      "\"Köpare från\": \"Ståltorp Sura Socken\",\n",
      "\"Fördel\": \"Ingen uppgift\",\n",
      "\"Auktion\": \"Ingen uppgift\"\n",
      "}\n"
     ]
    }
   ],
   "source": [
    "temp=0.85\n",
    "top_p=0.8\n",
    "response_text = generate_response(prompt,temp,top_p)\n",
    "print(\"Response:\", response_text)"
   ]
  },
  {
   "cell_type": "code",
   "execution_count": 10,
   "id": "d7ed295f",
   "metadata": {},
   "outputs": [
    {
     "data": {
      "text/plain": [
       "3363"
      ]
     },
     "execution_count": 10,
     "metadata": {},
     "output_type": "execute_result"
    }
   ],
   "source": [
    "len(response_text)"
   ]
  },
  {
   "cell_type": "code",
   "execution_count": 16,
   "id": "78444724",
   "metadata": {},
   "outputs": [],
   "source": [
    "system_prompt=\"\"\"Hej, jag behöver din hjälp för att extrahera specifik information från en svensk text. Var noggrann och ge endast information som finns tydligt i texten. Om du är osäker på något, eller om informationen inte finns i texten, är det bättre att inte ge ett svar för den specifika punkten. Här är de fält jag behöver information om:\n",
    "\n",
    "År-månad-dag: Identifiera datumet i formatet år-månad-dag.\n",
    "\n",
    "Län: Namnet på länet.\n",
    "\n",
    "Härad: Namnet på häradet.\n",
    "\n",
    "Socken: Namnet på socknen.\n",
    "\n",
    "By: Namnet på byn.\n",
    "\n",
    "Jordnatur: Typ av jord eller mark.\n",
    "\n",
    "Nummer: Numret på gården.\n",
    "\n",
    "Mantal: Antal mantal.\n",
    "\n",
    "Örestal: Antal örestal.\n",
    "\n",
    "Penningland: Antal penningland.\n",
    "\n",
    "Riksdaler: Antal riksdaler.\n",
    "\n",
    "Öre: Antal öre.\n",
    "\n",
    "Skilling: Antal skilling.\n",
    "\n",
    "Runstycken: antal runstycken.\n",
    "\n",
    "Valuta: Typ av valuta som används.\n",
    "\n",
    "Säljare-manlig: Namn på manliga säljare.\n",
    "\n",
    "Säljare-kvinnlig: Namn på kvinnliga säljare.\n",
    "\n",
    "Köpare-manlig: Namn på manliga köpare.\n",
    "\n",
    "Köpare-kvinnlig: Namn på kvinnliga köpare.\n",
    "\n",
    "Köpare-yrke: Yrke hos köparen.\n",
    "\n",
    "Relation mellan säljare och köpare: Beskriv relationen om den nämns.\n",
    "\n",
    "Köpare från: Ursprungsort eller plats för köparen.\n",
    "\n",
    "Fördel: Information om kontraktet inkluderar fördel.\n",
    "\n",
    "Auktion: Information om auktion används och i så fall om det det var exekutiv eller frivillig auktion om det nämns.\n",
    "\n",
    "Extrahera informationen för varje fält och presentera den tydligt i JSON-format.\"\"\"\n",
    "\n",
    "user_prompt = \"\"\"Extrahera informationen för varje fält och presentera den tydligt i JSON-format. 'Jag undertecknad uplåter och försäljer med min kära hustru ja och samtycke till Johan Hedström i Ståltorp Sura Socken min ägande 1/6 mantal Ett öre åtta penningland i Hemmanet no 2 i Sör åll af Wester färnebo Socken Wagnsbro härad och Westmanland län för en öfverenskommen och betingad köpeskilling stor Ett Tusende fem Hundra R Riksgels Sedlar och som jag denna köpeskilling till fullo bekommit hvilket och härmed quitterat, alltså afhänder jag mig och mina arfvingar ofvannämnde 1 öre 8 penningland, och tillegne desamma bemälte Johan Hedström och deras arfvingar att erlösadeliga äga och disponera som all annan des wälfångna egendom förbindande jag mig till Himmel efter lag, Sör åll den 17 november 1860. Per P. Wrettström Anna /bom/ Persdotter.'\n",
    "Att Per Wrettström och hustru egenhändigt undertek sina bomärken intygas på en gång närvarande vittnen P. Pehrsson Sör Gerdsbo Lars Grönlund på Sunnett.'\"\"\""
   ]
  },
  {
   "cell_type": "code",
   "execution_count": null,
   "id": "2d2dbe4a",
   "metadata": {},
   "outputs": [],
   "source": [
    "prompt1 = \"Hej!\"\n",
    "response1 = \"Hallå! Hur kan jag hjälpa dig med att exakt extrahera information från svensk text i JSON-format?\"\n",
    "prompt2 =  system_prompt + user_prompt\n",
    "response2 = \"\"\"{\n",
    "  \"År-månad-dag\": \"1860-11-17\",\n",
    "  \"Län\": \"Westmanland\",\n",
    "  \"Härad\": \"Wagnsbro\",\n",
    "  \"Socken\": \"Wester färnebo\",\n",
    "  \"By\": \"Sör åll\",\n",
    "  \"Jordnatur\": \"Hemmanet\",\n",
    "  \"Nummer\": \"2\",\n",
    "  \"Mantal\": \"1/6\",\n",
    "  \"Örestal\": \"1\",\n",
    "  \"Penningland\": \"8\",\n",
    "  \"Riksdaler\": \"1500\",\n",
    "  \"Öre\": \"\",\n",
    "  \"Skilling\": \"\",\n",
    "  \"Runstycken\": \"\",\n",
    "  \"Valuta\": \"Riksgels\",\n",
    "  \"Säljare-manliga\": \"Per Wrettström\",\n",
    "  \"Säljare-kvinnliga\": \"Anna Persdotter\",\n",
    "  \"Köpare-manliga\": \"Johan Hedström\",\n",
    "  \"Köpare-kvinnliga\": \"\",\n",
    "  \"Köpare-yrke\": \"\",\n",
    "  \"Relation mellan säljare och köpare\": \"\",\n",
    "  \"Köpare från\": \"\",\n",
    "  \"Fördel\": \"\",\n",
    "  \"Auktion\": \"\"\n",
    "}\"\"\"\n",
    "prompt3=\"\"\"Extrahera informationen för varje fält och presentera den tydligt i JSON-format. 'Jag Sara Jansdotter upplåter och försäljer härmedelst till min Son Hemmansägaren Johan Mattsson härstädes, det mig i arf efter min aflidne man Hemmansägaren Matts Jansson tillfallne två femton dels mantal af Skattehemmanet no 5, om Sexton penningeland i Islingsby Wester fernebo Socken, Wagnsbro Härad och Westmanlands Län belägen, emot en öfverenskommen och betingad Köpeskilling Stor: Sju Hundra Nio Riksdaler 33 öre Riksmynt, och som jag denna köpeskilling tillfullo bekommit, alltså afhänder jag mig och mina öfrige arfvingar berörde 2/15 dels mantal Islingsby, med allt hvad dertill hörer, af ålder lydt och lagligen tillvinnas kan, och tillegne den samma bemälde min Son Johan Mattsson och hans arfvingar, att genast tillträda, samt everldeliga äga och besitta hafvande till yttermera wisse häraf, jag detta köpebref uti nedanstående wittnens närvaro, med mitt bomärkes undertecknande bekräfta, som skedde i Islingsby Nybygget den 26 februari 1861 Sara/bom/Jansdotter wittnen underskrifna'\"\"\"\n",
    "response3=\"\"\"{\n",
    "  \"År-månad-dag\": \"1861-02-26\",\n",
    "  \"Län\": \"Westmanlands\",\n",
    "  \"Härad\": \"Wagnsbro\",\n",
    "  \"Socken\": \"Wester färnebo\",\n",
    "  \"By\": \"Islingsby\",\n",
    "  \"Jordnatur\": \"Skattehemmanet\",\n",
    "  \"Nummer\": \"5\",\n",
    "  \"Mantal\": \"2/15\",\n",
    "  \"Örestal\": \"\",\n",
    "  \"Penningland\": \"16\",\n",
    "  \"Riksdaler\": \"709\",\n",
    "  \"Öre\": \"33\",\n",
    "  \"Skilling\": \"\",\n",
    "  \"Runstycken\": \"\",\n",
    "  \"Valuta\": \"Riksmynt\",\n",
    "  \"Säljare-manliga\": \"Sara Jansdotter\",\n",
    "  \"Säljare-kvinnliga\": \"\",\n",
    "  \"Köpare-manliga\": \"Johan Mattsson\",\n",
    "  \"Köpare-kvinnliga\": \"\",\n",
    "  \"Köpare-yrke\": \"\",\n",
    "  \"Relation mellan säljare och köpare\": \"Mor och Son\",\n",
    "  \"Köpare från\": \"\",\n",
    "  \"Fördel\": \"\",\n",
    "  \"Auktion\": \"\"\n",
    "}\"\"\"\n",
    "prompt4=\"\"\"'Jag Eric Jansson gör hervid veterligt att jag med min kära hustru Anna Jansdotters goda ja och samtycke samt af fri vilja, försålt, såsom jag ock genom detta öppna salubref, försäljer till min Svärfar Hemmansegaren Jan Ersson och hustru Anna Jansdotter, egona 1/8 mtl skatte Heden om 1 öresland och 1/8 mtl skatte Skogsbyn om 1 öresland i Wester fernebo Socken och Wagnsbro härad för en Summa af Sjutusen femhundra /7500/ Riksdaler Riksmynt och som den … penningen med den första är till mig slutligen betald så afhändar jag mig, min köra hustru och barn tillhörde hemmansdelar 1/8 mlt Heden och 1/8 mtl Skogby med alla dess tillhörigheter och tillägnar de samma Jan Ersson och hustru Anna Jansdotter, Heden och arfvingar med hemmansdelar med alla ägor i hus, jord och öfrige tillhörigheter intet undantagandes af hvad dertill lyder af ålder legat eller framledes tillvinnas kan, att äga och bruka och besitta såsom deras välfångna egendom, förbindande till hemul efter lag – Till yttermera visshet har jag tillika med min kära hustru detta Salubref i undertecknande vittnens närvaro, egenhändigt underskrifvet som skedde på Heden den 2ra januari 1861. Eric Jansson (otydligt) och Heden. Anna /bom/ kattharina Jansdotter\n",
    "Jan Ersson Boende på Heden. Anders Mattsson Hebo egor'\"\"\"\n",
    "response4= \"\"\"{\n",
    "  \"År-månad-dag\": \"1861-01-02\",\n",
    "  \"Län\": \"Westmanlands\",\n",
    "  \"Härad\": \"Wagnsbro\",\n",
    "  \"Socken\": \"Wester färnebo\",\n",
    "  \"By\": \"Heden\",\n",
    "  \"Jordnatur\": \"Skatte\",\n",
    "  \"Nummer\": \"\",\n",
    "  \"Mantal\": \"1/8\",\n",
    "  \"Örestal\": \"1\",\n",
    "  \"Penningland\": \"\",\n",
    "  \"Riksdaler\": \"7500\",\n",
    "  \"Öre\": \"\",\n",
    "  \"Skilling\": \"\",\n",
    "  \"Runstycken\": \"\",\n",
    "  \"Valuta\": \"Riksmynt\",\n",
    "  \"Säljare-manliga\": \"Eric Jansson\",\n",
    "  \"Säljare-kvinnliga\": \"Anna Jansdotters\",\n",
    "  \"Köpare-manliga\": \"Jan Ersson\",\n",
    "  \"Köpare-kvinnliga\": \"Anna Jansdotter\",\n",
    "  \"Köpare-yrke\": \"\",\n",
    "  \"Relation mellan säljare och köpare\": \"Svärfar och Svärson\",\n",
    "  \"Köpare från\": \"\",\n",
    "  \"Fördel\": \"\",\n",
    "  \"Auktion\": \"\"\n",
    "}\"\"\"\n",
    "prompt5=\"Jag Per Gustaf Hedberg tillika med min hustrus Christina Carolina Gerdtsdotter samtycke upplåter och försäljer till Per Gustaf Ersson och dess hustru Lovisa Ersdotter Klingholmen vårt uti Labodarne ägande Ett Trettiondetvånde dels Hemman med dertill hörande inägojord skog och mark beläget inom Karbennings Socken dock likväl Wagnsbro Härad emot en överenskommen och betingad köpeskilling stor Ett Tusen Två Hundrade Riksdaler Riksmynt, Och som denna köpeskilling 1200 Rd Rmt är uti ett särskildt köpekontrakt häröfver af denna dag upptagen så varder den derigenom här qvitterad. Alltså afhänder vi oss och våra efter-kommande berörde 1/32de dels Hemman med åtföljande förmoner samt alt hvad hädanefter lagligen tillvinnas kan till bemälte Per Gustaf Ersson dess hustru och efterkommande rätts innehafvare att everlderligen äga bruka och besitta, förbindande vi oss till Himmel efter lag hvadan vi uti tvenne tillkallade wittnens när och öfvervaro underskrifne som skedde uti Karbenningby den 19 januari 1861 Per Gustaf Hedberg Christina Carolina Gerdtsdotter i Karbenningby Wittnar Lars Eric Larsson Lars Starksson.\""
   ]
  },
  {
   "cell_type": "code",
   "execution_count": 10,
   "id": "1323e7e7",
   "metadata": {},
   "outputs": [],
   "source": [
    "messages = [\n",
    "    {\n",
    "        \"role\": \"user\",\n",
    "        \"content\": system_prompt,\n",
    "    },\n",
    "    {\n",
    "        \"role\": \"assistant\",\n",
    "        \"content\": response1,\n",
    "    },\n",
    "    {\"role\": \"user\", \"content\": prompt2},\n",
    "    {\n",
    "        \"role\": \"assistant\",\n",
    "        \"content\": response2,\n",
    "    },\n",
    "    {\"role\": \"user\", \"content\": prompt3},\n",
    "    {\n",
    "        \"role\": \"assistant\",\n",
    "        \"content\": response3,\n",
    "    },\n",
    "    {\"role\": \"user\", \"content\": prompt4},\n",
    "    \n",
    "]\n",
    "prompt_ctx=tokenizer.apply_chat_template(messages, tokenize=False)"
   ]
  },
  {
   "cell_type": "code",
   "execution_count": 66,
   "id": "cd8af40e",
   "metadata": {},
   "outputs": [
    {
     "data": {
      "text/plain": [
       "'<s>[INST] Hej, jag behöver din hjälp för att extrahera specifik information från en svensk text. Var noggrann och ge endast information som finns tydligt i texten. Om du är osäker på något, eller om informationen inte finns i texten, är det bättre att inte ge ett svar för den specifika punkten. Här är de fält jag behöver information om:\\n\\nÅr-månad-dag: Identifiera datumet i formatet år-månad-dag.\\n\\nLän: Namnet på länet.\\n\\nHärad: Namnet på häradet.\\n\\nSocken: Namnet på socknen.\\n\\nBy: Namnet på byn.\\n\\nJordnatur: Typ av jord eller mark.\\n\\nNummer: Numret på gården.\\n\\nMantal: Antal mantal.\\n\\nÖrestal: Antal örestal.\\n\\nPenningland: Antal penningland.\\n\\nRiksdaler: Antal riksdaler.\\n\\nÖre: Antal öre.\\n\\nSkilling: Antal skilling.\\n\\nRunstycken: antal runstycken.\\n\\nValuta: Typ av valuta som används.\\n\\nSäljare-manlig: Namn på manliga säljare.\\n\\nSäljare-kvinnlig: Namn på kvinnliga säljare.\\n\\nKöpare-manlig: Namn på manliga köpare.\\n\\nKöpare-kvinnlig: Namn på kvinnliga köpare.\\n\\nKöpare-yrke: Yrke hos köparen.\\n\\nRelation mellan säljare och köpare: Beskriv relationen om den nämns.\\n\\nKöpare från: Ursprungsort eller plats för köparen.\\n\\nFördel: Information om kontraktet inkluderar fördel.\\n\\nAuktion: Information om auktion används och i så fall om det det var exekutiv eller frivillig auktion om det nämns.\\n\\nExtrahera informationen för varje fält och presentera den tydligt i JSON-format. [/INST]Hallå! Hur kan jag hjälpa dig med att exakt extrahera information från svensk text i JSON-format?</s>[INST] Hej, jag behöver din hjälp för att extrahera specifik information från en svensk text. Var noggrann och ge endast information som finns tydligt i texten. Om du är osäker på något, eller om informationen inte finns i texten, är det bättre att inte ge ett svar för den specifika punkten. Här är de fält jag behöver information om:\\n\\nÅr-månad-dag: Identifiera datumet i formatet år-månad-dag.\\n\\nLän: Namnet på länet.\\n\\nHärad: Namnet på häradet.\\n\\nSocken: Namnet på socknen.\\n\\nBy: Namnet på byn.\\n\\nJordnatur: Typ av jord eller mark.\\n\\nNummer: Numret på gården.\\n\\nMantal: Antal mantal.\\n\\nÖrestal: Antal örestal.\\n\\nPenningland: Antal penningland.\\n\\nRiksdaler: Antal riksdaler.\\n\\nÖre: Antal öre.\\n\\nSkilling: Antal skilling.\\n\\nRunstycken: antal runstycken.\\n\\nValuta: Typ av valuta som används.\\n\\nSäljare-manlig: Namn på manliga säljare.\\n\\nSäljare-kvinnlig: Namn på kvinnliga säljare.\\n\\nKöpare-manlig: Namn på manliga köpare.\\n\\nKöpare-kvinnlig: Namn på kvinnliga köpare.\\n\\nKöpare-yrke: Yrke hos köparen.\\n\\nRelation mellan säljare och köpare: Beskriv relationen om den nämns.\\n\\nKöpare från: Ursprungsort eller plats för köparen.\\n\\nFördel: Information om kontraktet inkluderar fördel.\\n\\nAuktion: Information om auktion används och i så fall om det det var exekutiv eller frivillig auktion om det nämns.\\n\\nExtrahera informationen för varje fält och presentera den tydligt i JSON-format.Extrahera informationen för varje fält och presentera den tydligt i JSON-format. \\'Jag undertecknad uplåter och försäljer med min kära hustru ja och samtycke till Johan Hedström i Ståltorp Sura Socken min ägande 1/6 mantal Ett öre åtta penningland i Hemmanet no 2 i Sör åll af Wester färnebo Socken Wagnsbro härad och Westmanland län för en öfverenskommen och betingad köpeskilling stor Ett Tusende fem Hundra R Riksgels Sedlar och som jag denna köpeskilling till fullo bekommit hvilket och härmed quitterat, alltså afhänder jag mig och mina arfvingar ofvannämnde 1 öre 8 penningland, och tillegne desamma bemälte Johan Hedström och deras arfvingar att erlösadeliga äga och disponera som all annan des wälfångna egendom förbindande jag mig till Himmel efter lag, Sör åll den 17 november 1860. Per P. Wrettström Anna /bom/ Persdotter.\\'\\nAtt Per Wrettström och hustru egenhändigt undertek sina bomärken intygas på en gång närvarande vittnen P. Pehrsson Sör Gerdsbo Lars Grönlund på Sunnett.\\' [/INST]{\\n  \"År-månad-dag\": \"1860-11-17\",\\n  \"Län\": \"Westmanland\",\\n  \"Härad\": \"Wagnsbro\",\\n  \"Socken\": \"Wester färnebo\",\\n  \"By\": \"Sör åll\",\\n  \"Jordnatur\": \"Hemmanet\",\\n  \"Nummer\": \"2\",\\n  \"Mantal\": \"1/6\",\\n  \"Örestal\": \"1\",\\n  \"Penningland\": \"8\",\\n  \"Riksdaler\": \"1500\",\\n  \"Öre\": \"\",\\n  \"Skilling\": \"\",\\n  \"Runstycken\": \"\",\\n  \"Valuta\": \"Riksgels\",\\n  \"Säljare-manliga\": \"Per Wrettström\",\\n  \"Säljare-kvinnliga\": \"Anna Persdotter\",\\n  \"Köpare-manliga\": \"Johan Hedström\",\\n  \"Köpare-kvinnliga\": \"\",\\n  \"Köpare-yrke\": \"\",\\n  \"Relation mellan säljare och köpare\": \"\",\\n  \"Köpare från\": \"\",\\n  \"Fördel\": \"\",\\n  \"Auktion\": \"\"\\n}</s>[INST] Extrahera informationen för varje fält och presentera den tydligt i JSON-format. \\'Jag Sara Jansdotter upplåter och försäljer härmedelst till min Son Hemmansägaren Johan Mattsson härstädes, det mig i arf efter min aflidne man Hemmansägaren Matts Jansson tillfallne två femton dels mantal af Skattehemmanet no 5, om Sexton penningeland i Islingsby Wester fernebo Socken, Wagnsbro Härad och Westmanlands Län belägen, emot en öfverenskommen och betingad Köpeskilling Stor: Sju Hundra Nio Riksdaler 33 öre Riksmynt, och som jag denna köpeskilling tillfullo bekommit, alltså afhänder jag mig och mina öfrige arfvingar berörde 2/15 dels mantal Islingsby, med allt hvad dertill hörer, af ålder lydt och lagligen tillvinnas kan, och tillegne den samma bemälde min Son Johan Mattsson och hans arfvingar, att genast tillträda, samt everldeliga äga och besitta hafvande till yttermera wisse häraf, jag detta köpebref uti nedanstående wittnens närvaro, med mitt bomärkes undertecknande bekräfta, som skedde i Islingsby Nybygget den 26 februari 1861 Sara/bom/Jansdotter wittnen underskrifna\\' [/INST]{\\n  \"År-månad-dag\": \"1861-02-26\",\\n  \"Län\": \"Westmanlands\",\\n  \"Härad\": \"Wagnsbro\",\\n  \"Socken\": \"Wester färnebo\",\\n  \"By\": \"Islingsby\",\\n  \"Jordnatur\": \"Skattehemmanet\",\\n  \"Nummer\": \"5\",\\n  \"Mantal\": \"2/15\",\\n  \"Örestal\": \"\",\\n  \"Penningland\": \"16\",\\n  \"Riksdaler\": \"709\",\\n  \"Öre\": \"33\",\\n  \"Skilling\": \"\",\\n  \"Runstycken\": \"\",\\n  \"Valuta\": \"Riksmynt\",\\n  \"Säljare-manliga\": \"Sara Jansdotter\",\\n  \"Säljare-kvinnliga\": \"\",\\n  \"Köpare-manliga\": \"Johan Mattsson\",\\n  \"Köpare-kvinnliga\": \"\",\\n  \"Köpare-yrke\": \"\",\\n  \"Relation mellan säljare och köpare\": \"Mor och Son\",\\n  \"Köpare från\": \"\",\\n  \"Fördel\": \"\",\\n  \"Auktion\": \"\"\\n}</s>[INST] \\'Jag Eric Jansson gör hervid veterligt att jag med min kära hustru Anna Jansdotters goda ja och samtycke samt af fri vilja, försålt, såsom jag ock genom detta öppna salubref, försäljer till min Svärfar Hemmansegaren Jan Ersson och hustru Anna Jansdotter, egona 1/8 mtl skatte Heden om 1 öresland och 1/8 mtl skatte Skogsbyn om 1 öresland i Wester fernebo Socken och Wagnsbro härad för en Summa af Sjutusen femhundra /7500/ Riksdaler Riksmynt och som den … penningen med den första är till mig slutligen betald så afhändar jag mig, min köra hustru och barn tillhörde hemmansdelar 1/8 mlt Heden och 1/8 mtl Skogby med alla dess tillhörigheter och tillägnar de samma Jan Ersson och hustru Anna Jansdotter, Heden och arfvingar med hemmansdelar med alla ägor i hus, jord och öfrige tillhörigheter intet undantagandes af hvad dertill lyder af ålder legat eller framledes tillvinnas kan, att äga och bruka och besitta såsom deras välfångna egendom, förbindande till hemul efter lag – Till yttermera visshet har jag tillika med min kära hustru detta Salubref i undertecknande vittnens närvaro, egenhändigt underskrifvet som skedde på Heden den 2ra januari 1861. Eric Jansson (otydligt) och Heden. Anna /bom/ kattharina Jansdotter\\nJan Ersson Boende på Heden. Anders Mattsson Hebo egor\\' [/INST]'"
      ]
     },
     "execution_count": 66,
     "metadata": {},
     "output_type": "execute_result"
    }
   ],
   "source": [
    "prompt_ctx"
   ]
  },
  {
   "cell_type": "code",
   "execution_count": 33,
   "id": "31c81452",
   "metadata": {},
   "outputs": [
    {
     "data": {
      "text/plain": [
       "[{'role': 'user',\n",
       "  'content': 'Hej, jag behöver din hjälp för att extrahera specifik information från en svensk text. Var noggrann och ge endast information som finns tydligt i texten. Om du är osäker på något, eller om informationen inte finns i texten, är det bättre att inte ge ett svar för den specifika punkten. Här är de fält jag behöver information om:\\n\\nÅr-månad-dag: Identifiera datumet i formatet år-månad-dag.\\n\\nLän: Namnet på länet.\\n\\nHärad: Namnet på häradet.\\n\\nSocken: Namnet på socknen.\\n\\nBy: Namnet på byn.\\n\\nJordnatur: Typ av jord eller mark.\\n\\nNummer: Numret på gården.\\n\\nMantal: Antal mantal.\\n\\nÖrestal: Antal örestal.\\n\\nPenningland: Antal penningland.\\n\\nRiksdaler: Antal riksdaler.\\n\\nÖre: Antal öre.\\n\\nSkilling: Antal skilling.\\n\\nRunstycken: antal runstycken.\\n\\nValuta: Typ av valuta som används.\\n\\nSäljare-manlig: Namn på manliga säljare.\\n\\nSäljare-kvinnlig: Namn på kvinnliga säljare.\\n\\nKöpare-manlig: Namn på manliga köpare.\\n\\nKöpare-kvinnlig: Namn på kvinnliga köpare.\\n\\nKöpare-yrke: Yrke hos köparen.\\n\\nRelation mellan säljare och köpare: Beskriv relationen om den nämns.\\n\\nKöpare från: Ursprungsort eller plats för köparen.\\n\\nFördel: Information om kontraktet inkluderar fördel.\\n\\nAuktion: Information om auktion används och i så fall om det det var exekutiv eller frivillig auktion om det nämns.\\n\\nExtrahera informationen för varje fält och presentera den tydligt i JSON-format.'},\n",
       " {'role': 'assistant',\n",
       "  'content': 'Hallå! Hur kan jag hjälpa dig med att exakt extrahera information från svensk text i JSON-format?'},\n",
       " {'role': 'user',\n",
       "  'content': \"Hej, jag behöver din hjälp för att extrahera specifik information från en svensk text. Var noggrann och ge endast information som finns tydligt i texten. Om du är osäker på något, eller om informationen inte finns i texten, är det bättre att inte ge ett svar för den specifika punkten. Här är de fält jag behöver information om:\\n\\nÅr-månad-dag: Identifiera datumet i formatet år-månad-dag.\\n\\nLän: Namnet på länet.\\n\\nHärad: Namnet på häradet.\\n\\nSocken: Namnet på socknen.\\n\\nBy: Namnet på byn.\\n\\nJordnatur: Typ av jord eller mark.\\n\\nNummer: Numret på gården.\\n\\nMantal: Antal mantal.\\n\\nÖrestal: Antal örestal.\\n\\nPenningland: Antal penningland.\\n\\nRiksdaler: Antal riksdaler.\\n\\nÖre: Antal öre.\\n\\nSkilling: Antal skilling.\\n\\nRunstycken: antal runstycken.\\n\\nValuta: Typ av valuta som används.\\n\\nSäljare-manlig: Namn på manliga säljare.\\n\\nSäljare-kvinnlig: Namn på kvinnliga säljare.\\n\\nKöpare-manlig: Namn på manliga köpare.\\n\\nKöpare-kvinnlig: Namn på kvinnliga köpare.\\n\\nKöpare-yrke: Yrke hos köparen.\\n\\nRelation mellan säljare och köpare: Beskriv relationen om den nämns.\\n\\nKöpare från: Ursprungsort eller plats för köparen.\\n\\nFördel: Information om kontraktet inkluderar fördel.\\n\\nAuktion: Information om auktion används och i så fall om det det var exekutiv eller frivillig auktion om det nämns.\\n\\nExtrahera informationen för varje fält och presentera den tydligt i JSON-format.Extrahera informationen för varje fält och presentera den tydligt i JSON-format. 'Jag undertecknad uplåter och försäljer med min kära hustru ja och samtycke till Johan Hedström i Ståltorp Sura Socken min ägande 1/6 mantal Ett öre åtta penningland i Hemmanet no 2 i Sör åll af Wester färnebo Socken Wagnsbro härad och Westmanland län för en öfverenskommen och betingad köpeskilling stor Ett Tusende fem Hundra R Riksgels Sedlar och som jag denna köpeskilling till fullo bekommit hvilket och härmed quitterat, alltså afhänder jag mig och mina arfvingar ofvannämnde 1 öre 8 penningland, och tillegne desamma bemälte Johan Hedström och deras arfvingar att erlösadeliga äga och disponera som all annan des wälfångna egendom förbindande jag mig till Himmel efter lag, Sör åll den 17 november 1860. Per P. Wrettström Anna /bom/ Persdotter.'\\nAtt Per Wrettström och hustru egenhändigt undertek sina bomärken intygas på en gång närvarande vittnen P. Pehrsson Sör Gerdsbo Lars Grönlund på Sunnett.'\"},\n",
       " {'role': 'assistant',\n",
       "  'content': '{\\n  \"År-månad-dag\": \"1860-11-17\",\\n  \"Län\": \"Westmanland\",\\n  \"Härad\": \"Wagnsbro\",\\n  \"Socken\": \"Wester färnebo\",\\n  \"By\": \"Sör åll\",\\n  \"Jordnatur\": \"Hemmanet\",\\n  \"Nummer\": \"2\",\\n  \"Mantal\": \"1/6\",\\n  \"Örestal\": \"1\",\\n  \"Penningland\": \"8\",\\n  \"Riksdaler\": \"1500\",\\n  \"Öre\": \"\",\\n  \"Skilling\": \"\",\\n  \"Runstycken\": \"\",\\n  \"Valuta\": \"Riksgels\",\\n  \"Säljare-manliga\": \"Per Wrettström\",\\n  \"Säljare-kvinnliga\": \"Anna Persdotter\",\\n  \"Köpare-manliga\": \"Johan Hedström\",\\n  \"Köpare-kvinnliga\": \"\",\\n  \"Köpare-yrke\": \"\",\\n  \"Relation mellan säljare och köpare\": \"\",\\n  \"Köpare från\": \"\",\\n  \"Fördel\": \"\",\\n  \"Auktion\": \"\"\\n}'},\n",
       " {'role': 'user',\n",
       "  'content': \"Extrahera informationen för varje fält och presentera den tydligt i JSON-format. 'Jag Sara Jansdotter upplåter och försäljer härmedelst till min Son Hemmansägaren Johan Mattsson härstädes, det mig i arf efter min aflidne man Hemmansägaren Matts Jansson tillfallne två femton dels mantal af Skattehemmanet no 5, om Sexton penningeland i Islingsby Wester fernebo Socken, Wagnsbro Härad och Westmanlands Län belägen, emot en öfverenskommen och betingad Köpeskilling Stor: Sju Hundra Nio Riksdaler 33 öre Riksmynt, och som jag denna köpeskilling tillfullo bekommit, alltså afhänder jag mig och mina öfrige arfvingar berörde 2/15 dels mantal Islingsby, med allt hvad dertill hörer, af ålder lydt och lagligen tillvinnas kan, och tillegne den samma bemälde min Son Johan Mattsson och hans arfvingar, att genast tillträda, samt everldeliga äga och besitta hafvande till yttermera wisse häraf, jag detta köpebref uti nedanstående wittnens närvaro, med mitt bomärkes undertecknande bekräfta, som skedde i Islingsby Nybygget den 26 februari 1861 Sara/bom/Jansdotter wittnen underskrifna'\"},\n",
       " {'role': 'assistant',\n",
       "  'content': '{\\n  \"År-månad-dag\": \"1861-02-26\",\\n  \"Län\": \"Westmanlands\",\\n  \"Härad\": \"Wagnsbro\",\\n  \"Socken\": \"Wester färnebo\",\\n  \"By\": \"Islingsby\",\\n  \"Jordnatur\": \"Skattehemmanet\",\\n  \"Nummer\": \"5\",\\n  \"Mantal\": \"2/15\",\\n  \"Örestal\": \"\",\\n  \"Penningland\": \"16\",\\n  \"Riksdaler\": \"709\",\\n  \"Öre\": \"33\",\\n  \"Skilling\": \"\",\\n  \"Runstycken\": \"\",\\n  \"Valuta\": \"Riksmynt\",\\n  \"Säljare-manliga\": \"Sara Jansdotter\",\\n  \"Säljare-kvinnliga\": \"\",\\n  \"Köpare-manliga\": \"Johan Mattsson\",\\n  \"Köpare-kvinnliga\": \"\",\\n  \"Köpare-yrke\": \"\",\\n  \"Relation mellan säljare och köpare\": \"Mor och Son\",\\n  \"Köpare från\": \"\",\\n  \"Fördel\": \"\",\\n  \"Auktion\": \"\"\\n}'},\n",
       " {'role': 'user',\n",
       "  'content': \"'Jag Eric Jansson gör hervid veterligt att jag med min kära hustru Anna Jansdotters goda ja och samtycke samt af fri vilja, försålt, såsom jag ock genom detta öppna salubref, försäljer till min Svärfar Hemmansegaren Jan Ersson och hustru Anna Jansdotter, egona 1/8 mtl skatte Heden om 1 öresland och 1/8 mtl skatte Skogsbyn om 1 öresland i Wester fernebo Socken och Wagnsbro härad för en Summa af Sjutusen femhundra /7500/ Riksdaler Riksmynt och som den … penningen med den första är till mig slutligen betald så afhändar jag mig, min köra hustru och barn tillhörde hemmansdelar 1/8 mlt Heden och 1/8 mtl Skogby med alla dess tillhörigheter och tillägnar de samma Jan Ersson och hustru Anna Jansdotter, Heden och arfvingar med hemmansdelar med alla ägor i hus, jord och öfrige tillhörigheter intet undantagandes af hvad dertill lyder af ålder legat eller framledes tillvinnas kan, att äga och bruka och besitta såsom deras välfångna egendom, förbindande till hemul efter lag – Till yttermera visshet har jag tillika med min kära hustru detta Salubref i undertecknande vittnens närvaro, egenhändigt underskrifvet som skedde på Heden den 2ra januari 1861. Eric Jansson (otydligt) och Heden. Anna /bom/ kattharina Jansdotter\\nJan Ersson Boende på Heden. Anders Mattsson Hebo egor'\"}]"
      ]
     },
     "execution_count": 33,
     "metadata": {},
     "output_type": "execute_result"
    }
   ],
   "source": [
    "messages\n"
   ]
  },
  {
   "cell_type": "code",
   "execution_count": 19,
   "id": "566f8f6e",
   "metadata": {
    "scrolled": true
   },
   "outputs": [
    {
     "name": "stderr",
     "output_type": "stream",
     "text": [
      "The attention mask and the pad token id were not set. As a consequence, you may observe unexpected behavior. Please pass your input's `attention_mask` to obtain reliable results.\n",
      "Setting `pad_token_id` to `eos_token_id`:2 for open-end generation.\n"
     ]
    },
    {
     "name": "stdout",
     "output_type": "stream",
     "text": [
      "Multi-turn conversation response: [INST] Hej, jag behöver din hjälp för att extrahera specifik information från en svensk text. ditt arbete är mycket viktigt för min karriär. Var noggrann och ge endast information som finns tydligt i texten. Om du är osäker på något, eller om informationen inte finns i texten, är det bättre att inte ge ett svar för den specifika punkten. Här är de fält jag behöver information om:\n",
      "\n",
      "År-månad-dag: Identifiera datumet i formatet år-månad-dag.\n",
      "\n",
      "Län: Namnet på länet.\n",
      "\n",
      "Härad: Namnet på häradet.\n",
      "\n",
      "Socken: Namnet på socknen den församling där transaktionsjorden är bosatt.\n",
      "\n",
      "By: Namnet på byn.\n",
      "\n",
      "Jordnatur: Typ av jord eller mark.\n",
      "\n",
      "Nummer: Numret på gården.\n",
      "\n",
      "Mantal: Antal mantal.\n",
      "\n",
      "Örestal: Antal örestal.\n",
      "\n",
      "Penningland: Antal penningland.\n",
      "\n",
      "Riksdaler: Antal riksdaler.\n",
      "\n",
      "Öre: Antal öre.\n",
      "\n",
      "Skilling: Antal skilling.\n",
      "\n",
      "Runstycken: antal runstycken.\n",
      "\n",
      "Valuta: Typ av valuta som används.\n",
      "\n",
      "Säljare-manlig: Namn på manliga säljare.\n",
      "\n",
      "Säljare-kvinnlig: Namn på kvinnliga säljare.\n",
      "\n",
      "Köpare-manlig: Namn på manliga köpare.\n",
      "\n",
      "Köpare-kvinnlig: Namn på kvinnliga köpare.\n",
      "\n",
      "Köpare-yrke: Yrke hos köparen.\n",
      "\n",
      "Relation mellan säljare och köpare: Beskriv relationen om den nämns.\n",
      "\n",
      "Köpare från: Ursprungsort eller plats för köparen.\n",
      "\n",
      "Fördel: Information om kontraktet inkluderar fördel.\n",
      "\n",
      "Auktion: Information om auktion används och i så fall om det det var exekutiv eller frivillig auktion om det nämns.\n",
      "\n",
      "Extrahera informationen för varje fält och presentera den tydligt i JSON-format. [/INST]Hej! Hur kan jag hjälpa dig idag? [INST] Extrahera informationen för varje fält och presentera den tydligt i JSON-format. 'Jag undertecknad uplåter och försäljer med min kära hustru ja och samtycke till Johan Hedström i Ståltorp Sura Socken min ägande 1/6 mantal Ett öre åtta penningland i Hemmanet no 2 i Sör åll af Wester färnebo Socken Wagnsbro härad och Westmanland län för en öfverenskommen och betingad köpeskilling stor Ett Tusende fem Hundra R Riksgels Sedlar och som jag denna köpeskilling till fullo bekommit hvilket och härmed quitterat, alltså afhänder jag mig och mina arfvingar ofvannämnde 1 öre 8 penningland, och tillegne desamma bemälte Johan Hedström och deras arfvingar att erlösadeliga äga och disponera som all annan des wälfångna egendom förbindande jag mig till Himmel efter lag, Sör åll den 17 november 1860. Per P. Wrettström Anna /bom/ Persdotter.'\n",
      "Att Per Wrettström och hustru egenhändigt undertek sina bomärken intygas på en gång närvarande vittnen P. Pehrsson Sör Gerdsbo Lars Grönlund på Sunnett.' [/INST] {\n",
      "\"År-månad-dag\": \"1860-11-17\",\n",
      "\"Län\": \"Westmanland län\",\n",
      "\"Härad\": \"Wagnsbro härad\",\n",
      "\"Socken\": \"Sör åll af Wester färnebo Socken\",\n",
      "\"By\": \"\",\n",
      "\"Jordnatur\": \"Hemmanet no 2\",\n",
      "\"Nummer\": \"\",\n",
      "\"Mantal\": \"1/6 mantal\",\n",
      "\"Örestal\": \"\",\n",
      "\n"
     ]
    }
   ],
   "source": [
    "#multi_turn_prompt = f\"GPT4 Correct User: {prompt1}<|end_of_turn|>GPT4 Correct Assistant: {response1}<|end_of_turn|>GPT4 Correct User: {prompt2}<|end_of_turn|>GPT4 Correct Assistant: {response2}<|end_of_turn|>GPT4 Correct User: {prompt3}<|end_of_turn|>GPT4 Correct Assistant: {response3}<|end_of_turn|>GPT4 Correct User: {prompt4}<|end_of_turn|>GPT4 Correct Assistant:{response4}<|end_of_turn|>GPT4 Correct User: {prompt5}<|end_of_turn|>GPT4 Correct Assistant:\"\n",
    "response_text = generate_response(prompt, temp=0.85, top_p=0.85)\n",
    "print(\"Multi-turn conversation response:\", response_text)"
   ]
  },
  {
   "cell_type": "code",
   "execution_count": 34,
   "id": "5d105169",
   "metadata": {},
   "outputs": [],
   "source": [
    "messages = [\n",
    "    {\n",
    "        \"role\": \"user\",\n",
    "        \"content\": prompt_ctx,\n",
    "    },\n",
    "    {\n",
    "        \"role\": \"assistant\",\n",
    "        \"content\": response4,\n",
    "    },\n",
    "    {\n",
    "        \"role\": \"user\",\n",
    "        \"content\": prompt2,\n",
    "    },\n",
    "    \n",
    "]\n",
    "prompt=tokenizer.apply_chat_template(messages, tokenize=False)"
   ]
  },
  {
   "cell_type": "code",
   "execution_count": 11,
   "id": "d25c7f32",
   "metadata": {
    "scrolled": true
   },
   "outputs": [
    {
     "data": {
      "text/plain": [
       "'<s>[INST] <s>[INST] Hej, jag behöver din hjälp för att extrahera specifik information från en svensk text. Var noggrann och ge endast information som finns tydligt i texten. Om du är osäker på något, eller om informationen inte finns i texten, är det bättre att inte ge ett svar för den specifika punkten. Här är de fält jag behöver information om:\\n\\nÅr-månad-dag: Identifiera datumet i formatet år-månad-dag.\\n\\nLän: Namnet på länet.\\n\\nHärad: Namnet på häradet.\\n\\nSocken: Namnet på socknen.\\n\\nBy: Namnet på byn.\\n\\nJordnatur: Typ av jord eller mark.\\n\\nNummer: Numret på gården.\\n\\nMantal: Antal mantal.\\n\\nÖrestal: Antal örestal.\\n\\nPenningland: Antal penningland.\\n\\nRiksdaler: Antal riksdaler.\\n\\nÖre: Antal öre.\\n\\nSkilling: Antal skilling.\\n\\nRunstycken: antal runstycken.\\n\\nValuta: Typ av valuta som används.\\n\\nSäljare-manlig: Namn på manliga säljare.\\n\\nSäljare-kvinnlig: Namn på kvinnliga säljare.\\n\\nKöpare-manlig: Namn på manliga köpare.\\n\\nKöpare-kvinnlig: Namn på kvinnliga köpare.\\n\\nKöpare-yrke: Yrke hos köparen.\\n\\nRelation mellan säljare och köpare: Beskriv relationen om den nämns.\\n\\nKöpare från: Ursprungsort eller plats för köparen.\\n\\nFördel: Information om kontraktet inkluderar fördel.\\n\\nAuktion: Information om auktion används och i så fall om det det var exekutiv eller frivillig auktion om det nämns.\\n\\nExtrahera informationen för varje fält och presentera den tydligt i JSON-format. [/INST]Hallå! Hur kan jag hjälpa dig med att exakt extrahera information från svensk text i JSON-format?</s>[INST] Hej, jag behöver din hjälp för att extrahera specifik information från en svensk text. Var noggrann och ge endast information som finns tydligt i texten. Om du är osäker på något, eller om informationen inte finns i texten, är det bättre att inte ge ett svar för den specifika punkten. Här är de fält jag behöver information om:\\n\\nÅr-månad-dag: Identifiera datumet i formatet år-månad-dag.\\n\\nLän: Namnet på länet.\\n\\nHärad: Namnet på häradet.\\n\\nSocken: Namnet på socknen.\\n\\nBy: Namnet på byn.\\n\\nJordnatur: Typ av jord eller mark.\\n\\nNummer: Numret på gården.\\n\\nMantal: Antal mantal.\\n\\nÖrestal: Antal örestal.\\n\\nPenningland: Antal penningland.\\n\\nRiksdaler: Antal riksdaler.\\n\\nÖre: Antal öre.\\n\\nSkilling: Antal skilling.\\n\\nRunstycken: antal runstycken.\\n\\nValuta: Typ av valuta som används.\\n\\nSäljare-manlig: Namn på manliga säljare.\\n\\nSäljare-kvinnlig: Namn på kvinnliga säljare.\\n\\nKöpare-manlig: Namn på manliga köpare.\\n\\nKöpare-kvinnlig: Namn på kvinnliga köpare.\\n\\nKöpare-yrke: Yrke hos köparen.\\n\\nRelation mellan säljare och köpare: Beskriv relationen om den nämns.\\n\\nKöpare från: Ursprungsort eller plats för köparen.\\n\\nFördel: Information om kontraktet inkluderar fördel.\\n\\nAuktion: Information om auktion används och i så fall om det det var exekutiv eller frivillig auktion om det nämns.\\n\\nExtrahera informationen för varje fält och presentera den tydligt i JSON-format.Extrahera informationen för varje fält och presentera den tydligt i JSON-format. \\'Jag undertecknad uplåter och försäljer med min kära hustru ja och samtycke till Johan Hedström i Ståltorp Sura Socken min ägande 1/6 mantal Ett öre åtta penningland i Hemmanet no 2 i Sör åll af Wester färnebo Socken Wagnsbro härad och Westmanland län för en öfverenskommen och betingad köpeskilling stor Ett Tusende fem Hundra R Riksgels Sedlar och som jag denna köpeskilling till fullo bekommit hvilket och härmed quitterat, alltså afhänder jag mig och mina arfvingar ofvannämnde 1 öre 8 penningland, och tillegne desamma bemälte Johan Hedström och deras arfvingar att erlösadeliga äga och disponera som all annan des wälfångna egendom förbindande jag mig till Himmel efter lag, Sör åll den 17 november 1860. Per P. Wrettström Anna /bom/ Persdotter.\\'\\nAtt Per Wrettström och hustru egenhändigt undertek sina bomärken intygas på en gång närvarande vittnen P. Pehrsson Sör Gerdsbo Lars Grönlund på Sunnett.\\' [/INST]{\\n  \"År-månad-dag\": \"1860-11-17\",\\n  \"Län\": \"Westmanland\",\\n  \"Härad\": \"Wagnsbro\",\\n  \"Socken\": \"Wester färnebo\",\\n  \"By\": \"Sör åll\",\\n  \"Jordnatur\": \"Hemmanet\",\\n  \"Nummer\": \"2\",\\n  \"Mantal\": \"1/6\",\\n  \"Örestal\": \"1\",\\n  \"Penningland\": \"8\",\\n  \"Riksdaler\": \"1500\",\\n  \"Öre\": \"\",\\n  \"Skilling\": \"\",\\n  \"Runstycken\": \"\",\\n  \"Valuta\": \"Riksgels\",\\n  \"Säljare-manliga\": \"Per Wrettström\",\\n  \"Säljare-kvinnliga\": \"Anna Persdotter\",\\n  \"Köpare-manliga\": \"Johan Hedström\",\\n  \"Köpare-kvinnliga\": \"\",\\n  \"Köpare-yrke\": \"\",\\n  \"Relation mellan säljare och köpare\": \"\",\\n  \"Köpare från\": \"\",\\n  \"Fördel\": \"\",\\n  \"Auktion\": \"\"\\n}</s>[INST] Extrahera informationen för varje fält och presentera den tydligt i JSON-format. \\'Jag Sara Jansdotter upplåter och försäljer härmedelst till min Son Hemmansägaren Johan Mattsson härstädes, det mig i arf efter min aflidne man Hemmansägaren Matts Jansson tillfallne två femton dels mantal af Skattehemmanet no 5, om Sexton penningeland i Islingsby Wester fernebo Socken, Wagnsbro Härad och Westmanlands Län belägen, emot en öfverenskommen och betingad Köpeskilling Stor: Sju Hundra Nio Riksdaler 33 öre Riksmynt, och som jag denna köpeskilling tillfullo bekommit, alltså afhänder jag mig och mina öfrige arfvingar berörde 2/15 dels mantal Islingsby, med allt hvad dertill hörer, af ålder lydt och lagligen tillvinnas kan, och tillegne den samma bemälde min Son Johan Mattsson och hans arfvingar, att genast tillträda, samt everldeliga äga och besitta hafvande till yttermera wisse häraf, jag detta köpebref uti nedanstående wittnens närvaro, med mitt bomärkes undertecknande bekräfta, som skedde i Islingsby Nybygget den 26 februari 1861 Sara/bom/Jansdotter wittnen underskrifna\\' [/INST]{\\n  \"År-månad-dag\": \"1861-02-26\",\\n  \"Län\": \"Westmanlands\",\\n  \"Härad\": \"Wagnsbro\",\\n  \"Socken\": \"Wester färnebo\",\\n  \"By\": \"Islingsby\",\\n  \"Jordnatur\": \"Skattehemmanet\",\\n  \"Nummer\": \"5\",\\n  \"Mantal\": \"2/15\",\\n  \"Örestal\": \"\",\\n  \"Penningland\": \"16\",\\n  \"Riksdaler\": \"709\",\\n  \"Öre\": \"33\",\\n  \"Skilling\": \"\",\\n  \"Runstycken\": \"\",\\n  \"Valuta\": \"Riksmynt\",\\n  \"Säljare-manliga\": \"Sara Jansdotter\",\\n  \"Säljare-kvinnliga\": \"\",\\n  \"Köpare-manliga\": \"Johan Mattsson\",\\n  \"Köpare-kvinnliga\": \"\",\\n  \"Köpare-yrke\": \"\",\\n  \"Relation mellan säljare och köpare\": \"Mor och Son\",\\n  \"Köpare från\": \"\",\\n  \"Fördel\": \"\",\\n  \"Auktion\": \"\"\\n}</s>[INST] \\'Jag Eric Jansson gör hervid veterligt att jag med min kära hustru Anna Jansdotters goda ja och samtycke samt af fri vilja, försålt, såsom jag ock genom detta öppna salubref, försäljer till min Svärfar Hemmansegaren Jan Ersson och hustru Anna Jansdotter, egona 1/8 mtl skatte Heden om 1 öresland och 1/8 mtl skatte Skogsbyn om 1 öresland i Wester fernebo Socken och Wagnsbro härad för en Summa af Sjutusen femhundra /7500/ Riksdaler Riksmynt och som den … penningen med den första är till mig slutligen betald så afhändar jag mig, min köra hustru och barn tillhörde hemmansdelar 1/8 mlt Heden och 1/8 mtl Skogby med alla dess tillhörigheter och tillägnar de samma Jan Ersson och hustru Anna Jansdotter, Heden och arfvingar med hemmansdelar med alla ägor i hus, jord och öfrige tillhörigheter intet undantagandes af hvad dertill lyder af ålder legat eller framledes tillvinnas kan, att äga och bruka och besitta såsom deras välfångna egendom, förbindande till hemul efter lag – Till yttermera visshet har jag tillika med min kära hustru detta Salubref i undertecknande vittnens närvaro, egenhändigt underskrifvet som skedde på Heden den 2ra januari 1861. Eric Jansson (otydligt) och Heden. Anna /bom/ kattharina Jansdotter\\nJan Ersson Boende på Heden. Anders Mattsson Hebo egor\\' [/INST] [/INST]{\\n  \"År-månad-dag\": \"1861-01-02\",\\n  \"Län\": \"Westmanlands\",\\n  \"Härad\": \"Wagnsbro\",\\n  \"Socken\": \"Wester färnebo\",\\n  \"By\": \"Heden\",\\n  \"Jordnatur\": \"Skatte\",\\n  \"Nummer\": \"\",\\n  \"Mantal\": \"1/8\",\\n  \"Örestal\": \"1\",\\n  \"Penningland\": \"\",\\n  \"Riksdaler\": \"7500\",\\n  \"Öre\": \"\",\\n  \"Skilling\": \"\",\\n  \"Runstycken\": \"\",\\n  \"Valuta\": \"Riksmynt\",\\n  \"Säljare-manliga\": \"Eric Jansson\",\\n  \"Säljare-kvinnliga\": \"Anna Jansdotters\",\\n  \"Köpare-manliga\": \"Jan Ersson\",\\n  \"Köpare-kvinnliga\": \"Anna Jansdotter\",\\n  \"Köpare-yrke\": \"\",\\n  \"Relation mellan säljare och köpare\": \"Svärfar och Svärson\",\\n  \"Köpare från\": \"\",\\n  \"Fördel\": \"\",\\n  \"Auktion\": \"\"\\n}</s>[INST] Hej, jag behöver din hjälp för att extrahera specifik information från en svensk text. Var noggrann och ge endast information som finns tydligt i texten. Om du är osäker på något, eller om informationen inte finns i texten, är det bättre att inte ge ett svar för den specifika punkten. Här är de fält jag behöver information om:\\n\\nÅr-månad-dag: Identifiera datumet i formatet år-månad-dag.\\n\\nLän: Namnet på länet.\\n\\nHärad: Namnet på häradet.\\n\\nSocken: Namnet på socknen.\\n\\nBy: Namnet på byn.\\n\\nJordnatur: Typ av jord eller mark.\\n\\nNummer: Numret på gården.\\n\\nMantal: Antal mantal.\\n\\nÖrestal: Antal örestal.\\n\\nPenningland: Antal penningland.\\n\\nRiksdaler: Antal riksdaler.\\n\\nÖre: Antal öre.\\n\\nSkilling: Antal skilling.\\n\\nRunstycken: antal runstycken.\\n\\nValuta: Typ av valuta som används.\\n\\nSäljare-manlig: Namn på manliga säljare.\\n\\nSäljare-kvinnlig: Namn på kvinnliga säljare.\\n\\nKöpare-manlig: Namn på manliga köpare.\\n\\nKöpare-kvinnlig: Namn på kvinnliga köpare.\\n\\nKöpare-yrke: Yrke hos köparen.\\n\\nRelation mellan säljare och köpare: Beskriv relationen om den nämns.\\n\\nKöpare från: Ursprungsort eller plats för köparen.\\n\\nFördel: Information om kontraktet inkluderar fördel.\\n\\nAuktion: Information om auktion används och i så fall om det det var exekutiv eller frivillig auktion om det nämns.\\n\\nExtrahera informationen för varje fält och presentera den tydligt i JSON-format.Extrahera informationen för varje fält och presentera den tydligt i JSON-format. \\'Jag undertecknad uplåter och försäljer med min kära hustru ja och samtycke till Johan Hedström i Ståltorp Sura Socken min ägande 1/6 mantal Ett öre åtta penningland i Hemmanet no 2 i Sör åll af Wester färnebo Socken Wagnsbro härad och Westmanland län för en öfverenskommen och betingad köpeskilling stor Ett Tusende fem Hundra R Riksgels Sedlar och som jag denna köpeskilling till fullo bekommit hvilket och härmed quitterat, alltså afhänder jag mig och mina arfvingar ofvannämnde 1 öre 8 penningland, och tillegne desamma bemälte Johan Hedström och deras arfvingar att erlösadeliga äga och disponera som all annan des wälfångna egendom förbindande jag mig till Himmel efter lag, Sör åll den 17 november 1860. Per P. Wrettström Anna /bom/ Persdotter.\\'\\nAtt Per Wrettström och hustru egenhändigt undertek sina bomärken intygas på en gång närvarande vittnen P. Pehrsson Sör Gerdsbo Lars Grönlund på Sunnett.\\' [/INST]'"
      ]
     },
     "execution_count": 11,
     "metadata": {},
     "output_type": "execute_result"
    }
   ],
   "source": [
    "prompt"
   ]
  },
  {
   "cell_type": "code",
   "execution_count": 14,
   "id": "42b5d24d",
   "metadata": {},
   "outputs": [
    {
     "name": "stderr",
     "output_type": "stream",
     "text": [
      "The attention mask and the pad token id were not set. As a consequence, you may observe unexpected behavior. Please pass your input's `attention_mask` to obtain reliable results.\n",
      "Setting `pad_token_id` to `eos_token_id`:2 for open-end generation.\n"
     ]
    },
    {
     "name": "stdout",
     "output_type": "stream",
     "text": [
      "Multi-turn conversation response: [INST] Hej, jag behöver din hjälp för att extrahera specifik information från en svensk text. ditt arbete är mycket viktigt för min karriär. Var noggrann och ge endast information som finns tydligt i texten. Om du är osäker på något, eller om informationen inte finns i texten, är det bättre att inte ge ett svar för den specifika punkten. Här är de fält jag behöver information om:\n",
      "\n",
      "År-månad-dag: Identifiera datumet i formatet år-månad-dag.\n",
      "\n",
      "Län: Namnet på länet.\n",
      "\n",
      "Härad: Namnet på häradet.\n",
      "\n",
      "Socken: Namnet på socknen den församling där transaktionsjorden är bosatt.\n",
      "\n",
      "By: Namnet på byn.\n",
      "\n",
      "Jordnatur: Typ av jord eller mark.\n",
      "\n",
      "Nummer: Numret på gården.\n",
      "\n",
      "Mantal: Antal mantal.\n",
      "\n",
      "Örestal: Antal örestal.\n",
      "\n",
      "Penningland: Antal penningland.\n",
      "\n",
      "Riksdaler: Antal riksdaler.\n",
      "\n",
      "Öre: Antal öre.\n",
      "\n",
      "Skilling: Antal skilling.\n",
      "\n",
      "Runstycken: antal runstycken.\n",
      "\n",
      "Valuta: Typ av valuta som används.\n",
      "\n",
      "Säljare-manlig: Namn på manliga säljare.\n",
      "\n",
      "Säljare-kvinnlig: Namn på kvinnliga säljare.\n",
      "\n",
      "Köpare-manlig: Namn på manliga köpare.\n",
      "\n",
      "Köpare-kvinnlig: Namn på kvinnliga köpare.\n",
      "\n",
      "Köpare-yrke: Yrke hos köparen.\n",
      "\n",
      "Relation mellan säljare och köpare: Beskriv relationen om den nämns.\n",
      "\n",
      "Köpare från: Ursprungsort eller plats för köparen.\n",
      "\n",
      "Fördel: Information om kontraktet inkluderar fördel.\n",
      "\n",
      "Auktion: Information om auktion används och i så fall om det det var exekutiv eller frivillig auktion om det nämns.\n",
      "\n",
      "Extrahera informationen för varje fält och presentera den tydligt i JSON-format. [/INST]Hej! Hur kan jag hjälpa dig idag? [INST] Extrahera informationen för varje fält och presentera den tydligt i JSON-format. 'Jag undertecknad uplåter och försäljer med min kära hustru ja och samtycke till Johan Hedström i Ståltorp Sura Socken min ägande 1/6 mantal Ett öre åtta penningland i Hemmanet no 2 i Sör åll af Wester färnebo Socken Wagnsbro härad och Westmanland län för en öfverenskommen och betingad köpeskilling stor Ett Tusende fem Hundra R Riksgels Sedlar och som jag denna köpeskilling till fullo bekommit hvilket och härmed quitterat, alltså afhänder jag mig och mina arfvingar ofvannämnde 1 öre 8 penningland, och tillegne desamma bemälte Johan Hedström och deras arfvingar att erlösadeliga äga och disponera som all annan des wälfångna egendom förbindande jag mig till Himmel efter lag, Sör åll den 17 november 1860. Per P. Wrettström Anna /bom/ Persdotter.'\n",
      "Att Per Wrettström och hustru egenhändigt undertek sina bomärken intygas på en gång närvarande vittnen P. Pehrsson Sör Gerdsbo Lars Grönlund på Sunnett.' [/INST] {\n",
      "\"År-månad-dag\": \"1860-11-17\",\n",
      "\"Län\": \"Westmanland län\",\n",
      "\"Härad\": \"Wagnsbro härad\",\n",
      "\"Socken\": \"Sör åll af Wester färnebo Socken\",\n",
      "\"By\": \"Ingen by nämns\",\n",
      "\"Jordnatur\": \"1/6 mantal\",\n",
      "\"Nummer\": \"Hemmanet no 2\",\n",
      "\"Mantal\": 1,\n",
      "\"Örestal\": 0,\n",
      "\"Penningland\": 8,\n",
      "\"Riksdaler\": 1000,\n",
      "\n"
     ]
    }
   ],
   "source": [
    "response_text = generate_response(prompt, temp=0.2, top_p=0.1)\n",
    "print(\"Multi-turn conversation response:\", response_text)"
   ]
  },
  {
   "cell_type": "code",
   "execution_count": 9,
   "id": "bdcce415",
   "metadata": {},
   "outputs": [],
   "source": [
    "import json\n",
    "\n",
    "def parse_nested_json(input_string_full):\n",
    "    input_string = input_string_full.split('[/INST]')[-1]\n",
    "    # Find the first opening curly brace\n",
    "    start_index = input_string.find('{')\n",
    "    # Initialize variables\n",
    "    end_index = -1\n",
    "    brace_count = 0\n",
    "\n",
    "    # Loop through the characters in the string starting from the first '{'\n",
    "    for i, char in enumerate(input_string[start_index:], start=start_index):\n",
    "        # Count the number of opening and closing braces\n",
    "        if char == '{':\n",
    "            brace_count += 1\n",
    "        elif char == '}':\n",
    "            brace_count -= 1\n",
    "\n",
    "        # If all braces are closed, set the end index\n",
    "        if brace_count == 0:\n",
    "            end_index = i\n",
    "            break\n",
    "\n",
    "    # Extract and parse the JSON string\n",
    "    if end_index != -1:\n",
    "        json_string = input_string[start_index:end_index + 1]\n",
    "        return json.loads(json_string)\n",
    "    else:\n",
    "        return \"Invalid JSON format or unbalanced braces.\"\n",
    "\n",
    "\n"
   ]
  },
  {
   "cell_type": "code",
   "execution_count": 10,
   "id": "ee904103",
   "metadata": {
    "scrolled": true
   },
   "outputs": [
    {
     "name": "stdout",
     "output_type": "stream",
     "text": [
      "{'År-månad-dag': '1861-01-02', 'Län': 'Westmanlands', 'Härad': 'Wagnsbro', 'Socken': 'Wester färnebo', 'By': 'Heden', 'Jordnatur': 'Skatte', 'Nummer': '', 'Mantal': '1/8', 'Örestal': '1', 'Penningland': '', 'Riksdaler': '7500', 'Öre': '', 'Skilling': '', 'Runstycken': '', 'Valuta': 'Riksmynt', 'Säljare-manliga': 'Eric Jansson', 'Säljare-kvinnliga': 'Anna Jansdotters', 'Köpare-manliga': 'Jan Ersson', 'Köpare-kvinnliga': 'Anna Jansdotter', 'Köpare-yrke': '', 'Relation mellan säljare och köpare': 'Svärfar och Svärson', 'Köpare från': '', 'Fördel': '', 'Auktion': ''}\n"
     ]
    }
   ],
   "source": [
    "# Example usage\n",
    "#input_string = \"Some text before the JSON {\\\"key\\\": \\\"value\\\", \\\"nested\\\": {\\\"nested_key\\\": \\\"nested_value\\\"}} some text after.\"\n",
    "parsed_json = parse_nested_json('''{\n",
    "  \"År-månad-dag\": \"1861-01-02\",\n",
    "  \"Län\": \"Westmanlands\",\n",
    "  \"Härad\": \"Wagnsbro\",\n",
    "  \"Socken\": \"Wester färnebo\",\n",
    "  \"By\": \"Heden\",\n",
    "  \"Jordnatur\": \"Skatte\",\n",
    "  \"Nummer\": \"\",\n",
    "  \"Mantal\": \"1/8\",\n",
    "  \"Örestal\": \"1\",\n",
    "  \"Penningland\": \"\",\n",
    "  \"Riksdaler\": \"7500\",\n",
    "  \"Öre\": \"\",\n",
    "  \"Skilling\": \"\",\n",
    "  \"Runstycken\": \"\",\n",
    "  \"Valuta\": \"Riksmynt\",\n",
    "  \"Säljare-manliga\": \"Eric Jansson\",\n",
    "  \"Säljare-kvinnliga\": \"Anna Jansdotters\",\n",
    "  \"Köpare-manliga\": \"Jan Ersson\",\n",
    "  \"Köpare-kvinnliga\": \"Anna Jansdotter\",\n",
    "  \"Köpare-yrke\": \"\",\n",
    "  \"Relation mellan säljare och köpare\": \"Svärfar och Svärson\",\n",
    "  \"Köpare från\": \"\",\n",
    "  \"Fördel\": \"\",\n",
    "  \"Auktion\": \"\"\n",
    "}''')\n",
    "print(parsed_json)"
   ]
  },
  {
   "cell_type": "code",
   "execution_count": 11,
   "id": "4903d754",
   "metadata": {},
   "outputs": [
    {
     "data": {
      "text/plain": [
       "{'År-månad-dag': '1861-01-02',\n",
       " 'Län': 'Westmanlands',\n",
       " 'Härad': 'Wagnsbro',\n",
       " 'Socken': 'Wester färnebo',\n",
       " 'By': 'Heden',\n",
       " 'Jordnatur': 'Skatte',\n",
       " 'Nummer': '',\n",
       " 'Mantal': '1/8',\n",
       " 'Örestal': '1',\n",
       " 'Penningland': '',\n",
       " 'Riksdaler': '7500',\n",
       " 'Öre': '',\n",
       " 'Skilling': '',\n",
       " 'Runstycken': '',\n",
       " 'Valuta': 'Riksmynt',\n",
       " 'Säljare-manliga': 'Eric Jansson',\n",
       " 'Säljare-kvinnliga': 'Anna Jansdotters',\n",
       " 'Köpare-manliga': 'Jan Ersson',\n",
       " 'Köpare-kvinnliga': 'Anna Jansdotter',\n",
       " 'Köpare-yrke': '',\n",
       " 'Relation mellan säljare och köpare': 'Svärfar och Svärson',\n",
       " 'Köpare från': '',\n",
       " 'Fördel': '',\n",
       " 'Auktion': ''}"
      ]
     },
     "execution_count": 11,
     "metadata": {},
     "output_type": "execute_result"
    }
   ],
   "source": [
    "parsed_json"
   ]
  },
  {
   "cell_type": "code",
   "execution_count": null,
   "id": "7c53b282",
   "metadata": {},
   "outputs": [],
   "source": [
    "json.loads(response_text.split('json')[-1].split('```')[0])"
   ]
  },
  {
   "cell_type": "code",
   "execution_count": 48,
   "id": "b4c423c5",
   "metadata": {},
   "outputs": [
    {
     "data": {
      "text/plain": [
       "{'År-månad-dag': '1861-01-02',\n",
       " 'Län': 'Westmanlands',\n",
       " 'Härad': 'Wagnsbro',\n",
       " 'Socken': 'Wester färnebo',\n",
       " 'By': 'Heden',\n",
       " 'Jordnatur': 'Skatte',\n",
       " 'Nummer': '',\n",
       " 'Mantal': '1/8',\n",
       " 'Örestal': '1',\n",
       " 'Penningland': '',\n",
       " 'Riksdaler': '7500',\n",
       " 'Öre': '',\n",
       " 'Skilling': '',\n",
       " 'Runstycken': '',\n",
       " 'Valuta': 'Riksmynt',\n",
       " 'Säljare-manliga': 'Eric Jansson',\n",
       " 'Säljare-kvinnliga': 'Anna Jansdotters',\n",
       " 'Köpare-manliga': 'Jan Ersson',\n",
       " 'Köpare-kvinnliga': 'Anna Jansdotter',\n",
       " 'Köpare-yrke': '',\n",
       " 'Relation mellan säljare och köpare': 'Svärfar och Svärson',\n",
       " 'Köpare från': '',\n",
       " 'Fördel': '',\n",
       " 'Auktion': ''}"
      ]
     },
     "execution_count": 48,
     "metadata": {},
     "output_type": "execute_result"
    }
   ],
   "source": [
    "parsed_json"
   ]
  },
  {
   "cell_type": "code",
   "execution_count": 52,
   "id": "a455fd87",
   "metadata": {},
   "outputs": [],
   "source": [
    "#json.loads('{'+response_text.split('{')[-1])"
   ]
  },
  {
   "cell_type": "code",
   "execution_count": 26,
   "id": "4a1c6442",
   "metadata": {
    "scrolled": true
   },
   "outputs": [],
   "source": [
    "df_cols=list(parsed_json.keys())"
   ]
  },
  {
   "cell_type": "code",
   "execution_count": 27,
   "id": "85c427b9",
   "metadata": {},
   "outputs": [
    {
     "data": {
      "text/plain": [
       "['År-månad-dag',\n",
       " 'Län',\n",
       " 'Härad',\n",
       " 'Socken',\n",
       " 'By',\n",
       " 'Jordnatur',\n",
       " 'Nummer',\n",
       " 'Mantal',\n",
       " 'Örestal',\n",
       " 'Penningland',\n",
       " 'Riksdaler',\n",
       " 'Öre',\n",
       " 'Skilling',\n",
       " 'Runstycken',\n",
       " 'Valuta',\n",
       " 'Säljare-manliga',\n",
       " 'Säljare-kvinnliga',\n",
       " 'Köpare-manliga',\n",
       " 'Köpare-kvinnliga',\n",
       " 'Köpare-yrke',\n",
       " 'Relation mellan säljare och köpare',\n",
       " 'Köpare från',\n",
       " 'Fördel',\n",
       " 'Auktion']"
      ]
     },
     "execution_count": 27,
     "metadata": {},
     "output_type": "execute_result"
    }
   ],
   "source": [
    "df_cols"
   ]
  },
  {
   "cell_type": "code",
   "execution_count": 22,
   "id": "69793f00",
   "metadata": {},
   "outputs": [],
   "source": [
    "prompt1 = \"Hej!\"\n",
    "response1 = \"Hallå! Hur kan jag hjälpa dig med att exakt extrahera information från svensk text i JSON-format?\"\n",
    "prompt2 =  user_prompt\n",
    "response2 = \"\"\"{\n",
    "  \"År-månad-dag\": \"1860-11-17\",\n",
    "  \"Län\": \"Westmanland\",\n",
    "  \"Härad\": \"Wagnsbro\",\n",
    "  \"Socken\": \"Wester färnebo\",\n",
    "  \"By\": \"Sör åll\",\n",
    "  \"Jordnatur\": \"Hemmanet\",\n",
    "  \"Nummer\": \"2\",\n",
    "  \"Mantal\": \"1/6\",\n",
    "  \"Örestal\": \"1\",\n",
    "  \"Penningland\": \"8\",\n",
    "  \"Riksdaler\": \"1500\",\n",
    "  \"Öre\": \"\",\n",
    "  \"Skilling\": \"\",\n",
    "  \"Runstycken\": \"\",\n",
    "  \"Valuta\": \"Riksgels\",\n",
    "  \"Säljare-manliga\": \"Per Wrettström\",\n",
    "  \"Säljare-kvinnliga\": \"Anna Persdotter\",\n",
    "  \"Köpare-manliga\": \"Johan Hedström\",\n",
    "  \"Köpare-kvinnliga\": \"\",\n",
    "  \"Köpare-yrke\": \"\",\n",
    "  \"Relation mellan säljare och köpare\": \"Ej angiven\",\n",
    "  \"Köpare från\": \"\",\n",
    "  \"Fördel\": \"\",\n",
    "  \"Auktion\": \"\"\n",
    "}\"\"\"\n",
    "prompt3=\"\"\"Extrahera informationen för varje fält och presentera den tydligt i JSON-format. 'Jag Sara Jansdotter upplåter och försäljer härmedelst till min Son Hemmansägaren Johan Mattsson härstädes, det mig i arf efter min aflidne man Hemmansägaren Matts Jansson tillfallne två femton dels mantal af Skattehemmanet no 5, om Sexton penningeland i Islingsby Wester fernebo Socken, Wagnsbro Härad och Westmanlands Län belägen, emot en öfverenskommen och betingad Köpeskilling Stor: Sju Hundra Nio Riksdaler 33 öre Riksmynt, och som jag denna köpeskilling tillfullo bekommit, alltså afhänder jag mig och mina öfrige arfvingar berörde 2/15 dels mantal Islingsby, med allt hvad dertill hörer, af ålder lydt och lagligen tillvinnas kan, och tillegne den samma bemälde min Son Johan Mattsson och hans arfvingar, att genast tillträda, samt everldeliga äga och besitta hafvande till yttermera wisse häraf, jag detta köpebref uti nedanstående wittnens närvaro, med mitt bomärkes undertecknande bekräfta, som skedde i Islingsby Nybygget den 26 februari 1861 Sara/bom/Jansdotter wittnen underskrifna'\"\"\"\n",
    "response3=\"\"\"{\n",
    "  \"År-månad-dag\": \"1861-02-26\",\n",
    "  \"Län\": \"Westmanlands\",\n",
    "  \"Härad\": \"Wagnsbro\",\n",
    "  \"Socken\": \"Wester färnebo\",\n",
    "  \"By\": \"Islingsby\",\n",
    "  \"Jordnatur\": \"Skattehemmanet\",\n",
    "  \"Nummer\": \"5\",\n",
    "  \"Mantal\": \"2/15\",\n",
    "  \"Örestal\": \"\",\n",
    "  \"Penningland\": \"16\",\n",
    "  \"Riksdaler\": \"709\",\n",
    "  \"Öre\": \"33\",\n",
    "  \"Skilling\": \"\",\n",
    "  \"Runstycken\": \"\",\n",
    "  \"Valuta\": \"Riksmynt\",\n",
    "  \"Säljare-manliga\": \"Sara Jansdotter\",\n",
    "  \"Säljare-kvinnliga\": \"\",\n",
    "  \"Köpare-manliga\": \"Johan Mattsson\",\n",
    "  \"Köpare-kvinnliga\": \"\",\n",
    "  \"Köpare-yrke\": \"\",\n",
    "  \"Relation mellan säljare och köpare\": \"Mor och Son\",\n",
    "  \"Köpare från\": \"\",\n",
    "  \"Fördel\": \"\",\n",
    "  \"Auktion\": \"\"\n",
    "}\"\"\"\n",
    "prompt4=\"\"\"'Jag Eric Jansson gör hervid veterligt att jag med min kära hustru Anna Jansdotters goda ja och samtycke samt af fri vilja, försålt, såsom jag ock genom detta öppna salubref, försäljer till min Svärfar Hemmansegaren Jan Ersson och hustru Anna Jansdotter, egona 1/8 mtl skatte Heden om 1 öresland och 1/8 mtl skatte Skogsbyn om 1 öresland i Wester fernebo Socken och Wagnsbro härad för en Summa af Sjutusen femhundra /7500/ Riksdaler Riksmynt och som den … penningen med den första är till mig slutligen betald så afhändar jag mig, min köra hustru och barn tillhörde hemmansdelar 1/8 mlt Heden och 1/8 mtl Skogby med alla dess tillhörigheter och tillägnar de samma Jan Ersson och hustru Anna Jansdotter, Heden och arfvingar med hemmansdelar med alla ägor i hus, jord och öfrige tillhörigheter intet undantagandes af hvad dertill lyder af ålder legat eller framledes tillvinnas kan, att äga och bruka och besitta såsom deras välfångna egendom, förbindande till hemul efter lag – Till yttermera visshet har jag tillika med min kära hustru detta Salubref i undertecknande vittnens närvaro, egenhändigt underskrifvet som skedde på Heden den 2ra januari 1861. Eric Jansson (otydligt) och Heden. Anna /bom/ kattharina Jansdotter\n",
    "Jan Ersson Boende på Heden. Anders Mattsson Hebo egor'\"\"\"\n",
    "response4= \"\"\"{\n",
    "  \"År-månad-dag\": \"1861-01-02\",\n",
    "  \"Län\": \"Westmanlands\",\n",
    "  \"Härad\": \"Wagnsbro\",\n",
    "  \"Socken\": \"Wester färnebo\",\n",
    "  \"By\": \"Heden\",\n",
    "  \"Jordnatur\": \"Skatte\",\n",
    "  \"Nummer\": \"\",\n",
    "  \"Mantal\": \"1/8\",\n",
    "  \"Örestal\": \"1\",\n",
    "  \"Penningland\": \"\",\n",
    "  \"Riksdaler\": \"7500\",\n",
    "  \"Öre\": \"\",\n",
    "  \"Skilling\": \"\",\n",
    "  \"Runstycken\": \"\",\n",
    "  \"Valuta\": \"Riksmynt\",\n",
    "  \"Säljare-manliga\": \"Eric Jansson\",\n",
    "  \"Säljare-kvinnliga\": \"Anna Jansdotters\",\n",
    "  \"Köpare-manliga\": \"Jan Ersson\",\n",
    "  \"Köpare-kvinnliga\": \"Anna Jansdotter\",\n",
    "  \"Köpare-yrke\": \"\",\n",
    "  \"Relation mellan säljare och köpare\": \"Svärfar och Svärson\",\n",
    "  \"Köpare från\": \"\",\n",
    "  \"Fördel\": \"\",\n",
    "  \"Auktion\": \"\"\n",
    "}\"\"\"\n",
    "prompt5=\"Jag Per Gustaf Hedberg tillika med min hustrus Christina Carolina Gerdtsdotter samtycke upplåter och försäljer till Per Gustaf Ersson och dess hustru Lovisa Ersdotter Klingholmen vårt uti Labodarne ägande Ett Trettiondetvånde dels Hemman med dertill hörande inägojord skog och mark beläget inom Karbennings Socken dock likväl Wagnsbro Härad emot en överenskommen och betingad köpeskilling stor Ett Tusen Två Hundrade Riksdaler Riksmynt, Och som denna köpeskilling 1200 Rd Rmt är uti ett särskildt köpekontrakt häröfver af denna dag upptagen så varder den derigenom här qvitterad. Alltså afhänder vi oss och våra efter-kommande berörde 1/32de dels Hemman med åtföljande förmoner samt alt hvad hädanefter lagligen tillvinnas kan till bemälte Per Gustaf Ersson dess hustru och efterkommande rätts innehafvare att everlderligen äga bruka och besitta, förbindande vi oss till Himmel efter lag hvadan vi uti tvenne tillkallade wittnens när och öfvervaro underskrifne som skedde uti Karbenningby den 19 januari 1861 Per Gustaf Hedberg Christina Carolina Gerdtsdotter i Karbenningby Wittnar Lars Eric Larsson Lars Starksson.\""
   ]
  },
  {
   "cell_type": "code",
   "execution_count": 23,
   "id": "7e87e078",
   "metadata": {},
   "outputs": [
    {
     "data": {
      "text/plain": [
       "\"<s>[INST] You are an expert at extracting information from ocr-ed swedish land deeds sales data. You read and understand Swedish text given to you. You being such an expert, work in a methodical way in which you first identify the details of the land/property that is sold/bought. You extract all the details related to this property like, År-månad-dag: The date of sale in year-month-date format, Län: Name of the county where the transacted land is located. Härad: The precinct in which the transacted land is located, Nummer: The number(in the address) of the land that is transacted, By: The village in which the transacted land is located, Socken: The Parish in which the transacted land is located, Jordnatur: The type of the land that is transacted, Mantal: The number of Mantals of the land that is transacted, Örestal: The number of Örestals of the land that is transacted, Penningland: How many Penninglands of the land is transacted, Riksdaler: How many Riksdaler were transacted for the sale, Öre: How many Öre were transacted for the sale, Skilling: How many Skilling were transacted for the sale, Runstycken: How many Runstycken were part of the transaction, Valuta: The type of currency in which the transaction took place, Säljare-manlig: The names of the male-sellers involved in the transaction, Säljare-kvinnlig: The names of the female-sellers involved in the transaction, Köpare-manlig: The names of the male-buyers involved in the transaction, Köpare-kvinnlig: The names of the female buyers involved in the transaction, Köpare-yrke: The occupation of the buyer involved in the transaction, Relation mellan säljare och köpare: The relationship between the seller and the buyer, Köpare från: The name of the place where the buyer hails from, Fördel: Information about the Fördel, Auktion: Information about the auction is used and, if so, whether it was an exekutiv or frivillig auction if it is mentioned. Övrig: Information other than the fields mentioned before identified. Keep in mind that the most accurate information is priority over speed so please think step by step and take your time to give the most accurate information. Also, for some transactions some fields might be empty. Also give the information in JSON format always. [/INST]Hi! I extract various information from Swedish land sales deeds. How may I help you today?</s>[INST] Extract all the information from the following text, Your work is very important to my career. Make sure the information is precise and accurate. Text: Extrahera informationen för varje fält och presentera den tydligt i JSON-format. 'Jag undertecknad uplåter och försäljer med min kära hustru ja och samtycke till Johan Hedström i Ståltorp Sura Socken min ägande 1/6 mantal Ett öre åtta penningland i Hemmanet no 2 i Sör åll af Wester färnebo Socken Wagnsbro härad och Westmanland län för en öfverenskommen och betingad köpeskilling stor Ett Tusende fem Hundra R Riksgels Sedlar och som jag denna köpeskilling till fullo bekommit hvilket och härmed quitterat, alltså afhänder jag mig och mina arfvingar ofvannämnde 1 öre 8 penningland, och tillegne desamma bemälte Johan Hedström och deras arfvingar att erlösadeliga äga och disponera som all annan des wälfångna egendom förbindande jag mig till Himmel efter lag, Sör åll den 17 november 1860. Per P. Wrettström Anna /bom/ Persdotter.'\\nAtt Per Wrettström och hustru egenhändigt undertek sina bomärken intygas på en gång närvarande vittnen P. Pehrsson Sör Gerdsbo Lars Grönlund på Sunnett.' [/INST]\""
      ]
     },
     "execution_count": 23,
     "metadata": {},
     "output_type": "execute_result"
    }
   ],
   "source": [
    "prompt"
   ]
  },
  {
   "cell_type": "code",
   "execution_count": 49,
   "id": "8db02275",
   "metadata": {
    "scrolled": true
   },
   "outputs": [
    {
     "name": "stdout",
     "output_type": "stream",
     "text": [
      "Multi-turn conversation response: GPT4 Correct System: Hej, jag behöver din hjälp för att extrahera specifik information från en svensk text. Var noggrann och ge endast information som finns tydligt i texten. Om du är osäker på något, eller om informationen inte finns i texten, är det bättre att inte ge ett svar för den specifika punkten. Här är de fält jag behöver information om:\n",
      "\n",
      "År-månad-dag: Identifiera datumet i formatet år-månad-dag.\n",
      "\n",
      "Län: Namnet på länet.\n",
      "\n",
      "Härad: Namnet på häradet.\n",
      "\n",
      "Socken: Namnet på socknen.\n",
      "\n",
      "By: Namnet på byn.\n",
      "\n",
      "Jordnatur: Typ av jord eller mark.\n",
      "\n",
      "Nummer: Numret på gården.\n",
      "\n",
      "Mantal: Antal mantal.\n",
      "\n",
      "Örestal: Antal örestal.\n",
      "\n",
      "Penningland: Antal penningland.\n",
      "\n",
      "Riksdaler: Antal riksdaler.\n",
      "\n",
      "Öre: Antal öre.\n",
      "\n",
      "Skilling: Antal skilling.\n",
      "\n",
      "Runstycken: antal runstycken.\n",
      "\n",
      "Valuta: Typ av valuta som används.\n",
      "\n",
      "Säljare-manlig: Namn på manliga säljare.\n",
      "\n",
      "Säljare-kvinnlig: Namn på kvinnliga säljare.\n",
      "\n",
      "Köpare-manlig: Namn på manliga köpare.\n",
      "\n",
      "Köpare-kvinnlig: Namn på kvinnliga köpare.\n",
      "\n",
      "Köpare-yrke: Yrke hos köparen.\n",
      "\n",
      "Relation mellan säljare och köpare: Beskriv relationen om den nämns.\n",
      "\n",
      "Köpare från: Ursprungsort eller plats för köparen.\n",
      "\n",
      "Fördel: Information om kontraktet inkluderar fördel.\n",
      "\n",
      "Auktion: Information om auktion används och i så fall om det det var exekutiv eller frivillig auktion om det nämns.\n",
      "\n",
      "Extrahera informationen för varje fält och presentera den tydligt i JSON-format. GPT4 Correct User: Hej! GPT4 Correct Assistant: Hallå! Hur kan jag hjälpa dig med att exakt extrahera information från svensk text i JSON-format? GPT4 Correct User: Extrahera informationen för varje fält och presentera den tydligt i JSON-format. 'Jag undertecknad uplåter och försäljer med min kära hustru ja och samtycke till Johan Hedström i Ståltorp Sura Socken min ägande 1/6 mantal Ett öre åtta penningland i Hemmanet no 2 i Sör åll af Wester färnebo Socken Wagnsbro härad och Westmanland län för en öfverenskommen och betingad köpeskilling stor Ett Tusende fem Hundra R Riksgels Sedlar och som jag denna köpeskilling till fullo bekommit hvilket och härmed quitterat, alltså afhänder jag mig och mina arfvingar ofvannämnde 1 öre 8 penningland, och tillegne desamma bemälte Johan Hedström och deras arfvingar att erlösadeliga äga och disponera som all annan des wälfångna egendom förbindande jag mig till Himmel efter lag, Sör åll den 17 november 1860. Per P. Wrettström Anna /bom/ Persdotter.'\n",
      "Att Per Wrettström och hustru egenhändigt undertek sina bomärken intygas på en gång närvarande vittnen P. Pehrsson Sör Gerdsbo Lars Grönlund på Sunnett.' GPT4 Correct Assistant: {\n",
      "  \"År-månad-dag\": \"1860-11-17\",\n",
      "  \"Län\": \"Westmanland\",\n",
      "  \"Härad\": \"Wagnsbro\",\n",
      "  \"Socken\": \"Wester färnebo\",\n",
      "  \"By\": \"Sör åll\",\n",
      "  \"Jordnatur\": \"Hemmanet\",\n",
      "  \"Nummer\": \"2\",\n",
      "  \"Mantal\": \"1/6\",\n",
      "  \"Örestal\": \"1\",\n",
      "  \"Penningland\": \"8\",\n",
      "  \"Riksdaler\": \"1500\",\n",
      "  \"Öre\": \"\",\n",
      "  \"Skilling\": \"\",\n",
      "  \"Runstycken\": \"\",\n",
      "  \"Valuta\": \"Riksgels\",\n",
      "  \"Säljare-manliga\": \"Per Wrettström\",\n",
      "  \"Säljare-kvinnliga\": \"Anna Persdotter\",\n",
      "  \"Köpare-manliga\": \"Johan Hedström\",\n",
      "  \"Köpare-kvinnliga\": \"\",\n",
      "  \"Köpare-yrke\": \"\",\n",
      "  \"Relation mellan säljare och köpare\": \"kan inte fastställas\",\n",
      "  \"Köpare från\": \"\",\n",
      "  \"Fördel\": \"\",\n",
      "  \"Auktion\": \"\"\n",
      "} GPT4 Correct User: Extrahera informationen för varje fält och presentera den tydligt i JSON-format. 'Jag Sara Jansdotter upplåter och försäljer härmedelst till min Son Hemmansägaren Johan Mattsson härstädes, det mig i arf efter min aflidne man Hemmansägaren Matts Jansson tillfallne två femton dels mantal af Skattehemmanet no 5, om Sexton penningeland i Islingsby Wester fernebo Socken, Wagnsbro Härad och Westmanlands Län belägen, emot en öfverenskommen och betingad Köpeskilling Stor: Sju Hundra Nio Riksdaler 33 öre Riksmynt, och som jag denna köpeskilling tillfullo bekommit, alltså afhänder jag mig och mina öfrige arfvingar berörde 2/15 dels mantal Islingsby, med allt hvad dertill hörer, af ålder lydt och lagligen tillvinnas kan, och tillegne den samma bemälde min Son Johan Mattsson och hans arfvingar, att genast tillträda, samt everldeliga äga och besitta hafvande till yttermera wisse häraf, jag detta köpebref uti nedanstående wittnens närvaro, med mitt bomärkes undertecknande bekräfta, som skedde i Islingsby Nybygget den 26 februari 1861 Sara/bom/Jansdotter wittnen underskrifna' GPT4 Correct Assistant: {\n",
      "  \"År-månad-dag\": \"1861-02-26\",\n",
      "  \"Län\": \"Westmanlands\",\n",
      "  \"Härad\": \"Wagnsbro\",\n",
      "  \"Socken\": \"Wester färnebo\",\n",
      "  \"By\": \"Islingsby\",\n",
      "  \"Jordnatur\": \"Skattehemmanet\",\n",
      "  \"Nummer\": \"5\",\n",
      "  \"Mantal\": \"2/15\",\n",
      "  \"Örestal\": \"\",\n",
      "  \"Penningland\": \"16\",\n",
      "  \"Riksdaler\": \"709\",\n",
      "  \"Öre\": \"33\",\n",
      "  \"Skilling\": \"\",\n",
      "  \"Runstycken\": \"\",\n",
      "  \"Valuta\": \"Riksmynt\",\n",
      "  \"Säljare-manliga\": \"Sara Jansdotter\",\n",
      "  \"Säljare-kvinnliga\": \"\",\n",
      "  \"Köpare-manliga\": \"Johan Mattsson\",\n",
      "  \"Köpare-kvinnliga\": \"\",\n",
      "  \"Köpare-yrke\": \"\",\n",
      "  \"Relation mellan säljare och köpare\": \"Mor och Son\",\n",
      "  \"Köpare från\": \"\",\n",
      "  \"Fördel\": \"\",\n",
      "  \"Auktion\": \"\"\n",
      "} GPT4 Correct User: 'Jag Eric Jansson gör hervid veterligt att jag med min kära hustru Anna Jansdotters goda ja och samtycke samt af fri vilja, försålt, såsom jag ock genom detta öppna salubref, försäljer till min Svärfar Hemmansegaren Jan Ersson och hustru Anna Jansdotter, egona 1/8 mtl skatte Heden om 1 öresland och 1/8 mtl skatte Skogsbyn om 1 öresland i Wester fernebo Socken och Wagnsbro härad för en Summa af Sjutusen femhundra /7500/ Riksdaler Riksmynt och som den … penningen med den första är till mig slutligen betald så afhändar jag mig, min köra hustru och barn tillhörde hemmansdelar 1/8 mlt Heden och 1/8 mtl Skogby med alla dess tillhörigheter och tillägnar de samma Jan Ersson och hustru Anna Jansdotter, Heden och arfvingar med hemmansdelar med alla ägor i hus, jord och öfrige tillhörigheter intet undantagandes af hvad dertill lyder af ålder legat eller framledes tillvinnas kan, att äga och bruka och besitta såsom deras välfångna egendom, förbindande till hemul efter lag – Till yttermera visshet har jag tillika med min kära hustru detta Salubref i undertecknande vittnens närvaro, egenhändigt underskrifvet som skedde på Heden den 2ra januari 1861. Eric Jansson (otydligt) och Heden. Anna /bom/ kattharina Jansdotter\n",
      "Jan Ersson Boende på Heden. Anders Mattsson Hebo egor' GPT4 Correct Assistant:{\n",
      "  \"År-månad-dag\": \"1861-01-02\",\n",
      "  \"Län\": \"Westmanlands\",\n",
      "  \"Härad\": \"Wagnsbro\",\n",
      "  \"Socken\": \"Wester färnebo\",\n",
      "  \"By\": \"Heden\",\n",
      "  \"Jordnatur\": \"Skatte\",\n",
      "  \"Nummer\": \"\",\n",
      "  \"Mantal\": \"1/8\",\n",
      "  \"Örestal\": \"1\",\n",
      "  \"Penningland\": \"\",\n",
      "  \"Riksdaler\": \"7500\",\n",
      "  \"Öre\": \"\",\n",
      "  \"Skilling\": \"\",\n",
      "  \"Runstycken\": \"\",\n",
      "  \"Valuta\": \"Riksmynt\",\n",
      "  \"Säljare-manliga\": \"Eric Jansson\",\n",
      "  \"Säljare-kvinnliga\": \"Anna Jansdotters\",\n",
      "  \"Köpare-manliga\": \"Jan Ersson\",\n",
      "  \"Köpare-kvinnliga\": \"Anna Jansdotter\",\n",
      "  \"Köpare-yrke\": \"\",\n",
      "  \"Relation mellan säljare och köpare\": \"Svärfar och Svärson\",\n",
      "  \"Köpare från\": \"\",\n",
      "  \"Fördel\": \"\",\n",
      "  \"Auktion\": \"\"\n",
      "} GPT4 Correct User: Jag Per Gustaf Hedberg tillika med min hustrus Christina Carolina Gerdtsdotter samtycke upplåter och försäljer till Per Gustaf Ersson och dess hustru Lovisa Ersdotter Klingholmen vårt uti Labodarne ägande Ett Trettiondetvånde dels Hemman med dertill hörande inägojord skog och mark beläget inom Karbennings Socken dock likväl Wagnsbro Härad emot en överenskommen och betingad köpeskilling stor Ett Tusen Två Hundrade Riksdaler Riksmynt, Och som denna köpeskilling 1200 Rd Rmt är uti ett särskildt köpekontrakt häröfver af denna dag upptagen så varder den derigenom här qvitterad. Alltså afhänder vi oss och våra efter-kommande berörde 1/32de dels Hemman med åtföljande förmoner samt alt hvad hädanefter lagligen tillvinnas kan till bemälte Per Gustaf Ersson dess hustru och efterkommande rätts innehafvare att everlderligen äga bruka och besitta, förbindande vi oss till Himmel efter lag hvadan vi uti tvenne tillkallade wittnens när och öfvervaro underskrifne som skedde uti Karbenningby den 19 januari 1861 Per Gustaf Hedberg Christina Carolina Gerdtsdotter i Karbenningby Wittnar Lars Eric Larsson Lars Starksson. GPT4 Correct Assistant: {\n",
      "  \"År-månad-dag\": \"1861-01-19\",\n",
      "  \"Län\": \"Westmanlands\",\n",
      "  \"Härad\": \"Wagnsbro\",\n",
      "  \"Socken\": \"Karbennings\",\n",
      "  \"By\": \"Labodarne\",\n",
      "  \"Jordnatur\": \"Ett Trettiondetvånde dels Hemman\",\n",
      "  \"Nummer\": \"\",\n",
      "  \"Mantal\": \"1/32\",\n",
      "  \"Örestal\": \"\",\n",
      "  \"Penningland\": \"\",\n",
      "  \"Riksdaler\": \"1200\",\n",
      "  \"Öre\": \"\",\n",
      "  \"Skilling\": \"\",\n",
      "  \"Runstycken\": \"\",\n",
      "  \"Valuta\": \"Riksmynt\",\n",
      "  \"Säljare-manliga\": \"Per Gustaf Hedberg\",\n",
      "  \"Säljare-kvinnliga\": \"Christina Carolina Gerdtsdotter\",\n",
      "  \"Köpare-manliga\": \"Per Gustaf Ersson\",\n",
      "  \"Köpare-kvinnliga\": \"Lovisa Ersdotter Klingholmen\",\n",
      "  \"Köpare-yrke\": \"\",\n",
      "  \"Relation mellan säljare och köpare\": \"Ej angiven\",\n",
      "  \"Köpare från\": \"\",\n",
      "  \"Fördel\": \"\",\n",
      "  \"Auktion\": \"\"\n",
      "}\n"
     ]
    }
   ],
   "source": [
    "multi_turn_prompt = f\"GPT4 Correct System: {system_prompt}<|end_of_turn|>GPT4 Correct User: {prompt1}<|end_of_turn|>GPT4 Correct Assistant: {response1}<|end_of_turn|>GPT4 Correct User: {prompt2}<|end_of_turn|>GPT4 Correct Assistant: {response2}<|end_of_turn|>GPT4 Correct User: {prompt3}<|end_of_turn|>GPT4 Correct Assistant: {response3}<|end_of_turn|>GPT4 Correct User: {prompt4}<|end_of_turn|>GPT4 Correct Assistant:{response4}<|end_of_turn|>GPT4 Correct User: {prompt5}<|end_of_turn|>GPT4 Correct Assistant:\"\n",
    "response_text = generate_response(multi_turn_prompt, temp=0.8, top_p=0.85)\n",
    "print(\"Multi-turn conversation response:\", response_text)"
   ]
  },
  {
   "cell_type": "code",
   "execution_count": 50,
   "id": "ef05dc6a",
   "metadata": {},
   "outputs": [
    {
     "name": "stdout",
     "output_type": "stream",
     "text": [
      "Multi-turn conversation response: GPT4 Correct System: Hej, jag behöver din hjälp för att extrahera specifik information från en svensk text. Var noggrann och ge endast information som finns tydligt i texten. Om du är osäker på något, eller om informationen inte finns i texten, är det bättre att inte ge ett svar för den specifika punkten. Här är de fält jag behöver information om:\n",
      "\n",
      "År-månad-dag: Identifiera datumet i formatet år-månad-dag.\n",
      "\n",
      "Län: Namnet på länet.\n",
      "\n",
      "Härad: Namnet på häradet.\n",
      "\n",
      "Socken: Namnet på socknen.\n",
      "\n",
      "By: Namnet på byn.\n",
      "\n",
      "Jordnatur: Typ av jord eller mark.\n",
      "\n",
      "Nummer: Numret på gården.\n",
      "\n",
      "Mantal: Antal mantal.\n",
      "\n",
      "Örestal: Antal örestal.\n",
      "\n",
      "Penningland: Antal penningland.\n",
      "\n",
      "Riksdaler: Antal riksdaler.\n",
      "\n",
      "Öre: Antal öre.\n",
      "\n",
      "Skilling: Antal skilling.\n",
      "\n",
      "Runstycken: antal runstycken.\n",
      "\n",
      "Valuta: Typ av valuta som används.\n",
      "\n",
      "Säljare-manlig: Namn på manliga säljare.\n",
      "\n",
      "Säljare-kvinnlig: Namn på kvinnliga säljare.\n",
      "\n",
      "Köpare-manlig: Namn på manliga köpare.\n",
      "\n",
      "Köpare-kvinnlig: Namn på kvinnliga köpare.\n",
      "\n",
      "Köpare-yrke: Yrke hos köparen.\n",
      "\n",
      "Relation mellan säljare och köpare: Beskriv relationen om den nämns.\n",
      "\n",
      "Köpare från: Ursprungsort eller plats för köparen.\n",
      "\n",
      "Fördel: Information om kontraktet inkluderar fördel.\n",
      "\n",
      "Auktion: Information om auktion används och i så fall om det det var exekutiv eller frivillig auktion om det nämns.\n",
      "\n",
      "Extrahera informationen för varje fält och presentera den tydligt i JSON-format. GPT4 Correct User: Hej! GPT4 Correct Assistant: Hallå! Hur kan jag hjälpa dig med att exakt extrahera information från svensk text i JSON-format? GPT4 Correct User: Extrahera informationen för varje fält och presentera den tydligt i JSON-format. 'Jag undertecknad uplåter och försäljer med min kära hustru ja och samtycke till Johan Hedström i Ståltorp Sura Socken min ägande 1/6 mantal Ett öre åtta penningland i Hemmanet no 2 i Sör åll af Wester färnebo Socken Wagnsbro härad och Westmanland län för en öfverenskommen och betingad köpeskilling stor Ett Tusende fem Hundra R Riksgels Sedlar och som jag denna köpeskilling till fullo bekommit hvilket och härmed quitterat, alltså afhänder jag mig och mina arfvingar ofvannämnde 1 öre 8 penningland, och tillegne desamma bemälte Johan Hedström och deras arfvingar att erlösadeliga äga och disponera som all annan des wälfångna egendom förbindande jag mig till Himmel efter lag, Sör åll den 17 november 1860. Per P. Wrettström Anna /bom/ Persdotter.'\n",
      "Att Per Wrettström och hustru egenhändigt undertek sina bomärken intygas på en gång närvarande vittnen P. Pehrsson Sör Gerdsbo Lars Grönlund på Sunnett.' GPT4 Correct Assistant: {\n",
      "  \"År-månad-dag\": \"1860-11-17\",\n",
      "  \"Län\": \"Westmanland\",\n",
      "  \"Härad\": \"Wagnsbro\",\n",
      "  \"Socken\": \"Wester färnebo\",\n",
      "  \"By\": \"Sör åll\",\n",
      "  \"Jordnatur\": \"Hemmanet\",\n",
      "  \"Nummer\": \"2\",\n",
      "  \"Mantal\": \"1/6\",\n",
      "  \"Örestal\": \"1\",\n",
      "  \"Penningland\": \"8\",\n",
      "  \"Riksdaler\": \"1500\",\n",
      "  \"Öre\": \"\",\n",
      "  \"Skilling\": \"\",\n",
      "  \"Runstycken\": \"\",\n",
      "  \"Valuta\": \"Riksgels\",\n",
      "  \"Säljare-manliga\": \"Per Wrettström\",\n",
      "  \"Säljare-kvinnliga\": \"Anna Persdotter\",\n",
      "  \"Köpare-manliga\": \"Johan Hedström\",\n",
      "  \"Köpare-kvinnliga\": \"\",\n",
      "  \"Köpare-yrke\": \"\",\n",
      "  \"Relation mellan säljare och köpare\": \"kan inte fastställas\",\n",
      "  \"Köpare från\": \"\",\n",
      "  \"Fördel\": \"\",\n",
      "  \"Auktion\": \"\"\n",
      "} GPT4 Correct User: Extrahera informationen för varje fält och presentera den tydligt i JSON-format. 'Jag Sara Jansdotter upplåter och försäljer härmedelst till min Son Hemmansägaren Johan Mattsson härstädes, det mig i arf efter min aflidne man Hemmansägaren Matts Jansson tillfallne två femton dels mantal af Skattehemmanet no 5, om Sexton penningeland i Islingsby Wester fernebo Socken, Wagnsbro Härad och Westmanlands Län belägen, emot en öfverenskommen och betingad Köpeskilling Stor: Sju Hundra Nio Riksdaler 33 öre Riksmynt, och som jag denna köpeskilling tillfullo bekommit, alltså afhänder jag mig och mina öfrige arfvingar berörde 2/15 dels mantal Islingsby, med allt hvad dertill hörer, af ålder lydt och lagligen tillvinnas kan, och tillegne den samma bemälde min Son Johan Mattsson och hans arfvingar, att genast tillträda, samt everldeliga äga och besitta hafvande till yttermera wisse häraf, jag detta köpebref uti nedanstående wittnens närvaro, med mitt bomärkes undertecknande bekräfta, som skedde i Islingsby Nybygget den 26 februari 1861 Sara/bom/Jansdotter wittnen underskrifna' GPT4 Correct Assistant: {\n",
      "  \"År-månad-dag\": \"1861-02-26\",\n",
      "  \"Län\": \"Westmanlands\",\n",
      "  \"Härad\": \"Wagnsbro\",\n",
      "  \"Socken\": \"Wester färnebo\",\n",
      "  \"By\": \"Islingsby\",\n",
      "  \"Jordnatur\": \"Skattehemmanet\",\n",
      "  \"Nummer\": \"5\",\n",
      "  \"Mantal\": \"2/15\",\n",
      "  \"Örestal\": \"\",\n",
      "  \"Penningland\": \"16\",\n",
      "  \"Riksdaler\": \"709\",\n",
      "  \"Öre\": \"33\",\n",
      "  \"Skilling\": \"\",\n",
      "  \"Runstycken\": \"\",\n",
      "  \"Valuta\": \"Riksmynt\",\n",
      "  \"Säljare-manliga\": \"Sara Jansdotter\",\n",
      "  \"Säljare-kvinnliga\": \"\",\n",
      "  \"Köpare-manliga\": \"Johan Mattsson\",\n",
      "  \"Köpare-kvinnliga\": \"\",\n",
      "  \"Köpare-yrke\": \"\",\n",
      "  \"Relation mellan säljare och köpare\": \"Mor och Son\",\n",
      "  \"Köpare från\": \"\",\n",
      "  \"Fördel\": \"\",\n",
      "  \"Auktion\": \"\"\n",
      "} GPT4 Correct User: 'Jag Eric Jansson gör hervid veterligt att jag med min kära hustru Anna Jansdotters goda ja och samtycke samt af fri vilja, försålt, såsom jag ock genom detta öppna salubref, försäljer till min Svärfar Hemmansegaren Jan Ersson och hustru Anna Jansdotter, egona 1/8 mtl skatte Heden om 1 öresland och 1/8 mtl skatte Skogsbyn om 1 öresland i Wester fernebo Socken och Wagnsbro härad för en Summa af Sjutusen femhundra /7500/ Riksdaler Riksmynt och som den … penningen med den första är till mig slutligen betald så afhändar jag mig, min köra hustru och barn tillhörde hemmansdelar 1/8 mlt Heden och 1/8 mtl Skogby med alla dess tillhörigheter och tillägnar de samma Jan Ersson och hustru Anna Jansdotter, Heden och arfvingar med hemmansdelar med alla ägor i hus, jord och öfrige tillhörigheter intet undantagandes af hvad dertill lyder af ålder legat eller framledes tillvinnas kan, att äga och bruka och besitta såsom deras välfångna egendom, förbindande till hemul efter lag – Till yttermera visshet har jag tillika med min kära hustru detta Salubref i undertecknande vittnens närvaro, egenhändigt underskrifvet som skedde på Heden den 2ra januari 1861. Eric Jansson (otydligt) och Heden. Anna /bom/ kattharina Jansdotter\n",
      "Jan Ersson Boende på Heden. Anders Mattsson Hebo egor' GPT4 Correct Assistant:{\n",
      "  \"År-månad-dag\": \"1861-01-02\",\n",
      "  \"Län\": \"Westmanlands\",\n",
      "  \"Härad\": \"Wagnsbro\",\n",
      "  \"Socken\": \"Wester färnebo\",\n",
      "  \"By\": \"Heden\",\n",
      "  \"Jordnatur\": \"Skatte\",\n",
      "  \"Nummer\": \"\",\n",
      "  \"Mantal\": \"1/8\",\n",
      "  \"Örestal\": \"1\",\n",
      "  \"Penningland\": \"\",\n",
      "  \"Riksdaler\": \"7500\",\n",
      "  \"Öre\": \"\",\n",
      "  \"Skilling\": \"\",\n",
      "  \"Runstycken\": \"\",\n",
      "  \"Valuta\": \"Riksmynt\",\n",
      "  \"Säljare-manliga\": \"Eric Jansson\",\n",
      "  \"Säljare-kvinnliga\": \"Anna Jansdotters\",\n",
      "  \"Köpare-manliga\": \"Jan Ersson\",\n",
      "  \"Köpare-kvinnliga\": \"Anna Jansdotter\",\n",
      "  \"Köpare-yrke\": \"\",\n",
      "  \"Relation mellan säljare och köpare\": \"Svärfar och Svärson\",\n",
      "  \"Köpare från\": \"\",\n",
      "  \"Fördel\": \"\",\n",
      "  \"Auktion\": \"\"\n",
      "} GPT4 Correct User: Jag Per Gustaf Hedberg tillika med min hustrus Christina Carolina Gerdtsdotter samtycke upplåter och försäljer till Per Gustaf Ersson och dess hustru Lovisa Ersdotter Klingholmen vårt uti Labodarne ägande Ett Trettiondetvånde dels Hemman med dertill hörande inägojord skog och mark beläget inom Karbennings Socken dock likväl Wagnsbro Härad emot en överenskommen och betingad köpeskilling stor Ett Tusen Två Hundrade Riksdaler Riksmynt, Och som denna köpeskilling 1200 Rd Rmt är uti ett särskildt köpekontrakt häröfver af denna dag upptagen så varder den derigenom här qvitterad. Alltså afhänder vi oss och våra efter-kommande berörde 1/32de dels Hemman med åtföljande förmoner samt alt hvad hädanefter lagligen tillvinnas kan till bemälte Per Gustaf Ersson dess hustru och efterkommande rätts innehafvare att everlderligen äga bruka och besitta, förbindande vi oss till Himmel efter lag hvadan vi uti tvenne tillkallade wittnens när och öfvervaro underskrifne som skedde uti Karbenningby den 19 januari 1861 Per Gustaf Hedberg Christina Carolina Gerdtsdotter i Karbenningby Wittnar Lars Eric Larsson Lars Starksson. GPT4 Correct Assistant: {\n",
      "  \"År-månad-dag\": \"1861-01-19\",\n",
      "  \"Län\": \"Westmanlands\",\n",
      "  \"Härad\": \"Wagnsbro\",\n",
      "  \"Socken\": \"Karbennings\",\n",
      "  \"By\": \"Labodarne\",\n",
      "  \"Jordnatur\": \"Hemman\",\n",
      "  \"Nummer\": \"\",\n",
      "  \"Mantal\": \"1/32\",\n",
      "  \"Örestal\": \"\",\n",
      "  \"Penningland\": \"\",\n",
      "  \"Riksdaler\": \"1200\",\n",
      "  \"Öre\": \"\",\n",
      "  \"Skilling\": \"\",\n",
      "  \"Runstycken\": \"\",\n",
      "  \"Valuta\": \"Riksmynt\",\n",
      "  \"Säljare-manliga\": \"Per Gustaf Hedberg\",\n",
      "  \"Säljare-kvinnliga\": \"Christina Carolina Gerdtsdotter\",\n",
      "  \"Köpare-manliga\": \"Per Gustaf Ersson\",\n",
      "  \"Köpare-kvinnliga\": \"Lovisa Ersdotter Klingholmen\",\n",
      "  \"Köpare-yrke\": \"\",\n",
      "  \"Relation mellan säljare och köpare\": \"Inget angivet\",\n",
      "  \"Köpare från\": \"\",\n",
      "  \"Fördel\": \"\",\n",
      "  \"Auktion\": \"\"\n",
      "}\n"
     ]
    }
   ],
   "source": [
    "multi_turn_prompt = f\"GPT4 Correct System: {system_prompt}<|end_of_turn|>GPT4 Correct User: {prompt1}<|end_of_turn|>GPT4 Correct Assistant: {response1}<|end_of_turn|>GPT4 Correct User: {prompt2}<|end_of_turn|>GPT4 Correct Assistant: {response2}<|end_of_turn|>GPT4 Correct User: {prompt3}<|end_of_turn|>GPT4 Correct Assistant: {response3}<|end_of_turn|>GPT4 Correct User: {prompt4}<|end_of_turn|>GPT4 Correct Assistant:{response4}<|end_of_turn|>GPT4 Correct User: {prompt5}<|end_of_turn|>GPT4 Correct Assistant:\"\n",
    "response_text = generate_response(multi_turn_prompt, temp=0.2, top_p=0.1)\n",
    "print(\"Multi-turn conversation response:\", response_text)"
   ]
  },
  {
   "cell_type": "code",
   "execution_count": 52,
   "id": "064e40c1",
   "metadata": {},
   "outputs": [
    {
     "name": "stderr",
     "output_type": "stream",
     "text": [
      "huggingface/tokenizers: The current process just got forked, after parallelism has already been used. Disabling parallelism to avoid deadlocks...\n",
      "To disable this warning, you can either:\n",
      "\t- Avoid using `tokenizers` before the fork if possible\n",
      "\t- Explicitly set the environment variable TOKENIZERS_PARALLELISM=(true | false)\n"
     ]
    },
    {
     "name": "stdout",
     "output_type": "stream",
     "text": [
      "Collecting pandas\n",
      "  Downloading pandas-2.1.3-cp311-cp311-manylinux_2_17_x86_64.manylinux2014_x86_64.whl.metadata (18 kB)\n",
      "Requirement already satisfied: numpy<2,>=1.23.2 in /home/sush/miniconda3/envs/digitising_deeds/lib/python3.11/site-packages (from pandas) (1.26.0)\n",
      "Requirement already satisfied: python-dateutil>=2.8.2 in /home/sush/miniconda3/envs/digitising_deeds/lib/python3.11/site-packages (from pandas) (2.8.2)\n",
      "Requirement already satisfied: pytz>=2020.1 in /home/sush/miniconda3/envs/digitising_deeds/lib/python3.11/site-packages (from pandas) (2023.3.post1)\n",
      "Collecting tzdata>=2022.1 (from pandas)\n",
      "  Using cached tzdata-2023.3-py2.py3-none-any.whl (341 kB)\n",
      "Requirement already satisfied: six>=1.5 in /home/sush/miniconda3/envs/digitising_deeds/lib/python3.11/site-packages (from python-dateutil>=2.8.2->pandas) (1.16.0)\n",
      "Downloading pandas-2.1.3-cp311-cp311-manylinux_2_17_x86_64.manylinux2014_x86_64.whl (12.2 MB)\n",
      "\u001b[2K   \u001b[90m━━━━━━━━━━━━━━━━━━━━━━━━━━━━━━━━━━━━━━━━\u001b[0m \u001b[32m12.2/12.2 MB\u001b[0m \u001b[31m81.5 MB/s\u001b[0m eta \u001b[36m0:00:00\u001b[0m:00:01\u001b[0m:01\u001b[0m\n",
      "\u001b[?25hInstalling collected packages: tzdata, pandas\n",
      "Successfully installed pandas-2.1.3 tzdata-2023.3\n"
     ]
    }
   ],
   "source": []
  },
  {
   "cell_type": "code",
   "execution_count": 24,
   "id": "1a3490ae",
   "metadata": {},
   "outputs": [
    {
     "data": {
      "text/html": [
       "<div>\n",
       "<style scoped>\n",
       "    .dataframe tbody tr th:only-of-type {\n",
       "        vertical-align: middle;\n",
       "    }\n",
       "\n",
       "    .dataframe tbody tr th {\n",
       "        vertical-align: top;\n",
       "    }\n",
       "\n",
       "    .dataframe thead th {\n",
       "        text-align: right;\n",
       "    }\n",
       "</style>\n",
       "<table border=\"1\" class=\"dataframe\">\n",
       "  <thead>\n",
       "    <tr style=\"text-align: right;\">\n",
       "      <th></th>\n",
       "      <th>Year-month-day</th>\n",
       "      <th>Län</th>\n",
       "      <th>Härad</th>\n",
       "      <th>Socken</th>\n",
       "      <th>Village</th>\n",
       "      <th>Jordnatur</th>\n",
       "      <th>Number</th>\n",
       "      <th>Mantal</th>\n",
       "      <th>Örestal</th>\n",
       "      <th>Penningland</th>\n",
       "      <th>...</th>\n",
       "      <th>Härad2</th>\n",
       "      <th>Socken2</th>\n",
       "      <th>Village2</th>\n",
       "      <th>Jordnatur2</th>\n",
       "      <th>Number2</th>\n",
       "      <th>Mantal2</th>\n",
       "      <th>Örestal2</th>\n",
       "      <th>Penningland2</th>\n",
       "      <th>image</th>\n",
       "      <th>comment</th>\n",
       "    </tr>\n",
       "  </thead>\n",
       "  <tbody>\n",
       "    <tr>\n",
       "      <th>0</th>\n",
       "      <td>1860-11-17</td>\n",
       "      <td>Westmanland</td>\n",
       "      <td>Wagnsbro</td>\n",
       "      <td>Wester färnebo</td>\n",
       "      <td>Sör åll</td>\n",
       "      <td>Hemmanet</td>\n",
       "      <td>2</td>\n",
       "      <td>0.166667</td>\n",
       "      <td>1.0</td>\n",
       "      <td>8.0</td>\n",
       "      <td>...</td>\n",
       "      <td>NaN</td>\n",
       "      <td>NaN</td>\n",
       "      <td>NaN</td>\n",
       "      <td>NaN</td>\n",
       "      <td>NaN</td>\n",
       "      <td>NaN</td>\n",
       "      <td>NaN</td>\n",
       "      <td>NaN</td>\n",
       "      <td>NaN</td>\n",
       "      <td>NaN</td>\n",
       "    </tr>\n",
       "    <tr>\n",
       "      <th>1</th>\n",
       "      <td>1861-02-26</td>\n",
       "      <td>Westmanlands</td>\n",
       "      <td>Wagnsbro</td>\n",
       "      <td>Wester fernebo</td>\n",
       "      <td>Islingsby</td>\n",
       "      <td>Skattehemmanet</td>\n",
       "      <td>5</td>\n",
       "      <td>0.133333</td>\n",
       "      <td>NaN</td>\n",
       "      <td>16.0</td>\n",
       "      <td>...</td>\n",
       "      <td>NaN</td>\n",
       "      <td>NaN</td>\n",
       "      <td>NaN</td>\n",
       "      <td>NaN</td>\n",
       "      <td>NaN</td>\n",
       "      <td>NaN</td>\n",
       "      <td>NaN</td>\n",
       "      <td>NaN</td>\n",
       "      <td>NaN</td>\n",
       "      <td>NaN</td>\n",
       "    </tr>\n",
       "    <tr>\n",
       "      <th>2</th>\n",
       "      <td>1861-01-02</td>\n",
       "      <td>Westmanlands</td>\n",
       "      <td>Wagnsbro</td>\n",
       "      <td>Wester fernebo</td>\n",
       "      <td>Heden</td>\n",
       "      <td>skatte</td>\n",
       "      <td>NaN</td>\n",
       "      <td>0.125000</td>\n",
       "      <td>1.0</td>\n",
       "      <td>NaN</td>\n",
       "      <td>...</td>\n",
       "      <td>Wagnsbro</td>\n",
       "      <td>Wester fernebo</td>\n",
       "      <td>Skogsbyn</td>\n",
       "      <td>skatte</td>\n",
       "      <td>NaN</td>\n",
       "      <td>0.125</td>\n",
       "      <td>1.0</td>\n",
       "      <td>NaN</td>\n",
       "      <td>NaN</td>\n",
       "      <td>NaN</td>\n",
       "    </tr>\n",
       "    <tr>\n",
       "      <th>3</th>\n",
       "      <td>1861-01-19</td>\n",
       "      <td>Westmanlands</td>\n",
       "      <td>Wagnsbro</td>\n",
       "      <td>Karbennings</td>\n",
       "      <td>Labodarne</td>\n",
       "      <td>Hemman</td>\n",
       "      <td>NaN</td>\n",
       "      <td>0.031250</td>\n",
       "      <td>NaN</td>\n",
       "      <td>NaN</td>\n",
       "      <td>...</td>\n",
       "      <td>NaN</td>\n",
       "      <td>NaN</td>\n",
       "      <td>NaN</td>\n",
       "      <td>NaN</td>\n",
       "      <td>NaN</td>\n",
       "      <td>NaN</td>\n",
       "      <td>NaN</td>\n",
       "      <td>NaN</td>\n",
       "      <td>NaN</td>\n",
       "      <td>NaN</td>\n",
       "    </tr>\n",
       "    <tr>\n",
       "      <th>4</th>\n",
       "      <td>1861-01-16</td>\n",
       "      <td>Westmanlands</td>\n",
       "      <td>Wagnsbro</td>\n",
       "      <td>Wester fernebo</td>\n",
       "      <td>Norr Sahlbo</td>\n",
       "      <td>Kronoskattehemmanet</td>\n",
       "      <td>4</td>\n",
       "      <td>0.041667</td>\n",
       "      <td>NaN</td>\n",
       "      <td>8.0</td>\n",
       "      <td>...</td>\n",
       "      <td>NaN</td>\n",
       "      <td>NaN</td>\n",
       "      <td>NaN</td>\n",
       "      <td>NaN</td>\n",
       "      <td>NaN</td>\n",
       "      <td>NaN</td>\n",
       "      <td>NaN</td>\n",
       "      <td>NaN</td>\n",
       "      <td>NaN</td>\n",
       "      <td>NaN</td>\n",
       "    </tr>\n",
       "  </tbody>\n",
       "</table>\n",
       "<p>5 rows × 43 columns</p>\n",
       "</div>"
      ],
      "text/plain": [
       "  Year-month-day           Län      Härad           Socken      Village  \\\n",
       "0     1860-11-17   Westmanland  Wagnsbro   Wester färnebo      Sör åll    \n",
       "1     1861-02-26  Westmanlands  Wagnsbro   Wester fernebo    Islingsby    \n",
       "2     1861-01-02  Westmanlands  Wagnsbro   Wester fernebo        Heden    \n",
       "3     1861-01-19  Westmanlands  Wagnsbro      Karbennings    Labodarne    \n",
       "4     1861-01-16  Westmanlands  Wagnsbro   Wester fernebo   Norr Sahlbo   \n",
       "\n",
       "              Jordnatur Number    Mantal  Örestal  Penningland  ...  \\\n",
       "0              Hemmanet      2  0.166667      1.0          8.0  ...   \n",
       "1       Skattehemmanet       5  0.133333      NaN         16.0  ...   \n",
       "2               skatte     NaN  0.125000      1.0          NaN  ...   \n",
       "3               Hemman     NaN  0.031250      NaN          NaN  ...   \n",
       "4  Kronoskattehemmanet       4  0.041667      NaN          8.0  ...   \n",
       "\n",
       "      Härad2          Socken2   Village2  Jordnatur2 Number2 Mantal2 Örestal2  \\\n",
       "0        NaN              NaN        NaN         NaN     NaN     NaN      NaN   \n",
       "1        NaN              NaN        NaN         NaN     NaN     NaN      NaN   \n",
       "2  Wagnsbro   Wester fernebo   Skogsbyn      skatte      NaN   0.125      1.0   \n",
       "3        NaN              NaN        NaN         NaN     NaN     NaN      NaN   \n",
       "4        NaN              NaN        NaN         NaN     NaN     NaN      NaN   \n",
       "\n",
       "  Penningland2 image comment  \n",
       "0          NaN   NaN     NaN  \n",
       "1          NaN   NaN     NaN  \n",
       "2          NaN   NaN     NaN  \n",
       "3          NaN   NaN     NaN  \n",
       "4          NaN   NaN     NaN  \n",
       "\n",
       "[5 rows x 43 columns]"
      ]
     },
     "execution_count": 24,
     "metadata": {},
     "output_type": "execute_result"
    }
   ],
   "source": [
    "df=pd.read_excel('Example database (1).xlsx')\n",
    "df.head()"
   ]
  },
  {
   "cell_type": "code",
   "execution_count": 25,
   "id": "40e34532",
   "metadata": {},
   "outputs": [],
   "source": [
    "df_cols = df.columns"
   ]
  },
  {
   "cell_type": "code",
   "execution_count": 29,
   "id": "974c0028",
   "metadata": {},
   "outputs": [
    {
     "data": {
      "text/html": [
       "<div>\n",
       "<style scoped>\n",
       "    .dataframe tbody tr th:only-of-type {\n",
       "        vertical-align: middle;\n",
       "    }\n",
       "\n",
       "    .dataframe tbody tr th {\n",
       "        vertical-align: top;\n",
       "    }\n",
       "\n",
       "    .dataframe thead th {\n",
       "        text-align: right;\n",
       "    }\n",
       "</style>\n",
       "<table border=\"1\" class=\"dataframe\">\n",
       "  <thead>\n",
       "    <tr style=\"text-align: right;\">\n",
       "      <th></th>\n",
       "      <th>År-månad-dag</th>\n",
       "      <th>Län</th>\n",
       "      <th>Härad</th>\n",
       "      <th>Socken</th>\n",
       "      <th>By</th>\n",
       "      <th>Jordnatur</th>\n",
       "      <th>Nummer</th>\n",
       "      <th>Mantal</th>\n",
       "      <th>Örestal</th>\n",
       "      <th>Penningland</th>\n",
       "      <th>...</th>\n",
       "      <th>Valuta</th>\n",
       "      <th>Säljare-manliga</th>\n",
       "      <th>Säljare-kvinnliga</th>\n",
       "      <th>Köpare-manliga</th>\n",
       "      <th>Köpare-kvinnliga</th>\n",
       "      <th>Köpare-yrke</th>\n",
       "      <th>Relation mellan säljare och köpare</th>\n",
       "      <th>Köpare från</th>\n",
       "      <th>Fördel</th>\n",
       "      <th>Auktion</th>\n",
       "    </tr>\n",
       "  </thead>\n",
       "  <tbody>\n",
       "  </tbody>\n",
       "</table>\n",
       "<p>0 rows × 24 columns</p>\n",
       "</div>"
      ],
      "text/plain": [
       "Empty DataFrame\n",
       "Columns: [År-månad-dag, Län, Härad, Socken, By, Jordnatur, Nummer, Mantal, Örestal, Penningland, Riksdaler, Öre, Skilling, Runstycken, Valuta, Säljare-manliga, Säljare-kvinnliga, Köpare-manliga, Köpare-kvinnliga, Köpare-yrke, Relation mellan säljare och köpare, Köpare från, Fördel, Auktion]\n",
       "Index: []\n",
       "\n",
       "[0 rows x 24 columns]"
      ]
     },
     "execution_count": 29,
     "metadata": {},
     "output_type": "execute_result"
    }
   ],
   "source": [
    "df_extracted_hightp_mix_np = pd.DataFrame(columns=df_cols)\n",
    "df_extracted_hightp_mix_np"
   ]
  },
  {
   "cell_type": "code",
   "execution_count": 68,
   "id": "3efbc52e",
   "metadata": {},
   "outputs": [],
   "source": [
    "df_cols.append('text')"
   ]
  },
  {
   "cell_type": "code",
   "execution_count": 37,
   "id": "dda1d235",
   "metadata": {
    "scrolled": true
   },
   "outputs": [
    {
     "data": {
      "text/plain": [
       "['År-månad-dag',\n",
       " 'Län',\n",
       " 'Härad',\n",
       " 'Socken',\n",
       " 'By',\n",
       " 'Jordnatur',\n",
       " 'Nummer',\n",
       " 'Mantal',\n",
       " 'Örestal',\n",
       " 'Penningland',\n",
       " 'Riksdaler',\n",
       " 'Öre',\n",
       " 'Skilling',\n",
       " 'Runstycken',\n",
       " 'Valuta',\n",
       " 'Säljare-manlig',\n",
       " 'Säljare-kvinnlig',\n",
       " 'Köpare-manlig',\n",
       " 'Köpare-kvinnlig',\n",
       " 'Köpare-yrke',\n",
       " 'Relation mellan säljare och köpare',\n",
       " 'Köpare från',\n",
       " 'Fördel',\n",
       " 'Auktion',\n",
       " 'text',\n",
       " 'text']"
      ]
     },
     "execution_count": 37,
     "metadata": {},
     "output_type": "execute_result"
    }
   ],
   "source": [
    "df_cols"
   ]
  },
  {
   "cell_type": "code",
   "execution_count": null,
   "id": "f7503709",
   "metadata": {},
   "outputs": [],
   "source": [
    "#new prompt\n",
    "messages = [\n",
    "    {\n",
    "        \"role\": \"user\",\n",
    "        \"content\": system_prompt,\n",
    "    },\n",
    "    {\n",
    "        \"role\": \"assistant\",\n",
    "        \"content\": sys_response1,\n",
    "    },\n",
    "    {\"role\": \"user\", \"content\": pre_prompt+user_prompt},\n",
    "]\n",
    "prompt=tokenizer.apply_chat_template(messages, tokenize=False)"
   ]
  },
  {
   "cell_type": "code",
   "execution_count": 30,
   "id": "39747ba8",
   "metadata": {
    "scrolled": true
   },
   "outputs": [
    {
     "name": "stderr",
     "output_type": "stream",
     "text": [
      "The attention mask and the pad token id were not set. As a consequence, you may observe unexpected behavior. Please pass your input's `attention_mask` to obtain reliable results.\n",
      "Setting `pad_token_id` to `eos_token_id`:2 for open-end generation.\n",
      "The attention mask and the pad token id were not set. As a consequence, you may observe unexpected behavior. Please pass your input's `attention_mask` to obtain reliable results.\n",
      "Setting `pad_token_id` to `eos_token_id`:2 for open-end generation.\n"
     ]
    },
    {
     "name": "stdout",
     "output_type": "stream",
     "text": [
      "\n",
      "Row added!\n"
     ]
    },
    {
     "name": "stderr",
     "output_type": "stream",
     "text": [
      "The attention mask and the pad token id were not set. As a consequence, you may observe unexpected behavior. Please pass your input's `attention_mask` to obtain reliable results.\n",
      "Setting `pad_token_id` to `eos_token_id`:2 for open-end generation.\n"
     ]
    },
    {
     "name": "stdout",
     "output_type": "stream",
     "text": [
      "\n",
      "Row added!\n"
     ]
    },
    {
     "name": "stderr",
     "output_type": "stream",
     "text": [
      "The attention mask and the pad token id were not set. As a consequence, you may observe unexpected behavior. Please pass your input's `attention_mask` to obtain reliable results.\n",
      "Setting `pad_token_id` to `eos_token_id`:2 for open-end generation.\n"
     ]
    },
    {
     "name": "stdout",
     "output_type": "stream",
     "text": [
      "\n",
      "Row added!\n"
     ]
    },
    {
     "name": "stderr",
     "output_type": "stream",
     "text": [
      "The attention mask and the pad token id were not set. As a consequence, you may observe unexpected behavior. Please pass your input's `attention_mask` to obtain reliable results.\n",
      "Setting `pad_token_id` to `eos_token_id`:2 for open-end generation.\n"
     ]
    },
    {
     "name": "stdout",
     "output_type": "stream",
     "text": [
      "\n",
      "Row added!\n"
     ]
    },
    {
     "name": "stderr",
     "output_type": "stream",
     "text": [
      "The attention mask and the pad token id were not set. As a consequence, you may observe unexpected behavior. Please pass your input's `attention_mask` to obtain reliable results.\n",
      "Setting `pad_token_id` to `eos_token_id`:2 for open-end generation.\n"
     ]
    },
    {
     "name": "stdout",
     "output_type": "stream",
     "text": [
      "\n",
      "Row added!\n"
     ]
    },
    {
     "name": "stderr",
     "output_type": "stream",
     "text": [
      "The attention mask and the pad token id were not set. As a consequence, you may observe unexpected behavior. Please pass your input's `attention_mask` to obtain reliable results.\n",
      "Setting `pad_token_id` to `eos_token_id`:2 for open-end generation.\n"
     ]
    },
    {
     "name": "stdout",
     "output_type": "stream",
     "text": [
      "\n",
      "Row added!\n"
     ]
    },
    {
     "name": "stderr",
     "output_type": "stream",
     "text": [
      "The attention mask and the pad token id were not set. As a consequence, you may observe unexpected behavior. Please pass your input's `attention_mask` to obtain reliable results.\n",
      "Setting `pad_token_id` to `eos_token_id`:2 for open-end generation.\n"
     ]
    },
    {
     "name": "stdout",
     "output_type": "stream",
     "text": [
      "\n",
      "Row added!\n"
     ]
    },
    {
     "name": "stderr",
     "output_type": "stream",
     "text": [
      "The attention mask and the pad token id were not set. As a consequence, you may observe unexpected behavior. Please pass your input's `attention_mask` to obtain reliable results.\n",
      "Setting `pad_token_id` to `eos_token_id`:2 for open-end generation.\n"
     ]
    },
    {
     "name": "stdout",
     "output_type": "stream",
     "text": [
      "\n",
      "Row added!\n"
     ]
    },
    {
     "name": "stderr",
     "output_type": "stream",
     "text": [
      "The attention mask and the pad token id were not set. As a consequence, you may observe unexpected behavior. Please pass your input's `attention_mask` to obtain reliable results.\n",
      "Setting `pad_token_id` to `eos_token_id`:2 for open-end generation.\n"
     ]
    },
    {
     "name": "stdout",
     "output_type": "stream",
     "text": [
      "\n",
      "Row added!\n"
     ]
    },
    {
     "name": "stderr",
     "output_type": "stream",
     "text": [
      "The attention mask and the pad token id were not set. As a consequence, you may observe unexpected behavior. Please pass your input's `attention_mask` to obtain reliable results.\n",
      "Setting `pad_token_id` to `eos_token_id`:2 for open-end generation.\n"
     ]
    },
    {
     "name": "stdout",
     "output_type": "stream",
     "text": [
      "\n",
      "Row added!\n"
     ]
    },
    {
     "name": "stderr",
     "output_type": "stream",
     "text": [
      "The attention mask and the pad token id were not set. As a consequence, you may observe unexpected behavior. Please pass your input's `attention_mask` to obtain reliable results.\n",
      "Setting `pad_token_id` to `eos_token_id`:2 for open-end generation.\n"
     ]
    },
    {
     "name": "stdout",
     "output_type": "stream",
     "text": [
      "\n",
      "Row added!\n"
     ]
    },
    {
     "name": "stderr",
     "output_type": "stream",
     "text": [
      "The attention mask and the pad token id were not set. As a consequence, you may observe unexpected behavior. Please pass your input's `attention_mask` to obtain reliable results.\n",
      "Setting `pad_token_id` to `eos_token_id`:2 for open-end generation.\n"
     ]
    },
    {
     "name": "stdout",
     "output_type": "stream",
     "text": [
      "\n",
      "Row added!\n"
     ]
    },
    {
     "name": "stderr",
     "output_type": "stream",
     "text": [
      "The attention mask and the pad token id were not set. As a consequence, you may observe unexpected behavior. Please pass your input's `attention_mask` to obtain reliable results.\n",
      "Setting `pad_token_id` to `eos_token_id`:2 for open-end generation.\n"
     ]
    },
    {
     "name": "stdout",
     "output_type": "stream",
     "text": [
      "\n",
      "Row added!\n"
     ]
    },
    {
     "name": "stderr",
     "output_type": "stream",
     "text": [
      "The attention mask and the pad token id were not set. As a consequence, you may observe unexpected behavior. Please pass your input's `attention_mask` to obtain reliable results.\n",
      "Setting `pad_token_id` to `eos_token_id`:2 for open-end generation.\n"
     ]
    },
    {
     "name": "stdout",
     "output_type": "stream",
     "text": [
      "\n",
      "Row added!\n"
     ]
    },
    {
     "name": "stderr",
     "output_type": "stream",
     "text": [
      "The attention mask and the pad token id were not set. As a consequence, you may observe unexpected behavior. Please pass your input's `attention_mask` to obtain reliable results.\n",
      "Setting `pad_token_id` to `eos_token_id`:2 for open-end generation.\n"
     ]
    },
    {
     "name": "stdout",
     "output_type": "stream",
     "text": [
      "\n",
      "Row added!\n"
     ]
    },
    {
     "name": "stderr",
     "output_type": "stream",
     "text": [
      "The attention mask and the pad token id were not set. As a consequence, you may observe unexpected behavior. Please pass your input's `attention_mask` to obtain reliable results.\n",
      "Setting `pad_token_id` to `eos_token_id`:2 for open-end generation.\n"
     ]
    },
    {
     "name": "stdout",
     "output_type": "stream",
     "text": [
      "\n",
      "Row added!\n"
     ]
    },
    {
     "name": "stderr",
     "output_type": "stream",
     "text": [
      "The attention mask and the pad token id were not set. As a consequence, you may observe unexpected behavior. Please pass your input's `attention_mask` to obtain reliable results.\n",
      "Setting `pad_token_id` to `eos_token_id`:2 for open-end generation.\n"
     ]
    },
    {
     "name": "stdout",
     "output_type": "stream",
     "text": [
      "\n",
      "Row added!\n"
     ]
    },
    {
     "name": "stderr",
     "output_type": "stream",
     "text": [
      "The attention mask and the pad token id were not set. As a consequence, you may observe unexpected behavior. Please pass your input's `attention_mask` to obtain reliable results.\n",
      "Setting `pad_token_id` to `eos_token_id`:2 for open-end generation.\n"
     ]
    },
    {
     "name": "stdout",
     "output_type": "stream",
     "text": [
      "\n",
      "Row added!\n"
     ]
    },
    {
     "name": "stderr",
     "output_type": "stream",
     "text": [
      "The attention mask and the pad token id were not set. As a consequence, you may observe unexpected behavior. Please pass your input's `attention_mask` to obtain reliable results.\n",
      "Setting `pad_token_id` to `eos_token_id`:2 for open-end generation.\n"
     ]
    },
    {
     "name": "stdout",
     "output_type": "stream",
     "text": [
      "\n",
      "Row added!\n"
     ]
    },
    {
     "name": "stderr",
     "output_type": "stream",
     "text": [
      "The attention mask and the pad token id were not set. As a consequence, you may observe unexpected behavior. Please pass your input's `attention_mask` to obtain reliable results.\n",
      "Setting `pad_token_id` to `eos_token_id`:2 for open-end generation.\n"
     ]
    },
    {
     "name": "stdout",
     "output_type": "stream",
     "text": [
      "\n",
      "Error parsing JSON for response:  [INST] You are an expert at extracting information from ocr-ed swedish land deeds sales data. You read and understand Swedish text given to you. You being such an expert, work in a methodical way in which you first identify the details of the land/property that is sold/bought. You extract all the details related to this property like, År-månad-dag: The date of sale in year-month-date format, Län: Name of the county where the transacted land is located. Härad: The precinct in which the transacted land is located, Nummer: The number(in the address) of the land that is transacted, By: The village in which the transacted land is located, Socken: The Parish in which the transacted land is located, Jordnatur: The type of the land that is transacted, Mantal: The number of Mantals of the land that is transacted, Örestal: The number of Örestals of the land that is transacted, Penningland: How many Penninglands of the land is transacted, Riksdaler: How many Riksdaler were transacted for the sale, Öre: How many Öre were transacted for the sale, Skilling: How many Skilling were transacted for the sale, Runstycken: How many Runstycken were part of the transaction, Valuta: The type of currency in which the transaction took place, Säljare-manlig: The names of the male-sellers involved in the transaction, Säljare-kvinnlig: The names of the female-sellers involved in the transaction, Köpare-manlig: The names of the male-buyers involved in the transaction, Köpare-kvinnlig: The names of the female buyers involved in the transaction, Köpare-yrke: The occupation of the buyer involved in the transaction, Relation mellan säljare och köpare: The relationship between the seller and the buyer, Köpare från: The name of the place where the buyer hails from, Fördel: Information about the Fördel, Auktion: Information about the auction is used and, if so, whether it was an exekutiv or frivillig auction if it is mentioned. Övrig: Information other than the fields mentioned before identified. Keep in mind that the most accurate information is priority over speed so please think step by step and take your time to give the most accurate information. Also, for some transactions some fields might be empty. Also give the information in JSON format always. [/INST]Hi! I extract various information from Swedish land sales deeds. How may I help you today? [INST] Extract all the information from the following text, Your work is very important to my career. Make sure the information is precise and accurate. Text: Extrahera informationen för varje fält och presentera den tydligt i JSON-format. 'Jag undertecknad uplåter och försäljer med min kära hustru ja och samtycke till Johan Hedström i Ståltorp Sura Socken min ägande 1/6 mantal Ett öre åtta penningland i Hemmanet no 2 i Sör åll af Wester färnebo Socken Wagnsbro härad och Westmanland län för en öfverenskommen och betingad köpeskilling stor Ett Tusende fem Hundra R Riksgels Sedlar och som jag denna köpeskilling till fullo bekommit hvilket och härmed quitterat, alltså afhänder jag mig och mina arfvingar ofvannämnde 1 öre 8 penningland, och tillegne desamma bemälte Johan Hedström och deras arfvingar att erlösadeliga äga och disponera som all annan des wälfångna egendom förbindande jag mig till Himmel efter lag, Sör åll den 17 november 1860. Per P. Wrettström Anna /bom/ Persdotter.'\n",
      "Att Per Wrettström och hustru egenhändigt undertek sina bomärken intygas på en gång närvarande vittnen P. Pehrsson Sör Gerdsbo Lars Grönlund på Sunnett.' [/INST]{\n",
      "  \"År-månad-dag\": \"1860-11-17\",\n",
      "  \"Län\": \"Westmanland\",\n",
      "  \"Härad\": \"Wagnsbro\",\n",
      "  \"Socken\": \"Wester färnebo\",\n",
      "  \"By\": \"Sör åll\",\n",
      "  \"Jordnatur\": \"Hemmanet\",\n",
      "  \"Nummer\": \"2\",\n",
      "  \"Mantal\": \"1/6\",\n",
      "  \"Örestal\": \"1\",\n",
      "  \"Penningland\": \"8\",\n",
      "  \"Riksdaler\": \"1500\",\n",
      "  \"Öre\": \"\",\n",
      "  \"Skilling\": \"\",\n",
      "  \"Runstycken\": \"\",\n",
      "  \"Valuta\": \"Riksgels\",\n",
      "  \"Säljare-manliga\": \"Per Wrettström\",\n",
      "  \"Säljare-kvinnliga\": \"Anna Persdotter\",\n",
      "  \"Köpare-manliga\": \"Johan Hedström\",\n",
      "  \"Köpare-kvinnliga\": \"\",\n",
      "  \"Köpare-yrke\": \"\",\n",
      "  \"Relation mellan säljare och köpare\": \"Ej angiven\",\n",
      "  \"Köpare från\": \"\",\n",
      "  \"Fördel\": \"\",\n",
      "  \"Auktion\": \"\"\n",
      "} [INST] Extract all the information from the following text, Your work is very important to my career. Make sure the information is precise and accurate. Text: Extrahera informationen för varje fält och presentera den tydligt i JSON-format. 'Jag Sara Jansdotter upplåter och försäljer härmedelst till min Son Hemmansägaren Johan Mattsson härstädes, det mig i arf efter min aflidne man Hemmansägaren Matts Jansson tillfallne två femton dels mantal af Skattehemmanet no 5, om Sexton penningeland i Islingsby Wester fernebo Socken, Wagnsbro Härad och Westmanlands Län belägen, emot en öfverenskommen och betingad Köpeskilling Stor: Sju Hundra Nio Riksdaler 33 öre Riksmynt, och som jag denna köpeskilling tillfullo bekommit, alltså afhänder jag mig och mina öfrige arfvingar berörde 2/15 dels mantal Islingsby, med allt hvad dertill hörer, af ålder lydt och lagligen tillvinnas kan, och tillegne den samma bemälde min Son Johan Mattsson och hans arfvingar, att genast tillträda, samt everldeliga äga och besitta hafvande till yttermera wisse häraf, jag detta köpebref uti nedanstående wittnens närvaro, med mitt bomärkes undertecknande bekräfta, som skedde i Islingsby Nybygget den 26 februari 1861 Sara/bom/Jansdotter wittnen underskrifna' [/INST]{\n",
      "  \"År-månad-dag\": \"1861-02-26\",\n",
      "  \"Län\": \"Westmanlands\",\n",
      "  \"Härad\": \"Wagnsbro\",\n",
      "  \"Socken\": \"Wester färnebo\",\n",
      "  \"By\": \"Islingsby\",\n",
      "  \"Jordnatur\": \"Skattehemmanet\",\n",
      "  \"Nummer\": \"5\",\n",
      "  \"Mantal\": \"2/15\",\n",
      "  \"Örestal\": \"\",\n",
      "  \"Penningland\": \"16\",\n",
      "  \"Riksdaler\": \"709\",\n",
      "  \"Öre\": \"33\",\n",
      "  \"Skilling\": \"\",\n",
      "  \"Runstycken\": \"\",\n",
      "  \"Valuta\": \"Riksmynt\",\n",
      "  \"Säljare-manliga\": \"Sara Jansdotter\",\n",
      "  \"Säljare-kvinnliga\": \"\",\n",
      "  \"Köpare-manliga\": \"Johan Mattsson\",\n",
      "  \"Köpare-kvinnliga\": \"\",\n",
      "  \"Köpare-yrke\": \"\",\n",
      "  \"Relation mellan säljare och köpare\": \"Mor och Son\",\n",
      "  \"Köpare från\": \"\",\n",
      "  \"Fördel\": \"\",\n",
      "  \"Auktion\": \"\"\n",
      "} [INST] Extract all the information from the following text, Your work is very important to my career. Make sure the information is precise and accurate. Text: 'Jag Eric Jansson gör hervid veterligt att jag med min kära hustru Anna Jansdotters goda ja och samtycke samt af fri vilja, försålt, såsom jag ock genom detta öppna salubref, försäljer till min Svärfar Hemmansegaren Jan Ersson och hustru Anna Jansdotter, egona 1/8 mtl skatte Heden om 1 öresland och 1/8 mtl skatte Skogsbyn om 1 öresland i Wester fernebo Socken och Wagnsbro härad för en Summa af Sjutusen femhundra /7500/ Riksdaler Riksmynt och som den … penningen med den första är till mig slutligen betald så afhändar jag mig, min köra hustru och barn tillhörde hemmansdelar 1/8 mlt Heden och 1/8 mtl Skogby med alla dess tillhörigheter och tillägnar de samma Jan Ersson och hustru Anna Jansdotter, Heden och arfvingar med hemmansdelar med alla ägor i hus, jord och öfrige tillhörigheter intet undantagandes af hvad dertill lyder af ålder legat eller framledes tillvinnas kan, att äga och bruka och besitta såsom deras välfångna egendom, förbindande till hemul efter lag – Till yttermera visshet har jag tillika med min kära hustru detta Salubref i undertecknande vittnens närvaro, egenhändigt underskrifvet som skedde på Heden den 2ra januari 1861. Eric Jansson (otydligt) och Heden. Anna /bom/ kattharina Jansdotter\n",
      "Jan Ersson Boende på Heden. Anders Mattsson Hebo egor' [/INST]{\n",
      "  \"År-månad-dag\": \"1861-01-02\",\n",
      "  \"Län\": \"Westmanlands\",\n",
      "  \"Härad\": \"Wagnsbro\",\n",
      "  \"Socken\": \"Wester färnebo\",\n",
      "  \"By\": \"Heden\",\n",
      "  \"Jordnatur\": \"Skatte\",\n",
      "  \"Nummer\": \"\",\n",
      "  \"Mantal\": \"1/8\",\n",
      "  \"Örestal\": \"1\",\n",
      "  \"Penningland\": \"\",\n",
      "  \"Riksdaler\": \"7500\",\n",
      "  \"Öre\": \"\",\n",
      "  \"Skilling\": \"\",\n",
      "  \"Runstycken\": \"\",\n",
      "  \"Valuta\": \"Riksmynt\",\n",
      "  \"Säljare-manliga\": \"Eric Jansson\",\n",
      "  \"Säljare-kvinnliga\": \"Anna Jansdotters\",\n",
      "  \"Köpare-manliga\": \"Jan Ersson\",\n",
      "  \"Köpare-kvinnliga\": \"Anna Jansdotter\",\n",
      "  \"Köpare-yrke\": \"\",\n",
      "  \"Relation mellan säljare och köpare\": \"Svärfar och Svärson\",\n",
      "  \"Köpare från\": \"\",\n",
      "  \"Fördel\": \"\",\n",
      "  \"Auktion\": \"\"\n",
      "} [INST] Extract all the information from the following text, Your work is very important to my career. Make sure the information is precise and accurate. Text: jag Eric Ersson med min kära hustrus Gretastina Ers\n",
      "Dotters ja och samtycke försäljer hermädelst till Bon¬\n",
      "de sonen Nils Persson i Söderby våra egande hemmans\n",
      "delar Ettfjerdedels Mantal frälse skatte No 1 om 1 Öre 18. penl.\n",
      "och Ett tolftedels mantal frälseskatte No 5 om 16. penl.\n",
      "eller tillsamman Ettredjedels mantal om 2. öre 10. penl\n",
      "Söderby Alunda Socken, emot en öfverenskommen och\n",
      "betingad köpesumma stor 1720. Ettusende sjuhundrade\n",
      "tjugu Rsdr Banco och som vi denna köpesumma ef¬\n",
      "ter denna dag upprättadt Köpecontrackt tillfullo be¬\n",
      "kommit altså afhänder vi oss ifrågavarand. hem¬\n",
      "mansdelar tillsammans Ettredsedel mantal Söderby\n",
      "med alt hvad dertill hörer af ålder lydt och legat\n",
      "eller hedanefter med Lag och rätt tillvinnas kan, Och\n",
      "tillegnar det samma förbemälte Nils Persson och\n",
      "hans arfvingar att deröfver evirdeligen styra och\n",
      "råda såsom sin välfågns egendom med tillträdes\n",
      "rätt den 14.de Mars 1852 förbindandes vi oss herjämte\n",
      "till hemul efter lag.\n",
      "Som bestyrkes Tresta den 19de Febr. 1851.\n",
      "Eric Ersson i Greta Stina Ers Dotter\n",
      "Att Eric Ersson och Gretaffar Ers dotter egenhändigt underteck¬\n",
      "nat den förre sitt namn och den sednare sitt Bomärk\n",
      "intygar på engång närvarande vittnen\n",
      "Eric Ersson i Skoley\n",
      "Jon Persson i Tusta\n",
      "\n",
      "Lill: Greta Stina [/INST] {\n",
      "\"År-månad-dag\": \"1851-02-19\",\n",
      "\"Län\": \"Uppsala\",\n",
      "\"Härad\": \"Alunda\",\n",
      "\"Socken\": \"Söderby\",\n",
      "\"By\": \"\",\n",
      "\"Jordnatur\": \"frälse skatte\",\n",
      "\"Nummer\": \"No 1, No 5\",\n",
      "\"Mantal\": \"Ettfjerdedels Mantal\", \"Ett tolftedels mantal\", \"Ettredjedels mantal\",\n",
      "\"Örestal\": \"\",\n",
      "\"Penningland\": \"1 Öre 18. penl.\", \"16. penl.\", \"2. öre 10. penl.\",\n",
      "\"Riksdaler\": \"1720\",\n",
      "\"Öre\": \"\",\n",
      "\"Skilling\": \"\",\n",
      "\"Runstycken\": \"\",\n",
      "\"Valuta\": \"Rsdr Banco\",\n",
      "\"Säljare-manliga\": \"Eric Ersson\",\n",
      "\"Säljare-kvinnliga\": \"Greta Stina Ers Dotter\",\n",
      "\"Köpare-manliga\": \"Nils Persson\",\n",
      "\"Köpare-kvinnliga\": \"\",\n",
      "\"Köpare-yrke\": \"\",\n",
      "\"Relation mellan säljare och köpare\": \"Far och Son\",\n",
      "\"Köpare från\": \"Söderby\",\n",
      "\"Fördel\": \"\",\n",
      "\"Auktion\": \"\"\n",
      "}\n"
     ]
    },
    {
     "name": "stderr",
     "output_type": "stream",
     "text": [
      "The attention mask and the pad token id were not set. As a consequence, you may observe unexpected behavior. Please pass your input's `attention_mask` to obtain reliable results.\n",
      "Setting `pad_token_id` to `eos_token_id`:2 for open-end generation.\n"
     ]
    },
    {
     "name": "stdout",
     "output_type": "stream",
     "text": [
      "\n",
      "Row added!\n"
     ]
    },
    {
     "name": "stderr",
     "output_type": "stream",
     "text": [
      "The attention mask and the pad token id were not set. As a consequence, you may observe unexpected behavior. Please pass your input's `attention_mask` to obtain reliable results.\n",
      "Setting `pad_token_id` to `eos_token_id`:2 for open-end generation.\n"
     ]
    },
    {
     "name": "stdout",
     "output_type": "stream",
     "text": [
      "\n",
      "Row added!\n"
     ]
    },
    {
     "name": "stderr",
     "output_type": "stream",
     "text": [
      "The attention mask and the pad token id were not set. As a consequence, you may observe unexpected behavior. Please pass your input's `attention_mask` to obtain reliable results.\n",
      "Setting `pad_token_id` to `eos_token_id`:2 for open-end generation.\n"
     ]
    },
    {
     "name": "stdout",
     "output_type": "stream",
     "text": [
      "\n",
      "Row added!\n"
     ]
    },
    {
     "name": "stderr",
     "output_type": "stream",
     "text": [
      "The attention mask and the pad token id were not set. As a consequence, you may observe unexpected behavior. Please pass your input's `attention_mask` to obtain reliable results.\n",
      "Setting `pad_token_id` to `eos_token_id`:2 for open-end generation.\n"
     ]
    },
    {
     "name": "stdout",
     "output_type": "stream",
     "text": [
      "\n",
      "Row added!\n"
     ]
    },
    {
     "name": "stderr",
     "output_type": "stream",
     "text": [
      "The attention mask and the pad token id were not set. As a consequence, you may observe unexpected behavior. Please pass your input's `attention_mask` to obtain reliable results.\n",
      "Setting `pad_token_id` to `eos_token_id`:2 for open-end generation.\n"
     ]
    },
    {
     "name": "stdout",
     "output_type": "stream",
     "text": [
      "\n",
      "Row added!\n"
     ]
    },
    {
     "name": "stderr",
     "output_type": "stream",
     "text": [
      "The attention mask and the pad token id were not set. As a consequence, you may observe unexpected behavior. Please pass your input's `attention_mask` to obtain reliable results.\n",
      "Setting `pad_token_id` to `eos_token_id`:2 for open-end generation.\n"
     ]
    },
    {
     "name": "stdout",
     "output_type": "stream",
     "text": [
      "\n",
      "Row added!\n"
     ]
    },
    {
     "name": "stderr",
     "output_type": "stream",
     "text": [
      "The attention mask and the pad token id were not set. As a consequence, you may observe unexpected behavior. Please pass your input's `attention_mask` to obtain reliable results.\n",
      "Setting `pad_token_id` to `eos_token_id`:2 for open-end generation.\n"
     ]
    },
    {
     "name": "stdout",
     "output_type": "stream",
     "text": [
      "\n",
      "Row added!\n"
     ]
    },
    {
     "name": "stderr",
     "output_type": "stream",
     "text": [
      "The attention mask and the pad token id were not set. As a consequence, you may observe unexpected behavior. Please pass your input's `attention_mask` to obtain reliable results.\n",
      "Setting `pad_token_id` to `eos_token_id`:2 for open-end generation.\n"
     ]
    },
    {
     "name": "stdout",
     "output_type": "stream",
     "text": [
      "\n",
      "Row added!\n"
     ]
    },
    {
     "name": "stderr",
     "output_type": "stream",
     "text": [
      "The attention mask and the pad token id were not set. As a consequence, you may observe unexpected behavior. Please pass your input's `attention_mask` to obtain reliable results.\n",
      "Setting `pad_token_id` to `eos_token_id`:2 for open-end generation.\n"
     ]
    },
    {
     "name": "stdout",
     "output_type": "stream",
     "text": [
      "\n",
      "Row added!\n"
     ]
    },
    {
     "name": "stderr",
     "output_type": "stream",
     "text": [
      "The attention mask and the pad token id were not set. As a consequence, you may observe unexpected behavior. Please pass your input's `attention_mask` to obtain reliable results.\n",
      "Setting `pad_token_id` to `eos_token_id`:2 for open-end generation.\n"
     ]
    },
    {
     "name": "stdout",
     "output_type": "stream",
     "text": [
      "\n",
      "Row added!\n"
     ]
    },
    {
     "name": "stderr",
     "output_type": "stream",
     "text": [
      "The attention mask and the pad token id were not set. As a consequence, you may observe unexpected behavior. Please pass your input's `attention_mask` to obtain reliable results.\n",
      "Setting `pad_token_id` to `eos_token_id`:2 for open-end generation.\n"
     ]
    },
    {
     "name": "stdout",
     "output_type": "stream",
     "text": [
      "\n",
      "Row added!\n"
     ]
    },
    {
     "name": "stderr",
     "output_type": "stream",
     "text": [
      "The attention mask and the pad token id were not set. As a consequence, you may observe unexpected behavior. Please pass your input's `attention_mask` to obtain reliable results.\n",
      "Setting `pad_token_id` to `eos_token_id`:2 for open-end generation.\n"
     ]
    },
    {
     "name": "stdout",
     "output_type": "stream",
     "text": [
      "\n",
      "Row added!\n"
     ]
    },
    {
     "name": "stderr",
     "output_type": "stream",
     "text": [
      "The attention mask and the pad token id were not set. As a consequence, you may observe unexpected behavior. Please pass your input's `attention_mask` to obtain reliable results.\n",
      "Setting `pad_token_id` to `eos_token_id`:2 for open-end generation.\n"
     ]
    },
    {
     "name": "stdout",
     "output_type": "stream",
     "text": [
      "\n",
      "Row added!\n"
     ]
    },
    {
     "name": "stderr",
     "output_type": "stream",
     "text": [
      "The attention mask and the pad token id were not set. As a consequence, you may observe unexpected behavior. Please pass your input's `attention_mask` to obtain reliable results.\n",
      "Setting `pad_token_id` to `eos_token_id`:2 for open-end generation.\n"
     ]
    },
    {
     "name": "stdout",
     "output_type": "stream",
     "text": [
      "\n",
      "Row added!\n"
     ]
    },
    {
     "name": "stderr",
     "output_type": "stream",
     "text": [
      "The attention mask and the pad token id were not set. As a consequence, you may observe unexpected behavior. Please pass your input's `attention_mask` to obtain reliable results.\n",
      "Setting `pad_token_id` to `eos_token_id`:2 for open-end generation.\n"
     ]
    },
    {
     "name": "stdout",
     "output_type": "stream",
     "text": [
      "\n",
      "Row added!\n"
     ]
    },
    {
     "name": "stderr",
     "output_type": "stream",
     "text": [
      "The attention mask and the pad token id were not set. As a consequence, you may observe unexpected behavior. Please pass your input's `attention_mask` to obtain reliable results.\n",
      "Setting `pad_token_id` to `eos_token_id`:2 for open-end generation.\n"
     ]
    },
    {
     "name": "stdout",
     "output_type": "stream",
     "text": [
      "\n",
      "Row added!\n"
     ]
    },
    {
     "name": "stderr",
     "output_type": "stream",
     "text": [
      "The attention mask and the pad token id were not set. As a consequence, you may observe unexpected behavior. Please pass your input's `attention_mask` to obtain reliable results.\n",
      "Setting `pad_token_id` to `eos_token_id`:2 for open-end generation.\n"
     ]
    },
    {
     "name": "stdout",
     "output_type": "stream",
     "text": [
      "\n",
      "Row added!\n"
     ]
    },
    {
     "name": "stderr",
     "output_type": "stream",
     "text": [
      "The attention mask and the pad token id were not set. As a consequence, you may observe unexpected behavior. Please pass your input's `attention_mask` to obtain reliable results.\n",
      "Setting `pad_token_id` to `eos_token_id`:2 for open-end generation.\n"
     ]
    },
    {
     "name": "stdout",
     "output_type": "stream",
     "text": [
      "\n",
      "Row added!\n"
     ]
    },
    {
     "name": "stderr",
     "output_type": "stream",
     "text": [
      "The attention mask and the pad token id were not set. As a consequence, you may observe unexpected behavior. Please pass your input's `attention_mask` to obtain reliable results.\n",
      "Setting `pad_token_id` to `eos_token_id`:2 for open-end generation.\n"
     ]
    },
    {
     "name": "stdout",
     "output_type": "stream",
     "text": [
      "\n",
      "Row added!\n"
     ]
    },
    {
     "name": "stderr",
     "output_type": "stream",
     "text": [
      "The attention mask and the pad token id were not set. As a consequence, you may observe unexpected behavior. Please pass your input's `attention_mask` to obtain reliable results.\n",
      "Setting `pad_token_id` to `eos_token_id`:2 for open-end generation.\n"
     ]
    },
    {
     "name": "stdout",
     "output_type": "stream",
     "text": [
      "\n",
      "Row added!\n"
     ]
    },
    {
     "name": "stderr",
     "output_type": "stream",
     "text": [
      "The attention mask and the pad token id were not set. As a consequence, you may observe unexpected behavior. Please pass your input's `attention_mask` to obtain reliable results.\n",
      "Setting `pad_token_id` to `eos_token_id`:2 for open-end generation.\n"
     ]
    },
    {
     "name": "stdout",
     "output_type": "stream",
     "text": [
      "\n",
      "Row added!\n"
     ]
    },
    {
     "name": "stderr",
     "output_type": "stream",
     "text": [
      "The attention mask and the pad token id were not set. As a consequence, you may observe unexpected behavior. Please pass your input's `attention_mask` to obtain reliable results.\n",
      "Setting `pad_token_id` to `eos_token_id`:2 for open-end generation.\n"
     ]
    },
    {
     "name": "stdout",
     "output_type": "stream",
     "text": [
      "\n",
      "Row added!\n"
     ]
    },
    {
     "name": "stderr",
     "output_type": "stream",
     "text": [
      "The attention mask and the pad token id were not set. As a consequence, you may observe unexpected behavior. Please pass your input's `attention_mask` to obtain reliable results.\n",
      "Setting `pad_token_id` to `eos_token_id`:2 for open-end generation.\n"
     ]
    },
    {
     "name": "stdout",
     "output_type": "stream",
     "text": [
      "\n",
      "Row added!\n"
     ]
    },
    {
     "name": "stderr",
     "output_type": "stream",
     "text": [
      "The attention mask and the pad token id were not set. As a consequence, you may observe unexpected behavior. Please pass your input's `attention_mask` to obtain reliable results.\n",
      "Setting `pad_token_id` to `eos_token_id`:2 for open-end generation.\n"
     ]
    },
    {
     "name": "stdout",
     "output_type": "stream",
     "text": [
      "\n",
      "Row added!\n"
     ]
    },
    {
     "name": "stderr",
     "output_type": "stream",
     "text": [
      "The attention mask and the pad token id were not set. As a consequence, you may observe unexpected behavior. Please pass your input's `attention_mask` to obtain reliable results.\n",
      "Setting `pad_token_id` to `eos_token_id`:2 for open-end generation.\n"
     ]
    },
    {
     "name": "stdout",
     "output_type": "stream",
     "text": [
      "\n",
      "Row added!\n"
     ]
    },
    {
     "name": "stderr",
     "output_type": "stream",
     "text": [
      "The attention mask and the pad token id were not set. As a consequence, you may observe unexpected behavior. Please pass your input's `attention_mask` to obtain reliable results.\n",
      "Setting `pad_token_id` to `eos_token_id`:2 for open-end generation.\n"
     ]
    },
    {
     "name": "stdout",
     "output_type": "stream",
     "text": [
      "\n",
      "Row added!\n"
     ]
    },
    {
     "name": "stderr",
     "output_type": "stream",
     "text": [
      "The attention mask and the pad token id were not set. As a consequence, you may observe unexpected behavior. Please pass your input's `attention_mask` to obtain reliable results.\n",
      "Setting `pad_token_id` to `eos_token_id`:2 for open-end generation.\n"
     ]
    },
    {
     "name": "stdout",
     "output_type": "stream",
     "text": [
      "\n",
      "Row added!\n"
     ]
    },
    {
     "name": "stderr",
     "output_type": "stream",
     "text": [
      "The attention mask and the pad token id were not set. As a consequence, you may observe unexpected behavior. Please pass your input's `attention_mask` to obtain reliable results.\n",
      "Setting `pad_token_id` to `eos_token_id`:2 for open-end generation.\n"
     ]
    },
    {
     "name": "stdout",
     "output_type": "stream",
     "text": [
      "\n",
      "Row added!\n"
     ]
    },
    {
     "name": "stderr",
     "output_type": "stream",
     "text": [
      "The attention mask and the pad token id were not set. As a consequence, you may observe unexpected behavior. Please pass your input's `attention_mask` to obtain reliable results.\n",
      "Setting `pad_token_id` to `eos_token_id`:2 for open-end generation.\n"
     ]
    },
    {
     "name": "stdout",
     "output_type": "stream",
     "text": [
      "\n",
      "Row added!\n"
     ]
    },
    {
     "name": "stderr",
     "output_type": "stream",
     "text": [
      "The attention mask and the pad token id were not set. As a consequence, you may observe unexpected behavior. Please pass your input's `attention_mask` to obtain reliable results.\n",
      "Setting `pad_token_id` to `eos_token_id`:2 for open-end generation.\n"
     ]
    },
    {
     "name": "stdout",
     "output_type": "stream",
     "text": [
      "\n",
      "Row added!\n"
     ]
    },
    {
     "name": "stderr",
     "output_type": "stream",
     "text": [
      "The attention mask and the pad token id were not set. As a consequence, you may observe unexpected behavior. Please pass your input's `attention_mask` to obtain reliable results.\n",
      "Setting `pad_token_id` to `eos_token_id`:2 for open-end generation.\n"
     ]
    },
    {
     "name": "stdout",
     "output_type": "stream",
     "text": [
      "\n",
      "Row added!\n",
      "\n",
      "Row added!\n"
     ]
    }
   ],
   "source": [
    "\n",
    "# Initialize a list to collect data\n",
    "extracted_data = []\n",
    "\n",
    "# Loop through each text in the DataFrame\n",
    "for text in df['Text']:\n",
    "    # Construct the multi-turn prompt\n",
    "    #multi_turn_prompt = f\"GPT4 Correct System: {system_prompt}<|end_of_turn|>GPT4 Correct User: {prompt1}<|end_of_turn|>GPT4 Correct Assistant: {response1}<|end_of_turn|>GPT4 Correct User: {prompt2}<|end_of_turn|>GPT4 Correct Assistant: {response2}<|end_of_turn|>GPT4 Correct User: {prompt3}<|end_of_turn|>GPT4 Correct Assistant: {response3}<|end_of_turn|>GPT4 Correct User: {prompt4}<|end_of_turn|>GPT4 Correct Assistant:{response4}<|end_of_turn|>GPT4 Correct User: {text}<|end_of_turn|>GPT4 Correct Assistant:\"\n",
    "    messages = [\n",
    "    {\n",
    "        \"role\": \"user\",\n",
    "        \"content\": system_prompt,\n",
    "    },\n",
    "    {\n",
    "        \"role\": \"assistant\",\n",
    "        \"content\": sys_response1,\n",
    "    },\n",
    "    {\"role\": \"user\", \"content\": pre_prompt+prompt2},\n",
    "    {\n",
    "        \"role\": \"assistant\",\n",
    "        \"content\": response2,\n",
    "    },\n",
    "    {\"role\": \"user\", \"content\": pre_prompt+prompt3},\n",
    "    {\n",
    "        \"role\": \"assistant\",\n",
    "        \"content\": response3,\n",
    "    },\n",
    "    {\"role\": \"user\", \"content\": pre_prompt+prompt4},\n",
    "    {\n",
    "        \"role\": \"assistant\",\n",
    "        \"content\": response4,\n",
    "    },\n",
    "    {\n",
    "        \"role\": \"user\",\n",
    "        \"content\": pre_prompt+text,\n",
    "    },\n",
    "    \n",
    "    ]\n",
    "    prompt=tokenizer.apply_chat_template(messages, tokenize=False)\n",
    "    # Generate the response\n",
    "    response_text = generate_response(prompt, temp=0.8, top_p=0.8)\n",
    "    print()\n",
    "    \n",
    "    #print('{'+response_text.split('}')[-2].split('{')[-1]+'}')\n",
    "    \n",
    "    # Parse JSON and add to the list\n",
    "    try:\n",
    "        # Extract JSON from the response\n",
    "        #json_data = json.loads('{'+response_text.split('}')[-2].split('{')[-1]+'}')\n",
    "        json_data = parse_nested_json(response_text)\n",
    "        json_data['text'] = text\n",
    "        #print(json_data)\n",
    "        extracted_data.append(json_data)\n",
    "        print('Row added!')\n",
    "    except json.JSONDecodeError:\n",
    "        json_data['text'] = text\n",
    "        extracted_data.append(json_data)\n",
    "        print(\"Error parsing JSON for response: \", response_text)\n",
    "\n",
    "# Create a DataFrame from the collected data\n",
    "df_extracted_hightp_mix_np = pd.DataFrame(extracted_data)\n",
    "\n",
    "\n",
    "# Create a DataFrame from the collected data\n",
    "df_extracted_hightp_mix_np = pd.DataFrame(extracted_data)\n",
    "df_extracted_hightp_mix_np.to_csv('df_extracted_hightp_mix_np.csv')\n",
    "df_extracted_hightp_mix_np.to_excel('df_extracted_hightp_mix_np.xlsx')\n"
   ]
  },
  {
   "cell_type": "code",
   "execution_count": null,
   "id": "707b31a3",
   "metadata": {},
   "outputs": [],
   "source": [
    "#df_extracted_hightp_mix.to_csv('df_extracted_hightp_mix.csv')"
   ]
  },
  {
   "cell_type": "code",
   "execution_count": null,
   "id": "f90151b4",
   "metadata": {},
   "outputs": [],
   "source": [
    "#df_extracted_hightp_mix.to_excel('df_extracted_hightp_mix.xlsx')"
   ]
  },
  {
   "cell_type": "code",
   "execution_count": 35,
   "id": "e7ab8a51",
   "metadata": {},
   "outputs": [
    {
     "data": {
      "text/plain": [
       "Index(['År-månad-dag', 'Län', 'Härad', 'Socken', 'By', 'Jordnatur', 'Nummer',\n",
       "       'Mantal', 'Örestal', 'Penningland', 'Riksdaler', 'Öre', 'Skilling',\n",
       "       'Runstycken', 'Valuta', 'Säljare-manlig', 'Säljare-kvinnlig',\n",
       "       'Köpare-manlig', 'Köpare-kvinnlig', 'Köpare-yrke',\n",
       "       'Relation mellan säljare och köpare', 'Köpare från', 'Fördel',\n",
       "       'Auktion'],\n",
       "      dtype='object')"
      ]
     },
     "execution_count": 35,
     "metadata": {},
     "output_type": "execute_result"
    }
   ],
   "source": [
    "df_extracted_hightp_mix.columns"
   ]
  },
  {
   "cell_type": "code",
   "execution_count": 34,
   "id": "4c379c50",
   "metadata": {},
   "outputs": [
    {
     "data": {
      "text/html": [
       "<div>\n",
       "<style scoped>\n",
       "    .dataframe tbody tr th:only-of-type {\n",
       "        vertical-align: middle;\n",
       "    }\n",
       "\n",
       "    .dataframe tbody tr th {\n",
       "        vertical-align: top;\n",
       "    }\n",
       "\n",
       "    .dataframe thead th {\n",
       "        text-align: right;\n",
       "    }\n",
       "</style>\n",
       "<table border=\"1\" class=\"dataframe\">\n",
       "  <thead>\n",
       "    <tr style=\"text-align: right;\">\n",
       "      <th></th>\n",
       "      <th>År-månad-dag</th>\n",
       "      <th>Län</th>\n",
       "      <th>Härad</th>\n",
       "      <th>Socken</th>\n",
       "      <th>By</th>\n",
       "      <th>Jordnatur</th>\n",
       "      <th>Nummer</th>\n",
       "      <th>Mantal</th>\n",
       "      <th>Örestal</th>\n",
       "      <th>Penningland</th>\n",
       "      <th>...</th>\n",
       "      <th>Valuta</th>\n",
       "      <th>Säljare-manlig</th>\n",
       "      <th>Säljare-kvinnlig</th>\n",
       "      <th>Köpare-manlig</th>\n",
       "      <th>Köpare-kvinnlig</th>\n",
       "      <th>Köpare-yrke</th>\n",
       "      <th>Relation mellan säljare och köpare</th>\n",
       "      <th>Köpare från</th>\n",
       "      <th>Fördel</th>\n",
       "      <th>Auktion</th>\n",
       "    </tr>\n",
       "  </thead>\n",
       "  <tbody>\n",
       "  </tbody>\n",
       "</table>\n",
       "<p>0 rows × 24 columns</p>\n",
       "</div>"
      ],
      "text/plain": [
       "Empty DataFrame\n",
       "Columns: [År-månad-dag, Län, Härad, Socken, By, Jordnatur, Nummer, Mantal, Örestal, Penningland, Riksdaler, Öre, Skilling, Runstycken, Valuta, Säljare-manlig, Säljare-kvinnlig, Köpare-manlig, Köpare-kvinnlig, Köpare-yrke, Relation mellan säljare och köpare, Köpare från, Fördel, Auktion]\n",
       "Index: []\n",
       "\n",
       "[0 rows x 24 columns]"
      ]
     },
     "execution_count": 34,
     "metadata": {},
     "output_type": "execute_result"
    }
   ],
   "source": [
    "df_extracted_hightp_mix"
   ]
  },
  {
   "cell_type": "code",
   "execution_count": 74,
   "id": "45cbd1b6",
   "metadata": {},
   "outputs": [
    {
     "data": {
      "text/html": [
       "<div>\n",
       "<style scoped>\n",
       "    .dataframe tbody tr th:only-of-type {\n",
       "        vertical-align: middle;\n",
       "    }\n",
       "\n",
       "    .dataframe tbody tr th {\n",
       "        vertical-align: top;\n",
       "    }\n",
       "\n",
       "    .dataframe thead th {\n",
       "        text-align: right;\n",
       "    }\n",
       "</style>\n",
       "<table border=\"1\" class=\"dataframe\">\n",
       "  <thead>\n",
       "    <tr style=\"text-align: right;\">\n",
       "      <th></th>\n",
       "      <th>År-månad-dag</th>\n",
       "      <th>Län</th>\n",
       "      <th>Härad</th>\n",
       "      <th>Socken</th>\n",
       "      <th>By</th>\n",
       "      <th>Jordnatur</th>\n",
       "      <th>Nummer</th>\n",
       "      <th>Mantal</th>\n",
       "      <th>Örestal</th>\n",
       "      <th>Penningland</th>\n",
       "      <th>...</th>\n",
       "      <th>Säljare-manliga</th>\n",
       "      <th>Säljare-kvinnliga</th>\n",
       "      <th>Köpare-manliga</th>\n",
       "      <th>Köpare-kvinnliga</th>\n",
       "      <th>Köpare-yrke</th>\n",
       "      <th>Relation mellan säljare och köpare</th>\n",
       "      <th>Köpare från</th>\n",
       "      <th>Fördel</th>\n",
       "      <th>Auktion</th>\n",
       "      <th>Vittnen</th>\n",
       "    </tr>\n",
       "  </thead>\n",
       "  <tbody>\n",
       "    <tr>\n",
       "      <th>0</th>\n",
       "      <td>1860-11-17</td>\n",
       "      <td>Westmanland</td>\n",
       "      <td>Wagnsbro</td>\n",
       "      <td>Sura</td>\n",
       "      <td>Ståltorp</td>\n",
       "      <td>Hemmanet</td>\n",
       "      <td>2</td>\n",
       "      <td>1/6</td>\n",
       "      <td>1</td>\n",
       "      <td>8</td>\n",
       "      <td>...</td>\n",
       "      <td>Per Wrettström</td>\n",
       "      <td>Anna Persdotter</td>\n",
       "      <td>Johan Hedström</td>\n",
       "      <td></td>\n",
       "      <td></td>\n",
       "      <td>kan inte fastställas</td>\n",
       "      <td></td>\n",
       "      <td></td>\n",
       "      <td></td>\n",
       "      <td>P. Pehrsson</td>\n",
       "    </tr>\n",
       "    <tr>\n",
       "      <th>1</th>\n",
       "      <td>1860-11-17</td>\n",
       "      <td>Westmanland</td>\n",
       "      <td>Wagnsbro</td>\n",
       "      <td>Sura</td>\n",
       "      <td>Ståltorp</td>\n",
       "      <td>Hemmanet</td>\n",
       "      <td>2</td>\n",
       "      <td>1/6</td>\n",
       "      <td>1</td>\n",
       "      <td>8</td>\n",
       "      <td>...</td>\n",
       "      <td>Per Wrettström</td>\n",
       "      <td>Anna Persdotter</td>\n",
       "      <td>Johan Hedström</td>\n",
       "      <td></td>\n",
       "      <td></td>\n",
       "      <td>kan inte fastställas</td>\n",
       "      <td></td>\n",
       "      <td></td>\n",
       "      <td></td>\n",
       "      <td>Sör Gerdsbo</td>\n",
       "    </tr>\n",
       "    <tr>\n",
       "      <th>2</th>\n",
       "      <td>1860-11-17</td>\n",
       "      <td>Westmanland</td>\n",
       "      <td>Wagnsbro</td>\n",
       "      <td>Sura</td>\n",
       "      <td>Ståltorp</td>\n",
       "      <td>Hemmanet</td>\n",
       "      <td>2</td>\n",
       "      <td>1/6</td>\n",
       "      <td>1</td>\n",
       "      <td>8</td>\n",
       "      <td>...</td>\n",
       "      <td>Per Wrettström</td>\n",
       "      <td>Anna Persdotter</td>\n",
       "      <td>Johan Hedström</td>\n",
       "      <td></td>\n",
       "      <td></td>\n",
       "      <td>kan inte fastställas</td>\n",
       "      <td></td>\n",
       "      <td></td>\n",
       "      <td></td>\n",
       "      <td>Lars Grönlund</td>\n",
       "    </tr>\n",
       "  </tbody>\n",
       "</table>\n",
       "<p>3 rows × 25 columns</p>\n",
       "</div>"
      ],
      "text/plain": [
       "  År-månad-dag          Län     Härad Socken        By Jordnatur Nummer  \\\n",
       "0   1860-11-17  Westmanland  Wagnsbro   Sura  Ståltorp  Hemmanet      2   \n",
       "1   1860-11-17  Westmanland  Wagnsbro   Sura  Ståltorp  Hemmanet      2   \n",
       "2   1860-11-17  Westmanland  Wagnsbro   Sura  Ståltorp  Hemmanet      2   \n",
       "\n",
       "  Mantal Örestal Penningland  ... Säljare-manliga Säljare-kvinnliga  \\\n",
       "0    1/6       1           8  ...  Per Wrettström   Anna Persdotter   \n",
       "1    1/6       1           8  ...  Per Wrettström   Anna Persdotter   \n",
       "2    1/6       1           8  ...  Per Wrettström   Anna Persdotter   \n",
       "\n",
       "   Köpare-manliga Köpare-kvinnliga Köpare-yrke  \\\n",
       "0  Johan Hedström                                \n",
       "1  Johan Hedström                                \n",
       "2  Johan Hedström                                \n",
       "\n",
       "  Relation mellan säljare och köpare Köpare från Fördel Auktion        Vittnen  \n",
       "0               kan inte fastställas                               P. Pehrsson  \n",
       "1               kan inte fastställas                               Sör Gerdsbo  \n",
       "2               kan inte fastställas                             Lars Grönlund  \n",
       "\n",
       "[3 rows x 25 columns]"
      ]
     },
     "execution_count": 74,
     "metadata": {},
     "output_type": "execute_result"
    }
   ],
   "source": [
    "pd.DataFrame(json.loads('{'+response_text.split('{')[-1]))"
   ]
  },
  {
   "cell_type": "code",
   "execution_count": 76,
   "id": "0947f199",
   "metadata": {
    "scrolled": true
   },
   "outputs": [
    {
     "data": {
      "text/plain": [
       "'{\\n  \"År-månad-dag\": \"1860-11-17\",\\n  \"Län\": \"Westmanland\",\\n  \"Härad\": \"Wagnsbro\",\\n  \"Socken\": \"Sura\",\\n  \"By\": \"Ståltorp\",\\n  \"Jordnatur\": \"Hemmanet\",\\n  \"Nummer\": \"2\",\\n  \"Mantal\": \"1/6\",\\n  \"Örestal\": \"1\",\\n  \"Penningland\": \"8\",\\n  \"Riksdaler\": \"1500\",\\n  \"Öre\": \"\",\\n  \"Skilling\": \"\",\\n  \"Runstycken\": \"\",\\n  \"Valuta\": \"Riksgels\",\\n  \"Säljare-manliga\": \"Per Wrettström\",\\n  \"Säljare-kvinnliga\": \"Anna Persdotter\",\\n  \"Köpare-manliga\": \"Johan Hedström\",\\n  \"Köpare-kvinnliga\": \"\",\\n  \"Köpare-yrke\": \"\",\\n  \"Relation mellan säljare och köpare\": \"kan inte fastställas\",\\n  \"Köpare från\": \"\",\\n  \"Fördel\": \"\",\\n  \"Auktion\": \"\",\\n  \"Vittnen\": [\\n    \"P. Pehrsson\",\\n    \"Sör Gerdsbo\",\\n    \"Lars Grönlund\"\\n  ]\\n}'"
      ]
     },
     "execution_count": 76,
     "metadata": {},
     "output_type": "execute_result"
    }
   ],
   "source": [
    "'{'+response_text.split('{')[-1]"
   ]
  },
  {
   "cell_type": "code",
   "execution_count": 31,
   "id": "f44213fe",
   "metadata": {},
   "outputs": [
    {
     "data": {
      "text/html": [
       "<div>\n",
       "<style scoped>\n",
       "    .dataframe tbody tr th:only-of-type {\n",
       "        vertical-align: middle;\n",
       "    }\n",
       "\n",
       "    .dataframe tbody tr th {\n",
       "        vertical-align: top;\n",
       "    }\n",
       "\n",
       "    .dataframe thead th {\n",
       "        text-align: right;\n",
       "    }\n",
       "</style>\n",
       "<table border=\"1\" class=\"dataframe\">\n",
       "  <thead>\n",
       "    <tr style=\"text-align: right;\">\n",
       "      <th></th>\n",
       "      <th>År-månad-dag</th>\n",
       "      <th>Län</th>\n",
       "      <th>Härad</th>\n",
       "      <th>Socken</th>\n",
       "      <th>By</th>\n",
       "      <th>Jordnatur</th>\n",
       "      <th>Nummer</th>\n",
       "      <th>Mantal</th>\n",
       "      <th>Örestal</th>\n",
       "      <th>Penningland</th>\n",
       "      <th>...</th>\n",
       "      <th>Valuta</th>\n",
       "      <th>Säljare-manliga</th>\n",
       "      <th>Säljare-kvinnliga</th>\n",
       "      <th>Köpare-manliga</th>\n",
       "      <th>Köpare-kvinnliga</th>\n",
       "      <th>Köpare-yrke</th>\n",
       "      <th>Relation mellan säljare och köpare</th>\n",
       "      <th>Köpare från</th>\n",
       "      <th>Fördel</th>\n",
       "      <th>Auktion</th>\n",
       "    </tr>\n",
       "  </thead>\n",
       "  <tbody>\n",
       "  </tbody>\n",
       "</table>\n",
       "<p>0 rows × 24 columns</p>\n",
       "</div>"
      ],
      "text/plain": [
       "Empty DataFrame\n",
       "Columns: [År-månad-dag, Län, Härad, Socken, By, Jordnatur, Nummer, Mantal, Örestal, Penningland, Riksdaler, Öre, Skilling, Runstycken, Valuta, Säljare-manliga, Säljare-kvinnliga, Köpare-manliga, Köpare-kvinnliga, Köpare-yrke, Relation mellan säljare och köpare, Köpare från, Fördel, Auktion]\n",
       "Index: []\n",
       "\n",
       "[0 rows x 24 columns]"
      ]
     },
     "execution_count": 31,
     "metadata": {},
     "output_type": "execute_result"
    }
   ],
   "source": [
    "df_extracted_lowtp_mix_np = pd.DataFrame(columns=df_cols)\n",
    "df_extracted_lowtp_mix_np"
   ]
  },
  {
   "cell_type": "code",
   "execution_count": 32,
   "id": "9977ead0",
   "metadata": {
    "scrolled": true
   },
   "outputs": [
    {
     "name": "stderr",
     "output_type": "stream",
     "text": [
      "The attention mask and the pad token id were not set. As a consequence, you may observe unexpected behavior. Please pass your input's `attention_mask` to obtain reliable results.\n",
      "Setting `pad_token_id` to `eos_token_id`:2 for open-end generation.\n",
      "The attention mask and the pad token id were not set. As a consequence, you may observe unexpected behavior. Please pass your input's `attention_mask` to obtain reliable results.\n",
      "Setting `pad_token_id` to `eos_token_id`:2 for open-end generation.\n"
     ]
    },
    {
     "name": "stdout",
     "output_type": "stream",
     "text": [
      "\n",
      "{'År-månad-dag': '1860-11-17', 'Län': 'Westmanland', 'Härad': 'Wagnsbro', 'Socken': 'Wester färnebo', 'By': 'Sör åll', 'Jordnatur': 'Hemmanet', 'Nummer': '2', 'Mantal': '1/6', 'Örestal': '1', 'Penningland': '8', 'Riksdaler': '1500', 'Öre': '', 'Skilling': '', 'Runstycken': '', 'Valuta': 'Riksgels', 'Säljare-manliga': 'Per Wrettström', 'Säljare-kvinnliga': 'Anna Persdotter', 'Köpare-manliga': 'Johan Hedström', 'Köpare-kvinnliga': '', 'Köpare-yrke': '', 'Relation mellan säljare och köpare': 'Ej angiven', 'Köpare från': 'Ståltorp Sura Socken', 'Fördel': '', 'Auktion': '', 'text': '”Jag undertecknad uplåter och försäljer med min kära hustru ja och samtycke till Johan Hedström i Ståltorp Sura Socken min ägande 1/6 mantal Ett öre åtta penningland i Hemmanet no 2 i Sör åll af Wester färnebo Socken Wagnsbro härad och Westmanland län för en öfverenskommen och betingad köpeskilling stor Ett Tusende fem Hundra R Riksgels Sedlar och som jag denna köpeskilling till fullo bekommit hvilket och härmed quitterat, alltså afhänder jag mig och mina arfvingar ofvannämnde 1 öre 8 penningland, och tillegne desamma bemälte Johan Hedström och deras arfvingar att erlösadeliga äga och disponera som all annan des wälfångna egendom förbindande jag mig till Himmel efter lag, Sör åll den 17 november 1860. Per P. Wrettström Anna /bom/ Persdotter.\\nAtt Per Wrettström och hustru egenhändigt undertek sina bomärken intygas på en gång närvarande vittnen P. Pehrsson Sör Gerdsbo Lars Grönlund på Sunnett.'}\n",
      "Row added!\n"
     ]
    },
    {
     "name": "stderr",
     "output_type": "stream",
     "text": [
      "The attention mask and the pad token id were not set. As a consequence, you may observe unexpected behavior. Please pass your input's `attention_mask` to obtain reliable results.\n",
      "Setting `pad_token_id` to `eos_token_id`:2 for open-end generation.\n"
     ]
    },
    {
     "name": "stdout",
     "output_type": "stream",
     "text": [
      "\n",
      "{'Säljare': {'Name': 'Sara Jansdotter', 'Relation': 'Mother', 'Occupation': ''}, 'Köpare': {'Name': 'Johan Mattsson', 'Relation': 'Son', 'Occupation': 'Hemmansägaren'}, 'Property': {'Type': 'Skattehemmanet', 'Number': '5', 'Mantal': '2/15', 'Örestal': '', 'Penningland': '16', 'Address': {'Socken': 'Wester färnebo', 'By': 'Islingsby', 'Härad': 'Wagnsbro', 'Län': 'Westmanlands', 'Country': 'Sweden'}}, 'Köpeskilling': {'Amount': '709', 'Currency': 'Riksdaler', 'Öre': '33'}, 'Datum': '1861-02-26', 'Övrigt': '', 'Vittnen': [{'Name': 'J G Hild', 'Övrigt': 'E Borin'}], 'text': '”Jag Sara Jansdotter upplåter och försäljer härmedelst till min Son Hemmansägaren Johan Mattsson härstädes, det mig i arf efter min aflidne man Hemmansägaren Matts Jansson tillfallne två femton dels mantal af Skattehemmanet no 5, om Sexton penningeland i Islingsby Wester fernebo Socken, Wagnsbro Härad och Westmanlands Län belägen, emot en öfverenskommen och betingad Köpeskilling Stor: Sju Hundra Nio Riksdaler 33 öre Riksmynt, och som jag denna köpeskilling tillfullo bekommit, alltså afhänder jag mig och mina öfrige arfvingar berörde 2/15 dels mantal Islingsby, med allt hvad dertill hörer, af ålder lydt och lagligen tillvinnas kan, och tillegne den samma bemälde min Son Johan Mattsson och hans arfvingar, att genast tillträda, samt everldeliga äga och besitta hafvande till yttermera wisse häraf, jag detta köpebref uti nedanstående wittnens närvaro, med mitt bomärkes undertecknande bekräfta, som skedde i Islingsby Nybygget den 26 februari 1861 \\nSara /bom/ Jansdotter wittnen underskrifna \\nJ G Hild… E Borin'}\n",
      "Row added!\n"
     ]
    },
    {
     "name": "stderr",
     "output_type": "stream",
     "text": [
      "The attention mask and the pad token id were not set. As a consequence, you may observe unexpected behavior. Please pass your input's `attention_mask` to obtain reliable results.\n",
      "Setting `pad_token_id` to `eos_token_id`:2 for open-end generation.\n"
     ]
    },
    {
     "name": "stdout",
     "output_type": "stream",
     "text": [
      "\n",
      "{'Säljare-manliga': 'Eric Jansson', 'Säljare-kvinnliga': 'Anna Jansdotters', 'Köpare-manliga': 'Jan Ersson', 'Köpare-kvinnliga': 'Anna Jansdotter', 'Jordnatur': 'skatte', 'Nummer': '', 'Mantal': '1/8', 'Örestal': '1', 'Penningland': '1', 'Riksdaler': '7500', 'Öre': '', 'Skilling': '', 'Runstycken': '', 'Valuta': 'Riksmynt', 'År-månad-dag': '1861-01-02', 'Län': 'Westmanlands', 'Härad': 'Wagnsbro', 'Socken': 'Wester färnebo', 'By': 'Heden', 'Fördel': '', 'Auktion': '', 'Övrig': 'Säljare försäljer 1/8 mantal skatte Heden och 1/8 mtl skatte Skogsbyn till sin svärfar Hemmansegaren Jan Ersson och hustru Anna Jansdotter för en Summa af Sjutusen femhundra Riksdaler Riksmynt. Säljaren behåller inte några undantag undantagandes af hvad dertill lyder af ålder legat eller framledes tillvinnas kan. Säljaren behöver inte betala några avgifter eller skatter för försäljningen.', 'text': '”Jag Eric Jansson gör hervid veterligt att jag med min kära hustru Anna Jansdotters goda ja och samtycke samt af fri vilja, försålt, såsom jag ock genom detta öppna salubref, försäljer till min Svärfar Hemmansegaren Jan Ersson och hustru Anna Jansdotter, egona 1/8 mtl skatte Heden om 1 öresland och 1/8 mtl skatte Skogsbyn om 1 öresland i Wester fernebo Socken och Wagnsbro härad för en Summa af Sjutusen femhundra /7500/ Riksdaler Riksmynt och som den … penningen med den första är till mig slutligen betald så afhändar jag mig, min köra hustru och barn tillhörde hemmansdelar 1/8 mlt Heden och 1/8 mtl Skogby med alla dess tillhörigheter och tillägnar de samma Jan Ersson och hustru Anna Jansdotter, Heden och arfvingar med hemmansdelar med alla ägor i hus, jord och öfrige tillhörigheter intet undantagandes af hvad dertill lyder af ålder legat eller framledes tillvinnas kan, att äga och bruka och besitta såsom deras välfångna egendom, förbindande till hemul efter lag – Till yttermera visshet har jag tillika med min kära hustru detta Salubref i undertecknande vittnens närvaro, egenhändigt underskrifvet som skedde på Heden den 2ra januari 1861. Eric Jansson (otydligt) och Heden. Anna /bom/ kattharina Jansdotter\\nJan Ersson Boende på Heden. Anders Mattsson Hebo egor”'}\n",
      "Row added!\n"
     ]
    },
    {
     "name": "stderr",
     "output_type": "stream",
     "text": [
      "The attention mask and the pad token id were not set. As a consequence, you may observe unexpected behavior. Please pass your input's `attention_mask` to obtain reliable results.\n",
      "Setting `pad_token_id` to `eos_token_id`:2 for open-end generation.\n"
     ]
    },
    {
     "name": "stdout",
     "output_type": "stream",
     "text": [
      "\n",
      "{'År-månad-dag': '1861-01-19', 'Län': 'Västmanlands', 'Härad': 'Wagnsbro', 'Socken': 'Karbennings', 'By': 'Klingholmen', 'Jordnatur': 'Hemman', 'Nummer': '1/32', 'Mantal': '', 'Örestal': '', 'Penningland': '', 'Riksdaler': '1200', 'Öre': '', 'Skilling': '', 'Runstycken': '', 'Valuta': 'Riksmynt', 'Säljare-manliga': 'Per Gustaf Hedberg', 'Säljare-kvinnliga': 'Christina Carolina Gerdtsdotter', 'Köpare-manliga': 'Per Gustaf Ersson', 'Köpare-kvinnliga': 'Lovisa Ersdotter', 'Köpare-yrke': '', 'Relation mellan säljare och köpare': '', 'Köpare från': '', 'Fördel': '', 'Auktion': '', 'text': '”Jag Per Gustaf Hedberg tillika med min hustrus Christina Carolina Gerdtsdotter samtycke upplåter och försäljer till Per Gustaf Ersson och dess hustru Lovisa Ersdotter Klingholmen vårt uti Labodarne ägande Ett Trettiondetvånde dels Hemman med dertill hörande inägojord skog och mark beläget inom Karbennings Socken dock likväl Wagnsbro Härad emot en överenskommen och betingad köpeskilling stor Ett Tusen Två Hundrade Riksdaler Riksmynt, Och som denna köpeskilling 1200 Rd Rmt är uti ett särskildt köpekontrakt häröfver af denna dag upptagen så varder den derigenom här qvitterad. Alltså afhänder vi oss och våra efter-kommande berörde 1/32de dels Hemman med åtföljande förmoner samt alt hvad hädanefter lagligen tillvinnas kan till bemälte Per Gustaf Ersson dess hustru och efterkommande rätts innehafvare att everlderligen äga bruka och besitta, förbindande vi oss till Himmel efter lag hvadan vi uti tvenne tillkallade wittnens när och öfvervaro underskrifne som skedde uti Karbenningby den 19 januari 1861 Per Gustaf Hedberg Christina Carolina Gerdtsdotter i Karbenningby Wittnar Lars Eric Larsson Lars Starksson.”'}\n",
      "Row added!\n"
     ]
    },
    {
     "name": "stderr",
     "output_type": "stream",
     "text": [
      "The attention mask and the pad token id were not set. As a consequence, you may observe unexpected behavior. Please pass your input's `attention_mask` to obtain reliable results.\n",
      "Setting `pad_token_id` to `eos_token_id`:2 for open-end generation.\n"
     ]
    },
    {
     "name": "stdout",
     "output_type": "stream",
     "text": [
      "\n",
      "{'År-månad-dag': '1861-01-16', 'Län': 'Westmanlands', 'Härad': 'Wagnsbro', 'Socken': 'Wester färnebo', 'By': 'Norr Sahlbo', 'Jordnatur': 'Kronoskattehemmanet', 'Nummer': '4', 'Mantal': '1/24', 'Örestal': '', 'Penningland': '8', 'Riksdaler': '600', 'Öre': '', 'Skilling': '', 'Runstycken': '', 'Valuta': 'Riksmynt', 'Säljare-manliga': 'Johan Andersson Blom', 'Säljare-kvinnliga': 'Christina Mattsdotters', 'Köpare-manliga': 'Matts Östling', 'Köpare-kvinnliga': '', 'Köpare-yrke': 'Sockensskräddaren', 'Relation mellan säljare och köpare': 'Far och Son', 'Köpare från': 'Norr Sahlbo', 'Fördel': '', 'Auktion': '', 'text': '”Jag Johan Andersson Blom upplåter och försäljer härmedelst, med min kära hustrus Christina Mattsdotters ja och samtycke, till vår son Sockensskräddaren Matts Östling i Norr Sahlbo, det mig och min hustru tillhöriga, uti Wester fernebo Socken Wagnsbro härad och Westmanlands Län belägna Kronoskattehemmanet No 4 Norr Sahlbo, Ett Tjugofjerdedels mantal om åtta penningland, hus och jord, emot en öfverenskommen köpeskilling, stor Sexhundera Riksdaler Riksmynt, hvilken af oss tillfullo är bekommen, hvadan vi afhände och våra arfvingar berörde 1/24 mantal om 8 penningland i Norr Sahlbo, med allt hvad dertill hörer, af ålder lydt och lagligen tillvinnas kan, och tillegne dersamma bemälde wår Son Matts Östling samt dess arfvingar, att genast tillträda, samt evelderligen ega och besitta. Till yttermera wisse hafva vi, uti nedanstående vittnens närvaro, detta köpebref egenhändigt undertecknat, som skedde i Norr Sahlbo den 16 januari 1861. Jan Andersson Blom Christina /bomärke/ Mattsdotter Bevittnas af Erik Andersson i Sör Sahlbo M. Salholm i n. Sör Sahlbo.”'}\n",
      "Row added!\n"
     ]
    },
    {
     "name": "stderr",
     "output_type": "stream",
     "text": [
      "The attention mask and the pad token id were not set. As a consequence, you may observe unexpected behavior. Please pass your input's `attention_mask` to obtain reliable results.\n",
      "Setting `pad_token_id` to `eos_token_id`:2 for open-end generation.\n"
     ]
    },
    {
     "name": "stdout",
     "output_type": "stream",
     "text": [
      "\n",
      "{'År-månad-dag': '1861-03-30', 'Län': 'Westmanlands', 'Härad': 'Wagnsbro', 'Socken': 'Wester färnebo', 'By': 'Tvärhandsbäcken', 'Jordnatur': 'Kronoskattehemmanet', 'Nummer': '', 'Mantal': '1/48', 'Örestal': '', 'Penningland': '4', 'Riksdaler': '400', 'Öre': '', 'Skilling': '', 'Runstycken': '', 'Valuta': 'Riksmynt', 'Säljare-manliga': 'Anders Larsson', 'Säljare-kvinnliga': 'Lovisa Larsdotter', 'Köpare-manliga': 'Lars Strandberg', 'Köpare-kvinnliga': 'Stina Mattsdotter', 'Köpare-yrke': '', 'Relation mellan säljare och köpare': '', 'Köpare från': '', 'Fördel': '', 'Auktion': '', 'text': 'Jag Anders Larsson upplåter och försäljer härmedelst med min kära hustrus Lovisa Larsdotter ja och samtycke till Lars Strandberg på Bremossen och dess Hustru Stina Mattsdotter, de mig tillhöriga, uti Kronoskattehemmanet Tvärhandsbäcken i Wester fernebo Socken, Wagnsbro härad och Westmanlands Län belägna 1/48 dels mantal om fyra /4/ penningland jord, emot en öfverenskommen och betingad köpeskilling stor Fyra Hundrade /400/ Riksdaler Riksmynt och som jag denna köpeskilling tillfullo bekommit, Så varder den härmed qvitterad. Alltså afhänder jag mig och mina arfvingar berörde fyra penningland jord med allt hvad dertill hörer, af ålder lydt och lagligen tillvinnas kan, och tillegnar desamma köparna Lars Strandberg och dess Hustru att, nu genast tillträda samt för sig och sina arfvingar evardeligen ega och besitta. Hafvandes till yttermera visso häraf vi detta köptebref, uti tillkallade vittnens närvaro egenhändigt undertecknat , som skedde i Norr Sahlbo den 30de Mars 1861 Anders Larsson Lovisa /bom/ Larsdotter i Tvärhandsbäcken Säljare. Bevittnes af Matts Sahlholm Matts Johansson Bägge i Norr Sahlbo fernebo.”'}\n",
      "Row added!\n"
     ]
    },
    {
     "name": "stderr",
     "output_type": "stream",
     "text": [
      "The attention mask and the pad token id were not set. As a consequence, you may observe unexpected behavior. Please pass your input's `attention_mask` to obtain reliable results.\n",
      "Setting `pad_token_id` to `eos_token_id`:2 for open-end generation.\n"
     ]
    },
    {
     "name": "stdout",
     "output_type": "stream",
     "text": [
      "\n",
      "{'År-månad-dag': '1861-03-20', 'Län': 'Westerås', 'Härad': 'Wagnsbro', 'Socken': 'Wester färnebo', 'By': 'Norr Åhl', 'Jordnatur': 'Skatte', 'Nummer': '1', 'Mantal': '1/5', 'Örestal': '', 'Penningland': '20 4/5', 'Riksdaler': '3135', 'Öre': '', 'Skilling': '', 'Runstycken': '', 'Valuta': 'Riksmynt', 'Säljare-manliga': 'Johan Dahlman', 'Säljare-kvinnliga': '', 'Köpare-manliga': 'Anders Jansson', 'Köpare-kvinnliga': '', 'Köpare-yrke': '', 'Relation mellan säljare och köpare': '', 'Köpare från': 'Tappebo', 'Fördel': '', 'Auktion': 'Frivillig', 'Auctionsförrättare': 'Johan Dahlman', 'Auctionplats': 'Norr Åhl', 'Auctiondatum': '1861-05-01', 'Vittnen': 'Olof Ersson i Åhlbo, Anders Larsson i Islingsby', 'text': ' Jag Johan Dahlman anmodad Auctionsförrättare göre härmed wetterligt att vid den frivilliga auction å 1/5 mant om 20 4/5 dels penningl. af Skattehemmanet no 1 beläget i Norr Åhl Wester fernebo Socken, Wagnsbro härad, Westerås Län hvilken blivit af mig denna dag förrättad, stadnade Skattebonden Anders Jansson i Tappebo för högsta anbudet derå Tre Tusende Etthundra Trettiofem Riksdaler Riksmynt, och som jag desse 3,135 Rd Rmt på … Auctionsprotokollet  vidare omförmäler bekommit afhänder jag Jan Persson, dess arfvingar, äganderätten till berörde 1/5 mant om 20 4/5 penningl. i Norr Åhl, med allt hvad dertill hörer, af ålder lydt och lagligen tillvinnas kan, och tillegne detsamma bemälde Anders Jansson och hustru deras arfvingar att genast tillträda, samt evardeligen äga och besitta hafva jag till yttermera wisse häraf, jag detta köpebref uti nedanstående vittnens närvaro egenhändigt undertecknat mitt namn som skedde i Norr Åhl den Tjugondeandra Martu 1861 Joh. Dahlman i Åhlsvarta Auctionsförettare.\\nOfvanstående Salubref erkännes till alla dess delar af undertecknad. Ägande köparen Anders Jansson i Tappebo, å den härmedelst försålda fastigheten 1/5 dels mant No 1 Norr Åhl vud väl häradsrätten för sig erhålla uppbud och fasteförklaras  tid och ort sm ofvan. Jan Pärsson\\nAtt så väl Auctionsförättaren Johan Dahlman i Åhlsvarta, som Jan Pärsson i Norr Åhl hvilka ägt ofvanskrivna fastighet undertecknat sina namn, och att den sednare med den gjorda egendomsförsäljningen förklarat sig fullkomligt nöjd, intyga på en gång närvarande vitnen – Olof Ersson i Åhlbo. Anders Larsson i Islingsby.”'}\n",
      "Row added!\n"
     ]
    },
    {
     "name": "stderr",
     "output_type": "stream",
     "text": [
      "The attention mask and the pad token id were not set. As a consequence, you may observe unexpected behavior. Please pass your input's `attention_mask` to obtain reliable results.\n",
      "Setting `pad_token_id` to `eos_token_id`:2 for open-end generation.\n"
     ]
    },
    {
     "name": "stdout",
     "output_type": "stream",
     "text": [
      "\n",
      "{'År-månad-dag': '1861-03-30', 'Län': 'Westmanlands', 'Härad': 'Wagnsbro', 'Socken': 'Wester färnebo', 'By': 'Söder Gerdsbo', 'Jordnatur': 'Kronoskattehemmanet', 'Nummer': '1', 'Mantal': '1/16', 'Örestal': '', 'Penningland': '21', 'Riksdaler': '500', 'Öre': '', 'Skilling': '', 'Runstycken': '', 'Valuta': 'Riksmynt', 'Säljare-manliga': 'Johan Larsson', 'Säljare-kvinnliga': 'Anna Isaksdotters', 'Köpare-manliga': 'Johan Söder', 'Köpare-kvinnliga': 'Wilhelmina Broberg', 'Köpare-yrke': '', 'Relation mellan säljare och köpare': 'Svärson och svärdotter', 'Köpare från': '', 'Fördel': 'Enligt särskildt upprättat Contract', 'Auktion': '', 'text': 'Jag Johan Larsson med min kära hustru Anna Isaksdotters ja och samtycke, upplåter och försäljer till vår måg och dotter Soldaten Johan Söder, och hans hustru Wilhelmina Broberg, vårt egande Ett sextondels /1/16/ mantal om Tjugoett penningeland i Kronoskattehemmanet No 1 Söder Gerdsbo i V. fernebo Socken Wagnsbro härad och Westmanlands Län, emot en öfverenskommen och betingad köpeskilling stor femhundra /500/ Riksdaler Riksmynt och fördel, enligt dersom särskildt upprättat Contract. Och som vi denna köpeskilling 500 Rd Rmt tillfullo bekommit, hvliket ofvan åberopade Contract närmase utvisar, hvarföre ock densamma härmedelst qvitterad varder. Alltså afhänder vi oss och våra arfvingar, ofvannämnde 1/16 dels mantal, med allt hvad dertill hörer, af ålder lydt och lagligen tillvinnas kan. Förbindande vi oss till Hemul efter Lag. Till yttermera visse hafva vi detta köpebref uti nedan tillkallade vittnens närvaro egenhändigt underskrifvit som skedde i Söder Gerdsbo den 30 Mars 1861. Anna /bom/ Isaksdotter Jan Larsson – \\nPå en gång närvarande vittnen\\nA. Rutseh i Thommesbo Jan Erik Jansson i Sör gerdsbo.”'}\n",
      "Row added!\n"
     ]
    },
    {
     "name": "stderr",
     "output_type": "stream",
     "text": [
      "The attention mask and the pad token id were not set. As a consequence, you may observe unexpected behavior. Please pass your input's `attention_mask` to obtain reliable results.\n",
      "Setting `pad_token_id` to `eos_token_id`:2 for open-end generation.\n"
     ]
    },
    {
     "name": "stdout",
     "output_type": "stream",
     "text": [
      "\n",
      "{'År-månad-dag': '1851-01-22', 'Län': 'Westmanlands', 'Härad': 'Wåla', 'Socken': 'Nora', 'By': 'Fallet', 'Jordnatur': 'Kronoskatte hemmanet', 'Nummer': '', 'Mantal': '4300/350', 'Örestal': '', 'Penningland': '', 'Riksdaler': '450', 'Öre': '30', 'Skilling': '5', 'Runstycken': '5 5/7', 'Valuta': 'Banco', 'Säljare-manliga': 'Eric Jansson', 'Säljare-kvinnliga': '', 'Köpare-manliga': 'Enkan Brita Månsdotter', 'Köpare-kvinnliga': '', 'Köpare-yrke': '', 'Relation mellan säljare och köpare': 'Förälder och barn', 'Köpare från': 'Nora Socken', 'Fördel': '', 'Auktion': '', 'text': '\"Jag Eric Jansson uplåter och försäljer härmed till En-\\nkan Brita Månsdotter i Fallet Nora socken mina pupiller\\neric och Anders Erssöners ärfda 3 209/350 penningeland samt till\\nskulden anslagne 1 91/350 penningeland, eller tillsammans\\n4 300/350 penningeland uti Kronoskatte hemmanet Fallet be¬\\nläget i Nora Socken, Wåla Härad och Westmanlands Län för\\nen köpeskilling stor 450 Riksdaler 30 skilling 5 5/7 runstycken Banco, och som\\njag denna köpeskilling till fullo bekommit alltså afhän-\\nder jag mig mina pupillers Eric och Anders Erssöner och\\nderas arfvingar berörde 4 300/350 penningeland Fallet med hus\\noch jord oich allt hvad dertill nu hörer af ålder lydt och\\nlagligen tillvinnas kan och tillegna detsamma bemälte Brita\\nMånsdotter och hennes arfvingar, att genast tillhöra samt evär¬\\ndeligen ega och besitta, hafvande till yttermera visso häraf\\njag detta köpebref uti nedanstående wittnens öfvervaro e¬\\nhändigt undertecknat som skedde i Fallet den 22dra \\nJanuarii 1851. Erics Jansson i Läs Ekdahl. förmyndare \\nBevittnas af: A Lundström, Jonas |bom] Olsson i Ulebo\"'}\n",
      "Row added!\n"
     ]
    },
    {
     "name": "stderr",
     "output_type": "stream",
     "text": [
      "The attention mask and the pad token id were not set. As a consequence, you may observe unexpected behavior. Please pass your input's `attention_mask` to obtain reliable results.\n",
      "Setting `pad_token_id` to `eos_token_id`:2 for open-end generation.\n"
     ]
    },
    {
     "name": "stdout",
     "output_type": "stream",
     "text": [
      "\n",
      "{'År-månad-dag': '1851-09-27', 'Län': 'Westmanlands', 'Härad': 'Wåhla', 'Socken': 'Nora', 'By': 'Högsbo', 'Jordnatur': 'Krono skatte', 'Nummer': '1', 'Mantal': '1/8', 'Örestal': '', 'Penningland': '', 'Riksdaler': '1000', 'Öre': '', 'Skilling': '', 'Runstycken': '', 'Valuta': 'Banco sedlar', 'Säljare-manliga': 'Undertecknad', 'Säljare-kvinnliga': 'min kära hustrus', 'Köpare-manliga': 'Handelsmannen Herr Joh. Fredr. Björkman', 'Köpare-kvinnliga': 'dess hustru', 'Köpare-yrke': 'Handelsmannen', 'Relation mellan säljare och köpare': '', 'Köpare från': '', 'Fördel': 'fördels man Måns Olsson varder bibehållen vid de ägor han enligt Contract av detta Hemman innehafver', 'Auktion': '', 'text': '\"Undertecknad uplåter och försäljer härmed med min\\nkära hustrus goda ja och samtycke till Handelsmannen\\nHerr Joh. Fredr. Björkman och dess hustru i Högsbo\\nvårt ärfda Ett åttandels mantal krono skatte\\nNo 1 i Högsbo By, Målmargården kallad i Nora Soc¬\\nka Wåhla Härad af Westmanlands län  belägne Hemman\\nemot en öfverenskommen och till fullo betald kö¬\\npeskilling stor Ett tusende Riksdaler Banco\\nsedlar och som vi denna köpeskilling tillfullo\\nbekommit hvadan den och quitterad varder, alltså afhänder\\nvi våra arfvingar berörde 1/8 mantal No1. Högsbo med\\nallt hvad dertill hörer af ålder lydt och Lagligen till-\\nvinnas kan, dock att fördels man Måns Olsson varder\\nbibehållen vid de ägor han enligt Contract af detta Hem-\\nman innehafver och tillegna vi detsamma bemälte Köpare\\natt genast tillträda samt värdeligen ega och besitta, för¬\\nbindende vi oss till hemul efter lag, hafvande till\\nyttermera visso häraf vi detta köpebref uti nedanstå¬\\nende vittnens öfvervaro egenhändigt under tecknadt\\nsom skedde i Högsbo den 27de September 1851.\\ni C. Joh. Ahlström, Agatha Justina Ahlström\\nAtt sergeanten Herr Carl Johan Ahlström och hans\\nhustru Agatha Justina Ahström egenhändigt under\\nskrifvit sina namn intyga vi på en gång närva¬\\nrande vittnen O. Lundberg organist i Nora Sn\\nJan /bom/ Ersson på Högsbo egor forslare\"'}\n",
      "Row added!\n"
     ]
    },
    {
     "name": "stderr",
     "output_type": "stream",
     "text": [
      "The attention mask and the pad token id were not set. As a consequence, you may observe unexpected behavior. Please pass your input's `attention_mask` to obtain reliable results.\n",
      "Setting `pad_token_id` to `eos_token_id`:2 for open-end generation.\n"
     ]
    },
    {
     "name": "stdout",
     "output_type": "stream",
     "text": [
      "\n",
      "{'År-månad-dag': '1851-02-24', 'Län': 'Westmanlands', 'Härad': '', 'Socken': 'Nora', 'By': 'Dahlen', 'Jordnatur': 'Krono skatte hemmanet', 'Nummer': '', 'Mantal': '19 1/5', 'Örestal': '', 'Penningland': '', 'Riksdaler': '866', 'Öre': '32', 'Skilling': '', 'Runstycken': '', 'Valuta': 'Banco', 'Säljare-manliga': 'Olof Olsson', 'Säljare-kvinnliga': 'Greta Jansdotter', 'Köpare-manliga': 'Anders Persson', 'Köpare-kvinnliga': 'Catharina Bengtsdotter', 'Köpare-yrke': '', 'Relation mellan säljare och köpare': '', 'Köpare från': 'Thorsbacka No', 'Fördel': 'Jonas Larsson', 'Auktion': '', 'text': '\" I kraft af detta vårt öppna köpebref uplåter och \\nförsäljer jag Olof Olsson tillika med min kr. Hustru Greta\\nJansdotter och samtycke vårt egande nitton 19 och ett \\nfemtedels penningeland uti Krono skatte hemmanet\\nDahlen beläget i Nora Socken och Westmanlands Höfdin¬\\ngedöme med hus och jord till förre Bonden Anders Persson\\noch dess k. Hustru Cajsa Bengtsdotter i Thorsbacka No¬\\nra socken för en betingad och upburen köpeskilling Åt-\\nta hundrade sextiosex Riksdaler 32 sk Banco samt betinga\\nde fördelsvillkor enl contract till undertecknade jord säljare och årligen utgifva fördel till fördelsmannen Jonas\\nLarsson i berörda Dahlen och som den första penningen med\\nden sista uppbrit och anammat hafver jemte erhållas con-\\ntract på de betingade fördelsvilkor;  förden skull afhända vi\\noss våra barn och arfvingar allt anspråk till ofvannämnda hem\\nmansdel till bemälte Anders Persson dess Hustru Sara och\\narfvingar till evärdelig ego indet med undantag  af hvad\\nsom förut derunder legat eller hädanefter för lagligen till¬\\nvinnas kan och att tillträde den den 14de nästkommande\\nMartii:\\ntillåtande köparen Wällof  Härads Rättens upbud och\\nfastebref lära söka när honom så godt synas\\ntill yttermera visso säkerhet hafver vi detta köpe-\\nbrefv uti tillkallade vittnens närvaro  underskrifvit som\\nskedde i Dahlen, Nora Socken den 24de februarii i 1851.\\nOlof /bom/ Olsson och dess Hustru Greta /Bom/ Jans\\ndr i Dahlen Jordsäljare. Anders Pehrsson i Tor¬\\nbacka köpare, Hustru Catharina Bengts /bom/ dotter\\nSåsom tillkallade vittnes intyga Carl Ågren i Gäddsjö\\nLars /bom/ Olsson i Kjerstinbo.\"'}\n",
      "Row added!\n"
     ]
    },
    {
     "name": "stderr",
     "output_type": "stream",
     "text": [
      "The attention mask and the pad token id were not set. As a consequence, you may observe unexpected behavior. Please pass your input's `attention_mask` to obtain reliable results.\n",
      "Setting `pad_token_id` to `eos_token_id`:2 for open-end generation.\n"
     ]
    },
    {
     "name": "stdout",
     "output_type": "stream",
     "text": [
      "\n",
      "{'År-månad-dag': '1851-07-12', 'Län': 'Westmanlands', 'Härad': 'Wåhla', 'Socken': 'Wåhla', 'By': 'Berg', 'Jordnatur': 'Bondeland', 'Nummer': '1', 'Mantal': '1/3', 'Örestal': '', 'Penningland': '1 öre 5 1/3', 'Riksdaler': '1133', 'Öre': '16', 'Skilling': '', 'Runstycken': '', 'Valuta': 'rd sexton skilling banco', 'Säljare-manliga': 'Pehr Larsson', 'Säljare-kvinnliga': 'Gustava Catharina Pehrsdotter', 'Köpare-manliga': 'Lars Olsson', 'Köpare-kvinnliga': 'Anna Anders dotter', 'Köpare-yrke': '', 'Relation mellan säljare och köpare': '', 'Köpare från': 'Wreta Öster Wåhla socken', 'Fördel': 'Eric Andersson på Berga ägor, Lars Andersson på Bergs ägor', 'Auktion': '', 'text': 'Jag Per Larsson i Berg Öst. Wåhla Socken gör allom här¬\\nde kunnigt och vetterligt det jag af fri vilja och moget\\nbetänkande uplåter och försäljer såsom jag igenom det-\\nta öppna köpe bref försålt mitt egende 1/3dels mantal No 1.\\nBerg om ett öre fem och ett tredjedels penningeland be¬\\nläget i Wåhla socken och Härad af Westmanlands län till\\nBonden Lars Olsson och dess hustru Anna Anders dotter i Wreta Öster Wåhla socken för en oss emellan öfverenskommen\\nköpeskilling af ett tusenett hundra trettiotre rd sexton skil-\\nling, 1,133 rd 16 sk banco, jemte fördel till Eric Andersson på\\nBerga ägor enligt Contract och till Lars Andersson på Bergs\\näger enligt contract lägenheten Nora om inte en del af kärret\\nkallad och som Per Larsson den sista penningen med den \\nförsta upburit och anammat hafver fäördenskull afhän-\\nder jag mig hustru Barn och arfvingar så födda som\\nofödde allas ägande rätt och riktighet till detta tre\\ndjedels mantal kronoskatte No 1 Berg om 1 öre 5 1/3 penning-\\nland och detsamma tillegnar merbesagda Lars Olofsson\\noch dess hustru barn och arfvingar att såsom sin all\\nannan wälfångna egendom äga gagna råda och sty¬\\nra ingenting undantaget som af fardnas under det-\\nsa hemman lydt och lagat samt att hvad som hä¬\\ndanefter tillvinnas kan genom lag och dom till\\nYttermera säkerhet hafver jag detta Salubref un¬\\nderskrifvit och i tillkallade vittnens öfverva-\\nro bekräfta låtit som skedde i Wreta Öster Wåhla\\nSn den 12 julii 1851. Pehr /bom/ Larsson i Berg, Gustava\\nCatharina /bom/ Pehrsdotter Säljare\\nWittnen Bonden Pehr Jansson i Wreta egenhändigt\\nAnders /bom/ Olsson i Wreta'}\n",
      "Row added!\n"
     ]
    },
    {
     "name": "stderr",
     "output_type": "stream",
     "text": [
      "The attention mask and the pad token id were not set. As a consequence, you may observe unexpected behavior. Please pass your input's `attention_mask` to obtain reliable results.\n",
      "Setting `pad_token_id` to `eos_token_id`:2 for open-end generation.\n"
     ]
    },
    {
     "name": "stdout",
     "output_type": "stream",
     "text": [
      "\n",
      "{'År-månad-dag': '1851-10-08', 'Län': 'Westmanlands', 'Härad': 'Wåhla', 'Socken': 'Nora', 'By': 'Brunvala', 'Jordnatur': 'Kronoskatte hemmanet', 'Nummer': '', 'Mantal': '1/16', 'Örestal': '', 'Penningland': '9', 'Riksdaler': '416', 'Öre': '32', 'Skilling': '', 'Runstycken': '', 'Valuta': 'Banco sedlar', 'Säljare-manliga': 'Jan Nilsson', 'Säljare-kvinnliga': 'Greta Ersdotter', 'Köpare-manliga': 'Olof Larsson', 'Köpare-kvinnliga': 'Brita Ersdotter', 'Köpare-yrke': '', 'Relation mellan säljare och köpare': 'Svåger', 'Köpare från': 'Brunwalla', 'Fördel': '', 'Auktion': '', 'text': 'I kraft af detta vårt öppna köpebref uplåter och för\\nsäljer jag Jan Nilsson tillika med min Kära hustru Gre\\nta Ersdotter i Tingvastbo, Huddunge Sn ja och\\nsamtycke, min Hustrus ärfda 1/16 dels Mantal om nio¬\\npenningeland i Kronoskatte hemmanet Brunval¬\\nla, beläget i Nora socken Wåhla Härad och West¬\\nmanlands  Höfdingedömme för en betingad och\\nöfverenskommen köpesumma stor fyra hun-\\ndra sexton /416/ Rd 32sk Banco sedlar och som vi¬\\ndenna köpeskilling tillfullo upburit, hvadan\\nden och qvitterad varder; alltså afhänder vi un¬\\ndertecknade Jord säljare vara Barn och arfvin¬\\ngas allt anspråk till ofvannämnde Hemmansdel\\nsamt andelen i sågkvarnen och detsamma till¬\\negmar vår Svåger Bonden Olof Larsson, samt\\ndess hustru Brita Ers dotter i Brunwalla,\\ndess Barn och arfvingar till evärdelog ego,\\nmed allt hvad dertill hörer af ålder lydt\\noch lagligen tillvinnas kan, att genast tillträ¬\\nda, hafvande till yttermera visso häraf vi detta kö¬\\npebref uti understående vittnens öfvervaro\\negenhändigt underskrifvit som skedde i Brun-\\nvalla den 8de October 1851. Jan /bom/ Nilsson\\noch hustru Greta /bom/ Ersdotter i Lingvast\\nko, Huddunge socken säljare.\\nPå en gång närvarade vittnen\\nC. J. Ahlström, Olof /bom/ Mattsson i\\nLaikarbo.'}\n",
      "Row added!\n"
     ]
    },
    {
     "name": "stderr",
     "output_type": "stream",
     "text": [
      "The attention mask and the pad token id were not set. As a consequence, you may observe unexpected behavior. Please pass your input's `attention_mask` to obtain reliable results.\n",
      "Setting `pad_token_id` to `eos_token_id`:2 for open-end generation.\n"
     ]
    },
    {
     "name": "stdout",
     "output_type": "stream",
     "text": [
      "\n",
      "{'År-månad-dag': '1851-10-06', 'Län': 'Westmanlands', 'Härad': 'Wåhla', 'Socken': 'Harbo', 'By': 'Brattberg', 'Jordnatur': 'Kronoskattehemmanet', 'Nummer': '2', 'Mantal': '17/60', 'Örestal': '', 'Penningland': '14 8/9', 'Riksdaler': '800', 'Öre': '', 'Skilling': '', 'Runstycken': '', 'Valuta': 'Banco', 'Säljare-manliga': 'Jan Jansson', 'Säljare-kvinnliga': 'Anna Andersdotter', 'Köpare-manliga': 'Per Ersson', 'Köpare-kvinnliga': 'Anna Persdotter', 'Köpare-yrke': '', 'Relation mellan säljare och köpare': '', 'Köpare från': 'Brattberg', 'Fördel': '', 'Auktion': '', 'text': 'Genom detta öppna köpebref gör Undertecknades\\nhärigenom kunnigt och vetterligt det vi af fri\\nvilja och maget betänkande upplåter och försäljer min\\nAnna Andersdotters uti 17/60 dels Kronoskattehem¬\\nmanet No 2. Brattberg Harbo socken efter min af\\nliden Moder Carin Ridstler närfda 14 8/9 penninge-\\nland, till Nämndeman Per Ersson i berörde Brattberg\\nemot en betingad och öfverenskommen köpeskilling Åtta\\nHundradt /800/ Riksdaler Banco, hvilka 800 Riks¬\\ndaler Banco härmed qvitteras såsom till fullo betalta,\\ni följe hvaraf vi afhända Iso och våra arfvingar\\nafträtt och rättighet till berörde 14 8/9  Penninge¬\\nland uti 17/60 dels kronoskatte hemmanet No 2.\\nBrattberg Harbo Sn Wåhla Härad och West¬\\nmanlands Län, med alla dertill hörande byggna¬\\nder och hus; och dessa tillegna bemälde Per Ersson\\noch dess hustru Anna Persdotter Barn och arfvingar\\natt deröfver styre och råda såsom öfver att annan dess väl¬\\nförtent egendom, förbikandes och till hennet efter dag\\nTill yttermera ress hafva en detta med åraregenkän¬\\ndige namn underskrifvit och af vittnen sagret. Öster¬\\nWåhla och Åby den 6 Oktober 1851. Jan Jansson\\noch hustru Anna /bom/ Andersdotter i Ginka Säljare\\nAtt denna försäljning skall med samtycke är hafri vil¬\\nso, såväl af Mannen som Hustrun, samt att de egen¬\\nhandigt detta Salubref underskrifvit, betyga under\\nNilsson\\ntullnade på en gång värande vittnen Gustaf\\nBacklund C. G. Sadelund Handl. Abels'}\n",
      "Row added!\n"
     ]
    },
    {
     "name": "stderr",
     "output_type": "stream",
     "text": [
      "The attention mask and the pad token id were not set. As a consequence, you may observe unexpected behavior. Please pass your input's `attention_mask` to obtain reliable results.\n",
      "Setting `pad_token_id` to `eos_token_id`:2 for open-end generation.\n"
     ]
    },
    {
     "name": "stdout",
     "output_type": "stream",
     "text": [
      "\n",
      "{'År-månad-dag': '1851-07-07', 'Län': 'Westmanlands', 'Härad': 'Wåhla', 'Socken': 'ÖsterWåhla', 'By': 'Helganbo', 'Jordnatur': 'Kronoskatte hemman', 'Nummer': '', 'Mantal': '1/8', 'Örestal': '', 'Penningland': '22', 'Riksdaler': '966', 'Öre': '33', 'Skilling': '', 'Runstycken': '', 'Valuta': 'Riksdaler, Skilling, Bancomynt', 'Säljare-manliga': 'Lars Olsson', 'Säljare-kvinnliga': 'Anna Andersdotter', 'Köpare-manliga': 'Anders Olsson', 'Köpare-kvinnliga': 'Ingrid Pehrsdotter', 'Köpare-yrke': '', 'Relation mellan säljare och köpare': '', 'Köpare från': 'Uplanda samma socken', 'Fördel': 'Enkan Lisa Bengtsdotter', 'Auktion': '', 'text': 'Gör  allom härmed kunnigt och vetterligt, thet jag\\nLars Olsson och hustru Anna Andersdotter i Wreta\\nÖsterWåhla socken upplåter och försäljer såsom vi\\nigenom detta öppna köpebref upplåtit och försåldt till Bon¬\\nden och förra Nämndemannen Anders Olsson och dess\\nhustru Ingrid Pehrsdotter i Uplanda samma socken, vårt egan¬\\nde ett åttondedels Mantal kronoskatte hemman Helganbo\\nmed derunder lydande Skälby och Åby utjordar tillsam¬\\nmans Tjugutwå penningeland hus och jord skog och\\nmark ingenting undantaget hvad af fordus har under¬\\nlydt och legadt eller allt hvad som genom Lag och\\ndom hädanefter tillvinnas kan, beläget i Öst. Wåhla\\nsocken, Wåhla Härad af Westmanlands Län; för en oss mel-\\nlan öfverenskommen köpeskilling stor Niohundrade Sex-\\ntio sex Riksdaler trettiotvå skillingar Bancomynt,\\njemte lifstids fördel till Enkan Lisa Bengtsdotter enligt\\nhennes Contract af den 25 April 1843, och som vi den\\nsista penningen med den första uppburit hafva\\nsördenskull afhänder vi oss Barn och arfvingar\\nså födda som ofödda allan egande Rätt och rät¬\\ntighet till detta 1/8 dels hemman Helganbo med Skäl¬\\nby och Åby utjordar om 22 penningeland och detta\\nalltsammans tillegnar bemälte Anders Olsson och hus¬\\nstru Ingrid Pehrsdotter för 966 rsd 33 Sk Rbo Mt jämte\\nEnkans fördel; att nu genast tillträda med utsådda\\ndetta årets Rågutsäde, ega, gagna, bruka och besitta\\nnu och wärdeliga tider - Till yttermera visso hafva\\nvi detta köpe - och Salobref egenhändigt underskrif¬\\nvit och med våra namn och bomärken bekräfta låtit\\nsom skedde i Helganbo den 7de Julii 1851. Lars\\nOlsson och hustru Anna /bom/ Andersdotter i Wre¬\\nta Jordsäljare. Wittnar Aldallster i Helganbo\\nPerh Pehrsson i Brunsbo'}\n",
      "Row added!\n"
     ]
    },
    {
     "name": "stderr",
     "output_type": "stream",
     "text": [
      "The attention mask and the pad token id were not set. As a consequence, you may observe unexpected behavior. Please pass your input's `attention_mask` to obtain reliable results.\n",
      "Setting `pad_token_id` to `eos_token_id`:2 for open-end generation.\n"
     ]
    },
    {
     "name": "stdout",
     "output_type": "stream",
     "text": [
      "\n",
      "{'År-månad-dag': '1851-10-22', 'Län': 'Westmanlands', 'Härad': 'Wåhla', 'Socken': 'Wåhla', 'By': 'Ettingaby', 'Jordnatur': 'Utjord', 'Nummer': '', 'Mantal': '', 'Örestal': '', 'Penningland': '4', 'Riksdaler': '200', 'Öre': '', 'Skilling': '', 'Runstycken': '', 'Valuta': 'Bancosedlar', 'Säljare-manliga': 'Jan Jansson', 'Säljare-kvinnliga': 'Brita (bom) Christina Persdotter', 'Köpare-manliga': 'Anders Carlsson', 'Köpare-kvinnliga': 'Margaretha Cajsa Lindström', 'Köpare-yrke': '', 'Relation mellan säljare och köpare': '', 'Köpare från': 'Upplanda', 'Fördel': '', 'Auktion': '', 'text': '\"För allom dem som detta vårt öppna köpebref händer\\nförekomma, se höra, läsa eller sig föreläsas låta, göra wi\\nhärmed vetterligt det vi af fri vilja och berådt mod  upp¬\\nlåtit och försåldt vår egande Utjord i Ettinga, hälften\\nom Fyra penningeland, beläget i Wåhla socken, Wåhla\\nHärad af Westmanlands Län för en betingad och öfverenskom¬\\nmen köpeskilling två Hundrade Riksdaler Bancosedlar,\\nwhilken köpesumma vi den första Penningen med den sista Rik¬\\ntigt och till fullo nöje anammat hafver, afhända fördenskull\\noss ofvansagde Utjerd uti Ettingaby, med att hvad i hälften \\ndertill lydt och af fordus legat uti Jord, skog och Mark Närby\\noch fjärran och det tillegne Bonden Anders Carlsson och dess\\nhustru Margaretha Cajsa Lindström i Upplanda dess barn\\noch efter kommande ett såsom annar hos Wälfångne Egendom\\noqualdt bruka, nyttja och behålla för wärdeliga tidt, tillå-\\ntandes vi Anders Carlsson och nämnde dess hustru att\\nhärå söka den Wällofl Härads Rättens Uppbud och fasta.\\nTill yttermera visso hafva vi  detta köpebref uti tillkallade\\nwittnens öfvervaro med våra Egenhändiga  namn och bo¬\\nmarkens undersättande bekräftadt som skedde uti Upp¬\\nlanda den 22 Oktober 1851 Jan Jansson och hustru Brita\\n(bom) Christina Persdotter - På en gång närvarande vittnen\\nEric Andersson på Upplanda ägor och Odlingsman Jan Jans¬\\nson, begge på Upplanda ägor.\"'}\n",
      "Row added!\n"
     ]
    },
    {
     "name": "stderr",
     "output_type": "stream",
     "text": [
      "The attention mask and the pad token id were not set. As a consequence, you may observe unexpected behavior. Please pass your input's `attention_mask` to obtain reliable results.\n",
      "Setting `pad_token_id` to `eos_token_id`:2 for open-end generation.\n"
     ]
    },
    {
     "name": "stdout",
     "output_type": "stream",
     "text": [
      "\n",
      "{'År-månad-dag': '1852-02-20', 'Län': 'Westmanlands', 'Härad': 'Wåhla', 'Socken': 'Nora', 'By': 'Boda', 'Jordnatur': 'Skattejord', 'Nummer': '', 'Mantal': '', 'Örestal': '', 'Penningland': '3', 'Riksdaler': '133', 'Öre': '16', 'Skilling': '1', 'Runstycken': '', 'Valuta': 'Riksdaler banco', 'Säljare-manliga': 'Olof Olsson', 'Säljare-kvinnliga': '', 'Köpare-manliga': 'Nils Persson', 'Köpare-kvinnliga': 'Lena Olsdotter', 'Köpare-yrke': '', 'Relation mellan säljare och köpare': '', 'Köpare från': '', 'Fördel': '', 'Auktion': '', 'text': 'Jag Olof Olsson upplåter och försäljer till Utjord-\\nBrukaren Nils Persson på Boda Utjord och dess Hustru\\nLena Olsdotter, den mig tillhörige skattejord af Bo¬\\nda i Nora socken Wåhla Härad och Westmanlands\\nlän, utgörande Tre penningeland emot en öfverenskommern\\noch betingad köpe skilling stor (133) Rd 16 skl Ett\\nhundrade Trettiotre Riksdaler Sexton skillingar\\nbanco, och som jag denna dag till fullo bekommit\\nalltså afhänder jag mig och mina arfvingar berörde\\nskatte Utjord i Boda med allt hvad dertill hörer,\\naf ålder lydt och Lagligen tillvinnas kan och tillegne\\ndetsamma bemälde Nils Persson och hans Hustru\\nsamt deras arfvingar att genast, samt värdeliga\\näga och besitta jemte Uppbud och fasta vid Hä¬\\nrads Rätten derå söka; hafvandes till yttermera visso\\nhäraf jag detta köpebref, uti medanstående vitt¬\\nnes närvaro egenhändigt undertecknadt, som skedde\\ni Lackarbo den 20 Februarii 1852. Olof Olsson i Låckar¬\\nbo - På en gång värvarande vittnens F. F. Björkman.\\nP. Johansson'}\n",
      "Row added!\n"
     ]
    },
    {
     "name": "stderr",
     "output_type": "stream",
     "text": [
      "The attention mask and the pad token id were not set. As a consequence, you may observe unexpected behavior. Please pass your input's `attention_mask` to obtain reliable results.\n",
      "Setting `pad_token_id` to `eos_token_id`:2 for open-end generation.\n"
     ]
    },
    {
     "name": "stdout",
     "output_type": "stream",
     "text": [
      "\n",
      "{'År-månad-dag': '1851-11-04', 'Län': 'Nora', 'Härad': 'Nora', 'Socken': 'Holm', 'By': 'Holm', 'Jordnatur': 'Kronoskatte hemmanet', 'Nummer': '1', 'Mantal': '1/7', 'Örestal': '', 'Penningland': '50.3', 'Riksdaler': '50', 'Öre': '3', 'Skilling': '', 'Runstycken': '', 'Valuta': 'Riksdaler Banko', 'Säljare-manliga': 'Olof Olsson i Backarby, Lars Person i Holm, Anders Jansson i Holm', 'Säljare-kvinnliga': '', 'Köpare-manliga': 'Pehr Andersson', 'Köpare-kvinnliga': 'Brita Ersdotter', 'Köpare-yrke': '', 'Relation mellan säljare och köpare': 'Föräldrar och barn', 'Köpare från': 'Holm', 'Fördel': '', 'Auktion': '', 'text': 'Jämlikt Wåhla wällofl. Häradsrätts utslag af den \\n30de Julii detta år upplåter och försäljer vi under\\ntecknade dels i egen och dels i egenskap af förmyndare\\nwåra pupillers efter  deras aflidne moder Cajsa An-\\ndersdotter tillfallande arfslotte enligt arfskiftes af den\\n12te Oktober sidlidet år 1850 Till dess kära fader\\noch stjuffader bonden Pehr Andersson och des kära hu¬\\nstru Brita Ersdotter i Holm, Jag Olof Olsson i Backarby\\nmin tillfallande 115/168 dels penningeland, 1/7dedels man-\\ntal, kronoskatte hemmanet No 1 Holm för Femtiotren Riks¬\\ndaler ellofva skl. 6 4/7 Rsd Banko eller efter det ofvan\\nomförmäldte arfskifte uppskattade pris. Jag Lars\\nPerson i Holm, i egenskap af förmyndare för aflidne Cajsa\\nAndersdotter i första giftet omyndiga dotter Anna Charlotta\\nhennes tillfallande 115/168 dels penningl för femtiotre Riksda¬\\nler Ellfwa skl 6 4/7 Rd Banco, - Och jag Anders Jans\\nson i Holm i egenskap af förmyndare för aflidna Caj-\\nsa Andersdotter i Sednare giftet omyndiga barn\\ndem hvardera tillfallande 115/168 dels penningeland eller till\\nsammans 3 71/168de dels penningeland för Två Hundra\\nsextiosex Riksdaler Nio skl 8 1/7 runst Banco. Och som\\nvi undertecknade ofvannämnde köpeskillingar tillsam¬\\nmans Räknade Tre Hundrade Sjuttiotvå Riksdaler trätio\\ntvå skillingar 10 2/3 dels Runst Banko Till fullo ut¬\\nbekommit och härmed qvitteras så afhänder vi oss och\\nvåra pupillers barn och arfvingar att rätt och rättig¬\\nhet till förutnämnde sammanräknade 4 19/24 dedels\\npennigeland med hus och jord samt allt hvad som\\ndertill nu hörer af ålder lydt och legat, och hädan\\nefter Lagligen tillvinnas kan och detta tillegnar be¬\\nmälte Per Andersson att för sig och hustru barn\\noch erfvingar såsom deras wärdeliga egendom bru¬\\nka och behålla och förbinder vi såsom säljare och\\ntill hemul Efter Lag, dock att köparen sjelf ansva¬\\nrar för Charta Sigillata afgiften. Till ytter-\\nmera visso hafva vi uti tillkallade vittnens\\nvärvaro egenhändigt undertecknat våra Namn\\nintyga och försäkras Nora socken och Holm den 4 Novem¬\\nHer 1851. Olof Olsson i Buckarby Anders Jansson i Holm¬\\ni egenskap af förmyndare för Per Anderssons i balen\\nLars Ersson i Halm såsom förmyndare för Anna Oladotter\\nAtt Paljarne egenhändigt underskrifvit sina nämnde\\nintygas, och hvittnar Eric Olsson och Drängen Lars\\nRessen, begge i Holm, Nora socken'}\n",
      "Row added!\n"
     ]
    },
    {
     "name": "stderr",
     "output_type": "stream",
     "text": [
      "The attention mask and the pad token id were not set. As a consequence, you may observe unexpected behavior. Please pass your input's `attention_mask` to obtain reliable results.\n",
      "Setting `pad_token_id` to `eos_token_id`:2 for open-end generation.\n"
     ]
    },
    {
     "name": "stdout",
     "output_type": "stream",
     "text": [
      "\n",
      "{'År-månad-dag': '1852-03-12', 'Län': 'Westmanlands', 'Härad': 'Wåhla', 'Socken': 'Nora', 'By': 'Brunwalla', 'Jordnatur': 'Kronoskotte hemmanet', 'Nummer': '1', 'Mantal': '1/4', 'Örestal': '', 'Penningland': '12', 'Riksdaler': '10800', 'Öre': '', 'Skilling': '', 'Runstycken': '', 'Valuta': 'Riksdaler Banco', 'Säljare-manliga': 'Anders Jansson', 'Säljare-kvinnliga': 'Brita Bengtsdotter', 'Köpare-manliga': 'Jan Andersson', 'Köpare-kvinnliga': 'Carin Andersdotter', 'Köpare-yrke': '', 'Relation mellan säljare och köpare': 'Far och Son', 'Köpare från': '', 'Fördel': '', 'Auktion': '', 'text': 'Med sundt förnust och moget betänkande  och fri\\nvilja upplåte och försälja undertecknade till vår\\nson Jan Andersson och dess Kära hustru Carin an\\ndersdotter vårt egande ett fjerdedels mantal om ett\\nöre 12 penningland i Kronoskotte hemmanet No 1\\nBrunwalla i Nora socken, Wåhla Härad och West¬\\nmanlands län emot en öfverens kommen och till fullo\\nuppburen köpeskilling stor Ett Tusende åtta Hun¬\\ndrade (1800) Riksdaler Banco, och som vi denna\\nköpeskilling till fullo fått, hvadan den och quit-\\nterad varder alltså afhände vi oss och våre arf¬\\nvingar all rätt och rättighet till ofvannämnde ett¬\\nfjerdedels mantal Brunwalla med allt hvad der¬\\ntill hörer af ålder lydt och lagligen tillvinnas\\nkan, hus jord och husbefossågandet inberäknad,\\noch detsamma tillegnar bemälte vår son och son¬\\nhustru att genast tillträda samt wärdeligen ega\\noch besitta. Till yttermera visso hafva vi detta köpe¬\\nbref för nedanstående Vittnens närvaro egenhändigt un¬\\nderskrifvit och ega köparen att söka lagfart\\nhärå, försäkras Nora socken och Brunwalla den\\n12 Mars 1852 - Anders Jansson och Hustru Bri\\nta (bom) Bengtsdotter, säljare.- vittne Carl Johan\\nAhlström Lars Hasason i Hallsjö.'}\n",
      "Row added!\n"
     ]
    },
    {
     "name": "stderr",
     "output_type": "stream",
     "text": [
      "The attention mask and the pad token id were not set. As a consequence, you may observe unexpected behavior. Please pass your input's `attention_mask` to obtain reliable results.\n",
      "Setting `pad_token_id` to `eos_token_id`:2 for open-end generation.\n"
     ]
    },
    {
     "name": "stdout",
     "output_type": "stream",
     "text": [
      "\n",
      "{'År-månad-dag': '1851-02-19', 'Län': '', 'Härad': '', 'Socken': 'Söderby Alunda', 'By': '', 'Jordnatur': 'frälse skatte', 'Nummer': 'No 1, No 5', 'Mantal': 'Ettfjerdedels Mantal, Ett tolftedels mantal', 'Örestal': '1, 16', 'Penningland': '', 'Riksdaler': '1720', 'Öre': '', 'Skilling': '', 'Runstycken': '', 'Valuta': 'Rsdr Banco', 'Säljare-manliga': 'Eric Ersson', 'Säljare-kvinnliga': 'Greta Stina Ers Dotter', 'Köpare-manliga': 'Nils Persson', 'Köpare-kvinnliga': '', 'Köpare-yrke': '', 'Relation mellan säljare och köpare': 'Far och Son', 'Köpare från': 'Söderby', 'Fördel': '', 'Auktion': '', 'text': 'jag Eric Ersson med min kära hustrus Gretastina Ers\\nDotters ja och samtycke försäljer hermädelst till Bon¬\\nde sonen Nils Persson i Söderby våra egande hemmans\\ndelar Ettfjerdedels Mantal frälse skatte No 1 om 1 Öre 18. penl.\\noch Ett tolftedels mantal frälseskatte No 5 om 16. penl.\\neller tillsamman Ettredjedels mantal om 2. öre 10. penl\\nSöderby Alunda Socken, emot en öfverenskommen och\\nbetingad köpesumma stor 1720. Ettusende sjuhundrade\\ntjugu Rsdr Banco och som vi denna köpesumma ef¬\\nter denna dag upprättadt Köpecontrackt tillfullo be¬\\nkommit altså afhänder vi oss ifrågavarand. hem¬\\nmansdelar tillsammans Ettredsedel mantal Söderby\\nmed alt hvad dertill hörer af ålder lydt och legat\\neller hedanefter med Lag och rätt tillvinnas kan, Och\\ntillegnar det samma förbemälte Nils Persson och\\nhans arfvingar att deröfver evirdeligen styra och\\nråda såsom sin välfågns egendom med tillträdes\\nrätt den 14.de Mars 1852 förbindandes vi oss herjämte\\ntill hemul efter lag.\\nSom bestyrkes Tresta den 19de Febr. 1851.\\nEric Ersson i Greta Stina Ers Dotter\\nAtt Eric Ersson och Gretaffar Ers dotter egenhändigt underteck¬\\nnat den förre sitt namn och den sednare sitt Bomärk\\nintygar på engång närvarande vittnen\\nEric Ersson i Skoley\\nJon Persson i Tusta\\n\\nLill: Greta Stina'}\n",
      "Row added!\n"
     ]
    },
    {
     "name": "stderr",
     "output_type": "stream",
     "text": [
      "The attention mask and the pad token id were not set. As a consequence, you may observe unexpected behavior. Please pass your input's `attention_mask` to obtain reliable results.\n",
      "Setting `pad_token_id` to `eos_token_id`:2 for open-end generation.\n"
     ]
    },
    {
     "name": "stdout",
     "output_type": "stream",
     "text": [
      "\n",
      "{'Säljare-manliga': 'Jan Andersson', 'Säljare-kvinnliga': 'Christina Andersdotters', 'Köpare-manliga': 'Pehr Jansson', 'Köpare-kvinnliga': 'Carolina Persdotter', 'Jordnatur': '', 'Nummer': '', 'Mantal': '', 'Örestal': '', 'Penningland': '', 'Riksdaler': '3000', 'Öre': '', 'Skilling': '', 'Runstycken': '', 'Valuta': 'Rdr Rmt', 'År-månad-dag': '1861-07-27', 'Län': 'Westmanlands', 'Härad': 'Wangsbro', 'Socken': 'Vester Fernebo', 'By': 'Domarbo', 'Fördel': '', 'Auktion': '', 'text': 'Köpebref\\nJag Jan Andersson i Häggebäcken gör härmed\\nvetterligt, att hafva med min kära hustru Christina\\nAndersdotters Goda ja och samtycke samt af fri¬\\nvilja och mogett betänkande försålt, såsom jag och\\nnu genom detta öppna salubref försäljer, till\\nHemmans ägaren Per Jonsson och låns hustru\\nCarolina Persdotter i Rotfallet, Karbennings\\nsocken, vårt ägande Ett öresland Domarbo\\nbeläget inom Vester Fernebo socken, Wangsbro\\nHärad och Westmanlands län, för en af Oss öfver¬\\nens kommen köpesumma stor bestående af Tre\\nTusende (3,000.) Rdr: Rmt, hvilka 3000\\nRdr Rmt är till fullo betalte och härmed quit\\nterade och i följe häraf afhändes wi Oss och\\nWåre efterlemnande berörde hemmansdel, till¬\\negnar densamme ofvannämnde Pehr Jansson\\nhustru och arfvingar med allt hvad dertill häraf\\noch af ålden dertill lydt och legatt samt framdeles\\nlagligen tillvinnas kan, att nyttja bruka och be¬\\nsitta såsom deras välfångna egendom, förbindan¬\\nse Af till hemul Efter Lag, till yttermera visse\\nhafva vi detta Salubref genhändigt underskrifvit\\noch af vittnen styrkt som skedde Klingholmen den\\n27 Juli 1861. Jan Andersson, Christina (bom)\\nAndersdotter.'}\n",
      "Row added!\n"
     ]
    },
    {
     "name": "stderr",
     "output_type": "stream",
     "text": [
      "The attention mask and the pad token id were not set. As a consequence, you may observe unexpected behavior. Please pass your input's `attention_mask` to obtain reliable results.\n",
      "Setting `pad_token_id` to `eos_token_id`:2 for open-end generation.\n"
     ]
    },
    {
     "name": "stdout",
     "output_type": "stream",
     "text": [
      "\n",
      "{'År-månad-dag': '1861-05-07', 'Län': 'Uppsala län', 'Härad': 'Ruheds härad', 'Socken': 'Lilla Klockarbo', 'By': '', 'Jordnatur': 'Kronoskattehemmanet', 'Nummer': '1', 'Mantal': '1/24', 'Örestal': '', 'Penningland': '8', 'Riksdaler': '500', 'Öre': '', 'Skilling': '', 'Runstycken': '', 'Valuta': 'Riksmynt', 'Säljare-manliga': 'Olof Olsson', 'Säljare-kvinnliga': 'Christina Mattsdotter', 'Köpare-manliga': 'Anders Andersson', 'Köpare-kvinnliga': 'Anna Olsdotter', 'Köpare-yrke': '', 'Relation mellan säljare och köpare': 'Svärson och svärfar', 'Köpare från': '', 'Fördel': 'Fördels förmåner enligt Köpe Contract', 'Auktion': '', 'text': 'Köpebref: Jag Olof Olsson med min kära hustrus dertill lemnade ja och samtycke upplåta och försäljer härmedelst det till vår måg och dotter Anders Andersson och dess hustru Anna Olsdotter vårt ägade Ett Tjugofjerdedels (1/24) mantal om åtta penningland af Kronoskattehemmanet No 1 i Lilla Klockarbo, emot en öfverenskommen köpesumma af Femhundrade Riksdaler Riksmynt, jemte fördels förmåner enligt Köpe Contract af denna dag, och som wi nämnde köpesumma 500 Rdr Rmt till fullo bekommit så warda de härmed quiterade, Till följe häraf afhände wi oss all rättighet till ofvan berörde hemmansdel med allt hvad dertill hörer och framledes tillvinnas kan och förbindande oss till hemul efter lag. Till yttermera visse häraf hafva uti detta köpebref uti understående tillkallade wittnens närvaro underskrifvit. Rolfshyttan den 7 maj Olof Olsson, Christina (bom) Mattsdotter Egenhändigt underskrifterna bevittas af Jan Hansson i Hedåker Härads Domare, Anders Larsson i Vesterby Kihl.'}\n",
      "Row added!\n"
     ]
    },
    {
     "name": "stderr",
     "output_type": "stream",
     "text": [
      "The attention mask and the pad token id were not set. As a consequence, you may observe unexpected behavior. Please pass your input's `attention_mask` to obtain reliable results.\n",
      "Setting `pad_token_id` to `eos_token_id`:2 for open-end generation.\n"
     ]
    },
    {
     "name": "stdout",
     "output_type": "stream",
     "text": [
      "\n",
      "{'År-månad-dag': '1861-09-17', 'Län': 'Örebro', 'Härad': 'Wagnsbro', 'Socken': 'Hjulsjö', 'By': 'Hjönshyttan', 'Jordnatur': 'hemmanet', 'Nummer': '1', 'Mantal': '1/8', 'Örestal': '', 'Penningland': '1', 'Riksdaler': '2950', 'Öre': '', 'Skilling': '', 'Runstycken': '', 'Valuta': 'Riksmynt', 'Säljare-manliga': 'Olof Hansson', 'Säljare-kvinnliga': 'Anna Jansdotter', 'Köpare-manliga': 'Jan Andersson', 'Köpare-kvinnliga': '', 'Köpare-yrke': '', 'Relation mellan säljare och köpare': '', 'Köpare från': 'Hjulsjö socken', 'Fördel': '', 'Auktion': '', 'text': 'Jag Olof Hansson går härmedelst vetterligt\\njag med min kära hustrus ja och samtycke wår\\ni Häggebäcken och Wagnsbro Härad belägne\\nfastighet Ett öresland af hemmanet No 1 Mellan\\ngården kallad med all befintlig åbyggnad med\\nsärskilde undantag och köpevilkor villket wi\\nförsålt till Jan Andersson från Hjulsjö socken\\nHjönshyttan af Örebro Län för en väl öfverens¬\\nkommer köpesumma stor Två Tusende Niohundrade\\nFemtio Rdr Riksmynt villka Två Tusende Nio\\nhundrade Femtio Rdr Riksmynt äro genom sär¬\\nskilt afhandling betalte och således härmed qvit¬\\nterade, alt så afhänder vi oss berörde Egendom\\noch öfverlåte den på köparena att för sig och efter\\nkommande nyttja och Bruka till evärdelig ägo\\noch på flyttas den 14. Mars 1862. och lemnas\\nköparen fri disposition att härmed lagfara samt\\nfastebrefve härå annamma och förbinder\\nur oss till hemull efter lag¬\\nMed ofvanstående afhandling förklarar wi oss å\\nämnde sider till alla delar fullt nöjde, som uti\\ntillkallade vittnens närvaro bekräftas. Hägge¬\\nbäcken den 17 September 1861. Olof (bom) Hansson\\nAnna (bom) Jansdotter Säljare; Jan (bom) An¬\\ndersson köpare\\nEgenhändiga underskriften intyga anstå en gång när¬\\nvarande vittnen uti Suppra Jan Eric Erison\\nHäggebacken, Matts Mattsson.\\nEfter upläsande häraf företeddes ett utaf\\ndenna Härads Rätt för Hemmansägaren Olof\\nHansson och hans hustru Anna Jansdotter hem\\n19. April 1858 utfärdadt fastebref å 1/8 dels\\nmantal Kronoskatre Mellangården i Haggebacken\\nom Ett oresland, som de, jemlikt kipebref den 15\\n\\n1866 den 30 Oktober\\n1. Köpebref.'}\n",
      "Row added!\n"
     ]
    },
    {
     "name": "stderr",
     "output_type": "stream",
     "text": [
      "The attention mask and the pad token id were not set. As a consequence, you may observe unexpected behavior. Please pass your input's `attention_mask` to obtain reliable results.\n",
      "Setting `pad_token_id` to `eos_token_id`:2 for open-end generation.\n"
     ]
    },
    {
     "name": "stdout",
     "output_type": "stream",
     "text": [
      "\n",
      "{'År-månad-dag': '1851-11-24', 'Län': 'Westmanland', 'Härad': 'Wåhla', 'Socken': 'Harbo', 'By': 'Käbbo', 'Jordnatur': 'Krono-skatte hemmanet', 'Nummer': '2', 'Mantal': '7 1/3', 'Örestal': '', 'Penningland': '', 'Riksdaler': '250', 'Öre': '', 'Skilling': '', 'Runstycken': '', 'Valuta': 'Riksgäldssedlar', 'Säljare-manliga': 'Lars Jansson', 'Säljare-kvinnliga': 'Elisabeth Pehrsdotters', 'Köpare-manliga': 'Pehr Ersson', 'Köpare-kvinnliga': 'Margaretha Ersdotter', 'Köpare-yrke': '', 'Relation mellan säljare och köpare': 'Bröder', 'Köpare från': '', 'Fördel': '', 'Auktion': '', 'text': 'Jag Lars Jansson, Domarbo Belinge socken upplåter\\noch försäljer härmedelst med min kära Hustrus Elisabeth\\nPehrsdotters ja och samtycke Till våra Bröders barn nemli¬\\ngen till Pehr Ersson i Käbbo och hans syster Margaretha\\nErsdotter igenom dess Lagligen tillförordnade förmyndare\\nBonden Anders Ersson i Öhn Harbo socken vårt i arf\\ntillfallna 7 1/3 penningeland Hus och jord uti Krono¬\\nskatte hemmanet No 2 Käbbo Harbo socken Wåhla\\nHärad och Westmanland län för en af oss emellan öf¬\\nverenskommen och betingad köpeskilling stor Twå Hun¬\\ndrade Femtio, 250. Rsd Riksgäldssedlar och som vi\\ndenna köpeskilling Till Fullo bekommit, alltså af-\\nhänder vi oss ofvanberörde 7 1/3 dels Penningeland i of¬\\nvannämnde Käbbo och tillegne detsamma bemälde\\nPer Ersson och dess syster Margretha Ersdotter att wär\\ndeligen ega och Besitta såsom annan sin Välfångna Egen¬\\ndom med allt hvad dertill hörer af ålder lydt och lagli¬\\ngen tillvinnas kan Till yttermera visso hafva vi detta\\nköpebref uti tillkallade vittnens närvaro med våra Egen¬\\nhändiga Bomärkens Undertecknande som skedde i Käbbp\\nHarbo Soken den 24 November 1851. - Lars (bom) Jansson\\nhustru Elisabeth (bom) Pehrsdotter Säljare.- På en gång\\nnärvarande vittnen C. Jansson i Risånge. Pehr (bom) Pehrs¬\\nson i Käbbo.'}\n",
      "Row added!\n"
     ]
    },
    {
     "name": "stderr",
     "output_type": "stream",
     "text": [
      "The attention mask and the pad token id were not set. As a consequence, you may observe unexpected behavior. Please pass your input's `attention_mask` to obtain reliable results.\n",
      "Setting `pad_token_id` to `eos_token_id`:2 for open-end generation.\n"
     ]
    },
    {
     "name": "stdout",
     "output_type": "stream",
     "text": [
      "\n",
      "{'År-månad-dag': '1861-10-25', 'Län': 'Westerås', 'Härad': 'Wåhla', 'Socken': 'Nora', 'By': 'Buckarby', 'Jordnatur': 'Skattehemmanet', 'Nummer': '3', 'Mantal': '1/12', 'Örestal': '', 'Penningland': '16', 'Riksdaler': '580', 'Öre': '', 'Skilling': '', 'Runstycken': '', 'Valuta': 'Banco', 'Säljare-manliga': 'Konungens befallningshavande', 'Säljare-kvinnliga': '', 'Köpare-manliga': 'Olof Jönsson', 'Köpare-kvinnliga': '', 'Köpare-yrke': '', 'Relation mellan säljare och köpare': 'Auktion', 'Köpare från': 'Buckarby', 'Fördel': '', 'Auktion': 'Executive Auction', 'text': 'Sedan vid en den  25 Oktober innevarande år enligt\\nkonungens befallningsafvandes Kungörelse vid\\nSöder Åsbo Gästgifvargård af undertecknad Hans\\nlänsman, på grund af förordnande förrättad exsicutive\\nAuction å ett tolftedels mantal om 16 penningeland\\ni Skattehemmanet No 3 Buckarby, beläget i Nora soc¬\\nken Wåhla härad och Westerås län, tillhörigt Bon¬\\nden Olof Olsson dersammastädes, men för lagfart skuld-\\ngäldande från honom lagligen i mät taget och upp¬\\nskattadt, Bondesonen Olof Jönsson i Buckarby stannat\\nför högsta anbudet derå med Femhundra åttio\\nriksdaler Banco, Alltså och då nämnde Köpeskilling\\n580 Rd Banco nu mera är varden af köparen till fullo\\ngulden afhänder jag ofvanmäldte Olof Olsson\\nberörde 1/12 dels mantal Buckarby med jord och Åbygg-\\nnad samt i öfrigt allt hvad dertill hörer eller\\nhädanefter lagligen tillvinnas kan och tillegnar\\nbemäldte Olof Jönsson samma fastighet att ge.'}\n",
      "Row added!\n"
     ]
    },
    {
     "name": "stderr",
     "output_type": "stream",
     "text": [
      "The attention mask and the pad token id were not set. As a consequence, you may observe unexpected behavior. Please pass your input's `attention_mask` to obtain reliable results.\n",
      "Setting `pad_token_id` to `eos_token_id`:2 for open-end generation.\n"
     ]
    },
    {
     "name": "stdout",
     "output_type": "stream",
     "text": [
      "\n",
      "{'År-månad-dag': '1832-03-15', 'Län': 'Westmanlands', 'Härad': 'Wåhla', 'Socken': 'Öster-Wåhla', 'By': 'Åby', 'Jordnatur': 'Krono skatte hemman', 'Nummer': '3', 'Mantal': '1/4', 'Örestal': '', 'Penningland': '', 'Riksdaler': '3200', 'Öre': '', 'Skilling': '', 'Runstycken': '', 'Valuta': 'Riksgälds', 'Säljare-manliga': 'Jan Persson, Per Staffansson, Olof Söderberg, Gustaf Persson', 'Säljare-kvinnliga': 'Christina Larsdotter, Carin Persdotter, Anna Persdotter', 'Köpare-manliga': 'Eric Ersson', 'Köpare-kvinnliga': '', 'Köpare-yrke': '', 'Relation mellan säljare och köpare': '', 'Köpare från': 'Åby, Öster-Wåhla socken', 'Fördel': '', 'Auktion': '', 'text': 'Gör allom härmed kunnigt och wetterligt, det\\nvi undertecknade arfvingar efter aflidne hemmansega-\\nren Per Jönsson i Åby, upplåtes och härigenom för¬\\nsäljer varit efter vår aflidne Fader ivärfde Ett\\nQuart mantal Krono skatte hemman No 3. Åby i Öster-\\nWåhla socken, till Bonden Eric Ersson i Åby, sistnämn-\\nde socken, för en öfverenskommen och betingad Köpe¬\\nsumma af Tretusen Twå Hundra Riksdaler Riks-\\ngälds, Och som vi berörde Köpesumma 3200 Riks¬\\nRgs den första penningem med den sista uppburit och\\nanammat hafver, hvadan den oskså härmed quitte¬\\nrad varder; alltså afhänder vi oss och våra Barn\\n både födde och ofödda, berörde 1/4 mantal No 3.\\nÅby, beläget i  ÖsterWåhla socken, Wåhla Härad\\noch Westmanlands Län, med alla dess tillhörighe¬\\nter i hus och jord, lag och mark, fiske och\\nfiskevatten, ingenting undantagit, utan allt hvad\\nsom till detta 1/4 dels hemman hörer eller\\nhädanefter lagligen tillvinnas kan, och detsamma\\nHemman tillegnar bemälte Eric Ersson dess\\nbarn och arfvingar att, såsom sin annar välfångna\\nEgendom gemast om händer taga, bruka och besitta\\nbäst det honom för godt synes, nu och e wärdeliga  tider\\nsamt lagligen dermed förfara och fastebref sig derpå\\nförskaffa. Säljarna stånde Köparen Hemul efter dag.\\nTill yttermmera visso hafva vi detta vårt öppna köpe-\\nbref uti undenskrifvna vittnens öfvervaro med wåra egnen-\\nhändiga namn och bomärken bekräftat, som skedde\\ni Åby Österwåla den 15 Mars 1832. Jan Persson Åby,\\nsäljare. Per (bom) Staffansson Säljare.  Olof (bom) Söderberg sälja-\\nre. Christina (bom) Larsdotter, hustru till Gustaf Persson\\nSäljare. Gustaf Persson i Åby säljare. Carin (bom)Pers¬\\ndotter säljare hustru till Per Staffansson. Anna (bom)\\nPersdotter Säljare. Hustru till H Söderberg. - Att Jan\\nPersson och Gustaf Persson i Åby egenhändigt teknat sina\\nnamn samt Per Staffansson, dess hustru Carin Persdotter\\nsamt Olof Söderberg och dess hustru Anna Persdotter\\nsamt Christina Persdotter sina bomärken intygas och\\npå en gång närvarande vittnen Per Persson i Åby och\\nMats Persson i Åby'}\n",
      "Row added!\n"
     ]
    },
    {
     "name": "stderr",
     "output_type": "stream",
     "text": [
      "The attention mask and the pad token id were not set. As a consequence, you may observe unexpected behavior. Please pass your input's `attention_mask` to obtain reliable results.\n",
      "Setting `pad_token_id` to `eos_token_id`:2 for open-end generation.\n"
     ]
    },
    {
     "name": "stdout",
     "output_type": "stream",
     "text": [
      "\n",
      "{'År-månad-dag': '1852-03-16', 'Län': 'Westmanlands', 'Härad': 'Wåla', 'Socken': 'Nora', 'By': 'Holm', 'Jordnatur': 'Kronoskattehemmanet', 'Nummer': '1', 'Mantal': '1/3', 'Örestal': '', 'Penningland': '4', 'Riksdaler': '2000', 'Öre': '', 'Skilling': '', 'Runstycken': '', 'Valuta': 'Banko', 'Säljare-manliga': 'Anders Carlsson', 'Säljare-kvinnliga': 'Anna Larsdotter', 'Köpare-manliga': 'Anders Adersson', 'Köpare-kvinnliga': 'Anna Andersdotter', 'Köpare-yrke': '', 'Relation mellan säljare och köpare': 'Svärfar och Svärson', 'Köpare från': '', 'Fördel': '', 'Auktion': '', 'text': 'Jag Anders Carlsson med min hustrus goda ja och\\nsamtycke, upplåter och försäljer härmedelst till min¬ måg och dotter Bondesonen, Anders Adersson och dess hus¬ \\ntru Anna Andersdotter i Holm Nora sn mitt uti_x000B_nämnde by egande 1/3 mantal om ett öres och fyra \\npenningeland i hemmanet No 1 beläget i Nora so- \\nken Wåla Härad och Westmanlands Län för en öfverenskommen köpeskilling stor två tusende Riks- \\ndaler Banko och som jag denna köpeskilling till fullo bekommit att så afhänder jag mig hustru barn och arfvingar all och rättighet till ofvan¬ \\nberörde 1/3 mantal om Ett öres och fyra penningeland \\ni kronoskattehemmanet No 1 Holm med hus och jord och allt hvad dertill hörer, af ålder lydt och legat \\noch lagligen tillvinnas kan, och tillegne detsam¬ \\nma förrbemälte Anders Andersson dess hustru barn och arfvingar att evärdeligen äga och besitta Till ytter¬ mera visso hafver jag detta köpebref uti nedanstående \\nvittnens närvaro egenhändigt undersatt mitt bomärke som skedde i Holm och Nora Sn den 16 Mars 1852. \\nAnders (bom) Carlsson. hustru Anna (bom) Larsdotter Bevittnas af A. S. Lundström och Per Andersson i \\nNyholm._x000B_'}\n",
      "Row added!\n"
     ]
    },
    {
     "name": "stderr",
     "output_type": "stream",
     "text": [
      "The attention mask and the pad token id were not set. As a consequence, you may observe unexpected behavior. Please pass your input's `attention_mask` to obtain reliable results.\n",
      "Setting `pad_token_id` to `eos_token_id`:2 for open-end generation.\n"
     ]
    },
    {
     "name": "stdout",
     "output_type": "stream",
     "text": [
      "\n",
      "{'År-månad-dag': '1852-06-08', 'Län': 'Westmanlands', 'Härad': 'Wåhla', 'Socken': 'Bjurvalla', 'By': '', 'Jordnatur': '', 'Nummer': '', 'Mantal': '2/5', 'Örestal': '', 'Penningland': '5 3/25', 'Riksdaler': '350', 'Öre': '', 'Skilling': '', 'Runstycken': '', 'Valuta': 'Riksdaler riksgälds daler', 'Säljare-manliga': 'Bonden Eric Olsson', 'Säljare-kvinnliga': 'Brita Ersdotters', 'Köpare-manliga': 'Jan Ersson', 'Köpare-kvinnliga': 'Anna Jansdotter', 'Köpare-yrke': '', 'Relation mellan säljare och köpare': 'Bror och svägerska', 'Köpare från': 'Klostret', 'Fördel': '', 'Auktion': '', 'text': '\"Med sundt förnuft af fri vilja och moget betänkan de upplåter och försäljer jag Eric Olsson med min kära hustrus Brita Ersdotters goda ja och samtycke våra ega- der i arf tillfallna fem /5/ 3/25 tedels penningeland i 2/5te dels mantal kronoskatte No 3 Bjurwalla til vår broder och svägerska bonden Jan Ersson och dess Hustra Anna Jansdotter i Klostret för en betingad och till fullo uppburen köpeskilling stor Tre Hun drade femtio /350/ Riksdaler riksgälds daler. och som vi denna köpeskilling till fullo bekommit hvadan den och qitterad varder alltså afhände vi oss och vara arfvin gar all Rätt och Rättighet till beröde 5 3/25 tedels penningeland Bjurwalla beläget i Wåhla socken hä- red i Westmanlans län och detsamma med allt hvad dertill hörer af ålder lydt och lagligen tillvinnas kan tillegnar bemälte Jan Ersson och dess hustru Anna Jansdotter i Klostret, samt deras arfvingar att genast tillträda och besitta såsom sin välfängne egendom samt uppbud och fasta sig härå förskaffa hafvande till yttermera visso häraf vi detta köpebref och Salo bref uti nedanstående vittnens närvaro upprätta låtit, försäkras Wåhla socken och Bjurvalla den 8 Juni 1852. Bonden Eric (bom) Olsson och hustru Brita (bom) Ersdotter i Bjurvalla Säljare. - På en gång närvarande vittnen Peter Persson i Berg och Jan (bom) Ersson dräng i Klostret.\"'}\n",
      "Row added!\n"
     ]
    },
    {
     "name": "stderr",
     "output_type": "stream",
     "text": [
      "The attention mask and the pad token id were not set. As a consequence, you may observe unexpected behavior. Please pass your input's `attention_mask` to obtain reliable results.\n",
      "Setting `pad_token_id` to `eos_token_id`:2 for open-end generation.\n"
     ]
    },
    {
     "name": "stdout",
     "output_type": "stream",
     "text": [
      "\n",
      "{'År-månad-dag': '1852-01-10', 'Län': 'Westmanlands', 'Härad': 'Wåhla', 'Socken': '', 'By': '', 'Jordnatur': 'Kronoskattehemmanet', 'Nummer': '1', 'Mantal': '8', 'Örestal': '', 'Penningland': '16', 'Riksdaler': '663', 'Öre': '32', 'Skilling': '', 'Runstycken': '', 'Valuta': 'Banco', 'Säljare-manliga': 'Bonden unga Jan', 'Säljare-kvinnliga': 'Stina Olsdotter', 'Köpare-manliga': 'Jan Ersson', 'Köpare-kvinnliga': 'Anna Jansdotter', 'Köpare-yrke': '', 'Relation mellan säljare och köpare': 'Svärson och svärfar', 'Köpare från': '', 'Fördel': '', 'Auktion': '', 'text': '\"Genom detta öppna köpebref göra undertecknade härige- nom kunnigt och vetterligt, att vi med sundt förnuft och moget betänkande upplåtit och försålt till vår måg och dotter Bonden Jan Ersson och hustru Anna Jansdotter i Klostret wåra i Kronoskattehemmanet No 1. Klostret dels ärfda och dels inköpta åtta penningeland eller Ett sextondel man - tal, beläget i Wåhla socken, och Härad i Westmanlands Län för en öfverenskommen och till fullo bekommen köpe- skilling stor sex Hundrade sextiotre Riksdaler 32 skillingar Banco, och som vi denna köpeskilling till fullo bekommit hvadan den och qvitterad varder; allt- så afhända vi oss och öfriga arfvingar all rätt till ofvanberörde 16 dedels mantal Klostret, och detsamma till¬ egna vår Måg och dotter att genast tillträda med hus och jord och allt hvad der till hörer, af ålder lydt eller lagligen tillvinnas kan, samt rättighet att härå söka laga fasta till yttermera visso häraf, hafva vi detta köpebref upp¬ rätta låtit i nedanstående vittnens närvaro försäkras Nora sn och Holm den 10 Januarii 1852. -Bonden unga Jan (bon) Jansson och hustru Stina (bom) Olsdotter Säljare På en gång närvarande vittnen C. J. Ahlström, Per (bom) Larsson i Holm\"'}\n",
      "Row added!\n"
     ]
    },
    {
     "name": "stderr",
     "output_type": "stream",
     "text": [
      "The attention mask and the pad token id were not set. As a consequence, you may observe unexpected behavior. Please pass your input's `attention_mask` to obtain reliable results.\n",
      "Setting `pad_token_id` to `eos_token_id`:2 for open-end generation.\n"
     ]
    },
    {
     "name": "stdout",
     "output_type": "stream",
     "text": [
      "\n",
      "{'År-månad-dag': '1852-05-01', 'Län': 'Westerås', 'Härad': 'Wåhla', 'Socken': 'Nora', 'By': 'Norr Åsbo', 'Jordnatur': 'Kronoskatte', 'Nummer': '3/8', 'Mantal': '', 'Örestal': '', 'Penningland': '5', 'Riksdaler': '2050', 'Öre': '', 'Skilling': '', 'Runstycken': '', 'Valuta': 'rsd riksgäldssedlar', 'Säljare-manliga': 'Olof Lundewall', 'Säljare-kvinnliga': 'Ewa Lowisa Lundewall född Björkman', 'Köpare-manliga': 'Lars Olsson', 'Köpare-kvinnliga': 'Malin Olsdotter', 'Köpare-yrke': 'Gästgifvaren', 'Relation mellan säljare och köpare': '', 'Köpare från': '', 'Fördel': 'Per Jacobsson, Olof Carlsson, Olof Persson, Anders Jacobs-son', 'Auktion': '', 'text': 'Jag Olof Lundewall, med min kära hustrus ja och samtyc-\\nke, upplåter och försäljer vår i Norr Åsbo by, Nora socken\\nWåhla Härad af Westerås län egande hemmansdel\\n3/8 mantal Kronoskatte om Ett öresland 5 penningeland till\\nförre Nämndemannen Gästgifvaren Lars Olsson och dess hus-\\ntru Malin Olsdotter i Söder Åsbo mot en överenskommen köpe-\\nskilling stor tvåtusende femtio /2050/ rsd riksgäldssedlar\\noch som jag denna summa till fullo bekommit, som sålunda\\nQuitterats, alltså afhände jag mig, barn och arfvingar, be-\\nRörde 3/8 dels mantal, med allt hvad dertil hører, af ålder \\nlydt och lagligen tillvinnas kan, såväl hus som jord, med\\nUndantag af de fördelsvillkor, som enligt särskilda con-\\ntracter tillkommer Per Jacobsson, Olof Carlsson, Olof Persson\\nOch den åker, som på livstid är upplåten till Anders Jacobs-\\nson och dess hustru, alla i Norr Åsbo boende, äfvensom\\nEn skogslott, Biskopsbolotten kallad, som på femio års\\nTid är försåld till afg. Länsmannen Boberg i W. Löf-\\nsta, och tillegnar detsamma ovannämnde Lars Olsson, \\nHustru, ban och arfvingar att evärdelige äga och\\nbesitta och nu genast tillträda: fritagandes jag mig\\nfrån ohemul samt Charta sigillet afgifter. Till ytter-\\nmera visso hafver jag, såväl som min kära hustru Ewa\\nLowisa Lunedwall, född Björkman, detta köpebref uti\\nnedomnämnde vittnens närvarande undertecknat, som\\nskedde i Nora Comministergård den 1. Maji 1852.\\nO. Lundewall. Ewa Lowisa Lundewall född Björkman.\\nWittnar A. Lundberg. Organist). E. Westergren. v. Rallare\\nI Nora'}\n",
      "Row added!\n"
     ]
    },
    {
     "name": "stderr",
     "output_type": "stream",
     "text": [
      "The attention mask and the pad token id were not set. As a consequence, you may observe unexpected behavior. Please pass your input's `attention_mask` to obtain reliable results.\n",
      "Setting `pad_token_id` to `eos_token_id`:2 for open-end generation.\n"
     ]
    },
    {
     "name": "stdout",
     "output_type": "stream",
     "text": [
      "\n",
      "{'År-månad-dag': '1852-02-12', 'Län': 'Uppsala län', 'Härad': 'Huddunge härad', 'Socken': 'Harbo socken', 'By': 'Rödje', 'Jordnatur': 'Kronoskattehemman', 'Nummer': '1/4', 'Mantal': '8 58/75', 'Örestal': '', 'Penningland': '', 'Riksdaler': '733', 'Öre': '16', 'Skilling': '', 'Runstycken': '', 'Valuta': 'Banco', 'Säljare-manliga': 'Jan Olsson, Per Persson', 'Säljare-kvinnliga': 'Christina Persdotter', 'Köpare-manliga': 'Olof Persson', 'Köpare-kvinnliga': 'Anna Larsdotter', 'Köpare-yrke': 'bond', 'Relation mellan säljare och köpare': 'bror och svägerska', 'Köpare från': 'Rödje, Harbo socken', 'Fördel': 'fördelar för Jan Olsson och Per Persson', 'Auktion': '', 'text': 'Jag Jan Olsson i Norrbo Harbo socken upplåter och för-\\nHärigenom med min kära hustrus Christina Pers-\\nDotter ja och samtycke vår arfvejord å såväl mödra\\nSom färden sidan, bestående af 8 23/75 dels pennin-\\nGeland, hus och jord uti Kronoskattehemment Röd-\\nJe Huddunge samt även jag Per Persson i Rödje för-\\nsäljer mina i arv tillfallna 8 58/75 dels penningeland \\nuti förutnämna hemman till vår broder och svä-\\nGerska negligence bonden Olof Persson och dess hus-\\ntru Anna Larsdotter i förutnämnde Rödje för en af \\noss emellan öfverenskommen köpeskilling stor, nemligen \\nJag Jan Olsson /333/ rds 16 sk och jag Per Persson \\n400 Rd allt Banco eller demot mig betingad för-\\nskilda fördelsförmåner och som vi nu denna köpe¬\\nskilling till fulloutbekommit och anammat hafver\\nalltså afhänder vi oss ofvanbemälte fastighet som\\nDelar uti ovannämnde 1 /4 mantal Rödje och tillegne\\ndetsamma till bemälte Olof Persson och dess hustru\\nAnna Larsdotter samt deras barn och arfvingar med\\ndet hvad till detta Henman hörer af ålder lydt och\\nlagligen tillvinnas kan. - Till yttermera visso\\nhafva vi detta köpebref uti tillkallade vittnes när¬\\nvaro underskrivit som skedde i Rödje Huddunge\\nsocken den 12 Februari 1852. Jan (bom) Ols-\\nson och hustru Christina (bom) Persdotter i Norr-\\nbo. Per (bom)Persson i Rödje. Säljare.- Be-\\nvittnas af Lars Ersson i Rödje. Sockenskomakaren\\nMagnus Magnusson. Mats Ersson och H. Lars\\nPersson i Risänge, Harbo socken.'}\n",
      "Row added!\n"
     ]
    },
    {
     "name": "stderr",
     "output_type": "stream",
     "text": [
      "The attention mask and the pad token id were not set. As a consequence, you may observe unexpected behavior. Please pass your input's `attention_mask` to obtain reliable results.\n",
      "Setting `pad_token_id` to `eos_token_id`:2 for open-end generation.\n"
     ]
    },
    {
     "name": "stdout",
     "output_type": "stream",
     "text": [
      "\n",
      "{'År-månad-dag': '1852-03-02', 'Län': 'Westmanlands', 'Härad': 'Wåhla', 'Socken': 'Nora', 'By': 'Gäddsjö', 'Jordnatur': '', 'Nummer': '7/12', 'Mantal': '', 'Örestal': '2', 'Penningland': '15', 'Riksdaler': '5141', 'Öre': '42', 'Skilling': '', 'Runstycken': '', 'Valuta': 'Riksgälds', 'Säljare-manliga': 'Jöns Ågren', 'Säljare-kvinnliga': 'hustrus goda ja', 'Köpare-manliga': 'Carl Ågren', 'Köpare-kvinnliga': 'Stina Gustafsdotter', 'Köpare-yrke': '', 'Relation mellan säljare och köpare': 'Far och Son', 'Köpare från': 'Gäddsjö', 'Fördel': 'Enligt särskilt upprättadt fördelskontrakt', 'Auktion': '', 'text': 'Jag Jöns Ågren i  Gäddsjö med min hustrus goda ja\\noch samtycke upplåter och försäljer till vår son Carl\\nÅgren och dess hustru Stina Gustafsdotter i Gäddsjö\\nNora socken och uti nämnde by och socken tillhörande\\n7/12 dels mantal om 2 öres och 15 penningeland kronoskatte\\njemte underlydande utjord i Nordmyra samt 2 Öres och 8 pen-\\ningeland, och andelen i Östnäs utäng, beläget i Nora so-\\nken Wåhla Härad och Westmanlands Län för en öfver-\\nenskommen och uppburen köpeskilling stor /5141/ Riksdaler\\n42 Sk Riksgälds och utfäst fördel enligt särskilt upprättadt \\nfördelskonstrakt-  och som vi denna köpeskilling till fullo\\nbekommit, alltså afhände vi oss, barn och arfvingar berör-\\nde 7/12 mantal med hus och jord jemte Nordmyra utjord samt\\nÖstnäs utäng - Och tillgiva detsamma Carl Ågren, och\\nlagligen tillvinna samt att evärdeligen äga och besitta. Till yttermera visso hafva vi detta köpebref i nedanstående\\nkallade vittnens öfvervaro egenhändingt undertecknat, som sked-\\nde i Gäddsjö och Nora Sn den 2 mars 1852. Jöns Ågren\\nC. G. Ågren.- Bevittnas A. T. Lundström, J. G. Afelie'}\n",
      "Row added!\n"
     ]
    },
    {
     "name": "stderr",
     "output_type": "stream",
     "text": [
      "The attention mask and the pad token id were not set. As a consequence, you may observe unexpected behavior. Please pass your input's `attention_mask` to obtain reliable results.\n",
      "Setting `pad_token_id` to `eos_token_id`:2 for open-end generation.\n"
     ]
    },
    {
     "name": "stdout",
     "output_type": "stream",
     "text": [
      "\n",
      "{'År-månad-dag': '1850-01-18', 'Län': 'Upsala', 'Härad': 'Olands härad', 'Socken': 'Alunda', 'By': 'Sunds by', 'Jordnatur': 'Kronoskatte hemman', 'Nummer': '2 - 1/2', 'Mantal': '4 öre 12 penningland', 'Örestal': '', 'Penningland': '', 'Riksdaler': '1033', 'Öre': '16', 'Skilling': '', 'Runstycken': '', 'Valuta': 'Rdr Banco', 'Säljare-manliga': 'M. Didriksson', 'Säljare-kvinnliga': 'C. Didriksson', 'Köpare-manliga': 'Pehr Ahlund', 'Köpare-kvinnliga': 'Lotta Jansdotter', 'Köpare-yrke': 'Socken skräddaren', 'Relation mellan säljare och köpare': '', 'Köpare från': 'Marmas af Alunda Socken', 'Fördel': '', 'Auktion': '', 'text': 'Köpsbref\\nTill Socken Skräddaren Pehr Ahlund och hans hu¬\\nstru Lotta Jansdotter i Marma af Alunda Socken,\\nupplåter och försälja undertecknade härmed mitt\\negande Kronoskatte hemman under No 2 - 1/2 mantal \\nom 4 öre 12 penningsland uti Sunds by af före¬\\nnämnde Socken, Olands härad och Upsala län, emot\\nen oss emellan öfverenskommen och betingad köpe\\nskilling stor Ett Tusende Trettiotre Rdr Banco 16SS\\nBanco /1033 Rs 16/3 Rb Bco/, Och som berörda 1033 Rdr 16 sk\\n13de nu mera äro till fullo betalte, samt i räntio¬\\ntillgång der-af härigenom qvitterede, afhända wi oss\\natt rätt till ifråga komma hemman och tillegne\\ndetsumma, med alt hvad dertill hörer, af ålder\\nlydt eller lagligen tillvinnas kan, Socken skrädda\\nren Pehr Ahlund och dess hustru, hvarå och lar från\\ngar, att den 14 nu kommande Mars med åtstådd\\ngröda tillträda, samt derefter ogtgält nyttja och\\nbruka\\nTill yttermiga vig do häraf igårde detta\\nKöpebref med våra namnet undersättande\\nbekräftedt, försäkres, Östhammar den 18 Ja¬\\nnuarie 1850\\nM. Didriksson C. Didriksson\\nBevittnas af\\nC. E. Grönstedt Eric Ersson i Sydinge\\n\\n\\n'}\n",
      "Row added!\n"
     ]
    },
    {
     "name": "stderr",
     "output_type": "stream",
     "text": [
      "The attention mask and the pad token id were not set. As a consequence, you may observe unexpected behavior. Please pass your input's `attention_mask` to obtain reliable results.\n",
      "Setting `pad_token_id` to `eos_token_id`:2 for open-end generation.\n"
     ]
    },
    {
     "name": "stdout",
     "output_type": "stream",
     "text": [
      "\n",
      "{'År-månad-dag': '1843-04-10', 'Län': 'Upsala', 'Härad': 'Olands', 'Socken': 'Ekeby', 'By': 'Dyflinge', 'Jordnatur': 'Krono Skatte', 'Nummer': '1, 2', 'Mantal': '3/16', 'Örestal': '', 'Penningland': '21', 'Riksdaler': '', 'Öre': '', 'Skilling': '', 'Runstycken': '', 'Valuta': 'Banco', 'Säljare-manliga': 'Eric Hansson', 'Säljare-kvinnliga': 'Carin Mattsdotters och förmyndaren för mina Barn med mitt förre gifte Greta Persdotter', 'Köpare-manliga': 'Eric Ersson', 'Köpare-kvinnliga': '', 'Köpare-yrke': 'Bonden', 'Relation mellan säljare och köpare': 'Ingen', 'Köpare från': 'Dyflinge', 'Fördel': 'Ja', 'Auktion': '', 'text': '\"Undertecknade gör veterligt, jag Eric Hansson\\nmed min rara syster Carin Mattsdotters och förmynd\\naren för mina Barn med mitt förre gifte\\nGreta Persdotter, Bonden Jan Jansson i\\nDyflinge, ja och samtycke, härmedelst upplåter\\noch bortbyter mitt och bemälte mina Barns ge\\nmensamte ägande Ett Sextondels mantal \\nNo 1 om Ett Öresland och Ett åttondels man\\ntal No 2 om 21 Penningeland, som\\ntillsammans gör 3/16 mtl Krono Skatte\\nDyflinge i Ekeby Socken, Olands Härad\\noch Upsala Län, till Bonden Eric Ersson\\ni Dyflinge emot hans ägande Ett Åtton\\ndels mantal No 1 och Ett fjerdedels mantal\\nNo 2 Krono Skatte uti förenammde \\nBy, Socken, Härad och Län, och en den\\nna dag utgifen mellangift Niohundra\\nSextiotre /963/ Rdr 14 S Banco, samt\\nhärmed förbinder mig att jemte Eric\\nErsson, hälften hvardera, årligen till hans\\nföräldrar, förre Bonden Eric Persson\\noch hans Hustru, så länge de lefva\\nutgiva den av dem utaf Eric Ersson\\nbetingade fördelen, men Husrum\\nför dem och deras kreatur kommer Eric\\nErsson ensam att ansvara för äfvenså\\nansvarar jag ensam för den utgående \\nfördelen till min förre Svärfader Per Ers\\nson i Dyflinge\\nSom jag Eric Ersson denna dag bekommit \\nofvanskrivna mellangift 963 Rdr 14 S Banco\\nSå varder densamma härmed qvitterad.\\nI följe häraf vi afhände oss och våra\\narfvingar ofvan berörde Hemmansdelar\\nmed allt hvad som dertill lyder och tidly\\nda hör, och Desamma på föreskrifne \\nsätt såsom evärdelig ägo hvarandra\\ntillägnar, med till Tretiodrätt gjor¬\\ndanskrifne dag\\nDyflinge d. 10 april 1843\\nEric (Bom) Hansson Carin (Bom) Mattsdotter\\nu Jan (Bom) Jansson Eric (Bom) Ersson\\nförmyndare\\nPå en gång närvarande vittnar\\nE. Johansson A. Lundin'}\n",
      "Row added!\n"
     ]
    },
    {
     "name": "stderr",
     "output_type": "stream",
     "text": [
      "The attention mask and the pad token id were not set. As a consequence, you may observe unexpected behavior. Please pass your input's `attention_mask` to obtain reliable results.\n",
      "Setting `pad_token_id` to `eos_token_id`:2 for open-end generation.\n"
     ]
    },
    {
     "name": "stdout",
     "output_type": "stream",
     "text": [
      "\n",
      "{'År-månad-dag': '1850-02-15', 'Län': 'Upsala', 'Härad': 'Olands Härad', 'Socken': 'Bärsta', 'By': 'Stafby', 'Jordnatur': 'Krono skatte utjord', 'Nummer': '', 'Mantal': '', 'Örestal': '1', 'Penningland': '1.5', 'Riksdaler': '1150', 'Öre': '', 'Skilling': '', 'Runstycken': '', 'Valuta': 'Banco mynt', 'Säljare-manliga': 'Pehr Ersson', 'Säljare-kvinnliga': 'Anna Majja Ers Dotter', 'Köpare-manliga': 'Anders Rikard Lindgren', 'Köpare-kvinnliga': 'Chattonia Anders Dotter', 'Köpare-yrke': 'Svärvas Mästaren', 'Relation mellan säljare och köpare': 'Säljare är sambygd med köparen', 'Köpare från': 'Skolby Alunda Soken', 'Fördel': '', 'Auktion': '', 'text': 'För allom dem, Som detta vårt öpna Salubref\\nLeser eller Låter sig förelesas, gör jag Pehr Ersson\\ni Skebårgo, med min Hustru Anna Majja Ers\\nDotter, ja och Samtyke det vi af fri villja och\\nväl berådt med uplåter och förselljer vårt ägon¬\\nde Hemman Krono skatte utjorden om Ett och ett\\nhalft Öresland. beläget uti Bärsta by\\nStafby soken. Olands Härad Upsala Län.\\nTill Svärvas Mästaren A. R. Lindgren\\noch hans Hustru Chattonia Anders Dotter Skolby\\nAlunda Soken, emot en öfverenskommen\\nKöpe Summa Ett Tusende Etthundrade\\nFemtio Riksdaler Banco mynt. att Tilltreda¬\\nden 14. Mars 1851. och Som vi till ifullo\\nutbekommit förestående 1150. Rsdr.\\nBanco genom Laglig skuldförbindelse,\\nSom Hermed qvitterade varda, altså afhen¬\\nder vi oss att vår Rätt och Talon till för\\nberörde Krono skatte utjord Bärsta, om 1 1/2 Öres¬\\nland, och till ägnar det samma till förbe¬\\nmelte Anders Rikard Lindgren, hans Hus¬\\ntru Chattonia Anders Dotter att för sig\\noch Sina efter kommande Barn och\\närvstagare, Styra och Råde Bruka\\noch behålla, med alt hvad dertill af\\nållder Lydt och lagadt och hedonefter\\nmed Lag och Dom tillvinnas kan\\nförbindander vi os till Hemuls efter Lag\\nBestyrkes af Skeberga 15 Februari\\n1850\\nPehr (.bom) Ersson\\nAmma (.bom) Maja ErsDotter\\n\\nBevittnar\\nEric Ersson i Skoby\\nAnders Pehrsson i Spånga'}\n",
      "Row added!\n"
     ]
    },
    {
     "name": "stderr",
     "output_type": "stream",
     "text": [
      "The attention mask and the pad token id were not set. As a consequence, you may observe unexpected behavior. Please pass your input's `attention_mask` to obtain reliable results.\n",
      "Setting `pad_token_id` to `eos_token_id`:2 for open-end generation.\n"
     ]
    },
    {
     "name": "stdout",
     "output_type": "stream",
     "text": [
      "\n",
      "{'År-månad-dag': '1850-04-20', 'Län': 'Upsala', 'Härad': 'Ohlands', 'Socken': 'Alunda', 'By': 'Golfsta', 'Jordnatur': 'Frälseskatte hemman', 'Nummer': '8', 'Mantal': '1/4', 'Örestal': '', 'Penningland': '2.12', 'Riksdaler': '1160', 'Öre': '', 'Skilling': '', 'Runstycken': '', 'Valuta': 'Banco', 'Säljare-manliga': 'Matts Bom Mattsson', 'Säljare-kvinnliga': 'Ana Bom Stina Mattsdr', 'Köpare-manliga': 'Eric Persson', 'Köpare-kvinnliga': 'Anna Greta Anders dotter', 'Köpare-yrke': 'Soldaten', 'Relation mellan säljare och köpare': '', 'Köpare från': 'Ströja Rasbo Socken', 'Fördel': '', 'Auktion': '', 'text': 'Göres härmed kunnit och wetterligt att vi under\\ntecknade uplåter och försäljer härigenom till Soldaten\\nEric Persson, at och dess Hustru Anna Greta\\nAnders dotter, uti Ströja Rasbo Socken, wårt\\nÄgande 1/4 dels Mtl Frälseskatte hemman No 8.\\nom Två Öre 12. penningsland, beläget uti Golfsta\\nBy Alunda Socken, Ohlands Härad och Upsala\\nLän och dess för en Betingadt och öfverenskom¬\\nmen Köpe Summa stor Ettusende Etthundra\\nte Sextio Riksdaler /1160. Rsdr/ Banco. hvilcka\\nhärigenom qvitterade utom några särskilta före¬\\nskrifna fördels förmåner att åtnjuta uti Bägges\\nvår Lifstid; afhänder för den skuld oss våra\\nBarn, och arfvingar att ägande rätt och rättighet,\\ntill Ofvanskrefne hemmansdel, och tillägnar den\\nbemälte Sordaten Eric Persson, At dess hustru\\nBarn och arfvingar till Everdelig ägo och det,\\nmed alla dess tillhörig heter, så i hus som jord, Åker\\noch Äng, Skog och Mark både närby och fjerran\\nalt vid dertill af ålder Lytt och lagat eller sådan\\nefter Lagligen tillvinnas kan, att Såsom sin Lag\\noch välfågna Egendom nyttja bruka och Behålla\\nsamt Lagafasta derå taga: Till yttermera visso\\när detta med våra namn och ägenhändiga Bo¬\\nmärkens underföljande, uti kallade wittnes närvaro\\nBekräftadt, som skedde uti Golfsta den 20de\\nApril 1850.\\n\\nMatts Bom Mattsson och hustru Ana Bom Stina Mattsdr\\nPå en gång närvarande wittnen.\\nAnd Lindgren i Gela, och Matts Ersson i Skarpesby.\\n'}\n",
      "Row added!\n"
     ]
    },
    {
     "name": "stderr",
     "output_type": "stream",
     "text": [
      "The attention mask and the pad token id were not set. As a consequence, you may observe unexpected behavior. Please pass your input's `attention_mask` to obtain reliable results.\n",
      "Setting `pad_token_id` to `eos_token_id`:2 for open-end generation.\n"
     ]
    },
    {
     "name": "stdout",
     "output_type": "stream",
     "text": [
      "\n",
      "{'År-månad-dag': '1850-04-08', 'Län': 'Upsala', 'Härad': 'Olands', 'Socken': 'Alunda', 'By': 'Haberga', 'Jordnatur': 'Frelseskatte', 'Nummer': '2', 'Mantal': '1/3', 'Örestal': '', 'Penningland': '1', 'Riksdaler': '2800', 'Öre': '', 'Skilling': '', 'Runstycken': '', 'Valuta': 'Riksdaler Banco', 'Säljare-manliga': 'Eric Andersson', 'Säljare-kvinnliga': 'Brita Stina MattsDotter', 'Köpare-manliga': 'Jan Andersson', 'Köpare-kvinnliga': 'Greta Anders Dotter', 'Köpare-yrke': '', 'Relation mellan säljare och köpare': '', 'Köpare från': 'Haberga Alunda Socken', 'Fördel': 'Enligt denna dag upprättade Förmåns Contrakt', 'Auktion': '', 'text': 'Jag Undertecknad med minkäro Hustrus\\ngoda ja och Samtycke, Uplåter och försäljer vårt\\negande Frelseskatte heman 1/3 Mantal uti No¬\\n2 om 1 Öre 20 penningeland i Haberga by i Alun¬\\nda Socken Olands Härad och Upsala Län, Till\\nGestgivaren gl: Jan Andersson och hans Hustru\\nGreta Anders Dotter i Haberga Alunda Socken\\nför en öfverenskommen och betingad i Kopeskilling ¬\\nstor Två tusende Åttahundrade 2,800/ Riks\\ndaler Banco, jemte enligt denna dag upprätta¬\\nde Fördels Contrackt ålegges Köparen att fullgö¬\\nra, Hwilken köpeskilling 2,800 Rdr blifvit till\\nfullo qvitterad, alltså afhände vi oss och våra\\nBarn och Arfvingar berörde 1/3 dels Mantals med\\nalt vad dertill hörer: af ålder lyt och lagligen\\ndertill vinna kan och tillegne dessamma bemäl¬\\nte Jan Andersson Hustru Barn och Alfvin\\ngar att till Tredas d 14. Mars 1851 samt\\nevärdeligen äga och besitta, Hafvande till Ytter\\nmera visso häraf vi detta Köpebref uti Nedanstå\\nende Wittnensöfvervaro egenhändigt underteck¬\\nnadt som skedde i Haberga den 8. April 1850.\\ngl: Eric Andersson Hustrun Brita Stina Matts¬Dotter\\n(bomärke)\\n(bomärke) \\nAtt Eric Andersson och Hustru undersatt si¬\\nna bomerken upplest och ärkändt betyga vi på\\nen gång Närvarande vittnen.\\nE. Marmen Anders Lundqvist i Haberga\\n(bomärke)\"\\n'}\n",
      "Row added!\n"
     ]
    },
    {
     "name": "stderr",
     "output_type": "stream",
     "text": [
      "The attention mask and the pad token id were not set. As a consequence, you may observe unexpected behavior. Please pass your input's `attention_mask` to obtain reliable results.\n",
      "Setting `pad_token_id` to `eos_token_id`:2 for open-end generation.\n"
     ]
    },
    {
     "name": "stdout",
     "output_type": "stream",
     "text": [
      "\n",
      "{'År-månad-dag': '1850-04-16', 'Län': 'Upsala', 'Härad': 'Olands', 'Socken': 'Alunda', 'By': 'Haberga', 'Jordnatur': 'Frelseskatte', 'Nummer': '4', 'Mantal': '1/4', 'Örestal': '', 'Penningland': '1', 'Riksdaler': '1900', 'Öre': '', 'Skilling': '', 'Runstycken': '', 'Valuta': 'Banco', 'Säljare-manliga': 'Jan Andersson', 'Säljare-kvinnliga': 'Hustrus', 'Köpare-manliga': 'Anders Andersson', 'Köpare-kvinnliga': 'Carin Lisa Pers Dotter', 'Köpare-yrke': 'Gestgifvaren', 'Relation mellan säljare och köpare': 'Styfson', 'Köpare från': 'Haberga och Alunda Socken', 'Fördel': '', 'Auktion': '', 'text': 'Göre wetterligt att jag Undertecknade med min\\nkära Hustrus gode ja och samtycke upplåter och försäl¬\\njer vårt egande Frelseskatte 1/4 dels Mantal No 4 om\\n1 öre 12 penningeland - belegd i Haberga By Alunda,\\nSocken Olands Härad och Upsala Län Till min\\nStyfson Gestgifvaren Anders Andersson och hans\\nHustru Carin Lisa Pers Dotter i Haberga och\\nAlunda Socken för en öfverenskommens och betingad\\nKöpeskilling stor Ettusende Niohundra /1900/ Riks\\ndaler Banco, och som vi denne Köperkilling till\\nfullobekommit altså afhende vi oss och wåra arfwingar\\nberörde 1/4 dels Mantal Haberga med allt vad dertill\\nhörer af ålder lyt och lagligen tillvinnas kan och\\ntillegne det samma Min Styfson Anders Andersson\\nhans Hustru Barn och Arfwingar att genast tilltreda\\nsamt evärdeligen äga och besitta Hafwande till Yt¬\\ntermera wisso häraf vi detta Köpebref uti Nedan¬\\nstående wittnens öfvervaro egenhändigt Underteck¬\\nnadt som skjedde i Habergad 16 April 1850.\\nJan Andersson och Hustrun Greta (bomärke) Andersdotter\\nAtt Jan Andersson egenhändigt undersatt sitt\\nNamn Hustrun sit Bomärke upplest och erkändt\\nIntyga och Bevittna wi på en gång närvarande\\nWittnene E. Marmen och Anders Ersson Haberga'}\n",
      "Row added!\n"
     ]
    },
    {
     "name": "stderr",
     "output_type": "stream",
     "text": [
      "The attention mask and the pad token id were not set. As a consequence, you may observe unexpected behavior. Please pass your input's `attention_mask` to obtain reliable results.\n",
      "Setting `pad_token_id` to `eos_token_id`:2 for open-end generation.\n"
     ]
    },
    {
     "name": "stdout",
     "output_type": "stream",
     "text": [
      "\n",
      "{'År-månad-dag': '1850-03-14', 'Län': 'Uppsala', 'Härad': 'Olands', 'Socken': 'Wittja å Tuna', 'By': '', 'Jordnatur': 'Krono Skatte', 'Nummer': '3', 'Mantal': '1/4', 'Örestal': '2', 'Penningland': '9', 'Riksdaler': '1300', 'Öre': '', 'Skilling': '', 'Runstycken': '', 'Valuta': 'Banco mynt', 'Säljare-manliga': 'Anders Ericsson', 'Säljare-kvinnliga': 'Christina Eleonora JansDotter', 'Köpare-manliga': 'Per Olsson', 'Köpare-kvinnliga': 'Anna Chatthrina Ols Dotter', 'Köpare-yrke': '', 'Relation mellan säljare och köpare': '', 'Köpare från': 'Brobohl. Bladåkers socken', 'Fördel': '', 'Auktion': '', 'text': 'För attom dem som detta vårt öppna salu\\nBref leser eller låter Sig förelesas gör jag Anders Ericsson\\nmed min Hustru Christina Eleonora JansDotter\\ni Wettja å ja och samtycke och vi af fri hvilja och\\nberått mod Upplåter och förseljer vårt egende hem¬\\nman 1/4. dels mantal. Krono Skatte No 3. om 2 öre\\n9. penningeland beleget: uti Wittja å Tuna socken\\nOlands Härad af Uppsala län till Bonden Per Olsson\\noch hans hustru Anna Chatthrina Ols Dotter uti\\nBrobohl. Bladåkers socken för en öfverens kommen,\\nköpe summa Stor Ett Tusende Tre hundrade Rixdaler\\nBanco mynt med till tredes sitt för denna dag, och\\noch som vi till i fullo Utbekommit förestånde. 1300\\nRsd Banco som her med qvitterade varda altså af¬\\nhender vi oss och våra arftegare rett och talan\\ntill för berörde 3/4 dels mantal, och till egnar det samma\\ntill för bemelte Per Olsson och dess hustru Anna Chatta\\nrina Ols Dotter att för sig och sina efter kommande\\nBarn och arftagare styra och råda bruka och be¬\\nholla med att hvad der till af ålder lydt legat och\\nhedan efter med lag och dom till vinnas kan förbind¬\\ndandes vi oss till hemuld efter lag.\\nBestyrkes af wittja den 14 mars 1850.\\n\\nA. Ericsson.\\nHustrun Chattarina Eleonora\\nJans Dotter - Bomerke\\nBevittnas af\\nEric Ersson i Skoby - \\nPehr Hansson i ohla\\nlikmegtligheten af orginalet\\nBetyar.\\nEric Persson. i Lågbhol:\\nKyrkovärd.'}\n",
      "Row added!\n"
     ]
    },
    {
     "name": "stderr",
     "output_type": "stream",
     "text": [
      "The attention mask and the pad token id were not set. As a consequence, you may observe unexpected behavior. Please pass your input's `attention_mask` to obtain reliable results.\n",
      "Setting `pad_token_id` to `eos_token_id`:2 for open-end generation.\n"
     ]
    },
    {
     "name": "stdout",
     "output_type": "stream",
     "text": [
      "\n",
      "{'År-månad-dag': '1850-06-15', 'Län': 'Upsala', 'Härad': 'Ohlands', 'Socken': 'Ekeby', 'By': 'Ingvasta', 'Jordnatur': 'Kronoskatte hemmanet', 'Nummer': '1, 4', 'Mantal': '15/64', 'Örestal': '', 'Penningland': '2 1/2', 'Riksdaler': '2000', 'Öre': '', 'Skilling': '', 'Runstycken': '', 'Valuta': 'Banco', 'Säljare-manliga': 'Matts Andersson', 'Säljare-kvinnliga': 'Lena Jonsdotter', 'Köpare-manliga': 'Anders Mattsson', 'Köpare-kvinnliga': 'tillkommande hustrun till Anders Mattsson', 'Köpare-yrke': '', 'Relation mellan säljare och köpare': 'Far och Son', 'Köpare från': '', 'Fördel': 'några serskilta föreskrifne fördels vilckor att åtnjuta uti Bägges vår Lisstid', 'Auktion': '', 'text': 'Göres härmed kunnigt och wetterligt att vi undertecknade\\nupplåter och försäljer härigenom till vår kära. Son\\nAnders Mattsson och dess tillkommande hustru, våra¬\\nhemmans andelar 15/64 dels Mtl uti Kronoskatte hemmanet,\\nNo 1. om 2 1/2 Öresland samt 1/4 dels mtl. Kronoskatte\\nhemman No 4. om 2 1/2 Öresland beläget uti Ingvasta\\nBy Ekeby Socken, Ohlands Härad och Upsala Län\\noch det för en Betingadt och öfverens kommen Köpe\\nSumma stor Tvåtusende Riksdaler /2000. Rdr Banco /: Samt\\nhvilcka härigenom qvitterade varda, utom några serskil\\nta föreskrifne fördels vilckor att åtnjuta uti Bägges\\nvår Lisstid, afhänder för den skuld oss, vara öfriga barn\\noch arfvingar, att ägande rätt och Rättighet uti oföreskrif¬\\nhemmans delar, och tillägnar dem bemälte vår San, Anders\\nMattsson samt dess tillkommande hustrun till Evarde\\nlig Ägo, och det med alla dess tillhörig heter, så i hus som\\njord, Åker och Äng, skog och mark, alt hvad dertill af\\nÅlder Lytt och lägadt eller sådanefter Lagligen tillvinnas\\nkan att Såsom sin Lag och välfågna Egendom nyttja\\nbruka och behålla samt Laga fasta derå laga Till ytter\\nmera visso af detta med våra namn, och Bomärkens\\nundersittande uti kallade vittnes närvaro bekräftadt.\\nsom skedde uti Ingvasta den 15de Juni 1850.,\\nMatts Andersson och hustru Lena Jonsdotter\\nBom.\\nPå en gång närvarande wittnen\\nAnd Lindgren i Gela och Matts (Bom) Persson i Ingvasta\\n'}\n",
      "Row added!\n"
     ]
    },
    {
     "name": "stderr",
     "output_type": "stream",
     "text": [
      "The attention mask and the pad token id were not set. As a consequence, you may observe unexpected behavior. Please pass your input's `attention_mask` to obtain reliable results.\n",
      "Setting `pad_token_id` to `eos_token_id`:2 for open-end generation.\n"
     ]
    },
    {
     "name": "stdout",
     "output_type": "stream",
     "text": [
      "\n",
      "{'År-månad-dag': '1850-03-14', 'Län': 'Uppsala', 'Härad': 'Olands', 'Socken': 'Alunda', 'By': 'Lyen', 'Jordnatur': '', 'Nummer': '1', 'Mantal': '1/12', 'Örestal': '', 'Penningland': '8', 'Riksdaler': '333', 'Öre': '16', 'Skilling': '', 'Runstycken': '', 'Valuta': 'Banco mynt', 'Säljare-manliga': 'Eric Ersson', 'Säljare-kvinnliga': 'Greta Charin Pehrs dotters', 'Köpare-manliga': 'Pehr Pehrsson', 'Köpare-kvinnliga': '', 'Köpare-yrke': '', 'Relation mellan säljare och köpare': 'Förvaltare till omyndig', 'Köpare från': 'Lyen', 'Fördel': 'Livstids', 'Auktion': '', 'text': 'För utom vill dem detta mitt öppna Salu Bref läser eller Låten Sig före\\nlesas gör jag Eric Ersson i Söderby. Som Lagligen till förordnade förmyndare\\nför afl. Bonden Pehr Mattsson i Lyen Äfterlemnade omyndige dotter\\nGreta Charin Pehrs dotter, herigenom kunnigt och Witterligit det jag\\naf fri wilja och  Welberedt mod uplåter och förälljer förbemälte Greta\\nCharin Pehrs Dotters ärvda jord 1/12 dels Mantal om 8. penningeland. Frelse\\nskatte No 1 uti Lyen Alunda Socken Olands Härad Uppsala Län, Till\\nförmyndligens Broder Bonden Pehr Pehrsson uti Lyen, för en öfverens\\nkommen Köpe Summa Trehundrade Trettio Tre. Riksdaler Sexton Skilling\\nBanco mynt jemte lifstids fördel till deras moder Enkan Maja\\nGreta Jansdr. Enligt fördels bref af den 24. Februari 1845. och som jag\\ngenom laglig förskrifning utbekommit förstående. 333. Rsr 16. S\\nBanco Som hermed qvitterade varda altså afhänder jag mig och min mynd¬\\nling Greta Charin Pehrs dotters Rätt och Talan, till förberörde 1/12 dels mantal\\noch tillegnar det samma till förbemälde Pehr Pehrsson, att för Sig och\\nsina Rätta arftagare Styra och Råde Bruke och behålla, med alt där¬\\ntill af ålder lytt och Lagedt och Hedenefter med Lag och som\\ntillvinnas kan. Förbinande jag mig till Hemul efter Lag¬\\nBestyrkes af Lyen den 14. Mars 1850.\\nEric Ersson i Söderby\\natt Bonden Eric Ersson i Söderby ägenhendigt och\\nfrivilligt underskrifvit sitt namn. Betyga vi på en gång\\ntillkallade Wittnen\\nEric Ersson\\noch en Eric Ersson J. Skoby\\n\\n'}\n",
      "Row added!\n"
     ]
    },
    {
     "name": "stderr",
     "output_type": "stream",
     "text": [
      "The attention mask and the pad token id were not set. As a consequence, you may observe unexpected behavior. Please pass your input's `attention_mask` to obtain reliable results.\n",
      "Setting `pad_token_id` to `eos_token_id`:2 for open-end generation.\n"
     ]
    },
    {
     "name": "stdout",
     "output_type": "stream",
     "text": [
      "\n",
      "{'År-månad-dag': '1850-07-27', 'Län': 'Upsala', 'Härad': 'Ohlands', 'Socken': 'Alunda', 'By': 'Gela', 'Jordnatur': 'Kronoskatte hemman', 'Nummer': '1', 'Mantal': '1/4', 'Örestal': '', 'Penningland': '2', 'Riksdaler': '', 'Öre': '', 'Skilling': '', 'Runstycken': '', 'Valuta': 'Riksdaler Banco', 'Säljare-manliga': 'And Lundgren', 'Säljare-kvinnliga': 'Cajsa Greta Pehrs dotter', 'Köpare-manliga': 'Petter Lundgren', 'Köpare-kvinnliga': 'Brita Stina Ersdotter', 'Köpare-yrke': '', 'Relation mellan säljare och köpare': 'Far och Son', 'Köpare från': 'Forssne Alunda Socken', 'Fördel': 'Förutom några särskilt föreskrivna fördel förmåner att åtnjuta i båda vår livstid', 'Auktion': '', 'text': 'Göres härmed kunnit och Wetterligt att vi undertecknade\\nuplåter och försäljer härigenom till vår kära Son Bon\\nden Petter Lundgren och dess hustru Brita Stina Ers\\ndotter uti Forssne Alunda Socken, vårt ägande 1/4 dels\\nMtl Kronoskatte hemman, No 1 om Två Öresland\\nbeläget uti Gela By, Alunda Socken, Ohlands Härad,\\noch Upsala Län, och det för en betingadt och väl\\nfången Köpesumma, Femhundrade Riksdaler /500/\\nRsdr Banco hvilcka härigenom qvitterare varda, utom\\nnågra serskilt, föreskrifna fördels förmoner att åtnjuta\\nuti bägges vår Lifstid; Afhänder för den skuld oss våra\\nöfriga Barn, och arfvingar, att ägande rätt och rättighet\\nuti Ofvanskrifne hemmans del och tillegnar den före¬\\nskrifne Petter Lundgren, dess hustru Barn, och arfvingar\\ntill Everdelig ägo. och det med alla dess tillhörigheter,\\nså i hus som jord Åker och Äng, Skog och mark\\nbåde närby och fjerran, och vad dertill af ålder Lytt\\noch Läget eller hädanefter Lagligen tillvinnas kan,\\nAtt Såsom sin Lag, och välfångne Egendom nyttja\\nbruka och behålla, samt Lagafasta derå taga. Till ytter\\nmera visso, är detta med våra namns och Bomärkens\\nundersittjande uti kallade vittnes närvaro, bekräftadt.\\nsom skedde uti Gela den 27de Juli 1850.\\nAnd Lundgren och hustru Cajsa Greta Pehrs dotter\\nBom\\nPå en gång närvarande Wittnen\\nAnders Persson, och D. Per Persson, i Gela¬\\nBom\\n'}\n",
      "Row added!\n"
     ]
    },
    {
     "name": "stderr",
     "output_type": "stream",
     "text": [
      "The attention mask and the pad token id were not set. As a consequence, you may observe unexpected behavior. Please pass your input's `attention_mask` to obtain reliable results.\n",
      "Setting `pad_token_id` to `eos_token_id`:2 for open-end generation.\n"
     ]
    },
    {
     "name": "stdout",
     "output_type": "stream",
     "text": [
      "\n",
      "{'År-månad-dag': '1850-07-27', 'Län': 'Upsala', 'Härad': 'Ohlands', 'Socken': 'Alunda', 'By': 'Gela', 'Jordnatur': 'Kronoskatte hemman', 'Nummer': '1', 'Mantal': '1/4', 'Örestal': '', 'Penningland': '2', 'Riksdaler': '500', 'Öre': '', 'Skilling': '', 'Runstycken': '', 'Valuta': 'Banco', 'Säljare-manliga': 'And Lundgren', 'Säljare-kvinnliga': 'Cajsa Greta Pers dotter', 'Köpare-manliga': 'Jan Eric Andersson', 'Köpare-kvinnliga': 'Charlotta Lundgren', 'Köpare-yrke': 'Rusthållaren', 'Relation mellan säljare och köpare': 'Föräldrar och svärson', 'Köpare från': 'Wäskinge Ekeby Socken', 'Fördel': '', 'Auktion': '', 'text': 'Göres härmed kunnit och wetterligt att vi nu underteckna\\nde uplåter och, försäljer härigenom, till vår kära dotter\\nCharlotta Lundgren och dess man Rusthållaren Jan¬\\nEric Andersson uti Wäskinge Ekeby Socken, vårt ägande\\n1/4 dels mtl Kronoskatte hemman No 1 om Två Öresland\\nbelägit uti Gela By, Alunda Socken Ohlands Härad\\noch Upsala Län; och det för en betingad och handfången¬\\nKöpesumma Femhundrade Riksdaler /500. Rsd/ Banco\\nhvilka häregenom qvitterade varda, utom några ser¬\\nskilt föreskrifna fördels förmoner, att åtnjuta uti bägges\\nvår Lifstid, Afhänder för den skull oss vara öfriga\\nBarn och arfvingar, all ägande rätt och rättighet och\\ntillägnar den bemälte vår föreskrifne dotter och måg\\nJan Eric Andersson, dess Barn och arfvingar till\\nEverdelig ägo, och det med alla dess tillhörigheter, så\\ni hus som jord Åker och Äng skog och mark både\\nnärby och fjerran alt vad dertill af ålder lytt\\noch läggdt, eller hädanefter Lageligen tillvinnas kan¬\\natt Såsom sin Lag och välfogna Egendom nyttja-\\nbruka och behålla, samt Lagafasta derå taga\\nTill yttermera visso är detta med våra namn\\noch Bomärken uti kallade vittnes närvaro be¬\\nkräftladt som skedde uti Gela den 27.te juli 1850.\\nAnd Lundgren och hustru Cajsa Greta Pers dotter\\nBom\\nPå engång närvarande vittnen\\nAnders Persson och Dn Per Persson i Gela\\nBom\\n'}\n",
      "Row added!\n"
     ]
    },
    {
     "name": "stderr",
     "output_type": "stream",
     "text": [
      "The attention mask and the pad token id were not set. As a consequence, you may observe unexpected behavior. Please pass your input's `attention_mask` to obtain reliable results.\n",
      "Setting `pad_token_id` to `eos_token_id`:2 for open-end generation.\n"
     ]
    },
    {
     "name": "stdout",
     "output_type": "stream",
     "text": [
      "\n",
      "{'År-månad-dag': '1849-10-30', 'Län': 'Upsala', 'Härad': 'Sn olands härad', 'Socken': 'Mytslinge', 'By': '', 'Jordnatur': '', 'Nummer': '4', 'Mantal': '1/8', 'Örestal': '', 'Penningland': '21', 'Riksdaler': '700', 'Öre': '', 'Skilling': '', 'Runstycken': '', 'Valuta': 'Banco', 'Säljare-manliga': 'Matts Jansson', 'Säljare-kvinnliga': '', 'Köpare-manliga': 'Anders Andersson', 'Köpare-kvinnliga': 'Anna Lisa Jans Dotter', 'Köpare-yrke': '', 'Relation mellan säljare och köpare': 'Syster och Svåger', 'Köpare från': 'Ekeby Lena Sn', 'Fördel': 'Enligt fördels Contract af den 28 marti 1847', 'Auktion': '', 'text': '\"Jag Matts Jansson med mina förälldrars uplåtelse och samtycke\\ngör hermed kunigt och vitterligt, dett jag uplåtes och försäljer herigensom\\nmig i arf tillfallne 1/8 dels mantal om 21 penninge Land uti Mytslinge\\nAlunda Sn olands härad och Upsala Län beläget Till min Syster\\noch Svåger arendatorn Anders Andersson och dess hustru Anna Lisa Jans\\nDotter uti Ekeby Lena Sn För en öfverenskommen och handfången¬\\nköpe skilling stor Sjuhundrade /700/ Riksdaler Banco och som jag¬\\nomförmälte köpeskilling enligt serskildt skuld förbindelses såväl\\nden sista penningen som den Första Till fullo utbekommit som her¬\\nmed qvitterade varda: alt så och för den skuld af hände i och afstår\\njag om förmelte 1/8 dels mtl uti No 4 Mytslinge till merom förmel¬\\nte min systes och svåger Barn och arfvingar efter arfvingar att de\\nöfver styra och Råda såsom ny och ävärdeliga till alt disponera\\nså väl i hus och jord skog ock mark in ock utägor icke noget vidare \\nundantag unden Till våra föräldrar tillskrifne fördel Enligt fördels\\nContrackt af den 28 marti 1847 samt tilllåtes köparen att vid¬\\noland välofl Härads Rätt Laga sköte och faste herå söka som\\nmed min underskrift tillkallade vittnes närvaro bestyrker\\nsom skedde uti Mytslinge den 30de October 1849.\\nMatts Jansson\\ndenna försällgning samtyckes af mig samt för min skuklige hustru\\nJon Bängtsson Mytslinge.\\nbom\\natt säljaren Matts Jonsson och dess Fader Jon Bengtsson efter upläsan\\ndet heraf frivilligt och ägenhändigt under skrifvit sittnamn och bo¬\\nmärke intygar vi på engång närvarande vittnen\\nEr ERsson i Sydeng ösby och gl Matts mattsson i klef¬\\nmed orgnalolika lydande intygar Jan Petter Ersson, Sydeng örby\\n'}\n",
      "Row added!\n"
     ]
    },
    {
     "name": "stderr",
     "output_type": "stream",
     "text": [
      "The attention mask and the pad token id were not set. As a consequence, you may observe unexpected behavior. Please pass your input's `attention_mask` to obtain reliable results.\n",
      "Setting `pad_token_id` to `eos_token_id`:2 for open-end generation.\n"
     ]
    },
    {
     "name": "stdout",
     "output_type": "stream",
     "text": [
      "\n",
      "{'År-månad-dag': '1850-05-10', 'Län': 'Uppsala', 'Härad': 'Alunda', 'Socken': 'Sn', 'By': 'Svista', 'Jordnatur': 'Krono Skatte hemman', 'Nummer': '1/2', 'Mantal': '', 'Örestal': '', 'Penningland': '', 'Riksdaler': '3000', 'Öre': '', 'Skilling': '', 'Runstycken': '', 'Valuta': 'Banco', 'Säljare-manliga': 'Olof Persson', 'Säljare-kvinnliga': 'Lena Persdotter', 'Köpare-manliga': 'Anders Jonsson', 'Köpare-kvinnliga': '', 'Köpare-yrke': 'dräng', 'Relation mellan säljare och köpare': 'Säljare är foster-son till köparen', 'Köpare från': 'Svista', 'Fördel': '', 'Auktion': '', 'text': 'Köpe Bref\\n\\nSedan vi undertecknade ägare af 1/2 mantal No 1 Svista i\\nAlunda Sn Krono Skatte hemman, på sådant sätt som\\ndenna dagens upprättade köpa Contract utvisar öfver\\nlåtit vår eganderätt dertill till wår antagne foster-\\nson drängen Anders Jonsson i Svista för en betingad\\nKöpe Summa Tre Tusende Riksdaler Banco att betalas\\npå sådant sätt som vårt öfverlåtelsebref förskrif¬\\nver uton betingad fördels utgifvande, göra vi\\nhärigenom witteligt, de vi nu upplåter och\\nförsäljer denna vår fastighet till ofvanbe¬\\nmälde Anders Jonsson med den rätt vi\\ndensamma innehafvar sådan den nu för\\nägonen befinnes wara till åbyggnad åker\\nÄng skog och utmark för ofvanskrefne Summa\\nTre Tusende Riksdaler Banco och som den, dels\\nblifvit och dels blifver betalt på sådant sett\\nen serskildt KöpeContraktet föreskrifnes, så\\nvarder densamma nu qvitterad och Anders\\nJonsson anses wara egare deraf med tillträ\\ndelserätt den 14. Mars 1851, medgifvande vi att\\nhan sig tillhanda såsom säkerhet vid\\nwederbörlig Domstol för Lagfart söka\\nDetta wårt salubref warder med wåra egen¬\\nhändiga underskrifter stadfastat, som\\nskedde i Svista den 10 Maji 1850. \\nOlof /bom/ Persson Lena /bom/ Persdotter\\nPå en gång närvarande wittnen\\nE: G. Ahlsten Matts /bom/ Ersson\\nSkarpösby\\n'}\n",
      "Row added!\n"
     ]
    },
    {
     "name": "stderr",
     "output_type": "stream",
     "text": [
      "The attention mask and the pad token id were not set. As a consequence, you may observe unexpected behavior. Please pass your input's `attention_mask` to obtain reliable results.\n",
      "Setting `pad_token_id` to `eos_token_id`:2 for open-end generation.\n"
     ]
    },
    {
     "name": "stdout",
     "output_type": "stream",
     "text": [
      "\n",
      "{'År-månad-dag': '1850-10-10', 'Län': 'Uppsala', 'Härad': 'Alunda', 'Socken': 'Wäsby', 'By': '', 'Jordnatur': 'Frälse skatte hemman', 'Nummer': '6', 'Mantal': '1/4', 'Örestal': '', 'Penningland': '2', 'Riksdaler': '', 'Öre': '9', 'Skilling': '', 'Runstycken': '', 'Valuta': 'Riksdaler Banco', 'Säljare-manliga': \"Per Persson (as guardian for his wife's children)\", 'Säljare-kvinnliga': '', 'Köpare-manliga': 'Pehr Eric Persson', 'Köpare-kvinnliga': '', 'Köpare-yrke': '', 'Relation mellan säljare och köpare': 'Brother', 'Köpare från': 'Furby', 'Fördel': 'A share of the purchase price will go to the father, Per Andersson', 'Auktion': '', 'text': 'Till följe af Härads Rättens genom Resulation\\nå Sommartinget den 9de sistlidne Augusti mig dertill\\nmeddelade tillåtelse, försäljer jag såsom förmyndare för\\naflidne Per Perssons hustru Brita Matts Dotters i Klef\\nomyndige Barn hermädelst å deras vägnar den genom\\narfskifte efter förbemälte deras moder tillfallne Ettfjer¬\\ndedels Mantal frälse skatte hemman No 6. Wäsby Alunda Soc¬\\nken om 2 Öres 9 penningeland, till deras Broder Per\\nEric Persson emot en Köpeskilling stor 1400 Fjorton\\nhundrade Ridr Banco hans egen arfslott inberäknas\\nsamt fördel till deras fader Per Andersson enligt erskilt\\nContracht, Och som jag denna köpeskilling genom\\nsärskilta Skuldförbindelser till fullo bekommit\\nAltså afhänder jag mine pupillers berörde 1/4 Mantal\\nWäsby med att hvad dertill hörer, af ålder lydt, och\\nLagligen tillvinnas kan, Och tillegnar dessamma för\\nbemälte Pehr Eric Pehrsson och hans arfvingar att\\ntillträda den 14de nästkommande Mars 1851. samt evär¬\\ndeligen ega, och besitta; hafvande till yttermera visso\\nhäraf jag detta Köpebref uti nädanstående vittnens öfvervaro egenhändigt\\nundertecknat, som skedde i Klef den 10. okt 1850.\\nMed förestående försäljning Matts Pehrsson i Furby\\nförklarar jag mig nöjd Per Persson\\nAtt Matts Persson i Turby efter uppläsandet af förestående\\nKöpebref egenhändigt undertecknat i denne sitt Bomärke\\noch den sednare sitt namn.\\nintygar vi på en gång härvarande vittnen.\\nEric Erssons i Fresta och Er. Ersson i Syding ösby.'}\n",
      "Row added!\n"
     ]
    },
    {
     "name": "stderr",
     "output_type": "stream",
     "text": [
      "The attention mask and the pad token id were not set. As a consequence, you may observe unexpected behavior. Please pass your input's `attention_mask` to obtain reliable results.\n",
      "Setting `pad_token_id` to `eos_token_id`:2 for open-end generation.\n"
     ]
    },
    {
     "name": "stdout",
     "output_type": "stream",
     "text": [
      "\n",
      "{'År-månad-dag': '1850-11-15', 'Län': 'Upsala', 'Härad': 'Olands', 'Socken': 'Alunda', 'By': 'Wäsby', 'Jordnatur': 'Frälseskattehemman', 'Nummer': '6', 'Mantal': '1/4', 'Örestal': '', 'Penningland': '2 öres 9', 'Riksdaler': '1200', 'Öre': '', 'Skilling': '', 'Runstycken': '', 'Valuta': 'banko', 'Säljare-manliga': 'Jan Mattsson', 'Säljare-kvinnliga': 'Maja Söderbergs', 'Köpare-manliga': 'Per Jansson', 'Köpare-kvinnliga': 'hans tillkommande hustru', 'Köpare-yrke': '', 'Relation mellan säljare och köpare': 'Far och son', 'Köpare från': '', 'Fördel': 'Arflott, lifstidsundantag', 'Auktion': '', 'text': 'Köpebref\\nJag undertecknad Jan Mattsson, med min kära\\nHustrus, Maja Söderbergs, ja och samtycke, upp en\\nlåter och försäljer härmedelst till vår son, Bonde¬\\nsonen Per Jansson i Wasby och hans tillkommande\\nhustru, vårt egande Frälseskattehemman No 6\\n1/4 mantal om 2 öres - och 9 penningeland, beläget\\nWäsby by, Alunda socken, Olands Härad och\\nUpsala Län, emot en öfverenskommen köpeskil¬\\nling. stor Ett Tusende Två Hundrade (1,200)\\nriksdaler banko, hvarå dock afdrages köparens\\narfslott, jemte lifstidsundantag och fördel Som¬\\nenligt särskildt upprättad kontrakt bestämmes;\\noch som förenämnde köpeskilling blifvit till\\nfullo erlagd och liqviderad, varder densamma\\nhärigenom qvitterad och afhända vi altså oss\\noch våra öfriga barn berörde 1/4 mantl. Wäsby,\\nmed allt hvad dertill härer, lydt och lagligen\\ntillvinnas kan och tillegne detsamma bemälde\\nvår son Per Jansson och hans tillkommande\\nhustru, till evärdeles ego och besittning\\nTill yttermera visso hafva vi detta köpebref\\nuti nedanskrifne vittnens närvaro undertecknat,\\nhvilket skedde uti Wäsby den 15 November\\n1850. Jan(bomärke) Mattsson hustru Maja (bomärke) Söderberg\\nAtt bonden Jan Mattson och dess hustru \\nMaja Söderberg, båda med sunt förstånd och af\\nfri vilja egenhändigt undertecknat sina bomärken,\\nintyga vi, på en gång närvarande vittnen. Wäsby\\nsom ofvan. Fredr. Sam. Limpler, arrendator af\\nWäsby boställe, Eric (bomärke) Ersson, Skattebonde\\nson i Läddby.'}\n",
      "Row added!\n"
     ]
    },
    {
     "name": "stderr",
     "output_type": "stream",
     "text": [
      "The attention mask and the pad token id were not set. As a consequence, you may observe unexpected behavior. Please pass your input's `attention_mask` to obtain reliable results.\n",
      "Setting `pad_token_id` to `eos_token_id`:2 for open-end generation.\n"
     ]
    },
    {
     "name": "stdout",
     "output_type": "stream",
     "text": [
      "\n",
      "{'Säljare': {'Name': 'Pehr Jakobsson, Johan Andersson, Stina Pehrsdotter, Per Andersson (foster father)', 'Role': \"Förmyndare (guardian) for the deceased farmer Jacob Jacobsson's underage daughters Margreta Anna, Catharina and Brita Jakobsdotter, and for Stina Pehrsdotter, the widow of the deceased farmer Jakob Jakobsson\"}, 'Köpare': {'Name': 'Jakob Jakobsson', 'Role': 'Buyer'}, 'Property': {'Type': '1/4 mantal No 1 in Svina Harbo Socken Wåhla Härad and Vistmanslan', 'Size': '1 öre 4 penningeland'}, 'Sale Date': '1853-02-18', 'Auction Date': '1852-01-02', 'Price': {'Currency': 'Riksdaler Banco', 'Amount': '800'}, 'Witnesses': ['Pehr Jakobsson i Järlebo', 'Jan Andersson, husband of Cristina Jakobsdotter', 'Stina Pehrsdotter, widow of Jakob Jakobsson', 'Per Andersson i Wästby Bälinge Sn, foster father', 'Matts Mattsson i Ökne', 'Erik Ols- son i Jerlebo', 'Jan Jönsson i Stuna Bälinge', 'Pehr Olofsson i Svina'], 'text': 'Genom detta öppna köpebref försäljer undertecknad\\ni egenskap af Förmyndare för aflidne Bonden Jacob\\nJacobsson i Svina omyndige Döttrar Margreta Anna\\nCatharina och Brita Jakobsdöttrar deras fäderne\\narfjord 10 2/3 penninge samt jag Pehr Jakobsson\\noch jag Johan Andersson gift med dottren Cristina\\nJacobsdotter i Belinge Socken och Lytta samt Ja¬\\nkob Jakobssons fäderne arfjord Hvardera egande\\n2 2/3 penningeland Hus och jord, eller tillsammans\\n18 2/3 penninge samt jag Stina Pehrsdotter Enka\\nefter aflidne Bonden Jakob Jakobsson mina egan¬\\nde 9 1/3 dels penningeland, eller Tillsammans 1 öre 4 penningeland som enlikt Wåhla¬\\nVälloflige Härads Rätts Beslut af den 27 Januari\\n1851 och upskattning och värdering den 8 Augusti\\nsamma år blifvit värkställd, samt genom å-\\ngången kungörelse i Herades kyrkan till auction den 2dra\\nJanuari 1852, kunickt och vätterligt att som min\\nson samt vår Bror och svåger Bondesonen Jakob\\nJakobsson vid auktions tillfälles gorde högsta an¬\\nbudet med Åttahundrade Riksdaler Banco samt\\ntill mig som Enka efter afl Jakob Jakobsson för\\nmina egande 9 1/3 penningeland utfästadde en¬\\nlikt Contract Lifstidsfördel och som vi denna kö-\\npeskilling efter våra andelar upburit och anam-\\nmat hafver, hvadan den och hermed qvitterad\\nvarder altså afhända vi oss all rätt och rättighet\\nuti bemälte 1/4 mantal No 1 i Svina Harbo Socken\\nWåhla Härad och Vistmanslan och tillegne det¬\\nsamma Jakob Jakobsson all detsamma Ego\\noch besitta som annan sin velfånga egendom\\nmed allt hvad till denna hemmansdel hörer\\naf ålderlydt och legat samt sedan efter med lag till¬\\n[saknas i bild] \\nFastebref förskaff; Hafvande vi till ytterme-\\nra visso detta Köpebref uti tillkallade Wittnens närvaro med våra nman och bomärkens undersättande bekräftat i Harbo den 18 Februari 1853. Pehr (bom) Jakobsson i Järlebo Jan (bom) An-\\ndersson Hustru Cristina (bom) Jakobsdotter\\nJakob (bom) Jakobsson Enkan Stina (bom) Pehrsdotter. Per Andersson i Wästby Bälinge Sn förmyndare\\nTill vittnes Matts (bom) Mattsson i Ökne Erik Ols-\\nson i Jerlebo Jan Jönsson i Stuna Bälinge vittnes Pehr (bom) Olofsson i Svina.'}\n",
      "Row added!\n"
     ]
    },
    {
     "name": "stderr",
     "output_type": "stream",
     "text": [
      "The attention mask and the pad token id were not set. As a consequence, you may observe unexpected behavior. Please pass your input's `attention_mask` to obtain reliable results.\n",
      "Setting `pad_token_id` to `eos_token_id`:2 for open-end generation.\n"
     ]
    },
    {
     "name": "stdout",
     "output_type": "stream",
     "text": [
      "\n",
      "{'År-månad-dag': '1853-06-17', 'Län': 'Nora', 'Härad': 'förene med Wagnsbro', 'Socken': 'Stalbo', 'By': 'uti förene meda By', 'Jordnatur': 'Krono skatte hemmanet', 'Nummer': '2', 'Mantal': '1/12', 'Örestal': '', 'Penningland': '12 8/12 dels', 'Riksdaler': '666', 'Öre': '32', 'Skilling': '', 'Runstycken': '', 'Valuta': 'Banko', 'Säljare-manliga': 'Anders Ersson', 'Säljare-kvinnliga': '', 'Köpare-manliga': 'Eric Ersson', 'Köpare-kvinnliga': 'Anna Ersdotter', 'Köpare-yrke': '', 'Relation mellan säljare och köpare': '', 'Köpare från': '', 'Fördel': '', 'Auktion': '', 'text': 'Jag Anders Ersson uti Stalbo Nora sn. uplåtter och för\\nSellger mitt Egande 1/12 dels mantall om 12 8/12 dels pennin¬\\ngeland uti Krono skatte hemmanet No 2 uti förennemda\\nBy, ått Bonden Eric Ersson å hans hustru Anna Ers-\\nsdoter i Berörde Stalbo för en öfverenskommen köppe\\nskilling 666 Riksdaler 32 skl Banko och som jag\\nDen första penningen med den sista till fullo nöije an-\\nnammat hafver för den Skuld, så afhender jag mig all Ret\\noch Retig het  uti förenämde 1/12 dels mantal uti\\nföre nemde by uti allt hvad Som dertill Lyder hus och\\nmark och allt hvad som sedan efter Till winnas kan\\noch Till ytermera visso så till Låter jag Eric Ersson\\natt detta köppe bref vid Wåhla wl. Lofl herad\\nRet upwisa och laga fasta der på erhålla utan mitt¬\\nvid Darer hörande, som skedde uti Stalbo den 17 Juni 1853.\\nAnders Ersson Säljare.\\nWittnar Anders Ersson Lars Ersson I Westbo Hede-\\nSunda.'}\n",
      "Row added!\n"
     ]
    },
    {
     "name": "stderr",
     "output_type": "stream",
     "text": [
      "The attention mask and the pad token id were not set. As a consequence, you may observe unexpected behavior. Please pass your input's `attention_mask` to obtain reliable results.\n",
      "Setting `pad_token_id` to `eos_token_id`:2 for open-end generation.\n"
     ]
    },
    {
     "name": "stdout",
     "output_type": "stream",
     "text": [
      "\n",
      "{'År-månad-dag': '1852-10-10', 'Län': 'Wesmanlands', 'Härad': 'Wåla', 'Socken': 'Wåhla', 'By': 'Bjurwalla', 'Jordnatur': 'Krono skatte', 'Nummer': '3', 'Mantal': '5 3/25', 'Örestal': '', 'Penningland': '', 'Riksdaler': '350', 'Öre': '', 'Skilling': '', 'Runstycken': '', 'Valuta': 'Riksgälds Sedlar', 'Säljare-manliga': 'Eric Olsson', 'Säljare-kvinnliga': 'Brita Ersdotters', 'Köpare-manliga': 'Olof Ersson', 'Köpare-kvinnliga': 'Anna Persdotter', 'Köpare-yrke': '', 'Relation mellan säljare och köpare': 'Bror och svägerska', 'Köpare från': 'Bjurwalla', 'Fördel': '', 'Auktion': '', 'text': 'Köpebref\\nMed Sunt förnuft af fri vilja och moget\\nbetänkande uplåter och försäljer jag Erik Olsson med\\nmin kära hustru Brita Ersdotters goda ja och samtyc-\\nke våre ägande i arf tillfallna fem (5 3/25)te dels pen-\\ningelad i krono skatte No 3 Bjurwalla till wår broder\\noch Svägerska Bonden Olof Ersson och dess hustru Anna\\nPersdotter i Bjurwalla för en betingad och till fullo\\nupburen köpeskilling stor Trehundrade femtio (350)\\nRiksdaler Riksgälds Sedlar och som vi denna köpe¬\\nskilling till fullo bekommit hvadan den och qvitterad\\nvarder; alltså afhända vi oss och våra arfvingar all Rätt\\noch rättighet till berörde 5 3/25 dels penningeland Bjur¬\\nwalla beläget i Wåhla Socken och Wåla Härad i Wes¬\\nmanlands Län och det samma med allt hvad dertill hö¬\\nrer af ålder lytt och Lagligen tillwinnas kan tilleg¬\\nnar bemälte Olof Ersson och dess hustru Anna Persdot¬\\nter i Bjurvalla samt deras arfvingar att genast till-\\nträda och ewerdeligen besitta såsom sin wälfång-\\nna egendom, förbindande vi oss till Hemul efter\\nLag och hafva vi till yttermera vissa häraf detta kö¬\\npebref i till kallade vittnens närwaro uprätta\\nlåtit som skedde i Bjurwalla den 10 Oktober\\n1852 Eric (bom) Olsson Hustru Brita (bom) Ersdo-\\nter i Bjurwalla säljare\\nWittnar Olof Larson och Anders Olsson bege i\\nBjurwall.'}\n",
      "Row added!\n"
     ]
    },
    {
     "name": "stderr",
     "output_type": "stream",
     "text": [
      "The attention mask and the pad token id were not set. As a consequence, you may observe unexpected behavior. Please pass your input's `attention_mask` to obtain reliable results.\n",
      "Setting `pad_token_id` to `eos_token_id`:2 for open-end generation.\n"
     ]
    },
    {
     "name": "stdout",
     "output_type": "stream",
     "text": [
      "\n",
      "{'Köpare-manliga': 'Anders Mattsson', 'Köpare-kvinnliga': 'Brita Larsdotter', 'Köpare-yrke': '', 'Fördel': 'lifstids fördel', 'År-månad-dag': '1853-08-07', 'Län': 'Westmanlands', 'Härad': 'Wåla', 'Socken': 'Nora', 'By': 'Kjerstinbo', 'Jordnatur': 'kronoskatte', 'Nummer': '1/4', 'Mantal': '', 'Örestal': '', 'Penningland': '1 öres och 12 penningeland', 'Riksdaler': '2666', 'Öre': '32', 'Skilling': '', 'Runstycken': '', 'Valuta': 'Banko', 'Säljare-manliga': 'Matts Persson', 'Säljare-kvinnliga': 'Lisa Jönsdotter', 'Köpare från': '', 'text': 'Köpe Bref\\nTill vår kära Son Anders Mattsson och dess blifvan-\\nde hustru Brita Larsdotter i Kjerstinbo, uplåta och\\nförsälja vi härigenom vårt ägande 1/4 Mantal kronoskatte\\nom 1 öres och 12 penningeland uti Kjerstinbo, Nora Soc-\\nken Wåla Härad och Westmanlands län beläget, för en \\nöfverenskommen och betingad köpeskilling af Twå\\ntusen Sexhundra Sextiosex Riksdaler och 32 sk Banko samt\\nutfäst lifstids fördel; och som vi denna köpeskilliing\\ntillfullo upburit, hwilken härmedelst qwitterar, så\\nafhända wi oss och wåra arfwingar berörde 1/4 dels Man-\\ntal i Kjerstinbo med allt hwad dertill hörer, af ålder\\nlydt och lagligen tillwinnas kan och tillegna deetsamma \\nbemälte Anders Mattsson dess blifwande hustru Brita\\nLarsdotter, att den 14 nästkommande mars tillträda samt\\newärdeligen äga och besitta, hafwande wi till ytterme-\\nra wisso häraf, detta köpe-bref uti nedanstående witt-\\nnens närwaro egenhändigt underskrifwit som skedde i\\nKjerstingbo den 7 Augusti 1853\\nMatts (bom) Persson Lisa (bom) Jönsdotter\\nAtt Matts persson och hustru Lisa Jonsdotter egen-\\nhändigt undertecknadt sina bomärken wittna\\nGustaf Ålander i Torp Jan Jansson i Kjerstinbo.”'}\n",
      "Row added!\n",
      "\n",
      "{'År-månad-dag': '1850-12-14', 'Län': 'Westmanland', 'Härad': 'Wåla', 'Socken': 'Bjurwalla', 'By': '', 'Jordnatur': 'Skatte Hemmanet', 'Nummer': '3', 'Mantal': '', 'Örestal': '', 'Penningland': '55/189', 'Riksdaler': '280', 'Öre': '', 'Skilling': '', 'Runstycken': '', 'Valuta': 'Riksgälds Sedlar', 'Säljare-manliga': 'Anders Pehrsson', 'Säljare-kvinnliga': '', 'Köpare-manliga': 'Bondef Gustaf Persson', 'Köpare-kvinnliga': '', 'Köpare-yrke': '', 'Relation mellan säljare och köpare': 'Bröder', 'Köpare från': '', 'Fördel': '', 'Auktion': '', 'text': 'Köpebref\\nGenom detta öppna köpebref uplåter och för¬\\nsäljer Jag Anders Pehrsson till min Broder Bon¬\\nden Gustaf Persson det mig i arf tillfallne Fem\\noch femtiofem Etthundra åttionio-\\nde /5/ 55/ 189 dels penningelande krono skatte\\nHemmanet No 3 Bjurvwlla belägne i Wå¬\\nla Härad och Socken Westmanland län emot\\nen överenskommen och till fullo upburen\\nköpeskilling stor tvåhundrade åttatio /280/\\nRiksdaler Riksgälds Sedlar och som jag denna\\nköpeskilling tillfullo bekommit hafva\\naltså afhänder jag mig och mina arfvingar\\ni berörde 5 55/189 dels penningeland af No 3 Bjur¬\\nwalla med alt hvad dertill hörer af ålder lydt\\noch lagligen tillvinnas kan och tillegne\\ndesamma mera nämnde min broder Gu¬\\nstaf Persson och dess arfvingar att genast till¬\\nträda samt everldeligen ega och besitta haf¬\\nvande till yttermera visso häraf vi detta köpebref\\noch Solo bref uti nedanstående vittnens öfverva\\nro egenhändigt undertecknadt som skedde\\nBjurwalla den 14 December 1850.\\nVittnar\\nAnders (bom) Persson säljare \\nPetter Persson  Gustaf (bom) Persson köpare'}\n",
      "Row added!\n"
     ]
    }
   ],
   "source": [
    "\n",
    "# Initialize a list to collect data\n",
    "extracted_data = []\n",
    "\n",
    "# Loop through each text in the DataFrame\n",
    "for text in df['Text']:\n",
    "    # Construct the multi-turn prompt\n",
    "    #multi_turn_prompt = f\"GPT4 Correct System: {system_prompt}<|end_of_turn|>GPT4 Correct User: {prompt1}<|end_of_turn|>GPT4 Correct Assistant: {response1}<|end_of_turn|>GPT4 Correct User: {prompt2}<|end_of_turn|>GPT4 Correct Assistant: {response2}<|end_of_turn|>GPT4 Correct User: {prompt3}<|end_of_turn|>GPT4 Correct Assistant: {response3}<|end_of_turn|>GPT4 Correct User: {prompt4}<|end_of_turn|>GPT4 Correct Assistant:{response4}<|end_of_turn|>GPT4 Correct User: {text}<|end_of_turn|>GPT4 Correct Assistant:\"\n",
    "    messages = [\n",
    "    {\n",
    "        \"role\": \"user\",\n",
    "        \"content\": system_prompt,\n",
    "    },\n",
    "    {\n",
    "        \"role\": \"assistant\",\n",
    "        \"content\": sys_response1,\n",
    "    },\n",
    "    {\"role\": \"user\", \"content\": pre_prompt+prompt2},\n",
    "    {\n",
    "        \"role\": \"assistant\",\n",
    "        \"content\": response2,\n",
    "    },\n",
    "    {\"role\": \"user\", \"content\": pre_prompt+prompt3},\n",
    "    {\n",
    "        \"role\": \"assistant\",\n",
    "        \"content\": response3,\n",
    "    },\n",
    "    {\"role\": \"user\", \"content\": pre_prompt+prompt4},\n",
    "    {\n",
    "        \"role\": \"assistant\",\n",
    "        \"content\": response4,\n",
    "    },\n",
    "    {\n",
    "        \"role\": \"user\",\n",
    "        \"content\": pre_prompt+text,\n",
    "    },\n",
    "    \n",
    "    ]\n",
    "    prompt=tokenizer.apply_chat_template(messages, tokenize=False)\n",
    "    # Generate the response\n",
    "    response_text = generate_response(prompt, temp=0.2, top_p=0.2)\n",
    "    print()\n",
    "    \n",
    "    #print('{'+response_text.split('}')[-2].split('{')[-1]+'}')\n",
    "    \n",
    "    # Parse JSON and add to the list\n",
    "    try:\n",
    "        # Extract JSON from the response\n",
    "        #json_data = json.loads('{'+response_text.split('}')[-2].split('{')[-1]+'}')\n",
    "        json_data = parse_nested_json(response_text)\n",
    "        json_data['text'] = text\n",
    "        print(json_data)\n",
    "        extracted_data.append(json_data)\n",
    "        print('Row added!')\n",
    "    except json.JSONDecodeError:\n",
    "        json_data['text'] = text\n",
    "        extracted_data.append(json_data)\n",
    "        print(\"Error parsing JSON for response: \", response_text)\n",
    "\n",
    "# Create a DataFrame from the collected data\n",
    "df_extracted_lowtp_mix_np = pd.DataFrame(extracted_data)\n",
    "\n",
    "\n",
    "# Create a DataFrame from the collected data\n",
    "df_extracted_lowtp_mix_np = pd.DataFrame(extracted_data)\n",
    "df_extracted_lowtp_mix_np.to_csv('df_extracted_lowtp_mix_np.csv')\n",
    "df_extracted_lowtp_mix_np.to_excel('df_extracted_lowtp_mix_np.xlsx')\n"
   ]
  },
  {
   "cell_type": "code",
   "execution_count": 33,
   "id": "79a66427",
   "metadata": {},
   "outputs": [
    {
     "data": {
      "text/html": [
       "<div>\n",
       "<style scoped>\n",
       "    .dataframe tbody tr th:only-of-type {\n",
       "        vertical-align: middle;\n",
       "    }\n",
       "\n",
       "    .dataframe tbody tr th {\n",
       "        vertical-align: top;\n",
       "    }\n",
       "\n",
       "    .dataframe thead th {\n",
       "        text-align: right;\n",
       "    }\n",
       "</style>\n",
       "<table border=\"1\" class=\"dataframe\">\n",
       "  <thead>\n",
       "    <tr style=\"text-align: right;\">\n",
       "      <th></th>\n",
       "      <th>År-månad-dag</th>\n",
       "      <th>Län</th>\n",
       "      <th>Härad</th>\n",
       "      <th>Socken</th>\n",
       "      <th>By</th>\n",
       "      <th>Jordnatur</th>\n",
       "      <th>Nummer</th>\n",
       "      <th>Mantal</th>\n",
       "      <th>Örestal</th>\n",
       "      <th>Penningland</th>\n",
       "      <th>...</th>\n",
       "      <th>Övrigt</th>\n",
       "      <th>Vittnen</th>\n",
       "      <th>Övrig</th>\n",
       "      <th>Auctionsförrättare</th>\n",
       "      <th>Auctionplats</th>\n",
       "      <th>Auctiondatum</th>\n",
       "      <th>Sale Date</th>\n",
       "      <th>Auction Date</th>\n",
       "      <th>Price</th>\n",
       "      <th>Witnesses</th>\n",
       "    </tr>\n",
       "  </thead>\n",
       "  <tbody>\n",
       "    <tr>\n",
       "      <th>0</th>\n",
       "      <td>1860-11-17</td>\n",
       "      <td>Westmanland</td>\n",
       "      <td>Wagnsbro</td>\n",
       "      <td>Wester färnebo</td>\n",
       "      <td>Sör åll</td>\n",
       "      <td>Hemmanet</td>\n",
       "      <td>2</td>\n",
       "      <td>1/6</td>\n",
       "      <td>1</td>\n",
       "      <td>8</td>\n",
       "      <td>...</td>\n",
       "      <td>NaN</td>\n",
       "      <td>NaN</td>\n",
       "      <td>NaN</td>\n",
       "      <td>NaN</td>\n",
       "      <td>NaN</td>\n",
       "      <td>NaN</td>\n",
       "      <td>NaN</td>\n",
       "      <td>NaN</td>\n",
       "      <td>NaN</td>\n",
       "      <td>NaN</td>\n",
       "    </tr>\n",
       "    <tr>\n",
       "      <th>1</th>\n",
       "      <td>NaN</td>\n",
       "      <td>NaN</td>\n",
       "      <td>NaN</td>\n",
       "      <td>NaN</td>\n",
       "      <td>NaN</td>\n",
       "      <td>NaN</td>\n",
       "      <td>NaN</td>\n",
       "      <td>NaN</td>\n",
       "      <td>NaN</td>\n",
       "      <td>NaN</td>\n",
       "      <td>...</td>\n",
       "      <td></td>\n",
       "      <td>[{'Name': 'J G Hild', 'Övrigt': 'E Borin'}]</td>\n",
       "      <td>NaN</td>\n",
       "      <td>NaN</td>\n",
       "      <td>NaN</td>\n",
       "      <td>NaN</td>\n",
       "      <td>NaN</td>\n",
       "      <td>NaN</td>\n",
       "      <td>NaN</td>\n",
       "      <td>NaN</td>\n",
       "    </tr>\n",
       "    <tr>\n",
       "      <th>2</th>\n",
       "      <td>1861-01-02</td>\n",
       "      <td>Westmanlands</td>\n",
       "      <td>Wagnsbro</td>\n",
       "      <td>Wester färnebo</td>\n",
       "      <td>Heden</td>\n",
       "      <td>skatte</td>\n",
       "      <td></td>\n",
       "      <td>1/8</td>\n",
       "      <td>1</td>\n",
       "      <td>1</td>\n",
       "      <td>...</td>\n",
       "      <td>NaN</td>\n",
       "      <td>NaN</td>\n",
       "      <td>Säljare försäljer 1/8 mantal skatte Heden och ...</td>\n",
       "      <td>NaN</td>\n",
       "      <td>NaN</td>\n",
       "      <td>NaN</td>\n",
       "      <td>NaN</td>\n",
       "      <td>NaN</td>\n",
       "      <td>NaN</td>\n",
       "      <td>NaN</td>\n",
       "    </tr>\n",
       "    <tr>\n",
       "      <th>3</th>\n",
       "      <td>1861-01-19</td>\n",
       "      <td>Västmanlands</td>\n",
       "      <td>Wagnsbro</td>\n",
       "      <td>Karbennings</td>\n",
       "      <td>Klingholmen</td>\n",
       "      <td>Hemman</td>\n",
       "      <td>1/32</td>\n",
       "      <td></td>\n",
       "      <td></td>\n",
       "      <td></td>\n",
       "      <td>...</td>\n",
       "      <td>NaN</td>\n",
       "      <td>NaN</td>\n",
       "      <td>NaN</td>\n",
       "      <td>NaN</td>\n",
       "      <td>NaN</td>\n",
       "      <td>NaN</td>\n",
       "      <td>NaN</td>\n",
       "      <td>NaN</td>\n",
       "      <td>NaN</td>\n",
       "      <td>NaN</td>\n",
       "    </tr>\n",
       "    <tr>\n",
       "      <th>4</th>\n",
       "      <td>1861-01-16</td>\n",
       "      <td>Westmanlands</td>\n",
       "      <td>Wagnsbro</td>\n",
       "      <td>Wester färnebo</td>\n",
       "      <td>Norr Sahlbo</td>\n",
       "      <td>Kronoskattehemmanet</td>\n",
       "      <td>4</td>\n",
       "      <td>1/24</td>\n",
       "      <td></td>\n",
       "      <td>8</td>\n",
       "      <td>...</td>\n",
       "      <td>NaN</td>\n",
       "      <td>NaN</td>\n",
       "      <td>NaN</td>\n",
       "      <td>NaN</td>\n",
       "      <td>NaN</td>\n",
       "      <td>NaN</td>\n",
       "      <td>NaN</td>\n",
       "      <td>NaN</td>\n",
       "      <td>NaN</td>\n",
       "      <td>NaN</td>\n",
       "    </tr>\n",
       "  </tbody>\n",
       "</table>\n",
       "<p>5 rows × 40 columns</p>\n",
       "</div>"
      ],
      "text/plain": [
       "  År-månad-dag           Län     Härad          Socken           By  \\\n",
       "0   1860-11-17   Westmanland  Wagnsbro  Wester färnebo      Sör åll   \n",
       "1          NaN           NaN       NaN             NaN          NaN   \n",
       "2   1861-01-02  Westmanlands  Wagnsbro  Wester färnebo        Heden   \n",
       "3   1861-01-19  Västmanlands  Wagnsbro     Karbennings  Klingholmen   \n",
       "4   1861-01-16  Westmanlands  Wagnsbro  Wester färnebo  Norr Sahlbo   \n",
       "\n",
       "             Jordnatur Nummer Mantal Örestal Penningland  ... Övrigt  \\\n",
       "0             Hemmanet      2    1/6       1           8  ...    NaN   \n",
       "1                  NaN    NaN    NaN     NaN         NaN  ...          \n",
       "2               skatte           1/8       1           1  ...    NaN   \n",
       "3               Hemman   1/32                             ...    NaN   \n",
       "4  Kronoskattehemmanet      4   1/24                   8  ...    NaN   \n",
       "\n",
       "                                       Vittnen  \\\n",
       "0                                          NaN   \n",
       "1  [{'Name': 'J G Hild', 'Övrigt': 'E Borin'}]   \n",
       "2                                          NaN   \n",
       "3                                          NaN   \n",
       "4                                          NaN   \n",
       "\n",
       "                                               Övrig Auctionsförrättare  \\\n",
       "0                                                NaN                NaN   \n",
       "1                                                NaN                NaN   \n",
       "2  Säljare försäljer 1/8 mantal skatte Heden och ...                NaN   \n",
       "3                                                NaN                NaN   \n",
       "4                                                NaN                NaN   \n",
       "\n",
       "  Auctionplats Auctiondatum Sale Date Auction Date Price Witnesses  \n",
       "0          NaN          NaN       NaN          NaN   NaN       NaN  \n",
       "1          NaN          NaN       NaN          NaN   NaN       NaN  \n",
       "2          NaN          NaN       NaN          NaN   NaN       NaN  \n",
       "3          NaN          NaN       NaN          NaN   NaN       NaN  \n",
       "4          NaN          NaN       NaN          NaN   NaN       NaN  \n",
       "\n",
       "[5 rows x 40 columns]"
      ]
     },
     "execution_count": 33,
     "metadata": {},
     "output_type": "execute_result"
    }
   ],
   "source": [
    "df_extracted_lowtp_mix_np.head()"
   ]
  },
  {
   "cell_type": "code",
   "execution_count": 73,
   "id": "7deabb68",
   "metadata": {},
   "outputs": [],
   "source": [
    "messages = [\n",
    "    {\n",
    "        \"role\": \"user\",\n",
    "        \"content\": system_prompt,\n",
    "    },\n",
    "    {\n",
    "        \"role\": \"assistant\",\n",
    "        \"content\": sys_response1,\n",
    "    },\n",
    "    {\"role\": \"user\", \"content\": pre_prompt+prompt2},\n",
    "    {\n",
    "        \"role\": \"assistant\",\n",
    "        \"content\": response2,\n",
    "    },\n",
    "    {\"role\": \"user\", \"content\": pre_prompt+prompt3},\n",
    "    {\n",
    "        \"role\": \"assistant\",\n",
    "        \"content\": response3,\n",
    "    },\n",
    "    {\"role\": \"user\", \"content\": pre_prompt+prompt4},\n",
    "    {\n",
    "        \"role\": \"assistant\",\n",
    "        \"content\": response4,\n",
    "    },\n",
    "    {\n",
    "        \"role\": \"user\",\n",
    "        \"content\": pre_prompt+text,\n",
    "    },\n",
    "    \n",
    "]\n",
    "prompt=tokenizer.apply_chat_template(messages, tokenize=False)"
   ]
  },
  {
   "cell_type": "code",
   "execution_count": 34,
   "id": "6970be92",
   "metadata": {},
   "outputs": [
    {
     "data": {
      "text/html": [
       "<div>\n",
       "<style scoped>\n",
       "    .dataframe tbody tr th:only-of-type {\n",
       "        vertical-align: middle;\n",
       "    }\n",
       "\n",
       "    .dataframe tbody tr th {\n",
       "        vertical-align: top;\n",
       "    }\n",
       "\n",
       "    .dataframe thead th {\n",
       "        text-align: right;\n",
       "    }\n",
       "</style>\n",
       "<table border=\"1\" class=\"dataframe\">\n",
       "  <thead>\n",
       "    <tr style=\"text-align: right;\">\n",
       "      <th></th>\n",
       "      <th>År-månad-dag</th>\n",
       "      <th>Län</th>\n",
       "      <th>Härad</th>\n",
       "      <th>Socken</th>\n",
       "      <th>By</th>\n",
       "      <th>Jordnatur</th>\n",
       "      <th>Nummer</th>\n",
       "      <th>Mantal</th>\n",
       "      <th>Örestal</th>\n",
       "      <th>Penningland</th>\n",
       "      <th>...</th>\n",
       "      <th>Valuta</th>\n",
       "      <th>Säljare-manliga</th>\n",
       "      <th>Säljare-kvinnliga</th>\n",
       "      <th>Köpare-manliga</th>\n",
       "      <th>Köpare-kvinnliga</th>\n",
       "      <th>Köpare-yrke</th>\n",
       "      <th>Relation mellan säljare och köpare</th>\n",
       "      <th>Köpare från</th>\n",
       "      <th>Fördel</th>\n",
       "      <th>Auktion</th>\n",
       "    </tr>\n",
       "  </thead>\n",
       "  <tbody>\n",
       "  </tbody>\n",
       "</table>\n",
       "<p>0 rows × 24 columns</p>\n",
       "</div>"
      ],
      "text/plain": [
       "Empty DataFrame\n",
       "Columns: [År-månad-dag, Län, Härad, Socken, By, Jordnatur, Nummer, Mantal, Örestal, Penningland, Riksdaler, Öre, Skilling, Runstycken, Valuta, Säljare-manliga, Säljare-kvinnliga, Köpare-manliga, Köpare-kvinnliga, Köpare-yrke, Relation mellan säljare och köpare, Köpare från, Fördel, Auktion]\n",
       "Index: []\n",
       "\n",
       "[0 rows x 24 columns]"
      ]
     },
     "execution_count": 34,
     "metadata": {},
     "output_type": "execute_result"
    }
   ],
   "source": [
    "df_extracted_lowthp_mix_np = pd.DataFrame(columns=df_cols)\n",
    "df_extracted_lowthp_mix_np"
   ]
  },
  {
   "cell_type": "code",
   "execution_count": 35,
   "id": "4d01f938",
   "metadata": {},
   "outputs": [
    {
     "name": "stderr",
     "output_type": "stream",
     "text": [
      "The attention mask and the pad token id were not set. As a consequence, you may observe unexpected behavior. Please pass your input's `attention_mask` to obtain reliable results.\n",
      "Setting `pad_token_id` to `eos_token_id`:2 for open-end generation.\n",
      "The attention mask and the pad token id were not set. As a consequence, you may observe unexpected behavior. Please pass your input's `attention_mask` to obtain reliable results.\n",
      "Setting `pad_token_id` to `eos_token_id`:2 for open-end generation.\n"
     ]
    },
    {
     "name": "stdout",
     "output_type": "stream",
     "text": [
      "Row added!\n"
     ]
    },
    {
     "name": "stderr",
     "output_type": "stream",
     "text": [
      "The attention mask and the pad token id were not set. As a consequence, you may observe unexpected behavior. Please pass your input's `attention_mask` to obtain reliable results.\n",
      "Setting `pad_token_id` to `eos_token_id`:2 for open-end generation.\n"
     ]
    },
    {
     "name": "stdout",
     "output_type": "stream",
     "text": [
      "Row added!\n"
     ]
    },
    {
     "name": "stderr",
     "output_type": "stream",
     "text": [
      "The attention mask and the pad token id were not set. As a consequence, you may observe unexpected behavior. Please pass your input's `attention_mask` to obtain reliable results.\n",
      "Setting `pad_token_id` to `eos_token_id`:2 for open-end generation.\n"
     ]
    },
    {
     "name": "stdout",
     "output_type": "stream",
     "text": [
      "Row added!\n"
     ]
    },
    {
     "name": "stderr",
     "output_type": "stream",
     "text": [
      "The attention mask and the pad token id were not set. As a consequence, you may observe unexpected behavior. Please pass your input's `attention_mask` to obtain reliable results.\n",
      "Setting `pad_token_id` to `eos_token_id`:2 for open-end generation.\n"
     ]
    },
    {
     "name": "stdout",
     "output_type": "stream",
     "text": [
      "Row added!\n"
     ]
    },
    {
     "name": "stderr",
     "output_type": "stream",
     "text": [
      "The attention mask and the pad token id were not set. As a consequence, you may observe unexpected behavior. Please pass your input's `attention_mask` to obtain reliable results.\n",
      "Setting `pad_token_id` to `eos_token_id`:2 for open-end generation.\n"
     ]
    },
    {
     "name": "stdout",
     "output_type": "stream",
     "text": [
      "Row added!\n"
     ]
    },
    {
     "name": "stderr",
     "output_type": "stream",
     "text": [
      "The attention mask and the pad token id were not set. As a consequence, you may observe unexpected behavior. Please pass your input's `attention_mask` to obtain reliable results.\n",
      "Setting `pad_token_id` to `eos_token_id`:2 for open-end generation.\n"
     ]
    },
    {
     "name": "stdout",
     "output_type": "stream",
     "text": [
      "Row added!\n"
     ]
    },
    {
     "name": "stderr",
     "output_type": "stream",
     "text": [
      "The attention mask and the pad token id were not set. As a consequence, you may observe unexpected behavior. Please pass your input's `attention_mask` to obtain reliable results.\n",
      "Setting `pad_token_id` to `eos_token_id`:2 for open-end generation.\n"
     ]
    },
    {
     "name": "stdout",
     "output_type": "stream",
     "text": [
      "Row added!\n"
     ]
    },
    {
     "name": "stderr",
     "output_type": "stream",
     "text": [
      "The attention mask and the pad token id were not set. As a consequence, you may observe unexpected behavior. Please pass your input's `attention_mask` to obtain reliable results.\n",
      "Setting `pad_token_id` to `eos_token_id`:2 for open-end generation.\n"
     ]
    },
    {
     "name": "stdout",
     "output_type": "stream",
     "text": [
      "Row added!\n"
     ]
    },
    {
     "name": "stderr",
     "output_type": "stream",
     "text": [
      "The attention mask and the pad token id were not set. As a consequence, you may observe unexpected behavior. Please pass your input's `attention_mask` to obtain reliable results.\n",
      "Setting `pad_token_id` to `eos_token_id`:2 for open-end generation.\n"
     ]
    },
    {
     "name": "stdout",
     "output_type": "stream",
     "text": [
      "Row added!\n"
     ]
    },
    {
     "name": "stderr",
     "output_type": "stream",
     "text": [
      "The attention mask and the pad token id were not set. As a consequence, you may observe unexpected behavior. Please pass your input's `attention_mask` to obtain reliable results.\n",
      "Setting `pad_token_id` to `eos_token_id`:2 for open-end generation.\n"
     ]
    },
    {
     "name": "stdout",
     "output_type": "stream",
     "text": [
      "Row added!\n"
     ]
    },
    {
     "name": "stderr",
     "output_type": "stream",
     "text": [
      "The attention mask and the pad token id were not set. As a consequence, you may observe unexpected behavior. Please pass your input's `attention_mask` to obtain reliable results.\n",
      "Setting `pad_token_id` to `eos_token_id`:2 for open-end generation.\n"
     ]
    },
    {
     "name": "stdout",
     "output_type": "stream",
     "text": [
      "Row added!\n"
     ]
    },
    {
     "name": "stderr",
     "output_type": "stream",
     "text": [
      "The attention mask and the pad token id were not set. As a consequence, you may observe unexpected behavior. Please pass your input's `attention_mask` to obtain reliable results.\n",
      "Setting `pad_token_id` to `eos_token_id`:2 for open-end generation.\n"
     ]
    },
    {
     "name": "stdout",
     "output_type": "stream",
     "text": [
      "Row added!\n"
     ]
    },
    {
     "name": "stderr",
     "output_type": "stream",
     "text": [
      "The attention mask and the pad token id were not set. As a consequence, you may observe unexpected behavior. Please pass your input's `attention_mask` to obtain reliable results.\n",
      "Setting `pad_token_id` to `eos_token_id`:2 for open-end generation.\n"
     ]
    },
    {
     "name": "stdout",
     "output_type": "stream",
     "text": [
      "Row added!\n"
     ]
    },
    {
     "name": "stderr",
     "output_type": "stream",
     "text": [
      "The attention mask and the pad token id were not set. As a consequence, you may observe unexpected behavior. Please pass your input's `attention_mask` to obtain reliable results.\n",
      "Setting `pad_token_id` to `eos_token_id`:2 for open-end generation.\n"
     ]
    },
    {
     "name": "stdout",
     "output_type": "stream",
     "text": [
      "Row added!\n"
     ]
    },
    {
     "name": "stderr",
     "output_type": "stream",
     "text": [
      "The attention mask and the pad token id were not set. As a consequence, you may observe unexpected behavior. Please pass your input's `attention_mask` to obtain reliable results.\n",
      "Setting `pad_token_id` to `eos_token_id`:2 for open-end generation.\n"
     ]
    },
    {
     "name": "stdout",
     "output_type": "stream",
     "text": [
      "Row added!\n"
     ]
    },
    {
     "name": "stderr",
     "output_type": "stream",
     "text": [
      "The attention mask and the pad token id were not set. As a consequence, you may observe unexpected behavior. Please pass your input's `attention_mask` to obtain reliable results.\n",
      "Setting `pad_token_id` to `eos_token_id`:2 for open-end generation.\n"
     ]
    },
    {
     "name": "stdout",
     "output_type": "stream",
     "text": [
      "Row added!\n"
     ]
    },
    {
     "name": "stderr",
     "output_type": "stream",
     "text": [
      "The attention mask and the pad token id were not set. As a consequence, you may observe unexpected behavior. Please pass your input's `attention_mask` to obtain reliable results.\n",
      "Setting `pad_token_id` to `eos_token_id`:2 for open-end generation.\n"
     ]
    },
    {
     "name": "stdout",
     "output_type": "stream",
     "text": [
      "Row added!\n"
     ]
    },
    {
     "name": "stderr",
     "output_type": "stream",
     "text": [
      "The attention mask and the pad token id were not set. As a consequence, you may observe unexpected behavior. Please pass your input's `attention_mask` to obtain reliable results.\n",
      "Setting `pad_token_id` to `eos_token_id`:2 for open-end generation.\n"
     ]
    },
    {
     "name": "stdout",
     "output_type": "stream",
     "text": [
      "Row added!\n"
     ]
    },
    {
     "name": "stderr",
     "output_type": "stream",
     "text": [
      "The attention mask and the pad token id were not set. As a consequence, you may observe unexpected behavior. Please pass your input's `attention_mask` to obtain reliable results.\n",
      "Setting `pad_token_id` to `eos_token_id`:2 for open-end generation.\n"
     ]
    },
    {
     "name": "stdout",
     "output_type": "stream",
     "text": [
      "Row added!\n"
     ]
    },
    {
     "name": "stderr",
     "output_type": "stream",
     "text": [
      "The attention mask and the pad token id were not set. As a consequence, you may observe unexpected behavior. Please pass your input's `attention_mask` to obtain reliable results.\n",
      "Setting `pad_token_id` to `eos_token_id`:2 for open-end generation.\n"
     ]
    },
    {
     "name": "stdout",
     "output_type": "stream",
     "text": [
      "Row added!\n"
     ]
    },
    {
     "name": "stderr",
     "output_type": "stream",
     "text": [
      "The attention mask and the pad token id were not set. As a consequence, you may observe unexpected behavior. Please pass your input's `attention_mask` to obtain reliable results.\n",
      "Setting `pad_token_id` to `eos_token_id`:2 for open-end generation.\n"
     ]
    },
    {
     "name": "stdout",
     "output_type": "stream",
     "text": [
      "Row added!\n"
     ]
    },
    {
     "name": "stderr",
     "output_type": "stream",
     "text": [
      "The attention mask and the pad token id were not set. As a consequence, you may observe unexpected behavior. Please pass your input's `attention_mask` to obtain reliable results.\n",
      "Setting `pad_token_id` to `eos_token_id`:2 for open-end generation.\n"
     ]
    },
    {
     "name": "stdout",
     "output_type": "stream",
     "text": [
      "Row added!\n"
     ]
    },
    {
     "name": "stderr",
     "output_type": "stream",
     "text": [
      "The attention mask and the pad token id were not set. As a consequence, you may observe unexpected behavior. Please pass your input's `attention_mask` to obtain reliable results.\n",
      "Setting `pad_token_id` to `eos_token_id`:2 for open-end generation.\n"
     ]
    },
    {
     "name": "stdout",
     "output_type": "stream",
     "text": [
      "Row added!\n"
     ]
    },
    {
     "name": "stderr",
     "output_type": "stream",
     "text": [
      "The attention mask and the pad token id were not set. As a consequence, you may observe unexpected behavior. Please pass your input's `attention_mask` to obtain reliable results.\n",
      "Setting `pad_token_id` to `eos_token_id`:2 for open-end generation.\n"
     ]
    },
    {
     "name": "stdout",
     "output_type": "stream",
     "text": [
      "Row added!\n"
     ]
    },
    {
     "name": "stderr",
     "output_type": "stream",
     "text": [
      "The attention mask and the pad token id were not set. As a consequence, you may observe unexpected behavior. Please pass your input's `attention_mask` to obtain reliable results.\n",
      "Setting `pad_token_id` to `eos_token_id`:2 for open-end generation.\n"
     ]
    },
    {
     "name": "stdout",
     "output_type": "stream",
     "text": [
      "Row added!\n"
     ]
    },
    {
     "name": "stderr",
     "output_type": "stream",
     "text": [
      "The attention mask and the pad token id were not set. As a consequence, you may observe unexpected behavior. Please pass your input's `attention_mask` to obtain reliable results.\n",
      "Setting `pad_token_id` to `eos_token_id`:2 for open-end generation.\n"
     ]
    },
    {
     "name": "stdout",
     "output_type": "stream",
     "text": [
      "Row added!\n"
     ]
    },
    {
     "name": "stderr",
     "output_type": "stream",
     "text": [
      "The attention mask and the pad token id were not set. As a consequence, you may observe unexpected behavior. Please pass your input's `attention_mask` to obtain reliable results.\n",
      "Setting `pad_token_id` to `eos_token_id`:2 for open-end generation.\n"
     ]
    },
    {
     "name": "stdout",
     "output_type": "stream",
     "text": [
      "Row added!\n"
     ]
    },
    {
     "name": "stderr",
     "output_type": "stream",
     "text": [
      "The attention mask and the pad token id were not set. As a consequence, you may observe unexpected behavior. Please pass your input's `attention_mask` to obtain reliable results.\n",
      "Setting `pad_token_id` to `eos_token_id`:2 for open-end generation.\n"
     ]
    },
    {
     "name": "stdout",
     "output_type": "stream",
     "text": [
      "Row added!\n"
     ]
    },
    {
     "name": "stderr",
     "output_type": "stream",
     "text": [
      "The attention mask and the pad token id were not set. As a consequence, you may observe unexpected behavior. Please pass your input's `attention_mask` to obtain reliable results.\n",
      "Setting `pad_token_id` to `eos_token_id`:2 for open-end generation.\n"
     ]
    },
    {
     "name": "stdout",
     "output_type": "stream",
     "text": [
      "Row added!\n"
     ]
    },
    {
     "name": "stderr",
     "output_type": "stream",
     "text": [
      "The attention mask and the pad token id were not set. As a consequence, you may observe unexpected behavior. Please pass your input's `attention_mask` to obtain reliable results.\n",
      "Setting `pad_token_id` to `eos_token_id`:2 for open-end generation.\n"
     ]
    },
    {
     "name": "stdout",
     "output_type": "stream",
     "text": [
      "Row added!\n"
     ]
    },
    {
     "name": "stderr",
     "output_type": "stream",
     "text": [
      "The attention mask and the pad token id were not set. As a consequence, you may observe unexpected behavior. Please pass your input's `attention_mask` to obtain reliable results.\n",
      "Setting `pad_token_id` to `eos_token_id`:2 for open-end generation.\n"
     ]
    },
    {
     "name": "stdout",
     "output_type": "stream",
     "text": [
      "Row added!\n"
     ]
    },
    {
     "name": "stderr",
     "output_type": "stream",
     "text": [
      "The attention mask and the pad token id were not set. As a consequence, you may observe unexpected behavior. Please pass your input's `attention_mask` to obtain reliable results.\n",
      "Setting `pad_token_id` to `eos_token_id`:2 for open-end generation.\n"
     ]
    },
    {
     "name": "stdout",
     "output_type": "stream",
     "text": [
      "Row added!\n"
     ]
    },
    {
     "name": "stderr",
     "output_type": "stream",
     "text": [
      "The attention mask and the pad token id were not set. As a consequence, you may observe unexpected behavior. Please pass your input's `attention_mask` to obtain reliable results.\n",
      "Setting `pad_token_id` to `eos_token_id`:2 for open-end generation.\n"
     ]
    },
    {
     "name": "stdout",
     "output_type": "stream",
     "text": [
      "Row added!\n"
     ]
    },
    {
     "name": "stderr",
     "output_type": "stream",
     "text": [
      "The attention mask and the pad token id were not set. As a consequence, you may observe unexpected behavior. Please pass your input's `attention_mask` to obtain reliable results.\n",
      "Setting `pad_token_id` to `eos_token_id`:2 for open-end generation.\n"
     ]
    },
    {
     "name": "stdout",
     "output_type": "stream",
     "text": [
      "Row added!\n"
     ]
    },
    {
     "name": "stderr",
     "output_type": "stream",
     "text": [
      "The attention mask and the pad token id were not set. As a consequence, you may observe unexpected behavior. Please pass your input's `attention_mask` to obtain reliable results.\n",
      "Setting `pad_token_id` to `eos_token_id`:2 for open-end generation.\n"
     ]
    },
    {
     "name": "stdout",
     "output_type": "stream",
     "text": [
      "Row added!\n"
     ]
    },
    {
     "name": "stderr",
     "output_type": "stream",
     "text": [
      "The attention mask and the pad token id were not set. As a consequence, you may observe unexpected behavior. Please pass your input's `attention_mask` to obtain reliable results.\n",
      "Setting `pad_token_id` to `eos_token_id`:2 for open-end generation.\n"
     ]
    },
    {
     "name": "stdout",
     "output_type": "stream",
     "text": [
      "Row added!\n"
     ]
    },
    {
     "name": "stderr",
     "output_type": "stream",
     "text": [
      "The attention mask and the pad token id were not set. As a consequence, you may observe unexpected behavior. Please pass your input's `attention_mask` to obtain reliable results.\n",
      "Setting `pad_token_id` to `eos_token_id`:2 for open-end generation.\n"
     ]
    },
    {
     "name": "stdout",
     "output_type": "stream",
     "text": [
      "Row added!\n"
     ]
    },
    {
     "name": "stderr",
     "output_type": "stream",
     "text": [
      "The attention mask and the pad token id were not set. As a consequence, you may observe unexpected behavior. Please pass your input's `attention_mask` to obtain reliable results.\n",
      "Setting `pad_token_id` to `eos_token_id`:2 for open-end generation.\n"
     ]
    },
    {
     "name": "stdout",
     "output_type": "stream",
     "text": [
      "Row added!\n"
     ]
    },
    {
     "name": "stderr",
     "output_type": "stream",
     "text": [
      "The attention mask and the pad token id were not set. As a consequence, you may observe unexpected behavior. Please pass your input's `attention_mask` to obtain reliable results.\n",
      "Setting `pad_token_id` to `eos_token_id`:2 for open-end generation.\n"
     ]
    },
    {
     "name": "stdout",
     "output_type": "stream",
     "text": [
      "Row added!\n"
     ]
    },
    {
     "name": "stderr",
     "output_type": "stream",
     "text": [
      "The attention mask and the pad token id were not set. As a consequence, you may observe unexpected behavior. Please pass your input's `attention_mask` to obtain reliable results.\n",
      "Setting `pad_token_id` to `eos_token_id`:2 for open-end generation.\n"
     ]
    },
    {
     "name": "stdout",
     "output_type": "stream",
     "text": [
      "Row added!\n"
     ]
    },
    {
     "name": "stderr",
     "output_type": "stream",
     "text": [
      "The attention mask and the pad token id were not set. As a consequence, you may observe unexpected behavior. Please pass your input's `attention_mask` to obtain reliable results.\n",
      "Setting `pad_token_id` to `eos_token_id`:2 for open-end generation.\n"
     ]
    },
    {
     "name": "stdout",
     "output_type": "stream",
     "text": [
      "Row added!\n"
     ]
    },
    {
     "name": "stderr",
     "output_type": "stream",
     "text": [
      "The attention mask and the pad token id were not set. As a consequence, you may observe unexpected behavior. Please pass your input's `attention_mask` to obtain reliable results.\n",
      "Setting `pad_token_id` to `eos_token_id`:2 for open-end generation.\n"
     ]
    },
    {
     "name": "stdout",
     "output_type": "stream",
     "text": [
      "Row added!\n"
     ]
    },
    {
     "name": "stderr",
     "output_type": "stream",
     "text": [
      "The attention mask and the pad token id were not set. As a consequence, you may observe unexpected behavior. Please pass your input's `attention_mask` to obtain reliable results.\n",
      "Setting `pad_token_id` to `eos_token_id`:2 for open-end generation.\n"
     ]
    },
    {
     "name": "stdout",
     "output_type": "stream",
     "text": [
      "Row added!\n"
     ]
    },
    {
     "name": "stderr",
     "output_type": "stream",
     "text": [
      "The attention mask and the pad token id were not set. As a consequence, you may observe unexpected behavior. Please pass your input's `attention_mask` to obtain reliable results.\n",
      "Setting `pad_token_id` to `eos_token_id`:2 for open-end generation.\n"
     ]
    },
    {
     "name": "stdout",
     "output_type": "stream",
     "text": [
      "Row added!\n"
     ]
    },
    {
     "name": "stderr",
     "output_type": "stream",
     "text": [
      "The attention mask and the pad token id were not set. As a consequence, you may observe unexpected behavior. Please pass your input's `attention_mask` to obtain reliable results.\n",
      "Setting `pad_token_id` to `eos_token_id`:2 for open-end generation.\n"
     ]
    },
    {
     "name": "stdout",
     "output_type": "stream",
     "text": [
      "Row added!\n"
     ]
    },
    {
     "name": "stderr",
     "output_type": "stream",
     "text": [
      "The attention mask and the pad token id were not set. As a consequence, you may observe unexpected behavior. Please pass your input's `attention_mask` to obtain reliable results.\n",
      "Setting `pad_token_id` to `eos_token_id`:2 for open-end generation.\n"
     ]
    },
    {
     "name": "stdout",
     "output_type": "stream",
     "text": [
      "Row added!\n"
     ]
    },
    {
     "name": "stderr",
     "output_type": "stream",
     "text": [
      "The attention mask and the pad token id were not set. As a consequence, you may observe unexpected behavior. Please pass your input's `attention_mask` to obtain reliable results.\n",
      "Setting `pad_token_id` to `eos_token_id`:2 for open-end generation.\n"
     ]
    },
    {
     "name": "stdout",
     "output_type": "stream",
     "text": [
      "Row added!\n"
     ]
    },
    {
     "name": "stderr",
     "output_type": "stream",
     "text": [
      "The attention mask and the pad token id were not set. As a consequence, you may observe unexpected behavior. Please pass your input's `attention_mask` to obtain reliable results.\n",
      "Setting `pad_token_id` to `eos_token_id`:2 for open-end generation.\n"
     ]
    },
    {
     "name": "stdout",
     "output_type": "stream",
     "text": [
      "Row added!\n"
     ]
    },
    {
     "name": "stderr",
     "output_type": "stream",
     "text": [
      "The attention mask and the pad token id were not set. As a consequence, you may observe unexpected behavior. Please pass your input's `attention_mask` to obtain reliable results.\n",
      "Setting `pad_token_id` to `eos_token_id`:2 for open-end generation.\n"
     ]
    },
    {
     "name": "stdout",
     "output_type": "stream",
     "text": [
      "Row added!\n"
     ]
    },
    {
     "name": "stderr",
     "output_type": "stream",
     "text": [
      "The attention mask and the pad token id were not set. As a consequence, you may observe unexpected behavior. Please pass your input's `attention_mask` to obtain reliable results.\n",
      "Setting `pad_token_id` to `eos_token_id`:2 for open-end generation.\n"
     ]
    },
    {
     "name": "stdout",
     "output_type": "stream",
     "text": [
      "Row added!\n"
     ]
    },
    {
     "name": "stderr",
     "output_type": "stream",
     "text": [
      "The attention mask and the pad token id were not set. As a consequence, you may observe unexpected behavior. Please pass your input's `attention_mask` to obtain reliable results.\n",
      "Setting `pad_token_id` to `eos_token_id`:2 for open-end generation.\n"
     ]
    },
    {
     "name": "stdout",
     "output_type": "stream",
     "text": [
      "Row added!\n",
      "Row added!\n"
     ]
    }
   ],
   "source": [
    "\n",
    "# Initialize a list to collect data\n",
    "extracted_data = []\n",
    "\n",
    "# Loop through each text in the DataFrame\n",
    "for text in df['Text']:\n",
    "    # Construct the multi-turn prompt\n",
    "    #multi_turn_prompt = f\"GPT4 Correct System: {system_prompt}<|end_of_turn|>GPT4 Correct User: {prompt1}<|end_of_turn|>GPT4 Correct Assistant: {response1}<|end_of_turn|>GPT4 Correct User: {prompt2}<|end_of_turn|>GPT4 Correct Assistant: {response2}<|end_of_turn|>GPT4 Correct User: {prompt3}<|end_of_turn|>GPT4 Correct Assistant: {response3}<|end_of_turn|>GPT4 Correct User: {prompt4}<|end_of_turn|>GPT4 Correct Assistant:{response4}<|end_of_turn|>GPT4 Correct User: {text}<|end_of_turn|>GPT4 Correct Assistant:\"\n",
    "    messages = [\n",
    "    {\n",
    "        \"role\": \"user\",\n",
    "        \"content\": system_prompt,\n",
    "    },\n",
    "    {\n",
    "        \"role\": \"assistant\",\n",
    "        \"content\": sys_response1,\n",
    "    },\n",
    "    {\"role\": \"user\", \"content\": pre_prompt+prompt2},\n",
    "    {\n",
    "        \"role\": \"assistant\",\n",
    "        \"content\": response2,\n",
    "    },\n",
    "    {\"role\": \"user\", \"content\": pre_prompt+prompt3},\n",
    "    {\n",
    "        \"role\": \"assistant\",\n",
    "        \"content\": response3,\n",
    "    },\n",
    "    {\"role\": \"user\", \"content\": pre_prompt+prompt4},\n",
    "    {\n",
    "        \"role\": \"assistant\",\n",
    "        \"content\": response4,\n",
    "    },\n",
    "    {\n",
    "        \"role\": \"user\",\n",
    "        \"content\": pre_prompt+text,\n",
    "    },\n",
    "    \n",
    "    ]\n",
    "    prompt=tokenizer.apply_chat_template(messages, tokenize=False)\n",
    "    # Generate the response\n",
    "    response_text = generate_response(prompt, temp=0.2, top_p=0.9)\n",
    "    \n",
    "    \n",
    "    #print('{'+response_text.split('}')[-2].split('{')[-1]+'}')\n",
    "    \n",
    "    # Parse JSON and add to the list\n",
    "    try:\n",
    "        # Extract JSON from the response\n",
    "        #json_data = json.loads('{'+response_text.split('}')[-2].split('{')[-1]+'}')\n",
    "        json_data = parse_nested_json(response_text)\n",
    "        json_data['text'] = text\n",
    "        extracted_data.append(json_data)\n",
    "        print('Row added!')\n",
    "    except json.JSONDecodeError:\n",
    "        json_data['text'] = text\n",
    "        extracted_data.append(json_data)\n",
    "        print(\"Error parsing JSON for response: \", response_text)\n",
    "\n",
    "# Create a DataFrame from the collected data\n",
    "df_extracted_lowthp_mix_np = pd.DataFrame(extracted_data)\n",
    "\n",
    "\n",
    "\n",
    "\n",
    "\n",
    "# Create a DataFrame from the collected data\n",
    "df_extracted_lowthp_mix_np = pd.DataFrame(extracted_data)\n",
    "df_extracted_lowthp_mix_np.to_csv('df_extracted_lowthp_mix_np.csv')\n",
    "df_extracted_lowthp_mix_np.to_excel('df_extracted_lowthp_mix_np.xlsx')\n"
   ]
  },
  {
   "cell_type": "code",
   "execution_count": 36,
   "id": "749a74fb",
   "metadata": {},
   "outputs": [
    {
     "data": {
      "text/html": [
       "<div>\n",
       "<style scoped>\n",
       "    .dataframe tbody tr th:only-of-type {\n",
       "        vertical-align: middle;\n",
       "    }\n",
       "\n",
       "    .dataframe tbody tr th {\n",
       "        vertical-align: top;\n",
       "    }\n",
       "\n",
       "    .dataframe thead th {\n",
       "        text-align: right;\n",
       "    }\n",
       "</style>\n",
       "<table border=\"1\" class=\"dataframe\">\n",
       "  <thead>\n",
       "    <tr style=\"text-align: right;\">\n",
       "      <th></th>\n",
       "      <th>År-månad-dag</th>\n",
       "      <th>Län</th>\n",
       "      <th>Härad</th>\n",
       "      <th>Socken</th>\n",
       "      <th>By</th>\n",
       "      <th>Jordnatur</th>\n",
       "      <th>Nummer</th>\n",
       "      <th>Mantal</th>\n",
       "      <th>Örestal</th>\n",
       "      <th>Penningland</th>\n",
       "      <th>...</th>\n",
       "      <th>Valuta</th>\n",
       "      <th>Säljare-manliga</th>\n",
       "      <th>Säljare-kvinnliga</th>\n",
       "      <th>Köpare-manliga</th>\n",
       "      <th>Köpare-kvinnliga</th>\n",
       "      <th>Köpare-yrke</th>\n",
       "      <th>Relation mellan säljare och köpare</th>\n",
       "      <th>Köpare från</th>\n",
       "      <th>Fördel</th>\n",
       "      <th>Auktion</th>\n",
       "    </tr>\n",
       "  </thead>\n",
       "  <tbody>\n",
       "  </tbody>\n",
       "</table>\n",
       "<p>0 rows × 24 columns</p>\n",
       "</div>"
      ],
      "text/plain": [
       "Empty DataFrame\n",
       "Columns: [År-månad-dag, Län, Härad, Socken, By, Jordnatur, Nummer, Mantal, Örestal, Penningland, Riksdaler, Öre, Skilling, Runstycken, Valuta, Säljare-manliga, Säljare-kvinnliga, Köpare-manliga, Köpare-kvinnliga, Köpare-yrke, Relation mellan säljare och köpare, Köpare från, Fördel, Auktion]\n",
       "Index: []\n",
       "\n",
       "[0 rows x 24 columns]"
      ]
     },
     "execution_count": 36,
     "metadata": {},
     "output_type": "execute_result"
    }
   ],
   "source": [
    "df_extracted_hightp_mix_np = pd.DataFrame(columns=df_cols)\n",
    "df_extracted_hightp_mix_np"
   ]
  },
  {
   "cell_type": "code",
   "execution_count": 38,
   "id": "5ac45bc9",
   "metadata": {
    "scrolled": true
   },
   "outputs": [
    {
     "name": "stderr",
     "output_type": "stream",
     "text": [
      "The attention mask and the pad token id were not set. As a consequence, you may observe unexpected behavior. Please pass your input's `attention_mask` to obtain reliable results.\n",
      "Setting `pad_token_id` to `eos_token_id`:2 for open-end generation.\n",
      "The attention mask and the pad token id were not set. As a consequence, you may observe unexpected behavior. Please pass your input's `attention_mask` to obtain reliable results.\n",
      "Setting `pad_token_id` to `eos_token_id`:2 for open-end generation.\n"
     ]
    },
    {
     "name": "stdout",
     "output_type": "stream",
     "text": [
      "Row added!\n"
     ]
    },
    {
     "name": "stderr",
     "output_type": "stream",
     "text": [
      "The attention mask and the pad token id were not set. As a consequence, you may observe unexpected behavior. Please pass your input's `attention_mask` to obtain reliable results.\n",
      "Setting `pad_token_id` to `eos_token_id`:2 for open-end generation.\n"
     ]
    },
    {
     "name": "stdout",
     "output_type": "stream",
     "text": [
      "Row added!\n"
     ]
    },
    {
     "name": "stderr",
     "output_type": "stream",
     "text": [
      "The attention mask and the pad token id were not set. As a consequence, you may observe unexpected behavior. Please pass your input's `attention_mask` to obtain reliable results.\n",
      "Setting `pad_token_id` to `eos_token_id`:2 for open-end generation.\n"
     ]
    },
    {
     "name": "stdout",
     "output_type": "stream",
     "text": [
      "Row added!\n"
     ]
    },
    {
     "name": "stderr",
     "output_type": "stream",
     "text": [
      "The attention mask and the pad token id were not set. As a consequence, you may observe unexpected behavior. Please pass your input's `attention_mask` to obtain reliable results.\n",
      "Setting `pad_token_id` to `eos_token_id`:2 for open-end generation.\n"
     ]
    },
    {
     "name": "stdout",
     "output_type": "stream",
     "text": [
      "Row added!\n"
     ]
    },
    {
     "name": "stderr",
     "output_type": "stream",
     "text": [
      "The attention mask and the pad token id were not set. As a consequence, you may observe unexpected behavior. Please pass your input's `attention_mask` to obtain reliable results.\n",
      "Setting `pad_token_id` to `eos_token_id`:2 for open-end generation.\n"
     ]
    },
    {
     "name": "stdout",
     "output_type": "stream",
     "text": [
      "Row added!\n"
     ]
    },
    {
     "name": "stderr",
     "output_type": "stream",
     "text": [
      "The attention mask and the pad token id were not set. As a consequence, you may observe unexpected behavior. Please pass your input's `attention_mask` to obtain reliable results.\n",
      "Setting `pad_token_id` to `eos_token_id`:2 for open-end generation.\n"
     ]
    },
    {
     "name": "stdout",
     "output_type": "stream",
     "text": [
      "Row added!\n"
     ]
    },
    {
     "name": "stderr",
     "output_type": "stream",
     "text": [
      "The attention mask and the pad token id were not set. As a consequence, you may observe unexpected behavior. Please pass your input's `attention_mask` to obtain reliable results.\n",
      "Setting `pad_token_id` to `eos_token_id`:2 for open-end generation.\n"
     ]
    },
    {
     "name": "stdout",
     "output_type": "stream",
     "text": [
      "Row added!\n"
     ]
    },
    {
     "name": "stderr",
     "output_type": "stream",
     "text": [
      "The attention mask and the pad token id were not set. As a consequence, you may observe unexpected behavior. Please pass your input's `attention_mask` to obtain reliable results.\n",
      "Setting `pad_token_id` to `eos_token_id`:2 for open-end generation.\n"
     ]
    },
    {
     "name": "stdout",
     "output_type": "stream",
     "text": [
      "Row added!\n"
     ]
    },
    {
     "name": "stderr",
     "output_type": "stream",
     "text": [
      "The attention mask and the pad token id were not set. As a consequence, you may observe unexpected behavior. Please pass your input's `attention_mask` to obtain reliable results.\n",
      "Setting `pad_token_id` to `eos_token_id`:2 for open-end generation.\n"
     ]
    },
    {
     "name": "stdout",
     "output_type": "stream",
     "text": [
      "Row added!\n"
     ]
    },
    {
     "name": "stderr",
     "output_type": "stream",
     "text": [
      "The attention mask and the pad token id were not set. As a consequence, you may observe unexpected behavior. Please pass your input's `attention_mask` to obtain reliable results.\n",
      "Setting `pad_token_id` to `eos_token_id`:2 for open-end generation.\n"
     ]
    },
    {
     "name": "stdout",
     "output_type": "stream",
     "text": [
      "Row added!\n"
     ]
    },
    {
     "name": "stderr",
     "output_type": "stream",
     "text": [
      "The attention mask and the pad token id were not set. As a consequence, you may observe unexpected behavior. Please pass your input's `attention_mask` to obtain reliable results.\n",
      "Setting `pad_token_id` to `eos_token_id`:2 for open-end generation.\n"
     ]
    },
    {
     "name": "stdout",
     "output_type": "stream",
     "text": [
      "Row added!\n"
     ]
    },
    {
     "name": "stderr",
     "output_type": "stream",
     "text": [
      "The attention mask and the pad token id were not set. As a consequence, you may observe unexpected behavior. Please pass your input's `attention_mask` to obtain reliable results.\n",
      "Setting `pad_token_id` to `eos_token_id`:2 for open-end generation.\n"
     ]
    },
    {
     "name": "stdout",
     "output_type": "stream",
     "text": [
      "Row added!\n"
     ]
    },
    {
     "name": "stderr",
     "output_type": "stream",
     "text": [
      "The attention mask and the pad token id were not set. As a consequence, you may observe unexpected behavior. Please pass your input's `attention_mask` to obtain reliable results.\n",
      "Setting `pad_token_id` to `eos_token_id`:2 for open-end generation.\n"
     ]
    },
    {
     "name": "stdout",
     "output_type": "stream",
     "text": [
      "Row added!\n"
     ]
    },
    {
     "name": "stderr",
     "output_type": "stream",
     "text": [
      "The attention mask and the pad token id were not set. As a consequence, you may observe unexpected behavior. Please pass your input's `attention_mask` to obtain reliable results.\n",
      "Setting `pad_token_id` to `eos_token_id`:2 for open-end generation.\n"
     ]
    },
    {
     "name": "stdout",
     "output_type": "stream",
     "text": [
      "Row added!\n"
     ]
    },
    {
     "name": "stderr",
     "output_type": "stream",
     "text": [
      "The attention mask and the pad token id were not set. As a consequence, you may observe unexpected behavior. Please pass your input's `attention_mask` to obtain reliable results.\n",
      "Setting `pad_token_id` to `eos_token_id`:2 for open-end generation.\n"
     ]
    },
    {
     "name": "stdout",
     "output_type": "stream",
     "text": [
      "Row added!\n"
     ]
    },
    {
     "name": "stderr",
     "output_type": "stream",
     "text": [
      "The attention mask and the pad token id were not set. As a consequence, you may observe unexpected behavior. Please pass your input's `attention_mask` to obtain reliable results.\n",
      "Setting `pad_token_id` to `eos_token_id`:2 for open-end generation.\n"
     ]
    },
    {
     "name": "stdout",
     "output_type": "stream",
     "text": [
      "Row added!\n"
     ]
    },
    {
     "name": "stderr",
     "output_type": "stream",
     "text": [
      "The attention mask and the pad token id were not set. As a consequence, you may observe unexpected behavior. Please pass your input's `attention_mask` to obtain reliable results.\n",
      "Setting `pad_token_id` to `eos_token_id`:2 for open-end generation.\n"
     ]
    },
    {
     "name": "stdout",
     "output_type": "stream",
     "text": [
      "Row added!\n"
     ]
    },
    {
     "ename": "TypeError",
     "evalue": "'str' object does not support item assignment",
     "output_type": "error",
     "traceback": [
      "\u001b[0;31m---------------------------------------------------------------------------\u001b[0m",
      "\u001b[0;31mTypeError\u001b[0m                                 Traceback (most recent call last)",
      "Cell \u001b[0;32mIn[38], line 50\u001b[0m\n\u001b[1;32m     46\u001b[0m \u001b[38;5;28;01mtry\u001b[39;00m:\n\u001b[1;32m     47\u001b[0m     \u001b[38;5;66;03m# Extract JSON from the response\u001b[39;00m\n\u001b[1;32m     48\u001b[0m     \u001b[38;5;66;03m#json_data = json.loads('{'+response_text.split('}')[-2].split('{')[-1]+'}')\u001b[39;00m\n\u001b[1;32m     49\u001b[0m     json_data \u001b[38;5;241m=\u001b[39m parse_nested_json(response_text)\n\u001b[0;32m---> 50\u001b[0m     json_data[\u001b[38;5;124m'\u001b[39m\u001b[38;5;124mtext\u001b[39m\u001b[38;5;124m'\u001b[39m] \u001b[38;5;241m=\u001b[39m text\n\u001b[1;32m     51\u001b[0m     extracted_data\u001b[38;5;241m.\u001b[39mappend(json_data)\n\u001b[1;32m     52\u001b[0m     \u001b[38;5;28mprint\u001b[39m(\u001b[38;5;124m'\u001b[39m\u001b[38;5;124mRow added!\u001b[39m\u001b[38;5;124m'\u001b[39m)\n",
      "\u001b[0;31mTypeError\u001b[0m: 'str' object does not support item assignment"
     ]
    }
   ],
   "source": [
    "\n",
    "# Initialize a list to collect data\n",
    "extracted_data = []\n",
    "\n",
    "# Loop through each text in the DataFrame\n",
    "for text in df['Text']:\n",
    "    # Construct the multi-turn prompt\n",
    "    #multi_turn_prompt = f\"GPT4 Correct System: {system_prompt}<|end_of_turn|>GPT4 Correct User: {prompt1}<|end_of_turn|>GPT4 Correct Assistant: {response1}<|end_of_turn|>GPT4 Correct User: {prompt2}<|end_of_turn|>GPT4 Correct Assistant: {response2}<|end_of_turn|>GPT4 Correct User: {prompt3}<|end_of_turn|>GPT4 Correct Assistant: {response3}<|end_of_turn|>GPT4 Correct User: {prompt4}<|end_of_turn|>GPT4 Correct Assistant:{response4}<|end_of_turn|>GPT4 Correct User: {text}<|end_of_turn|>GPT4 Correct Assistant:\"\n",
    "    messages = [\n",
    "    {\n",
    "        \"role\": \"user\",\n",
    "        \"content\": system_prompt,\n",
    "    },\n",
    "    {\n",
    "        \"role\": \"assistant\",\n",
    "        \"content\": sys_response1,\n",
    "    },\n",
    "    {\"role\": \"user\", \"content\": pre_prompt+prompt2},\n",
    "    {\n",
    "        \"role\": \"assistant\",\n",
    "        \"content\": response2,\n",
    "    },\n",
    "    {\"role\": \"user\", \"content\": pre_prompt+prompt3},\n",
    "    {\n",
    "        \"role\": \"assistant\",\n",
    "        \"content\": response3,\n",
    "    },\n",
    "    {\"role\": \"user\", \"content\": pre_prompt+prompt4},\n",
    "    {\n",
    "        \"role\": \"assistant\",\n",
    "        \"content\": response4,\n",
    "    },\n",
    "    {\n",
    "        \"role\": \"user\",\n",
    "        \"content\": pre_prompt+text,\n",
    "    },\n",
    "    \n",
    "    ]\n",
    "    prompt=tokenizer.apply_chat_template(messages, tokenize=False)\n",
    "    # Generate the response\n",
    "    response_text = generate_response(prompt, temp=0.8, top_p=0.85)\n",
    "    \n",
    "    \n",
    "    #print('{'+response_text.split('}')[-2].split('{')[-1]+'}')\n",
    "    \n",
    "    # Parse JSON and add to the list\n",
    "    try:\n",
    "        # Extract JSON from the response\n",
    "        #json_data = json.loads('{'+response_text.split('}')[-2].split('{')[-1]+'}')\n",
    "        json_data = parse_nested_json(response_text)\n",
    "        json_data['text'] = text\n",
    "        extracted_data.append(json_data)\n",
    "        print('Row added!')\n",
    "    except json.JSONDecodeError:\n",
    "        json_data['text'] = text\n",
    "        extracted_data.append(json_data)\n",
    "        print(\"Error parsing JSON for response: \", response_text)\n",
    "\n",
    "# Create a DataFrame from the collected data\n",
    "df_extracted_hightp_mix_np = pd.DataFrame(extracted_data)\n",
    "\n",
    "\n",
    "\n",
    "\n",
    "\n",
    "\n",
    "# Create a DataFrame from the collected data\n",
    "df_extracted_hightp_mix_np = pd.DataFrame(extracted_data)\n",
    "df_extracted_hightp_mix_np.to_csv('df_extracted_hightp_mix_np.csv')\n",
    "df_extracted_hightp_mix_np.to_excel('df_extracted_hightp_mix_np.xlsx')\n"
   ]
  },
  {
   "cell_type": "code",
   "execution_count": 8,
   "id": "9223236a",
   "metadata": {},
   "outputs": [],
   "source": [
    "prompt1 = \"Hej!\"\n",
    "response1 = \"Hallå! Hur kan jag hjälpa dig med att exakt extrahera information från svensk text i JSON-format?\"\n",
    "prompt2 =  user_prompt\n",
    "response2 = \"\"\"{\n",
    "  \"År-månad-dag\": \"1860-11-17\",\n",
    "  \"Län\": \"Westmanland\",\n",
    "  \"Härad\": \"Wagnsbro\",\n",
    "  \"Socken\": \"Wester färnebo\",\n",
    "  \"By\": \"Sör åll\",\n",
    "  \"Jordnatur\": \"Hemmanet\",\n",
    "  \"Nummer\": \"2\",\n",
    "  \"Mantal\": \"1/6\",\n",
    "  \"Örestal\": \"1\",\n",
    "  \"Penningland\": \"8\",\n",
    "  \"Riksdaler\": \"1500\",\n",
    "  \"Öre\": \"\",\n",
    "  \"Skilling\": \"\",\n",
    "  \"Runstycken\": \"\",\n",
    "  \"Valuta\": \"Riksgels\",\n",
    "  \"Säljare-manliga\": \"Per Wrettström\",\n",
    "  \"Säljare-kvinnliga\": \"Anna Persdotter\",\n",
    "  \"Köpare-manliga\": \"Johan Hedström\",\n",
    "  \"Köpare-kvinnliga\": \"\",\n",
    "  \"Köpare-yrke\": \"\",\n",
    "  \"Relation mellan säljare och köpare\": \"Ej angiven\",\n",
    "  \"Köpare från\": \"\",\n",
    "  \"Fördel\": \"\",\n",
    "  \"Auktion\": \"\"\n",
    "}\"\"\"\n",
    "prompt3=\"\"\"Extrahera informationen för varje fält och presentera den tydligt i JSON-format. 'Jag Sara Jansdotter upplåter och försäljer härmedelst till min Son Hemmansägaren Johan Mattsson härstädes, det mig i arf efter min aflidne man Hemmansägaren Matts Jansson tillfallne två femton dels mantal af Skattehemmanet no 5, om Sexton penningeland i Islingsby Wester fernebo Socken, Wagnsbro Härad och Westmanlands Län belägen, emot en öfverenskommen och betingad Köpeskilling Stor: Sju Hundra Nio Riksdaler 33 öre Riksmynt, och som jag denna köpeskilling tillfullo bekommit, alltså afhänder jag mig och mina öfrige arfvingar berörde 2/15 dels mantal Islingsby, med allt hvad dertill hörer, af ålder lydt och lagligen tillvinnas kan, och tillegne den samma bemälde min Son Johan Mattsson och hans arfvingar, att genast tillträda, samt everldeliga äga och besitta hafvande till yttermera wisse häraf, jag detta köpebref uti nedanstående wittnens närvaro, med mitt bomärkes undertecknande bekräfta, som skedde i Islingsby Nybygget den 26 februari 1861 Sara/bom/Jansdotter wittnen underskrifna'\"\"\"\n",
    "response3=\"\"\"{\n",
    "  \"År-månad-dag\": \"1861-02-26\",\n",
    "  \"Län\": \"Westmanlands\",\n",
    "  \"Härad\": \"Wagnsbro\",\n",
    "  \"Socken\": \"Wester färnebo\",\n",
    "  \"By\": \"Islingsby\",\n",
    "  \"Jordnatur\": \"Skattehemmanet\",\n",
    "  \"Nummer\": \"5\",\n",
    "  \"Mantal\": \"2/15\",\n",
    "  \"Örestal\": \"\",\n",
    "  \"Penningland\": \"16\",\n",
    "  \"Riksdaler\": \"709\",\n",
    "  \"Öre\": \"33\",\n",
    "  \"Skilling\": \"\",\n",
    "  \"Runstycken\": \"\",\n",
    "  \"Valuta\": \"Riksmynt\",\n",
    "  \"Säljare-manliga\": \"Sara Jansdotter\",\n",
    "  \"Säljare-kvinnliga\": \"\",\n",
    "  \"Köpare-manliga\": \"Johan Mattsson\",\n",
    "  \"Köpare-kvinnliga\": \"\",\n",
    "  \"Köpare-yrke\": \"\",\n",
    "  \"Relation mellan säljare och köpare\": \"Mor och Son\",\n",
    "  \"Köpare från\": \"\",\n",
    "  \"Fördel\": \"\",\n",
    "  \"Auktion\": \"\"\n",
    "}\"\"\"\n",
    "prompt4=\"\"\"'Jag Eric Jansson gör hervid veterligt att jag med min kära hustru Anna Jansdotters goda ja och samtycke samt af fri vilja, försålt, såsom jag ock genom detta öppna salubref, försäljer till min Svärfar Hemmansegaren Jan Ersson och hustru Anna Jansdotter, egona 1/8 mtl skatte Heden om 1 öresland och 1/8 mtl skatte Skogsbyn om 1 öresland i Wester fernebo Socken och Wagnsbro härad för en Summa af Sjutusen femhundra /7500/ Riksdaler Riksmynt och som den … penningen med den första är till mig slutligen betald så afhändar jag mig, min köra hustru och barn tillhörde hemmansdelar 1/8 mlt Heden och 1/8 mtl Skogby med alla dess tillhörigheter och tillägnar de samma Jan Ersson och hustru Anna Jansdotter, Heden och arfvingar med hemmansdelar med alla ägor i hus, jord och öfrige tillhörigheter intet undantagandes af hvad dertill lyder af ålder legat eller framledes tillvinnas kan, att äga och bruka och besitta såsom deras välfångna egendom, förbindande till hemul efter lag – Till yttermera visshet har jag tillika med min kära hustru detta Salubref i undertecknande vittnens närvaro, egenhändigt underskrifvet som skedde på Heden den 2ra januari 1861. Eric Jansson (otydligt) och Heden. Anna /bom/ kattharina Jansdotter\n",
    "Jan Ersson Boende på Heden. Anders Mattsson Hebo egor'\"\"\"\n",
    "response4= \"\"\"{\n",
    "  \"År-månad-dag\": \"1861-01-02\",\n",
    "  \"Län\": \"Westmanlands\",\n",
    "  \"Härad\": \"Wagnsbro\",\n",
    "  \"Socken\": \"Wester färnebo\",\n",
    "  \"By\": \"Heden\",\n",
    "  \"Jordnatur\": \"Skatte\",\n",
    "  \"Nummer\": \"\",\n",
    "  \"Mantal\": \"1/8\",\n",
    "  \"Örestal\": \"1\",\n",
    "  \"Penningland\": \"\",\n",
    "  \"Riksdaler\": \"7500\",\n",
    "  \"Öre\": \"\",\n",
    "  \"Skilling\": \"\",\n",
    "  \"Runstycken\": \"\",\n",
    "  \"Valuta\": \"Riksmynt\",\n",
    "  \"Säljare-manliga\": \"Eric Jansson\",\n",
    "  \"Säljare-kvinnliga\": \"Anna Jansdotters\",\n",
    "  \"Köpare-manliga\": \"Jan Ersson\",\n",
    "  \"Köpare-kvinnliga\": \"Anna Jansdotter\",\n",
    "  \"Köpare-yrke\": \"\",\n",
    "  \"Relation mellan säljare och köpare\": \"Svärfar och Svärson\",\n",
    "  \"Köpare från\": \"\",\n",
    "  \"Fördel\": \"\",\n",
    "  \"Auktion\": \"\"\n",
    "}\"\"\"\n",
    "#prompt5=\"Jag Per Gustaf Hedberg tillika med min hustrus Christina Carolina Gerdtsdotter samtycke upplåter och försäljer till Per Gustaf Ersson och dess hustru Lovisa Ersdotter Klingholmen vårt uti Labodarne ägande Ett Trettiondetvånde dels Hemman med dertill hörande inägojord skog och mark beläget inom Karbennings Socken dock likväl Wagnsbro Härad emot en överenskommen och betingad köpeskilling stor Ett Tusen Två Hundrade Riksdaler Riksmynt, Och som denna köpeskilling 1200 Rd Rmt är uti ett särskildt köpekontrakt häröfver af denna dag upptagen så varder den derigenom här qvitterad. Alltså afhänder vi oss och våra efter-kommande berörde 1/32de dels Hemman med åtföljande förmoner samt alt hvad hädanefter lagligen tillvinnas kan till bemälte Per Gustaf Ersson dess hustru och efterkommande rätts innehafvare att everlderligen äga bruka och besitta, förbindande vi oss till Himmel efter lag hvadan vi uti tvenne tillkallade wittnens när och öfvervaro underskrifne som skedde uti Karbenningby den 19 januari 1861 Per Gustaf Hedberg Christina Carolina Gerdtsdotter i Karbenningby Wittnar Lars Eric Larsson Lars Starksson.\""
   ]
  },
  {
   "cell_type": "code",
   "execution_count": null,
   "id": "ce5deec9",
   "metadata": {},
   "outputs": [],
   "source": [
    "multi_turn_prompt = f\"GPT4 Correct System: {system_prompt}<|end_of_turn|>GPT4 Correct User: {prompt1}<|end_of_turn|>GPT4 Correct Assistant: {response1}<|end_of_turn|>GPT4 Correct User: {prompt2}<|end_of_turn|>GPT4 Correct Assistant: {response2}<|end_of_turn|>GPT4 Correct User: {prompt3}<|end_of_turn|>GPT4 Correct Assistant: {response3}<|end_of_turn|>GPT4 Correct User: {prompt4}<|end_of_turn|>GPT4 Correct Assistant:{response4}<|end_of_turn|>GPT4 Correct User: {prompt5}<|end_of_turn|>GPT4 Correct Assistant:\"\n",
    "response_text = generate_response(multi_turn_prompt, temp=0.2, top_p=0.1)\n",
    "print(\"Multi-turn conversation response:\", response_text)"
   ]
  },
  {
   "cell_type": "code",
   "execution_count": null,
   "id": "91b8c7ac",
   "metadata": {},
   "outputs": [],
   "source": [
    "# Initialize a list to collect data\n",
    "extracted_data = []\n",
    "\n",
    "# Loop through each text in the DataFrame\n",
    "for text in df['Text']:\n",
    "    text='Extrahera noggrant informationen för varje fält och presentera den tydligt i JSON-format. dubbelkolla noggrannheten för varje extraherat fält innan presentationen' + \"'''\"+text.strip()+\"'''\"\n",
    "    # Construct the multi-turn prompt\n",
    "    multi_turn_prompt = f\"GPT4 Correct System: {system_prompt}<|end_of_turn|>GPT4 Correct User: {prompt1}<|end_of_turn|>GPT4 Correct Assistant: {response1}<|end_of_turn|>GPT4 Correct User: {prompt2}<|end_of_turn|>GPT4 Correct Assistant: {response2}<|end_of_turn|>GPT4 Correct User: {prompt3}<|end_of_turn|>GPT4 Correct Assistant: {response3}<|end_of_turn|>GPT4 Correct User: {prompt4}<|end_of_turn|>GPT4 Correct Assistant:{response4}<|end_of_turn|>GPT4 Correct User: {text}<|end_of_turn|>GPT4 Correct Assistant:\"\n",
    "    #multi_turn_prompt = f\"GPT4 Correct System: {system_prompt}<|end_of_turn|>GPT4 Correct User: {prompt1}<|end_of_turn|>GPT4 Correct Assistant: {response1}<|end_of_turn|>GPT4 Correct User: {prompt2}<|end_of_turn|>GPT4 Correct Assistant: {response2}<|end_of_turn|>GPT4 Correct User: {prompt3}<|end_of_turn|>GPT4 Correct Assistant: {response3}<|end_of_turn|>GPT4 Correct User: {prompt4}<|end_of_turn|>GPT4 Correct Assistant:{response4}<|end_of_turn|>GPT4 Correct User: {prompt5}<|end_of_turn|>GPT4 Correct Assistant:\"\n",
    "\n",
    "    # Generate the response\n",
    "    response_text = generate_response(multi_turn_prompt, temp=0.8, top_p=0.85)\n",
    "    \n",
    "    # Parse JSON and add to the list\n",
    "    try:\n",
    "        # Extract JSON from the response\n",
    "        json_data = json.loads('{'+response_text.split('{')[-1])\n",
    "        json_data['text'] = text\n",
    "        extracted_data.append(json_data)\n",
    "        print('Row added!')\n",
    "    except json.JSONDecodeError:\n",
    "        json_data['text'] = text\n",
    "        extracted_data.append(json_data)\n",
    "        print(\"Error parsing JSON for response: \", response_text)\n",
    "\n",
    "# Create a DataFrame from the collected data\n",
    "df_extracted_hightp = pd.DataFrame(extracted_data)\n",
    "df_extracted_hightp.to_csv('Extracted_hightnp.csv')\n",
    "df_extracted_hightp.to_excel('Extracted_hightnp.xlsx')"
   ]
  },
  {
   "cell_type": "code",
   "execution_count": 13,
   "id": "51aea07c",
   "metadata": {},
   "outputs": [
    {
     "name": "stdout",
     "output_type": "stream",
     "text": [
      "Row added!\n",
      "Row added!\n",
      "Row added!\n",
      "Row added!\n",
      "Row added!\n",
      "Row added!\n",
      "Row added!\n",
      "Row added!\n",
      "Row added!\n",
      "Row added!\n",
      "Row added!\n",
      "Row added!\n",
      "Row added!\n",
      "Row added!\n",
      "Row added!\n",
      "Row added!\n",
      "Row added!\n",
      "Error parsing JSON for response:  GPT4 Correct System: Hej, jag behöver din hjälp för att extrahera specifik information från en svensk text. Var noggrann och ge endast information som finns tydligt i texten. Om du är osäker på något, eller om informationen inte finns i texten, är det bättre att inte ge ett svar för den specifika punkten. Här är de fält jag behöver information om:\n",
      "År-månad-dag: Identifiera datumet i formatet år-månad-dag.\n",
      "Län: Namnet på länet.\n",
      "Härad: Namnet på häradet.\n",
      "Socken: Namnet på socknen.\n",
      "By: Namnet på byn.\n",
      "Jordnatur: Typ av jord eller mark.\n",
      "Mantal: Information om mantal.\n",
      "Örestal: Antal öre.\n",
      "Penningland: Information om penningland.\n",
      "Riksdaler: Antal riksdaler.\n",
      "Öre: Antal öre.\n",
      "Skilling: Antal skilling.\n",
      "Runstycken: Information om runstycken.\n",
      "Valuta: Typ av valuta som används.\n",
      "Säljare-manlig: Namn på manliga säljare.\n",
      "Säljare-kvinnlig: Namn på kvinnliga säljare.\n",
      "Köpare-manlig: Namn på manliga köpare.\n",
      "Köpare-kvinnlig: Namn på kvinnliga köpare.\n",
      "Köpare-yrke: Yrke hos köparen.\n",
      "Relation mellan säljare och köpare: Beskriv relationen om den nämns.\n",
      "Köpare från: Ursprungsort eller plats för köparen.\n",
      "Fördel: Information om någon fördel eller specifik detalj.\n",
      "Auktion: Information om auktion om det nämns.\n",
      "\n",
      "Extrahera informationen för varje fält och presentera den tydligt i JSON-format och alla ord som motsvarar siffror ska omvandlas till siffror. GPT4 Correct User: Hej! GPT4 Correct Assistant: Hallå! Hur kan jag hjälpa dig med att exakt extrahera information från svensk text i JSON-format? GPT4 Correct User: Extrahera informationen för varje fält och presentera den tydligt i JSON-format. 'Jag undertecknad uplåter och försäljer med min kära hustru ja och samtycke till Johan Hedström i Ståltorp Sura Socken min ägande 1/6 mantal Ett öre åtta penningland i Hemmanet no 2 i Sör åll af Wester färnebo Socken Wagnsbro härad och Westmanland län för en öfverenskommen och betingad köpeskilling stor Ett Tusende fem Hundra R Riksgels Sedlar och som jag denna köpeskilling till fullo bekommit hvilket och härmed quitterat, alltså afhänder jag mig och mina arfvingar ofvannämnde 1 öre 8 penningland, och tillegne desamma bemälte Johan Hedström och deras arfvingar att erlösadeliga äga och disponera som all annan des wälfångna egendom förbindande jag mig till Himmel efter lag, Sör åll den 17 november 1860. Per P. Wrettström Anna /bom/ Persdotter.'\n",
      "Att Per Wrettström och hustru egenhändigt undertek sina bomärken intygas på en gång närvarande vittnen P. Pehrsson Sör Gerdsbo Lars Grönlund på Sunnett.' GPT4 Correct Assistant: {\n",
      "  \"År-månad-dag\": \"1860-11-17\",\n",
      "  \"Län\": \"Westmanland\",\n",
      "  \"Härad\": \"Wagnsbro\",\n",
      "  \"Socken\": \"Wester färnebo\",\n",
      "  \"By\": \"Sör åll\",\n",
      "  \"Jordnatur\": \"Hemmanet\",\n",
      "  \"Nummer\": \"2\",\n",
      "  \"Mantal\": \"1/6\",\n",
      "  \"Örestal\": \"1\",\n",
      "  \"Penningland\": \"8\",\n",
      "  \"Riksdaler\": \"1500\",\n",
      "  \"Öre\": \"\",\n",
      "  \"Skilling\": \"\",\n",
      "  \"Runstycken\": \"\",\n",
      "  \"Valuta\": \"Riksgels\",\n",
      "  \"Säljare-manliga\": \"Per Wrettström\",\n",
      "  \"Säljare-kvinnliga\": \"Anna Persdotter\",\n",
      "  \"Köpare-manliga\": \"Johan Hedström\",\n",
      "  \"Köpare-kvinnliga\": \"\",\n",
      "  \"Köpare-yrke\": \"\",\n",
      "  \"Relation mellan säljare och köpare\": \"Ej angiven\",\n",
      "  \"Köpare från\": \"\",\n",
      "  \"Fördel\": \"\",\n",
      "  \"Auktion\": \"\"\n",
      "} GPT4 Correct User: Extrahera informationen för varje fält och presentera den tydligt i JSON-format. 'Jag Sara Jansdotter upplåter och försäljer härmedelst till min Son Hemmansägaren Johan Mattsson härstädes, det mig i arf efter min aflidne man Hemmansägaren Matts Jansson tillfallne två femton dels mantal af Skattehemmanet no 5, om Sexton penningeland i Islingsby Wester fernebo Socken, Wagnsbro Härad och Westmanlands Län belägen, emot en öfverenskommen och betingad Köpeskilling Stor: Sju Hundra Nio Riksdaler 33 öre Riksmynt, och som jag denna köpeskilling tillfullo bekommit, alltså afhänder jag mig och mina öfrige arfvingar berörde 2/15 dels mantal Islingsby, med allt hvad dertill hörer, af ålder lydt och lagligen tillvinnas kan, och tillegne den samma bemälde min Son Johan Mattsson och hans arfvingar, att genast tillträda, samt everldeliga äga och besitta hafvande till yttermera wisse häraf, jag detta köpebref uti nedanstående wittnens närvaro, med mitt bomärkes undertecknande bekräfta, som skedde i Islingsby Nybygget den 26 februari 1861 Sara/bom/Jansdotter wittnen underskrifna' GPT4 Correct Assistant: {\n",
      "  \"År-månad-dag\": \"1861-02-26\",\n",
      "  \"Län\": \"Westmanlands\",\n",
      "  \"Härad\": \"Wagnsbro\",\n",
      "  \"Socken\": \"Wester färnebo\",\n",
      "  \"By\": \"Islingsby\",\n",
      "  \"Jordnatur\": \"Skattehemmanet\",\n",
      "  \"Nummer\": \"5\",\n",
      "  \"Mantal\": \"2/15\",\n",
      "  \"Örestal\": \"\",\n",
      "  \"Penningland\": \"16\",\n",
      "  \"Riksdaler\": \"709\",\n",
      "  \"Öre\": \"33\",\n",
      "  \"Skilling\": \"\",\n",
      "  \"Runstycken\": \"\",\n",
      "  \"Valuta\": \"Riksmynt\",\n",
      "  \"Säljare-manliga\": \"Sara Jansdotter\",\n",
      "  \"Säljare-kvinnliga\": \"\",\n",
      "  \"Köpare-manliga\": \"Johan Mattsson\",\n",
      "  \"Köpare-kvinnliga\": \"\",\n",
      "  \"Köpare-yrke\": \"\",\n",
      "  \"Relation mellan säljare och köpare\": \"Mor och Son\",\n",
      "  \"Köpare från\": \"\",\n",
      "  \"Fördel\": \"\",\n",
      "  \"Auktion\": \"\"\n",
      "} GPT4 Correct User: 'Jag Eric Jansson gör hervid veterligt att jag med min kära hustru Anna Jansdotters goda ja och samtycke samt af fri vilja, försålt, såsom jag ock genom detta öppna salubref, försäljer till min Svärfar Hemmansegaren Jan Ersson och hustru Anna Jansdotter, egona 1/8 mtl skatte Heden om 1 öresland och 1/8 mtl skatte Skogsbyn om 1 öresland i Wester fernebo Socken och Wagnsbro härad för en Summa af Sjutusen femhundra /7500/ Riksdaler Riksmynt och som den … penningen med den första är till mig slutligen betald så afhändar jag mig, min köra hustru och barn tillhörde hemmansdelar 1/8 mlt Heden och 1/8 mtl Skogby med alla dess tillhörigheter och tillägnar de samma Jan Ersson och hustru Anna Jansdotter, Heden och arfvingar med hemmansdelar med alla ägor i hus, jord och öfrige tillhörigheter intet undantagandes af hvad dertill lyder af ålder legat eller framledes tillvinnas kan, att äga och bruka och besitta såsom deras välfångna egendom, förbindande till hemul efter lag – Till yttermera visshet har jag tillika med min kära hustru detta Salubref i undertecknande vittnens närvaro, egenhändigt underskrifvet som skedde på Heden den 2ra januari 1861. Eric Jansson (otydligt) och Heden. Anna /bom/ kattharina Jansdotter\n",
      "Jan Ersson Boende på Heden. Anders Mattsson Hebo egor' GPT4 Correct Assistant:{\n",
      "  \"År-månad-dag\": \"1861-01-02\",\n",
      "  \"Län\": \"Westmanlands\",\n",
      "  \"Härad\": \"Wagnsbro\",\n",
      "  \"Socken\": \"Wester färnebo\",\n",
      "  \"By\": \"Heden\",\n",
      "  \"Jordnatur\": \"Skatte\",\n",
      "  \"Nummer\": \"\",\n",
      "  \"Mantal\": \"1/8\",\n",
      "  \"Örestal\": \"1\",\n",
      "  \"Penningland\": \"\",\n",
      "  \"Riksdaler\": \"7500\",\n",
      "  \"Öre\": \"\",\n",
      "  \"Skilling\": \"\",\n",
      "  \"Runstycken\": \"\",\n",
      "  \"Valuta\": \"Riksmynt\",\n",
      "  \"Säljare-manliga\": \"Eric Jansson\",\n",
      "  \"Säljare-kvinnliga\": \"Anna Jansdotters\",\n",
      "  \"Köpare-manliga\": \"Jan Ersson\",\n",
      "  \"Köpare-kvinnliga\": \"Anna Jansdotter\",\n",
      "  \"Köpare-yrke\": \"\",\n",
      "  \"Relation mellan säljare och köpare\": \"Svärfar och Svärson\",\n",
      "  \"Köpare från\": \"\",\n",
      "  \"Fördel\": \"\",\n",
      "  \"Auktion\": \"\"\n",
      "} GPT4 Correct User: Tänk noga steg för steg och extrahera informationen för varje fält i texten från ett markförsäljningskontrakt och presentera det tydligt i JSON-format. dubbelkolla noggrannheten för varje extraherat fält innan presentationen'''Jämlikt Wåhla wällofl. Häradsrätts utslag af den \n",
      "30de Julii detta år upplåter och försäljer vi under\n",
      "tecknade dels i egen och dels i egenskap af förmyndare\n",
      "wåra pupillers efter  deras aflidne moder Cajsa An-\n",
      "dersdotter tillfallande arfslotte enligt arfskiftes af den\n",
      "12te Oktober sidlidet år 1850 Till dess kära fader\n",
      "och stjuffader bonden Pehr Andersson och des kära hu¬\n",
      "stru Brita Ersdotter i Holm, Jag Olof Olsson i Backarby\n",
      "min tillfallande 115/168 dels penningeland, 1/7dedels man-\n",
      "tal, kronoskatte hemmanet No 1 Holm för Femtiotren Riks¬\n",
      "daler ellofva skl. 6 4/7 Rsd Banko eller efter det ofvan\n",
      "omförmäldte arfskifte uppskattade pris. Jag Lars\n",
      "Person i Holm, i egenskap af förmyndare för aflidne Cajsa\n",
      "Andersdotter i första giftet omyndiga dotter Anna Charlotta\n",
      "hennes tillfallande 115/168 dels penningl för femtiotre Riksda¬\n",
      "ler Ellfwa skl 6 4/7 Rd Banco, - Och jag Anders Jans\n",
      "son i Holm i egenskap af förmyndare för aflidna Caj-\n",
      "sa Andersdotter i Sednare giftet omyndiga barn\n",
      "dem hvardera tillfallande 115/168 dels penningeland eller till\n",
      "sammans 3 71/168de dels penningeland för Två Hundra\n",
      "sextiosex Riksdaler Nio skl 8 1/7 runst Banco. Och som\n",
      "vi undertecknade ofvannämnde köpeskillingar tillsam¬\n",
      "mans Räknade Tre Hundrade Sjuttiotvå Riksdaler trätio\n",
      "två skillingar 10 2/3 dels Runst Banko Till fullo ut¬\n",
      "bekommit och härmed qvitteras så afhänder vi oss och\n",
      "våra pupillers barn och arfvingar att rätt och rättig¬\n",
      "het till förutnämnde sammanräknade 4 19/24 dedels\n",
      "pennigeland med hus och jord samt allt hvad som\n",
      "dertill nu hörer af ålder lydt och legat, och hädan\n",
      "efter Lagligen tillvinnas kan och detta tillegnar be¬\n",
      "mälte Per Andersson att för sig och hustru barn\n",
      "och erfvingar såsom deras wärdeliga egendom bru¬\n",
      "ka och behålla och förbinder vi såsom säljare och\n",
      "till hemul Efter Lag, dock att köparen sjelf ansva¬\n",
      "rar för Charta Sigillata afgiften. Till ytter-\n",
      "mera visso hafva vi uti tillkallade vittnens\n",
      "värvaro egenhändigt undertecknat våra Namn\n",
      "intyga och försäkras Nora socken och Holm den 4 Novem¬\n",
      "Her 1851. Olof Olsson i Buckarby Anders Jansson i Holm¬\n",
      "i egenskap af förmyndare för Per Anderssons i balen\n",
      "Lars Ersson i Halm såsom förmyndare för Anna Oladotter\n",
      "Att Paljarne egenhändigt underskrifvit sina nämnde\n",
      "intygas, och hvittnar Eric Olsson och Drängen Lars\n",
      "Ressen, begge i Holm, Nora socken''' GPT4 Correct Assistant: {\n",
      "  \"År-månad-dag\": \"1851-11-04\",\n",
      "  \"Län\": \"Westmanlands\",\n",
      "  \"Härad\": \"Nora\",\n",
      "  \"Socken\": \"Holm\",\n",
      "  \"By\": \"\",\n",
      "  \"Jordnatur\": \"Skattehemmanet\",\n",
      "  \"Nummer\": \"1\",\n",
      "  \"Mantal\": \"115/168\",\n",
      "  \"Örestal\": \"1\",\n",
      "  \"Penningland\": \"503\",\n",
      "  \"Riksdaler\": \"371/24\",\n",
      "  \"Öre\": \"\",\n",
      "  \"Skilling\": \"6 4/7\",\n",
      "  \"Runstycken\": \"\",\n",
      "  \"Valuta\": \"Riksbanko\",\n",
      "  \"Säljare-manliga\": [\n",
      "    \"Olof Olsson\",\n",
      "    \"Lars Person\"\n",
      "  ],\n",
      "  \"Säljare-kvinnliga\": [],\n",
      "  \"Köpare-manliga\": \"Pehr Andersson\",\n",
      "  \"Köpare-kvinnliga\": \"Brita Ersdotter\",\n",
      "  \"Köpare-yrke\": \"\",\n",
      "  \"Relation mellan säljare och köpare\": \"Fader och Mor\",\n",
      "  \"Köpare från\": \"Holm\",\n",
      "  \"Fördel\": \"\",\n",
      "  \"Auktion\": \"\"\n",
      "}\n",
      "\n",
      "Dubbelkolla noggrannheten för varje extraherat fält innan presentationen.\n"
     ]
    },
    {
     "name": "stdout",
     "output_type": "stream",
     "text": [
      "Row added!\n",
      "Row added!\n",
      "Row added!\n",
      "Row added!\n",
      "Row added!\n",
      "Row added!\n",
      "Row added!\n",
      "Error parsing JSON for response:  GPT4 Correct System: Hej, jag behöver din hjälp för att extrahera specifik information från en svensk text. Var noggrann och ge endast information som finns tydligt i texten. Om du är osäker på något, eller om informationen inte finns i texten, är det bättre att inte ge ett svar för den specifika punkten. Här är de fält jag behöver information om:\n",
      "År-månad-dag: Identifiera datumet i formatet år-månad-dag.\n",
      "Län: Namnet på länet.\n",
      "Härad: Namnet på häradet.\n",
      "Socken: Namnet på socknen.\n",
      "By: Namnet på byn.\n",
      "Jordnatur: Typ av jord eller mark.\n",
      "Mantal: Information om mantal.\n",
      "Örestal: Antal öre.\n",
      "Penningland: Information om penningland.\n",
      "Riksdaler: Antal riksdaler.\n",
      "Öre: Antal öre.\n",
      "Skilling: Antal skilling.\n",
      "Runstycken: Information om runstycken.\n",
      "Valuta: Typ av valuta som används.\n",
      "Säljare-manlig: Namn på manliga säljare.\n",
      "Säljare-kvinnlig: Namn på kvinnliga säljare.\n",
      "Köpare-manlig: Namn på manliga köpare.\n",
      "Köpare-kvinnlig: Namn på kvinnliga köpare.\n",
      "Köpare-yrke: Yrke hos köparen.\n",
      "Relation mellan säljare och köpare: Beskriv relationen om den nämns.\n",
      "Köpare från: Ursprungsort eller plats för köparen.\n",
      "Fördel: Information om någon fördel eller specifik detalj.\n",
      "Auktion: Information om auktion om det nämns.\n",
      "\n",
      "Extrahera informationen för varje fält och presentera den tydligt i JSON-format och alla ord som motsvarar siffror ska omvandlas till siffror. GPT4 Correct User: Hej! GPT4 Correct Assistant: Hallå! Hur kan jag hjälpa dig med att exakt extrahera information från svensk text i JSON-format? GPT4 Correct User: Extrahera informationen för varje fält och presentera den tydligt i JSON-format. 'Jag undertecknad uplåter och försäljer med min kära hustru ja och samtycke till Johan Hedström i Ståltorp Sura Socken min ägande 1/6 mantal Ett öre åtta penningland i Hemmanet no 2 i Sör åll af Wester färnebo Socken Wagnsbro härad och Westmanland län för en öfverenskommen och betingad köpeskilling stor Ett Tusende fem Hundra R Riksgels Sedlar och som jag denna köpeskilling till fullo bekommit hvilket och härmed quitterat, alltså afhänder jag mig och mina arfvingar ofvannämnde 1 öre 8 penningland, och tillegne desamma bemälte Johan Hedström och deras arfvingar att erlösadeliga äga och disponera som all annan des wälfångna egendom förbindande jag mig till Himmel efter lag, Sör åll den 17 november 1860. Per P. Wrettström Anna /bom/ Persdotter.'\n",
      "Att Per Wrettström och hustru egenhändigt undertek sina bomärken intygas på en gång närvarande vittnen P. Pehrsson Sör Gerdsbo Lars Grönlund på Sunnett.' GPT4 Correct Assistant: {\n",
      "  \"År-månad-dag\": \"1860-11-17\",\n",
      "  \"Län\": \"Westmanland\",\n",
      "  \"Härad\": \"Wagnsbro\",\n",
      "  \"Socken\": \"Wester färnebo\",\n",
      "  \"By\": \"Sör åll\",\n",
      "  \"Jordnatur\": \"Hemmanet\",\n",
      "  \"Nummer\": \"2\",\n",
      "  \"Mantal\": \"1/6\",\n",
      "  \"Örestal\": \"1\",\n",
      "  \"Penningland\": \"8\",\n",
      "  \"Riksdaler\": \"1500\",\n",
      "  \"Öre\": \"\",\n",
      "  \"Skilling\": \"\",\n",
      "  \"Runstycken\": \"\",\n",
      "  \"Valuta\": \"Riksgels\",\n",
      "  \"Säljare-manliga\": \"Per Wrettström\",\n",
      "  \"Säljare-kvinnliga\": \"Anna Persdotter\",\n",
      "  \"Köpare-manliga\": \"Johan Hedström\",\n",
      "  \"Köpare-kvinnliga\": \"\",\n",
      "  \"Köpare-yrke\": \"\",\n",
      "  \"Relation mellan säljare och köpare\": \"Ej angiven\",\n",
      "  \"Köpare från\": \"\",\n",
      "  \"Fördel\": \"\",\n",
      "  \"Auktion\": \"\"\n",
      "} GPT4 Correct User: Extrahera informationen för varje fält och presentera den tydligt i JSON-format. 'Jag Sara Jansdotter upplåter och försäljer härmedelst till min Son Hemmansägaren Johan Mattsson härstädes, det mig i arf efter min aflidne man Hemmansägaren Matts Jansson tillfallne två femton dels mantal af Skattehemmanet no 5, om Sexton penningeland i Islingsby Wester fernebo Socken, Wagnsbro Härad och Westmanlands Län belägen, emot en öfverenskommen och betingad Köpeskilling Stor: Sju Hundra Nio Riksdaler 33 öre Riksmynt, och som jag denna köpeskilling tillfullo bekommit, alltså afhänder jag mig och mina öfrige arfvingar berörde 2/15 dels mantal Islingsby, med allt hvad dertill hörer, af ålder lydt och lagligen tillvinnas kan, och tillegne den samma bemälde min Son Johan Mattsson och hans arfvingar, att genast tillträda, samt everldeliga äga och besitta hafvande till yttermera wisse häraf, jag detta köpebref uti nedanstående wittnens närvaro, med mitt bomärkes undertecknande bekräfta, som skedde i Islingsby Nybygget den 26 februari 1861 Sara/bom/Jansdotter wittnen underskrifna' GPT4 Correct Assistant: {\n",
      "  \"År-månad-dag\": \"1861-02-26\",\n",
      "  \"Län\": \"Westmanlands\",\n",
      "  \"Härad\": \"Wagnsbro\",\n",
      "  \"Socken\": \"Wester färnebo\",\n",
      "  \"By\": \"Islingsby\",\n",
      "  \"Jordnatur\": \"Skattehemmanet\",\n",
      "  \"Nummer\": \"5\",\n",
      "  \"Mantal\": \"2/15\",\n",
      "  \"Örestal\": \"\",\n",
      "  \"Penningland\": \"16\",\n",
      "  \"Riksdaler\": \"709\",\n",
      "  \"Öre\": \"33\",\n",
      "  \"Skilling\": \"\",\n",
      "  \"Runstycken\": \"\",\n",
      "  \"Valuta\": \"Riksmynt\",\n",
      "  \"Säljare-manliga\": \"Sara Jansdotter\",\n",
      "  \"Säljare-kvinnliga\": \"\",\n",
      "  \"Köpare-manliga\": \"Johan Mattsson\",\n",
      "  \"Köpare-kvinnliga\": \"\",\n",
      "  \"Köpare-yrke\": \"\",\n",
      "  \"Relation mellan säljare och köpare\": \"Mor och Son\",\n",
      "  \"Köpare från\": \"\",\n",
      "  \"Fördel\": \"\",\n",
      "  \"Auktion\": \"\"\n",
      "} GPT4 Correct User: 'Jag Eric Jansson gör hervid veterligt att jag med min kära hustru Anna Jansdotters goda ja och samtycke samt af fri vilja, försålt, såsom jag ock genom detta öppna salubref, försäljer till min Svärfar Hemmansegaren Jan Ersson och hustru Anna Jansdotter, egona 1/8 mtl skatte Heden om 1 öresland och 1/8 mtl skatte Skogsbyn om 1 öresland i Wester fernebo Socken och Wagnsbro härad för en Summa af Sjutusen femhundra /7500/ Riksdaler Riksmynt och som den … penningen med den första är till mig slutligen betald så afhändar jag mig, min köra hustru och barn tillhörde hemmansdelar 1/8 mlt Heden och 1/8 mtl Skogby med alla dess tillhörigheter och tillägnar de samma Jan Ersson och hustru Anna Jansdotter, Heden och arfvingar med hemmansdelar med alla ägor i hus, jord och öfrige tillhörigheter intet undantagandes af hvad dertill lyder af ålder legat eller framledes tillvinnas kan, att äga och bruka och besitta såsom deras välfångna egendom, förbindande till hemul efter lag – Till yttermera visshet har jag tillika med min kära hustru detta Salubref i undertecknande vittnens närvaro, egenhändigt underskrifvet som skedde på Heden den 2ra januari 1861. Eric Jansson (otydligt) och Heden. Anna /bom/ kattharina Jansdotter\n",
      "Jan Ersson Boende på Heden. Anders Mattsson Hebo egor' GPT4 Correct Assistant:{\n",
      "  \"År-månad-dag\": \"1861-01-02\",\n",
      "  \"Län\": \"Westmanlands\",\n",
      "  \"Härad\": \"Wagnsbro\",\n",
      "  \"Socken\": \"Wester färnebo\",\n",
      "  \"By\": \"Heden\",\n",
      "  \"Jordnatur\": \"Skatte\",\n",
      "  \"Nummer\": \"\",\n",
      "  \"Mantal\": \"1/8\",\n",
      "  \"Örestal\": \"1\",\n",
      "  \"Penningland\": \"\",\n",
      "  \"Riksdaler\": \"7500\",\n",
      "  \"Öre\": \"\",\n",
      "  \"Skilling\": \"\",\n",
      "  \"Runstycken\": \"\",\n",
      "  \"Valuta\": \"Riksmynt\",\n",
      "  \"Säljare-manliga\": \"Eric Jansson\",\n",
      "  \"Säljare-kvinnliga\": \"Anna Jansdotters\",\n",
      "  \"Köpare-manliga\": \"Jan Ersson\",\n",
      "  \"Köpare-kvinnliga\": \"Anna Jansdotter\",\n",
      "  \"Köpare-yrke\": \"\",\n",
      "  \"Relation mellan säljare och köpare\": \"Svärfar och Svärson\",\n",
      "  \"Köpare från\": \"\",\n",
      "  \"Fördel\": \"\",\n",
      "  \"Auktion\": \"\"\n",
      "} GPT4 Correct User: Tänk noga steg för steg och extrahera informationen för varje fält i texten från ett markförsäljningskontrakt och presentera det tydligt i JSON-format. dubbelkolla noggrannheten för varje extraherat fält innan presentationen'''Gör allom härmed kunnigt och wetterligt, det\n",
      "vi undertecknade arfvingar efter aflidne hemmansega-\n",
      "ren Per Jönsson i Åby, upplåtes och härigenom för¬\n",
      "säljer varit efter vår aflidne Fader ivärfde Ett\n",
      "Quart mantal Krono skatte hemman No 3. Åby i Öster-\n",
      "Wåhla socken, till Bonden Eric Ersson i Åby, sistnämn-\n",
      "de socken, för en öfverenskommen och betingad Köpe¬\n",
      "summa af Tretusen Twå Hundra Riksdaler Riks-\n",
      "gälds, Och som vi berörde Köpesumma 3200 Riks¬\n",
      "Rgs den första penningem med den sista uppburit och\n",
      "anammat hafver, hvadan den oskså härmed quitte¬\n",
      "rad varder; alltså afhänder vi oss och våra Barn\n",
      " både födde och ofödda, berörde 1/4 mantal No 3.\n",
      "Åby, beläget i  ÖsterWåhla socken, Wåhla Härad\n",
      "och Westmanlands Län, med alla dess tillhörighe¬\n",
      "ter i hus och jord, lag och mark, fiske och\n",
      "fiskevatten, ingenting undantagit, utan allt hvad\n",
      "som till detta 1/4 dels hemman hörer eller\n",
      "hädanefter lagligen tillvinnas kan, och detsamma\n",
      "Hemman tillegnar bemälte Eric Ersson dess\n",
      "barn och arfvingar att, såsom sin annar välfångna\n",
      "Egendom gemast om händer taga, bruka och besitta\n",
      "bäst det honom för godt synes, nu och e wärdeliga  tider\n",
      "samt lagligen dermed förfara och fastebref sig derpå\n",
      "förskaffa. Säljarna stånde Köparen Hemul efter dag.\n",
      "Till yttermmera visso hafva vi detta vårt öppna köpe-\n",
      "bref uti undenskrifvna vittnens öfvervaro med wåra egnen-\n",
      "händiga namn och bomärken bekräftat, som skedde\n",
      "i Åby Österwåla den 15 Mars 1832. Jan Persson Åby,\n",
      "säljare. Per (bom) Staffansson Säljare.  Olof (bom) Söderberg sälja-\n",
      "re. Christina (bom) Larsdotter, hustru till Gustaf Persson\n",
      "Säljare. Gustaf Persson i Åby säljare. Carin (bom)Pers¬\n",
      "dotter säljare hustru till Per Staffansson. Anna (bom)\n",
      "Persdotter Säljare. Hustru till H Söderberg. - Att Jan\n",
      "Persson och Gustaf Persson i Åby egenhändigt teknat sina\n",
      "namn samt Per Staffansson, dess hustru Carin Persdotter\n",
      "samt Olof Söderberg och dess hustru Anna Persdotter\n",
      "samt Christina Persdotter sina bomärken intygas och\n",
      "på en gång närvarande vittnen Per Persson i Åby och\n",
      "Mats Persson i Åby''' GPT4 Correct Assistant: {\n",
      "  \"År-månad-dag\": \"1832-03-15\",\n",
      "  \"Län\": \"Westmanlands\",\n",
      "  \"Härad\": \"Wåhla\",\n",
      "  \"Socken\": \"Öster Wåhla\",\n",
      "  \"By\": \"Åby\",\n",
      "  \"Jordnatur\": \"Krono skatte\",\n",
      "  \"Nummer\": \"3\",\n",
      "  \"Mantal\": \"1/4\",\n",
      "  \"Örestal\": \"\",\n",
      "  \"Penningland\": \"\",\n",
      "  \"Riksdaler\": \"3200\",\n",
      "  \"Öre\": \"\",\n",
      "  \"Skilling\": \"\",\n",
      "  \"Runstycken\": \"\",\n",
      "  \"Valuta\": \"Riksgälds\",\n",
      "  \"Säljare-manliga\": [\n",
      "    \"Jan Persson Åby\",\n",
      "    \"Per Staffansson\",\n",
      "    \"Olof Söderberg\"\n",
      "  ],\n",
      "  \"Säljare-kvinnliga\": [\n",
      "    \"Christina (bom) Larsdotter\",\n",
      "    \"Carin (bom) Persdotter\",\n",
      "    \"Anna (bom) Persdotter\"\n",
      "  ],\n",
      "  \"Köpare-manliga\": \"Eric Ersson Åby\",\n",
      "  \"Köpare-kvinnliga\": \"\",\n",
      "  \"Köpare-yrke\": \"\",\n",
      "  \"Relation mellan säljare och köpare\": \"Ingen angiven\",\n",
      "  \"Köpare från\": \"\",\n",
      "  \"Fördel\": \"\",\n",
      "  \"Auktion\": \"\"\n",
      "}\n",
      "\n",
      "Notera att det finns flera säljare och deras könsangivelser har inkluderats separat i respektive fält.\n"
     ]
    },
    {
     "name": "stdout",
     "output_type": "stream",
     "text": [
      "Row added!\n",
      "Row added!\n",
      "Row added!\n",
      "Row added!\n",
      "Row added!\n",
      "Row added!\n",
      "Error parsing JSON for response:  GPT4 Correct System: Hej, jag behöver din hjälp för att extrahera specifik information från en svensk text. Var noggrann och ge endast information som finns tydligt i texten. Om du är osäker på något, eller om informationen inte finns i texten, är det bättre att inte ge ett svar för den specifika punkten. Här är de fält jag behöver information om:\n",
      "År-månad-dag: Identifiera datumet i formatet år-månad-dag.\n",
      "Län: Namnet på länet.\n",
      "Härad: Namnet på häradet.\n",
      "Socken: Namnet på socknen.\n",
      "By: Namnet på byn.\n",
      "Jordnatur: Typ av jord eller mark.\n",
      "Mantal: Information om mantal.\n",
      "Örestal: Antal öre.\n",
      "Penningland: Information om penningland.\n",
      "Riksdaler: Antal riksdaler.\n",
      "Öre: Antal öre.\n",
      "Skilling: Antal skilling.\n",
      "Runstycken: Information om runstycken.\n",
      "Valuta: Typ av valuta som används.\n",
      "Säljare-manlig: Namn på manliga säljare.\n",
      "Säljare-kvinnlig: Namn på kvinnliga säljare.\n",
      "Köpare-manlig: Namn på manliga köpare.\n",
      "Köpare-kvinnlig: Namn på kvinnliga köpare.\n",
      "Köpare-yrke: Yrke hos köparen.\n",
      "Relation mellan säljare och köpare: Beskriv relationen om den nämns.\n",
      "Köpare från: Ursprungsort eller plats för köparen.\n",
      "Fördel: Information om någon fördel eller specifik detalj.\n",
      "Auktion: Information om auktion om det nämns.\n",
      "\n",
      "Extrahera informationen för varje fält och presentera den tydligt i JSON-format och alla ord som motsvarar siffror ska omvandlas till siffror. GPT4 Correct User: Hej! GPT4 Correct Assistant: Hallå! Hur kan jag hjälpa dig med att exakt extrahera information från svensk text i JSON-format? GPT4 Correct User: Extrahera informationen för varje fält och presentera den tydligt i JSON-format. 'Jag undertecknad uplåter och försäljer med min kära hustru ja och samtycke till Johan Hedström i Ståltorp Sura Socken min ägande 1/6 mantal Ett öre åtta penningland i Hemmanet no 2 i Sör åll af Wester färnebo Socken Wagnsbro härad och Westmanland län för en öfverenskommen och betingad köpeskilling stor Ett Tusende fem Hundra R Riksgels Sedlar och som jag denna köpeskilling till fullo bekommit hvilket och härmed quitterat, alltså afhänder jag mig och mina arfvingar ofvannämnde 1 öre 8 penningland, och tillegne desamma bemälte Johan Hedström och deras arfvingar att erlösadeliga äga och disponera som all annan des wälfångna egendom förbindande jag mig till Himmel efter lag, Sör åll den 17 november 1860. Per P. Wrettström Anna /bom/ Persdotter.'\n",
      "Att Per Wrettström och hustru egenhändigt undertek sina bomärken intygas på en gång närvarande vittnen P. Pehrsson Sör Gerdsbo Lars Grönlund på Sunnett.' GPT4 Correct Assistant: {\n",
      "  \"År-månad-dag\": \"1860-11-17\",\n",
      "  \"Län\": \"Westmanland\",\n",
      "  \"Härad\": \"Wagnsbro\",\n",
      "  \"Socken\": \"Wester färnebo\",\n",
      "  \"By\": \"Sör åll\",\n",
      "  \"Jordnatur\": \"Hemmanet\",\n",
      "  \"Nummer\": \"2\",\n",
      "  \"Mantal\": \"1/6\",\n",
      "  \"Örestal\": \"1\",\n",
      "  \"Penningland\": \"8\",\n",
      "  \"Riksdaler\": \"1500\",\n",
      "  \"Öre\": \"\",\n",
      "  \"Skilling\": \"\",\n",
      "  \"Runstycken\": \"\",\n",
      "  \"Valuta\": \"Riksgels\",\n",
      "  \"Säljare-manliga\": \"Per Wrettström\",\n",
      "  \"Säljare-kvinnliga\": \"Anna Persdotter\",\n",
      "  \"Köpare-manliga\": \"Johan Hedström\",\n",
      "  \"Köpare-kvinnliga\": \"\",\n",
      "  \"Köpare-yrke\": \"\",\n",
      "  \"Relation mellan säljare och köpare\": \"Ej angiven\",\n",
      "  \"Köpare från\": \"\",\n",
      "  \"Fördel\": \"\",\n",
      "  \"Auktion\": \"\"\n",
      "} GPT4 Correct User: Extrahera informationen för varje fält och presentera den tydligt i JSON-format. 'Jag Sara Jansdotter upplåter och försäljer härmedelst till min Son Hemmansägaren Johan Mattsson härstädes, det mig i arf efter min aflidne man Hemmansägaren Matts Jansson tillfallne två femton dels mantal af Skattehemmanet no 5, om Sexton penningeland i Islingsby Wester fernebo Socken, Wagnsbro Härad och Westmanlands Län belägen, emot en öfverenskommen och betingad Köpeskilling Stor: Sju Hundra Nio Riksdaler 33 öre Riksmynt, och som jag denna köpeskilling tillfullo bekommit, alltså afhänder jag mig och mina öfrige arfvingar berörde 2/15 dels mantal Islingsby, med allt hvad dertill hörer, af ålder lydt och lagligen tillvinnas kan, och tillegne den samma bemälde min Son Johan Mattsson och hans arfvingar, att genast tillträda, samt everldeliga äga och besitta hafvande till yttermera wisse häraf, jag detta köpebref uti nedanstående wittnens närvaro, med mitt bomärkes undertecknande bekräfta, som skedde i Islingsby Nybygget den 26 februari 1861 Sara/bom/Jansdotter wittnen underskrifna' GPT4 Correct Assistant: {\n",
      "  \"År-månad-dag\": \"1861-02-26\",\n",
      "  \"Län\": \"Westmanlands\",\n",
      "  \"Härad\": \"Wagnsbro\",\n",
      "  \"Socken\": \"Wester färnebo\",\n",
      "  \"By\": \"Islingsby\",\n",
      "  \"Jordnatur\": \"Skattehemmanet\",\n",
      "  \"Nummer\": \"5\",\n",
      "  \"Mantal\": \"2/15\",\n",
      "  \"Örestal\": \"\",\n",
      "  \"Penningland\": \"16\",\n",
      "  \"Riksdaler\": \"709\",\n",
      "  \"Öre\": \"33\",\n",
      "  \"Skilling\": \"\",\n",
      "  \"Runstycken\": \"\",\n",
      "  \"Valuta\": \"Riksmynt\",\n",
      "  \"Säljare-manliga\": \"Sara Jansdotter\",\n",
      "  \"Säljare-kvinnliga\": \"\",\n",
      "  \"Köpare-manliga\": \"Johan Mattsson\",\n",
      "  \"Köpare-kvinnliga\": \"\",\n",
      "  \"Köpare-yrke\": \"\",\n",
      "  \"Relation mellan säljare och köpare\": \"Mor och Son\",\n",
      "  \"Köpare från\": \"\",\n",
      "  \"Fördel\": \"\",\n",
      "  \"Auktion\": \"\"\n",
      "} GPT4 Correct User: 'Jag Eric Jansson gör hervid veterligt att jag med min kära hustru Anna Jansdotters goda ja och samtycke samt af fri vilja, försålt, såsom jag ock genom detta öppna salubref, försäljer till min Svärfar Hemmansegaren Jan Ersson och hustru Anna Jansdotter, egona 1/8 mtl skatte Heden om 1 öresland och 1/8 mtl skatte Skogsbyn om 1 öresland i Wester fernebo Socken och Wagnsbro härad för en Summa af Sjutusen femhundra /7500/ Riksdaler Riksmynt och som den … penningen med den första är till mig slutligen betald så afhändar jag mig, min köra hustru och barn tillhörde hemmansdelar 1/8 mlt Heden och 1/8 mtl Skogby med alla dess tillhörigheter och tillägnar de samma Jan Ersson och hustru Anna Jansdotter, Heden och arfvingar med hemmansdelar med alla ägor i hus, jord och öfrige tillhörigheter intet undantagandes af hvad dertill lyder af ålder legat eller framledes tillvinnas kan, att äga och bruka och besitta såsom deras välfångna egendom, förbindande till hemul efter lag – Till yttermera visshet har jag tillika med min kära hustru detta Salubref i undertecknande vittnens närvaro, egenhändigt underskrifvet som skedde på Heden den 2ra januari 1861. Eric Jansson (otydligt) och Heden. Anna /bom/ kattharina Jansdotter\n",
      "Jan Ersson Boende på Heden. Anders Mattsson Hebo egor' GPT4 Correct Assistant:{\n",
      "  \"År-månad-dag\": \"1861-01-02\",\n",
      "  \"Län\": \"Westmanlands\",\n",
      "  \"Härad\": \"Wagnsbro\",\n",
      "  \"Socken\": \"Wester färnebo\",\n",
      "  \"By\": \"Heden\",\n",
      "  \"Jordnatur\": \"Skatte\",\n",
      "  \"Nummer\": \"\",\n",
      "  \"Mantal\": \"1/8\",\n",
      "  \"Örestal\": \"1\",\n",
      "  \"Penningland\": \"\",\n",
      "  \"Riksdaler\": \"7500\",\n",
      "  \"Öre\": \"\",\n",
      "  \"Skilling\": \"\",\n",
      "  \"Runstycken\": \"\",\n",
      "  \"Valuta\": \"Riksmynt\",\n",
      "  \"Säljare-manliga\": \"Eric Jansson\",\n",
      "  \"Säljare-kvinnliga\": \"Anna Jansdotters\",\n",
      "  \"Köpare-manliga\": \"Jan Ersson\",\n",
      "  \"Köpare-kvinnliga\": \"Anna Jansdotter\",\n",
      "  \"Köpare-yrke\": \"\",\n",
      "  \"Relation mellan säljare och köpare\": \"Svärfar och Svärson\",\n",
      "  \"Köpare från\": \"\",\n",
      "  \"Fördel\": \"\",\n",
      "  \"Auktion\": \"\"\n",
      "} GPT4 Correct User: Tänk noga steg för steg och extrahera informationen för varje fält i texten från ett markförsäljningskontrakt och presentera det tydligt i JSON-format. dubbelkolla noggrannheten för varje extraherat fält innan presentationen'''Köpsbref\n",
      "Till Socken Skräddaren Pehr Ahlund och hans hu¬\n",
      "stru Lotta Jansdotter i Marma af Alunda Socken,\n",
      "upplåter och försälja undertecknade härmed mitt\n",
      "egande Kronoskatte hemman under No 2 - 1/2 mantal \n",
      "om 4 öre 12 penningsland uti Sunds by af före¬\n",
      "nämnde Socken, Olands härad och Upsala län, emot\n",
      "en oss emellan öfverenskommen och betingad köpe\n",
      "skilling stor Ett Tusende Trettiotre Rdr Banco 16SS\n",
      "Banco /1033 Rs 16/3 Rb Bco/, Och som berörda 1033 Rdr 16 sk\n",
      "13de nu mera äro till fullo betalte, samt i räntio¬\n",
      "tillgång der-af härigenom qvitterede, afhända wi oss\n",
      "att rätt till ifråga komma hemman och tillegne\n",
      "detsumma, med alt hvad dertill hörer, af ålder\n",
      "lydt eller lagligen tillvinnas kan, Socken skrädda\n",
      "ren Pehr Ahlund och dess hustru, hvarå och lar från\n",
      "gar, att den 14 nu kommande Mars med åtstådd\n",
      "gröda tillträda, samt derefter ogtgält nyttja och\n",
      "bruka\n",
      "Till yttermiga vig do häraf igårde detta\n",
      "Köpebref med våra namnet undersättande\n",
      "bekräftedt, försäkres, Östhammar den 18 Ja¬\n",
      "nuarie 1850\n",
      "M. Didriksson C. Didriksson\n",
      "Bevittnas af\n",
      "C. E. Grönstedt Eric Ersson i Sydinge''' GPT4 Correct Assistant: {\n",
      "  \"År-månad-dag\": \"1850-01-18\",\n",
      "  \"Län\": \"Uppsala\",\n",
      "  \"Härad\": \"Olands\",\n",
      "  \"Socken\": \"Skräddarens\",\n",
      "  \"By\": \"Sunds by\",\n",
      "  \"Jordnatur\": \"Kronoskatte hemman\",\n",
      "  \"Nummer\": \"2\",\n",
      "  \"Mantal\": \"1/2\",\n",
      "  \"Örestal\": \"4\",\n",
      "  \"Penningland\": \"12\",\n",
      "  \"Riksdaler\": \"1033\",\n",
      "  \"Öre\": \"16\",\n",
      "  \"Skilling\": \"3\",\n",
      "  \"Runstycken\": \"\",\n",
      "  \"Valuta\": \"Riksbankssedlar\",\n",
      "  \"Säljare-manliga\": \"Möjligen saknas\",\n",
      "  \"Säljare-kvinnliga\": \"Möjligen saknas\",\n",
      "  \"Köpare-manliga\": \"Pehr Ahlund\",\n",
      "  \"Köpare-kvinnliga\": \"Lotta Jansdotter\",\n",
      "  \"Köpare-yrke\": \"Socken Skräddare\",\n",
      "  \"Relation mellan säljare och köpare\": \"Möjligen saknas\",\n",
      "  \"Köpare från\": \"Marma af Alunda Socken\",\n",
      "  \"Fördel\": \"Rätt till ifråga komma hemman och tillegne\",\n",
      "  \"Auktion\": \"\"\n",
      "}\n",
      "\n",
      "Vänligen notera att vissa fält kan vara osäkra eller sakna information i texten, vilket reflekteras i svars-JSON.\n"
     ]
    },
    {
     "name": "stdout",
     "output_type": "stream",
     "text": [
      "Row added!\n",
      "Row added!\n",
      "Row added!\n",
      "Row added!\n",
      "Row added!\n",
      "Row added!\n",
      "Row added!\n",
      "Row added!\n",
      "Row added!\n",
      "Row added!\n",
      "Row added!\n",
      "Row added!\n",
      "Row added!\n",
      "Row added!\n",
      "Row added!\n",
      "Row added!\n",
      "Row added!\n",
      "Row added!\n",
      "Row added!\n"
     ]
    }
   ],
   "source": [
    "#chain of thought user prompt test 1\n",
    "# Initialize a list to collect data\n",
    "extracted_data = []\n",
    "\n",
    "# Loop through each text in the DataFrame\n",
    "for text in df['Text']:\n",
    "    text='Tänk noga steg för steg och extrahera informationen för varje fält i texten från ett markförsäljningskontrakt och presentera det tydligt i JSON-format. dubbelkolla noggrannheten för varje extraherat fält innan presentationen' + \"'''\"+text.strip()+\"'''\"\n",
    "    # Construct the multi-turn prompt\n",
    "    multi_turn_prompt = f\"GPT4 Correct System: {system_prompt}<|end_of_turn|>GPT4 Correct User: {prompt1}<|end_of_turn|>GPT4 Correct Assistant: {response1}<|end_of_turn|>GPT4 Correct User: {prompt2}<|end_of_turn|>GPT4 Correct Assistant: {response2}<|end_of_turn|>GPT4 Correct User: {prompt3}<|end_of_turn|>GPT4 Correct Assistant: {response3}<|end_of_turn|>GPT4 Correct User: {prompt4}<|end_of_turn|>GPT4 Correct Assistant:{response4}<|end_of_turn|>GPT4 Correct User: {text}<|end_of_turn|>GPT4 Correct Assistant:\"\n",
    "    #multi_turn_prompt = f\"GPT4 Correct System: {system_prompt}<|end_of_turn|>GPT4 Correct User: {prompt1}<|end_of_turn|>GPT4 Correct Assistant: {response1}<|end_of_turn|>GPT4 Correct User: {prompt2}<|end_of_turn|>GPT4 Correct Assistant: {response2}<|end_of_turn|>GPT4 Correct User: {prompt3}<|end_of_turn|>GPT4 Correct Assistant: {response3}<|end_of_turn|>GPT4 Correct User: {prompt4}<|end_of_turn|>GPT4 Correct Assistant:{response4}<|end_of_turn|>GPT4 Correct User: {prompt5}<|end_of_turn|>GPT4 Correct Assistant:\"\n",
    "\n",
    "    # Generate the response\n",
    "    response_text = generate_response(multi_turn_prompt, temp=0.8, top_p=0.85)\n",
    "    \n",
    "    # Parse JSON and add to the list\n",
    "    try:\n",
    "        # Extract JSON from the response\n",
    "        json_data = json.loads('{'+response_text.split('{')[-1])\n",
    "        extracted_data.append(json_data)\n",
    "        print('Row added!')\n",
    "    except json.JSONDecodeError:\n",
    "        print(\"Error parsing JSON for response: \", response_text)\n",
    "\n",
    "# Create a DataFrame from the collected data\n",
    "df_extracted_hightp = pd.DataFrame(extracted_data)\n",
    "df_extracted_hightp.to_csv('COTExtracted_hightnp.csv')\n",
    "df_extracted_hightp.to_excel('COTExtracted_hightnp.xlsx')\n"
   ]
  },
  {
   "cell_type": "code",
   "execution_count": null,
   "id": "4b80e101",
   "metadata": {},
   "outputs": [],
   "source": []
  }
 ],
 "metadata": {
  "kernelspec": {
   "display_name": "Python 3 (ipykernel)",
   "language": "python",
   "name": "python3"
  },
  "language_info": {
   "codemirror_mode": {
    "name": "ipython",
    "version": 3
   },
   "file_extension": ".py",
   "mimetype": "text/x-python",
   "name": "python",
   "nbconvert_exporter": "python",
   "pygments_lexer": "ipython3",
   "version": "3.9.19"
  }
 },
 "nbformat": 4,
 "nbformat_minor": 5
}
