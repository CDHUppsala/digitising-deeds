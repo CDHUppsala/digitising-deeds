{
 "cells": [
  {
   "cell_type": "code",
   "execution_count": null,
   "id": "81ad43b0-6dcc-42be-ad07-3ca3272c330d",
   "metadata": {},
   "outputs": [],
   "source": [
    "#run this first time but please check you are inside the htrflow_app folder using the command in the following cell\n",
    "!git clone https://github.com/Swedish-National-Archives-AI-lab/htrflow_app.git\n",
    "%cd htrflow_app"
   ]
  },
  {
   "cell_type": "code",
   "execution_count": null,
   "id": "0933c87c-c3fe-4a49-8356-9425522f0de9",
   "metadata": {},
   "outputs": [],
   "source": [
    "#conda activate htrflow\n",
    "!pip install -r requirements.txt\n",
    "!mim uninstall mmengine --y\n",
    "!mim uninstall mmcv --y\n",
    "!mim uninstall mmdet --y\n",
    "!mim uninstall mmocr --y\n",
    "!pip install -U openmim\n",
    "!mim install \"mmengine>=0.7.1,<1.1.0\"\n",
    "!mim install \"mmcv>=2.0.0rc4,<2.1.0\"\n",
    "!mim install \"mmdet>=3.0.0rc5,<3.2.0\"\n",
    "!mim install mmocr\n",
    "!pip install gradio"
   ]
  },
  {
   "cell_type": "code",
   "execution_count": 1,
   "id": "7d3216da-a1bb-4613-a21d-b469a14e2e14",
   "metadata": {},
   "outputs": [
    {
     "name": "stdout",
     "output_type": "stream",
     "text": [
      "/home/sush/mmocr/htrflow_app/htrflow_app\n"
     ]
    },
    {
     "name": "stderr",
     "output_type": "stream",
     "text": [
      "/home/sush/miniconda3/envs/htrflow/lib/python3.11/site-packages/IPython/core/magics/osm.py:417: UserWarning: using dhist requires you to install the `pickleshare` library.\n",
      "  self.shell.db['dhist'] = compress_dhist(dhist)[-100:]\n"
     ]
    }
   ],
   "source": [
    "#%cd htrflow_app"
   ]
  },
  {
   "cell_type": "code",
   "execution_count": 1,
   "id": "ede22118-a698-462f-a78e-18354d5bb2e7",
   "metadata": {},
   "outputs": [
    {
     "data": {
      "application/vnd.jupyter.widget-view+json": {
       "model_id": "01f032e3d3bf4f34bec338216949eb56",
       "version_major": 2,
       "version_minor": 0
      },
      "text/plain": [
       "Fetching 3 files:   0%|          | 0/3 [00:00<?, ?it/s]"
      ]
     },
     "metadata": {},
     "output_type": "display_data"
    },
    {
     "name": "stdout",
     "output_type": "stream",
     "text": [
      "Loads checkpoint by local backend from path: ./models--Riksarkivet--HTR_pipeline_models/snapshots/c908370b6352799451e261a8aef1ad05e1df7b96/RmtDet_regions/epoch_12.pth\n",
      "03/20 14:25:50 - mmengine - \u001b[5m\u001b[4m\u001b[33mWARNING\u001b[0m - TextRegion is not a meta file, simply parsed as meta information\n",
      "03/20 14:25:51 - mmengine - \u001b[5m\u001b[4m\u001b[33mWARNING\u001b[0m - Failed to search registry with scope \"mmdet\" in the \"function\" registry tree. As a workaround, the current \"function\" registry in \"mmengine\" is used to build instance. This may cause unexpected failure when running the built modules. Please check whether \"mmdet\" is a correct scope, or whether the registry is initialized.\n",
      "Loads checkpoint by local backend from path: ./models--Riksarkivet--HTR_pipeline_models/snapshots/c908370b6352799451e261a8aef1ad05e1df7b96/RmtDet_lines/epoch_12.pth\n",
      "03/20 14:25:52 - mmengine - \u001b[5m\u001b[4m\u001b[33mWARNING\u001b[0m - text_line is not a meta file, simply parsed as meta information\n",
      "Loads checkpoint by local backend from path: ./models--Riksarkivet--HTR_pipeline_models/snapshots/c908370b6352799451e261a8aef1ad05e1df7b96/SATRN/epoch_5.pth\n",
      "03/20 14:25:53 - mmengine - \u001b[5m\u001b[4m\u001b[33mWARNING\u001b[0m - Failed to search registry with scope \"mmocr\" in the \"function\" registry tree. As a workaround, the current \"function\" registry in \"mmengine\" is used to build instance. This may cause unexpected failure when running the built modules. Please check whether \"mmocr\" is a correct scope, or whether the registry is initialized.\n"
     ]
    },
    {
     "name": "stderr",
     "output_type": "stream",
     "text": [
      "/home/sush/miniconda3/envs/htrflow/lib/python3.11/site-packages/mmengine/visualization/visualizer.py:196: UserWarning: Failed to add <class 'mmengine.visualization.vis_backend.TensorboardVisBackend'>, please provide the `save_dir` argument.\n",
      "  warnings.warn(f'Failed to add {vis_backend.__class__}, '\n"
     ]
    }
   ],
   "source": [
    "from src.htr_pipeline.inferencer import Inferencer\n",
    "from src.htr_pipeline.pipeline import Pipeline\n",
    "\n",
    "inferencer = Inferencer(local_run=True)  \n",
    "pipeline = Pipeline(inferencer)\n"
   ]
  },
  {
   "cell_type": "code",
   "execution_count": 2,
   "id": "ea6cd62e-9dc7-40b3-bdd9-4c2e181eb87d",
   "metadata": {
    "scrolled": true
   },
   "outputs": [
    {
     "data": {
      "application/vnd.jupyter.widget-view+json": {
       "model_id": "6d15b6f6cbff4937aa496e945698a1ab",
       "version_major": 2,
       "version_minor": 0
      },
      "text/plain": [
       "Output()"
      ]
     },
     "metadata": {},
     "output_type": "display_data"
    },
    {
     "data": {
      "text/html": [
       "<pre style=\"white-space:pre;overflow-x:auto;line-height:normal;font-family:Menlo,'DejaVu Sans Mono',consolas,'Courier New',monospace\">/home/sush/miniconda3/envs/htrflow/lib/python3.11/site-packages/torch/functional.py:504: UserWarning: \n",
       "torch.meshgrid: in an upcoming release, it will be required to pass the indexing argument. (Triggered internally at\n",
       "../aten/src/ATen/native/TensorShape.cpp:3483.)\n",
       "  return _VF.meshgrid(tensors, **kwargs)  # type: ignore[attr-defined]\n",
       "</pre>\n"
      ],
      "text/plain": [
       "/home/sush/miniconda3/envs/htrflow/lib/python3.11/site-packages/torch/functional.py:504: UserWarning: \n",
       "torch.meshgrid: in an upcoming release, it will be required to pass the indexing argument. (Triggered internally at\n",
       "../aten/src/ATen/native/TensorShape.cpp:3483.)\n",
       "  return _VF.meshgrid(tensors, **kwargs)  # type: ignore[attr-defined]\n"
      ]
     },
     "metadata": {},
     "output_type": "display_data"
    },
    {
     "data": {
      "text/html": [
       "<pre style=\"white-space:pre;overflow-x:auto;line-height:normal;font-family:Menlo,'DejaVu Sans Mono',consolas,'Courier New',monospace\"></pre>\n"
      ],
      "text/plain": []
     },
     "metadata": {},
     "output_type": "display_data"
    },
    {
     "data": {
      "text/html": [
       "<pre style=\"white-space:pre;overflow-x:auto;line-height:normal;font-family:Menlo,'DejaVu Sans Mono',consolas,'Courier New',monospace\">\n",
       "</pre>\n"
      ],
      "text/plain": [
       "\n"
      ]
     },
     "metadata": {},
     "output_type": "display_data"
    },
    {
     "name": "stdout",
     "output_type": "stream",
     "text": [
      "Function 'predict_regions' executed in 1.4015s\n",
      "Found 5 Regions to parse\n"
     ]
    },
    {
     "name": "stderr",
     "output_type": "stream",
     "text": [
      "0it [00:00, ?it/s]"
     ]
    },
    {
     "data": {
      "application/vnd.jupyter.widget-view+json": {
       "model_id": "41d708c3a0f54d298518fb88ffbaf5d6",
       "version_major": 2,
       "version_minor": 0
      },
      "text/plain": [
       "Output()"
      ]
     },
     "metadata": {},
     "output_type": "display_data"
    },
    {
     "data": {
      "text/html": [
       "<pre style=\"white-space:pre;overflow-x:auto;line-height:normal;font-family:Menlo,'DejaVu Sans Mono',consolas,'Courier New',monospace\"></pre>\n"
      ],
      "text/plain": []
     },
     "metadata": {},
     "output_type": "display_data"
    },
    {
     "data": {
      "text/html": [
       "<pre style=\"white-space:pre;overflow-x:auto;line-height:normal;font-family:Menlo,'DejaVu Sans Mono',consolas,'Courier New',monospace\">\n",
       "</pre>\n"
      ],
      "text/plain": [
       "\n"
      ]
     },
     "metadata": {},
     "output_type": "display_data"
    },
    {
     "data": {
      "application/vnd.jupyter.widget-view+json": {
       "model_id": "ddc9a82fc2dc455390468f73e24aa817",
       "version_major": 2,
       "version_minor": 0
      },
      "text/plain": [
       "Output()"
      ]
     },
     "metadata": {},
     "output_type": "display_data"
    },
    {
     "name": "stdout",
     "output_type": "stream",
     "text": [
      "Function 'predict_lines' executed in 0.0436s\n",
      " Region 0, found 1 lines to parse and transcribe.\n"
     ]
    },
    {
     "data": {
      "text/html": [
       "<pre style=\"white-space:pre;overflow-x:auto;line-height:normal;font-family:Menlo,'DejaVu Sans Mono',consolas,'Courier New',monospace\"></pre>\n"
      ],
      "text/plain": []
     },
     "metadata": {},
     "output_type": "display_data"
    },
    {
     "data": {
      "text/html": [
       "<pre style=\"white-space:pre;overflow-x:auto;line-height:normal;font-family:Menlo,'DejaVu Sans Mono',consolas,'Courier New',monospace\">\n",
       "</pre>\n"
      ],
      "text/plain": [
       "\n"
      ]
     },
     "metadata": {},
     "output_type": "display_data"
    },
    {
     "name": "stderr",
     "output_type": "stream",
     "text": [
      "1it [00:00,  1.44it/s]"
     ]
    },
    {
     "data": {
      "application/vnd.jupyter.widget-view+json": {
       "model_id": "35de0eb77622498989ef2292e5390eab",
       "version_major": 2,
       "version_minor": 0
      },
      "text/plain": [
       "Output()"
      ]
     },
     "metadata": {},
     "output_type": "display_data"
    },
    {
     "name": "stdout",
     "output_type": "stream",
     "text": [
      "Function 'transcribe' executed in 0.6495s\n"
     ]
    },
    {
     "data": {
      "text/html": [
       "<pre style=\"white-space:pre;overflow-x:auto;line-height:normal;font-family:Menlo,'DejaVu Sans Mono',consolas,'Courier New',monospace\"></pre>\n"
      ],
      "text/plain": []
     },
     "metadata": {},
     "output_type": "display_data"
    },
    {
     "data": {
      "text/html": [
       "<pre style=\"white-space:pre;overflow-x:auto;line-height:normal;font-family:Menlo,'DejaVu Sans Mono',consolas,'Courier New',monospace\">\n",
       "</pre>\n"
      ],
      "text/plain": [
       "\n"
      ]
     },
     "metadata": {},
     "output_type": "display_data"
    },
    {
     "name": "stdout",
     "output_type": "stream",
     "text": [
      "Function 'predict_lines' executed in 0.8610s\n"
     ]
    },
    {
     "data": {
      "application/vnd.jupyter.widget-view+json": {
       "model_id": "ffa1e61840514561b9e0e18050cd930f",
       "version_major": 2,
       "version_minor": 0
      },
      "text/plain": [
       "Output()"
      ]
     },
     "metadata": {},
     "output_type": "display_data"
    },
    {
     "name": "stdout",
     "output_type": "stream",
     "text": [
      " Region 1, found 34 lines to parse and transcribe.\n"
     ]
    },
    {
     "data": {
      "text/html": [
       "<pre style=\"white-space:pre;overflow-x:auto;line-height:normal;font-family:Menlo,'DejaVu Sans Mono',consolas,'Courier New',monospace\"></pre>\n"
      ],
      "text/plain": []
     },
     "metadata": {},
     "output_type": "display_data"
    },
    {
     "data": {
      "text/html": [
       "<pre style=\"white-space:pre;overflow-x:auto;line-height:normal;font-family:Menlo,'DejaVu Sans Mono',consolas,'Courier New',monospace\">\n",
       "</pre>\n"
      ],
      "text/plain": [
       "\n"
      ]
     },
     "metadata": {},
     "output_type": "display_data"
    },
    {
     "data": {
      "application/vnd.jupyter.widget-view+json": {
       "model_id": "252b0f8f49e24bf2b064ec7d1e7bb40a",
       "version_major": 2,
       "version_minor": 0
      },
      "text/plain": [
       "Output()"
      ]
     },
     "metadata": {},
     "output_type": "display_data"
    },
    {
     "name": "stdout",
     "output_type": "stream",
     "text": [
      "Function 'transcribe' executed in 0.6346s\n"
     ]
    },
    {
     "data": {
      "text/html": [
       "<pre style=\"white-space:pre;overflow-x:auto;line-height:normal;font-family:Menlo,'DejaVu Sans Mono',consolas,'Courier New',monospace\"></pre>\n"
      ],
      "text/plain": []
     },
     "metadata": {},
     "output_type": "display_data"
    },
    {
     "data": {
      "text/html": [
       "<pre style=\"white-space:pre;overflow-x:auto;line-height:normal;font-family:Menlo,'DejaVu Sans Mono',consolas,'Courier New',monospace\">\n",
       "</pre>\n"
      ],
      "text/plain": [
       "\n"
      ]
     },
     "metadata": {},
     "output_type": "display_data"
    },
    {
     "data": {
      "application/vnd.jupyter.widget-view+json": {
       "model_id": "05adf8c4708d4f5f8d0026c981382f27",
       "version_major": 2,
       "version_minor": 0
      },
      "text/plain": [
       "Output()"
      ]
     },
     "metadata": {},
     "output_type": "display_data"
    },
    {
     "name": "stdout",
     "output_type": "stream",
     "text": [
      "Function 'transcribe' executed in 0.6382s\n"
     ]
    },
    {
     "data": {
      "text/html": [
       "<pre style=\"white-space:pre;overflow-x:auto;line-height:normal;font-family:Menlo,'DejaVu Sans Mono',consolas,'Courier New',monospace\"></pre>\n"
      ],
      "text/plain": []
     },
     "metadata": {},
     "output_type": "display_data"
    },
    {
     "data": {
      "text/html": [
       "<pre style=\"white-space:pre;overflow-x:auto;line-height:normal;font-family:Menlo,'DejaVu Sans Mono',consolas,'Courier New',monospace\">\n",
       "</pre>\n"
      ],
      "text/plain": [
       "\n"
      ]
     },
     "metadata": {},
     "output_type": "display_data"
    },
    {
     "data": {
      "application/vnd.jupyter.widget-view+json": {
       "model_id": "f207a768b8cb45308f4a90e1a1c9fbfa",
       "version_major": 2,
       "version_minor": 0
      },
      "text/plain": [
       "Output()"
      ]
     },
     "metadata": {},
     "output_type": "display_data"
    },
    {
     "name": "stdout",
     "output_type": "stream",
     "text": [
      "Function 'transcribe' executed in 0.6258s\n"
     ]
    },
    {
     "data": {
      "text/html": [
       "<pre style=\"white-space:pre;overflow-x:auto;line-height:normal;font-family:Menlo,'DejaVu Sans Mono',consolas,'Courier New',monospace\"></pre>\n"
      ],
      "text/plain": []
     },
     "metadata": {},
     "output_type": "display_data"
    },
    {
     "data": {
      "text/html": [
       "<pre style=\"white-space:pre;overflow-x:auto;line-height:normal;font-family:Menlo,'DejaVu Sans Mono',consolas,'Courier New',monospace\">\n",
       "</pre>\n"
      ],
      "text/plain": [
       "\n"
      ]
     },
     "metadata": {},
     "output_type": "display_data"
    },
    {
     "data": {
      "application/vnd.jupyter.widget-view+json": {
       "model_id": "d55632c95b5d4a49ad3a9544b5fa8d17",
       "version_major": 2,
       "version_minor": 0
      },
      "text/plain": [
       "Output()"
      ]
     },
     "metadata": {},
     "output_type": "display_data"
    },
    {
     "name": "stdout",
     "output_type": "stream",
     "text": [
      "Function 'transcribe' executed in 0.6222s\n"
     ]
    },
    {
     "data": {
      "text/html": [
       "<pre style=\"white-space:pre;overflow-x:auto;line-height:normal;font-family:Menlo,'DejaVu Sans Mono',consolas,'Courier New',monospace\"></pre>\n"
      ],
      "text/plain": []
     },
     "metadata": {},
     "output_type": "display_data"
    },
    {
     "data": {
      "text/html": [
       "<pre style=\"white-space:pre;overflow-x:auto;line-height:normal;font-family:Menlo,'DejaVu Sans Mono',consolas,'Courier New',monospace\">\n",
       "</pre>\n"
      ],
      "text/plain": [
       "\n"
      ]
     },
     "metadata": {},
     "output_type": "display_data"
    },
    {
     "data": {
      "application/vnd.jupyter.widget-view+json": {
       "model_id": "9f3a32718190402f8e541283462bcfbd",
       "version_major": 2,
       "version_minor": 0
      },
      "text/plain": [
       "Output()"
      ]
     },
     "metadata": {},
     "output_type": "display_data"
    },
    {
     "name": "stdout",
     "output_type": "stream",
     "text": [
      "Function 'transcribe' executed in 0.7015s\n"
     ]
    },
    {
     "data": {
      "text/html": [
       "<pre style=\"white-space:pre;overflow-x:auto;line-height:normal;font-family:Menlo,'DejaVu Sans Mono',consolas,'Courier New',monospace\"></pre>\n"
      ],
      "text/plain": []
     },
     "metadata": {},
     "output_type": "display_data"
    },
    {
     "data": {
      "text/html": [
       "<pre style=\"white-space:pre;overflow-x:auto;line-height:normal;font-family:Menlo,'DejaVu Sans Mono',consolas,'Courier New',monospace\">\n",
       "</pre>\n"
      ],
      "text/plain": [
       "\n"
      ]
     },
     "metadata": {},
     "output_type": "display_data"
    },
    {
     "data": {
      "application/vnd.jupyter.widget-view+json": {
       "model_id": "7f308b93b323420792ccb056b62bb582",
       "version_major": 2,
       "version_minor": 0
      },
      "text/plain": [
       "Output()"
      ]
     },
     "metadata": {},
     "output_type": "display_data"
    },
    {
     "name": "stdout",
     "output_type": "stream",
     "text": [
      "Function 'transcribe' executed in 0.6857s\n"
     ]
    },
    {
     "data": {
      "text/html": [
       "<pre style=\"white-space:pre;overflow-x:auto;line-height:normal;font-family:Menlo,'DejaVu Sans Mono',consolas,'Courier New',monospace\"></pre>\n"
      ],
      "text/plain": []
     },
     "metadata": {},
     "output_type": "display_data"
    },
    {
     "data": {
      "text/html": [
       "<pre style=\"white-space:pre;overflow-x:auto;line-height:normal;font-family:Menlo,'DejaVu Sans Mono',consolas,'Courier New',monospace\">\n",
       "</pre>\n"
      ],
      "text/plain": [
       "\n"
      ]
     },
     "metadata": {},
     "output_type": "display_data"
    },
    {
     "data": {
      "application/vnd.jupyter.widget-view+json": {
       "model_id": "b073fe8efd244805a23a6785c58c3120",
       "version_major": 2,
       "version_minor": 0
      },
      "text/plain": [
       "Output()"
      ]
     },
     "metadata": {},
     "output_type": "display_data"
    },
    {
     "name": "stdout",
     "output_type": "stream",
     "text": [
      "Function 'transcribe' executed in 0.6347s\n"
     ]
    },
    {
     "data": {
      "text/html": [
       "<pre style=\"white-space:pre;overflow-x:auto;line-height:normal;font-family:Menlo,'DejaVu Sans Mono',consolas,'Courier New',monospace\"></pre>\n"
      ],
      "text/plain": []
     },
     "metadata": {},
     "output_type": "display_data"
    },
    {
     "data": {
      "text/html": [
       "<pre style=\"white-space:pre;overflow-x:auto;line-height:normal;font-family:Menlo,'DejaVu Sans Mono',consolas,'Courier New',monospace\">\n",
       "</pre>\n"
      ],
      "text/plain": [
       "\n"
      ]
     },
     "metadata": {},
     "output_type": "display_data"
    },
    {
     "data": {
      "application/vnd.jupyter.widget-view+json": {
       "model_id": "1346e42c071b40d4972674392cbcca40",
       "version_major": 2,
       "version_minor": 0
      },
      "text/plain": [
       "Output()"
      ]
     },
     "metadata": {},
     "output_type": "display_data"
    },
    {
     "name": "stdout",
     "output_type": "stream",
     "text": [
      "Function 'transcribe' executed in 0.6291s\n"
     ]
    },
    {
     "data": {
      "text/html": [
       "<pre style=\"white-space:pre;overflow-x:auto;line-height:normal;font-family:Menlo,'DejaVu Sans Mono',consolas,'Courier New',monospace\"></pre>\n"
      ],
      "text/plain": []
     },
     "metadata": {},
     "output_type": "display_data"
    },
    {
     "data": {
      "text/html": [
       "<pre style=\"white-space:pre;overflow-x:auto;line-height:normal;font-family:Menlo,'DejaVu Sans Mono',consolas,'Courier New',monospace\">\n",
       "</pre>\n"
      ],
      "text/plain": [
       "\n"
      ]
     },
     "metadata": {},
     "output_type": "display_data"
    },
    {
     "data": {
      "application/vnd.jupyter.widget-view+json": {
       "model_id": "f0aa8a7fb6234bdaae42bcb0c4152a54",
       "version_major": 2,
       "version_minor": 0
      },
      "text/plain": [
       "Output()"
      ]
     },
     "metadata": {},
     "output_type": "display_data"
    },
    {
     "name": "stdout",
     "output_type": "stream",
     "text": [
      "Function 'transcribe' executed in 0.6237s\n"
     ]
    },
    {
     "data": {
      "text/html": [
       "<pre style=\"white-space:pre;overflow-x:auto;line-height:normal;font-family:Menlo,'DejaVu Sans Mono',consolas,'Courier New',monospace\"></pre>\n"
      ],
      "text/plain": []
     },
     "metadata": {},
     "output_type": "display_data"
    },
    {
     "data": {
      "text/html": [
       "<pre style=\"white-space:pre;overflow-x:auto;line-height:normal;font-family:Menlo,'DejaVu Sans Mono',consolas,'Courier New',monospace\">\n",
       "</pre>\n"
      ],
      "text/plain": [
       "\n"
      ]
     },
     "metadata": {},
     "output_type": "display_data"
    },
    {
     "data": {
      "application/vnd.jupyter.widget-view+json": {
       "model_id": "d03de0bfd4a645339407afbd2a4747e9",
       "version_major": 2,
       "version_minor": 0
      },
      "text/plain": [
       "Output()"
      ]
     },
     "metadata": {},
     "output_type": "display_data"
    },
    {
     "name": "stdout",
     "output_type": "stream",
     "text": [
      "Function 'transcribe' executed in 0.6235s\n",
      "Region 1, parsed 10 lines. Still 24 lines left to transcribe.\n"
     ]
    },
    {
     "data": {
      "text/html": [
       "<pre style=\"white-space:pre;overflow-x:auto;line-height:normal;font-family:Menlo,'DejaVu Sans Mono',consolas,'Courier New',monospace\"></pre>\n"
      ],
      "text/plain": []
     },
     "metadata": {},
     "output_type": "display_data"
    },
    {
     "data": {
      "text/html": [
       "<pre style=\"white-space:pre;overflow-x:auto;line-height:normal;font-family:Menlo,'DejaVu Sans Mono',consolas,'Courier New',monospace\">\n",
       "</pre>\n"
      ],
      "text/plain": [
       "\n"
      ]
     },
     "metadata": {},
     "output_type": "display_data"
    },
    {
     "data": {
      "application/vnd.jupyter.widget-view+json": {
       "model_id": "47e2a07744524fd187c23f753b6006a9",
       "version_major": 2,
       "version_minor": 0
      },
      "text/plain": [
       "Output()"
      ]
     },
     "metadata": {},
     "output_type": "display_data"
    },
    {
     "name": "stdout",
     "output_type": "stream",
     "text": [
      "Function 'transcribe' executed in 0.6275s\n"
     ]
    },
    {
     "data": {
      "text/html": [
       "<pre style=\"white-space:pre;overflow-x:auto;line-height:normal;font-family:Menlo,'DejaVu Sans Mono',consolas,'Courier New',monospace\"></pre>\n"
      ],
      "text/plain": []
     },
     "metadata": {},
     "output_type": "display_data"
    },
    {
     "data": {
      "text/html": [
       "<pre style=\"white-space:pre;overflow-x:auto;line-height:normal;font-family:Menlo,'DejaVu Sans Mono',consolas,'Courier New',monospace\">\n",
       "</pre>\n"
      ],
      "text/plain": [
       "\n"
      ]
     },
     "metadata": {},
     "output_type": "display_data"
    },
    {
     "data": {
      "application/vnd.jupyter.widget-view+json": {
       "model_id": "629607864406406287da931034fe8159",
       "version_major": 2,
       "version_minor": 0
      },
      "text/plain": [
       "Output()"
      ]
     },
     "metadata": {},
     "output_type": "display_data"
    },
    {
     "name": "stdout",
     "output_type": "stream",
     "text": [
      "Function 'transcribe' executed in 0.6403s\n"
     ]
    },
    {
     "data": {
      "text/html": [
       "<pre style=\"white-space:pre;overflow-x:auto;line-height:normal;font-family:Menlo,'DejaVu Sans Mono',consolas,'Courier New',monospace\"></pre>\n"
      ],
      "text/plain": []
     },
     "metadata": {},
     "output_type": "display_data"
    },
    {
     "data": {
      "text/html": [
       "<pre style=\"white-space:pre;overflow-x:auto;line-height:normal;font-family:Menlo,'DejaVu Sans Mono',consolas,'Courier New',monospace\">\n",
       "</pre>\n"
      ],
      "text/plain": [
       "\n"
      ]
     },
     "metadata": {},
     "output_type": "display_data"
    },
    {
     "data": {
      "application/vnd.jupyter.widget-view+json": {
       "model_id": "b6f54ee279fa4e179e2f30337701c4b0",
       "version_major": 2,
       "version_minor": 0
      },
      "text/plain": [
       "Output()"
      ]
     },
     "metadata": {},
     "output_type": "display_data"
    },
    {
     "name": "stdout",
     "output_type": "stream",
     "text": [
      "Function 'transcribe' executed in 0.7895s\n"
     ]
    },
    {
     "data": {
      "text/html": [
       "<pre style=\"white-space:pre;overflow-x:auto;line-height:normal;font-family:Menlo,'DejaVu Sans Mono',consolas,'Courier New',monospace\"></pre>\n"
      ],
      "text/plain": []
     },
     "metadata": {},
     "output_type": "display_data"
    },
    {
     "data": {
      "text/html": [
       "<pre style=\"white-space:pre;overflow-x:auto;line-height:normal;font-family:Menlo,'DejaVu Sans Mono',consolas,'Courier New',monospace\">\n",
       "</pre>\n"
      ],
      "text/plain": [
       "\n"
      ]
     },
     "metadata": {},
     "output_type": "display_data"
    },
    {
     "data": {
      "application/vnd.jupyter.widget-view+json": {
       "model_id": "8cfcd6b948f241c3b1793aa8ead026fb",
       "version_major": 2,
       "version_minor": 0
      },
      "text/plain": [
       "Output()"
      ]
     },
     "metadata": {},
     "output_type": "display_data"
    },
    {
     "name": "stdout",
     "output_type": "stream",
     "text": [
      "Function 'transcribe' executed in 0.7826s\n"
     ]
    },
    {
     "data": {
      "text/html": [
       "<pre style=\"white-space:pre;overflow-x:auto;line-height:normal;font-family:Menlo,'DejaVu Sans Mono',consolas,'Courier New',monospace\"></pre>\n"
      ],
      "text/plain": []
     },
     "metadata": {},
     "output_type": "display_data"
    },
    {
     "data": {
      "text/html": [
       "<pre style=\"white-space:pre;overflow-x:auto;line-height:normal;font-family:Menlo,'DejaVu Sans Mono',consolas,'Courier New',monospace\">\n",
       "</pre>\n"
      ],
      "text/plain": [
       "\n"
      ]
     },
     "metadata": {},
     "output_type": "display_data"
    },
    {
     "data": {
      "application/vnd.jupyter.widget-view+json": {
       "model_id": "aefd36f41bf5467b8c4067c4bd261176",
       "version_major": 2,
       "version_minor": 0
      },
      "text/plain": [
       "Output()"
      ]
     },
     "metadata": {},
     "output_type": "display_data"
    },
    {
     "name": "stdout",
     "output_type": "stream",
     "text": [
      "Function 'transcribe' executed in 0.7997s\n"
     ]
    },
    {
     "data": {
      "text/html": [
       "<pre style=\"white-space:pre;overflow-x:auto;line-height:normal;font-family:Menlo,'DejaVu Sans Mono',consolas,'Courier New',monospace\"></pre>\n"
      ],
      "text/plain": []
     },
     "metadata": {},
     "output_type": "display_data"
    },
    {
     "data": {
      "text/html": [
       "<pre style=\"white-space:pre;overflow-x:auto;line-height:normal;font-family:Menlo,'DejaVu Sans Mono',consolas,'Courier New',monospace\">\n",
       "</pre>\n"
      ],
      "text/plain": [
       "\n"
      ]
     },
     "metadata": {},
     "output_type": "display_data"
    },
    {
     "data": {
      "application/vnd.jupyter.widget-view+json": {
       "model_id": "7fcaaa1a0b214a89959e5ffb8af8be46",
       "version_major": 2,
       "version_minor": 0
      },
      "text/plain": [
       "Output()"
      ]
     },
     "metadata": {},
     "output_type": "display_data"
    },
    {
     "name": "stdout",
     "output_type": "stream",
     "text": [
      "Function 'transcribe' executed in 0.7820s\n"
     ]
    },
    {
     "data": {
      "text/html": [
       "<pre style=\"white-space:pre;overflow-x:auto;line-height:normal;font-family:Menlo,'DejaVu Sans Mono',consolas,'Courier New',monospace\"></pre>\n"
      ],
      "text/plain": []
     },
     "metadata": {},
     "output_type": "display_data"
    },
    {
     "data": {
      "text/html": [
       "<pre style=\"white-space:pre;overflow-x:auto;line-height:normal;font-family:Menlo,'DejaVu Sans Mono',consolas,'Courier New',monospace\">\n",
       "</pre>\n"
      ],
      "text/plain": [
       "\n"
      ]
     },
     "metadata": {},
     "output_type": "display_data"
    },
    {
     "data": {
      "application/vnd.jupyter.widget-view+json": {
       "model_id": "f4f67b3fe2f542e3b0e3d013d7d77ff9",
       "version_major": 2,
       "version_minor": 0
      },
      "text/plain": [
       "Output()"
      ]
     },
     "metadata": {},
     "output_type": "display_data"
    },
    {
     "name": "stdout",
     "output_type": "stream",
     "text": [
      "Function 'transcribe' executed in 0.7785s\n"
     ]
    },
    {
     "data": {
      "text/html": [
       "<pre style=\"white-space:pre;overflow-x:auto;line-height:normal;font-family:Menlo,'DejaVu Sans Mono',consolas,'Courier New',monospace\"></pre>\n"
      ],
      "text/plain": []
     },
     "metadata": {},
     "output_type": "display_data"
    },
    {
     "data": {
      "text/html": [
       "<pre style=\"white-space:pre;overflow-x:auto;line-height:normal;font-family:Menlo,'DejaVu Sans Mono',consolas,'Courier New',monospace\">\n",
       "</pre>\n"
      ],
      "text/plain": [
       "\n"
      ]
     },
     "metadata": {},
     "output_type": "display_data"
    },
    {
     "data": {
      "application/vnd.jupyter.widget-view+json": {
       "model_id": "643b66c184744fab8a1db4e9c8eb2772",
       "version_major": 2,
       "version_minor": 0
      },
      "text/plain": [
       "Output()"
      ]
     },
     "metadata": {},
     "output_type": "display_data"
    },
    {
     "name": "stdout",
     "output_type": "stream",
     "text": [
      "Function 'transcribe' executed in 0.7831s\n"
     ]
    },
    {
     "data": {
      "text/html": [
       "<pre style=\"white-space:pre;overflow-x:auto;line-height:normal;font-family:Menlo,'DejaVu Sans Mono',consolas,'Courier New',monospace\"></pre>\n"
      ],
      "text/plain": []
     },
     "metadata": {},
     "output_type": "display_data"
    },
    {
     "data": {
      "text/html": [
       "<pre style=\"white-space:pre;overflow-x:auto;line-height:normal;font-family:Menlo,'DejaVu Sans Mono',consolas,'Courier New',monospace\">\n",
       "</pre>\n"
      ],
      "text/plain": [
       "\n"
      ]
     },
     "metadata": {},
     "output_type": "display_data"
    },
    {
     "data": {
      "application/vnd.jupyter.widget-view+json": {
       "model_id": "946a2be520a6408e9a90d5b886b06b65",
       "version_major": 2,
       "version_minor": 0
      },
      "text/plain": [
       "Output()"
      ]
     },
     "metadata": {},
     "output_type": "display_data"
    },
    {
     "name": "stdout",
     "output_type": "stream",
     "text": [
      "Function 'transcribe' executed in 0.7812s\n"
     ]
    },
    {
     "data": {
      "text/html": [
       "<pre style=\"white-space:pre;overflow-x:auto;line-height:normal;font-family:Menlo,'DejaVu Sans Mono',consolas,'Courier New',monospace\"></pre>\n"
      ],
      "text/plain": []
     },
     "metadata": {},
     "output_type": "display_data"
    },
    {
     "data": {
      "text/html": [
       "<pre style=\"white-space:pre;overflow-x:auto;line-height:normal;font-family:Menlo,'DejaVu Sans Mono',consolas,'Courier New',monospace\">\n",
       "</pre>\n"
      ],
      "text/plain": [
       "\n"
      ]
     },
     "metadata": {},
     "output_type": "display_data"
    },
    {
     "data": {
      "application/vnd.jupyter.widget-view+json": {
       "model_id": "7baeecdf5ce64e5986dfa0bd4e988bd6",
       "version_major": 2,
       "version_minor": 0
      },
      "text/plain": [
       "Output()"
      ]
     },
     "metadata": {},
     "output_type": "display_data"
    },
    {
     "name": "stdout",
     "output_type": "stream",
     "text": [
      "Function 'transcribe' executed in 0.6442s\n",
      "Region 1, parsed 20 lines. Still 14 lines left to transcribe.\n"
     ]
    },
    {
     "data": {
      "text/html": [
       "<pre style=\"white-space:pre;overflow-x:auto;line-height:normal;font-family:Menlo,'DejaVu Sans Mono',consolas,'Courier New',monospace\"></pre>\n"
      ],
      "text/plain": []
     },
     "metadata": {},
     "output_type": "display_data"
    },
    {
     "data": {
      "text/html": [
       "<pre style=\"white-space:pre;overflow-x:auto;line-height:normal;font-family:Menlo,'DejaVu Sans Mono',consolas,'Courier New',monospace\">\n",
       "</pre>\n"
      ],
      "text/plain": [
       "\n"
      ]
     },
     "metadata": {},
     "output_type": "display_data"
    },
    {
     "data": {
      "application/vnd.jupyter.widget-view+json": {
       "model_id": "d688e7a7dc3e4fcf8d4a37ed0d884a7f",
       "version_major": 2,
       "version_minor": 0
      },
      "text/plain": [
       "Output()"
      ]
     },
     "metadata": {},
     "output_type": "display_data"
    },
    {
     "name": "stdout",
     "output_type": "stream",
     "text": [
      "Function 'transcribe' executed in 0.6284s\n"
     ]
    },
    {
     "data": {
      "text/html": [
       "<pre style=\"white-space:pre;overflow-x:auto;line-height:normal;font-family:Menlo,'DejaVu Sans Mono',consolas,'Courier New',monospace\"></pre>\n"
      ],
      "text/plain": []
     },
     "metadata": {},
     "output_type": "display_data"
    },
    {
     "data": {
      "text/html": [
       "<pre style=\"white-space:pre;overflow-x:auto;line-height:normal;font-family:Menlo,'DejaVu Sans Mono',consolas,'Courier New',monospace\">\n",
       "</pre>\n"
      ],
      "text/plain": [
       "\n"
      ]
     },
     "metadata": {},
     "output_type": "display_data"
    },
    {
     "data": {
      "application/vnd.jupyter.widget-view+json": {
       "model_id": "ac6de29e702244078c2f09e9c9d20e03",
       "version_major": 2,
       "version_minor": 0
      },
      "text/plain": [
       "Output()"
      ]
     },
     "metadata": {},
     "output_type": "display_data"
    },
    {
     "name": "stdout",
     "output_type": "stream",
     "text": [
      "Function 'transcribe' executed in 0.6247s\n"
     ]
    },
    {
     "data": {
      "text/html": [
       "<pre style=\"white-space:pre;overflow-x:auto;line-height:normal;font-family:Menlo,'DejaVu Sans Mono',consolas,'Courier New',monospace\"></pre>\n"
      ],
      "text/plain": []
     },
     "metadata": {},
     "output_type": "display_data"
    },
    {
     "data": {
      "text/html": [
       "<pre style=\"white-space:pre;overflow-x:auto;line-height:normal;font-family:Menlo,'DejaVu Sans Mono',consolas,'Courier New',monospace\">\n",
       "</pre>\n"
      ],
      "text/plain": [
       "\n"
      ]
     },
     "metadata": {},
     "output_type": "display_data"
    },
    {
     "data": {
      "application/vnd.jupyter.widget-view+json": {
       "model_id": "42b87770563145f7b6ac6560c4656623",
       "version_major": 2,
       "version_minor": 0
      },
      "text/plain": [
       "Output()"
      ]
     },
     "metadata": {},
     "output_type": "display_data"
    },
    {
     "name": "stdout",
     "output_type": "stream",
     "text": [
      "Function 'transcribe' executed in 0.6265s\n"
     ]
    },
    {
     "data": {
      "text/html": [
       "<pre style=\"white-space:pre;overflow-x:auto;line-height:normal;font-family:Menlo,'DejaVu Sans Mono',consolas,'Courier New',monospace\"></pre>\n"
      ],
      "text/plain": []
     },
     "metadata": {},
     "output_type": "display_data"
    },
    {
     "data": {
      "text/html": [
       "<pre style=\"white-space:pre;overflow-x:auto;line-height:normal;font-family:Menlo,'DejaVu Sans Mono',consolas,'Courier New',monospace\">\n",
       "</pre>\n"
      ],
      "text/plain": [
       "\n"
      ]
     },
     "metadata": {},
     "output_type": "display_data"
    },
    {
     "data": {
      "application/vnd.jupyter.widget-view+json": {
       "model_id": "b7c74478c92944ab8f045911e0e59564",
       "version_major": 2,
       "version_minor": 0
      },
      "text/plain": [
       "Output()"
      ]
     },
     "metadata": {},
     "output_type": "display_data"
    },
    {
     "name": "stdout",
     "output_type": "stream",
     "text": [
      "Function 'transcribe' executed in 0.6246s\n"
     ]
    },
    {
     "data": {
      "text/html": [
       "<pre style=\"white-space:pre;overflow-x:auto;line-height:normal;font-family:Menlo,'DejaVu Sans Mono',consolas,'Courier New',monospace\"></pre>\n"
      ],
      "text/plain": []
     },
     "metadata": {},
     "output_type": "display_data"
    },
    {
     "data": {
      "text/html": [
       "<pre style=\"white-space:pre;overflow-x:auto;line-height:normal;font-family:Menlo,'DejaVu Sans Mono',consolas,'Courier New',monospace\">\n",
       "</pre>\n"
      ],
      "text/plain": [
       "\n"
      ]
     },
     "metadata": {},
     "output_type": "display_data"
    },
    {
     "data": {
      "application/vnd.jupyter.widget-view+json": {
       "model_id": "6fde832382c84d93bc7eeb3a89e92af7",
       "version_major": 2,
       "version_minor": 0
      },
      "text/plain": [
       "Output()"
      ]
     },
     "metadata": {},
     "output_type": "display_data"
    },
    {
     "name": "stdout",
     "output_type": "stream",
     "text": [
      "Function 'transcribe' executed in 0.6260s\n"
     ]
    },
    {
     "data": {
      "text/html": [
       "<pre style=\"white-space:pre;overflow-x:auto;line-height:normal;font-family:Menlo,'DejaVu Sans Mono',consolas,'Courier New',monospace\"></pre>\n"
      ],
      "text/plain": []
     },
     "metadata": {},
     "output_type": "display_data"
    },
    {
     "data": {
      "text/html": [
       "<pre style=\"white-space:pre;overflow-x:auto;line-height:normal;font-family:Menlo,'DejaVu Sans Mono',consolas,'Courier New',monospace\">\n",
       "</pre>\n"
      ],
      "text/plain": [
       "\n"
      ]
     },
     "metadata": {},
     "output_type": "display_data"
    },
    {
     "data": {
      "application/vnd.jupyter.widget-view+json": {
       "model_id": "991a2b2139fb4ac3bf2744aa17c4fd8d",
       "version_major": 2,
       "version_minor": 0
      },
      "text/plain": [
       "Output()"
      ]
     },
     "metadata": {},
     "output_type": "display_data"
    },
    {
     "name": "stdout",
     "output_type": "stream",
     "text": [
      "Function 'transcribe' executed in 0.6197s\n"
     ]
    },
    {
     "data": {
      "text/html": [
       "<pre style=\"white-space:pre;overflow-x:auto;line-height:normal;font-family:Menlo,'DejaVu Sans Mono',consolas,'Courier New',monospace\"></pre>\n"
      ],
      "text/plain": []
     },
     "metadata": {},
     "output_type": "display_data"
    },
    {
     "data": {
      "text/html": [
       "<pre style=\"white-space:pre;overflow-x:auto;line-height:normal;font-family:Menlo,'DejaVu Sans Mono',consolas,'Courier New',monospace\">\n",
       "</pre>\n"
      ],
      "text/plain": [
       "\n"
      ]
     },
     "metadata": {},
     "output_type": "display_data"
    },
    {
     "data": {
      "application/vnd.jupyter.widget-view+json": {
       "model_id": "86f1fe7000254b949e1adc94bf9da613",
       "version_major": 2,
       "version_minor": 0
      },
      "text/plain": [
       "Output()"
      ]
     },
     "metadata": {},
     "output_type": "display_data"
    },
    {
     "name": "stdout",
     "output_type": "stream",
     "text": [
      "Function 'transcribe' executed in 0.6245s\n"
     ]
    },
    {
     "data": {
      "text/html": [
       "<pre style=\"white-space:pre;overflow-x:auto;line-height:normal;font-family:Menlo,'DejaVu Sans Mono',consolas,'Courier New',monospace\"></pre>\n"
      ],
      "text/plain": []
     },
     "metadata": {},
     "output_type": "display_data"
    },
    {
     "data": {
      "text/html": [
       "<pre style=\"white-space:pre;overflow-x:auto;line-height:normal;font-family:Menlo,'DejaVu Sans Mono',consolas,'Courier New',monospace\">\n",
       "</pre>\n"
      ],
      "text/plain": [
       "\n"
      ]
     },
     "metadata": {},
     "output_type": "display_data"
    },
    {
     "data": {
      "application/vnd.jupyter.widget-view+json": {
       "model_id": "1e01b10995b24fa7b80ec99d0d366c02",
       "version_major": 2,
       "version_minor": 0
      },
      "text/plain": [
       "Output()"
      ]
     },
     "metadata": {},
     "output_type": "display_data"
    },
    {
     "name": "stdout",
     "output_type": "stream",
     "text": [
      "Function 'transcribe' executed in 0.6253s\n"
     ]
    },
    {
     "data": {
      "text/html": [
       "<pre style=\"white-space:pre;overflow-x:auto;line-height:normal;font-family:Menlo,'DejaVu Sans Mono',consolas,'Courier New',monospace\"></pre>\n"
      ],
      "text/plain": []
     },
     "metadata": {},
     "output_type": "display_data"
    },
    {
     "data": {
      "text/html": [
       "<pre style=\"white-space:pre;overflow-x:auto;line-height:normal;font-family:Menlo,'DejaVu Sans Mono',consolas,'Courier New',monospace\">\n",
       "</pre>\n"
      ],
      "text/plain": [
       "\n"
      ]
     },
     "metadata": {},
     "output_type": "display_data"
    },
    {
     "data": {
      "application/vnd.jupyter.widget-view+json": {
       "model_id": "6474adc3e8da47789939e60c51399f52",
       "version_major": 2,
       "version_minor": 0
      },
      "text/plain": [
       "Output()"
      ]
     },
     "metadata": {},
     "output_type": "display_data"
    },
    {
     "name": "stdout",
     "output_type": "stream",
     "text": [
      "Function 'transcribe' executed in 0.6256s\n"
     ]
    },
    {
     "data": {
      "text/html": [
       "<pre style=\"white-space:pre;overflow-x:auto;line-height:normal;font-family:Menlo,'DejaVu Sans Mono',consolas,'Courier New',monospace\"></pre>\n"
      ],
      "text/plain": []
     },
     "metadata": {},
     "output_type": "display_data"
    },
    {
     "data": {
      "text/html": [
       "<pre style=\"white-space:pre;overflow-x:auto;line-height:normal;font-family:Menlo,'DejaVu Sans Mono',consolas,'Courier New',monospace\">\n",
       "</pre>\n"
      ],
      "text/plain": [
       "\n"
      ]
     },
     "metadata": {},
     "output_type": "display_data"
    },
    {
     "data": {
      "application/vnd.jupyter.widget-view+json": {
       "model_id": "94c1821d8a1349b9bb3265df92b17831",
       "version_major": 2,
       "version_minor": 0
      },
      "text/plain": [
       "Output()"
      ]
     },
     "metadata": {},
     "output_type": "display_data"
    },
    {
     "name": "stdout",
     "output_type": "stream",
     "text": [
      "Function 'transcribe' executed in 0.6189s\n"
     ]
    },
    {
     "data": {
      "text/html": [
       "<pre style=\"white-space:pre;overflow-x:auto;line-height:normal;font-family:Menlo,'DejaVu Sans Mono',consolas,'Courier New',monospace\"></pre>\n"
      ],
      "text/plain": []
     },
     "metadata": {},
     "output_type": "display_data"
    },
    {
     "data": {
      "text/html": [
       "<pre style=\"white-space:pre;overflow-x:auto;line-height:normal;font-family:Menlo,'DejaVu Sans Mono',consolas,'Courier New',monospace\">\n",
       "</pre>\n"
      ],
      "text/plain": [
       "\n"
      ]
     },
     "metadata": {},
     "output_type": "display_data"
    },
    {
     "data": {
      "application/vnd.jupyter.widget-view+json": {
       "model_id": "e92a621755914990bf33e032933b1ac6",
       "version_major": 2,
       "version_minor": 0
      },
      "text/plain": [
       "Output()"
      ]
     },
     "metadata": {},
     "output_type": "display_data"
    },
    {
     "name": "stdout",
     "output_type": "stream",
     "text": [
      "Function 'transcribe' executed in 0.6202s\n"
     ]
    },
    {
     "data": {
      "text/html": [
       "<pre style=\"white-space:pre;overflow-x:auto;line-height:normal;font-family:Menlo,'DejaVu Sans Mono',consolas,'Courier New',monospace\"></pre>\n"
      ],
      "text/plain": []
     },
     "metadata": {},
     "output_type": "display_data"
    },
    {
     "data": {
      "text/html": [
       "<pre style=\"white-space:pre;overflow-x:auto;line-height:normal;font-family:Menlo,'DejaVu Sans Mono',consolas,'Courier New',monospace\">\n",
       "</pre>\n"
      ],
      "text/plain": [
       "\n"
      ]
     },
     "metadata": {},
     "output_type": "display_data"
    },
    {
     "data": {
      "application/vnd.jupyter.widget-view+json": {
       "model_id": "d140e3ba1bcd4fea8cce1206c70ba2af",
       "version_major": 2,
       "version_minor": 0
      },
      "text/plain": [
       "Output()"
      ]
     },
     "metadata": {},
     "output_type": "display_data"
    },
    {
     "name": "stdout",
     "output_type": "stream",
     "text": [
      "Function 'transcribe' executed in 0.6256s\n"
     ]
    },
    {
     "data": {
      "text/html": [
       "<pre style=\"white-space:pre;overflow-x:auto;line-height:normal;font-family:Menlo,'DejaVu Sans Mono',consolas,'Courier New',monospace\"></pre>\n"
      ],
      "text/plain": []
     },
     "metadata": {},
     "output_type": "display_data"
    },
    {
     "data": {
      "text/html": [
       "<pre style=\"white-space:pre;overflow-x:auto;line-height:normal;font-family:Menlo,'DejaVu Sans Mono',consolas,'Courier New',monospace\">\n",
       "</pre>\n"
      ],
      "text/plain": [
       "\n"
      ]
     },
     "metadata": {},
     "output_type": "display_data"
    },
    {
     "data": {
      "application/vnd.jupyter.widget-view+json": {
       "model_id": "04ec453198f643728cf42fe8855bff3a",
       "version_major": 2,
       "version_minor": 0
      },
      "text/plain": [
       "Output()"
      ]
     },
     "metadata": {},
     "output_type": "display_data"
    },
    {
     "name": "stdout",
     "output_type": "stream",
     "text": [
      "Function 'transcribe' executed in 0.6235s\n"
     ]
    },
    {
     "data": {
      "text/html": [
       "<pre style=\"white-space:pre;overflow-x:auto;line-height:normal;font-family:Menlo,'DejaVu Sans Mono',consolas,'Courier New',monospace\"></pre>\n"
      ],
      "text/plain": []
     },
     "metadata": {},
     "output_type": "display_data"
    },
    {
     "data": {
      "text/html": [
       "<pre style=\"white-space:pre;overflow-x:auto;line-height:normal;font-family:Menlo,'DejaVu Sans Mono',consolas,'Courier New',monospace\">\n",
       "</pre>\n"
      ],
      "text/plain": [
       "\n"
      ]
     },
     "metadata": {},
     "output_type": "display_data"
    },
    {
     "name": "stderr",
     "output_type": "stream",
     "text": [
      "2it [00:24, 14.20s/it]"
     ]
    },
    {
     "data": {
      "application/vnd.jupyter.widget-view+json": {
       "model_id": "ef7803c04c7a4db8987999fc3200b6e4",
       "version_major": 2,
       "version_minor": 0
      },
      "text/plain": [
       "Output()"
      ]
     },
     "metadata": {},
     "output_type": "display_data"
    },
    {
     "name": "stdout",
     "output_type": "stream",
     "text": [
      "Function 'transcribe' executed in 0.6243s\n"
     ]
    },
    {
     "data": {
      "text/html": [
       "<pre style=\"white-space:pre;overflow-x:auto;line-height:normal;font-family:Menlo,'DejaVu Sans Mono',consolas,'Courier New',monospace\"></pre>\n"
      ],
      "text/plain": []
     },
     "metadata": {},
     "output_type": "display_data"
    },
    {
     "data": {
      "text/html": [
       "<pre style=\"white-space:pre;overflow-x:auto;line-height:normal;font-family:Menlo,'DejaVu Sans Mono',consolas,'Courier New',monospace\">\n",
       "</pre>\n"
      ],
      "text/plain": [
       "\n"
      ]
     },
     "metadata": {},
     "output_type": "display_data"
    },
    {
     "data": {
      "application/vnd.jupyter.widget-view+json": {
       "model_id": "fef09661654a44838cbdc2ef37b23a7c",
       "version_major": 2,
       "version_minor": 0
      },
      "text/plain": [
       "Output()"
      ]
     },
     "metadata": {},
     "output_type": "display_data"
    },
    {
     "name": "stdout",
     "output_type": "stream",
     "text": [
      "Function 'predict_lines' executed in 0.8738s\n",
      " Region 2, found 45 lines to parse and transcribe.\n"
     ]
    },
    {
     "data": {
      "text/html": [
       "<pre style=\"white-space:pre;overflow-x:auto;line-height:normal;font-family:Menlo,'DejaVu Sans Mono',consolas,'Courier New',monospace\"></pre>\n"
      ],
      "text/plain": []
     },
     "metadata": {},
     "output_type": "display_data"
    },
    {
     "data": {
      "text/html": [
       "<pre style=\"white-space:pre;overflow-x:auto;line-height:normal;font-family:Menlo,'DejaVu Sans Mono',consolas,'Courier New',monospace\">\n",
       "</pre>\n"
      ],
      "text/plain": [
       "\n"
      ]
     },
     "metadata": {},
     "output_type": "display_data"
    },
    {
     "data": {
      "application/vnd.jupyter.widget-view+json": {
       "model_id": "669e26dcda314cd491b855d3fd32fb0f",
       "version_major": 2,
       "version_minor": 0
      },
      "text/plain": [
       "Output()"
      ]
     },
     "metadata": {},
     "output_type": "display_data"
    },
    {
     "name": "stdout",
     "output_type": "stream",
     "text": [
      "Function 'transcribe' executed in 0.6366s\n"
     ]
    },
    {
     "data": {
      "text/html": [
       "<pre style=\"white-space:pre;overflow-x:auto;line-height:normal;font-family:Menlo,'DejaVu Sans Mono',consolas,'Courier New',monospace\"></pre>\n"
      ],
      "text/plain": []
     },
     "metadata": {},
     "output_type": "display_data"
    },
    {
     "data": {
      "text/html": [
       "<pre style=\"white-space:pre;overflow-x:auto;line-height:normal;font-family:Menlo,'DejaVu Sans Mono',consolas,'Courier New',monospace\">\n",
       "</pre>\n"
      ],
      "text/plain": [
       "\n"
      ]
     },
     "metadata": {},
     "output_type": "display_data"
    },
    {
     "data": {
      "application/vnd.jupyter.widget-view+json": {
       "model_id": "c3735dccae67447e9e2447176fb5478d",
       "version_major": 2,
       "version_minor": 0
      },
      "text/plain": [
       "Output()"
      ]
     },
     "metadata": {},
     "output_type": "display_data"
    },
    {
     "name": "stdout",
     "output_type": "stream",
     "text": [
      "Function 'transcribe' executed in 0.6574s\n"
     ]
    },
    {
     "data": {
      "text/html": [
       "<pre style=\"white-space:pre;overflow-x:auto;line-height:normal;font-family:Menlo,'DejaVu Sans Mono',consolas,'Courier New',monospace\"></pre>\n"
      ],
      "text/plain": []
     },
     "metadata": {},
     "output_type": "display_data"
    },
    {
     "data": {
      "text/html": [
       "<pre style=\"white-space:pre;overflow-x:auto;line-height:normal;font-family:Menlo,'DejaVu Sans Mono',consolas,'Courier New',monospace\">\n",
       "</pre>\n"
      ],
      "text/plain": [
       "\n"
      ]
     },
     "metadata": {},
     "output_type": "display_data"
    },
    {
     "data": {
      "application/vnd.jupyter.widget-view+json": {
       "model_id": "64834be2cd6348b9aaa7889e7cc027ab",
       "version_major": 2,
       "version_minor": 0
      },
      "text/plain": [
       "Output()"
      ]
     },
     "metadata": {},
     "output_type": "display_data"
    },
    {
     "name": "stdout",
     "output_type": "stream",
     "text": [
      "Function 'transcribe' executed in 0.6435s\n"
     ]
    },
    {
     "data": {
      "text/html": [
       "<pre style=\"white-space:pre;overflow-x:auto;line-height:normal;font-family:Menlo,'DejaVu Sans Mono',consolas,'Courier New',monospace\"></pre>\n"
      ],
      "text/plain": []
     },
     "metadata": {},
     "output_type": "display_data"
    },
    {
     "data": {
      "text/html": [
       "<pre style=\"white-space:pre;overflow-x:auto;line-height:normal;font-family:Menlo,'DejaVu Sans Mono',consolas,'Courier New',monospace\">\n",
       "</pre>\n"
      ],
      "text/plain": [
       "\n"
      ]
     },
     "metadata": {},
     "output_type": "display_data"
    },
    {
     "data": {
      "application/vnd.jupyter.widget-view+json": {
       "model_id": "4498af3b94bc45afb3af4cbde445e7b0",
       "version_major": 2,
       "version_minor": 0
      },
      "text/plain": [
       "Output()"
      ]
     },
     "metadata": {},
     "output_type": "display_data"
    },
    {
     "name": "stdout",
     "output_type": "stream",
     "text": [
      "Function 'transcribe' executed in 0.6449s\n"
     ]
    },
    {
     "data": {
      "text/html": [
       "<pre style=\"white-space:pre;overflow-x:auto;line-height:normal;font-family:Menlo,'DejaVu Sans Mono',consolas,'Courier New',monospace\"></pre>\n"
      ],
      "text/plain": []
     },
     "metadata": {},
     "output_type": "display_data"
    },
    {
     "data": {
      "text/html": [
       "<pre style=\"white-space:pre;overflow-x:auto;line-height:normal;font-family:Menlo,'DejaVu Sans Mono',consolas,'Courier New',monospace\">\n",
       "</pre>\n"
      ],
      "text/plain": [
       "\n"
      ]
     },
     "metadata": {},
     "output_type": "display_data"
    },
    {
     "data": {
      "application/vnd.jupyter.widget-view+json": {
       "model_id": "5ecf0c519c8c43fbae6d7036aa6f476f",
       "version_major": 2,
       "version_minor": 0
      },
      "text/plain": [
       "Output()"
      ]
     },
     "metadata": {},
     "output_type": "display_data"
    },
    {
     "name": "stdout",
     "output_type": "stream",
     "text": [
      "Function 'transcribe' executed in 0.6486s\n"
     ]
    },
    {
     "data": {
      "text/html": [
       "<pre style=\"white-space:pre;overflow-x:auto;line-height:normal;font-family:Menlo,'DejaVu Sans Mono',consolas,'Courier New',monospace\"></pre>\n"
      ],
      "text/plain": []
     },
     "metadata": {},
     "output_type": "display_data"
    },
    {
     "data": {
      "text/html": [
       "<pre style=\"white-space:pre;overflow-x:auto;line-height:normal;font-family:Menlo,'DejaVu Sans Mono',consolas,'Courier New',monospace\">\n",
       "</pre>\n"
      ],
      "text/plain": [
       "\n"
      ]
     },
     "metadata": {},
     "output_type": "display_data"
    },
    {
     "data": {
      "application/vnd.jupyter.widget-view+json": {
       "model_id": "ee8bb1161cbb4149b3a189856e671b60",
       "version_major": 2,
       "version_minor": 0
      },
      "text/plain": [
       "Output()"
      ]
     },
     "metadata": {},
     "output_type": "display_data"
    },
    {
     "name": "stdout",
     "output_type": "stream",
     "text": [
      "Function 'transcribe' executed in 0.6418s\n"
     ]
    },
    {
     "data": {
      "text/html": [
       "<pre style=\"white-space:pre;overflow-x:auto;line-height:normal;font-family:Menlo,'DejaVu Sans Mono',consolas,'Courier New',monospace\"></pre>\n"
      ],
      "text/plain": []
     },
     "metadata": {},
     "output_type": "display_data"
    },
    {
     "data": {
      "text/html": [
       "<pre style=\"white-space:pre;overflow-x:auto;line-height:normal;font-family:Menlo,'DejaVu Sans Mono',consolas,'Courier New',monospace\">\n",
       "</pre>\n"
      ],
      "text/plain": [
       "\n"
      ]
     },
     "metadata": {},
     "output_type": "display_data"
    },
    {
     "data": {
      "application/vnd.jupyter.widget-view+json": {
       "model_id": "efb882d357704135b438d236cc4667eb",
       "version_major": 2,
       "version_minor": 0
      },
      "text/plain": [
       "Output()"
      ]
     },
     "metadata": {},
     "output_type": "display_data"
    },
    {
     "name": "stdout",
     "output_type": "stream",
     "text": [
      "Function 'transcribe' executed in 0.6471s\n"
     ]
    },
    {
     "data": {
      "text/html": [
       "<pre style=\"white-space:pre;overflow-x:auto;line-height:normal;font-family:Menlo,'DejaVu Sans Mono',consolas,'Courier New',monospace\"></pre>\n"
      ],
      "text/plain": []
     },
     "metadata": {},
     "output_type": "display_data"
    },
    {
     "data": {
      "text/html": [
       "<pre style=\"white-space:pre;overflow-x:auto;line-height:normal;font-family:Menlo,'DejaVu Sans Mono',consolas,'Courier New',monospace\">\n",
       "</pre>\n"
      ],
      "text/plain": [
       "\n"
      ]
     },
     "metadata": {},
     "output_type": "display_data"
    },
    {
     "data": {
      "application/vnd.jupyter.widget-view+json": {
       "model_id": "f0e7a86b986b4ba680f5517a0ff4e6a8",
       "version_major": 2,
       "version_minor": 0
      },
      "text/plain": [
       "Output()"
      ]
     },
     "metadata": {},
     "output_type": "display_data"
    },
    {
     "name": "stdout",
     "output_type": "stream",
     "text": [
      "Function 'transcribe' executed in 0.6419s\n"
     ]
    },
    {
     "data": {
      "text/html": [
       "<pre style=\"white-space:pre;overflow-x:auto;line-height:normal;font-family:Menlo,'DejaVu Sans Mono',consolas,'Courier New',monospace\"></pre>\n"
      ],
      "text/plain": []
     },
     "metadata": {},
     "output_type": "display_data"
    },
    {
     "data": {
      "text/html": [
       "<pre style=\"white-space:pre;overflow-x:auto;line-height:normal;font-family:Menlo,'DejaVu Sans Mono',consolas,'Courier New',monospace\">\n",
       "</pre>\n"
      ],
      "text/plain": [
       "\n"
      ]
     },
     "metadata": {},
     "output_type": "display_data"
    },
    {
     "data": {
      "application/vnd.jupyter.widget-view+json": {
       "model_id": "de915143d8a54797a29991fa13ad2d22",
       "version_major": 2,
       "version_minor": 0
      },
      "text/plain": [
       "Output()"
      ]
     },
     "metadata": {},
     "output_type": "display_data"
    },
    {
     "name": "stdout",
     "output_type": "stream",
     "text": [
      "Function 'transcribe' executed in 0.6443s\n"
     ]
    },
    {
     "data": {
      "text/html": [
       "<pre style=\"white-space:pre;overflow-x:auto;line-height:normal;font-family:Menlo,'DejaVu Sans Mono',consolas,'Courier New',monospace\"></pre>\n"
      ],
      "text/plain": []
     },
     "metadata": {},
     "output_type": "display_data"
    },
    {
     "data": {
      "text/html": [
       "<pre style=\"white-space:pre;overflow-x:auto;line-height:normal;font-family:Menlo,'DejaVu Sans Mono',consolas,'Courier New',monospace\">\n",
       "</pre>\n"
      ],
      "text/plain": [
       "\n"
      ]
     },
     "metadata": {},
     "output_type": "display_data"
    },
    {
     "data": {
      "application/vnd.jupyter.widget-view+json": {
       "model_id": "f0a509392ed746dd92dc131745ec43ba",
       "version_major": 2,
       "version_minor": 0
      },
      "text/plain": [
       "Output()"
      ]
     },
     "metadata": {},
     "output_type": "display_data"
    },
    {
     "name": "stdout",
     "output_type": "stream",
     "text": [
      "Function 'transcribe' executed in 0.6420s\n",
      "Region 2, parsed 10 lines. Still 35 lines left to transcribe.\n"
     ]
    },
    {
     "data": {
      "text/html": [
       "<pre style=\"white-space:pre;overflow-x:auto;line-height:normal;font-family:Menlo,'DejaVu Sans Mono',consolas,'Courier New',monospace\"></pre>\n"
      ],
      "text/plain": []
     },
     "metadata": {},
     "output_type": "display_data"
    },
    {
     "data": {
      "text/html": [
       "<pre style=\"white-space:pre;overflow-x:auto;line-height:normal;font-family:Menlo,'DejaVu Sans Mono',consolas,'Courier New',monospace\">\n",
       "</pre>\n"
      ],
      "text/plain": [
       "\n"
      ]
     },
     "metadata": {},
     "output_type": "display_data"
    },
    {
     "data": {
      "application/vnd.jupyter.widget-view+json": {
       "model_id": "e67cae0779da429697e6a736d45644d7",
       "version_major": 2,
       "version_minor": 0
      },
      "text/plain": [
       "Output()"
      ]
     },
     "metadata": {},
     "output_type": "display_data"
    },
    {
     "name": "stdout",
     "output_type": "stream",
     "text": [
      "Function 'transcribe' executed in 0.6405s\n"
     ]
    },
    {
     "data": {
      "text/html": [
       "<pre style=\"white-space:pre;overflow-x:auto;line-height:normal;font-family:Menlo,'DejaVu Sans Mono',consolas,'Courier New',monospace\"></pre>\n"
      ],
      "text/plain": []
     },
     "metadata": {},
     "output_type": "display_data"
    },
    {
     "data": {
      "text/html": [
       "<pre style=\"white-space:pre;overflow-x:auto;line-height:normal;font-family:Menlo,'DejaVu Sans Mono',consolas,'Courier New',monospace\">\n",
       "</pre>\n"
      ],
      "text/plain": [
       "\n"
      ]
     },
     "metadata": {},
     "output_type": "display_data"
    },
    {
     "data": {
      "application/vnd.jupyter.widget-view+json": {
       "model_id": "0af3884664884b9882df766e46ca78a5",
       "version_major": 2,
       "version_minor": 0
      },
      "text/plain": [
       "Output()"
      ]
     },
     "metadata": {},
     "output_type": "display_data"
    },
    {
     "name": "stdout",
     "output_type": "stream",
     "text": [
      "Function 'transcribe' executed in 0.6415s\n"
     ]
    },
    {
     "data": {
      "text/html": [
       "<pre style=\"white-space:pre;overflow-x:auto;line-height:normal;font-family:Menlo,'DejaVu Sans Mono',consolas,'Courier New',monospace\"></pre>\n"
      ],
      "text/plain": []
     },
     "metadata": {},
     "output_type": "display_data"
    },
    {
     "data": {
      "text/html": [
       "<pre style=\"white-space:pre;overflow-x:auto;line-height:normal;font-family:Menlo,'DejaVu Sans Mono',consolas,'Courier New',monospace\">\n",
       "</pre>\n"
      ],
      "text/plain": [
       "\n"
      ]
     },
     "metadata": {},
     "output_type": "display_data"
    },
    {
     "data": {
      "application/vnd.jupyter.widget-view+json": {
       "model_id": "3b0d0c5ece0846ff82337dfed113f1a9",
       "version_major": 2,
       "version_minor": 0
      },
      "text/plain": [
       "Output()"
      ]
     },
     "metadata": {},
     "output_type": "display_data"
    },
    {
     "name": "stdout",
     "output_type": "stream",
     "text": [
      "Function 'transcribe' executed in 0.6403s\n"
     ]
    },
    {
     "data": {
      "text/html": [
       "<pre style=\"white-space:pre;overflow-x:auto;line-height:normal;font-family:Menlo,'DejaVu Sans Mono',consolas,'Courier New',monospace\"></pre>\n"
      ],
      "text/plain": []
     },
     "metadata": {},
     "output_type": "display_data"
    },
    {
     "data": {
      "text/html": [
       "<pre style=\"white-space:pre;overflow-x:auto;line-height:normal;font-family:Menlo,'DejaVu Sans Mono',consolas,'Courier New',monospace\">\n",
       "</pre>\n"
      ],
      "text/plain": [
       "\n"
      ]
     },
     "metadata": {},
     "output_type": "display_data"
    },
    {
     "data": {
      "application/vnd.jupyter.widget-view+json": {
       "model_id": "faa546c6b64b43d4a0cef7b460e55c4b",
       "version_major": 2,
       "version_minor": 0
      },
      "text/plain": [
       "Output()"
      ]
     },
     "metadata": {},
     "output_type": "display_data"
    },
    {
     "name": "stdout",
     "output_type": "stream",
     "text": [
      "Function 'transcribe' executed in 0.6440s\n"
     ]
    },
    {
     "data": {
      "text/html": [
       "<pre style=\"white-space:pre;overflow-x:auto;line-height:normal;font-family:Menlo,'DejaVu Sans Mono',consolas,'Courier New',monospace\"></pre>\n"
      ],
      "text/plain": []
     },
     "metadata": {},
     "output_type": "display_data"
    },
    {
     "data": {
      "text/html": [
       "<pre style=\"white-space:pre;overflow-x:auto;line-height:normal;font-family:Menlo,'DejaVu Sans Mono',consolas,'Courier New',monospace\">\n",
       "</pre>\n"
      ],
      "text/plain": [
       "\n"
      ]
     },
     "metadata": {},
     "output_type": "display_data"
    },
    {
     "data": {
      "application/vnd.jupyter.widget-view+json": {
       "model_id": "c93b8d85489844378d5636dee9118aa6",
       "version_major": 2,
       "version_minor": 0
      },
      "text/plain": [
       "Output()"
      ]
     },
     "metadata": {},
     "output_type": "display_data"
    },
    {
     "name": "stdout",
     "output_type": "stream",
     "text": [
      "Function 'transcribe' executed in 0.6404s\n"
     ]
    },
    {
     "data": {
      "text/html": [
       "<pre style=\"white-space:pre;overflow-x:auto;line-height:normal;font-family:Menlo,'DejaVu Sans Mono',consolas,'Courier New',monospace\"></pre>\n"
      ],
      "text/plain": []
     },
     "metadata": {},
     "output_type": "display_data"
    },
    {
     "data": {
      "text/html": [
       "<pre style=\"white-space:pre;overflow-x:auto;line-height:normal;font-family:Menlo,'DejaVu Sans Mono',consolas,'Courier New',monospace\">\n",
       "</pre>\n"
      ],
      "text/plain": [
       "\n"
      ]
     },
     "metadata": {},
     "output_type": "display_data"
    },
    {
     "data": {
      "application/vnd.jupyter.widget-view+json": {
       "model_id": "54c6c240cbb84df2b2d2501e1143a928",
       "version_major": 2,
       "version_minor": 0
      },
      "text/plain": [
       "Output()"
      ]
     },
     "metadata": {},
     "output_type": "display_data"
    },
    {
     "name": "stdout",
     "output_type": "stream",
     "text": [
      "Function 'transcribe' executed in 0.6439s\n"
     ]
    },
    {
     "data": {
      "text/html": [
       "<pre style=\"white-space:pre;overflow-x:auto;line-height:normal;font-family:Menlo,'DejaVu Sans Mono',consolas,'Courier New',monospace\"></pre>\n"
      ],
      "text/plain": []
     },
     "metadata": {},
     "output_type": "display_data"
    },
    {
     "data": {
      "text/html": [
       "<pre style=\"white-space:pre;overflow-x:auto;line-height:normal;font-family:Menlo,'DejaVu Sans Mono',consolas,'Courier New',monospace\">\n",
       "</pre>\n"
      ],
      "text/plain": [
       "\n"
      ]
     },
     "metadata": {},
     "output_type": "display_data"
    },
    {
     "data": {
      "application/vnd.jupyter.widget-view+json": {
       "model_id": "320a66fb41d043159420d37551014ee8",
       "version_major": 2,
       "version_minor": 0
      },
      "text/plain": [
       "Output()"
      ]
     },
     "metadata": {},
     "output_type": "display_data"
    },
    {
     "name": "stdout",
     "output_type": "stream",
     "text": [
      "Function 'transcribe' executed in 0.6454s\n"
     ]
    },
    {
     "data": {
      "text/html": [
       "<pre style=\"white-space:pre;overflow-x:auto;line-height:normal;font-family:Menlo,'DejaVu Sans Mono',consolas,'Courier New',monospace\"></pre>\n"
      ],
      "text/plain": []
     },
     "metadata": {},
     "output_type": "display_data"
    },
    {
     "data": {
      "text/html": [
       "<pre style=\"white-space:pre;overflow-x:auto;line-height:normal;font-family:Menlo,'DejaVu Sans Mono',consolas,'Courier New',monospace\">\n",
       "</pre>\n"
      ],
      "text/plain": [
       "\n"
      ]
     },
     "metadata": {},
     "output_type": "display_data"
    },
    {
     "data": {
      "application/vnd.jupyter.widget-view+json": {
       "model_id": "189af02d9d8c4db99d6338fbb5bbbd56",
       "version_major": 2,
       "version_minor": 0
      },
      "text/plain": [
       "Output()"
      ]
     },
     "metadata": {},
     "output_type": "display_data"
    },
    {
     "name": "stdout",
     "output_type": "stream",
     "text": [
      "Function 'transcribe' executed in 0.6508s\n"
     ]
    },
    {
     "data": {
      "text/html": [
       "<pre style=\"white-space:pre;overflow-x:auto;line-height:normal;font-family:Menlo,'DejaVu Sans Mono',consolas,'Courier New',monospace\"></pre>\n"
      ],
      "text/plain": []
     },
     "metadata": {},
     "output_type": "display_data"
    },
    {
     "data": {
      "text/html": [
       "<pre style=\"white-space:pre;overflow-x:auto;line-height:normal;font-family:Menlo,'DejaVu Sans Mono',consolas,'Courier New',monospace\">\n",
       "</pre>\n"
      ],
      "text/plain": [
       "\n"
      ]
     },
     "metadata": {},
     "output_type": "display_data"
    },
    {
     "data": {
      "application/vnd.jupyter.widget-view+json": {
       "model_id": "c1f967f08af342ebbee7658221c46040",
       "version_major": 2,
       "version_minor": 0
      },
      "text/plain": [
       "Output()"
      ]
     },
     "metadata": {},
     "output_type": "display_data"
    },
    {
     "name": "stdout",
     "output_type": "stream",
     "text": [
      "Function 'transcribe' executed in 0.6436s\n"
     ]
    },
    {
     "data": {
      "text/html": [
       "<pre style=\"white-space:pre;overflow-x:auto;line-height:normal;font-family:Menlo,'DejaVu Sans Mono',consolas,'Courier New',monospace\"></pre>\n"
      ],
      "text/plain": []
     },
     "metadata": {},
     "output_type": "display_data"
    },
    {
     "data": {
      "text/html": [
       "<pre style=\"white-space:pre;overflow-x:auto;line-height:normal;font-family:Menlo,'DejaVu Sans Mono',consolas,'Courier New',monospace\">\n",
       "</pre>\n"
      ],
      "text/plain": [
       "\n"
      ]
     },
     "metadata": {},
     "output_type": "display_data"
    },
    {
     "data": {
      "application/vnd.jupyter.widget-view+json": {
       "model_id": "71f3654c9ed243b89b6a509e00adee1c",
       "version_major": 2,
       "version_minor": 0
      },
      "text/plain": [
       "Output()"
      ]
     },
     "metadata": {},
     "output_type": "display_data"
    },
    {
     "name": "stdout",
     "output_type": "stream",
     "text": [
      "Function 'transcribe' executed in 0.6450s\n",
      "Region 2, parsed 20 lines. Still 25 lines left to transcribe.\n"
     ]
    },
    {
     "data": {
      "text/html": [
       "<pre style=\"white-space:pre;overflow-x:auto;line-height:normal;font-family:Menlo,'DejaVu Sans Mono',consolas,'Courier New',monospace\"></pre>\n"
      ],
      "text/plain": []
     },
     "metadata": {},
     "output_type": "display_data"
    },
    {
     "data": {
      "text/html": [
       "<pre style=\"white-space:pre;overflow-x:auto;line-height:normal;font-family:Menlo,'DejaVu Sans Mono',consolas,'Courier New',monospace\">\n",
       "</pre>\n"
      ],
      "text/plain": [
       "\n"
      ]
     },
     "metadata": {},
     "output_type": "display_data"
    },
    {
     "data": {
      "application/vnd.jupyter.widget-view+json": {
       "model_id": "63fd960eef974c5888c71871532f92e4",
       "version_major": 2,
       "version_minor": 0
      },
      "text/plain": [
       "Output()"
      ]
     },
     "metadata": {},
     "output_type": "display_data"
    },
    {
     "name": "stdout",
     "output_type": "stream",
     "text": [
      "Function 'transcribe' executed in 0.6421s\n"
     ]
    },
    {
     "data": {
      "text/html": [
       "<pre style=\"white-space:pre;overflow-x:auto;line-height:normal;font-family:Menlo,'DejaVu Sans Mono',consolas,'Courier New',monospace\"></pre>\n"
      ],
      "text/plain": []
     },
     "metadata": {},
     "output_type": "display_data"
    },
    {
     "data": {
      "text/html": [
       "<pre style=\"white-space:pre;overflow-x:auto;line-height:normal;font-family:Menlo,'DejaVu Sans Mono',consolas,'Courier New',monospace\">\n",
       "</pre>\n"
      ],
      "text/plain": [
       "\n"
      ]
     },
     "metadata": {},
     "output_type": "display_data"
    },
    {
     "data": {
      "application/vnd.jupyter.widget-view+json": {
       "model_id": "6088270f884e40bf8a4e8388bf20d384",
       "version_major": 2,
       "version_minor": 0
      },
      "text/plain": [
       "Output()"
      ]
     },
     "metadata": {},
     "output_type": "display_data"
    },
    {
     "name": "stdout",
     "output_type": "stream",
     "text": [
      "Function 'transcribe' executed in 0.6449s\n"
     ]
    },
    {
     "data": {
      "text/html": [
       "<pre style=\"white-space:pre;overflow-x:auto;line-height:normal;font-family:Menlo,'DejaVu Sans Mono',consolas,'Courier New',monospace\"></pre>\n"
      ],
      "text/plain": []
     },
     "metadata": {},
     "output_type": "display_data"
    },
    {
     "data": {
      "text/html": [
       "<pre style=\"white-space:pre;overflow-x:auto;line-height:normal;font-family:Menlo,'DejaVu Sans Mono',consolas,'Courier New',monospace\">\n",
       "</pre>\n"
      ],
      "text/plain": [
       "\n"
      ]
     },
     "metadata": {},
     "output_type": "display_data"
    },
    {
     "data": {
      "application/vnd.jupyter.widget-view+json": {
       "model_id": "9cdc47f94ae3401ba71d318f2ca5f6c2",
       "version_major": 2,
       "version_minor": 0
      },
      "text/plain": [
       "Output()"
      ]
     },
     "metadata": {},
     "output_type": "display_data"
    },
    {
     "name": "stdout",
     "output_type": "stream",
     "text": [
      "Function 'transcribe' executed in 0.6397s\n"
     ]
    },
    {
     "data": {
      "text/html": [
       "<pre style=\"white-space:pre;overflow-x:auto;line-height:normal;font-family:Menlo,'DejaVu Sans Mono',consolas,'Courier New',monospace\"></pre>\n"
      ],
      "text/plain": []
     },
     "metadata": {},
     "output_type": "display_data"
    },
    {
     "data": {
      "text/html": [
       "<pre style=\"white-space:pre;overflow-x:auto;line-height:normal;font-family:Menlo,'DejaVu Sans Mono',consolas,'Courier New',monospace\">\n",
       "</pre>\n"
      ],
      "text/plain": [
       "\n"
      ]
     },
     "metadata": {},
     "output_type": "display_data"
    },
    {
     "data": {
      "application/vnd.jupyter.widget-view+json": {
       "model_id": "08b5387d98a14474b8314fd1ff76c0a3",
       "version_major": 2,
       "version_minor": 0
      },
      "text/plain": [
       "Output()"
      ]
     },
     "metadata": {},
     "output_type": "display_data"
    },
    {
     "name": "stdout",
     "output_type": "stream",
     "text": [
      "Function 'transcribe' executed in 0.6410s\n"
     ]
    },
    {
     "data": {
      "text/html": [
       "<pre style=\"white-space:pre;overflow-x:auto;line-height:normal;font-family:Menlo,'DejaVu Sans Mono',consolas,'Courier New',monospace\"></pre>\n"
      ],
      "text/plain": []
     },
     "metadata": {},
     "output_type": "display_data"
    },
    {
     "data": {
      "text/html": [
       "<pre style=\"white-space:pre;overflow-x:auto;line-height:normal;font-family:Menlo,'DejaVu Sans Mono',consolas,'Courier New',monospace\">\n",
       "</pre>\n"
      ],
      "text/plain": [
       "\n"
      ]
     },
     "metadata": {},
     "output_type": "display_data"
    },
    {
     "data": {
      "application/vnd.jupyter.widget-view+json": {
       "model_id": "bb2645b437fd4341a4b8ccb2e5357dae",
       "version_major": 2,
       "version_minor": 0
      },
      "text/plain": [
       "Output()"
      ]
     },
     "metadata": {},
     "output_type": "display_data"
    },
    {
     "name": "stdout",
     "output_type": "stream",
     "text": [
      "Function 'transcribe' executed in 0.6430s\n"
     ]
    },
    {
     "data": {
      "text/html": [
       "<pre style=\"white-space:pre;overflow-x:auto;line-height:normal;font-family:Menlo,'DejaVu Sans Mono',consolas,'Courier New',monospace\"></pre>\n"
      ],
      "text/plain": []
     },
     "metadata": {},
     "output_type": "display_data"
    },
    {
     "data": {
      "text/html": [
       "<pre style=\"white-space:pre;overflow-x:auto;line-height:normal;font-family:Menlo,'DejaVu Sans Mono',consolas,'Courier New',monospace\">\n",
       "</pre>\n"
      ],
      "text/plain": [
       "\n"
      ]
     },
     "metadata": {},
     "output_type": "display_data"
    },
    {
     "data": {
      "application/vnd.jupyter.widget-view+json": {
       "model_id": "605959367041438f981ec26522942ba0",
       "version_major": 2,
       "version_minor": 0
      },
      "text/plain": [
       "Output()"
      ]
     },
     "metadata": {},
     "output_type": "display_data"
    },
    {
     "name": "stdout",
     "output_type": "stream",
     "text": [
      "Function 'transcribe' executed in 0.6458s\n"
     ]
    },
    {
     "data": {
      "text/html": [
       "<pre style=\"white-space:pre;overflow-x:auto;line-height:normal;font-family:Menlo,'DejaVu Sans Mono',consolas,'Courier New',monospace\"></pre>\n"
      ],
      "text/plain": []
     },
     "metadata": {},
     "output_type": "display_data"
    },
    {
     "data": {
      "text/html": [
       "<pre style=\"white-space:pre;overflow-x:auto;line-height:normal;font-family:Menlo,'DejaVu Sans Mono',consolas,'Courier New',monospace\">\n",
       "</pre>\n"
      ],
      "text/plain": [
       "\n"
      ]
     },
     "metadata": {},
     "output_type": "display_data"
    },
    {
     "data": {
      "application/vnd.jupyter.widget-view+json": {
       "model_id": "ac3beaa316e24ff39bf075736cc56104",
       "version_major": 2,
       "version_minor": 0
      },
      "text/plain": [
       "Output()"
      ]
     },
     "metadata": {},
     "output_type": "display_data"
    },
    {
     "name": "stdout",
     "output_type": "stream",
     "text": [
      "Function 'transcribe' executed in 0.6381s\n"
     ]
    },
    {
     "data": {
      "text/html": [
       "<pre style=\"white-space:pre;overflow-x:auto;line-height:normal;font-family:Menlo,'DejaVu Sans Mono',consolas,'Courier New',monospace\"></pre>\n"
      ],
      "text/plain": []
     },
     "metadata": {},
     "output_type": "display_data"
    },
    {
     "data": {
      "text/html": [
       "<pre style=\"white-space:pre;overflow-x:auto;line-height:normal;font-family:Menlo,'DejaVu Sans Mono',consolas,'Courier New',monospace\">\n",
       "</pre>\n"
      ],
      "text/plain": [
       "\n"
      ]
     },
     "metadata": {},
     "output_type": "display_data"
    },
    {
     "data": {
      "application/vnd.jupyter.widget-view+json": {
       "model_id": "7b59744d67354f3f91b72f32f3688c26",
       "version_major": 2,
       "version_minor": 0
      },
      "text/plain": [
       "Output()"
      ]
     },
     "metadata": {},
     "output_type": "display_data"
    },
    {
     "name": "stdout",
     "output_type": "stream",
     "text": [
      "Function 'transcribe' executed in 0.6412s\n"
     ]
    },
    {
     "data": {
      "text/html": [
       "<pre style=\"white-space:pre;overflow-x:auto;line-height:normal;font-family:Menlo,'DejaVu Sans Mono',consolas,'Courier New',monospace\"></pre>\n"
      ],
      "text/plain": []
     },
     "metadata": {},
     "output_type": "display_data"
    },
    {
     "data": {
      "text/html": [
       "<pre style=\"white-space:pre;overflow-x:auto;line-height:normal;font-family:Menlo,'DejaVu Sans Mono',consolas,'Courier New',monospace\">\n",
       "</pre>\n"
      ],
      "text/plain": [
       "\n"
      ]
     },
     "metadata": {},
     "output_type": "display_data"
    },
    {
     "data": {
      "application/vnd.jupyter.widget-view+json": {
       "model_id": "84882afae00e440d958da890697a57a7",
       "version_major": 2,
       "version_minor": 0
      },
      "text/plain": [
       "Output()"
      ]
     },
     "metadata": {},
     "output_type": "display_data"
    },
    {
     "name": "stdout",
     "output_type": "stream",
     "text": [
      "Function 'transcribe' executed in 0.6458s\n"
     ]
    },
    {
     "data": {
      "text/html": [
       "<pre style=\"white-space:pre;overflow-x:auto;line-height:normal;font-family:Menlo,'DejaVu Sans Mono',consolas,'Courier New',monospace\"></pre>\n"
      ],
      "text/plain": []
     },
     "metadata": {},
     "output_type": "display_data"
    },
    {
     "data": {
      "text/html": [
       "<pre style=\"white-space:pre;overflow-x:auto;line-height:normal;font-family:Menlo,'DejaVu Sans Mono',consolas,'Courier New',monospace\">\n",
       "</pre>\n"
      ],
      "text/plain": [
       "\n"
      ]
     },
     "metadata": {},
     "output_type": "display_data"
    },
    {
     "data": {
      "application/vnd.jupyter.widget-view+json": {
       "model_id": "516931fa463b45459fbaf4995fdb263a",
       "version_major": 2,
       "version_minor": 0
      },
      "text/plain": [
       "Output()"
      ]
     },
     "metadata": {},
     "output_type": "display_data"
    },
    {
     "name": "stdout",
     "output_type": "stream",
     "text": [
      "Function 'transcribe' executed in 0.6438s\n",
      "Region 2, parsed 30 lines. Still 15 lines left to transcribe.\n"
     ]
    },
    {
     "data": {
      "text/html": [
       "<pre style=\"white-space:pre;overflow-x:auto;line-height:normal;font-family:Menlo,'DejaVu Sans Mono',consolas,'Courier New',monospace\"></pre>\n"
      ],
      "text/plain": []
     },
     "metadata": {},
     "output_type": "display_data"
    },
    {
     "data": {
      "text/html": [
       "<pre style=\"white-space:pre;overflow-x:auto;line-height:normal;font-family:Menlo,'DejaVu Sans Mono',consolas,'Courier New',monospace\">\n",
       "</pre>\n"
      ],
      "text/plain": [
       "\n"
      ]
     },
     "metadata": {},
     "output_type": "display_data"
    },
    {
     "data": {
      "application/vnd.jupyter.widget-view+json": {
       "model_id": "28d6a80b33cb4a759bb629cbe329ce65",
       "version_major": 2,
       "version_minor": 0
      },
      "text/plain": [
       "Output()"
      ]
     },
     "metadata": {},
     "output_type": "display_data"
    },
    {
     "name": "stdout",
     "output_type": "stream",
     "text": [
      "Function 'transcribe' executed in 0.6452s\n"
     ]
    },
    {
     "data": {
      "text/html": [
       "<pre style=\"white-space:pre;overflow-x:auto;line-height:normal;font-family:Menlo,'DejaVu Sans Mono',consolas,'Courier New',monospace\"></pre>\n"
      ],
      "text/plain": []
     },
     "metadata": {},
     "output_type": "display_data"
    },
    {
     "data": {
      "text/html": [
       "<pre style=\"white-space:pre;overflow-x:auto;line-height:normal;font-family:Menlo,'DejaVu Sans Mono',consolas,'Courier New',monospace\">\n",
       "</pre>\n"
      ],
      "text/plain": [
       "\n"
      ]
     },
     "metadata": {},
     "output_type": "display_data"
    },
    {
     "data": {
      "application/vnd.jupyter.widget-view+json": {
       "model_id": "cc1af2a466e44a4893894ee14bcae4a7",
       "version_major": 2,
       "version_minor": 0
      },
      "text/plain": [
       "Output()"
      ]
     },
     "metadata": {},
     "output_type": "display_data"
    },
    {
     "name": "stdout",
     "output_type": "stream",
     "text": [
      "Function 'transcribe' executed in 0.6414s\n"
     ]
    },
    {
     "data": {
      "text/html": [
       "<pre style=\"white-space:pre;overflow-x:auto;line-height:normal;font-family:Menlo,'DejaVu Sans Mono',consolas,'Courier New',monospace\"></pre>\n"
      ],
      "text/plain": []
     },
     "metadata": {},
     "output_type": "display_data"
    },
    {
     "data": {
      "text/html": [
       "<pre style=\"white-space:pre;overflow-x:auto;line-height:normal;font-family:Menlo,'DejaVu Sans Mono',consolas,'Courier New',monospace\">\n",
       "</pre>\n"
      ],
      "text/plain": [
       "\n"
      ]
     },
     "metadata": {},
     "output_type": "display_data"
    },
    {
     "data": {
      "application/vnd.jupyter.widget-view+json": {
       "model_id": "55846810b9e649f7a1456d6f27268ac5",
       "version_major": 2,
       "version_minor": 0
      },
      "text/plain": [
       "Output()"
      ]
     },
     "metadata": {},
     "output_type": "display_data"
    },
    {
     "name": "stdout",
     "output_type": "stream",
     "text": [
      "Function 'transcribe' executed in 0.6400s\n"
     ]
    },
    {
     "data": {
      "text/html": [
       "<pre style=\"white-space:pre;overflow-x:auto;line-height:normal;font-family:Menlo,'DejaVu Sans Mono',consolas,'Courier New',monospace\"></pre>\n"
      ],
      "text/plain": []
     },
     "metadata": {},
     "output_type": "display_data"
    },
    {
     "data": {
      "text/html": [
       "<pre style=\"white-space:pre;overflow-x:auto;line-height:normal;font-family:Menlo,'DejaVu Sans Mono',consolas,'Courier New',monospace\">\n",
       "</pre>\n"
      ],
      "text/plain": [
       "\n"
      ]
     },
     "metadata": {},
     "output_type": "display_data"
    },
    {
     "data": {
      "application/vnd.jupyter.widget-view+json": {
       "model_id": "3b6372ae4da64ddf92e1db0ed68b7abf",
       "version_major": 2,
       "version_minor": 0
      },
      "text/plain": [
       "Output()"
      ]
     },
     "metadata": {},
     "output_type": "display_data"
    },
    {
     "name": "stdout",
     "output_type": "stream",
     "text": [
      "Function 'transcribe' executed in 0.6487s\n"
     ]
    },
    {
     "data": {
      "text/html": [
       "<pre style=\"white-space:pre;overflow-x:auto;line-height:normal;font-family:Menlo,'DejaVu Sans Mono',consolas,'Courier New',monospace\"></pre>\n"
      ],
      "text/plain": []
     },
     "metadata": {},
     "output_type": "display_data"
    },
    {
     "data": {
      "text/html": [
       "<pre style=\"white-space:pre;overflow-x:auto;line-height:normal;font-family:Menlo,'DejaVu Sans Mono',consolas,'Courier New',monospace\">\n",
       "</pre>\n"
      ],
      "text/plain": [
       "\n"
      ]
     },
     "metadata": {},
     "output_type": "display_data"
    },
    {
     "data": {
      "application/vnd.jupyter.widget-view+json": {
       "model_id": "c4683230bdbf477aa3374b9d22102387",
       "version_major": 2,
       "version_minor": 0
      },
      "text/plain": [
       "Output()"
      ]
     },
     "metadata": {},
     "output_type": "display_data"
    },
    {
     "name": "stdout",
     "output_type": "stream",
     "text": [
      "Function 'transcribe' executed in 0.6431s\n"
     ]
    },
    {
     "data": {
      "text/html": [
       "<pre style=\"white-space:pre;overflow-x:auto;line-height:normal;font-family:Menlo,'DejaVu Sans Mono',consolas,'Courier New',monospace\"></pre>\n"
      ],
      "text/plain": []
     },
     "metadata": {},
     "output_type": "display_data"
    },
    {
     "data": {
      "text/html": [
       "<pre style=\"white-space:pre;overflow-x:auto;line-height:normal;font-family:Menlo,'DejaVu Sans Mono',consolas,'Courier New',monospace\">\n",
       "</pre>\n"
      ],
      "text/plain": [
       "\n"
      ]
     },
     "metadata": {},
     "output_type": "display_data"
    },
    {
     "data": {
      "application/vnd.jupyter.widget-view+json": {
       "model_id": "1f2ff45dddc64cb38ee7ee583984a12f",
       "version_major": 2,
       "version_minor": 0
      },
      "text/plain": [
       "Output()"
      ]
     },
     "metadata": {},
     "output_type": "display_data"
    },
    {
     "name": "stdout",
     "output_type": "stream",
     "text": [
      "Function 'transcribe' executed in 0.6440s\n"
     ]
    },
    {
     "data": {
      "text/html": [
       "<pre style=\"white-space:pre;overflow-x:auto;line-height:normal;font-family:Menlo,'DejaVu Sans Mono',consolas,'Courier New',monospace\"></pre>\n"
      ],
      "text/plain": []
     },
     "metadata": {},
     "output_type": "display_data"
    },
    {
     "data": {
      "text/html": [
       "<pre style=\"white-space:pre;overflow-x:auto;line-height:normal;font-family:Menlo,'DejaVu Sans Mono',consolas,'Courier New',monospace\">\n",
       "</pre>\n"
      ],
      "text/plain": [
       "\n"
      ]
     },
     "metadata": {},
     "output_type": "display_data"
    },
    {
     "data": {
      "application/vnd.jupyter.widget-view+json": {
       "model_id": "d9468d9a44664c1b8cd76f4c245c1a18",
       "version_major": 2,
       "version_minor": 0
      },
      "text/plain": [
       "Output()"
      ]
     },
     "metadata": {},
     "output_type": "display_data"
    },
    {
     "name": "stdout",
     "output_type": "stream",
     "text": [
      "Function 'transcribe' executed in 0.6439s\n"
     ]
    },
    {
     "data": {
      "text/html": [
       "<pre style=\"white-space:pre;overflow-x:auto;line-height:normal;font-family:Menlo,'DejaVu Sans Mono',consolas,'Courier New',monospace\"></pre>\n"
      ],
      "text/plain": []
     },
     "metadata": {},
     "output_type": "display_data"
    },
    {
     "data": {
      "text/html": [
       "<pre style=\"white-space:pre;overflow-x:auto;line-height:normal;font-family:Menlo,'DejaVu Sans Mono',consolas,'Courier New',monospace\">\n",
       "</pre>\n"
      ],
      "text/plain": [
       "\n"
      ]
     },
     "metadata": {},
     "output_type": "display_data"
    },
    {
     "data": {
      "application/vnd.jupyter.widget-view+json": {
       "model_id": "c034be97dfae40518f35351d0c16188a",
       "version_major": 2,
       "version_minor": 0
      },
      "text/plain": [
       "Output()"
      ]
     },
     "metadata": {},
     "output_type": "display_data"
    },
    {
     "name": "stdout",
     "output_type": "stream",
     "text": [
      "Function 'transcribe' executed in 0.6437s\n"
     ]
    },
    {
     "data": {
      "text/html": [
       "<pre style=\"white-space:pre;overflow-x:auto;line-height:normal;font-family:Menlo,'DejaVu Sans Mono',consolas,'Courier New',monospace\"></pre>\n"
      ],
      "text/plain": []
     },
     "metadata": {},
     "output_type": "display_data"
    },
    {
     "data": {
      "text/html": [
       "<pre style=\"white-space:pre;overflow-x:auto;line-height:normal;font-family:Menlo,'DejaVu Sans Mono',consolas,'Courier New',monospace\">\n",
       "</pre>\n"
      ],
      "text/plain": [
       "\n"
      ]
     },
     "metadata": {},
     "output_type": "display_data"
    },
    {
     "data": {
      "application/vnd.jupyter.widget-view+json": {
       "model_id": "80a784371b3b43b7abbeeb6487c72c87",
       "version_major": 2,
       "version_minor": 0
      },
      "text/plain": [
       "Output()"
      ]
     },
     "metadata": {},
     "output_type": "display_data"
    },
    {
     "name": "stdout",
     "output_type": "stream",
     "text": [
      "Function 'transcribe' executed in 0.6449s\n"
     ]
    },
    {
     "data": {
      "text/html": [
       "<pre style=\"white-space:pre;overflow-x:auto;line-height:normal;font-family:Menlo,'DejaVu Sans Mono',consolas,'Courier New',monospace\"></pre>\n"
      ],
      "text/plain": []
     },
     "metadata": {},
     "output_type": "display_data"
    },
    {
     "data": {
      "text/html": [
       "<pre style=\"white-space:pre;overflow-x:auto;line-height:normal;font-family:Menlo,'DejaVu Sans Mono',consolas,'Courier New',monospace\">\n",
       "</pre>\n"
      ],
      "text/plain": [
       "\n"
      ]
     },
     "metadata": {},
     "output_type": "display_data"
    },
    {
     "data": {
      "application/vnd.jupyter.widget-view+json": {
       "model_id": "5e694fe6a7334b9a947b40e2e5bd82a0",
       "version_major": 2,
       "version_minor": 0
      },
      "text/plain": [
       "Output()"
      ]
     },
     "metadata": {},
     "output_type": "display_data"
    },
    {
     "name": "stdout",
     "output_type": "stream",
     "text": [
      "Function 'transcribe' executed in 0.6265s\n"
     ]
    },
    {
     "data": {
      "text/html": [
       "<pre style=\"white-space:pre;overflow-x:auto;line-height:normal;font-family:Menlo,'DejaVu Sans Mono',consolas,'Courier New',monospace\"></pre>\n"
      ],
      "text/plain": []
     },
     "metadata": {},
     "output_type": "display_data"
    },
    {
     "data": {
      "text/html": [
       "<pre style=\"white-space:pre;overflow-x:auto;line-height:normal;font-family:Menlo,'DejaVu Sans Mono',consolas,'Courier New',monospace\">\n",
       "</pre>\n"
      ],
      "text/plain": [
       "\n"
      ]
     },
     "metadata": {},
     "output_type": "display_data"
    },
    {
     "data": {
      "application/vnd.jupyter.widget-view+json": {
       "model_id": "d046c4dd62b9477c9c9f83d5ed07ca5b",
       "version_major": 2,
       "version_minor": 0
      },
      "text/plain": [
       "Output()"
      ]
     },
     "metadata": {},
     "output_type": "display_data"
    },
    {
     "name": "stdout",
     "output_type": "stream",
     "text": [
      "Function 'transcribe' executed in 0.6237s\n"
     ]
    },
    {
     "data": {
      "text/html": [
       "<pre style=\"white-space:pre;overflow-x:auto;line-height:normal;font-family:Menlo,'DejaVu Sans Mono',consolas,'Courier New',monospace\"></pre>\n"
      ],
      "text/plain": []
     },
     "metadata": {},
     "output_type": "display_data"
    },
    {
     "data": {
      "text/html": [
       "<pre style=\"white-space:pre;overflow-x:auto;line-height:normal;font-family:Menlo,'DejaVu Sans Mono',consolas,'Courier New',monospace\">\n",
       "</pre>\n"
      ],
      "text/plain": [
       "\n"
      ]
     },
     "metadata": {},
     "output_type": "display_data"
    },
    {
     "data": {
      "application/vnd.jupyter.widget-view+json": {
       "model_id": "3dbb17b612ac40cb940737471cba2d7c",
       "version_major": 2,
       "version_minor": 0
      },
      "text/plain": [
       "Output()"
      ]
     },
     "metadata": {},
     "output_type": "display_data"
    },
    {
     "name": "stdout",
     "output_type": "stream",
     "text": [
      "Function 'transcribe' executed in 0.6240s\n"
     ]
    },
    {
     "data": {
      "text/html": [
       "<pre style=\"white-space:pre;overflow-x:auto;line-height:normal;font-family:Menlo,'DejaVu Sans Mono',consolas,'Courier New',monospace\"></pre>\n"
      ],
      "text/plain": []
     },
     "metadata": {},
     "output_type": "display_data"
    },
    {
     "data": {
      "text/html": [
       "<pre style=\"white-space:pre;overflow-x:auto;line-height:normal;font-family:Menlo,'DejaVu Sans Mono',consolas,'Courier New',monospace\">\n",
       "</pre>\n"
      ],
      "text/plain": [
       "\n"
      ]
     },
     "metadata": {},
     "output_type": "display_data"
    },
    {
     "data": {
      "application/vnd.jupyter.widget-view+json": {
       "model_id": "4d401a84dd9d469ebbbeee0b3285fb80",
       "version_major": 2,
       "version_minor": 0
      },
      "text/plain": [
       "Output()"
      ]
     },
     "metadata": {},
     "output_type": "display_data"
    },
    {
     "name": "stdout",
     "output_type": "stream",
     "text": [
      "Function 'transcribe' executed in 0.6252s\n"
     ]
    },
    {
     "data": {
      "text/html": [
       "<pre style=\"white-space:pre;overflow-x:auto;line-height:normal;font-family:Menlo,'DejaVu Sans Mono',consolas,'Courier New',monospace\"></pre>\n"
      ],
      "text/plain": []
     },
     "metadata": {},
     "output_type": "display_data"
    },
    {
     "data": {
      "text/html": [
       "<pre style=\"white-space:pre;overflow-x:auto;line-height:normal;font-family:Menlo,'DejaVu Sans Mono',consolas,'Courier New',monospace\">\n",
       "</pre>\n"
      ],
      "text/plain": [
       "\n"
      ]
     },
     "metadata": {},
     "output_type": "display_data"
    },
    {
     "data": {
      "application/vnd.jupyter.widget-view+json": {
       "model_id": "dcea043a1f10420c99848ccb2d114eb1",
       "version_major": 2,
       "version_minor": 0
      },
      "text/plain": [
       "Output()"
      ]
     },
     "metadata": {},
     "output_type": "display_data"
    },
    {
     "name": "stdout",
     "output_type": "stream",
     "text": [
      "Function 'transcribe' executed in 0.6356s\n"
     ]
    },
    {
     "data": {
      "text/html": [
       "<pre style=\"white-space:pre;overflow-x:auto;line-height:normal;font-family:Menlo,'DejaVu Sans Mono',consolas,'Courier New',monospace\"></pre>\n"
      ],
      "text/plain": []
     },
     "metadata": {},
     "output_type": "display_data"
    },
    {
     "data": {
      "text/html": [
       "<pre style=\"white-space:pre;overflow-x:auto;line-height:normal;font-family:Menlo,'DejaVu Sans Mono',consolas,'Courier New',monospace\">\n",
       "</pre>\n"
      ],
      "text/plain": [
       "\n"
      ]
     },
     "metadata": {},
     "output_type": "display_data"
    },
    {
     "name": "stderr",
     "output_type": "stream",
     "text": [
      "3it [00:54, 21.30s/it]"
     ]
    },
    {
     "data": {
      "application/vnd.jupyter.widget-view+json": {
       "model_id": "6c1a806813474aeda93d93facc00170d",
       "version_major": 2,
       "version_minor": 0
      },
      "text/plain": [
       "Output()"
      ]
     },
     "metadata": {},
     "output_type": "display_data"
    },
    {
     "name": "stdout",
     "output_type": "stream",
     "text": [
      "Function 'transcribe' executed in 0.6261s\n"
     ]
    },
    {
     "data": {
      "text/html": [
       "<pre style=\"white-space:pre;overflow-x:auto;line-height:normal;font-family:Menlo,'DejaVu Sans Mono',consolas,'Courier New',monospace\"></pre>\n"
      ],
      "text/plain": []
     },
     "metadata": {},
     "output_type": "display_data"
    },
    {
     "data": {
      "text/html": [
       "<pre style=\"white-space:pre;overflow-x:auto;line-height:normal;font-family:Menlo,'DejaVu Sans Mono',consolas,'Courier New',monospace\">\n",
       "</pre>\n"
      ],
      "text/plain": [
       "\n"
      ]
     },
     "metadata": {},
     "output_type": "display_data"
    },
    {
     "data": {
      "application/vnd.jupyter.widget-view+json": {
       "model_id": "751ecbc29bc145938a8466e6ab21ebba",
       "version_major": 2,
       "version_minor": 0
      },
      "text/plain": [
       "Output()"
      ]
     },
     "metadata": {},
     "output_type": "display_data"
    },
    {
     "name": "stdout",
     "output_type": "stream",
     "text": [
      "Function 'predict_lines' executed in 0.0380s\n",
      " Region 3, found 1 lines to parse and transcribe.\n"
     ]
    },
    {
     "data": {
      "text/html": [
       "<pre style=\"white-space:pre;overflow-x:auto;line-height:normal;font-family:Menlo,'DejaVu Sans Mono',consolas,'Courier New',monospace\"></pre>\n"
      ],
      "text/plain": []
     },
     "metadata": {},
     "output_type": "display_data"
    },
    {
     "data": {
      "text/html": [
       "<pre style=\"white-space:pre;overflow-x:auto;line-height:normal;font-family:Menlo,'DejaVu Sans Mono',consolas,'Courier New',monospace\">\n",
       "</pre>\n"
      ],
      "text/plain": [
       "\n"
      ]
     },
     "metadata": {},
     "output_type": "display_data"
    },
    {
     "name": "stderr",
     "output_type": "stream",
     "text": [
      "4it [00:54, 13.15s/it]"
     ]
    },
    {
     "data": {
      "application/vnd.jupyter.widget-view+json": {
       "model_id": "d51feb7198954826ba95ef84942e19e1",
       "version_major": 2,
       "version_minor": 0
      },
      "text/plain": [
       "Output()"
      ]
     },
     "metadata": {},
     "output_type": "display_data"
    },
    {
     "name": "stdout",
     "output_type": "stream",
     "text": [
      "Function 'transcribe' executed in 0.6247s\n"
     ]
    },
    {
     "data": {
      "text/html": [
       "<pre style=\"white-space:pre;overflow-x:auto;line-height:normal;font-family:Menlo,'DejaVu Sans Mono',consolas,'Courier New',monospace\"></pre>\n"
      ],
      "text/plain": []
     },
     "metadata": {},
     "output_type": "display_data"
    },
    {
     "data": {
      "text/html": [
       "<pre style=\"white-space:pre;overflow-x:auto;line-height:normal;font-family:Menlo,'DejaVu Sans Mono',consolas,'Courier New',monospace\">\n",
       "</pre>\n"
      ],
      "text/plain": [
       "\n"
      ]
     },
     "metadata": {},
     "output_type": "display_data"
    },
    {
     "data": {
      "application/vnd.jupyter.widget-view+json": {
       "model_id": "486e7e83b6394f63b042eb799211c320",
       "version_major": 2,
       "version_minor": 0
      },
      "text/plain": [
       "Output()"
      ]
     },
     "metadata": {},
     "output_type": "display_data"
    },
    {
     "name": "stdout",
     "output_type": "stream",
     "text": [
      "Function 'predict_lines' executed in 0.0626s\n",
      " Region 4, found 7 lines to parse and transcribe.\n"
     ]
    },
    {
     "data": {
      "text/html": [
       "<pre style=\"white-space:pre;overflow-x:auto;line-height:normal;font-family:Menlo,'DejaVu Sans Mono',consolas,'Courier New',monospace\"></pre>\n"
      ],
      "text/plain": []
     },
     "metadata": {},
     "output_type": "display_data"
    },
    {
     "data": {
      "text/html": [
       "<pre style=\"white-space:pre;overflow-x:auto;line-height:normal;font-family:Menlo,'DejaVu Sans Mono',consolas,'Courier New',monospace\">\n",
       "</pre>\n"
      ],
      "text/plain": [
       "\n"
      ]
     },
     "metadata": {},
     "output_type": "display_data"
    },
    {
     "data": {
      "application/vnd.jupyter.widget-view+json": {
       "model_id": "2bb12cdbd91241d497e1f5051535dac7",
       "version_major": 2,
       "version_minor": 0
      },
      "text/plain": [
       "Output()"
      ]
     },
     "metadata": {},
     "output_type": "display_data"
    },
    {
     "name": "stdout",
     "output_type": "stream",
     "text": [
      "Function 'transcribe' executed in 0.6007s\n"
     ]
    },
    {
     "data": {
      "text/html": [
       "<pre style=\"white-space:pre;overflow-x:auto;line-height:normal;font-family:Menlo,'DejaVu Sans Mono',consolas,'Courier New',monospace\"></pre>\n"
      ],
      "text/plain": []
     },
     "metadata": {},
     "output_type": "display_data"
    },
    {
     "data": {
      "text/html": [
       "<pre style=\"white-space:pre;overflow-x:auto;line-height:normal;font-family:Menlo,'DejaVu Sans Mono',consolas,'Courier New',monospace\">\n",
       "</pre>\n"
      ],
      "text/plain": [
       "\n"
      ]
     },
     "metadata": {},
     "output_type": "display_data"
    },
    {
     "data": {
      "application/vnd.jupyter.widget-view+json": {
       "model_id": "199d6b1a7b5d452c93cdbc13a0f54c13",
       "version_major": 2,
       "version_minor": 0
      },
      "text/plain": [
       "Output()"
      ]
     },
     "metadata": {},
     "output_type": "display_data"
    },
    {
     "name": "stdout",
     "output_type": "stream",
     "text": [
      "Function 'transcribe' executed in 0.6249s\n"
     ]
    },
    {
     "data": {
      "text/html": [
       "<pre style=\"white-space:pre;overflow-x:auto;line-height:normal;font-family:Menlo,'DejaVu Sans Mono',consolas,'Courier New',monospace\"></pre>\n"
      ],
      "text/plain": []
     },
     "metadata": {},
     "output_type": "display_data"
    },
    {
     "data": {
      "text/html": [
       "<pre style=\"white-space:pre;overflow-x:auto;line-height:normal;font-family:Menlo,'DejaVu Sans Mono',consolas,'Courier New',monospace\">\n",
       "</pre>\n"
      ],
      "text/plain": [
       "\n"
      ]
     },
     "metadata": {},
     "output_type": "display_data"
    },
    {
     "data": {
      "application/vnd.jupyter.widget-view+json": {
       "model_id": "3950edf3731b40dd9090d6921c5ebef0",
       "version_major": 2,
       "version_minor": 0
      },
      "text/plain": [
       "Output()"
      ]
     },
     "metadata": {},
     "output_type": "display_data"
    },
    {
     "name": "stdout",
     "output_type": "stream",
     "text": [
      "Function 'transcribe' executed in 0.6233s\n"
     ]
    },
    {
     "data": {
      "text/html": [
       "<pre style=\"white-space:pre;overflow-x:auto;line-height:normal;font-family:Menlo,'DejaVu Sans Mono',consolas,'Courier New',monospace\"></pre>\n"
      ],
      "text/plain": []
     },
     "metadata": {},
     "output_type": "display_data"
    },
    {
     "data": {
      "text/html": [
       "<pre style=\"white-space:pre;overflow-x:auto;line-height:normal;font-family:Menlo,'DejaVu Sans Mono',consolas,'Courier New',monospace\">\n",
       "</pre>\n"
      ],
      "text/plain": [
       "\n"
      ]
     },
     "metadata": {},
     "output_type": "display_data"
    },
    {
     "data": {
      "application/vnd.jupyter.widget-view+json": {
       "model_id": "460e2864c02a4395a33c90d2f6fab6ce",
       "version_major": 2,
       "version_minor": 0
      },
      "text/plain": [
       "Output()"
      ]
     },
     "metadata": {},
     "output_type": "display_data"
    },
    {
     "name": "stdout",
     "output_type": "stream",
     "text": [
      "Function 'transcribe' executed in 0.6339s\n"
     ]
    },
    {
     "data": {
      "text/html": [
       "<pre style=\"white-space:pre;overflow-x:auto;line-height:normal;font-family:Menlo,'DejaVu Sans Mono',consolas,'Courier New',monospace\"></pre>\n"
      ],
      "text/plain": []
     },
     "metadata": {},
     "output_type": "display_data"
    },
    {
     "data": {
      "text/html": [
       "<pre style=\"white-space:pre;overflow-x:auto;line-height:normal;font-family:Menlo,'DejaVu Sans Mono',consolas,'Courier New',monospace\">\n",
       "</pre>\n"
      ],
      "text/plain": [
       "\n"
      ]
     },
     "metadata": {},
     "output_type": "display_data"
    },
    {
     "data": {
      "application/vnd.jupyter.widget-view+json": {
       "model_id": "32f297afe4bb4ae6bdf9ea00ae8caf7e",
       "version_major": 2,
       "version_minor": 0
      },
      "text/plain": [
       "Output()"
      ]
     },
     "metadata": {},
     "output_type": "display_data"
    },
    {
     "name": "stdout",
     "output_type": "stream",
     "text": [
      "Function 'transcribe' executed in 0.6241s\n"
     ]
    },
    {
     "data": {
      "text/html": [
       "<pre style=\"white-space:pre;overflow-x:auto;line-height:normal;font-family:Menlo,'DejaVu Sans Mono',consolas,'Courier New',monospace\"></pre>\n"
      ],
      "text/plain": []
     },
     "metadata": {},
     "output_type": "display_data"
    },
    {
     "data": {
      "text/html": [
       "<pre style=\"white-space:pre;overflow-x:auto;line-height:normal;font-family:Menlo,'DejaVu Sans Mono',consolas,'Courier New',monospace\">\n",
       "</pre>\n"
      ],
      "text/plain": [
       "\n"
      ]
     },
     "metadata": {},
     "output_type": "display_data"
    },
    {
     "data": {
      "application/vnd.jupyter.widget-view+json": {
       "model_id": "d0848453d0d74ad5a5afe94967dc563d",
       "version_major": 2,
       "version_minor": 0
      },
      "text/plain": [
       "Output()"
      ]
     },
     "metadata": {},
     "output_type": "display_data"
    },
    {
     "name": "stdout",
     "output_type": "stream",
     "text": [
      "Function 'transcribe' executed in 0.6227s\n"
     ]
    },
    {
     "data": {
      "text/html": [
       "<pre style=\"white-space:pre;overflow-x:auto;line-height:normal;font-family:Menlo,'DejaVu Sans Mono',consolas,'Courier New',monospace\"></pre>\n"
      ],
      "text/plain": []
     },
     "metadata": {},
     "output_type": "display_data"
    },
    {
     "data": {
      "text/html": [
       "<pre style=\"white-space:pre;overflow-x:auto;line-height:normal;font-family:Menlo,'DejaVu Sans Mono',consolas,'Courier New',monospace\">\n",
       "</pre>\n"
      ],
      "text/plain": [
       "\n"
      ]
     },
     "metadata": {},
     "output_type": "display_data"
    },
    {
     "name": "stderr",
     "output_type": "stream",
     "text": [
      "5it [00:59, 11.84s/it]"
     ]
    },
    {
     "name": "stdout",
     "output_type": "stream",
     "text": [
      "Function 'transcribe' executed in 0.6272s\n",
      "Function 'running_htr_pipeline' executed in 60.9791s\n"
     ]
    },
    {
     "name": "stderr",
     "output_type": "stream",
     "text": [
      "\n"
     ]
    }
   ],
   "source": [
    "import cv2\n",
    "\n",
    "# Load an image from file\n",
    "image_path = '/home/sush/mmocr/test_heby/image_-020.png'\n",
    "image = cv2.imread(image_path)\n",
    "model = \"Riksarkivet/satrn_htr\"  # Adjust based on your specific model\n",
    "\n",
    "rendered_xml = pipeline.running_htr_pipeline(image, model)\n",
    "\n"
   ]
  },
  {
   "cell_type": "code",
   "execution_count": 3,
   "id": "a94922e0-b43f-4003-b4fc-5804d9ee1fd0",
   "metadata": {},
   "outputs": [],
   "source": [
    "# Define the file path to write to\n",
    "file_path = 'page_xml.xml'\n",
    "\n",
    "# Open the file in write mode ('w') and write the XML string to it\n",
    "with open(file_path, 'w', encoding='utf-8') as file:\n",
    "    file.write(rendered_xml)\n",
    "\n"
   ]
  },
  {
   "cell_type": "code",
   "execution_count": 4,
   "id": "e75a378e-d1e9-4d2a-a57a-77f54cd0a718",
   "metadata": {},
   "outputs": [
    {
     "name": "stdout",
     "output_type": "stream",
     "text": [
      "Function 'visualize_xml' executed in 0.4014s\n"
     ]
    },
    {
     "data": {
      "image/png": "[encoded data removed]",
      "text/plain": [
       "<Figure size 640x480 with 1 Axes>"
      ]
     },
     "metadata": {},
     "output_type": "display_data"
    },
    {
     "name": "stdout",
     "output_type": "stream",
     "text": [
      "<?xml version=\"1.0\" encoding=\"UTF-8\"?>\n",
      "<PcGts xmlns=\"http://schema.primaresearch.org/PAGE/gts/pagecontent/2013-07-15\" xmlns:xsi=\"http://www.w3.org/2001/XMLSchema-instance\" xsi:schemaLocation=\"http://schema.primaresearch.org/PAGE/gts/pagecontent/2013-07-15 http://schema.primaresearch.org/PAGE/gts/pagecontent/2013-07-15/pagecontent.xsd\">\n",
      "    <Metadata>\n",
      "        <Creator>Swedish National Archives</Creator>\n",
      "        <Created>2024-03-20, 14:25:54</Created>\n",
      "    </Metadata>\n",
      "    <Page imageFilename=\"page_xml.xml\" imageWidth=\"2834\" imageHeight=\"2096\">\n",
      "    <TextRegion id=\"region_0\" custom=\"readingOrder {index:0;}\">\n",
      "        <Coords points=\"696,49 718,56 997,57 1013,55 1017,50 1008,16 979,21 927,16 926,0 706,0 706,19\"/>\n",
      "    <TextLine id=\"line_region_0_0\" custom=\"readingOrder {index:0;}\">\n",
      "                <Coords points=\"698,41 702,50 711,50 718,54 1004,55 1011,46 1013,28 1001,19 955,17 930,11 928,6 923,9 918,5 851,7 829,0 804,4 729,3 708,8 701,14\"/>\n",
      "                                <TextEquiv>\n",
      "            <Unicode>1851. den 29. Januari</Unicode>\n",
      "        </TextEquiv>\n",
      "                        <PredScore pred_score=\"0.9918\"/>\n",
      "            </TextLine>\n",
      "    </TextRegion>\n",
      "    <TextRegion id=\"region_1\" custom=\"readingOrder {index:1;}\">\n",
      "        <Coords points=\"1255,78 1044,59 1008,30 951,56 388,54 327,943 331,1182 389,1255 329,1290 330,1863 937,1902 1096,1937 1241,1930 1284,982 1285,135\"/>\n",
      "    <TextLine id=\"line_region_1_0\" custom=\"readingOrder {index:0;}\">\n",
      "                <Coords points=\"409,71 410,92 437,103 580,100 748,113 1074,118 1160,135 1281,119 1280,108 1222,83 1095,79 1066,64 981,69 876,57 421,56\"/>\n",
      "                                <TextEquiv>\n",
      "            <Unicode>15 pgl. uti berörde Uplanda. samt sönerne Olof och</Unicode>\n",
      "        </TextEquiv>\n",
      "                        <PredScore pred_score=\"0.9739\"/>\n",
      "            </TextLine>\n",
      "    <TextLine id=\"line_region_1_1\" custom=\"readingOrder {index:1;}\">\n",
      "                <Coords points=\"400,132 404,149 417,154 645,152 707,164 782,161 849,176 894,166 1238,178 1259,162 1252,146 1236,138 1124,136 1069,118 1011,127 897,115 803,126 689,110 617,115 540,102 407,118\"/>\n",
      "                                <TextEquiv>\n",
      "            <Unicode>dels tillhopa 15 sigl. i omförmälde hemman Stock</Unicode>\n",
      "        </TextEquiv>\n",
      "                        <PredScore pred_score=\"0.979\"/>\n",
      "            </TextLine>\n",
      "    <TextLine id=\"line_region_1_2\" custom=\"readingOrder {index:2;}\">\n",
      "                <Coords points=\"398,219 444,211 526,218 736,209 1140,226 1185,234 1221,232 1230,216 1213,185 1162,190 1092,172 852,179 784,164 537,166 496,155 407,169 395,181\"/>\n",
      "                                <TextEquiv>\n",
      "            <Unicode>grund af serskildt derom uprättadt tidamente,</Unicode>\n",
      "        </TextEquiv>\n",
      "                        <PredScore pred_score=\"0.9374\"/>\n",
      "            </TextLine>\n",
      "    <TextLine id=\"line_region_1_3\" custom=\"readingOrder {index:3;}\">\n",
      "                <Coords points=\"395,242 397,264 419,272 708,267 778,288 828,274 908,270 972,274 1017,288 1117,282 1215,290 1242,282 1247,269 1244,255 1190,237 1109,241 1064,225 924,236 852,220 732,226 681,218 514,224 462,217 414,224\"/>\n",
      "                                <TextEquiv>\n",
      "            <Unicode>dels jemte systrarne Greta och Capa, hvar</Unicode>\n",
      "        </TextEquiv>\n",
      "                        <PredScore pred_score=\"0.9792\"/>\n",
      "            </TextLine>\n",
      "    <TextLine id=\"line_region_1_4\" custom=\"readingOrder {index:4;}\">\n",
      "                <Coords points=\"398,301 407,325 487,333 619,320 906,324 986,336 1193,340 1242,327 1236,303 1168,282 1063,292 924,280 779,289 682,277 602,288 463,277 409,285\"/>\n",
      "                                <TextEquiv>\n",
      "            <Unicode>3 5/4 pgl. i Uplanda och 3 3/4 pgl. i Sterta i</Unicode>\n",
      "        </TextEquiv>\n",
      "                        <PredScore pred_score=\"0.9292\"/>\n",
      "            </TextLine>\n",
      "    <TextLine id=\"line_region_1_6\" custom=\"readingOrder {index:5;}\">\n",
      "                <Coords points=\"395,354 399,380 522,382 564,390 694,381 1238,399 1237,379 1221,357 1191,344 1114,354 969,352 901,335 827,343 741,332 423,340 402,344\"/>\n",
      "                                <TextEquiv>\n",
      "            <Unicode>manen, 7o Ett den 27. i denna månad af Erik</Unicode>\n",
      "        </TextEquiv>\n",
      "                        <PredScore pred_score=\"0.9393\"/>\n",
      "            </TextLine>\n",
      "    <TextLine id=\"line_region_1_7\" custom=\"readingOrder {index:6;}\">\n",
      "                <Coords points=\"396,412 399,433 411,439 498,439 562,451 611,442 918,443 1222,465 1260,450 1247,433 1117,403 1014,407 972,396 889,407 757,403 664,390 593,399 498,390 404,396\"/>\n",
      "                                <TextEquiv>\n",
      "            <Unicode>ten förmån för ofvanbemälde hans 4. barn, gjordt</Unicode>\n",
      "        </TextEquiv>\n",
      "                        <PredScore pred_score=\"0.9715\"/>\n",
      "            </TextLine>\n",
      "    <TextLine id=\"line_region_1_8\" custom=\"readingOrder {index:7;}\">\n",
      "                <Coords points=\"388,471 399,495 531,491 737,500 819,512 923,512 971,526 1054,512 1211,527 1224,518 1226,504 1209,476 1068,457 1008,462 798,454 688,461 461,445 400,452\"/>\n",
      "                                <TextEquiv>\n",
      "            <Unicode>att varnens närvaro underskrifvet förordnande,</Unicode>\n",
      "        </TextEquiv>\n",
      "                        <PredScore pred_score=\"0.9137\"/>\n",
      "            </TextLine>\n",
      "    <TextLine id=\"line_region_1_9\" custom=\"readingOrder {index:8;}\">\n",
      "                <Coords points=\"387,540 397,559 456,549 601,548 888,562 971,576 1189,580 1250,569 1187,536 1135,537 1047,519 971,533 923,519 798,523 734,509 570,501 399,510\"/>\n",
      "                                <TextEquiv>\n",
      "            <Unicode>igenom han till barnen uplåtit öfverbesagda, ho¬</Unicode>\n",
      "        </TextEquiv>\n",
      "                        <PredScore pred_score=\"0.9433\"/>\n",
      "            </TextLine>\n",
      "    <TextLine id=\"line_region_1_10\" custom=\"readingOrder {index:9;}\">\n",
      "                <Coords points=\"389,581 397,615 589,606 763,613 852,626 976,621 1014,633 1237,629 1247,618 1236,608 1187,604 1139,583 959,585 557,560 397,565\"/>\n",
      "                                <TextEquiv>\n",
      "            <Unicode>tillskiftade tillhopa 1 öres - 5 sigs i Uplanda, emot</Unicode>\n",
      "        </TextEquiv>\n",
      "                        <PredScore pred_score=\"0.954\"/>\n",
      "            </TextLine>\n",
      "    <TextLine id=\"line_region_1_11\" custom=\"readingOrder {index:10;}\">\n",
      "                <Coords points=\"383,637 385,659 397,671 502,671 590,685 762,677 1201,704 1259,702 1267,690 1261,668 1244,658 1163,660 1091,645 899,645 813,633 571,621 403,622\"/>\n",
      "                                <TextEquiv>\n",
      "            <Unicode>tingad lifstidsfördel, hvadan ock enligt nu före</Unicode>\n",
      "        </TextEquiv>\n",
      "                        <PredScore pred_score=\"0.9703\"/>\n",
      "            </TextLine>\n",
      "    <TextLine id=\"line_region_1_12\" custom=\"readingOrder {index:11;}\">\n",
      "                <Coords points=\"384,705 387,729 397,738 465,727 701,732 823,749 978,749 1020,762 1101,753 1259,762 1264,752 1256,726 1124,705 974,710 892,695 684,694 531,677 397,687\"/>\n",
      "                                <TextEquiv>\n",
      "            <Unicode>visadt 8o instrument af samma dag hvardera</Unicode>\n",
      "        </TextEquiv>\n",
      "                        <PredScore pred_score=\"0.9665\"/>\n",
      "            </TextLine>\n",
      "    <TextLine id=\"line_region_1_13\" custom=\"readingOrder {index:12;}\">\n",
      "                <Coords points=\"380,773 381,786 395,796 591,791 898,814 987,811 1068,825 1257,824 1271,810 1259,778 1065,765 995,773 881,760 753,761 665,743 591,750 444,743 397,750\"/>\n",
      "                                <TextEquiv>\n",
      "            <Unicode>af barnen bekommit 7 1/4. sigl uti oftaberörde</Unicode>\n",
      "        </TextEquiv>\n",
      "                        <PredScore pred_score=\"0.9507\"/>\n",
      "            </TextLine>\n",
      "    <TextLine id=\"line_region_1_14\" custom=\"readingOrder {index:13;}\">\n",
      "                <Coords points=\"375,826 376,851 823,866 921,878 992,873 1156,889 1246,890 1269,880 1256,851 1073,834 953,836 883,821 750,823 595,808 389,810\"/>\n",
      "                                <TextEquiv>\n",
      "            <Unicode>hemman Uplanda med Ettenga utjord; varande</Unicode>\n",
      "        </TextEquiv>\n",
      "                        <PredScore pred_score=\"0.9433\"/>\n",
      "            </TextLine>\n",
      "    <TextLine id=\"line_region_1_15\" custom=\"readingOrder {index:14;}\">\n",
      "                <Coords points=\"361,898 373,925 481,915 825,932 902,950 1005,941 1258,951 1268,933 1258,903 1161,909 1021,888 764,885 590,871 376,875\"/>\n",
      "                                <TextEquiv>\n",
      "            <Unicode>jemväl detta instrument, uti skiftesmans och vitt¬</Unicode>\n",
      "        </TextEquiv>\n",
      "                        <PredScore pred_score=\"0.9743\"/>\n",
      "            </TextLine>\n",
      "    <TextLine id=\"line_region_1_16\" custom=\"readingOrder {index:15;}\">\n",
      "                <Coords points=\"360,951 374,976 561,982 659,995 973,1003 1045,1019 1240,1014 1261,1020 1268,1001 1258,970 1141,958 971,967 688,938 393,935\"/>\n",
      "                                <TextEquiv>\n",
      "            <Unicode>na närvaro, utaf vederbörande underskrifvet och</Unicode>\n",
      "        </TextEquiv>\n",
      "                        <PredScore pred_score=\"0.9693\"/>\n",
      "            </TextLine>\n",
      "    <TextLine id=\"line_region_1_17\" custom=\"readingOrder {index:16;}\">\n",
      "                <Coords points=\"579,998 567,989 541,987 515,990 477,983 468,983 447,990 401,998 373,999 362,1003 356,1009 348,1045 351,1054 374,1053 401,1043 465,1038 566,1046 574,1042 581,1031 583,1022\"/>\n",
      "                                <TextEquiv>\n",
      "            <Unicode>godkändt.</Unicode>\n",
      "        </TextEquiv>\n",
      "                        <PredScore pred_score=\"0.9582\"/>\n",
      "            </TextLine>\n",
      "    <TextLine id=\"line_region_1_18\" custom=\"readingOrder {index:17;}\">\n",
      "                <Coords points=\"426,1058 428,1089 443,1098 523,1097 707,1121 789,1110 1059,1134 1257,1140 1263,1120 1261,1091 1236,1078 1162,1091 1041,1070 971,1077 899,1062 829,1071 805,1054 738,1062 663,1052 580,1060 480,1044 433,1047\"/>\n",
      "                                <TextEquiv>\n",
      "            <Unicode>Enär gen dessa öfver antydde handlingar behöri¬</Unicode>\n",
      "        </TextEquiv>\n",
      "                        <PredScore pred_score=\"0.944\"/>\n",
      "            </TextLine>\n",
      "    <TextLine id=\"line_region_1_19\" custom=\"readingOrder {index:18;}\">\n",
      "                <Coords points=\"348,1162 398,1153 722,1158 1107,1187 1185,1203 1262,1189 1257,1151 1148,1150 1094,1136 1034,1143 804,1122 682,1125 531,1101 370,1108 352,1119\"/>\n",
      "                                <TextEquiv>\n",
      "            <Unicode>gen visats säljaren åtkomst till omförmälde, för</Unicode>\n",
      "        </TextEquiv>\n",
      "                        <PredScore pred_score=\"0.9674\"/>\n",
      "            </TextLine>\n",
      "    <TextLine id=\"line_region_1_20\" custom=\"readingOrder {index:19;}\">\n",
      "                <Coords points=\"357,1188 370,1206 401,1210 443,1227 546,1213 808,1220 1023,1241 1059,1214 1046,1189 973,1201 925,1181 807,1167 682,1174 567,1171 520,1160 474,1167 373,1166\"/>\n",
      "                                <TextEquiv>\n",
      "            <Unicode>sälde fastigheter, beslöt Hdiks och</Unicode>\n",
      "        </TextEquiv>\n",
      "                        <PredScore pred_score=\"0.9086\"/>\n",
      "            </TextLine>\n",
      "    <TextLine id=\"line_region_1_21\" custom=\"readingOrder {index:20;}\">\n",
      "                <Coords points=\"854,1239 851,1235 833,1230 824,1230 804,1235 783,1226 763,1229 708,1231 688,1240 670,1243 663,1248 659,1259 659,1284 663,1288 687,1297 735,1294 763,1288 810,1288 851,1285 854,1283 855,1274\"/>\n",
      "                                <TextEquiv>\n",
      "            <Unicode>Afsade</Unicode>\n",
      "        </TextEquiv>\n",
      "                        <PredScore pred_score=\"0.9801\"/>\n",
      "            </TextLine>\n",
      "    <TextLine id=\"line_region_1_22\" custom=\"readingOrder {index:21;}\">\n",
      "                <Coords points=\"348,1287 351,1311 421,1309 445,1322 546,1325 610,1338 839,1338 1228,1365 1254,1358 1246,1333 1235,1326 1189,1329 1165,1312 1044,1313 928,1297 904,1286 708,1297 558,1276 470,1275 432,1283 421,1304 400,1293\"/>\n",
      "                                <TextEquiv>\n",
      "            <Unicode>- A dels 11. sig. i Kr St. hem. No 2. Uplanda med</Unicode>\n",
      "        </TextEquiv>\n",
      "                        <PredScore pred_score=\"0.9285\"/>\n",
      "            </TextLine>\n",
      "    <TextLine id=\"line_region_1_23\" custom=\"readingOrder {index:22;}\">\n",
      "                <Coords points=\"361,1331 363,1355 375,1362 683,1375 850,1402 959,1394 1147,1412 1210,1407 1217,1394 1212,1377 1156,1365 1021,1358 960,1363 733,1339 566,1340 520,1328 384,1320\"/>\n",
      "                                <TextEquiv>\n",
      "            <Unicode>tillhörande andel i Ettenga utgörs och 3 3/4. sigl. i</Unicode>\n",
      "        </TextEquiv>\n",
      "                        <PredScore pred_score=\"0.9125\"/>\n",
      "            </TextLine>\n",
      "    <TextLine id=\"line_region_1_24\" custom=\"readingOrder {index:23;}\">\n",
      "                <Coords points=\"353,1381 356,1408 374,1419 1092,1461 1210,1482 1241,1476 1252,1454 1237,1421 1208,1428 1167,1417 1065,1416 1021,1405 971,1413 950,1401 892,1410 711,1386 545,1387 476,1373 372,1369\"/>\n",
      "                                <TextEquiv>\n",
      "            <Unicode>Kr st. hem. No 3. Storta, Wähla sn, som Bonden Af</Unicode>\n",
      "        </TextEquiv>\n",
      "                        <PredScore pred_score=\"0.9145\"/>\n",
      "            </TextLine>\n",
      "    <TextLine id=\"line_region_1_25\" custom=\"readingOrder {index:24;}\">\n",
      "                <Coords points=\"360,1442 362,1469 373,1478 763,1493 996,1515 1102,1515 1160,1526 1235,1527 1242,1511 1237,1491 1188,1486 1162,1471 994,1469 928,1457 874,1463 784,1450 719,1455 596,1434 445,1441 397,1426 368,1427\"/>\n",
      "                                <TextEquiv>\n",
      "            <Unicode>Ersson Pehr Carlsson och hans hustru Greta Ersdotter</Unicode>\n",
      "        </TextEquiv>\n",
      "                        <PredScore pred_score=\"0.9695\"/>\n",
      "            </TextLine>\n",
      "    <TextLine id=\"line_region_1_26\" custom=\"readingOrder {index:25;}\">\n",
      "                <Coords points=\"338,1523 348,1540 436,1529 657,1538 995,1570 1233,1581 1247,1572 1236,1539 1211,1546 1189,1533 1139,1524 1085,1528 838,1505 693,1507 588,1490 379,1486 349,1496\"/>\n",
      "                                <TextEquiv>\n",
      "            <Unicode>för 533 rd 16 skl och utfärt fördel, sålt till Bonden</Unicode>\n",
      "        </TextEquiv>\n",
      "                        <PredScore pred_score=\"0.9509\"/>\n",
      "            </TextLine>\n",
      "    <TextLine id=\"line_region_1_27\" custom=\"readingOrder {index:26;}\">\n",
      "                <Coords points=\"330,1549 333,1575 350,1587 444,1594 591,1590 1162,1632 1212,1631 1225,1620 1224,1594 1201,1583 1066,1587 948,1569 852,1570 740,1555 540,1554 472,1540\"/>\n",
      "                                <TextEquiv>\n",
      "            <Unicode>Olof Ersson och hans hustru Lisa Pehrsdotter, och dels</Unicode>\n",
      "        </TextEquiv>\n",
      "                        <PredScore pred_score=\"0.9815\"/>\n",
      "            </TextLine>\n",
      "    <TextLine id=\"line_region_1_28\" custom=\"readingOrder {index:27;}\">\n",
      "                <Coords points=\"349,1604 352,1626 371,1635 493,1637 926,1678 1056,1679 1169,1693 1208,1690 1222,1670 1200,1651 1115,1637 754,1623 687,1606 588,1601 491,1606 354,1595\"/>\n",
      "                                <TextEquiv>\n",
      "            <Unicode>11 sigl i berörde hemman Uplanda samt 3 1/4. sif. i</Unicode>\n",
      "        </TextEquiv>\n",
      "                        <PredScore pred_score=\"0.9481\"/>\n",
      "            </TextLine>\n",
      "    <TextLine id=\"line_region_1_29\" custom=\"readingOrder {index:28;}\">\n",
      "                <Coords points=\"340,1665 351,1690 570,1701 660,1717 851,1729 973,1726 1080,1743 1213,1748 1227,1740 1230,1719 1217,1695 1141,1704 1116,1691 902,1691 843,1679 752,1678 619,1653 352,1644\"/>\n",
      "                                <TextEquiv>\n",
      "            <Unicode>Sterte, som Erik Ersson i Mångsbo och hans hus¬</Unicode>\n",
      "        </TextEquiv>\n",
      "                        <PredScore pred_score=\"0.9606\"/>\n",
      "            </TextLine>\n",
      "    <TextLine id=\"line_region_1_30\" custom=\"readingOrder {index:29;}\">\n",
      "                <Coords points=\"334,1713 342,1743 406,1763 500,1753 634,1770 897,1781 1016,1793 1044,1807 1198,1797 1213,1790 1217,1771 1210,1754 1190,1748 1113,1760 952,1740 895,1744 711,1724 636,1727 431,1699 351,1699\"/>\n",
      "                                <TextEquiv>\n",
      "            <Unicode>tre lagda Endttus, för enahanda köpeskilling, salt</Unicode>\n",
      "        </TextEquiv>\n",
      "                        <PredScore pred_score=\"0.9262\"/>\n",
      "            </TextLine>\n",
      "    <TextLine id=\"line_region_1_31\" custom=\"readingOrder {index:30;}\">\n",
      "                <Coords points=\"331,1765 339,1802 395,1813 494,1812 656,1833 948,1850 1092,1851 1204,1863 1237,1857 1235,1808 1039,1814 878,1789 749,1794 672,1772 532,1773 468,1761 410,1766 353,1757\"/>\n",
      "                                <TextEquiv>\n",
      "            <Unicode>till samma Olof Ersson och hans hustru, meddelas be¬</Unicode>\n",
      "        </TextEquiv>\n",
      "                        <PredScore pred_score=\"0.994\"/>\n",
      "            </TextLine>\n",
      "    <TextLine id=\"line_region_1_32\" custom=\"readingOrder {index:31;}\">\n",
      "                <Coords points=\"334,1832 337,1853 347,1861 446,1863 853,1899 869,1884 858,1864 803,1851 721,1840 576,1838 540,1830 496,1811 433,1819 346,1819\"/>\n",
      "                                <TextEquiv>\n",
      "            <Unicode>spille Köpare Upbud tillhanda un¬</Unicode>\n",
      "        </TextEquiv>\n",
      "                        <PredScore pred_score=\"0.8962\"/>\n",
      "            </TextLine>\n",
      "    <TextLine id=\"line_region_1_33\" custom=\"readingOrder {index:32;}\">\n",
      "                <Coords points=\"1004,1882 1004,1908 1010,1916 1019,1921 1044,1920 1072,1913 1093,1913 1153,1924 1210,1925 1231,1920 1238,1909 1235,1890 1229,1885 1190,1877 1165,1878 1144,1866 1093,1852 1068,1852 1051,1849 1035,1851 1017,1864\"/>\n",
      "                                <TextEquiv>\n",
      "            <Unicode>Första gången</Unicode>\n",
      "        </TextEquiv>\n",
      "                        <PredScore pred_score=\"0.9963\"/>\n",
      "            </TextLine>\n",
      "    </TextRegion>\n",
      "    <TextRegion id=\"region_2\" custom=\"readingOrder {index:2;}\">\n",
      "        <Coords points=\"1308,109 1252,1937 2182,1983 2227,1930 2257,1681 2219,193 2254,118 2119,126 2206,182 2185,201 2027,196 2002,170 1820,197 1805,178 1866,157 1789,150 1787,193 1645,203 1568,156 1745,122\"/>\n",
      "    <TextLine id=\"line_region_2_0\" custom=\"readingOrder {index:0;}\">\n",
      "                <Coords points=\"1297,135 1299,148 1307,159 1352,148 1430,150 1452,155 1507,145 1736,145 1756,139 1753,124 1731,116 1730,105 1473,105 1471,116 1401,118 1393,115 1393,105 1307,105 1307,115\"/>\n",
      "                                <TextEquiv>\n",
      "            <Unicode>C: B: huset till kolla¬</Unicode>\n",
      "        </TextEquiv>\n",
      "                        <PredScore pred_score=\"0.7679\"/>\n",
      "            </TextLine>\n",
      "    <TextLine id=\"line_region_2_1\" custom=\"readingOrder {index:1;}\">\n",
      "                <Coords points=\"1918,133 1918,143 1922,150 1929,153 1941,154 1942,155 1947,155 1948,154 1996,155 2004,153 2009,150 2014,141 2014,133 2013,132 2012,124 2009,121 2005,120 1973,120 1972,121 1963,121 1962,120 1954,120 1953,119 1946,119 1945,118 1931,119 1923,122 1920,125\"/>\n",
      "                                <TextEquiv>\n",
      "            <Unicode>har</Unicode>\n",
      "        </TextEquiv>\n",
      "                        <PredScore pred_score=\"0.6472\"/>\n",
      "            </TextLine>\n",
      "    <TextLine id=\"line_region_2_2\" custom=\"readingOrder {index:2;}\">\n",
      "                <Coords points=\"2120,137 2121,143 2129,152 2138,155 2158,158 2178,166 2193,161 2235,154 2241,151 2246,146 2248,141 2246,105 2180,105 2180,114 2178,116 2153,116 2149,114 2149,105 2130,105 2130,114 2123,126\"/>\n",
      "                                <TextEquiv>\n",
      "            <Unicode>derför</Unicode>\n",
      "        </TextEquiv>\n",
      "                        <PredScore pred_score=\"0.752\"/>\n",
      "            </TextLine>\n",
      "    <TextLine id=\"line_region_2_3\" custom=\"readingOrder {index:3;}\">\n",
      "                <Coords points=\"1302,210 1308,217 1339,212 1355,205 1371,202 1466,197 1475,194 1479,189 1479,182 1476,173 1471,166 1423,161 1402,167 1378,167 1364,158 1352,156 1319,168 1305,178 1302,185\"/>\n",
      "                                <TextEquiv>\n",
      "            <Unicode>lysade.</Unicode>\n",
      "        </TextEquiv>\n",
      "                        <PredScore pred_score=\"0.8766\"/>\n",
      "            </TextLine>\n",
      "    <TextLine id=\"line_region_2_4\" custom=\"readingOrder {index:4;}\">\n",
      "                <Coords points=\"1354,257 1556,249 2064,257 2185,249 2206,232 2199,214 2106,211 2082,202 1957,202 1899,212 1800,203 1723,214 1638,211 1565,198 1363,212\"/>\n",
      "                                <TextEquiv>\n",
      "            <Unicode>Undertecknad auctionsförrätten samt fingudan</Unicode>\n",
      "        </TextEquiv>\n",
      "                        <PredScore pred_score=\"0.9198\"/>\n",
      "            </TextLine>\n",
      "    <TextLine id=\"line_region_2_5\" custom=\"readingOrder {index:5;}\">\n",
      "                <Coords points=\"2207,256 2199,248 1951,259 1586,255 1516,264 1321,267 1303,278 1301,304 1311,312 1454,300 1985,298 2198,284\"/>\n",
      "                                <TextEquiv>\n",
      "            <Unicode>sin vitterhet att sedan Wikto Pall af Härads Rätt</Unicode>\n",
      "        </TextEquiv>\n",
      "                        <PredScore pred_score=\"0.8836\"/>\n",
      "            </TextLine>\n",
      "    <TextLine id=\"line_region_2_6\" custom=\"readingOrder {index:6;}\">\n",
      "                <Coords points=\"2226,303 2173,291 2027,299 1949,313 1874,304 1719,312 1470,305 1320,318 1297,330 1308,354 1439,348 1498,358 1661,343 1752,353 1839,345 1904,353 2202,331 2220,324\"/>\n",
      "                                <TextEquiv>\n",
      "            <Unicode>medelst Utslag af den 19 sist. Maji, på vederbörande</Unicode>\n",
      "        </TextEquiv>\n",
      "                        <PredScore pred_score=\"0.9737\"/>\n",
      "            </TextLine>\n",
      "    <TextLine id=\"line_region_2_7\" custom=\"readingOrder {index:7;}\">\n",
      "                <Coords points=\"2209,353 2199,342 2162,340 2132,346 2025,340 1812,356 1656,347 1306,360 1296,377 1306,397 1525,387 2037,392 2083,380 2198,376\"/>\n",
      "                                <TextEquiv>\n",
      "            <Unicode>förmyndare ansökning och hafva anmälte från ders</Unicode>\n",
      "        </TextEquiv>\n",
      "                        <PredScore pred_score=\"0.8477\"/>\n",
      "            </TextLine>\n",
      "    <TextLine id=\"line_region_2_8\" custom=\"readingOrder {index:8;}\">\n",
      "                <Coords points=\"2223,397 2201,379 2061,397 2016,388 1353,396 1305,410 1296,425 1313,438 1377,435 1404,405 1494,443 1635,431 1950,437 2191,423 2216,415\"/>\n",
      "                                <TextEquiv>\n",
      "            <Unicode>tillstyrkan, samtybt till försäljning af Ströms Skatte</Unicode>\n",
      "        </TextEquiv>\n",
      "                        <PredScore pred_score=\"0.9081\"/>\n",
      "            </TextLine>\n",
      "    <TextLine id=\"line_region_2_9\" custom=\"readingOrder {index:9;}\">\n",
      "                <Coords points=\"2220,443 2202,430 2084,439 1353,439 1297,444 1286,470 1306,484 1394,475 2132,475 2206,461\"/>\n",
      "                                <TextEquiv>\n",
      "            <Unicode>kanmäki 1 No 1 20 åstandels 18/8 dels mantl om¬</Unicode>\n",
      "        </TextEquiv>\n",
      "                        <PredScore pred_score=\"0.7869\"/>\n",
      "            </TextLine>\n",
      "    <TextLine id=\"line_region_2_10\" custom=\"readingOrder {index:10;}\">\n",
      "                <Coords points=\"2215,518 2204,512 2082,513 1969,525 1705,525 1592,541 1669,556 2067,551 2204,543 2215,538\"/>\n",
      "                                <TextEquiv>\n",
      "            <Unicode>domst. Måras och Westerlan¬</Unicode>\n",
      "        </TextEquiv>\n",
      "                        <PredScore pred_score=\"0.829\"/>\n",
      "            </TextLine>\n",
      "    <TextLine id=\"line_region_2_11\" custom=\"readingOrder {index:11;}\">\n",
      "                <Coords points=\"2236,561 2221,553 1835,570 1681,570 1611,588 1741,599 2189,588 2226,583\"/>\n",
      "                                <TextEquiv>\n",
      "            <Unicode>till ege förklarade förre Bonden</Unicode>\n",
      "        </TextEquiv>\n",
      "                        <PredScore pred_score=\"0.8853\"/>\n",
      "            </TextLine>\n",
      "    <TextLine id=\"line_region_2_12\" custom=\"readingOrder {index:12;}\">\n",
      "                <Coords points=\"2215,607 2199,593 1923,606 1703,606 1630,612 1614,620 1606,632 1676,640 2024,636 2098,625 2200,624\"/>\n",
      "                                <TextEquiv>\n",
      "            <Unicode>och dess hustru Hinla Erodotter</Unicode>\n",
      "        </TextEquiv>\n",
      "                        <PredScore pred_score=\"0.9167\"/>\n",
      "            </TextLine>\n",
      "    <TextLine id=\"line_region_2_13\" custom=\"readingOrder {index:13;}\">\n",
      "                <Coords points=\"2208,655 2196,635 2167,632 2007,644 1720,645 1630,654 1615,662 1621,672 1645,679 1701,682 1799,671 2037,672 2201,663\"/>\n",
      "                                <TextEquiv>\n",
      "            <Unicode>är oftenfir i gången utlysning</Unicode>\n",
      "        </TextEquiv>\n",
      "                        <PredScore pred_score=\"0.8633\"/>\n",
      "            </TextLine>\n",
      "    <TextLine id=\"line_region_2_14\" custom=\"readingOrder {index:14;}\">\n",
      "                <Coords points=\"2213,679 2203,667 2022,679 1859,676 1615,690 1597,704 1612,712 1767,720 1872,713 2038,723 2088,709 2201,707 2211,702\"/>\n",
      "                                <TextEquiv>\n",
      "            <Unicode>ba 1. 2 st i ställes egde stemman</Unicode>\n",
      "        </TextEquiv>\n",
      "                        <PredScore pred_score=\"0.7093\"/>\n",
      "            </TextLine>\n",
      "    <TextLine id=\"line_region_2_15\" custom=\"readingOrder {index:15;}\">\n",
      "                <Coords points=\"2212,726 2204,716 2186,712 2055,725 1666,722 1629,729 1603,750 1659,766 1850,756 2159,755 2200,748\"/>\n",
      "                                <TextEquiv>\n",
      "            <Unicode>29 sistlidne Juni genom upsted</Unicode>\n",
      "        </TextEquiv>\n",
      "                        <PredScore pred_score=\"0.9179\"/>\n",
      "            </TextLine>\n",
      "    <TextLine id=\"line_region_2_16\" custom=\"readingOrder {index:16;}\">\n",
      "                <Coords points=\"2213,769 2202,746 2061,762 1993,757 1934,762 1850,759 1809,769 1611,773 1606,776 1605,796 1705,803 1750,798 1853,801 2018,789 2199,786\"/>\n",
      "                                <TextEquiv>\n",
      "            <Unicode>ustgören och Garfvaren Herr</Unicode>\n",
      "        </TextEquiv>\n",
      "                        <PredScore pred_score=\"0.8814\"/>\n",
      "            </TextLine>\n",
      "    <TextLine id=\"line_region_2_17\" custom=\"readingOrder {index:17;}\">\n",
      "                <Coords points=\"2218,844 2212,827 2199,822 2155,838 2109,841 1966,836 1714,846 1662,870 1709,881 1790,886 1987,874 2089,875 2202,867 2211,861\"/>\n",
      "                                <TextEquiv>\n",
      "            <Unicode>rades /1100/. Riksdaler Banco jemte</Unicode>\n",
      "        </TextEquiv>\n",
      "                        <PredScore pred_score=\"0.9301\"/>\n",
      "            </TextLine>\n",
      "    <TextLine id=\"line_region_2_18\" custom=\"readingOrder {index:18;}\">\n",
      "                <Coords points=\"2185,887 2182,871 2172,869 2084,883 2019,887 1831,886 1780,896 1726,891 1679,914 1727,929 2102,919 2174,907\"/>\n",
      "                                <TextEquiv>\n",
      "            <Unicode>Assessori Jordels Contract ett</Unicode>\n",
      "        </TextEquiv>\n",
      "                        <PredScore pred_score=\"0.8054\"/>\n",
      "            </TextLine>\n",
      "    <TextLine id=\"line_region_2_19\" custom=\"readingOrder {index:19;}\">\n",
      "                <Coords points=\"1280,961 1304,966 1754,965 1804,961 1805,941 1762,936 1307,935 1282,938\"/>\n",
      "                                <TextEquiv>\n",
      "            <Unicode>och och och bonde Potatis ett ett</Unicode>\n",
      "        </TextEquiv>\n",
      "                        <PredScore pred_score=\"0.6642\"/>\n",
      "            </TextLine>\n",
      "    <TextLine id=\"line_region_2_20\" custom=\"readingOrder {index:20;}\">\n",
      "                <Coords points=\"2203,917 2151,913 2110,922 2055,921 1921,934 1790,933 1705,941 1732,963 1915,966 1981,955 2179,944 2194,937\"/>\n",
      "                                <TextEquiv>\n",
      "            <Unicode>att närmare omförmäler</Unicode>\n",
      "        </TextEquiv>\n",
      "                        <PredScore pred_score=\"0.9265\"/>\n",
      "            </TextLine>\n",
      "    <TextLine id=\"line_region_2_21\" custom=\"readingOrder {index:21;}\">\n",
      "                <Coords points=\"1279,991 1282,1007 1290,1009 1411,1001 1732,1001 1778,996 1806,985 1771,977 1593,976 1565,972 1389,976 1329,972 1287,977\"/>\n",
      "                                <TextEquiv>\n",
      "            <Unicode>Och medan denna inropas</Unicode>\n",
      "        </TextEquiv>\n",
      "                        <PredScore pred_score=\"0.8801\"/>\n",
      "            </TextLine>\n",
      "    <TextLine id=\"line_region_2_22\" custom=\"readingOrder {index:22;}\">\n",
      "                <Coords points=\"2184,961 2176,950 2132,958 2035,957 1989,967 1886,973 1775,971 1731,975 1715,988 1721,997 1736,1003 1840,999 2000,1001 2080,991 2167,988 2179,981\"/>\n",
      "                                <TextEquiv>\n",
      "            <Unicode>kopssumma /1100/ R. B onde</Unicode>\n",
      "        </TextEquiv>\n",
      "                        <PredScore pred_score=\"0.7871\"/>\n",
      "            </TextLine>\n",
      "    <TextLine id=\"line_region_2_23\" custom=\"readingOrder {index:23;}\">\n",
      "                <Coords points=\"2184,1011 2146,1001 1827,1018 1283,1025 1279,1037 1293,1049 2082,1036 2167,1030\"/>\n",
      "                                <TextEquiv>\n",
      "            <Unicode>af kejteren blifvit till oförstäld fem kommit</Unicode>\n",
      "        </TextEquiv>\n",
      "                        <PredScore pred_score=\"0.8325\"/>\n",
      "            </TextLine>\n",
      "    <TextLine id=\"line_region_2_24\" custom=\"readingOrder {index:24;}\">\n",
      "                <Coords points=\"2207,1058 2199,1048 2149,1035 1873,1051 1310,1058 1286,1067 1282,1082 1286,1092 1350,1083 1884,1083 2006,1072 2200,1068\"/>\n",
      "                                <TextEquiv>\n",
      "            <Unicode>qvitta uti Sy förklaras Skolstapben Hållqvist</Unicode>\n",
      "        </TextEquiv>\n",
      "                        <PredScore pred_score=\"0.8399\"/>\n",
      "            </TextLine>\n",
      "    <TextLine id=\"line_region_2_25\" custom=\"readingOrder {index:25;}\">\n",
      "                <Coords points=\"2169,1082 2155,1074 1646,1096 1395,1095 1287,1103 1285,1127 1302,1116 1372,1129 1971,1118 2157,1106\"/>\n",
      "                                <TextEquiv>\n",
      "            <Unicode>ägo hustru Darn och arfvingen för dött o¬</Unicode>\n",
      "        </TextEquiv>\n",
      "                        <PredScore pred_score=\"0.8934\"/>\n",
      "            </TextLine>\n",
      "    <TextLine id=\"line_region_2_26\" custom=\"readingOrder {index:26;}\">\n",
      "                <Coords points=\"2209,1127 2125,1113 1618,1137 1303,1137 1284,1143 1282,1161 1288,1171 2065,1153 2172,1142\"/>\n",
      "                                <TextEquiv>\n",
      "            <Unicode>egare af 1/8 dels ett Herr af Jord berörde Rörja</Unicode>\n",
      "        </TextEquiv>\n",
      "                        <PredScore pred_score=\"0.8243\"/>\n",
      "            </TextLine>\n",
      "    <TextLine id=\"line_region_2_27\" custom=\"readingOrder {index:27;}\">\n",
      "                <Coords points=\"2203,1173 2186,1160 2147,1153 1874,1167 1286,1176 1276,1198 1283,1204 1918,1202 1993,1191 2107,1190\"/>\n",
      "                                <TextEquiv>\n",
      "            <Unicode>med att hvad dertill höra eller hädanefter</Unicode>\n",
      "        </TextEquiv>\n",
      "                        <PredScore pred_score=\"0.9057\"/>\n",
      "            </TextLine>\n",
      "    <TextLine id=\"line_region_2_28\" custom=\"readingOrder {index:28;}\">\n",
      "                <Coords points=\"2183,1199 1286,1210 1275,1224 1286,1237 1898,1233 2122,1223\"/>\n",
      "                                <TextEquiv>\n",
      "            <Unicode>lagligen tillvinnaskan, att genast der af var</Unicode>\n",
      "        </TextEquiv>\n",
      "                        <PredScore pred_score=\"0.9006\"/>\n",
      "            </TextLine>\n",
      "    <TextLine id=\"line_region_2_29\" custom=\"readingOrder {index:29;}\">\n",
      "                <Coords points=\"2187,1246 2155,1232 1922,1241 1395,1243 1286,1251 1277,1268 1283,1275 1959,1271 2151,1262\"/>\n",
      "                                <TextEquiv>\n",
      "            <Unicode>styra och råda såsom dess brifingna egendom</Unicode>\n",
      "        </TextEquiv>\n",
      "                        <PredScore pred_score=\"0.9323\"/>\n",
      "            </TextLine>\n",
      "    <TextLine id=\"line_region_2_30\" custom=\"readingOrder {index:30;}\">\n",
      "                <Coords points=\"2190,1289 2184,1270 1962,1278 1306,1281 1276,1293 1286,1304 1824,1306\"/>\n",
      "                                <TextEquiv>\n",
      "            <Unicode>Mudlange socken och Madje den 25 Januarii 186.</Unicode>\n",
      "        </TextEquiv>\n",
      "                        <PredScore pred_score=\"0.8692\"/>\n",
      "            </TextLine>\n",
      "    <TextLine id=\"line_region_2_31\" custom=\"readingOrder {index:31;}\">\n",
      "                <Coords points=\"2195,1336 2187,1318 2025,1308 1283,1317 1280,1338 1305,1344 1753,1344\"/>\n",
      "                                <TextEquiv>\n",
      "            <Unicode>Eric Olsson i Etkin varfogsåsom omkring förrätta Tillion</Unicode>\n",
      "        </TextEquiv>\n",
      "                        <PredScore pred_score=\"0.834\"/>\n",
      "            </TextLine>\n",
      "    <TextLine id=\"line_region_2_32\" custom=\"readingOrder {index:32;}\">\n",
      "                <Coords points=\"2198,1337 2179,1328 1293,1341 1275,1361 1284,1367 1956,1366 2150,1356 2186,1349\"/>\n",
      "                                <TextEquiv>\n",
      "            <Unicode>sätts uti densam och alofl samt Persson lägger Rädje dotter</Unicode>\n",
      "        </TextEquiv>\n",
      "                        <PredScore pred_score=\"0.8396\"/>\n",
      "            </TextLine>\n",
      "    <TextLine id=\"line_region_2_33\" custom=\"readingOrder {index:33;}\">\n",
      "                <Coords points=\"2167,1384 2160,1364 2146,1359 2023,1357 1855,1368 1284,1374 1271,1390 1283,1401 1453,1408 2152,1391\"/>\n",
      "                                <TextEquiv>\n",
      "            <Unicode>Bevittnat af Is, Johansson i Ned 1/3 i Edbolande</Unicode>\n",
      "        </TextEquiv>\n",
      "                        <PredScore pred_score=\"0.7663\"/>\n",
      "            </TextLine>\n",
      "    <TextLine id=\"line_region_2_34\" custom=\"readingOrder {index:34;}\">\n",
      "                <Coords points=\"2221,1406 2216,1388 2202,1381 1926,1398 1279,1409 1269,1435 1282,1448 1464,1440 1616,1447 1693,1438 2204,1431\"/>\n",
      "                                <TextEquiv>\n",
      "            <Unicode>hvilket upbörde; Och som till styrke för Anders Olssons</Unicode>\n",
      "        </TextEquiv>\n",
      "                        <PredScore pred_score=\"0.9518\"/>\n",
      "            </TextLine>\n",
      "    <TextLine id=\"line_region_2_35\" custom=\"readingOrder {index:35;}\">\n",
      "                <Coords points=\"2218,1475 2197,1449 2033,1447 1284,1463 1272,1482 1290,1500 2066,1481 2204,1487\"/>\n",
      "                                <TextEquiv>\n",
      "            <Unicode>och hans hustru ågånderätt till försålde fastigheten företeddes</Unicode>\n",
      "        </TextEquiv>\n",
      "                        <PredScore pred_score=\"0.9732\"/>\n",
      "            </TextLine>\n",
      "    <TextLine id=\"line_region_2_36\" custom=\"readingOrder {index:36;}\">\n",
      "                <Coords points=\"2214,1525 2211,1505 2200,1499 1285,1516 1268,1530 1271,1549 1281,1554 2050,1539\"/>\n",
      "                                <TextEquiv>\n",
      "            <Unicode>en den 6. Nov. 1833 uprättad boupteckning efter af¬</Unicode>\n",
      "        </TextEquiv>\n",
      "                        <PredScore pred_score=\"0.9552\"/>\n",
      "            </TextLine>\n",
      "    <TextLine id=\"line_region_2_37\" custom=\"readingOrder {index:37;}\">\n",
      "                <Coords points=\"2201,1568 2192,1552 1281,1573 1267,1597 1281,1611 1925,1598 2196,1582\"/>\n",
      "                                <TextEquiv>\n",
      "            <Unicode>Nämndemannen Olof Erssons i Rädje jemväl aflidna</Unicode>\n",
      "        </TextEquiv>\n",
      "                        <PredScore pred_score=\"0.9801\"/>\n",
      "            </TextLine>\n",
      "    <TextLine id=\"line_region_2_38\" custom=\"readingOrder {index:38;}\">\n",
      "                <Coords points=\"2233,1621 2212,1613 1281,1630 1268,1651 1271,1666 1283,1671 2225,1647\"/>\n",
      "                                <TextEquiv>\n",
      "            <Unicode>hustru Brita Andersdotter, uptagande Oland tillgångnen</Unicode>\n",
      "        </TextEquiv>\n",
      "                        <PredScore pred_score=\"0.9918\"/>\n",
      "            </TextLine>\n",
      "    <TextLine id=\"line_region_2_39\" custom=\"readingOrder {index:39;}\">\n",
      "                <Coords points=\"2232,1690 2214,1674 1284,1684 1269,1692 1269,1715 1966,1717 2213,1708\"/>\n",
      "                                <TextEquiv>\n",
      "            <Unicode>i bodt 1/4 del mantal om 1. örer - 13 pgr. i ofvan omförmälte</Unicode>\n",
      "        </TextEquiv>\n",
      "                        <PredScore pred_score=\"0.9064\"/>\n",
      "            </TextLine>\n",
      "    <TextLine id=\"line_region_2_40\" custom=\"readingOrder {index:40;}\">\n",
      "                <Coords points=\"2198,1740 2189,1725 2157,1717 1898,1731 1796,1720 1674,1732 1565,1728 1502,1738 1283,1732 1264,1739 1263,1761 1280,1779 1498,1777 1568,1786 1663,1776 1734,1785 1821,1773 1948,1773 2022,1787 2066,1773 2189,1761\"/>\n",
      "                                <TextEquiv>\n",
      "            <Unicode>Kr. Sk. hemman Rödje, och såsom arfvingar je ofvan.</Unicode>\n",
      "        </TextEquiv>\n",
      "                        <PredScore pred_score=\"0.9472\"/>\n",
      "            </TextLine>\n",
      "    <TextLine id=\"line_region_2_41\" custom=\"readingOrder {index:41;}\">\n",
      "                <Coords points=\"2215,1786 2200,1772 2140,1770 2038,1785 1955,1774 1736,1791 1639,1785 1284,1792 1250,1808 1250,1822 1269,1833 1347,1839 2205,1818 2215,1808\"/>\n",
      "                                <TextEquiv>\n",
      "            <Unicode>nämde son Anders Olsson och aflidne sonen Olof Ols¬</Unicode>\n",
      "        </TextEquiv>\n",
      "                        <PredScore pred_score=\"0.989\"/>\n",
      "            </TextLine>\n",
      "    <TextLine id=\"line_region_2_42\" custom=\"readingOrder {index:42;}\">\n",
      "                <Coords points=\"2223,1833 2206,1824 2074,1834 2008,1826 1956,1838 1700,1835 1640,1846 1553,1840 1414,1851 1281,1842 1250,1853 1250,1890 1428,1901 1647,1884 1879,1882 1944,1891 2029,1875 2201,1883 2220,1856\"/>\n",
      "                                <TextEquiv>\n",
      "            <Unicode>sons omyndiga barn, hvadan på den förres lätt så¬</Unicode>\n",
      "        </TextEquiv>\n",
      "                        <PredScore pred_score=\"0.9632\"/>\n",
      "            </TextLine>\n",
      "    <TextLine id=\"line_region_2_43\" custom=\"readingOrder {index:43;}\">\n",
      "                <Coords points=\"2204,1903 2186,1891 2133,1882 1817,1896 1697,1891 1482,1911 1292,1902 1250,1915 1250,1952 1644,1957 1782,1947 1872,1959 1937,1942 2198,1930\"/>\n",
      "                                <TextEquiv>\n",
      "            <Unicode>ledes komme att af fastigheten sig belöpa 1/8 man¬</Unicode>\n",
      "        </TextEquiv>\n",
      "                        <PredScore pred_score=\"0.9809\"/>\n",
      "            </TextLine>\n",
      "    </TextRegion>\n",
      "    <TextRegion id=\"region_3\" custom=\"readingOrder {index:3;}\">\n",
      "        <Coords points=\"1600,57 1599,85 1614,94 1887,96 1932,91 1936,86 1938,59 1934,49 1925,47 1744,46 1612,40 1603,48\"/>\n",
      "    <TextLine id=\"line_region_3_0\" custom=\"readingOrder {index:0;}\">\n",
      "                <Coords points=\"1604,63 1604,90 1612,95 1904,95 1915,91 1920,85 1922,52 1920,46 1839,44 1798,49 1776,43 1750,47 1719,40 1717,43 1700,46 1635,45 1611,53\"/>\n",
      "                                <TextEquiv>\n",
      "            <Unicode>1851. den 29. Januari</Unicode>\n",
      "        </TextEquiv>\n",
      "                        <PredScore pred_score=\"0.9724\"/>\n",
      "            </TextLine>\n",
      "    </TextRegion>\n",
      "    <TextRegion id=\"region_4\" custom=\"readingOrder {index:4;}\">\n",
      "        <Coords points=\"2393,99 2331,107 2315,117 2311,125 2313,159 2304,185 2272,216 2263,237 2240,266 2232,293 2243,370 2243,443 2254,455 2288,457 2308,467 2316,478 2318,511 2324,515 2404,499 2427,471 2478,451 2493,432 2498,410 2491,291 2466,201 2457,189 2428,181 2414,170 2409,158 2417,119 2408,105\"/>\n",
      "    <TextLine id=\"line_region_4_0\" custom=\"readingOrder {index:0;}\">\n",
      "                <Coords points=\"2411,117 2408,114 2401,112 2391,104 2379,103 2377,101 2377,99 2360,99 2358,102 2352,104 2348,109 2343,112 2333,115 2322,121 2319,121 2312,130 2310,144 2311,161 2313,163 2329,163 2340,161 2400,160 2403,157 2407,148 2407,143 2410,134 2409,122\"/>\n",
      "                                <TextEquiv>\n",
      "            <Unicode>SS: 31.</Unicode>\n",
      "        </TextEquiv>\n",
      "                        <PredScore pred_score=\"0.9652\"/>\n",
      "            </TextLine>\n",
      "    <TextLine id=\"line_region_4_1\" custom=\"readingOrder {index:1;}\">\n",
      "                <Coords points=\"2270,220 2269,235 2274,247 2295,251 2305,257 2319,258 2328,262 2341,261 2344,263 2344,267 2360,265 2364,269 2375,268 2386,264 2425,257 2448,255 2458,247 2454,237 2454,210 2447,200 2425,191 2401,189 2373,179 2354,180 2312,190 2304,195 2291,210 2275,214\"/>\n",
      "                                <TextEquiv>\n",
      "            <Unicode>Rödje.</Unicode>\n",
      "        </TextEquiv>\n",
      "                        <PredScore pred_score=\"0.9485\"/>\n",
      "            </TextLine>\n",
      "    <TextLine id=\"line_region_4_2\" custom=\"readingOrder {index:2;}\">\n",
      "                <Coords points=\"2235,276 2236,309 2244,315 2276,310 2305,312 2332,309 2367,313 2465,313 2472,310 2475,305 2475,277 2471,273 2459,270 2427,270 2408,276 2391,277 2370,268 2364,260 2343,260 2326,265 2307,266 2292,264 2276,258 2265,263 2239,267\"/>\n",
      "                                <TextEquiv>\n",
      "            <Unicode>Kopl den 1100.</Unicode>\n",
      "        </TextEquiv>\n",
      "                        <PredScore pred_score=\"0.7764\"/>\n",
      "            </TextLine>\n",
      "    <TextLine id=\"line_region_4_3\" custom=\"readingOrder {index:3;}\">\n",
      "                <Coords points=\"2238,325 2240,345 2248,355 2313,356 2343,350 2353,352 2401,351 2411,354 2474,354 2484,351 2483,320 2479,318 2451,318 2437,314 2394,325 2369,326 2335,319 2298,317 2277,312 2260,316 2250,315 2240,319\"/>\n",
      "                                <TextEquiv>\n",
      "            <Unicode>Eklid 6:12</Unicode>\n",
      "        </TextEquiv>\n",
      "                        <PredScore pred_score=\"0.8439\"/>\n",
      "            </TextLine>\n",
      "    <TextLine id=\"line_region_4_4\" custom=\"readingOrder {index:4;}\">\n",
      "                <Coords points=\"2324,362 2331,377 2323,396 2323,403 2327,407 2362,406 2421,409 2457,418 2495,414 2497,409 2494,365 2475,364 2450,374 2412,373 2407,368 2399,368 2396,377 2390,379 2385,377 2393,370 2394,362 2386,355 2379,355 2373,358 2370,363 2380,367 2375,369 2375,375 2385,377 2363,380 2355,379 2346,371 2329,362\"/>\n",
      "                                <TextEquiv>\n",
      "            <Unicode>värdes bön¬</Unicode>\n",
      "        </TextEquiv>\n",
      "                        <PredScore pred_score=\"0.774\"/>\n",
      "            </TextLine>\n",
      "    <TextLine id=\"line_region_4_5\" custom=\"readingOrder {index:5;}\">\n",
      "                <Coords points=\"2450,419 2419,412 2401,416 2389,416 2355,405 2328,419 2322,418 2312,422 2305,422 2302,419 2303,413 2297,414 2300,418 2297,421 2292,418 2289,420 2282,418 2253,420 2249,425 2247,440 2250,449 2257,453 2300,450 2340,455 2361,452 2392,452 2417,459 2434,459 2440,456 2445,449 2446,436 2442,429\"/>\n",
      "                                <TextEquiv>\n",
      "            <Unicode>en kipek.</Unicode>\n",
      "        </TextEquiv>\n",
      "                        <PredScore pred_score=\"0.6569\"/>\n",
      "            </TextLine>\n",
      "    <TextLine id=\"line_region_4_6\" custom=\"readingOrder {index:6;}\">\n",
      "                <Coords points=\"2408,461 2393,454 2385,453 2376,456 2370,456 2362,458 2359,461 2348,466 2334,466 2329,468 2325,478 2324,500 2322,506 2323,515 2340,515 2342,512 2348,510 2362,509 2373,505 2394,504 2405,502 2411,491 2410,477 2409,476 2410,465\"/>\n",
      "                                <TextEquiv>\n",
      "            <Unicode>44.</Unicode>\n",
      "        </TextEquiv>\n",
      "                        <PredScore pred_score=\"0.8031\"/>\n",
      "            </TextLine>\n",
      "    </TextRegion>\n",
      "    </Page>\n",
      "</PcGts>\n",
      "\n"
     ]
    }
   ],
   "source": [
    "import matplotlib.pyplot as plt\n",
    "\n",
    "xml_img, text_polygon_dict = pipeline.visualize_xml(image)\n",
    "plt.imshow(xml_img)\n",
    "plt.show()\n",
    "\n",
    "# For displaying dataframes or text\n",
    "print(rendered_xml)  # For text\n",
    "\n"
   ]
  },
  {
   "cell_type": "code",
   "execution_count": 5,
   "id": "7f3b957a-bc28-45ae-a66b-a7db5ddc9594",
   "metadata": {},
   "outputs": [
    {
     "data": {
      "text/html": [
       "<div>\n",
       "<style scoped>\n",
       "    .dataframe tbody tr th:only-of-type {\n",
       "        vertical-align: middle;\n",
       "    }\n",
       "\n",
       "    .dataframe tbody tr th {\n",
       "        vertical-align: top;\n",
       "    }\n",
       "\n",
       "    .dataframe thead th {\n",
       "        text-align: right;\n",
       "    }\n",
       "</style>\n",
       "<table border=\"1\" class=\"dataframe\">\n",
       "  <thead>\n",
       "    <tr style=\"text-align: right;\">\n",
       "      <th></th>\n",
       "      <th>RegionID</th>\n",
       "      <th>LineID</th>\n",
       "      <th>Coordinates</th>\n",
       "      <th>Text</th>\n",
       "      <th>PredictionScore</th>\n",
       "    </tr>\n",
       "  </thead>\n",
       "  <tbody>\n",
       "    <tr>\n",
       "      <th>0</th>\n",
       "      <td>region_0</td>\n",
       "      <td>line_region_0_0</td>\n",
       "      <td>698,41 702,50 711,50 718,54 1004,55 1011,46 10...</td>\n",
       "      <td>1851. den 29. Januari</td>\n",
       "      <td>0.9918</td>\n",
       "    </tr>\n",
       "    <tr>\n",
       "      <th>1</th>\n",
       "      <td>region_1</td>\n",
       "      <td>line_region_1_0</td>\n",
       "      <td>409,71 410,92 437,103 580,100 748,113 1074,118...</td>\n",
       "      <td>15 pgl. uti berörde Uplanda. samt sönerne Olof...</td>\n",
       "      <td>0.9739</td>\n",
       "    </tr>\n",
       "    <tr>\n",
       "      <th>2</th>\n",
       "      <td>region_1</td>\n",
       "      <td>line_region_1_1</td>\n",
       "      <td>400,132 404,149 417,154 645,152 707,164 782,16...</td>\n",
       "      <td>dels tillhopa 15 sigl. i omförmälde hemman Stock</td>\n",
       "      <td>0.979</td>\n",
       "    </tr>\n",
       "    <tr>\n",
       "      <th>3</th>\n",
       "      <td>region_1</td>\n",
       "      <td>line_region_1_2</td>\n",
       "      <td>398,219 444,211 526,218 736,209 1140,226 1185,...</td>\n",
       "      <td>grund af serskildt derom uprättadt tidamente,</td>\n",
       "      <td>0.9374</td>\n",
       "    </tr>\n",
       "    <tr>\n",
       "      <th>4</th>\n",
       "      <td>region_1</td>\n",
       "      <td>line_region_1_3</td>\n",
       "      <td>395,242 397,264 419,272 708,267 778,288 828,27...</td>\n",
       "      <td>dels jemte systrarne Greta och Capa, hvar</td>\n",
       "      <td>0.9792</td>\n",
       "    </tr>\n",
       "  </tbody>\n",
       "</table>\n",
       "</div>"
      ],
      "text/plain": [
       "   RegionID           LineID  \\\n",
       "0  region_0  line_region_0_0   \n",
       "1  region_1  line_region_1_0   \n",
       "2  region_1  line_region_1_1   \n",
       "3  region_1  line_region_1_2   \n",
       "4  region_1  line_region_1_3   \n",
       "\n",
       "                                         Coordinates  \\\n",
       "0  698,41 702,50 711,50 718,54 1004,55 1011,46 10...   \n",
       "1  409,71 410,92 437,103 580,100 748,113 1074,118...   \n",
       "2  400,132 404,149 417,154 645,152 707,164 782,16...   \n",
       "3  398,219 444,211 526,218 736,209 1140,226 1185,...   \n",
       "4  395,242 397,264 419,272 708,267 778,288 828,27...   \n",
       "\n",
       "                                                Text PredictionScore  \n",
       "0                              1851. den 29. Januari          0.9918  \n",
       "1  15 pgl. uti berörde Uplanda. samt sönerne Olof...          0.9739  \n",
       "2   dels tillhopa 15 sigl. i omförmälde hemman Stock           0.979  \n",
       "3      grund af serskildt derom uprättadt tidamente,          0.9374  \n",
       "4          dels jemte systrarne Greta och Capa, hvar          0.9792  "
      ]
     },
     "execution_count": 5,
     "metadata": {},
     "output_type": "execute_result"
    }
   ],
   "source": [
    "import xml.etree.ElementTree as ET\n",
    "import pandas as pd\n",
    "\n",
    "\n",
    "\n",
    "# Parse the XML\n",
    "root = ET.fromstring(rendered_xml)\n",
    "\n",
    "# Namespace required for finding elements\n",
    "ns = {'ns': 'http://schema.primaresearch.org/PAGE/gts/pagecontent/2013-07-15'}\n",
    "\n",
    "# Initialize an empty list to collect data\n",
    "data = []\n",
    "\n",
    "# Iterate through each TextRegion in the XML\n",
    "for text_region in root.findall('.//ns:TextRegion', ns):\n",
    "    region_id = text_region.get('id')\n",
    "    for text_line in text_region.findall('.//ns:TextLine', ns):\n",
    "        line_id = text_line.get('id')\n",
    "        coords = text_line.find('.//ns:Coords', ns).get('points')\n",
    "        unicode_text = text_line.find('.//ns:TextEquiv/ns:Unicode', ns).text\n",
    "        pred_score = text_line.find('.//ns:PredScore', ns).get('pred_score')\n",
    "        \n",
    "        # Append each line's data as a dictionary to the data list\n",
    "        data.append({\n",
    "            'RegionID': region_id,\n",
    "            'LineID': line_id,\n",
    "            'Coordinates': coords,\n",
    "            'Text': unicode_text,\n",
    "            'PredictionScore': pred_score\n",
    "        })\n",
    "\n",
    "# Convert the list of dictionaries into a DataFrame\n",
    "df_trans_explore = pd.DataFrame(data)\n",
    "\n",
    "# Display the DataFrame\n",
    "df_trans_explore.head()\n"
   ]
  },
  {
   "cell_type": "code",
   "execution_count": 6,
   "id": "fcc6a14f-07e9-4058-8668-9b6d6e623bd0",
   "metadata": {},
   "outputs": [
    {
     "name": "stdout",
     "output_type": "stream",
     "text": [
      "1851. den 29. Januari 15 pgl. uti berörde Uplanda. samt sönerne Olof och dels tillhopa 15 sigl. i omförmälde hemman Stock grund af serskildt derom uprättadt tidamente, dels jemte systrarne Greta och Capa, hvar 3 5/4 pgl. i Uplanda och 3 3/4 pgl. i Sterta i manen, 7o Ett den 27. i denna månad af Erik ten förmån för ofvanbemälde hans 4. barn, gjordt att varnens närvaro underskrifvet förordnande, igenom han till barnen uplåtit öfverbesagda, ho¬ tillskiftade tillhopa 1 öres - 5 sigs i Uplanda, emot tingad lifstidsfördel, hvadan ock enligt nu före visadt 8o instrument af samma dag hvardera af barnen bekommit 7 1/4. sigl uti oftaberörde hemman Uplanda med Ettenga utjord; varande jemväl detta instrument, uti skiftesmans och vitt¬ na närvaro, utaf vederbörande underskrifvet och godkändt. Enär gen dessa öfver antydde handlingar behöri¬ gen visats säljaren åtkomst till omförmälde, för sälde fastigheter, beslöt Hdiks och Afsade - A dels 11. sig. i Kr St. hem. No 2. Uplanda med tillhörande andel i Ettenga utgörs och 3 3/4. sigl. i Kr st. hem. No 3. Storta, Wähla sn, som Bonden Af Ersson Pehr Carlsson och hans hustru Greta Ersdotter för 533 rd 16 skl och utfärt fördel, sålt till Bonden Olof Ersson och hans hustru Lisa Pehrsdotter, och dels 11 sigl i berörde hemman Uplanda samt 3 1/4. sif. i Sterte, som Erik Ersson i Mångsbo och hans hus¬ tre lagda Endttus, för enahanda köpeskilling, salt till samma Olof Ersson och hans hustru, meddelas be¬ spille Köpare Upbud tillhanda un¬ Första gången C: B: huset till kolla¬ har derför lysade. Undertecknad auctionsförrätten samt fingudan sin vitterhet att sedan Wikto Pall af Härads Rätt medelst Utslag af den 19 sist. Maji, på vederbörande förmyndare ansökning och hafva anmälte från ders tillstyrkan, samtybt till försäljning af Ströms Skatte kanmäki 1 No 1 20 åstandels 18/8 dels mantl om¬ domst. Måras och Westerlan¬ till ege förklarade förre Bonden och dess hustru Hinla Erodotter är oftenfir i gången utlysning ba 1. 2 st i ställes egde stemman 29 sistlidne Juni genom upsted ustgören och Garfvaren Herr rades /1100/. Riksdaler Banco jemte Assessori Jordels Contract ett och och och bonde Potatis ett ett att närmare omförmäler Och medan denna inropas kopssumma /1100/ R. B onde af kejteren blifvit till oförstäld fem kommit qvitta uti Sy förklaras Skolstapben Hållqvist ägo hustru Darn och arfvingen för dött o¬ egare af 1/8 dels ett Herr af Jord berörde Rörja med att hvad dertill höra eller hädanefter lagligen tillvinnaskan, att genast der af var styra och råda såsom dess brifingna egendom Mudlange socken och Madje den 25 Januarii 186. Eric Olsson i Etkin varfogsåsom omkring förrätta Tillion sätts uti densam och alofl samt Persson lägger Rädje dotter Bevittnat af Is, Johansson i Ned 1/3 i Edbolande hvilket upbörde; Och som till styrke för Anders Olssons och hans hustru ågånderätt till försålde fastigheten företeddes en den 6. Nov. 1833 uprättad boupteckning efter af¬ Nämndemannen Olof Erssons i Rädje jemväl aflidna hustru Brita Andersdotter, uptagande Oland tillgångnen i bodt 1/4 del mantal om 1. örer - 13 pgr. i ofvan omförmälte Kr. Sk. hemman Rödje, och såsom arfvingar je ofvan. nämde son Anders Olsson och aflidne sonen Olof Ols¬ sons omyndiga barn, hvadan på den förres lätt så¬ ledes komme att af fastigheten sig belöpa 1/8 man¬ 1851. den 29. Januari SS: 31. Rödje. Kopl den 1100. Eklid 6:12 värdes bön¬ en kipek. 44.\n"
     ]
    }
   ],
   "source": [
    "# Concatenating all the text in the 'Text' column\n",
    "concatenated_text = ' '.join(df_trans_explore['Text'])\n",
    "\n",
    "# Displaying the concatenated text\n",
    "print(concatenated_text)\n"
   ]
  },
  {
   "cell_type": "code",
   "execution_count": 7,
   "id": "d381cc25-290c-4e21-9cf3-9bea02528edb",
   "metadata": {},
   "outputs": [],
   "source": [
    "texts=[]"
   ]
  },
  {
   "cell_type": "code",
   "execution_count": 8,
   "id": "53b79de3-f771-4fb1-ba33-13a931ae2c5c",
   "metadata": {},
   "outputs": [],
   "source": [
    "texts.append(concatenated_text)"
   ]
  },
  {
   "cell_type": "code",
   "execution_count": 10,
   "id": "5d5fe3b8-abd2-4552-bfd0-70b4143f3855",
   "metadata": {
    "scrolled": true
   },
   "outputs": [
    {
     "name": "stdout",
     "output_type": "stream",
     "text": [
      "Collecting accelerate\n",
      "  Downloading accelerate-0.28.0-py3-none-any.whl.metadata (18 kB)\n",
      "Requirement already satisfied: numpy>=1.17 in /home/sush/miniconda3/envs/htrflow/lib/python3.11/site-packages (from accelerate) (1.25.0)\n",
      "Requirement already satisfied: packaging>=20.0 in /home/sush/miniconda3/envs/htrflow/lib/python3.11/site-packages (from accelerate) (23.1)\n",
      "Requirement already satisfied: psutil in /home/sush/miniconda3/envs/htrflow/lib/python3.11/site-packages (from accelerate) (5.9.0)\n",
      "Requirement already satisfied: pyyaml in /home/sush/miniconda3/envs/htrflow/lib/python3.11/site-packages (from accelerate) (6.0.1)\n",
      "Requirement already satisfied: torch>=1.10.0 in /home/sush/miniconda3/envs/htrflow/lib/python3.11/site-packages (from accelerate) (2.0.1)\n",
      "Requirement already satisfied: huggingface-hub in /home/sush/miniconda3/envs/htrflow/lib/python3.11/site-packages (from accelerate) (0.15.1)\n",
      "Requirement already satisfied: safetensors>=0.3.1 in /home/sush/miniconda3/envs/htrflow/lib/python3.11/site-packages (from accelerate) (0.4.2)\n",
      "Requirement already satisfied: filelock in /home/sush/miniconda3/envs/htrflow/lib/python3.11/site-packages (from torch>=1.10.0->accelerate) (3.13.1)\n",
      "Requirement already satisfied: typing-extensions in /home/sush/miniconda3/envs/htrflow/lib/python3.11/site-packages (from torch>=1.10.0->accelerate) (4.9.0)\n",
      "Requirement already satisfied: sympy in /home/sush/miniconda3/envs/htrflow/lib/python3.11/site-packages (from torch>=1.10.0->accelerate) (1.12)\n",
      "Requirement already satisfied: networkx in /home/sush/miniconda3/envs/htrflow/lib/python3.11/site-packages (from torch>=1.10.0->accelerate) (3.2.1)\n",
      "Requirement already satisfied: jinja2 in /home/sush/miniconda3/envs/htrflow/lib/python3.11/site-packages (from torch>=1.10.0->accelerate) (3.1.2)\n",
      "Requirement already satisfied: nvidia-cuda-nvrtc-cu11==11.7.99 in /home/sush/miniconda3/envs/htrflow/lib/python3.11/site-packages (from torch>=1.10.0->accelerate) (11.7.99)\n",
      "Requirement already satisfied: nvidia-cuda-runtime-cu11==11.7.99 in /home/sush/miniconda3/envs/htrflow/lib/python3.11/site-packages (from torch>=1.10.0->accelerate) (11.7.99)\n",
      "Requirement already satisfied: nvidia-cuda-cupti-cu11==11.7.101 in /home/sush/miniconda3/envs/htrflow/lib/python3.11/site-packages (from torch>=1.10.0->accelerate) (11.7.101)\n",
      "Requirement already satisfied: nvidia-cudnn-cu11==8.5.0.96 in /home/sush/miniconda3/envs/htrflow/lib/python3.11/site-packages (from torch>=1.10.0->accelerate) (8.5.0.96)\n",
      "Requirement already satisfied: nvidia-cublas-cu11==11.10.3.66 in /home/sush/miniconda3/envs/htrflow/lib/python3.11/site-packages (from torch>=1.10.0->accelerate) (11.10.3.66)\n",
      "Requirement already satisfied: nvidia-cufft-cu11==10.9.0.58 in /home/sush/miniconda3/envs/htrflow/lib/python3.11/site-packages (from torch>=1.10.0->accelerate) (10.9.0.58)\n",
      "Requirement already satisfied: nvidia-curand-cu11==10.2.10.91 in /home/sush/miniconda3/envs/htrflow/lib/python3.11/site-packages (from torch>=1.10.0->accelerate) (10.2.10.91)\n",
      "Requirement already satisfied: nvidia-cusolver-cu11==11.4.0.1 in /home/sush/miniconda3/envs/htrflow/lib/python3.11/site-packages (from torch>=1.10.0->accelerate) (11.4.0.1)\n",
      "Requirement already satisfied: nvidia-cusparse-cu11==11.7.4.91 in /home/sush/miniconda3/envs/htrflow/lib/python3.11/site-packages (from torch>=1.10.0->accelerate) (11.7.4.91)\n",
      "Requirement already satisfied: nvidia-nccl-cu11==2.14.3 in /home/sush/miniconda3/envs/htrflow/lib/python3.11/site-packages (from torch>=1.10.0->accelerate) (2.14.3)\n",
      "Requirement already satisfied: nvidia-nvtx-cu11==11.7.91 in /home/sush/miniconda3/envs/htrflow/lib/python3.11/site-packages (from torch>=1.10.0->accelerate) (11.7.91)\n",
      "Requirement already satisfied: triton==2.0.0 in /home/sush/miniconda3/envs/htrflow/lib/python3.11/site-packages (from torch>=1.10.0->accelerate) (2.0.0)\n",
      "Requirement already satisfied: setuptools in /home/sush/miniconda3/envs/htrflow/lib/python3.11/site-packages (from nvidia-cublas-cu11==11.10.3.66->torch>=1.10.0->accelerate) (68.2.2)\n",
      "Requirement already satisfied: wheel in /home/sush/miniconda3/envs/htrflow/lib/python3.11/site-packages (from nvidia-cublas-cu11==11.10.3.66->torch>=1.10.0->accelerate) (0.41.2)\n",
      "Requirement already satisfied: cmake in /home/sush/miniconda3/envs/htrflow/lib/python3.11/site-packages (from triton==2.0.0->torch>=1.10.0->accelerate) (3.28.3)\n",
      "Requirement already satisfied: lit in /home/sush/miniconda3/envs/htrflow/lib/python3.11/site-packages (from triton==2.0.0->torch>=1.10.0->accelerate) (17.0.6)\n",
      "Requirement already satisfied: fsspec in /home/sush/miniconda3/envs/htrflow/lib/python3.11/site-packages (from huggingface-hub->accelerate) (2023.6.0)\n",
      "Requirement already satisfied: requests in /home/sush/miniconda3/envs/htrflow/lib/python3.11/site-packages (from huggingface-hub->accelerate) (2.31.0)\n",
      "Requirement already satisfied: tqdm>=4.42.1 in /home/sush/miniconda3/envs/htrflow/lib/python3.11/site-packages (from huggingface-hub->accelerate) (4.66.2)\n",
      "Requirement already satisfied: MarkupSafe>=2.0 in /home/sush/miniconda3/envs/htrflow/lib/python3.11/site-packages (from jinja2->torch>=1.10.0->accelerate) (2.1.3)\n",
      "Requirement already satisfied: charset-normalizer<4,>=2 in /home/sush/miniconda3/envs/htrflow/lib/python3.11/site-packages (from requests->huggingface-hub->accelerate) (2.0.4)\n",
      "Requirement already satisfied: idna<4,>=2.5 in /home/sush/miniconda3/envs/htrflow/lib/python3.11/site-packages (from requests->huggingface-hub->accelerate) (3.4)\n",
      "Requirement already satisfied: urllib3<3,>=1.21.1 in /home/sush/miniconda3/envs/htrflow/lib/python3.11/site-packages (from requests->huggingface-hub->accelerate) (2.1.0)\n",
      "Requirement already satisfied: certifi>=2017.4.17 in /home/sush/miniconda3/envs/htrflow/lib/python3.11/site-packages (from requests->huggingface-hub->accelerate) (2024.2.2)\n",
      "Requirement already satisfied: mpmath>=0.19 in /home/sush/miniconda3/envs/htrflow/lib/python3.11/site-packages (from sympy->torch>=1.10.0->accelerate) (1.3.0)\n",
      "Downloading accelerate-0.28.0-py3-none-any.whl (290 kB)\n",
      "\u001b[2K   \u001b[90m━━━━━━━━━━━━━━━━━━━━━━━━━━━━━━━━━━━━━━━━\u001b[0m \u001b[32m290.1/290.1 kB\u001b[0m \u001b[31m8.6 MB/s\u001b[0m eta \u001b[36m0:00:00\u001b[0m\n",
      "\u001b[?25hInstalling collected packages: accelerate\n",
      "Successfully installed accelerate-0.28.0\n"
     ]
    }
   ],
   "source": [
    "!pip install accelerate\n",
    "!pip install flash-attn"
   ]
  },
  {
   "cell_type": "code",
   "execution_count": 16,
   "id": "010db8c1-4630-40a5-87ad-b09b1d4f91bb",
   "metadata": {
    "scrolled": true
   },
   "outputs": [
    {
     "name": "stdout",
     "output_type": "stream",
     "text": [
      "Requirement already satisfied: transformers in /home/sush/miniconda3/envs/htrflow/lib/python3.11/site-packages (4.30.2)\n",
      "Collecting transformers\n",
      "  Downloading transformers-4.38.2-py3-none-any.whl.metadata (130 kB)\n",
      "\u001b[2K     \u001b[90m━━━━━━━━━━━━━━━━━━━━━━━━━━━━━━━━━━━━━━━\u001b[0m \u001b[32m130.7/130.7 kB\u001b[0m \u001b[31m6.2 MB/s\u001b[0m eta \u001b[36m0:00:00\u001b[0m\n",
      "\u001b[?25hRequirement already satisfied: filelock in /home/sush/miniconda3/envs/htrflow/lib/python3.11/site-packages (from transformers) (3.13.1)\n",
      "Collecting huggingface-hub<1.0,>=0.19.3 (from transformers)\n",
      "  Downloading huggingface_hub-0.21.4-py3-none-any.whl.metadata (13 kB)\n",
      "Requirement already satisfied: numpy>=1.17 in /home/sush/miniconda3/envs/htrflow/lib/python3.11/site-packages (from transformers) (1.25.0)\n",
      "Requirement already satisfied: packaging>=20.0 in /home/sush/miniconda3/envs/htrflow/lib/python3.11/site-packages (from transformers) (23.1)\n",
      "Requirement already satisfied: pyyaml>=5.1 in /home/sush/miniconda3/envs/htrflow/lib/python3.11/site-packages (from transformers) (6.0.1)\n",
      "Requirement already satisfied: regex!=2019.12.17 in /home/sush/miniconda3/envs/htrflow/lib/python3.11/site-packages (from transformers) (2023.12.25)\n",
      "Requirement already satisfied: requests in /home/sush/miniconda3/envs/htrflow/lib/python3.11/site-packages (from transformers) (2.31.0)\n",
      "Collecting tokenizers<0.19,>=0.14 (from transformers)\n",
      "  Downloading tokenizers-0.15.2-cp311-cp311-manylinux_2_17_x86_64.manylinux2014_x86_64.whl.metadata (6.7 kB)\n",
      "Requirement already satisfied: safetensors>=0.4.1 in /home/sush/miniconda3/envs/htrflow/lib/python3.11/site-packages (from transformers) (0.4.2)\n",
      "Requirement already satisfied: tqdm>=4.27 in /home/sush/miniconda3/envs/htrflow/lib/python3.11/site-packages (from transformers) (4.66.2)\n",
      "Requirement already satisfied: fsspec>=2023.5.0 in /home/sush/miniconda3/envs/htrflow/lib/python3.11/site-packages (from huggingface-hub<1.0,>=0.19.3->transformers) (2023.6.0)\n",
      "Requirement already satisfied: typing-extensions>=3.7.4.3 in /home/sush/miniconda3/envs/htrflow/lib/python3.11/site-packages (from huggingface-hub<1.0,>=0.19.3->transformers) (4.9.0)\n",
      "Requirement already satisfied: charset-normalizer<4,>=2 in /home/sush/miniconda3/envs/htrflow/lib/python3.11/site-packages (from requests->transformers) (2.0.4)\n",
      "Requirement already satisfied: idna<4,>=2.5 in /home/sush/miniconda3/envs/htrflow/lib/python3.11/site-packages (from requests->transformers) (3.4)\n",
      "Requirement already satisfied: urllib3<3,>=1.21.1 in /home/sush/miniconda3/envs/htrflow/lib/python3.11/site-packages (from requests->transformers) (2.1.0)\n",
      "Requirement already satisfied: certifi>=2017.4.17 in /home/sush/miniconda3/envs/htrflow/lib/python3.11/site-packages (from requests->transformers) (2024.2.2)\n",
      "Downloading transformers-4.38.2-py3-none-any.whl (8.5 MB)\n",
      "\u001b[2K   \u001b[90m━━━━━━━━━━━━━━━━━━━━━━━━━━━━━━━━━━━━━━━━\u001b[0m \u001b[32m8.5/8.5 MB\u001b[0m \u001b[31m67.7 MB/s\u001b[0m eta \u001b[36m0:00:00\u001b[0m00:01\u001b[0m00:01\u001b[0m\n",
      "\u001b[?25hDownloading huggingface_hub-0.21.4-py3-none-any.whl (346 kB)\n",
      "\u001b[2K   \u001b[90m━━━━━━━━━━━━━━━━━━━━━━━━━━━━━━━━━━━━━━━━\u001b[0m \u001b[32m346.4/346.4 kB\u001b[0m \u001b[31m71.4 MB/s\u001b[0m eta \u001b[36m0:00:00\u001b[0m\n",
      "\u001b[?25hDownloading tokenizers-0.15.2-cp311-cp311-manylinux_2_17_x86_64.manylinux2014_x86_64.whl (3.6 MB)\n",
      "\u001b[2K   \u001b[90m━━━━━━━━━━━━━━━━━━━━━━━━━━━━━━━━━━━━━━━━\u001b[0m \u001b[32m3.6/3.6 MB\u001b[0m \u001b[31m96.3 MB/s\u001b[0m eta \u001b[36m0:00:00\u001b[0m:00:01\u001b[0m\n",
      "\u001b[?25hInstalling collected packages: huggingface-hub, tokenizers, transformers\n",
      "  Attempting uninstall: huggingface-hub\n",
      "    Found existing installation: huggingface-hub 0.15.1\n",
      "    Uninstalling huggingface-hub-0.15.1:\n",
      "      Successfully uninstalled huggingface-hub-0.15.1\n",
      "  Attempting uninstall: tokenizers\n",
      "    Found existing installation: tokenizers 0.13.3\n",
      "    Uninstalling tokenizers-0.13.3:\n",
      "      Successfully uninstalled tokenizers-0.13.3\n",
      "  Attempting uninstall: transformers\n",
      "    Found existing installation: transformers 4.30.2\n",
      "    Uninstalling transformers-4.30.2:\n",
      "      Successfully uninstalled transformers-4.30.2\n",
      "Successfully installed huggingface-hub-0.21.4 tokenizers-0.15.2 transformers-4.38.2\n"
     ]
    }
   ],
   "source": [
    "!pip install transformers --upgrade"
   ]
  },
  {
   "cell_type": "code",
   "execution_count": 8,
   "id": "2f7b7730-0a42-41bc-a9cd-4326ea18db9d",
   "metadata": {
    "scrolled": true
   },
   "outputs": [
    {
     "name": "stdout",
     "output_type": "stream",
     "text": [
      "Looking in indexes: https://pypi.org/simple/\n",
      "Requirement already satisfied: bitsandbytes in /home/sush/miniconda3/envs/htrflow/lib/python3.11/site-packages (0.43.0)\n",
      "Requirement already satisfied: torch in /home/sush/miniconda3/envs/htrflow/lib/python3.11/site-packages (from bitsandbytes) (2.0.1)\n",
      "Requirement already satisfied: numpy in /home/sush/miniconda3/envs/htrflow/lib/python3.11/site-packages (from bitsandbytes) (1.25.0)\n",
      "Requirement already satisfied: filelock in /home/sush/miniconda3/envs/htrflow/lib/python3.11/site-packages (from torch->bitsandbytes) (3.13.1)\n",
      "Requirement already satisfied: typing-extensions in /home/sush/miniconda3/envs/htrflow/lib/python3.11/site-packages (from torch->bitsandbytes) (4.9.0)\n",
      "Requirement already satisfied: sympy in /home/sush/miniconda3/envs/htrflow/lib/python3.11/site-packages (from torch->bitsandbytes) (1.12)\n",
      "Requirement already satisfied: networkx in /home/sush/miniconda3/envs/htrflow/lib/python3.11/site-packages (from torch->bitsandbytes) (3.2.1)\n",
      "Requirement already satisfied: jinja2 in /home/sush/miniconda3/envs/htrflow/lib/python3.11/site-packages (from torch->bitsandbytes) (3.1.2)\n",
      "Requirement already satisfied: nvidia-cuda-nvrtc-cu11==11.7.99 in /home/sush/miniconda3/envs/htrflow/lib/python3.11/site-packages (from torch->bitsandbytes) (11.7.99)\n",
      "Requirement already satisfied: nvidia-cuda-runtime-cu11==11.7.99 in /home/sush/miniconda3/envs/htrflow/lib/python3.11/site-packages (from torch->bitsandbytes) (11.7.99)\n",
      "Requirement already satisfied: nvidia-cuda-cupti-cu11==11.7.101 in /home/sush/miniconda3/envs/htrflow/lib/python3.11/site-packages (from torch->bitsandbytes) (11.7.101)\n",
      "Requirement already satisfied: nvidia-cudnn-cu11==8.5.0.96 in /home/sush/miniconda3/envs/htrflow/lib/python3.11/site-packages (from torch->bitsandbytes) (8.5.0.96)\n",
      "Requirement already satisfied: nvidia-cublas-cu11==11.10.3.66 in /home/sush/miniconda3/envs/htrflow/lib/python3.11/site-packages (from torch->bitsandbytes) (11.10.3.66)\n",
      "Requirement already satisfied: nvidia-cufft-cu11==10.9.0.58 in /home/sush/miniconda3/envs/htrflow/lib/python3.11/site-packages (from torch->bitsandbytes) (10.9.0.58)\n",
      "Requirement already satisfied: nvidia-curand-cu11==10.2.10.91 in /home/sush/miniconda3/envs/htrflow/lib/python3.11/site-packages (from torch->bitsandbytes) (10.2.10.91)\n",
      "Requirement already satisfied: nvidia-cusolver-cu11==11.4.0.1 in /home/sush/miniconda3/envs/htrflow/lib/python3.11/site-packages (from torch->bitsandbytes) (11.4.0.1)\n",
      "Requirement already satisfied: nvidia-cusparse-cu11==11.7.4.91 in /home/sush/miniconda3/envs/htrflow/lib/python3.11/site-packages (from torch->bitsandbytes) (11.7.4.91)\n",
      "Requirement already satisfied: nvidia-nccl-cu11==2.14.3 in /home/sush/miniconda3/envs/htrflow/lib/python3.11/site-packages (from torch->bitsandbytes) (2.14.3)\n",
      "Requirement already satisfied: nvidia-nvtx-cu11==11.7.91 in /home/sush/miniconda3/envs/htrflow/lib/python3.11/site-packages (from torch->bitsandbytes) (11.7.91)\n",
      "Requirement already satisfied: triton==2.0.0 in /home/sush/miniconda3/envs/htrflow/lib/python3.11/site-packages (from torch->bitsandbytes) (2.0.0)\n",
      "Requirement already satisfied: setuptools in /home/sush/miniconda3/envs/htrflow/lib/python3.11/site-packages (from nvidia-cublas-cu11==11.10.3.66->torch->bitsandbytes) (68.2.2)\n",
      "Requirement already satisfied: wheel in /home/sush/miniconda3/envs/htrflow/lib/python3.11/site-packages (from nvidia-cublas-cu11==11.10.3.66->torch->bitsandbytes) (0.41.2)\n",
      "Requirement already satisfied: cmake in /home/sush/miniconda3/envs/htrflow/lib/python3.11/site-packages (from triton==2.0.0->torch->bitsandbytes) (3.28.3)\n",
      "Requirement already satisfied: lit in /home/sush/miniconda3/envs/htrflow/lib/python3.11/site-packages (from triton==2.0.0->torch->bitsandbytes) (17.0.6)\n",
      "Requirement already satisfied: MarkupSafe>=2.0 in /home/sush/miniconda3/envs/htrflow/lib/python3.11/site-packages (from jinja2->torch->bitsandbytes) (2.1.3)\n",
      "Requirement already satisfied: mpmath>=0.19 in /home/sush/miniconda3/envs/htrflow/lib/python3.11/site-packages (from sympy->torch->bitsandbytes) (1.3.0)\n"
     ]
    }
   ],
   "source": [
    "!pip install -i https://pypi.org/simple/ bitsandbytes"
   ]
  },
  {
   "cell_type": "code",
   "execution_count": 10,
   "id": "d2455671-a4e6-401a-86f0-b944ba7296ad",
   "metadata": {},
   "outputs": [],
   "source": [
    "import transformers\n",
    "import accelerate\n",
    "import torch\n",
    "import flash_attn"
   ]
  },
  {
   "cell_type": "code",
   "execution_count": 11,
   "id": "9796fae2-17f1-4d81-971c-2b06e0af5fa2",
   "metadata": {},
   "outputs": [],
   "source": [
    "import pandas as pd\n",
    "import numpy as np\n",
    "import json"
   ]
  },
  {
   "cell_type": "code",
   "execution_count": null,
   "id": "5eb8c8ba-65a7-499f-af0a-9e99061c435a",
   "metadata": {},
   "outputs": [],
   "source": [
    "tokenizer = transformers.AutoTokenizer.from_pretrained(\"mistralai/Mixtral-8x7B-Instruct-v0.1\", padding_side=\"left\")\n",
    "model = transformers.AutoModelForCausalLM.from_pretrained(\"mistralai/Mixtral-8x7B-Instruct-v0.1\", device_map=\"auto\",\n",
    "            load_in_4bit=True,\n",
    "            bnb_4bit_compute_dtype=torch.float16,\n",
    "            torch_dtype=torch.bfloat16,\n",
    "            # NOTE: FlashAttention 2 for Mistral has been enabled in the latest transformers-release\n",
    "            use_flash_attention_2=True)\n"
   ]
  },
  {
   "cell_type": "code",
   "execution_count": 13,
   "id": "8c3e8876-fcce-4495-a531-adc50c7004d7",
   "metadata": {},
   "outputs": [],
   "source": [
    "def generate_response(prompt, temp, top_p):\n",
    "    input_ids = tokenizer(prompt, return_tensors=\"pt\").input_ids.to('cuda')\n",
    "    outputs = model.generate(\n",
    "        input_ids,\n",
    "        max_length=30000,\n",
    "        pad_token_id=tokenizer.pad_token_id,\n",
    "        eos_token_id=tokenizer.eos_token_id,\n",
    "        temperature = temp,\n",
    "        top_p = top_p,\n",
    "        do_sample = True,\n",
    "    )\n",
    "    response_ids = outputs[0]\n",
    "    response_text = tokenizer.decode(response_ids, skip_special_tokens=True)\n",
    "    return response_text\n"
   ]
  },
  {
   "cell_type": "code",
   "execution_count": 14,
   "id": "75559ca9-5ff9-48e0-bbda-a70836878a7d",
   "metadata": {},
   "outputs": [],
   "source": [
    "system_prompt = \"You are an expert at extracting information from ocr-ed swedish land deeds sales data. You read and understand Swedish text given to you. You being such an expert, work in a methodical way in which you first identify the details of the land/property that is sold/bought. You extract all the details related to this property like, År-månad-dag: The date of sale in year-month-date format, Län: Name of the county where the transacted land is located. Härad: The precinct in which the transacted land is located, Nummer: The number(in the address) of the land that is transacted, By: The village in which the transacted land is located, Socken: The Parish in which the transacted land is located, Jordnatur: The type of the land that is transacted, Mantal: The number of Mantals of the land that is transacted, Örestal: The number of Örestals of the land that is transacted, Penningland: How many Penninglands of the land is transacted, Riksdaler: How many Riksdaler were transacted for the sale, Öre: How many Öre were transacted for the sale, Skilling: How many Skilling were transacted for the sale, Runstycken: How many Runstycken were part of the transaction, Valuta: The type of currency in which the transaction took place, Säljare-manlig: The names of the male-sellers involved in the transaction, Säljare-kvinnlig: The names of the female-sellers involved in the transaction, Köpare-manlig: The names of the male-buyers involved in the transaction, Köpare-kvinnlig: The names of the female buyers involved in the transaction, Köpare-yrke: The occupation of the buyer involved in the transaction, Relation mellan säljare och köpare: The relationship between the seller and the buyer, Köpare från: The name of the place where the buyer hails from, Fördel: Information about the Fördel, Auktion: Information about the auction is used and, if so, whether it was an exekutiv or frivillig auction if it is mentioned. Övrig: Information other than the fields mentioned before identified. Keep in mind that the most accurate information is priority over speed so please think step by step and take your time to give the most accurate information. Also, for some transactions some fields might be empty. Also give the information in JSON format always.\"\n",
    "user_prompt = \"\"\"Extrahera informationen för varje fält och presentera den tydligt i JSON-format. 'Jag undertecknad uplåter och försäljer med min kära hustru ja och samtycke till Johan Hedström i Ståltorp Sura Socken min ägande 1/6 mantal Ett öre åtta penningland i Hemmanet no 2 i Sör åll af Wester färnebo Socken Wagnsbro härad och Westmanland län för en öfverenskommen och betingad köpeskilling stor Ett Tusende fem Hundra R Riksgels Sedlar och som jag denna köpeskilling till fullo bekommit hvilket och härmed quitterat, alltså afhänder jag mig och mina arfvingar ofvannämnde 1 öre 8 penningland, och tillegne desamma bemälte Johan Hedström och deras arfvingar att erlösadeliga äga och disponera som all annan des wälfångna egendom förbindande jag mig till Himmel efter lag, Sör åll den 17 november 1860. Per P. Wrettström Anna /bom/ Persdotter.'\n",
    "Att Per Wrettström och hustru egenhändigt undertek sina bomärken intygas på en gång närvarande vittnen P. Pehrsson Sör Gerdsbo Lars Grönlund på Sunnett.'\"\"\""
   ]
  },
  {
   "cell_type": "code",
   "execution_count": 17,
   "id": "0f185b82-3567-48ef-b72f-5506e7b2eb99",
   "metadata": {},
   "outputs": [],
   "source": [
    "prompt1 = \"Hej!\"\n",
    "response1 = \"Hallå! Hur kan jag hjälpa dig med att exakt extrahera information från svensk text i JSON-format?\"\n",
    "prompt2 =  system_prompt + user_prompt\n",
    "response2 = \"\"\"{\n",
    "  \"År-månad-dag\": \"1860-11-17\",\n",
    "  \"Län\": \"Westmanland\",\n",
    "  \"Härad\": \"Wagnsbro\",\n",
    "  \"Socken\": \"Wester färnebo\",\n",
    "  \"By\": \"Sör åll\",\n",
    "  \"Jordnatur\": \"Hemmanet\",\n",
    "  \"Nummer\": \"2\",\n",
    "  \"Mantal\": \"1/6\",\n",
    "  \"Örestal\": \"1\",\n",
    "  \"Penningland\": \"8\",\n",
    "  \"Riksdaler\": \"1500\",\n",
    "  \"Öre\": \"\",\n",
    "  \"Skilling\": \"\",\n",
    "  \"Runstycken\": \"\",\n",
    "  \"Valuta\": \"Riksgels\",\n",
    "  \"Säljare-manliga\": \"Per Wrettström\",\n",
    "  \"Säljare-kvinnliga\": \"Anna Persdotter\",\n",
    "  \"Köpare-manliga\": \"Johan Hedström\",\n",
    "  \"Köpare-kvinnliga\": \"\",\n",
    "  \"Köpare-yrke\": \"\",\n",
    "  \"Relation mellan säljare och köpare\": \"\",\n",
    "  \"Köpare från\": \"\",\n",
    "  \"Fördel\": \"\",\n",
    "  \"Auktion\": \"\"\n",
    "}\"\"\"\n",
    "prompt3=\"\"\"Extrahera informationen för varje fält och presentera den tydligt i JSON-format. 'Jag Sara Jansdotter upplåter och försäljer härmedelst till min Son Hemmansägaren Johan Mattsson härstädes, det mig i arf efter min aflidne man Hemmansägaren Matts Jansson tillfallne två femton dels mantal af Skattehemmanet no 5, om Sexton penningeland i Islingsby Wester fernebo Socken, Wagnsbro Härad och Westmanlands Län belägen, emot en öfverenskommen och betingad Köpeskilling Stor: Sju Hundra Nio Riksdaler 33 öre Riksmynt, och som jag denna köpeskilling tillfullo bekommit, alltså afhänder jag mig och mina öfrige arfvingar berörde 2/15 dels mantal Islingsby, med allt hvad dertill hörer, af ålder lydt och lagligen tillvinnas kan, och tillegne den samma bemälde min Son Johan Mattsson och hans arfvingar, att genast tillträda, samt everldeliga äga och besitta hafvande till yttermera wisse häraf, jag detta köpebref uti nedanstående wittnens närvaro, med mitt bomärkes undertecknande bekräfta, som skedde i Islingsby Nybygget den 26 februari 1861 Sara/bom/Jansdotter wittnen underskrifna'\"\"\"\n",
    "response3=\"\"\"{\n",
    "  \"År-månad-dag\": \"1861-02-26\",\n",
    "  \"Län\": \"Westmanlands\",\n",
    "  \"Härad\": \"Wagnsbro\",\n",
    "  \"Socken\": \"Wester färnebo\",\n",
    "  \"By\": \"Islingsby\",\n",
    "  \"Jordnatur\": \"Skattehemmanet\",\n",
    "  \"Nummer\": \"5\",\n",
    "  \"Mantal\": \"2/15\",\n",
    "  \"Örestal\": \"\",\n",
    "  \"Penningland\": \"16\",\n",
    "  \"Riksdaler\": \"709\",\n",
    "  \"Öre\": \"33\",\n",
    "  \"Skilling\": \"\",\n",
    "  \"Runstycken\": \"\",\n",
    "  \"Valuta\": \"Riksmynt\",\n",
    "  \"Säljare-manliga\": \"Sara Jansdotter\",\n",
    "  \"Säljare-kvinnliga\": \"\",\n",
    "  \"Köpare-manliga\": \"Johan Mattsson\",\n",
    "  \"Köpare-kvinnliga\": \"\",\n",
    "  \"Köpare-yrke\": \"\",\n",
    "  \"Relation mellan säljare och köpare\": \"Mor och Son\",\n",
    "  \"Köpare från\": \"\",\n",
    "  \"Fördel\": \"\",\n",
    "  \"Auktion\": \"\"\n",
    "}\"\"\"\n",
    "prompt4=\"\"\"'Jag Eric Jansson gör hervid veterligt att jag med min kära hustru Anna Jansdotters goda ja och samtycke samt af fri vilja, försålt, såsom jag ock genom detta öppna salubref, försäljer till min Svärfar Hemmansegaren Jan Ersson och hustru Anna Jansdotter, egona 1/8 mtl skatte Heden om 1 öresland och 1/8 mtl skatte Skogsbyn om 1 öresland i Wester fernebo Socken och Wagnsbro härad för en Summa af Sjutusen femhundra /7500/ Riksdaler Riksmynt och som den … penningen med den första är till mig slutligen betald så afhändar jag mig, min köra hustru och barn tillhörde hemmansdelar 1/8 mlt Heden och 1/8 mtl Skogby med alla dess tillhörigheter och tillägnar de samma Jan Ersson och hustru Anna Jansdotter, Heden och arfvingar med hemmansdelar med alla ägor i hus, jord och öfrige tillhörigheter intet undantagandes af hvad dertill lyder af ålder legat eller framledes tillvinnas kan, att äga och bruka och besitta såsom deras välfångna egendom, förbindande till hemul efter lag – Till yttermera visshet har jag tillika med min kära hustru detta Salubref i undertecknande vittnens närvaro, egenhändigt underskrifvet som skedde på Heden den 2ra januari 1861. Eric Jansson (otydligt) och Heden. Anna /bom/ kattharina Jansdotter\n",
    "Jan Ersson Boende på Heden. Anders Mattsson Hebo egor'\"\"\"\n",
    "response4= \"\"\"{\n",
    "  \"År-månad-dag\": \"1861-01-02\",\n",
    "  \"Län\": \"Westmanlands\",\n",
    "  \"Härad\": \"Wagnsbro\",\n",
    "  \"Socken\": \"Wester färnebo\",\n",
    "  \"By\": \"Heden\",\n",
    "  \"Jordnatur\": \"Skatte\",\n",
    "  \"Nummer\": \"\",\n",
    "  \"Mantal\": \"1/8\",\n",
    "  \"Örestal\": \"1\",\n",
    "  \"Penningland\": \"\",\n",
    "  \"Riksdaler\": \"7500\",\n",
    "  \"Öre\": \"\",\n",
    "  \"Skilling\": \"\",\n",
    "  \"Runstycken\": \"\",\n",
    "  \"Valuta\": \"Riksmynt\",\n",
    "  \"Säljare-manliga\": \"Eric Jansson\",\n",
    "  \"Säljare-kvinnliga\": \"Anna Jansdotters\",\n",
    "  \"Köpare-manliga\": \"Jan Ersson\",\n",
    "  \"Köpare-kvinnliga\": \"Anna Jansdotter\",\n",
    "  \"Köpare-yrke\": \"\",\n",
    "  \"Relation mellan säljare och köpare\": \"Svärfar och Svärson\",\n",
    "  \"Köpare från\": \"\",\n",
    "  \"Fördel\": \"\",\n",
    "  \"Auktion\": \"\"\n",
    "}\"\"\"\n",
    "prompt5=\"Jag Per Gustaf Hedberg tillika med min hustrus Christina Carolina Gerdtsdotter samtycke upplåter och försäljer till Per Gustaf Ersson och dess hustru Lovisa Ersdotter Klingholmen vårt uti Labodarne ägande Ett Trettiondetvånde dels Hemman med dertill hörande inägojord skog och mark beläget inom Karbennings Socken dock likväl Wagnsbro Härad emot en överenskommen och betingad köpeskilling stor Ett Tusen Två Hundrade Riksdaler Riksmynt, Och som denna köpeskilling 1200 Rd Rmt är uti ett särskildt köpekontrakt häröfver af denna dag upptagen så varder den derigenom här qvitterad. Alltså afhänder vi oss och våra efter-kommande berörde 1/32de dels Hemman med åtföljande förmoner samt alt hvad hädanefter lagligen tillvinnas kan till bemälte Per Gustaf Ersson dess hustru och efterkommande rätts innehafvare att everlderligen äga bruka och besitta, förbindande vi oss till Himmel efter lag hvadan vi uti tvenne tillkallade wittnens när och öfvervaro underskrifne som skedde uti Karbenningby den 19 januari 1861 Per Gustaf Hedberg Christina Carolina Gerdtsdotter i Karbenningby Wittnar Lars Eric Larsson Lars Starksson.\""
   ]
  },
  {
   "cell_type": "code",
   "execution_count": 19,
   "id": "df8543e6-7a48-497a-bacf-44413259ab57",
   "metadata": {},
   "outputs": [],
   "source": [
    "sys_response1 = \"Hi! I extract various information from Swedish land sales deeds. How may I help you today?\"\n",
    "pre_prompt = \"Extract all the information from the following text, Your work is very important to my career. Make sure the information is precise and accurate. Text: \"\n"
   ]
  },
  {
   "cell_type": "code",
   "execution_count": null,
   "id": "2c8c877e-c4db-46a5-8676-38b65fe236df",
   "metadata": {},
   "outputs": [],
   "source": [
    "\n",
    "# Initialize a list to collect data\n",
    "extracted_data = []\n",
    "\n",
    "# Loop through each text in the DataFrame\n",
    "for text in texts:\n",
    "    # Construct the multi-turn prompt\n",
    "    #multi_turn_prompt = f\"GPT4 Correct System: {system_prompt}<|end_of_turn|>GPT4 Correct User: {prompt1}<|end_of_turn|>GPT4 Correct Assistant: {response1}<|end_of_turn|>GPT4 Correct User: {prompt2}<|end_of_turn|>GPT4 Correct Assistant: {response2}<|end_of_turn|>GPT4 Correct User: {prompt3}<|end_of_turn|>GPT4 Correct Assistant: {response3}<|end_of_turn|>GPT4 Correct User: {prompt4}<|end_of_turn|>GPT4 Correct Assistant:{response4}<|end_of_turn|>GPT4 Correct User: {text}<|end_of_turn|>GPT4 Correct Assistant:\"\n",
    "    messages = [\n",
    "    {\n",
    "        \"role\": \"user\",\n",
    "        \"content\": system_prompt,\n",
    "    },\n",
    "    {\n",
    "        \"role\": \"assistant\",\n",
    "        \"content\": sys_response1,\n",
    "    },\n",
    "    {\"role\": \"user\", \"content\": pre_prompt+prompt2},\n",
    "    {\n",
    "        \"role\": \"assistant\",\n",
    "        \"content\": response2,\n",
    "    },\n",
    "    {\"role\": \"user\", \"content\": pre_prompt+prompt3},\n",
    "    {\n",
    "        \"role\": \"assistant\",\n",
    "        \"content\": response3,\n",
    "    },\n",
    "    {\"role\": \"user\", \"content\": pre_prompt+prompt4},\n",
    "    {\n",
    "        \"role\": \"assistant\",\n",
    "        \"content\": response4,\n",
    "    },\n",
    "    {\n",
    "        \"role\": \"user\",\n",
    "        \"content\": pre_prompt+text,\n",
    "    },\n",
    "    \n",
    "    ]\n",
    "    prompt=tokenizer.apply_chat_template(messages, tokenize=False)\n",
    "    # Generate the response\n",
    "    response_text = generate_response(prompt, temp=0.8, top_p=0.8)#modify the parameters based on the type of response needed *high temp is high creativity *high p is high vocabulary\n",
    "    print()\n",
    "    \n",
    "    #print('{'+response_text.split('}')[-2].split('{')[-1]+'}')\n",
    "    \n",
    "    # Parse JSON and add to the list\n",
    "    try:\n",
    "        # Extract JSON from the response\n",
    "        #json_data = json.loads('{'+response_text.split('}')[-2].split('{')[-1]+'}')\n",
    "        json_data = parse_nested_json(response_text)\n",
    "        json_data['text'] = text\n",
    "        #print(json_data)\n",
    "        extracted_data.append(json_data)\n",
    "        print('Row added!')\n",
    "    except json.JSONDecodeError:\n",
    "        json_data['text'] = text\n",
    "        extracted_data.append(json_data)\n",
    "        print(\"Error parsing JSON for response: \", response_text)\n",
    "\n",
    "# Create a DataFrame from the collected data\n",
    "df_extracted_hightp_mix_np = pd.DataFrame(extracted_data)\n",
    "\n",
    "\n",
    "# Create a DataFrame from the collected data *Uncomment the following to export to excel and csv\n",
    "'''df_extracted_hightp_mix_np = pd.DataFrame(extracted_data)\n",
    "df_extracted_hightp_mix_np.to_csv('df_extracted_hightp_mix_np.csv')\n",
    "df_extracted_hightp_mix_np.to_excel('df_extracted_hightp_mix_np.xlsx')\n",
    "'''"
   ]
  },
  {
   "cell_type": "code",
   "execution_count": null,
   "id": "94de9d8b-da7a-44cf-a8cc-c2a99ed9da69",
   "metadata": {},
   "outputs": [],
   "source": []
  }
 ],
 "metadata": {
  "kernelspec": {
   "display_name": "Python 3 (ipykernel)",
   "language": "python",
   "name": "python3"
  },
  "language_info": {
   "codemirror_mode": {
    "name": "ipython",
    "version": 3
   },
   "file_extension": ".py",
   "mimetype": "text/x-python",
   "name": "python",
   "nbconvert_exporter": "python",
   "pygments_lexer": "ipython3",
   "version": "3.11.7"
  }
 },
 "nbformat": 4,
 "nbformat_minor": 5
}
